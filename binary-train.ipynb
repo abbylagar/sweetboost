{
 "cells": [
  {
   "cell_type": "code",
   "execution_count": 1,
   "id": "cba12893-0de9-4405-a7d5-f3db006b2dee",
   "metadata": {},
   "outputs": [],
   "source": [
    "import pandas as pd"
   ]
  },
  {
   "cell_type": "code",
   "execution_count": 29,
   "id": "ec99d943-0c11-4960-884b-9157ddde5dc2",
   "metadata": {},
   "outputs": [
    {
     "name": "stderr",
     "output_type": "stream",
     "text": [
      "/var/folders/v6/r0fxlspx31j27x6g02zq7kmc0000gn/T/ipykernel_17234/2905487981.py:1: DtypeWarning: Columns (92,93,94,95,96,97,98,99,100,101,102,103,104,105,106,107,108,109,110,111,112,113,114,115,116,117,118,138,139,140,141,147,148,149,150,165,166,167,168,174,175,176,177,183,184,185,186,191,192,193,194,195,200,201,202,203,204,209,210,211,212,213,219,220,221,222,228,229,230,231,236,237,238,239,240,241,242,243,244,299,300,301,302,303,304,305,306,307,308,309,310,311,312,313,314,315,316,317,318,319,320,321,322,323,324,325,344,345,346,347,348,354,355,356,357,363,364,365,366,381,382,383,384,390,391,392,393,399,400,401,402,407,408,409,410,411,416,417,418,419,420,425,426,427,428,429,435,436,437,438,444,445,446,447,452,453,454,455,460,461,462,463,468,469,470,471,484,485,486,487,492,493,494,495,500,501,502,503,508,509,510,511,516,517,518,519,524,525,526,527,532,533,534,535,540,541,542,543,548,549,550,551,556,557,558,559,564,565,566,567,580,581,582,583,588,589,590,591,596,597,598,599,604,605,606,607,612,613,614,615,620,621,622,623,628,629,630,631,636,637,638,639,818,819,835,870,871,886,887,896,897,898,904,905,906,1321,1322,1323,1324,1325,1326,1327,1328,1329,1330,1331,1332,1351,1352,1768,1796,1797,1799) have mixed types. Specify dtype option on import or set low_memory=False.\n",
      "  df_sweet = pd.read_csv('./mordred/sweet_descriptor.csv')\n",
      "/var/folders/v6/r0fxlspx31j27x6g02zq7kmc0000gn/T/ipykernel_17234/2905487981.py:2: DtypeWarning: Columns (92,93,94,95,96,97,98,99,100,101,102,103,104,105,106,107,108,109,110,111,112,113,114,115,116,117,118,138,139,140,141,147,148,149,150,165,166,167,168,174,175,176,177,183,184,185,186,191,192,193,194,195,200,201,202,203,204,209,210,211,212,213,219,220,221,222,228,229,230,231,236,237,238,239,240,241,242,243,244,299,300,301,302,303,304,305,306,307,308,309,310,311,312,313,314,315,316,317,318,319,320,321,322,323,324,325,344,345,346,347,348,354,355,356,357,363,364,365,366,381,382,383,384,390,391,392,393,399,400,401,402,407,408,409,410,411,416,417,418,419,420,425,426,427,428,429,435,436,437,438,444,445,446,447,452,453,454,455,460,461,462,463,468,469,470,471,484,485,486,487,492,493,494,495,500,501,502,503,508,509,510,511,516,517,518,519,524,525,526,527,532,533,534,535,540,541,542,543,548,549,550,551,556,557,558,559,564,565,566,567,580,581,582,583,588,589,590,591,596,597,598,599,604,605,606,607,612,613,614,615,620,621,622,623,628,629,630,631,636,637,638,639,818,819,835,870,871,872,886,887,888,896,897,898,904,905,906,1321,1322,1323,1324,1325,1326,1327,1328,1329,1330,1331,1332,1351,1352,1353,1768,1796,1797,1799) have mixed types. Specify dtype option on import or set low_memory=False.\n",
      "  df_bitter = pd.read_csv('./mordred/bitter_descriptor.csv')\n"
     ]
    }
   ],
   "source": [
    "df_sweet = pd.read_csv('./mordred/sweet_descriptor.csv')\n",
    "df_bitter = pd.read_csv('./mordred/bitter_descriptor.csv')"
   ]
  },
  {
   "cell_type": "code",
   "execution_count": 51,
   "id": "a1483603-9300-4f26-b5c3-dfe5f174ed94",
   "metadata": {},
   "outputs": [],
   "source": [
    "df_sweet_features = df_sweet[df_sweet.columns.difference(['Name', 'SMILES','Canonical SMILES'])]\n",
    "df_bitter_features = df_bitter[df_bitter.columns.difference(['Name', 'SMILES','Canonical SMILES'])]\n",
    "\n",
    "df_sweet_features = df_sweet_features.drop('Target', axis=1)\n",
    "df_bitter_features = df_bitter_features.drop('Target', axis=1)"
   ]
  },
  {
   "cell_type": "code",
   "execution_count": 52,
   "id": "9497e2f7-eefe-4897-9402-e3c173cccc2d",
   "metadata": {},
   "outputs": [],
   "source": [
    "df_sweet_features.apply(lambda x: pd.to_numeric(x, errors='coerce') )\n",
    "mask_sweet = df_sweet_features.applymap(lambda x: isinstance(x, (int, float)))\n",
    "df_sweet_features = df_sweet_features.where(mask_sweet)\n",
    "\n",
    "df_bitter_features.apply(lambda x: pd.to_numeric(x, errors='coerce') )\n",
    "mask_bitter = df_bitter_features.applymap(lambda x: isinstance(x, (int, float)))\n",
    "df_bitter_features = df_bitter_features.where(mask_bitter)"
   ]
  },
  {
   "cell_type": "code",
   "execution_count": 53,
   "id": "b9adf373-5cde-434b-8618-5028ac1ce427",
   "metadata": {},
   "outputs": [],
   "source": [
    "df_sweet_set = pd.concat([df_sweet[['Name', 'SMILES','Canonical SMILES']], df_sweet_features], axis=1)\n",
    "df_bitter_set = pd.concat([df_bitter[['Name', 'SMILES','Canonical SMILES']], df_bitter_features], axis=1)"
   ]
  },
  {
   "cell_type": "code",
   "execution_count": 54,
   "id": "4d2db383-81f0-44dc-b044-8cd5c33e25eb",
   "metadata": {},
   "outputs": [],
   "source": [
    "from sklearn.model_selection import train_test_split\n",
    "X_train_sweet, X_test_sweet, y_train_sweet, y_test_sweet = train_test_split(df_sweet_features, df_sweet[['Target']], test_size=0.2, random_state=42)\n",
    "X_train_bitter, X_test_bitter, y_train_bitter, y_test_bitter = train_test_split(df_bitter_features, df_bitter[['Target']], test_size=0.2, random_state=42)\n"
   ]
  },
  {
   "cell_type": "code",
   "execution_count": 84,
   "id": "f8b11667-327f-4da4-8be4-570496f5a075",
   "metadata": {},
   "outputs": [],
   "source": [
    "import numpy as np\n",
    "from sklearn.impute import KNNImputer\n",
    "from sklearn.impute import SimpleImputer\n",
    "# sweet_imputer = SimpleImputer(missing_values=np.nan, strategy='median')\n",
    "# bitter_imputer = SimpleImputer(missing_values=np.nan, strategy='median')\n",
    "sweet_imputer = KNNImputer(n_neighbors=8, weights=\"uniform\")\n",
    "bitter_imputer = KNNImputer(n_neighbors=8, weights=\"uniform\")"
   ]
  },
  {
   "cell_type": "code",
   "execution_count": 85,
   "id": "3746b319-492d-4c13-89e7-90f27c38e9ce",
   "metadata": {},
   "outputs": [],
   "source": [
    "X_train_sweet_tf = sweet_imputer.fit_transform(X_train_sweet)\n",
    "X_test_sweet_tf = sweet_imputer.transform(X_test_sweet)\n",
    "\n",
    "X_train_bitter_tf = bitter_imputer.fit_transform(X_train_bitter)\n",
    "X_test_bitter_tf = bitter_imputer.transform(X_test_bitter)"
   ]
  },
  {
   "cell_type": "markdown",
   "id": "83e0f2c1-8870-4765-a328-0022ea6773a3",
   "metadata": {},
   "source": [
    "## Model Training"
   ]
  },
  {
   "cell_type": "code",
   "execution_count": 86,
   "id": "6392819c-87b1-4150-b44f-753fe8eb3f1e",
   "metadata": {},
   "outputs": [],
   "source": [
    "from sklearn.metrics import accuracy_score, precision_score, average_precision_score"
   ]
  },
  {
   "cell_type": "code",
   "execution_count": 87,
   "id": "e21d7686-f552-44f8-8dd7-f5448f50128c",
   "metadata": {},
   "outputs": [],
   "source": [
    "def evaluate(model, X_train, y_train, X_test, y_test):\n",
    "    model.fit(X_train, y_train)\n",
    "    y_pred = model.predict(X_test)\n",
    "\n",
    "    print(\"Accuracy:\",accuracy_score(y_test,y_pred))\n",
    "    print(\"Precision:\",precision_score(y_test,y_pred))\n",
    "    print(\"Average Precision:\",average_precision_score(y_test,y_pred))"
   ]
  },
  {
   "cell_type": "code",
   "execution_count": 88,
   "id": "7505b14a-c811-4015-9c06-91e9abc20407",
   "metadata": {},
   "outputs": [],
   "source": [
    "from xgboost import XGBClassifier\n",
    "\n",
    "clf_xgboost = XGBClassifier()"
   ]
  },
  {
   "cell_type": "code",
   "execution_count": 89,
   "id": "ab7e15f0-febe-4f66-b52e-ebc5c25dd7ff",
   "metadata": {},
   "outputs": [],
   "source": [
    "from catboost import CatBoostClassifier\n",
    "\n",
    "clf_catboost = CatBoostClassifier(\n",
    "    iterations=100, \n",
    "    learning_rate=0.2, \n",
    "    logging_level='Silent'\n",
    ")"
   ]
  },
  {
   "cell_type": "code",
   "execution_count": 90,
   "id": "1c0bf821-9a82-4d3d-b94c-468a7373d75c",
   "metadata": {},
   "outputs": [],
   "source": [
    "from sklearn.ensemble import RandomForestClassifier\n",
    "\n",
    "clf_rf = RandomForestClassifier(\n",
    "    n_estimators=250\n",
    ")"
   ]
  },
  {
   "cell_type": "code",
   "execution_count": 91,
   "id": "178e708d-a9dc-4fc3-8e0a-b0efb5806933",
   "metadata": {},
   "outputs": [
    {
     "name": "stdout",
     "output_type": "stream",
     "text": [
      "Evaluating XGBoost\n",
      "Accuracy: 0.8888888888888888\n",
      "Precision: 0.8875968992248062\n",
      "Average Precision: 0.855731370266254\n",
      "Evaluating CatBoost\n",
      "Accuracy: 0.8846153846153846\n",
      "Precision: 0.8778625954198473\n",
      "Average Precision: 0.8482323444155506\n",
      "Evaluating RandomForest\n"
     ]
    },
    {
     "name": "stderr",
     "output_type": "stream",
     "text": [
      "/var/folders/v6/r0fxlspx31j27x6g02zq7kmc0000gn/T/ipykernel_17234/2116390059.py:2: DataConversionWarning: A column-vector y was passed when a 1d array was expected. Please change the shape of y to (n_samples,), for example using ravel().\n",
      "  model.fit(X_train, y_train)\n"
     ]
    },
    {
     "name": "stdout",
     "output_type": "stream",
     "text": [
      "Accuracy: 0.8867521367521367\n",
      "Precision: 0.8932806324110671\n",
      "Average Precision: 0.8566723131940523\n"
     ]
    }
   ],
   "source": [
    "print(\"Evaluating XGBoost\")\n",
    "evaluate(clf_xgboost, X_train_sweet_tf, y_train_sweet, X_test_sweet_tf, y_test_sweet)\n",
    "\n",
    "print(\"Evaluating CatBoost\")\n",
    "evaluate(clf_catboost, X_train_sweet_tf, y_train_sweet, X_test_sweet_tf, y_test_sweet)\n",
    "\n",
    "print(\"Evaluating RandomForest\")\n",
    "evaluate(clf_rf, X_train_sweet_tf, y_train_sweet, X_test_sweet_tf, y_test_sweet)"
   ]
  },
  {
   "cell_type": "code",
   "execution_count": null,
   "id": "c4eed85a-d4f6-4791-abf3-4a29923f69d6",
   "metadata": {},
   "outputs": [],
   "source": []
  }
 ],
 "metadata": {
  "kernelspec": {
   "display_name": "Python 3 (ipykernel)",
   "language": "python",
   "name": "python3"
  },
  "language_info": {
   "codemirror_mode": {
    "name": "ipython",
    "version": 3
   },
   "file_extension": ".py",
   "mimetype": "text/x-python",
   "name": "python",
   "nbconvert_exporter": "python",
   "pygments_lexer": "ipython3",
   "version": "3.9.13"
  }
 },
 "nbformat": 4,
 "nbformat_minor": 5
}
