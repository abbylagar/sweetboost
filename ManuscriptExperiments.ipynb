{
  "cells": [
    {
      "cell_type": "code",
      "execution_count": null,
      "metadata": {
        "id": "jSoT4x_dku5y"
      },
      "outputs": [],
      "source": [
        "!pip install catboost BorutaShap"
      ]
    },
    {
      "cell_type": "code",
      "execution_count": null,
      "metadata": {
        "id": "gkkFcDFGx1q7"
      },
      "outputs": [],
      "source": [
        "!pip install scikit-learn==1.2.0"
      ]
    },
    {
      "cell_type": "code",
      "execution_count": 2,
      "metadata": {
        "colab": {
          "base_uri": "https://localhost:8080/"
        },
        "id": "FONrhsPKaAi2",
        "outputId": "d9e9e775-ee90-4253-9454-6c3d608c4c5c"
      },
      "outputs": [
        {
          "output_type": "stream",
          "name": "stdout",
          "text": [
            "Mounted at /content/drive\n"
          ]
        }
      ],
      "source": [
        "from google.colab import drive\n",
        "drive.mount('/content/drive')"
      ]
    },
    {
      "cell_type": "code",
      "execution_count": 3,
      "metadata": {
        "colab": {
          "base_uri": "https://localhost:8080/"
        },
        "id": "dKMEPwbAbKso",
        "outputId": "77730818-fd91-42e7-8911-8f88d2e60bc5"
      },
      "outputs": [
        {
          "output_type": "stream",
          "name": "stdout",
          "text": [
            "/content/drive/MyDrive/Colab Notebooks/Machine Learning Projects/sweetboost\n"
          ]
        }
      ],
      "source": [
        "cd \"/content/drive/MyDrive/Colab Notebooks/Machine Learning Projects/sweetboost\""
      ]
    },
    {
      "cell_type": "markdown",
      "metadata": {
        "id": "KVPxUZwMb9Ak"
      },
      "source": [
        "Data from https://github.com/cosylabiiit/bittersweet"
      ]
    },
    {
      "cell_type": "code",
      "execution_count": 4,
      "metadata": {
        "id": "aqwtn450eJs1"
      },
      "outputs": [],
      "source": [
        "import pandas as pd\n",
        "import numpy as np\n",
        "import warnings\n",
        "warnings.filterwarnings('ignore') # To suppress runtime and deprication warnings. "
      ]
    },
    {
      "cell_type": "code",
      "execution_count": 5,
      "metadata": {
        "id": "zRr8MHpKR7bK"
      },
      "outputs": [],
      "source": [
        "import sklearn"
      ]
    },
    {
      "cell_type": "code",
      "execution_count": 6,
      "metadata": {
        "colab": {
          "base_uri": "https://localhost:8080/",
          "height": 35
        },
        "id": "hCACPFmZR5uY",
        "outputId": "d6b4c725-2b1c-4a7d-8558-335ae20eb02a"
      },
      "outputs": [
        {
          "output_type": "execute_result",
          "data": {
            "text/plain": [
              "'1.0.2'"
            ],
            "application/vnd.google.colaboratory.intrinsic+json": {
              "type": "string"
            }
          },
          "metadata": {},
          "execution_count": 6
        }
      ],
      "source": [
        "sklearn.__version__"
      ]
    },
    {
      "cell_type": "markdown",
      "metadata": {
        "id": "zQdWMbJYkjwB"
      },
      "source": [
        "# Load Data"
      ]
    },
    {
      "cell_type": "markdown",
      "metadata": {
        "id": "UmkkzQ4ucwhp"
      },
      "source": [
        "Dragon3D data"
      ]
    },
    {
      "cell_type": "code",
      "execution_count": 7,
      "metadata": {
        "id": "-1Z3lGvHcjck"
      },
      "outputs": [],
      "source": [
        "# Load raw data.\n",
        "bitter_train = pd.read_csv('manuscript - experiments/bitter-data/model-data-dragon_3d.tsv', sep='\\t')\n",
        "bitter_test = pd.read_csv('manuscript - experiments/bitter-data/gold-standard-dragon_3d.tsv', sep='\\t')\n",
        "sweet_test = pd.read_csv('manuscript - experiments/sweet-data/gold-standard-dragon_3d.tsv', sep='\\t')\n",
        "sweet_train = pd.read_csv('manuscript - experiments/sweet-data/model-data-dragon_3d.tsv', sep='\\t')"
      ]
    },
    {
      "cell_type": "code",
      "execution_count": 8,
      "metadata": {
        "colab": {
          "base_uri": "https://localhost:8080/"
        },
        "id": "qFOMY_nnfStt",
        "outputId": "f6032945-2b65-424b-ab49-022ea4a9e184"
      },
      "outputs": [
        {
          "output_type": "stream",
          "name": "stdout",
          "text": [
            "(2135, 5096)\n",
            "(171, 5097)\n",
            "(2090, 5096)\n",
            "(154, 5097)\n"
          ]
        }
      ],
      "source": [
        "print(bitter_train.shape)\n",
        "print(bitter_test.shape)\n",
        "print(sweet_train.shape)\n",
        "print(sweet_test.shape)"
      ]
    },
    {
      "cell_type": "code",
      "execution_count": 9,
      "metadata": {
        "id": "cJcxu4M3cRYp"
      },
      "outputs": [],
      "source": [
        "# Rename taste column as Target.\n",
        "sweet_train.rename(columns={'taste':'Target'}, inplace=True)\n",
        "sweet_test.rename(columns={'taste':'Target'}, inplace=True)\n",
        "bitter_train.rename(columns={'taste':'Target'}, inplace=True)\n",
        "bitter_test.rename(columns={'taste':'Target'}, inplace=True)\n",
        "\n",
        "\n",
        "sweet_train.rename(columns={'smiles':'SMILES'}, inplace=True)\n",
        "sweet_test.rename(columns={'smiles':'SMILES'}, inplace=True)\n",
        "bitter_train.rename(columns={'smiles':'SMILES'}, inplace=True)\n",
        "bitter_test.rename(columns={'smiles':'SMILES'}, inplace=True)"
      ]
    },
    {
      "cell_type": "code",
      "execution_count": 10,
      "metadata": {
        "colab": {
          "base_uri": "https://localhost:8080/",
          "height": 368
        },
        "id": "SrhEYcnw0uk7",
        "outputId": "c9cb9272-23aa-49db-875d-72715de43280"
      },
      "outputs": [
        {
          "output_type": "stream",
          "name": "stdout",
          "text": [
            "name            1993\n",
            "orig_taste      2090\n",
            "reference       2090\n",
            "SMILES          2090\n",
            "can-smiles      2090\n",
            "                ... \n",
            "CATS3D_15_LL    2090\n",
            "CATS3D_16_LL    2090\n",
            "CATS3D_17_LL    2090\n",
            "CATS3D_18_LL    2090\n",
            "CATS3D_19_LL    2090\n",
            "Length: 5096, dtype: int64\n"
          ]
        },
        {
          "output_type": "execute_result",
          "data": {
            "text/plain": [
              "Empty DataFrame\n",
              "Columns: [name, orig_taste, reference, SMILES, can-smiles, Target, orig_idx, ITH, ISH, HIC, HGM, H0u, H1u, H2u, H3u, H4u, H5u, H6u, H7u, H8u, HTu, HATS0u, HATS1u, HATS2u, HATS3u, HATS4u, HATS5u, HATS6u, HATS7u, HATS8u, HATSu, H0m, H1m, H2m, H3m, H4m, H5m, H6m, H7m, H8m, HTm, HATS0m, HATS1m, HATS2m, HATS3m, HATS4m, HATS5m, HATS6m, HATS7m, HATS8m, HATSm, H0v, H1v, H2v, H3v, H4v, H5v, H6v, H7v, H8v, HTv, HATS0v, HATS1v, HATS2v, HATS3v, HATS4v, HATS5v, HATS6v, HATS7v, HATS8v, HATSv, H0e, H1e, H2e, H3e, H4e, H5e, H6e, H7e, H8e, HTe, HATS0e, HATS1e, HATS2e, HATS3e, HATS4e, HATS5e, HATS6e, HATS7e, HATS8e, HATSe, H0p, H1p, H2p, H3p, H4p, H5p, H6p, H7p, H8p, ...]\n",
              "Index: []\n",
              "\n",
              "[0 rows x 5096 columns]"
            ],
            "text/html": [
              "\n",
              "  <div id=\"df-8f0b21d1-ae38-4f1a-b95c-f69aca9a883c\">\n",
              "    <div class=\"colab-df-container\">\n",
              "      <div>\n",
              "<style scoped>\n",
              "    .dataframe tbody tr th:only-of-type {\n",
              "        vertical-align: middle;\n",
              "    }\n",
              "\n",
              "    .dataframe tbody tr th {\n",
              "        vertical-align: top;\n",
              "    }\n",
              "\n",
              "    .dataframe thead th {\n",
              "        text-align: right;\n",
              "    }\n",
              "</style>\n",
              "<table border=\"1\" class=\"dataframe\">\n",
              "  <thead>\n",
              "    <tr style=\"text-align: right;\">\n",
              "      <th></th>\n",
              "      <th>name</th>\n",
              "      <th>orig_taste</th>\n",
              "      <th>reference</th>\n",
              "      <th>SMILES</th>\n",
              "      <th>can-smiles</th>\n",
              "      <th>Target</th>\n",
              "      <th>orig_idx</th>\n",
              "      <th>ITH</th>\n",
              "      <th>ISH</th>\n",
              "      <th>HIC</th>\n",
              "      <th>...</th>\n",
              "      <th>CATS3D_10_LL</th>\n",
              "      <th>CATS3D_11_LL</th>\n",
              "      <th>CATS3D_12_LL</th>\n",
              "      <th>CATS3D_13_LL</th>\n",
              "      <th>CATS3D_14_LL</th>\n",
              "      <th>CATS3D_15_LL</th>\n",
              "      <th>CATS3D_16_LL</th>\n",
              "      <th>CATS3D_17_LL</th>\n",
              "      <th>CATS3D_18_LL</th>\n",
              "      <th>CATS3D_19_LL</th>\n",
              "    </tr>\n",
              "  </thead>\n",
              "  <tbody>\n",
              "  </tbody>\n",
              "</table>\n",
              "<p>0 rows × 5096 columns</p>\n",
              "</div>\n",
              "      <button class=\"colab-df-convert\" onclick=\"convertToInteractive('df-8f0b21d1-ae38-4f1a-b95c-f69aca9a883c')\"\n",
              "              title=\"Convert this dataframe to an interactive table.\"\n",
              "              style=\"display:none;\">\n",
              "        \n",
              "  <svg xmlns=\"http://www.w3.org/2000/svg\" height=\"24px\"viewBox=\"0 0 24 24\"\n",
              "       width=\"24px\">\n",
              "    <path d=\"M0 0h24v24H0V0z\" fill=\"none\"/>\n",
              "    <path d=\"M18.56 5.44l.94 2.06.94-2.06 2.06-.94-2.06-.94-.94-2.06-.94 2.06-2.06.94zm-11 1L8.5 8.5l.94-2.06 2.06-.94-2.06-.94L8.5 2.5l-.94 2.06-2.06.94zm10 10l.94 2.06.94-2.06 2.06-.94-2.06-.94-.94-2.06-.94 2.06-2.06.94z\"/><path d=\"M17.41 7.96l-1.37-1.37c-.4-.4-.92-.59-1.43-.59-.52 0-1.04.2-1.43.59L10.3 9.45l-7.72 7.72c-.78.78-.78 2.05 0 2.83L4 21.41c.39.39.9.59 1.41.59.51 0 1.02-.2 1.41-.59l7.78-7.78 2.81-2.81c.8-.78.8-2.07 0-2.86zM5.41 20L4 18.59l7.72-7.72 1.47 1.35L5.41 20z\"/>\n",
              "  </svg>\n",
              "      </button>\n",
              "      \n",
              "  <style>\n",
              "    .colab-df-container {\n",
              "      display:flex;\n",
              "      flex-wrap:wrap;\n",
              "      gap: 12px;\n",
              "    }\n",
              "\n",
              "    .colab-df-convert {\n",
              "      background-color: #E8F0FE;\n",
              "      border: none;\n",
              "      border-radius: 50%;\n",
              "      cursor: pointer;\n",
              "      display: none;\n",
              "      fill: #1967D2;\n",
              "      height: 32px;\n",
              "      padding: 0 0 0 0;\n",
              "      width: 32px;\n",
              "    }\n",
              "\n",
              "    .colab-df-convert:hover {\n",
              "      background-color: #E2EBFA;\n",
              "      box-shadow: 0px 1px 2px rgba(60, 64, 67, 0.3), 0px 1px 3px 1px rgba(60, 64, 67, 0.15);\n",
              "      fill: #174EA6;\n",
              "    }\n",
              "\n",
              "    [theme=dark] .colab-df-convert {\n",
              "      background-color: #3B4455;\n",
              "      fill: #D2E3FC;\n",
              "    }\n",
              "\n",
              "    [theme=dark] .colab-df-convert:hover {\n",
              "      background-color: #434B5C;\n",
              "      box-shadow: 0px 1px 3px 1px rgba(0, 0, 0, 0.15);\n",
              "      filter: drop-shadow(0px 1px 2px rgba(0, 0, 0, 0.3));\n",
              "      fill: #FFFFFF;\n",
              "    }\n",
              "  </style>\n",
              "\n",
              "      <script>\n",
              "        const buttonEl =\n",
              "          document.querySelector('#df-8f0b21d1-ae38-4f1a-b95c-f69aca9a883c button.colab-df-convert');\n",
              "        buttonEl.style.display =\n",
              "          google.colab.kernel.accessAllowed ? 'block' : 'none';\n",
              "\n",
              "        async function convertToInteractive(key) {\n",
              "          const element = document.querySelector('#df-8f0b21d1-ae38-4f1a-b95c-f69aca9a883c');\n",
              "          const dataTable =\n",
              "            await google.colab.kernel.invokeFunction('convertToInteractive',\n",
              "                                                     [key], {});\n",
              "          if (!dataTable) return;\n",
              "\n",
              "          const docLinkHtml = 'Like what you see? Visit the ' +\n",
              "            '<a target=\"_blank\" href=https://colab.research.google.com/notebooks/data_table.ipynb>data table notebook</a>'\n",
              "            + ' to learn more about interactive tables.';\n",
              "          element.innerHTML = '';\n",
              "          dataTable['output_type'] = 'display_data';\n",
              "          await google.colab.output.renderOutput(dataTable, element);\n",
              "          const docLink = document.createElement('div');\n",
              "          docLink.innerHTML = docLinkHtml;\n",
              "          element.appendChild(docLink);\n",
              "        }\n",
              "      </script>\n",
              "    </div>\n",
              "  </div>\n",
              "  "
            ]
          },
          "metadata": {},
          "execution_count": 10
        }
      ],
      "source": [
        "print(sweet_train.count())\n",
        "sweet_train[sweet_train['SMILES'].isna()] # check if any of the SMILES is a NaN."
      ]
    },
    {
      "cell_type": "code",
      "execution_count": 11,
      "metadata": {
        "colab": {
          "base_uri": "https://localhost:8080/",
          "height": 386
        },
        "id": "V4q2xm06bkU1",
        "outputId": "1ca796ce-cb51-40f2-cc42-e26406919930"
      },
      "outputs": [
        {
          "output_type": "stream",
          "name": "stdout",
          "text": [
            "name            154\n",
            "orig_taste      154\n",
            "reference       154\n",
            "SMILES          154\n",
            "can-smiles      154\n",
            "               ... \n",
            "CATS3D_15_LL    154\n",
            "CATS3D_16_LL    154\n",
            "CATS3D_17_LL    154\n",
            "CATS3D_18_LL    154\n",
            "CATS3D_19_LL    154\n",
            "Length: 5097, dtype: int64\n"
          ]
        },
        {
          "output_type": "execute_result",
          "data": {
            "text/plain": [
              "Empty DataFrame\n",
              "Columns: [name, orig_taste, reference, SMILES, can-smiles, In Bitter Domain, Target, orig_idx, ITH, ISH, HIC, HGM, H0u, H1u, H2u, H3u, H4u, H5u, H6u, H7u, H8u, HTu, HATS0u, HATS1u, HATS2u, HATS3u, HATS4u, HATS5u, HATS6u, HATS7u, HATS8u, HATSu, H0m, H1m, H2m, H3m, H4m, H5m, H6m, H7m, H8m, HTm, HATS0m, HATS1m, HATS2m, HATS3m, HATS4m, HATS5m, HATS6m, HATS7m, HATS8m, HATSm, H0v, H1v, H2v, H3v, H4v, H5v, H6v, H7v, H8v, HTv, HATS0v, HATS1v, HATS2v, HATS3v, HATS4v, HATS5v, HATS6v, HATS7v, HATS8v, HATSv, H0e, H1e, H2e, H3e, H4e, H5e, H6e, H7e, H8e, HTe, HATS0e, HATS1e, HATS2e, HATS3e, HATS4e, HATS5e, HATS6e, HATS7e, HATS8e, HATSe, H0p, H1p, H2p, H3p, H4p, H5p, H6p, H7p, ...]\n",
              "Index: []\n",
              "\n",
              "[0 rows x 5097 columns]"
            ],
            "text/html": [
              "\n",
              "  <div id=\"df-8416cc23-4b23-4b14-ae18-2e47b403a7ef\">\n",
              "    <div class=\"colab-df-container\">\n",
              "      <div>\n",
              "<style scoped>\n",
              "    .dataframe tbody tr th:only-of-type {\n",
              "        vertical-align: middle;\n",
              "    }\n",
              "\n",
              "    .dataframe tbody tr th {\n",
              "        vertical-align: top;\n",
              "    }\n",
              "\n",
              "    .dataframe thead th {\n",
              "        text-align: right;\n",
              "    }\n",
              "</style>\n",
              "<table border=\"1\" class=\"dataframe\">\n",
              "  <thead>\n",
              "    <tr style=\"text-align: right;\">\n",
              "      <th></th>\n",
              "      <th>name</th>\n",
              "      <th>orig_taste</th>\n",
              "      <th>reference</th>\n",
              "      <th>SMILES</th>\n",
              "      <th>can-smiles</th>\n",
              "      <th>In Bitter Domain</th>\n",
              "      <th>Target</th>\n",
              "      <th>orig_idx</th>\n",
              "      <th>ITH</th>\n",
              "      <th>ISH</th>\n",
              "      <th>...</th>\n",
              "      <th>CATS3D_10_LL</th>\n",
              "      <th>CATS3D_11_LL</th>\n",
              "      <th>CATS3D_12_LL</th>\n",
              "      <th>CATS3D_13_LL</th>\n",
              "      <th>CATS3D_14_LL</th>\n",
              "      <th>CATS3D_15_LL</th>\n",
              "      <th>CATS3D_16_LL</th>\n",
              "      <th>CATS3D_17_LL</th>\n",
              "      <th>CATS3D_18_LL</th>\n",
              "      <th>CATS3D_19_LL</th>\n",
              "    </tr>\n",
              "  </thead>\n",
              "  <tbody>\n",
              "  </tbody>\n",
              "</table>\n",
              "<p>0 rows × 5097 columns</p>\n",
              "</div>\n",
              "      <button class=\"colab-df-convert\" onclick=\"convertToInteractive('df-8416cc23-4b23-4b14-ae18-2e47b403a7ef')\"\n",
              "              title=\"Convert this dataframe to an interactive table.\"\n",
              "              style=\"display:none;\">\n",
              "        \n",
              "  <svg xmlns=\"http://www.w3.org/2000/svg\" height=\"24px\"viewBox=\"0 0 24 24\"\n",
              "       width=\"24px\">\n",
              "    <path d=\"M0 0h24v24H0V0z\" fill=\"none\"/>\n",
              "    <path d=\"M18.56 5.44l.94 2.06.94-2.06 2.06-.94-2.06-.94-.94-2.06-.94 2.06-2.06.94zm-11 1L8.5 8.5l.94-2.06 2.06-.94-2.06-.94L8.5 2.5l-.94 2.06-2.06.94zm10 10l.94 2.06.94-2.06 2.06-.94-2.06-.94-.94-2.06-.94 2.06-2.06.94z\"/><path d=\"M17.41 7.96l-1.37-1.37c-.4-.4-.92-.59-1.43-.59-.52 0-1.04.2-1.43.59L10.3 9.45l-7.72 7.72c-.78.78-.78 2.05 0 2.83L4 21.41c.39.39.9.59 1.41.59.51 0 1.02-.2 1.41-.59l7.78-7.78 2.81-2.81c.8-.78.8-2.07 0-2.86zM5.41 20L4 18.59l7.72-7.72 1.47 1.35L5.41 20z\"/>\n",
              "  </svg>\n",
              "      </button>\n",
              "      \n",
              "  <style>\n",
              "    .colab-df-container {\n",
              "      display:flex;\n",
              "      flex-wrap:wrap;\n",
              "      gap: 12px;\n",
              "    }\n",
              "\n",
              "    .colab-df-convert {\n",
              "      background-color: #E8F0FE;\n",
              "      border: none;\n",
              "      border-radius: 50%;\n",
              "      cursor: pointer;\n",
              "      display: none;\n",
              "      fill: #1967D2;\n",
              "      height: 32px;\n",
              "      padding: 0 0 0 0;\n",
              "      width: 32px;\n",
              "    }\n",
              "\n",
              "    .colab-df-convert:hover {\n",
              "      background-color: #E2EBFA;\n",
              "      box-shadow: 0px 1px 2px rgba(60, 64, 67, 0.3), 0px 1px 3px 1px rgba(60, 64, 67, 0.15);\n",
              "      fill: #174EA6;\n",
              "    }\n",
              "\n",
              "    [theme=dark] .colab-df-convert {\n",
              "      background-color: #3B4455;\n",
              "      fill: #D2E3FC;\n",
              "    }\n",
              "\n",
              "    [theme=dark] .colab-df-convert:hover {\n",
              "      background-color: #434B5C;\n",
              "      box-shadow: 0px 1px 3px 1px rgba(0, 0, 0, 0.15);\n",
              "      filter: drop-shadow(0px 1px 2px rgba(0, 0, 0, 0.3));\n",
              "      fill: #FFFFFF;\n",
              "    }\n",
              "  </style>\n",
              "\n",
              "      <script>\n",
              "        const buttonEl =\n",
              "          document.querySelector('#df-8416cc23-4b23-4b14-ae18-2e47b403a7ef button.colab-df-convert');\n",
              "        buttonEl.style.display =\n",
              "          google.colab.kernel.accessAllowed ? 'block' : 'none';\n",
              "\n",
              "        async function convertToInteractive(key) {\n",
              "          const element = document.querySelector('#df-8416cc23-4b23-4b14-ae18-2e47b403a7ef');\n",
              "          const dataTable =\n",
              "            await google.colab.kernel.invokeFunction('convertToInteractive',\n",
              "                                                     [key], {});\n",
              "          if (!dataTable) return;\n",
              "\n",
              "          const docLinkHtml = 'Like what you see? Visit the ' +\n",
              "            '<a target=\"_blank\" href=https://colab.research.google.com/notebooks/data_table.ipynb>data table notebook</a>'\n",
              "            + ' to learn more about interactive tables.';\n",
              "          element.innerHTML = '';\n",
              "          dataTable['output_type'] = 'display_data';\n",
              "          await google.colab.output.renderOutput(dataTable, element);\n",
              "          const docLink = document.createElement('div');\n",
              "          docLink.innerHTML = docLinkHtml;\n",
              "          element.appendChild(docLink);\n",
              "        }\n",
              "      </script>\n",
              "    </div>\n",
              "  </div>\n",
              "  "
            ]
          },
          "metadata": {},
          "execution_count": 11
        }
      ],
      "source": [
        "print(sweet_test.count())\n",
        "sweet_test[sweet_test['SMILES'].isna()] # check if any of the SMILES is a NaN."
      ]
    },
    {
      "cell_type": "code",
      "execution_count": 12,
      "metadata": {
        "colab": {
          "base_uri": "https://localhost:8080/",
          "height": 368
        },
        "id": "iIB6VdgnZ8O9",
        "outputId": "3a048008-504e-4cc3-ffa6-3e88effac921"
      },
      "outputs": [
        {
          "output_type": "stream",
          "name": "stdout",
          "text": [
            "name            2057\n",
            "orig_taste      2135\n",
            "reference       2135\n",
            "SMILES          2135\n",
            "can-smiles      2135\n",
            "                ... \n",
            "CATS3D_15_LL    2135\n",
            "CATS3D_16_LL    2135\n",
            "CATS3D_17_LL    2135\n",
            "CATS3D_18_LL    2135\n",
            "CATS3D_19_LL    2135\n",
            "Length: 5096, dtype: int64\n"
          ]
        },
        {
          "output_type": "execute_result",
          "data": {
            "text/plain": [
              "Empty DataFrame\n",
              "Columns: [name, orig_taste, reference, SMILES, can-smiles, Target, orig_idx, ITH, ISH, HIC, HGM, H0u, H1u, H2u, H3u, H4u, H5u, H6u, H7u, H8u, HTu, HATS0u, HATS1u, HATS2u, HATS3u, HATS4u, HATS5u, HATS6u, HATS7u, HATS8u, HATSu, H0m, H1m, H2m, H3m, H4m, H5m, H6m, H7m, H8m, HTm, HATS0m, HATS1m, HATS2m, HATS3m, HATS4m, HATS5m, HATS6m, HATS7m, HATS8m, HATSm, H0v, H1v, H2v, H3v, H4v, H5v, H6v, H7v, H8v, HTv, HATS0v, HATS1v, HATS2v, HATS3v, HATS4v, HATS5v, HATS6v, HATS7v, HATS8v, HATSv, H0e, H1e, H2e, H3e, H4e, H5e, H6e, H7e, H8e, HTe, HATS0e, HATS1e, HATS2e, HATS3e, HATS4e, HATS5e, HATS6e, HATS7e, HATS8e, HATSe, H0p, H1p, H2p, H3p, H4p, H5p, H6p, H7p, H8p, ...]\n",
              "Index: []\n",
              "\n",
              "[0 rows x 5096 columns]"
            ],
            "text/html": [
              "\n",
              "  <div id=\"df-82f6cdb5-114a-41a4-9f6b-af9d2199d3fb\">\n",
              "    <div class=\"colab-df-container\">\n",
              "      <div>\n",
              "<style scoped>\n",
              "    .dataframe tbody tr th:only-of-type {\n",
              "        vertical-align: middle;\n",
              "    }\n",
              "\n",
              "    .dataframe tbody tr th {\n",
              "        vertical-align: top;\n",
              "    }\n",
              "\n",
              "    .dataframe thead th {\n",
              "        text-align: right;\n",
              "    }\n",
              "</style>\n",
              "<table border=\"1\" class=\"dataframe\">\n",
              "  <thead>\n",
              "    <tr style=\"text-align: right;\">\n",
              "      <th></th>\n",
              "      <th>name</th>\n",
              "      <th>orig_taste</th>\n",
              "      <th>reference</th>\n",
              "      <th>SMILES</th>\n",
              "      <th>can-smiles</th>\n",
              "      <th>Target</th>\n",
              "      <th>orig_idx</th>\n",
              "      <th>ITH</th>\n",
              "      <th>ISH</th>\n",
              "      <th>HIC</th>\n",
              "      <th>...</th>\n",
              "      <th>CATS3D_10_LL</th>\n",
              "      <th>CATS3D_11_LL</th>\n",
              "      <th>CATS3D_12_LL</th>\n",
              "      <th>CATS3D_13_LL</th>\n",
              "      <th>CATS3D_14_LL</th>\n",
              "      <th>CATS3D_15_LL</th>\n",
              "      <th>CATS3D_16_LL</th>\n",
              "      <th>CATS3D_17_LL</th>\n",
              "      <th>CATS3D_18_LL</th>\n",
              "      <th>CATS3D_19_LL</th>\n",
              "    </tr>\n",
              "  </thead>\n",
              "  <tbody>\n",
              "  </tbody>\n",
              "</table>\n",
              "<p>0 rows × 5096 columns</p>\n",
              "</div>\n",
              "      <button class=\"colab-df-convert\" onclick=\"convertToInteractive('df-82f6cdb5-114a-41a4-9f6b-af9d2199d3fb')\"\n",
              "              title=\"Convert this dataframe to an interactive table.\"\n",
              "              style=\"display:none;\">\n",
              "        \n",
              "  <svg xmlns=\"http://www.w3.org/2000/svg\" height=\"24px\"viewBox=\"0 0 24 24\"\n",
              "       width=\"24px\">\n",
              "    <path d=\"M0 0h24v24H0V0z\" fill=\"none\"/>\n",
              "    <path d=\"M18.56 5.44l.94 2.06.94-2.06 2.06-.94-2.06-.94-.94-2.06-.94 2.06-2.06.94zm-11 1L8.5 8.5l.94-2.06 2.06-.94-2.06-.94L8.5 2.5l-.94 2.06-2.06.94zm10 10l.94 2.06.94-2.06 2.06-.94-2.06-.94-.94-2.06-.94 2.06-2.06.94z\"/><path d=\"M17.41 7.96l-1.37-1.37c-.4-.4-.92-.59-1.43-.59-.52 0-1.04.2-1.43.59L10.3 9.45l-7.72 7.72c-.78.78-.78 2.05 0 2.83L4 21.41c.39.39.9.59 1.41.59.51 0 1.02-.2 1.41-.59l7.78-7.78 2.81-2.81c.8-.78.8-2.07 0-2.86zM5.41 20L4 18.59l7.72-7.72 1.47 1.35L5.41 20z\"/>\n",
              "  </svg>\n",
              "      </button>\n",
              "      \n",
              "  <style>\n",
              "    .colab-df-container {\n",
              "      display:flex;\n",
              "      flex-wrap:wrap;\n",
              "      gap: 12px;\n",
              "    }\n",
              "\n",
              "    .colab-df-convert {\n",
              "      background-color: #E8F0FE;\n",
              "      border: none;\n",
              "      border-radius: 50%;\n",
              "      cursor: pointer;\n",
              "      display: none;\n",
              "      fill: #1967D2;\n",
              "      height: 32px;\n",
              "      padding: 0 0 0 0;\n",
              "      width: 32px;\n",
              "    }\n",
              "\n",
              "    .colab-df-convert:hover {\n",
              "      background-color: #E2EBFA;\n",
              "      box-shadow: 0px 1px 2px rgba(60, 64, 67, 0.3), 0px 1px 3px 1px rgba(60, 64, 67, 0.15);\n",
              "      fill: #174EA6;\n",
              "    }\n",
              "\n",
              "    [theme=dark] .colab-df-convert {\n",
              "      background-color: #3B4455;\n",
              "      fill: #D2E3FC;\n",
              "    }\n",
              "\n",
              "    [theme=dark] .colab-df-convert:hover {\n",
              "      background-color: #434B5C;\n",
              "      box-shadow: 0px 1px 3px 1px rgba(0, 0, 0, 0.15);\n",
              "      filter: drop-shadow(0px 1px 2px rgba(0, 0, 0, 0.3));\n",
              "      fill: #FFFFFF;\n",
              "    }\n",
              "  </style>\n",
              "\n",
              "      <script>\n",
              "        const buttonEl =\n",
              "          document.querySelector('#df-82f6cdb5-114a-41a4-9f6b-af9d2199d3fb button.colab-df-convert');\n",
              "        buttonEl.style.display =\n",
              "          google.colab.kernel.accessAllowed ? 'block' : 'none';\n",
              "\n",
              "        async function convertToInteractive(key) {\n",
              "          const element = document.querySelector('#df-82f6cdb5-114a-41a4-9f6b-af9d2199d3fb');\n",
              "          const dataTable =\n",
              "            await google.colab.kernel.invokeFunction('convertToInteractive',\n",
              "                                                     [key], {});\n",
              "          if (!dataTable) return;\n",
              "\n",
              "          const docLinkHtml = 'Like what you see? Visit the ' +\n",
              "            '<a target=\"_blank\" href=https://colab.research.google.com/notebooks/data_table.ipynb>data table notebook</a>'\n",
              "            + ' to learn more about interactive tables.';\n",
              "          element.innerHTML = '';\n",
              "          dataTable['output_type'] = 'display_data';\n",
              "          await google.colab.output.renderOutput(dataTable, element);\n",
              "          const docLink = document.createElement('div');\n",
              "          docLink.innerHTML = docLinkHtml;\n",
              "          element.appendChild(docLink);\n",
              "        }\n",
              "      </script>\n",
              "    </div>\n",
              "  </div>\n",
              "  "
            ]
          },
          "metadata": {},
          "execution_count": 12
        }
      ],
      "source": [
        "print(bitter_train.count())\n",
        "bitter_train[bitter_train['SMILES'].isna()] # check if any of the SMILES is a NaN."
      ]
    },
    {
      "cell_type": "code",
      "execution_count": 13,
      "metadata": {
        "colab": {
          "base_uri": "https://localhost:8080/",
          "height": 386
        },
        "id": "FitiaWJ8bsWN",
        "outputId": "f580e899-ce89-442e-c3bb-17b1bc5b4ea3"
      },
      "outputs": [
        {
          "output_type": "stream",
          "name": "stdout",
          "text": [
            "name            115\n",
            "orig_taste      171\n",
            "reference       171\n",
            "SMILES          171\n",
            "can-smiles      171\n",
            "               ... \n",
            "CATS3D_15_LL    171\n",
            "CATS3D_16_LL    171\n",
            "CATS3D_17_LL    171\n",
            "CATS3D_18_LL    171\n",
            "CATS3D_19_LL    171\n",
            "Length: 5097, dtype: int64\n"
          ]
        },
        {
          "output_type": "execute_result",
          "data": {
            "text/plain": [
              "Empty DataFrame\n",
              "Columns: [name, orig_taste, reference, SMILES, can-smiles, In Bitter Domain, Target, orig_idx, ITH, ISH, HIC, HGM, H0u, H1u, H2u, H3u, H4u, H5u, H6u, H7u, H8u, HTu, HATS0u, HATS1u, HATS2u, HATS3u, HATS4u, HATS5u, HATS6u, HATS7u, HATS8u, HATSu, H0m, H1m, H2m, H3m, H4m, H5m, H6m, H7m, H8m, HTm, HATS0m, HATS1m, HATS2m, HATS3m, HATS4m, HATS5m, HATS6m, HATS7m, HATS8m, HATSm, H0v, H1v, H2v, H3v, H4v, H5v, H6v, H7v, H8v, HTv, HATS0v, HATS1v, HATS2v, HATS3v, HATS4v, HATS5v, HATS6v, HATS7v, HATS8v, HATSv, H0e, H1e, H2e, H3e, H4e, H5e, H6e, H7e, H8e, HTe, HATS0e, HATS1e, HATS2e, HATS3e, HATS4e, HATS5e, HATS6e, HATS7e, HATS8e, HATSe, H0p, H1p, H2p, H3p, H4p, H5p, H6p, H7p, ...]\n",
              "Index: []\n",
              "\n",
              "[0 rows x 5097 columns]"
            ],
            "text/html": [
              "\n",
              "  <div id=\"df-92f9bb6e-c9e6-4faf-94f6-f7b93fc4172a\">\n",
              "    <div class=\"colab-df-container\">\n",
              "      <div>\n",
              "<style scoped>\n",
              "    .dataframe tbody tr th:only-of-type {\n",
              "        vertical-align: middle;\n",
              "    }\n",
              "\n",
              "    .dataframe tbody tr th {\n",
              "        vertical-align: top;\n",
              "    }\n",
              "\n",
              "    .dataframe thead th {\n",
              "        text-align: right;\n",
              "    }\n",
              "</style>\n",
              "<table border=\"1\" class=\"dataframe\">\n",
              "  <thead>\n",
              "    <tr style=\"text-align: right;\">\n",
              "      <th></th>\n",
              "      <th>name</th>\n",
              "      <th>orig_taste</th>\n",
              "      <th>reference</th>\n",
              "      <th>SMILES</th>\n",
              "      <th>can-smiles</th>\n",
              "      <th>In Bitter Domain</th>\n",
              "      <th>Target</th>\n",
              "      <th>orig_idx</th>\n",
              "      <th>ITH</th>\n",
              "      <th>ISH</th>\n",
              "      <th>...</th>\n",
              "      <th>CATS3D_10_LL</th>\n",
              "      <th>CATS3D_11_LL</th>\n",
              "      <th>CATS3D_12_LL</th>\n",
              "      <th>CATS3D_13_LL</th>\n",
              "      <th>CATS3D_14_LL</th>\n",
              "      <th>CATS3D_15_LL</th>\n",
              "      <th>CATS3D_16_LL</th>\n",
              "      <th>CATS3D_17_LL</th>\n",
              "      <th>CATS3D_18_LL</th>\n",
              "      <th>CATS3D_19_LL</th>\n",
              "    </tr>\n",
              "  </thead>\n",
              "  <tbody>\n",
              "  </tbody>\n",
              "</table>\n",
              "<p>0 rows × 5097 columns</p>\n",
              "</div>\n",
              "      <button class=\"colab-df-convert\" onclick=\"convertToInteractive('df-92f9bb6e-c9e6-4faf-94f6-f7b93fc4172a')\"\n",
              "              title=\"Convert this dataframe to an interactive table.\"\n",
              "              style=\"display:none;\">\n",
              "        \n",
              "  <svg xmlns=\"http://www.w3.org/2000/svg\" height=\"24px\"viewBox=\"0 0 24 24\"\n",
              "       width=\"24px\">\n",
              "    <path d=\"M0 0h24v24H0V0z\" fill=\"none\"/>\n",
              "    <path d=\"M18.56 5.44l.94 2.06.94-2.06 2.06-.94-2.06-.94-.94-2.06-.94 2.06-2.06.94zm-11 1L8.5 8.5l.94-2.06 2.06-.94-2.06-.94L8.5 2.5l-.94 2.06-2.06.94zm10 10l.94 2.06.94-2.06 2.06-.94-2.06-.94-.94-2.06-.94 2.06-2.06.94z\"/><path d=\"M17.41 7.96l-1.37-1.37c-.4-.4-.92-.59-1.43-.59-.52 0-1.04.2-1.43.59L10.3 9.45l-7.72 7.72c-.78.78-.78 2.05 0 2.83L4 21.41c.39.39.9.59 1.41.59.51 0 1.02-.2 1.41-.59l7.78-7.78 2.81-2.81c.8-.78.8-2.07 0-2.86zM5.41 20L4 18.59l7.72-7.72 1.47 1.35L5.41 20z\"/>\n",
              "  </svg>\n",
              "      </button>\n",
              "      \n",
              "  <style>\n",
              "    .colab-df-container {\n",
              "      display:flex;\n",
              "      flex-wrap:wrap;\n",
              "      gap: 12px;\n",
              "    }\n",
              "\n",
              "    .colab-df-convert {\n",
              "      background-color: #E8F0FE;\n",
              "      border: none;\n",
              "      border-radius: 50%;\n",
              "      cursor: pointer;\n",
              "      display: none;\n",
              "      fill: #1967D2;\n",
              "      height: 32px;\n",
              "      padding: 0 0 0 0;\n",
              "      width: 32px;\n",
              "    }\n",
              "\n",
              "    .colab-df-convert:hover {\n",
              "      background-color: #E2EBFA;\n",
              "      box-shadow: 0px 1px 2px rgba(60, 64, 67, 0.3), 0px 1px 3px 1px rgba(60, 64, 67, 0.15);\n",
              "      fill: #174EA6;\n",
              "    }\n",
              "\n",
              "    [theme=dark] .colab-df-convert {\n",
              "      background-color: #3B4455;\n",
              "      fill: #D2E3FC;\n",
              "    }\n",
              "\n",
              "    [theme=dark] .colab-df-convert:hover {\n",
              "      background-color: #434B5C;\n",
              "      box-shadow: 0px 1px 3px 1px rgba(0, 0, 0, 0.15);\n",
              "      filter: drop-shadow(0px 1px 2px rgba(0, 0, 0, 0.3));\n",
              "      fill: #FFFFFF;\n",
              "    }\n",
              "  </style>\n",
              "\n",
              "      <script>\n",
              "        const buttonEl =\n",
              "          document.querySelector('#df-92f9bb6e-c9e6-4faf-94f6-f7b93fc4172a button.colab-df-convert');\n",
              "        buttonEl.style.display =\n",
              "          google.colab.kernel.accessAllowed ? 'block' : 'none';\n",
              "\n",
              "        async function convertToInteractive(key) {\n",
              "          const element = document.querySelector('#df-92f9bb6e-c9e6-4faf-94f6-f7b93fc4172a');\n",
              "          const dataTable =\n",
              "            await google.colab.kernel.invokeFunction('convertToInteractive',\n",
              "                                                     [key], {});\n",
              "          if (!dataTable) return;\n",
              "\n",
              "          const docLinkHtml = 'Like what you see? Visit the ' +\n",
              "            '<a target=\"_blank\" href=https://colab.research.google.com/notebooks/data_table.ipynb>data table notebook</a>'\n",
              "            + ' to learn more about interactive tables.';\n",
              "          element.innerHTML = '';\n",
              "          dataTable['output_type'] = 'display_data';\n",
              "          await google.colab.output.renderOutput(dataTable, element);\n",
              "          const docLink = document.createElement('div');\n",
              "          docLink.innerHTML = docLinkHtml;\n",
              "          element.appendChild(docLink);\n",
              "        }\n",
              "      </script>\n",
              "    </div>\n",
              "  </div>\n",
              "  "
            ]
          },
          "metadata": {},
          "execution_count": 13
        }
      ],
      "source": [
        "print(bitter_test.count())\n",
        "bitter_test[bitter_test['SMILES'].isna()] # check if any of the SMILES is a NaN."
      ]
    },
    {
      "cell_type": "code",
      "execution_count": 14,
      "metadata": {
        "id": "FN8BuMPjZ8PA"
      },
      "outputs": [],
      "source": [
        "sweet_train['Target'] = sweet_train['Target'].astype(int) # Convert to numeric\n",
        "sweet_test['Target'] = sweet_test['Target'].astype(int) # Convert to numeric"
      ]
    },
    {
      "cell_type": "code",
      "execution_count": 15,
      "metadata": {
        "id": "3cI32d9HZ8PC"
      },
      "outputs": [],
      "source": [
        "bitter_train['Target'] = bitter_train['Target'].astype(int) # Convert to numeric\n",
        "bitter_test['Target'] = bitter_test['Target'].astype(int) # Convert to numeric"
      ]
    },
    {
      "cell_type": "code",
      "execution_count": 16,
      "metadata": {
        "id": "a1483603-9300-4f26-b5c3-dfe5f174ed94"
      },
      "outputs": [],
      "source": [
        "df_sweet_features_train = sweet_train[sweet_train.columns.difference(['name', 'orig_taste','reference','SMILES','can-smiles','orig_idx'])]\n",
        "df_sweet_features_test = sweet_test[sweet_test.columns.difference(['name', 'orig_taste','reference','SMILES','can-smiles','orig_idx','In Bitter Domain'])]\n",
        "\n",
        "df_bitter_features_train = bitter_train[bitter_train.columns.difference(['name', 'orig_taste','reference','SMILES','can-smiles','orig_idx'])]\n",
        "df_bitter_features_test = bitter_test[bitter_test.columns.difference(['name', 'orig_taste','reference','SMILES','can-smiles','orig_idx','In Bitter Domain'])]\n"
      ]
    },
    {
      "cell_type": "code",
      "execution_count": 17,
      "metadata": {
        "colab": {
          "base_uri": "https://localhost:8080/"
        },
        "id": "4u3PgxC3iU-n",
        "outputId": "3c788eac-4ebd-4ecb-a9e3-a3be488bed95"
      },
      "outputs": [
        {
          "output_type": "stream",
          "name": "stdout",
          "text": [
            "(2135, 5090)\n",
            "(171, 5090)\n",
            "(2090, 5090)\n",
            "(154, 5090)\n"
          ]
        }
      ],
      "source": [
        "print(df_bitter_features_train.shape)\n",
        "print(df_bitter_features_test.shape)\n",
        "print(df_sweet_features_train.shape)\n",
        "print(df_sweet_features_test.shape)"
      ]
    },
    {
      "cell_type": "code",
      "execution_count": 18,
      "metadata": {
        "id": "iiUVyRchhlk1"
      },
      "outputs": [],
      "source": [
        "df_sweet_features_train = df_sweet_features_train.drop('Target', axis=1)\n",
        "df_sweet_features_test = df_sweet_features_test.drop('Target', axis=1)\n",
        "\n",
        "df_bitter_features_train = df_bitter_features_train.drop('Target', axis=1)\n",
        "df_bitter_features_test = df_bitter_features_test.drop('Target', axis=1)"
      ]
    },
    {
      "cell_type": "code",
      "execution_count": 19,
      "metadata": {
        "id": "9497e2f7-eefe-4897-9402-e3c173cccc2d"
      },
      "outputs": [],
      "source": [
        "df_sweet_features_train.apply(lambda x: pd.to_numeric(x, errors='coerce') )\n",
        "mask_sweet_train = df_sweet_features_train.applymap(lambda x: isinstance(x, (int, float)))\n",
        "df_sweet_features_train = df_sweet_features_train.where(mask_sweet_train)\n",
        "\n",
        "df_sweet_features_test.apply(lambda x: pd.to_numeric(x, errors='coerce') )\n",
        "mask_sweet_test = df_sweet_features_test.applymap(lambda x: isinstance(x, (int, float)))\n",
        "df_sweet_features_test = df_sweet_features_test.where(mask_sweet_test)\n",
        "\n",
        "\n",
        "df_bitter_features_train.apply(lambda x: pd.to_numeric(x, errors='coerce') )\n",
        "mask_bitter_train = df_bitter_features_train.applymap(lambda x: isinstance(x, (int, float)))\n",
        "df_bitter_features_train = df_bitter_features_train.where(mask_bitter_train)\n",
        "\n",
        "\n",
        "df_bitter_features_test.apply(lambda x: pd.to_numeric(x, errors='coerce') )\n",
        "mask_bitter_test = df_bitter_features_test.applymap(lambda x: isinstance(x, (int, float)))\n",
        "df_bitter_features_test = df_bitter_features_test.where(mask_bitter_test)"
      ]
    },
    {
      "cell_type": "code",
      "execution_count": 20,
      "metadata": {
        "colab": {
          "base_uri": "https://localhost:8080/"
        },
        "id": "_O-d71Jyii7Z",
        "outputId": "956af10c-85d5-4018-9f36-4dcd086f98fa"
      },
      "outputs": [
        {
          "output_type": "stream",
          "name": "stdout",
          "text": [
            "(2135, 5089)\n",
            "(171, 5089)\n",
            "(2090, 5089)\n",
            "(154, 5089)\n"
          ]
        }
      ],
      "source": [
        "print(df_bitter_features_train.shape)\n",
        "print(df_bitter_features_test.shape)\n",
        "print(df_sweet_features_train.shape)\n",
        "print(df_sweet_features_test.shape)"
      ]
    },
    {
      "cell_type": "code",
      "execution_count": 21,
      "metadata": {
        "id": "stH2vOe7wQU9"
      },
      "outputs": [],
      "source": [
        "X_train_sweet = df_sweet_features_train\n",
        "y_train_sweet = sweet_train[['Target']]\n",
        "\n",
        "X_test_sweet = df_sweet_features_test\n",
        "y_test_sweet = sweet_test[['Target']]\n",
        "\n",
        "X_train_bitter = df_bitter_features_train\n",
        "y_train_bitter = bitter_train[['Target']]\n",
        "\n",
        "X_test_bitter = df_bitter_features_test\n",
        "y_test_bitter = bitter_test[['Target']] "
      ]
    },
    {
      "cell_type": "code",
      "execution_count": 22,
      "metadata": {
        "colab": {
          "base_uri": "https://localhost:8080/"
        },
        "id": "IC7O3jLGpZWF",
        "outputId": "48d81fc9-5ad5-4b25-b57e-ec439ac3ce8f"
      },
      "outputs": [
        {
          "output_type": "stream",
          "name": "stdout",
          "text": [
            "(2135, 5089)\n",
            "(171, 5089)\n",
            "(2090, 5089)\n",
            "(154, 5089)\n"
          ]
        }
      ],
      "source": [
        "print(df_bitter_features_train.shape)\n",
        "print(df_bitter_features_test.shape)\n",
        "print(df_sweet_features_train.shape)\n",
        "print(df_sweet_features_test.shape)"
      ]
    },
    {
      "cell_type": "code",
      "execution_count": 23,
      "metadata": {
        "colab": {
          "base_uri": "https://localhost:8080/"
        },
        "id": "TGChgV4NguY_",
        "outputId": "7b1b379b-196e-4fe6-81d8-6e301b0de9bb"
      },
      "outputs": [
        {
          "output_type": "stream",
          "name": "stdout",
          "text": [
            "Total number of features: 5089\n",
            "Total number of samples: 2090\n",
            "To check if there are any null values in the features and how many:  False 0\n",
            "To check if there are any null values in the target and how many: False 0\n",
            "The total number of Sweet targets: 1126\n",
            "The total number of Bitter targets: 964\n"
          ]
        }
      ],
      "source": [
        "# Print some metrics about the data.\n",
        "print (\"Total number of features: \" + str(X_train_sweet.shape[1]))\n",
        "print (\"Total number of samples: \"+ str(X_train_sweet.shape[0]))\n",
        "print (\"To check if there are any null values in the features and how many: \", \\\n",
        "       X_train_sweet.isnull().values.any(), X_train_sweet.isnull().sum().sum())\n",
        "print (\"To check if there are any null values in the target and how many:\", \\\n",
        "       y_train_sweet.isnull().values.any(), y_train_sweet.isnull().sum().sum()) \n",
        "print (\"The total number of Sweet targets: \" + str(y_train_sweet[y_train_sweet.Target == 1].count()[0]))\n",
        "print (\"The total number of Bitter targets: \" + str(y_train_sweet[y_train_sweet.Target == 0].count()[0]))\n"
      ]
    },
    {
      "cell_type": "code",
      "execution_count": 24,
      "metadata": {
        "colab": {
          "base_uri": "https://localhost:8080/"
        },
        "id": "n7wwL2_1mJqK",
        "outputId": "090d9f19-0aee-4226-82d4-12f880758892"
      },
      "outputs": [
        {
          "output_type": "stream",
          "name": "stdout",
          "text": [
            "Total number of features: 5089\n",
            "Total number of samples: 2135\n",
            "To check if there are any null values in the features and how many:  False 0\n",
            "To check if there are any null values in the target and how many: False 0\n",
            "The total number of Sweet targets: 728\n",
            "The total number of Bitter targets: 1407\n"
          ]
        }
      ],
      "source": [
        "# Print some metrics about the data.\n",
        "print (\"Total number of features: \" + str(X_train_bitter.shape[1]))\n",
        "print (\"Total number of samples: \"+ str(X_train_bitter.shape[0]))\n",
        "print (\"To check if there are any null values in the features and how many: \", \\\n",
        "       X_train_bitter.isnull().values.any(), X_train_bitter.isnull().sum().sum())\n",
        "print (\"To check if there are any null values in the target and how many:\", \\\n",
        "       y_train_bitter.isnull().values.any(), y_train_bitter.isnull().sum().sum()) \n",
        "print (\"The total number of Sweet targets: \" + str(y_train_bitter[y_train_bitter.Target == 1].count()[0]))\n",
        "print (\"The total number of Bitter targets: \" + str(y_train_bitter[y_train_bitter.Target == 0].count()[0]))\n"
      ]
    },
    {
      "cell_type": "markdown",
      "metadata": {
        "id": "Kln5kAlwk7vV"
      },
      "source": [
        "# Preprocess \n"
      ]
    },
    {
      "cell_type": "code",
      "execution_count": 25,
      "metadata": {
        "id": "Txi8iwrC15aZ"
      },
      "outputs": [],
      "source": [
        "from sklearn.preprocessing import MinMaxScaler\n",
        "scaler_sweet = MinMaxScaler()\n",
        "X_train_sweet_scaled = scaler_sweet.fit_transform(X_train_sweet)\n",
        "X_test_sweet_scaled = scaler_sweet.transform(X_test_sweet)\n",
        "\n",
        "\n",
        "scaler_bitter = MinMaxScaler()\n",
        "X_train_bitter_scaled = scaler_bitter.fit_transform(X_train_bitter)\n",
        "X_test_bitter_scaled = scaler_bitter.transform(X_test_bitter)\n"
      ]
    },
    {
      "cell_type": "code",
      "execution_count": 26,
      "metadata": {
        "colab": {
          "base_uri": "https://localhost:8080/"
        },
        "id": "cXHjo-SaVi3v",
        "outputId": "97354bcc-54fe-4b22-adfa-867418b6a91e"
      },
      "outputs": [
        {
          "output_type": "stream",
          "name": "stdout",
          "text": [
            "sweet train shape\n",
            "(2090, 5089)\n",
            "sweet test shape\n",
            "(154, 5089)\n",
            "bitter train shape\n",
            "(2135, 5089)\n",
            "bitter test shape\n",
            "(171, 5089)\n"
          ]
        }
      ],
      "source": [
        "print(\"sweet train shape\")\n",
        "print(X_train_sweet_scaled.shape)\n",
        "print(\"sweet test shape\")\n",
        "print(X_test_sweet_scaled.shape)\n",
        "print(\"bitter train shape\")\n",
        "print(X_train_bitter_scaled.shape)\n",
        "print(\"bitter test shape\")\n",
        "print(X_test_bitter_scaled.shape)"
      ]
    },
    {
      "cell_type": "code",
      "execution_count": 27,
      "metadata": {
        "id": "vByRkSqy-ZdH"
      },
      "outputs": [],
      "source": [
        "s_cols = X_train_sweet.columns\n",
        "X_train_sweet_scaled = pd.DataFrame(X_train_sweet_scaled , columns = s_cols)\n",
        "st_cols = X_test_sweet.columns\n",
        "X_test_sweet_scaled = pd.DataFrame(X_test_sweet_scaled , columns = st_cols)\n",
        "\n",
        "b_cols = X_train_bitter.columns\n",
        "X_train_bitter_scaled = pd.DataFrame(X_train_bitter_scaled , columns = b_cols)\n",
        "bt_cols = X_train_bitter.columns\n",
        "X_test_bitter_scaled = pd.DataFrame(X_test_bitter_scaled , columns = bt_cols)\n"
      ]
    },
    {
      "cell_type": "code",
      "execution_count": 28,
      "metadata": {
        "colab": {
          "base_uri": "https://localhost:8080/"
        },
        "id": "Su7warTI-Nzg",
        "outputId": "aaaa14b6-0390-4a15-96ca-95743a2c20d6"
      },
      "outputs": [
        {
          "output_type": "stream",
          "name": "stdout",
          "text": [
            "Total number of features: 5089\n",
            "Total number of samples: 2090\n",
            "To check if there are any null values in the features and how many:  False 0\n",
            "To check if there are any null values in the target and how many: False 0\n",
            "The total number of Sweet targets: 1126\n",
            "The total number of Bitter targets: 964\n"
          ]
        }
      ],
      "source": [
        "# Print some metrics about the data.\n",
        "print (\"Total number of features: \" + str(X_train_sweet_scaled.shape[1]))\n",
        "print (\"Total number of samples: \"+ str(X_train_sweet_scaled.shape[0]))\n",
        "print (\"To check if there are any null values in the features and how many: \", \\\n",
        "       X_train_sweet_scaled.isnull().values.any(), X_train_sweet_scaled.isnull().sum().sum())\n",
        "print (\"To check if there are any null values in the target and how many:\", \\\n",
        "       y_train_sweet.isnull().values.any(), y_train_sweet.isnull().sum().sum()) \n",
        "print (\"The total number of Sweet targets: \" + str(y_train_sweet[y_train_sweet.Target == 1].count()[0]))\n",
        "print (\"The total number of Bitter targets: \" + str(y_train_sweet[y_train_sweet.Target == 0].count()[0]))\n"
      ]
    },
    {
      "cell_type": "code",
      "execution_count": 29,
      "metadata": {
        "colab": {
          "base_uri": "https://localhost:8080/"
        },
        "id": "CrhqKWJa_TmD",
        "outputId": "4820a84e-c44c-47ca-d0dd-ea1d4762e8b4"
      },
      "outputs": [
        {
          "output_type": "stream",
          "name": "stdout",
          "text": [
            "Total number of features: 5089\n",
            "Total number of samples: 2135\n",
            "To check if there are any null values in the features and how many:  False 0\n",
            "To check if there are any null values in the target and how many: False 0\n",
            "The total number of Sweet targets: 728\n",
            "The total number of Bitter targets: 1407\n"
          ]
        }
      ],
      "source": [
        "# Print some metrics about the data.\n",
        "print (\"Total number of features: \" + str(X_train_bitter_scaled.shape[1]))\n",
        "print (\"Total number of samples: \"+ str(X_train_bitter_scaled.shape[0]))\n",
        "print (\"To check if there are any null values in the features and how many: \", \\\n",
        "       X_train_bitter_scaled.isnull().values.any(), X_train_bitter_scaled.isnull().sum().sum())\n",
        "print (\"To check if there are any null values in the target and how many:\", \\\n",
        "       y_train_bitter.isnull().values.any(), y_train_bitter.isnull().sum().sum()) \n",
        "print (\"The total number of Sweet targets: \" + str(y_train_bitter[y_train_bitter.Target == 1].count()[0]))\n",
        "print (\"The total number of Bitter targets: \" + str(y_train_bitter[y_train_bitter.Target == 0].count()[0]))\n"
      ]
    },
    {
      "cell_type": "code",
      "execution_count": 30,
      "metadata": {
        "colab": {
          "base_uri": "https://localhost:8080/"
        },
        "id": "HHJLJbNAAq74",
        "outputId": "96d896aa-f8b4-4a43-b04f-1e292a0562ef"
      },
      "outputs": [
        {
          "output_type": "stream",
          "name": "stdout",
          "text": [
            "['AAC', 'AECC', 'AMW', 'AROM', 'ARR', 'ASP', 'ATS1e', 'ATS1i', 'ATS1m', 'ATS1p', 'ATS1s', 'ATS1v', 'ATS2e', 'ATS2i', 'ATS2m', 'ATS2p', 'ATS2s', 'ATS2v', 'ATS3e', 'ATS3i', 'ATS3m', 'ATS3p', 'ATS3s', 'ATS3v', 'ATS4e', 'ATS4i', 'ATS4m', 'ATS4p', 'ATS4s', 'ATS4v', 'ATS5e', 'ATS5i', 'ATS5m', 'ATS5p', 'ATS5s', 'ATS5v', 'ATS6e', 'ATS6i', 'ATS6m', 'ATS6p', 'ATS6s', 'ATS6v', 'ATS7e', 'ATS7i', 'ATS7m', 'ATS7p', 'ATS7s', 'ATS7v', 'ATS8e', 'ATS8i', 'ATS8m', 'ATS8p', 'ATS8s', 'ATS8v', 'ATSC1e', 'ATSC1i', 'ATSC1m', 'ATSC1p', 'ATSC1s', 'ATSC1v', 'ATSC2e', 'ATSC2i', 'ATSC2m', 'ATSC2p', 'ATSC2s', 'ATSC2v', 'ATSC3e', 'ATSC3i', 'ATSC3m', 'ATSC3p', 'ATSC3s', 'ATSC3v', 'ATSC4e', 'ATSC4i', 'ATSC4m', 'ATSC4p', 'ATSC4s', 'ATSC4v', 'ATSC5e', 'ATSC5i', 'ATSC5m', 'ATSC5p', 'ATSC5s', 'ATSC5v', 'ATSC6e', 'ATSC6i', 'ATSC6m', 'ATSC6p', 'ATSC6s', 'ATSC6v', 'ATSC7e', 'ATSC7i', 'ATSC7m', 'ATSC7p', 'ATSC7s', 'ATSC7v', 'ATSC8e', 'ATSC8i', 'ATSC8m', 'ATSC8p', 'ATSC8s', 'ATSC8v', 'AVS_B(e)', 'AVS_B(i)', 'AVS_B(m)', 'AVS_B(p)', 'AVS_B(s)', 'AVS_B(v)', 'AVS_D', 'AVS_D/Dt', 'AVS_Dt', 'AVS_Dz(Z)', 'AVS_Dz(e)', 'AVS_Dz(i)', 'AVS_Dz(m)', 'AVS_Dz(p)', 'AVS_Dz(v)', 'AVS_G', 'AVS_G/D', 'AVS_H2', 'AVS_RG', 'AVS_X', 'Ae', 'Ai', 'Am', 'Ap', 'As', 'Au', 'Av', 'B-112', 'B01B-B', 'B01B-Si', 'B01B-X', 'B01Br-B', 'B01Br-Br', 'B01Br-I', 'B01Br-Si', 'B01Br-X', 'B01C-B', 'B01C-Br', 'B01C-C', 'B01C-Cl', 'B01C-F', 'B01C-I', 'B01C-N', 'B01C-O', 'B01C-P', 'B01C-S', 'B01C-Si', 'B01C-X', 'B01Cl-B', 'B01Cl-Br', 'B01Cl-Cl', 'B01Cl-I', 'B01Cl-Si', 'B01Cl-X', 'B01F-B', 'B01F-Br', 'B01F-Cl', 'B01F-F', 'B01F-I', 'B01F-Si', 'B01F-X', 'B01I-B', 'B01I-I', 'B01I-Si', 'B01I-X', 'B01N-B', 'B01N-Br', 'B01N-Cl', 'B01N-F', 'B01N-I', 'B01N-N', 'B01N-O', 'B01N-P', 'B01N-S', 'B01N-Si', 'B01N-X', 'B01O-B', 'B01O-Br', 'B01O-Cl', 'B01O-F', 'B01O-I', 'B01O-O', 'B01O-P', 'B01O-S', 'B01O-Si', 'B01O-X', 'B01P-B', 'B01P-Br', 'B01P-Cl', 'B01P-F', 'B01P-I', 'B01P-P', 'B01P-Si', 'B01P-X', 'B01S-B', 'B01S-Br', 'B01S-Cl', 'B01S-F', 'B01S-I', 'B01S-P', 'B01S-S', 'B01S-Si', 'B01S-X', 'B01Si-Si', 'B01Si-X', 'B01X-X', 'B02B-B', 'B02B-Si', 'B02B-X', 'B02Br-B', 'B02Br-Br', 'B02Br-I', 'B02Br-Si', 'B02Br-X', 'B02C-B', 'B02C-Br', 'B02C-C', 'B02C-Cl', 'B02C-F', 'B02C-I', 'B02C-N', 'B02C-O', 'B02C-P', 'B02C-S', 'B02C-Si', 'B02C-X', 'B02Cl-B', 'B02Cl-Br', 'B02Cl-Cl', 'B02Cl-I', 'B02Cl-Si', 'B02Cl-X', 'B02F-B', 'B02F-Br', 'B02F-Cl', 'B02F-F', 'B02F-I', 'B02F-Si', 'B02F-X', 'B02I-B', 'B02I-I', 'B02I-Si', 'B02I-X', 'B02N-B', 'B02N-Br', 'B02N-Cl', 'B02N-F', 'B02N-I', 'B02N-N', 'B02N-O', 'B02N-P', 'B02N-S', 'B02N-Si', 'B02N-X', 'B02O-B', 'B02O-Br', 'B02O-Cl', 'B02O-F', 'B02O-I', 'B02O-O', 'B02O-P', 'B02O-S', 'B02O-Si', 'B02O-X', 'B02P-B', 'B02P-Br', 'B02P-Cl', 'B02P-F', 'B02P-I', 'B02P-P', 'B02P-Si', 'B02P-X', 'B02S-B', 'B02S-Br', 'B02S-Cl', 'B02S-F', 'B02S-I', 'B02S-P', 'B02S-S', 'B02S-Si', 'B02S-X', 'B02Si-Si', 'B02Si-X', 'B02X-X', 'B03B-B', 'B03B-Si', 'B03B-X', 'B03Br-B', 'B03Br-Br', 'B03Br-I', 'B03Br-Si', 'B03Br-X', 'B03C-B', 'B03C-Br', 'B03C-C', 'B03C-Cl', 'B03C-F', 'B03C-I', 'B03C-N', 'B03C-O', 'B03C-P', 'B03C-S', 'B03C-Si', 'B03C-X', 'B03Cl-B', 'B03Cl-Br', 'B03Cl-Cl', 'B03Cl-I', 'B03Cl-Si', 'B03Cl-X', 'B03F-B', 'B03F-Br', 'B03F-Cl', 'B03F-F', 'B03F-I', 'B03F-Si', 'B03F-X', 'B03I-B', 'B03I-I', 'B03I-Si', 'B03I-X', 'B03N-B', 'B03N-Br', 'B03N-Cl', 'B03N-F', 'B03N-I', 'B03N-N', 'B03N-O', 'B03N-P', 'B03N-S', 'B03N-Si', 'B03N-X', 'B03O-B', 'B03O-Br', 'B03O-Cl', 'B03O-F', 'B03O-I', 'B03O-O', 'B03O-P', 'B03O-S', 'B03O-Si', 'B03O-X', 'B03P-B', 'B03P-Br', 'B03P-Cl', 'B03P-F', 'B03P-I', 'B03P-P', 'B03P-Si', 'B03P-X', 'B03S-B', 'B03S-Br', 'B03S-Cl', 'B03S-F', 'B03S-I', 'B03S-P', 'B03S-S', 'B03S-Si', 'B03S-X', 'B03Si-Si', 'B03Si-X', 'B03X-X', 'B04B-B', 'B04B-Si', 'B04B-X', 'B04Br-B', 'B04Br-Br', 'B04Br-I', 'B04Br-Si', 'B04Br-X', 'B04C-B', 'B04C-Br', 'B04C-C', 'B04C-Cl', 'B04C-F', 'B04C-I', 'B04C-N', 'B04C-O', 'B04C-P', 'B04C-S', 'B04C-Si', 'B04C-X', 'B04Cl-B', 'B04Cl-Br', 'B04Cl-Cl', 'B04Cl-I', 'B04Cl-Si', 'B04Cl-X', 'B04F-B', 'B04F-Br', 'B04F-Cl', 'B04F-F', 'B04F-I', 'B04F-Si', 'B04F-X', 'B04I-B', 'B04I-I', 'B04I-Si', 'B04I-X', 'B04N-B', 'B04N-Br', 'B04N-Cl', 'B04N-F', 'B04N-I', 'B04N-N', 'B04N-O', 'B04N-P', 'B04N-S', 'B04N-Si', 'B04N-X', 'B04O-B', 'B04O-Br', 'B04O-Cl', 'B04O-F', 'B04O-I', 'B04O-O', 'B04O-P', 'B04O-S', 'B04O-Si', 'B04O-X', 'B04P-B', 'B04P-Br', 'B04P-Cl', 'B04P-F', 'B04P-I', 'B04P-P', 'B04P-Si', 'B04P-X', 'B04S-B', 'B04S-Br', 'B04S-Cl', 'B04S-F', 'B04S-I', 'B04S-P', 'B04S-S', 'B04S-Si', 'B04S-X', 'B04Si-Si', 'B04Si-X', 'B04X-X', 'B05B-B', 'B05B-Si', 'B05B-X', 'B05Br-B', 'B05Br-Br', 'B05Br-I', 'B05Br-Si', 'B05Br-X', 'B05C-B', 'B05C-Br', 'B05C-C', 'B05C-Cl', 'B05C-F', 'B05C-I', 'B05C-N', 'B05C-O', 'B05C-P', 'B05C-S', 'B05C-Si', 'B05C-X', 'B05Cl-B', 'B05Cl-Br', 'B05Cl-Cl', 'B05Cl-I', 'B05Cl-Si', 'B05Cl-X', 'B05F-B', 'B05F-Br', 'B05F-Cl', 'B05F-F', 'B05F-I', 'B05F-Si', 'B05F-X', 'B05I-B', 'B05I-I', 'B05I-Si', 'B05I-X', 'B05N-B', 'B05N-Br', 'B05N-Cl', 'B05N-F', 'B05N-I', 'B05N-N', 'B05N-O', 'B05N-P', 'B05N-S', 'B05N-Si', 'B05N-X', 'B05O-B', 'B05O-Br', 'B05O-Cl', 'B05O-F', 'B05O-I', 'B05O-O', 'B05O-P', 'B05O-S', 'B05O-Si', 'B05O-X', 'B05P-B', 'B05P-Br', 'B05P-Cl', 'B05P-F', 'B05P-I', 'B05P-P', 'B05P-Si', 'B05P-X', 'B05S-B', 'B05S-Br', 'B05S-Cl', 'B05S-F', 'B05S-I', 'B05S-P', 'B05S-S', 'B05S-Si', 'B05S-X', 'B05Si-Si', 'B05Si-X', 'B05X-X', 'B06B-B', 'B06B-Si', 'B06B-X', 'B06Br-B', 'B06Br-Br', 'B06Br-I', 'B06Br-Si', 'B06Br-X', 'B06C-B', 'B06C-Br', 'B06C-C', 'B06C-Cl', 'B06C-F', 'B06C-I', 'B06C-N', 'B06C-O', 'B06C-P', 'B06C-S', 'B06C-Si', 'B06C-X', 'B06Cl-B', 'B06Cl-Br', 'B06Cl-Cl', 'B06Cl-I', 'B06Cl-Si', 'B06Cl-X', 'B06F-B', 'B06F-Br', 'B06F-Cl', 'B06F-F', 'B06F-I', 'B06F-Si', 'B06F-X', 'B06I-B', 'B06I-I', 'B06I-Si', 'B06I-X', 'B06N-B', 'B06N-Br', 'B06N-Cl', 'B06N-F', 'B06N-I', 'B06N-N', 'B06N-O', 'B06N-P', 'B06N-S', 'B06N-Si', 'B06N-X', 'B06O-B', 'B06O-Br', 'B06O-Cl', 'B06O-F', 'B06O-I', 'B06O-O', 'B06O-P', 'B06O-S', 'B06O-Si', 'B06O-X', 'B06P-B', 'B06P-Br', 'B06P-Cl', 'B06P-F', 'B06P-I', 'B06P-P', 'B06P-Si', 'B06P-X', 'B06S-B', 'B06S-Br', 'B06S-Cl', 'B06S-F', 'B06S-I', 'B06S-P', 'B06S-S', 'B06S-Si', 'B06S-X', 'B06Si-Si', 'B06Si-X', 'B06X-X', 'B07B-B', 'B07B-Si', 'B07B-X', 'B07Br-B', 'B07Br-Br', 'B07Br-I', 'B07Br-Si', 'B07Br-X', 'B07C-B', 'B07C-Br', 'B07C-C', 'B07C-Cl', 'B07C-F', 'B07C-I', 'B07C-N', 'B07C-O', 'B07C-P', 'B07C-S', 'B07C-Si', 'B07C-X', 'B07Cl-B', 'B07Cl-Br', 'B07Cl-Cl', 'B07Cl-I', 'B07Cl-Si', 'B07Cl-X', 'B07F-B', 'B07F-Br', 'B07F-Cl', 'B07F-F', 'B07F-I', 'B07F-Si', 'B07F-X', 'B07I-B', 'B07I-I', 'B07I-Si', 'B07I-X', 'B07N-B', 'B07N-Br', 'B07N-Cl', 'B07N-F', 'B07N-I', 'B07N-N', 'B07N-O', 'B07N-P', 'B07N-S', 'B07N-Si', 'B07N-X', 'B07O-B', 'B07O-Br', 'B07O-Cl', 'B07O-F', 'B07O-I', 'B07O-O', 'B07O-P', 'B07O-S', 'B07O-Si', 'B07O-X', 'B07P-B', 'B07P-Br', 'B07P-Cl', 'B07P-F', 'B07P-I', 'B07P-P', 'B07P-Si', 'B07P-X', 'B07S-B', 'B07S-Br', 'B07S-Cl', 'B07S-F', 'B07S-I', 'B07S-P', 'B07S-S', 'B07S-Si', 'B07S-X', 'B07Si-Si', 'B07Si-X', 'B07X-X', 'B08B-B', 'B08B-Si', 'B08B-X', 'B08Br-B', 'B08Br-Br', 'B08Br-I', 'B08Br-Si', 'B08Br-X', 'B08C-B', 'B08C-Br', 'B08C-C', 'B08C-Cl', 'B08C-F', 'B08C-I', 'B08C-N', 'B08C-O', 'B08C-P', 'B08C-S', 'B08C-Si', 'B08C-X', 'B08Cl-B', 'B08Cl-Br', 'B08Cl-Cl', 'B08Cl-I', 'B08Cl-Si', 'B08Cl-X', 'B08F-B', 'B08F-Br', 'B08F-Cl', 'B08F-F', 'B08F-I', 'B08F-Si', 'B08F-X', 'B08I-B', 'B08I-I', 'B08I-Si', 'B08I-X', 'B08N-B', 'B08N-Br', 'B08N-Cl', 'B08N-F', 'B08N-I', 'B08N-N', 'B08N-O', 'B08N-P', 'B08N-S', 'B08N-Si', 'B08N-X', 'B08O-B', 'B08O-Br', 'B08O-Cl', 'B08O-F', 'B08O-I', 'B08O-O', 'B08O-P', 'B08O-S', 'B08O-Si', 'B08O-X', 'B08P-B', 'B08P-Br', 'B08P-Cl', 'B08P-F', 'B08P-I', 'B08P-P', 'B08P-Si', 'B08P-X', 'B08S-B', 'B08S-Br', 'B08S-Cl', 'B08S-F', 'B08S-I', 'B08S-P', 'B08S-S', 'B08S-Si', 'B08S-X', 'B08Si-Si', 'B08Si-X', 'B08X-X', 'B09B-B', 'B09B-Si', 'B09B-X', 'B09Br-B', 'B09Br-Br', 'B09Br-I', 'B09Br-Si', 'B09Br-X', 'B09C-B', 'B09C-Br', 'B09C-C', 'B09C-Cl', 'B09C-F', 'B09C-I', 'B09C-N', 'B09C-O', 'B09C-P', 'B09C-S', 'B09C-Si', 'B09C-X', 'B09Cl-B', 'B09Cl-Br', 'B09Cl-Cl', 'B09Cl-I', 'B09Cl-Si', 'B09Cl-X', 'B09F-B', 'B09F-Br', 'B09F-Cl', 'B09F-F', 'B09F-I', 'B09F-Si', 'B09F-X', 'B09I-B', 'B09I-I', 'B09I-Si', 'B09I-X', 'B09N-B', 'B09N-Br', 'B09N-Cl', 'B09N-F', 'B09N-I', 'B09N-N', 'B09N-O', 'B09N-P', 'B09N-S', 'B09N-Si', 'B09N-X', 'B09O-B', 'B09O-Br', 'B09O-Cl', 'B09O-F', 'B09O-I', 'B09O-O', 'B09O-P', 'B09O-S', 'B09O-Si', 'B09O-X', 'B09P-B', 'B09P-Br', 'B09P-Cl', 'B09P-F', 'B09P-I', 'B09P-P', 'B09P-Si', 'B09P-X', 'B09S-B', 'B09S-Br', 'B09S-Cl', 'B09S-F', 'B09S-I', 'B09S-P', 'B09S-S', 'B09S-Si', 'B09S-X', 'B09Si-Si', 'B09Si-X', 'B09X-X', 'B10B-B', 'B10B-Si', 'B10B-X', 'B10Br-B', 'B10Br-Br', 'B10Br-I', 'B10Br-Si', 'B10Br-X', 'B10C-B', 'B10C-Br', 'B10C-C', 'B10C-Cl', 'B10C-F', 'B10C-I', 'B10C-N', 'B10C-O', 'B10C-P', 'B10C-S', 'B10C-Si', 'B10C-X', 'B10Cl-B', 'B10Cl-Br', 'B10Cl-Cl', 'B10Cl-I', 'B10Cl-Si', 'B10Cl-X', 'B10F-B', 'B10F-Br', 'B10F-Cl', 'B10F-F', 'B10F-I', 'B10F-Si', 'B10F-X', 'B10I-B', 'B10I-I', 'B10I-Si', 'B10I-X', 'B10N-B', 'B10N-Br', 'B10N-Cl', 'B10N-F', 'B10N-I', 'B10N-N', 'B10N-O', 'B10N-P', 'B10N-S', 'B10N-Si', 'B10N-X', 'B10O-B', 'B10O-Br', 'B10O-Cl', 'B10O-F', 'B10O-I', 'B10O-O', 'B10O-P', 'B10O-S', 'B10O-Si', 'B10O-X', 'B10P-B', 'B10P-Br', 'B10P-Cl', 'B10P-F', 'B10P-I', 'B10P-P', 'B10P-Si', 'B10P-X', 'B10S-B', 'B10S-Br', 'B10S-Cl', 'B10S-F', 'B10S-I', 'B10S-P', 'B10S-S', 'B10S-Si', 'B10S-X', 'B10Si-Si', 'B10Si-X', 'B10X-X', 'BAC', 'BBI', 'BIC0', 'BIC1', 'BIC2', 'BIC3', 'BIC4', 'BIC5', 'BID', 'BLI', 'Br-091', 'Br-092', 'Br-093', 'Br-094', 'Br-095', 'Br-103', 'C%', 'C-001', 'C-002', 'C-003', 'C-004', 'C-005', 'C-006', 'C-007', 'C-008', 'C-009', 'C-010', 'C-011', 'C-012', 'C-013', 'C-014', 'C-015', 'C-016', 'C-017', 'C-018', 'C-019', 'C-020', 'C-021', 'C-022', 'C-023', 'C-024', 'C-025', 'C-026', 'C-027', 'C-028', 'C-029', 'C-030', 'C-031', 'C-032', 'C-033', 'C-034', 'C-035', 'C-036', 'C-037', 'C-038', 'C-039', 'C-040', 'C-041', 'C-042', 'C-043', 'C-044', 'CATS2D_00_AA', 'CATS2D_00_AL', 'CATS2D_00_AN', 'CATS2D_00_AP', 'CATS2D_00_DA', 'CATS2D_00_DD', 'CATS2D_00_DL', 'CATS2D_00_DN', 'CATS2D_00_DP', 'CATS2D_00_LL', 'CATS2D_00_NL', 'CATS2D_00_NN', 'CATS2D_00_PL', 'CATS2D_00_PN', 'CATS2D_00_PP', 'CATS2D_01_AA', 'CATS2D_01_AL', 'CATS2D_01_AN', 'CATS2D_01_AP', 'CATS2D_01_DA', 'CATS2D_01_DD', 'CATS2D_01_DL', 'CATS2D_01_DN', 'CATS2D_01_DP', 'CATS2D_01_LL', 'CATS2D_01_NL', 'CATS2D_01_NN', 'CATS2D_01_PL', 'CATS2D_01_PN', 'CATS2D_01_PP', 'CATS2D_02_AA', 'CATS2D_02_AL', 'CATS2D_02_AN', 'CATS2D_02_AP', 'CATS2D_02_DA', 'CATS2D_02_DD', 'CATS2D_02_DL', 'CATS2D_02_DN', 'CATS2D_02_DP', 'CATS2D_02_LL', 'CATS2D_02_NL', 'CATS2D_02_NN', 'CATS2D_02_PL', 'CATS2D_02_PN', 'CATS2D_02_PP', 'CATS2D_03_AA', 'CATS2D_03_AL', 'CATS2D_03_AN', 'CATS2D_03_AP', 'CATS2D_03_DA', 'CATS2D_03_DD', 'CATS2D_03_DL', 'CATS2D_03_DN', 'CATS2D_03_DP', 'CATS2D_03_LL', 'CATS2D_03_NL', 'CATS2D_03_NN', 'CATS2D_03_PL', 'CATS2D_03_PN', 'CATS2D_03_PP', 'CATS2D_04_AA', 'CATS2D_04_AL', 'CATS2D_04_AN', 'CATS2D_04_AP', 'CATS2D_04_DA', 'CATS2D_04_DD', 'CATS2D_04_DL', 'CATS2D_04_DN', 'CATS2D_04_DP', 'CATS2D_04_LL', 'CATS2D_04_NL', 'CATS2D_04_NN', 'CATS2D_04_PL', 'CATS2D_04_PN', 'CATS2D_04_PP', 'CATS2D_05_AA', 'CATS2D_05_AL', 'CATS2D_05_AN', 'CATS2D_05_AP', 'CATS2D_05_DA', 'CATS2D_05_DD', 'CATS2D_05_DL', 'CATS2D_05_DN', 'CATS2D_05_DP', 'CATS2D_05_LL', 'CATS2D_05_NL', 'CATS2D_05_NN', 'CATS2D_05_PL', 'CATS2D_05_PN', 'CATS2D_05_PP', 'CATS2D_06_AA', 'CATS2D_06_AL', 'CATS2D_06_AN', 'CATS2D_06_AP', 'CATS2D_06_DA', 'CATS2D_06_DD', 'CATS2D_06_DL', 'CATS2D_06_DN', 'CATS2D_06_DP', 'CATS2D_06_LL', 'CATS2D_06_NL', 'CATS2D_06_NN', 'CATS2D_06_PL', 'CATS2D_06_PN', 'CATS2D_06_PP', 'CATS2D_07_AA', 'CATS2D_07_AL', 'CATS2D_07_AN', 'CATS2D_07_AP', 'CATS2D_07_DA', 'CATS2D_07_DD', 'CATS2D_07_DL', 'CATS2D_07_DN', 'CATS2D_07_DP', 'CATS2D_07_LL', 'CATS2D_07_NL', 'CATS2D_07_NN', 'CATS2D_07_PL', 'CATS2D_07_PN', 'CATS2D_07_PP', 'CATS2D_08_AA', 'CATS2D_08_AL', 'CATS2D_08_AN', 'CATS2D_08_AP', 'CATS2D_08_DA', 'CATS2D_08_DD', 'CATS2D_08_DL', 'CATS2D_08_DN', 'CATS2D_08_DP', 'CATS2D_08_LL', 'CATS2D_08_NL', 'CATS2D_08_NN', 'CATS2D_08_PL', 'CATS2D_08_PN', 'CATS2D_08_PP', 'CATS2D_09_AA', 'CATS2D_09_AL', 'CATS2D_09_AN', 'CATS2D_09_AP', 'CATS2D_09_DA', 'CATS2D_09_DD', 'CATS2D_09_DL', 'CATS2D_09_DN', 'CATS2D_09_DP', 'CATS2D_09_LL', 'CATS2D_09_NL', 'CATS2D_09_NN', 'CATS2D_09_PL', 'CATS2D_09_PN', 'CATS2D_09_PP', 'CATS3D_00_AA', 'CATS3D_00_AL', 'CATS3D_00_AN', 'CATS3D_00_AP', 'CATS3D_00_DA', 'CATS3D_00_DD', 'CATS3D_00_DL', 'CATS3D_00_DN', 'CATS3D_00_DP', 'CATS3D_00_LL', 'CATS3D_00_NL', 'CATS3D_00_NN', 'CATS3D_00_PL', 'CATS3D_00_PN', 'CATS3D_00_PP', 'CATS3D_01_AA', 'CATS3D_01_AL', 'CATS3D_01_AN', 'CATS3D_01_AP', 'CATS3D_01_DA', 'CATS3D_01_DD', 'CATS3D_01_DL', 'CATS3D_01_DN', 'CATS3D_01_DP', 'CATS3D_01_LL', 'CATS3D_01_NL', 'CATS3D_01_NN', 'CATS3D_01_PL', 'CATS3D_01_PN', 'CATS3D_01_PP', 'CATS3D_02_AA', 'CATS3D_02_AL', 'CATS3D_02_AN', 'CATS3D_02_AP', 'CATS3D_02_DA', 'CATS3D_02_DD', 'CATS3D_02_DL', 'CATS3D_02_DN', 'CATS3D_02_DP', 'CATS3D_02_LL', 'CATS3D_02_NL', 'CATS3D_02_NN', 'CATS3D_02_PL', 'CATS3D_02_PN', 'CATS3D_02_PP', 'CATS3D_03_AA', 'CATS3D_03_AL', 'CATS3D_03_AN', 'CATS3D_03_AP', 'CATS3D_03_DA', 'CATS3D_03_DD', 'CATS3D_03_DL', 'CATS3D_03_DN', 'CATS3D_03_DP', 'CATS3D_03_LL', 'CATS3D_03_NL', 'CATS3D_03_NN', 'CATS3D_03_PL', 'CATS3D_03_PN', 'CATS3D_03_PP', 'CATS3D_04_AA', 'CATS3D_04_AL', 'CATS3D_04_AN', 'CATS3D_04_AP', 'CATS3D_04_DA', 'CATS3D_04_DD', 'CATS3D_04_DL', 'CATS3D_04_DN', 'CATS3D_04_DP', 'CATS3D_04_LL', 'CATS3D_04_NL', 'CATS3D_04_NN', 'CATS3D_04_PL', 'CATS3D_04_PN', 'CATS3D_04_PP', 'CATS3D_05_AA', 'CATS3D_05_AL', 'CATS3D_05_AN', 'CATS3D_05_AP', 'CATS3D_05_DA', 'CATS3D_05_DD', 'CATS3D_05_DL', 'CATS3D_05_DN', 'CATS3D_05_DP', 'CATS3D_05_LL', 'CATS3D_05_NL', 'CATS3D_05_NN', 'CATS3D_05_PL', 'CATS3D_05_PN', 'CATS3D_05_PP', 'CATS3D_06_AA', 'CATS3D_06_AL', 'CATS3D_06_AN', 'CATS3D_06_AP', 'CATS3D_06_DA', 'CATS3D_06_DD', 'CATS3D_06_DL', 'CATS3D_06_DN', 'CATS3D_06_DP', 'CATS3D_06_LL', 'CATS3D_06_NL', 'CATS3D_06_NN', 'CATS3D_06_PL', 'CATS3D_06_PN', 'CATS3D_06_PP', 'CATS3D_07_AA', 'CATS3D_07_AL', 'CATS3D_07_AN', 'CATS3D_07_AP', 'CATS3D_07_DA', 'CATS3D_07_DD', 'CATS3D_07_DL', 'CATS3D_07_DN', 'CATS3D_07_DP', 'CATS3D_07_LL', 'CATS3D_07_NL', 'CATS3D_07_NN', 'CATS3D_07_PL', 'CATS3D_07_PN', 'CATS3D_07_PP', 'CATS3D_08_AA', 'CATS3D_08_AL', 'CATS3D_08_AN', 'CATS3D_08_AP', 'CATS3D_08_DA', 'CATS3D_08_DD', 'CATS3D_08_DL', 'CATS3D_08_DN', 'CATS3D_08_DP', 'CATS3D_08_LL', 'CATS3D_08_NL', 'CATS3D_08_NN', 'CATS3D_08_PL', 'CATS3D_08_PN', 'CATS3D_08_PP', 'CATS3D_09_AA', 'CATS3D_09_AL', 'CATS3D_09_AN', 'CATS3D_09_AP', 'CATS3D_09_DA', 'CATS3D_09_DD', 'CATS3D_09_DL', 'CATS3D_09_DN', 'CATS3D_09_DP', 'CATS3D_09_LL', 'CATS3D_09_NL', 'CATS3D_09_NN', 'CATS3D_09_PL', 'CATS3D_09_PN', 'CATS3D_09_PP', 'CATS3D_10_AA', 'CATS3D_10_AL', 'CATS3D_10_AN', 'CATS3D_10_AP', 'CATS3D_10_DA', 'CATS3D_10_DD', 'CATS3D_10_DL', 'CATS3D_10_DN', 'CATS3D_10_DP', 'CATS3D_10_LL', 'CATS3D_10_NL', 'CATS3D_10_NN', 'CATS3D_10_PL', 'CATS3D_10_PN', 'CATS3D_10_PP', 'CATS3D_11_AA', 'CATS3D_11_AL', 'CATS3D_11_AN', 'CATS3D_11_AP', 'CATS3D_11_DA', 'CATS3D_11_DD', 'CATS3D_11_DL', 'CATS3D_11_DN', 'CATS3D_11_DP', 'CATS3D_11_LL', 'CATS3D_11_NL', 'CATS3D_11_NN', 'CATS3D_11_PL', 'CATS3D_11_PN', 'CATS3D_11_PP', 'CATS3D_12_AA', 'CATS3D_12_AL', 'CATS3D_12_AN', 'CATS3D_12_AP', 'CATS3D_12_DA', 'CATS3D_12_DD', 'CATS3D_12_DL', 'CATS3D_12_DN', 'CATS3D_12_DP', 'CATS3D_12_LL', 'CATS3D_12_NL', 'CATS3D_12_NN', 'CATS3D_12_PL', 'CATS3D_12_PN', 'CATS3D_12_PP', 'CATS3D_13_AA', 'CATS3D_13_AL', 'CATS3D_13_AN', 'CATS3D_13_AP', 'CATS3D_13_DA', 'CATS3D_13_DD', 'CATS3D_13_DL', 'CATS3D_13_DN', 'CATS3D_13_DP', 'CATS3D_13_LL', 'CATS3D_13_NL', 'CATS3D_13_NN', 'CATS3D_13_PL', 'CATS3D_13_PN', 'CATS3D_13_PP', 'CATS3D_14_AA', 'CATS3D_14_AL', 'CATS3D_14_AN', 'CATS3D_14_AP', 'CATS3D_14_DA', 'CATS3D_14_DD', 'CATS3D_14_DL', 'CATS3D_14_DN', 'CATS3D_14_DP', 'CATS3D_14_LL', 'CATS3D_14_NL', 'CATS3D_14_NN', 'CATS3D_14_PL', 'CATS3D_14_PN', 'CATS3D_14_PP', 'CATS3D_15_AA', 'CATS3D_15_AL', 'CATS3D_15_AN', 'CATS3D_15_AP', 'CATS3D_15_DA', 'CATS3D_15_DD', 'CATS3D_15_DL', 'CATS3D_15_DN', 'CATS3D_15_DP', 'CATS3D_15_LL', 'CATS3D_15_NL', 'CATS3D_15_NN', 'CATS3D_15_PL', 'CATS3D_15_PN', 'CATS3D_15_PP', 'CATS3D_16_AA', 'CATS3D_16_AL', 'CATS3D_16_AN', 'CATS3D_16_AP', 'CATS3D_16_DA', 'CATS3D_16_DD', 'CATS3D_16_DL', 'CATS3D_16_DN', 'CATS3D_16_DP', 'CATS3D_16_LL', 'CATS3D_16_NL', 'CATS3D_16_NN', 'CATS3D_16_PL', 'CATS3D_16_PN', 'CATS3D_16_PP', 'CATS3D_17_AA', 'CATS3D_17_AL', 'CATS3D_17_AN', 'CATS3D_17_AP', 'CATS3D_17_DA', 'CATS3D_17_DD', 'CATS3D_17_DL', 'CATS3D_17_DN', 'CATS3D_17_DP', 'CATS3D_17_LL', 'CATS3D_17_NL', 'CATS3D_17_NN', 'CATS3D_17_PL', 'CATS3D_17_PN', 'CATS3D_17_PP', 'CATS3D_18_AA', 'CATS3D_18_AL', 'CATS3D_18_AN', 'CATS3D_18_AP', 'CATS3D_18_DA', 'CATS3D_18_DD', 'CATS3D_18_DL', 'CATS3D_18_DN', 'CATS3D_18_DP', 'CATS3D_18_LL', 'CATS3D_18_NL', 'CATS3D_18_NN', 'CATS3D_18_PL', 'CATS3D_18_PN', 'CATS3D_18_PP', 'CATS3D_19_AA', 'CATS3D_19_AL', 'CATS3D_19_AN', 'CATS3D_19_AP', 'CATS3D_19_DA', 'CATS3D_19_DD', 'CATS3D_19_DL', 'CATS3D_19_DN', 'CATS3D_19_DP', 'CATS3D_19_LL', 'CATS3D_19_NL', 'CATS3D_19_NN', 'CATS3D_19_PL', 'CATS3D_19_PN', 'CATS3D_19_PP', 'CENT', 'CIC0', 'CIC1', 'CIC2', 'CIC3', 'CIC4', 'CIC5', 'CID', 'CMBL', 'CSI', 'Chi0_AEA(bo)', 'Chi0_AEA(dm)', 'Chi0_AEA(ed)', 'Chi0_AEA(ri)', 'Chi0_EA', 'Chi0_EA(bo)', 'Chi0_EA(dm)', 'Chi0_EA(ed)', 'Chi0_EA(ri)', 'Chi1_AEA(bo)', 'Chi1_AEA(dm)', 'Chi1_AEA(ed)', 'Chi1_AEA(ri)', 'Chi1_EA', 'Chi1_EA(bo)', 'Chi1_EA(dm)', 'Chi1_EA(ed)', 'Chi1_EA(ri)', 'ChiA_B(e)', 'ChiA_B(i)', 'ChiA_B(m)', 'ChiA_B(p)', 'ChiA_B(s)', 'ChiA_B(v)', 'ChiA_D', 'ChiA_D/Dt', 'ChiA_Dt', 'ChiA_Dz(Z)', 'ChiA_Dz(e)', 'ChiA_Dz(i)', 'ChiA_Dz(m)', 'ChiA_Dz(v)', 'ChiA_G', 'ChiA_G/D', 'ChiA_H2', 'ChiA_RG', 'ChiA_X', 'Chi_B(e)', 'Chi_B(i)', 'Chi_B(m)', 'Chi_B(p)', 'Chi_B(s)', 'Chi_B(v)', 'Chi_D', 'Chi_D/Dt', 'Chi_Dt', 'Chi_Dz(Z)', 'Chi_Dz(e)', 'Chi_Dz(i)', 'Chi_Dz(m)', 'Chi_Dz(v)', 'Chi_G', 'Chi_G/D', 'Chi_H2', 'Chi_RG', 'Chi_X', 'Cl-086', 'Cl-087', 'Cl-088', 'Cl-089', 'Cl-090', 'Cl-102', 'D/Dtr03', 'D/Dtr04', 'D/Dtr05', 'D/Dtr06', 'D/Dtr07', 'D/Dtr08', 'D/Dtr09', 'D/Dtr10', 'D/Dtr11', 'D/Dtr12', 'DBI', 'DECC', 'DELS', 'DISPe', 'DISPi', 'DISPm', 'DISPp', 'DISPs', 'DISPv', 'DLS_01', 'DLS_02', 'DLS_03', 'DLS_04', 'DLS_05', 'DLS_06', 'DLS_07', 'DLS_cons', 'DP01', 'DP02', 'DP03', 'DP04', 'DP05', 'DP06', 'DP07', 'DP08', 'DP09', 'DP10', 'DP11', 'DP12', 'DP13', 'DP14', 'DP15', 'DP16', 'DP17', 'DP18', 'DP19', 'DP20', 'De', 'Di', 'Dm', 'Dp', 'Ds', 'Du', 'Dv', 'Dz', 'E1e', 'E1i', 'E1m', 'E1p', 'E1s', 'E1u', 'E1v', 'E2e', 'E2i', 'E2m', 'E2p', 'E2s', 'E2u', 'E2v', 'E3e', 'E3i', 'E3m', 'E3p', 'E3s', 'E3u', 'E3v', 'ECC', 'EE_A', 'EE_B(e)', 'EE_B(i)', 'EE_B(m)', 'EE_B(p)', 'EE_B(s)', 'EE_B(v)', 'EE_D/Dt', 'EE_G/D', 'EE_H2', 'EE_L', 'EE_RG', 'EE_X', 'Eig01_AEA(bo)', 'Eig01_AEA(dm)', 'Eig01_AEA(ed)', 'Eig01_AEA(ri)', 'Eig01_EA', 'Eig01_EA(bo)', 'Eig01_EA(dm)', 'Eig01_EA(ed)', 'Eig01_EA(ri)', 'Eig02_AEA(bo)', 'Eig02_AEA(dm)', 'Eig02_AEA(ed)', 'Eig02_AEA(ri)', 'Eig02_EA', 'Eig02_EA(bo)', 'Eig02_EA(dm)', 'Eig02_EA(ed)', 'Eig02_EA(ri)', 'Eig03_AEA(bo)', 'Eig03_AEA(dm)', 'Eig03_AEA(ed)', 'Eig03_AEA(ri)', 'Eig03_EA', 'Eig03_EA(bo)', 'Eig03_EA(dm)', 'Eig03_EA(ed)', 'Eig03_EA(ri)', 'Eig04_AEA(bo)', 'Eig04_AEA(dm)', 'Eig04_AEA(ed)', 'Eig04_AEA(ri)', 'Eig04_EA', 'Eig04_EA(bo)', 'Eig04_EA(dm)', 'Eig04_EA(ed)', 'Eig04_EA(ri)', 'Eig05_AEA(bo)', 'Eig05_AEA(dm)', 'Eig05_AEA(ed)', 'Eig05_AEA(ri)', 'Eig05_EA', 'Eig05_EA(bo)', 'Eig05_EA(dm)', 'Eig05_EA(ed)', 'Eig05_EA(ri)', 'Eig06_AEA(bo)', 'Eig06_AEA(dm)', 'Eig06_AEA(ed)', 'Eig06_AEA(ri)', 'Eig06_EA', 'Eig06_EA(bo)', 'Eig06_EA(dm)', 'Eig06_EA(ed)', 'Eig06_EA(ri)', 'Eig07_AEA(bo)', 'Eig07_AEA(dm)', 'Eig07_AEA(ed)', 'Eig07_AEA(ri)', 'Eig07_EA', 'Eig07_EA(bo)', 'Eig07_EA(dm)', 'Eig07_EA(ed)', 'Eig07_EA(ri)', 'Eig08_AEA(bo)', 'Eig08_AEA(dm)', 'Eig08_AEA(ed)', 'Eig08_AEA(ri)', 'Eig08_EA', 'Eig08_EA(bo)', 'Eig08_EA(dm)', 'Eig08_EA(ed)', 'Eig08_EA(ri)', 'Eig09_AEA(bo)', 'Eig09_AEA(dm)', 'Eig09_AEA(ed)', 'Eig09_AEA(ri)', 'Eig09_EA', 'Eig09_EA(bo)', 'Eig09_EA(dm)', 'Eig09_EA(ed)', 'Eig09_EA(ri)', 'Eig10_AEA(bo)', 'Eig10_AEA(dm)', 'Eig10_AEA(ed)', 'Eig10_AEA(ri)', 'Eig10_EA', 'Eig10_EA(bo)', 'Eig10_EA(dm)', 'Eig10_EA(ed)', 'Eig10_EA(ri)', 'Eig11_AEA(bo)', 'Eig11_AEA(dm)', 'Eig11_AEA(ed)', 'Eig11_AEA(ri)', 'Eig11_EA', 'Eig11_EA(bo)', 'Eig11_EA(dm)', 'Eig11_EA(ed)', 'Eig11_EA(ri)', 'Eig12_AEA(bo)', 'Eig12_AEA(dm)', 'Eig12_AEA(ed)', 'Eig12_AEA(ri)', 'Eig12_EA', 'Eig12_EA(bo)', 'Eig12_EA(dm)', 'Eig12_EA(ed)', 'Eig12_EA(ri)', 'Eig13_AEA(bo)', 'Eig13_AEA(dm)', 'Eig13_AEA(ed)', 'Eig13_AEA(ri)', 'Eig13_EA', 'Eig13_EA(bo)', 'Eig13_EA(dm)', 'Eig13_EA(ed)', 'Eig13_EA(ri)', 'Eig14_AEA(bo)', 'Eig14_AEA(dm)', 'Eig14_AEA(ed)', 'Eig14_AEA(ri)', 'Eig14_EA', 'Eig14_EA(bo)', 'Eig14_EA(dm)', 'Eig14_EA(ed)', 'Eig14_EA(ri)', 'Eig15_AEA(bo)', 'Eig15_AEA(dm)', 'Eig15_AEA(ed)', 'Eig15_AEA(ri)', 'Eig15_EA', 'Eig15_EA(bo)', 'Eig15_EA(dm)', 'Eig15_EA(ed)', 'Eig15_EA(ri)', 'Eta_C', 'Eta_C_A', 'Eta_F', 'Eta_FL', 'Eta_FL_A', 'Eta_F_A', 'Eta_L', 'Eta_L_A', 'Eta_alpha', 'Eta_alpha_A', 'Eta_beta', 'Eta_betaP', 'Eta_betaP_A', 'Eta_betaS', 'Eta_betaS_A', 'Eta_beta_A', 'Eta_epsi', 'Eta_epsi_A', 'Eta_sh_p', 'Eta_sh_x', 'Eta_sh_y', 'F-081', 'F-082', 'F-083', 'F-084', 'F-085', 'F-101', 'F01B-B', 'F01B-Si', 'F01B-X', 'F01Br-B', 'F01Br-Br', 'F01Br-I', 'F01Br-Si', 'F01Br-X', 'F01C-B', 'F01C-Br', 'F01C-C', 'F01C-Cl', 'F01C-F', 'F01C-I', 'F01C-N', 'F01C-O', 'F01C-P', 'F01C-S', 'F01C-Si', 'F01C-X', 'F01Cl-B', 'F01Cl-Br', 'F01Cl-Cl', 'F01Cl-I', 'F01Cl-Si', 'F01Cl-X', 'F01F-B', 'F01F-Br', 'F01F-Cl', 'F01F-F', 'F01F-I', 'F01F-Si', 'F01F-X', 'F01I-B', 'F01I-I', 'F01I-Si', 'F01I-X', 'F01N-B', 'F01N-Br', 'F01N-Cl', 'F01N-F', 'F01N-I', 'F01N-N', 'F01N-O', 'F01N-P', 'F01N-S', 'F01N-Si', 'F01N-X', 'F01O-B', 'F01O-Br', 'F01O-Cl', 'F01O-F', 'F01O-I', 'F01O-O', 'F01O-P', 'F01O-S', 'F01O-Si', 'F01O-X', 'F01P-B', 'F01P-Br', 'F01P-Cl', 'F01P-F', 'F01P-I', 'F01P-P', 'F01P-Si', 'F01P-X', 'F01S-B', 'F01S-Br', 'F01S-Cl', 'F01S-F', 'F01S-I', 'F01S-P', 'F01S-S', 'F01S-Si', 'F01S-X', 'F01Si-Si', 'F01Si-X', 'F01X-X', 'F02B-B', 'F02B-Si', 'F02B-X', 'F02Br-B', 'F02Br-Br', 'F02Br-I', 'F02Br-Si', 'F02Br-X', 'F02C-B', 'F02C-Br', 'F02C-C', 'F02C-Cl', 'F02C-F', 'F02C-I', 'F02C-N', 'F02C-O', 'F02C-P', 'F02C-S', 'F02C-Si', 'F02C-X', 'F02Cl-B', 'F02Cl-Br', 'F02Cl-Cl', 'F02Cl-I', 'F02Cl-Si', 'F02Cl-X', 'F02F-B', 'F02F-Br', 'F02F-Cl', 'F02F-F', 'F02F-I', 'F02F-Si', 'F02F-X', 'F02I-B', 'F02I-I', 'F02I-Si', 'F02I-X', 'F02N-B', 'F02N-Br', 'F02N-Cl', 'F02N-F', 'F02N-I', 'F02N-N', 'F02N-O', 'F02N-P', 'F02N-S', 'F02N-Si', 'F02N-X', 'F02O-B', 'F02O-Br', 'F02O-Cl', 'F02O-F', 'F02O-I', 'F02O-O', 'F02O-P', 'F02O-S', 'F02O-Si', 'F02O-X', 'F02P-B', 'F02P-Br', 'F02P-Cl', 'F02P-F', 'F02P-I', 'F02P-P', 'F02P-Si', 'F02P-X', 'F02S-B', 'F02S-Br', 'F02S-Cl', 'F02S-F', 'F02S-I', 'F02S-P', 'F02S-S', 'F02S-Si', 'F02S-X', 'F02Si-Si', 'F02Si-X', 'F02X-X', 'F03B-B', 'F03B-Si', 'F03B-X', 'F03Br-B', 'F03Br-Br', 'F03Br-I', 'F03Br-Si', 'F03Br-X', 'F03C-B', 'F03C-Br', 'F03C-C', 'F03C-Cl', 'F03C-F', 'F03C-I', 'F03C-N', 'F03C-O', 'F03C-P', 'F03C-S', 'F03C-Si', 'F03C-X', 'F03Cl-B', 'F03Cl-Br', 'F03Cl-Cl', 'F03Cl-I', 'F03Cl-Si', 'F03Cl-X', 'F03F-B', 'F03F-Br', 'F03F-Cl', 'F03F-F', 'F03F-I', 'F03F-Si', 'F03F-X', 'F03I-B', 'F03I-I', 'F03I-Si', 'F03I-X', 'F03N-B', 'F03N-Br', 'F03N-Cl', 'F03N-F', 'F03N-I', 'F03N-N', 'F03N-O', 'F03N-P', 'F03N-S', 'F03N-Si', 'F03N-X', 'F03O-B', 'F03O-Br', 'F03O-Cl', 'F03O-F', 'F03O-I', 'F03O-O', 'F03O-P', 'F03O-S', 'F03O-Si', 'F03O-X', 'F03P-B', 'F03P-Br', 'F03P-Cl', 'F03P-F', 'F03P-I', 'F03P-P', 'F03P-Si', 'F03P-X', 'F03S-B', 'F03S-Br', 'F03S-Cl', 'F03S-F', 'F03S-I', 'F03S-P', 'F03S-S', 'F03S-Si', 'F03S-X', 'F03Si-Si', 'F03Si-X', 'F03X-X', 'F04B-B', 'F04B-Si', 'F04B-X', 'F04Br-B', 'F04Br-Br', 'F04Br-I', 'F04Br-Si', 'F04Br-X', 'F04C-B', 'F04C-Br', 'F04C-C', 'F04C-Cl', 'F04C-F', 'F04C-I', 'F04C-N', 'F04C-O', 'F04C-P', 'F04C-S', 'F04C-Si', 'F04C-X', 'F04Cl-B', 'F04Cl-Br', 'F04Cl-Cl', 'F04Cl-I', 'F04Cl-Si', 'F04Cl-X', 'F04F-B', 'F04F-Br', 'F04F-Cl', 'F04F-F', 'F04F-I', 'F04F-Si', 'F04F-X', 'F04I-B', 'F04I-I', 'F04I-Si', 'F04I-X', 'F04N-B', 'F04N-Br', 'F04N-Cl', 'F04N-F', 'F04N-I', 'F04N-N', 'F04N-O', 'F04N-P', 'F04N-S', 'F04N-Si', 'F04N-X', 'F04O-B', 'F04O-Br', 'F04O-Cl', 'F04O-F', 'F04O-I', 'F04O-O', 'F04O-P', 'F04O-S', 'F04O-Si', 'F04O-X', 'F04P-B', 'F04P-Br', 'F04P-Cl', 'F04P-F', 'F04P-I', 'F04P-P', 'F04P-Si', 'F04P-X', 'F04S-B', 'F04S-Br', 'F04S-Cl', 'F04S-F', 'F04S-I', 'F04S-P', 'F04S-S', 'F04S-Si', 'F04S-X', 'F04Si-Si', 'F04Si-X', 'F04X-X', 'F05B-B', 'F05B-Si', 'F05B-X', 'F05Br-B', 'F05Br-Br', 'F05Br-I', 'F05Br-Si', 'F05Br-X', 'F05C-B', 'F05C-Br', 'F05C-C', 'F05C-Cl', 'F05C-F', 'F05C-I', 'F05C-N', 'F05C-O', 'F05C-P', 'F05C-S', 'F05C-Si', 'F05C-X', 'F05Cl-B', 'F05Cl-Br', 'F05Cl-Cl', 'F05Cl-I', 'F05Cl-Si', 'F05Cl-X', 'F05F-B', 'F05F-Br', 'F05F-Cl', 'F05F-F', 'F05F-I', 'F05F-Si', 'F05F-X', 'F05I-B', 'F05I-I', 'F05I-Si', 'F05I-X', 'F05N-B', 'F05N-Br', 'F05N-Cl', 'F05N-F', 'F05N-I', 'F05N-N', 'F05N-O', 'F05N-P', 'F05N-S', 'F05N-Si', 'F05N-X', 'F05O-B', 'F05O-Br', 'F05O-Cl', 'F05O-F', 'F05O-I', 'F05O-O', 'F05O-P', 'F05O-S', 'F05O-Si', 'F05O-X', 'F05P-B', 'F05P-Br', 'F05P-Cl', 'F05P-F', 'F05P-I', 'F05P-P', 'F05P-Si', 'F05P-X', 'F05S-B', 'F05S-Br', 'F05S-Cl', 'F05S-F', 'F05S-I', 'F05S-P', 'F05S-S', 'F05S-Si', 'F05S-X', 'F05Si-Si', 'F05Si-X', 'F05X-X', 'F06B-B', 'F06B-Si', 'F06B-X', 'F06Br-B', 'F06Br-Br', 'F06Br-I', 'F06Br-Si', 'F06Br-X', 'F06C-B', 'F06C-Br', 'F06C-C', 'F06C-Cl', 'F06C-F', 'F06C-I', 'F06C-N', 'F06C-O', 'F06C-P', 'F06C-S', 'F06C-Si', 'F06C-X', 'F06Cl-B', 'F06Cl-Br', 'F06Cl-Cl', 'F06Cl-I', 'F06Cl-Si', 'F06Cl-X', 'F06F-B', 'F06F-Br', 'F06F-Cl', 'F06F-F', 'F06F-I', 'F06F-Si', 'F06F-X', 'F06I-B', 'F06I-I', 'F06I-Si', 'F06I-X', 'F06N-B', 'F06N-Br', 'F06N-Cl', 'F06N-F', 'F06N-I', 'F06N-N', 'F06N-O', 'F06N-P', 'F06N-S', 'F06N-Si', 'F06N-X', 'F06O-B', 'F06O-Br', 'F06O-Cl', 'F06O-F', 'F06O-I', 'F06O-O', 'F06O-P', 'F06O-S', 'F06O-Si', 'F06O-X', 'F06P-B', 'F06P-Br', 'F06P-Cl', 'F06P-F', 'F06P-I', 'F06P-P', 'F06P-Si', 'F06P-X', 'F06S-B', 'F06S-Br', 'F06S-Cl', 'F06S-F', 'F06S-I', 'F06S-P', 'F06S-S', 'F06S-Si', 'F06S-X', 'F06Si-Si', 'F06Si-X', 'F06X-X', 'F07B-B', 'F07B-Si', 'F07B-X', 'F07Br-B', 'F07Br-Br', 'F07Br-I', 'F07Br-Si', 'F07Br-X', 'F07C-B', 'F07C-Br', 'F07C-C', 'F07C-Cl', 'F07C-F', 'F07C-I', 'F07C-N', 'F07C-O', 'F07C-P', 'F07C-S', 'F07C-Si', 'F07C-X', 'F07Cl-B', 'F07Cl-Br', 'F07Cl-Cl', 'F07Cl-I', 'F07Cl-Si', 'F07Cl-X', 'F07F-B', 'F07F-Br', 'F07F-Cl', 'F07F-F', 'F07F-I', 'F07F-Si', 'F07F-X', 'F07I-B', 'F07I-I', 'F07I-Si', 'F07I-X', 'F07N-B', 'F07N-Br', 'F07N-Cl', 'F07N-F', 'F07N-I', 'F07N-N', 'F07N-O', 'F07N-P', 'F07N-S', 'F07N-Si', 'F07N-X', 'F07O-B', 'F07O-Br', 'F07O-Cl', 'F07O-F', 'F07O-I', 'F07O-O', 'F07O-P', 'F07O-S', 'F07O-Si', 'F07O-X', 'F07P-B', 'F07P-Br', 'F07P-Cl', 'F07P-F', 'F07P-I', 'F07P-P', 'F07P-Si', 'F07P-X', 'F07S-B', 'F07S-Br', 'F07S-Cl', 'F07S-F', 'F07S-I', 'F07S-P', 'F07S-S', 'F07S-Si', 'F07S-X', 'F07Si-Si', 'F07Si-X', 'F07X-X', 'F08B-B', 'F08B-Si', 'F08B-X', 'F08Br-B', 'F08Br-Br', 'F08Br-I', 'F08Br-Si', 'F08Br-X', 'F08C-B', 'F08C-Br', 'F08C-C', 'F08C-Cl', 'F08C-F', 'F08C-I', 'F08C-N', 'F08C-O', 'F08C-P', 'F08C-S', 'F08C-Si', 'F08C-X', 'F08Cl-B', 'F08Cl-Br', 'F08Cl-Cl', 'F08Cl-I', 'F08Cl-Si', 'F08Cl-X', 'F08F-B', 'F08F-Br', 'F08F-Cl', 'F08F-F', 'F08F-I', 'F08F-Si', 'F08F-X', 'F08I-B', 'F08I-I', 'F08I-Si', 'F08I-X', 'F08N-B', 'F08N-Br', 'F08N-Cl', 'F08N-F', 'F08N-I', 'F08N-N', 'F08N-O', 'F08N-P', 'F08N-S', 'F08N-Si', 'F08N-X', 'F08O-B', 'F08O-Br', 'F08O-Cl', 'F08O-F', 'F08O-I', 'F08O-O', 'F08O-P', 'F08O-S', 'F08O-Si', 'F08O-X', 'F08P-B', 'F08P-Br', 'F08P-Cl', 'F08P-F', 'F08P-I', 'F08P-P', 'F08P-Si', 'F08P-X', 'F08S-B', 'F08S-Br', 'F08S-Cl', 'F08S-F', 'F08S-I', 'F08S-P', 'F08S-S', 'F08S-Si', 'F08S-X', 'F08Si-Si', 'F08Si-X', 'F08X-X', 'F09B-B', 'F09B-Si', 'F09B-X', 'F09Br-B', 'F09Br-Br', 'F09Br-I', 'F09Br-Si', 'F09Br-X', 'F09C-B', 'F09C-Br', 'F09C-C', 'F09C-Cl', 'F09C-F', 'F09C-I', 'F09C-N', 'F09C-O', 'F09C-P', 'F09C-S', 'F09C-Si', 'F09C-X', 'F09Cl-B', 'F09Cl-Br', 'F09Cl-Cl', 'F09Cl-I', 'F09Cl-Si', 'F09Cl-X', 'F09F-B', 'F09F-Br', 'F09F-Cl', 'F09F-F', 'F09F-I', 'F09F-Si', 'F09F-X', 'F09I-B', 'F09I-I', 'F09I-Si', 'F09I-X', 'F09N-B', 'F09N-Br', 'F09N-Cl', 'F09N-F', 'F09N-I', 'F09N-N', 'F09N-O', 'F09N-P', 'F09N-S', 'F09N-Si', 'F09N-X', 'F09O-B', 'F09O-Br', 'F09O-Cl', 'F09O-F', 'F09O-I', 'F09O-O', 'F09O-P', 'F09O-S', 'F09O-Si', 'F09O-X', 'F09P-B', 'F09P-Br', 'F09P-Cl', 'F09P-F', 'F09P-I', 'F09P-P', 'F09P-Si', 'F09P-X', 'F09S-B', 'F09S-Br', 'F09S-Cl', 'F09S-F', 'F09S-I', 'F09S-P', 'F09S-S', 'F09S-Si', 'F09S-X', 'F09Si-Si', 'F09Si-X', 'F09X-X', 'F10B-B', 'F10B-Si', 'F10B-X', 'F10Br-B', 'F10Br-Br', 'F10Br-I', 'F10Br-Si', 'F10Br-X', 'F10C-B', 'F10C-Br', 'F10C-C', 'F10C-Cl', 'F10C-F', 'F10C-I', 'F10C-N', 'F10C-O', 'F10C-P', 'F10C-S', 'F10C-Si', 'F10C-X', 'F10Cl-B', 'F10Cl-Br', 'F10Cl-Cl', 'F10Cl-I', 'F10Cl-Si', 'F10Cl-X', 'F10F-B', 'F10F-Br', 'F10F-Cl', 'F10F-F', 'F10F-I', 'F10F-Si', 'F10F-X', 'F10I-B', 'F10I-I', 'F10I-Si', 'F10I-X', 'F10N-B', 'F10N-Br', 'F10N-Cl', 'F10N-F', 'F10N-I', 'F10N-N', 'F10N-O', 'F10N-P', 'F10N-S', 'F10N-Si', 'F10N-X', 'F10O-B', 'F10O-Br', 'F10O-Cl', 'F10O-F', 'F10O-I', 'F10O-O', 'F10O-P', 'F10O-S', 'F10O-Si', 'F10O-X', 'F10P-B', 'F10P-Br', 'F10P-Cl', 'F10P-F', 'F10P-I', 'F10P-P', 'F10P-Si', 'F10P-X', 'F10S-B', 'F10S-Br', 'F10S-Cl', 'F10S-F', 'F10S-I', 'F10S-P', 'F10S-S', 'F10S-Si', 'F10S-X', 'F10Si-Si', 'F10Si-X', 'F10X-X', 'G(Br..Br)', 'G(Br..I)', 'G(Cl..Br)', 'G(Cl..Cl)', 'G(Cl..I)', 'G(F..Br)', 'G(F..Cl)', 'G(F..F)', 'G(F..I)', 'G(I..I)', 'G(N..Br)', 'G(N..Cl)', 'G(N..F)', 'G(N..I)', 'G(N..N)', 'G(N..O)', 'G(N..P)', 'G(N..S)', 'G(O..Br)', 'G(O..Cl)', 'G(O..F)', 'G(O..I)', 'G(O..O)', 'G(O..P)', 'G(O..S)', 'G(P..Br)', 'G(P..Cl)', 'G(P..F)', 'G(P..I)', 'G(P..P)', 'G(S..Br)', 'G(S..Cl)', 'G(S..F)', 'G(S..I)', 'G(S..P)', 'G(S..S)', 'G1', 'G1e', 'G1i', 'G1m', 'G1p', 'G1s', 'G1u', 'G1v', 'G2', 'G2e', 'G2i', 'G2m', 'G2p', 'G2s', 'G2u', 'G2v', 'G3e', 'G3i', 'G3m', 'G3p', 'G3s', 'G3u', 'G3v', 'GATS1e', 'GATS1i', 'GATS1m', 'GATS1p', 'GATS1s', 'GATS1v', 'GATS2e', 'GATS2i', 'GATS2m', 'GATS2p', 'GATS2s', 'GATS2v', 'GATS3e', 'GATS3i', 'GATS3m', 'GATS3p', 'GATS3s', 'GATS3v', 'GATS4e', 'GATS4i', 'GATS4m', 'GATS4p', 'GATS4s', 'GATS4v', 'GATS5e', 'GATS5i', 'GATS5m', 'GATS5p', 'GATS5s', 'GATS5v', 'GATS6e', 'GATS6i', 'GATS6m', 'GATS6p', 'GATS6s', 'GATS6v', 'GATS7e', 'GATS7i', 'GATS7m', 'GATS7p', 'GATS7s', 'GATS7v', 'GATS8e', 'GATS8i', 'GATS8m', 'GATS8p', 'GATS8s', 'GATS8v', 'GD', 'GGI1', 'GGI10', 'GGI2', 'GGI3', 'GGI4', 'GGI5', 'GGI6', 'GGI7', 'GGI8', 'GGI9', 'GMTI', 'GMTIV', 'GNar', 'Ges', 'Gm', 'Gu', 'H%', 'H-046', 'H-047', 'H-048', 'H-049', 'H-050', 'H-051', 'H-052', 'H-053', 'H-054', 'H-055', 'H0e', 'H0i', 'H0m', 'H0p', 'H0s', 'H0u', 'H0v', 'H1e', 'H1i', 'H1m', 'H1p', 'H1s', 'H1u', 'H1v', 'H2e', 'H2i', 'H2m', 'H2p', 'H2s', 'H2u', 'H2v', 'H3e', 'H3i', 'H3m', 'H3p', 'H3s', 'H3u', 'H3v', 'H4e', 'H4i', 'H4m', 'H4p', 'H4s', 'H4u', 'H4v', 'H5e', 'H5i', 'H5m', 'H5p', 'H5s', 'H5u', 'H5v', 'H6e', 'H6i', 'H6m', 'H6p', 'H6s', 'H6u', 'H6v', 'H7e', 'H7i', 'H7m', 'H7p', 'H7s', 'H7u', 'H7v', 'H8e', 'H8i', 'H8m', 'H8p', 'H8s', 'H8u', 'H8v', 'HATS0e', 'HATS0i', 'HATS0m', 'HATS0p', 'HATS0s', 'HATS0u', 'HATS0v', 'HATS1e', 'HATS1i', 'HATS1m', 'HATS1p', 'HATS1s', 'HATS1u', 'HATS1v', 'HATS2e', 'HATS2i', 'HATS2m', 'HATS2p', 'HATS2s', 'HATS2u', 'HATS2v', 'HATS3e', 'HATS3i', 'HATS3m', 'HATS3p', 'HATS3s', 'HATS3u', 'HATS3v', 'HATS4e', 'HATS4i', 'HATS4m', 'HATS4p', 'HATS4s', 'HATS4u', 'HATS4v', 'HATS5e', 'HATS5i', 'HATS5m', 'HATS5p', 'HATS5s', 'HATS5u', 'HATS5v', 'HATS6e', 'HATS6i', 'HATS6m', 'HATS6p', 'HATS6s', 'HATS6u', 'HATS6v', 'HATS7e', 'HATS7i', 'HATS7m', 'HATS7p', 'HATS7s', 'HATS7u', 'HATS7v', 'HATS8e', 'HATS8i', 'HATS8m', 'HATS8p', 'HATS8s', 'HATS8u', 'HATS8v', 'HATSe', 'HATSi', 'HATSm', 'HATSp', 'HATSs', 'HATSu', 'HATSv', 'HDcpx', 'HGM', 'HIC', 'HNar', 'HOMA', 'HOMT', 'HTe', 'HTi', 'HTm', 'HTp', 'HTs', 'HTu', 'HTv', 'HVcpx', 'H_D', 'H_D/Dt', 'H_Dt', 'H_Dz(Z)', 'H_Dz(e)', 'H_Dz(i)', 'H_Dz(m)', 'H_Dz(p)', 'H_Dz(v)', 'H_G', 'H_G/D', 'H_RG', 'H_X', 'Ho_A', 'Ho_B(e)', 'Ho_B(i)', 'Ho_B(m)', 'Ho_B(p)', 'Ho_B(s)', 'Ho_B(v)', 'Ho_D', 'Ho_D/Dt', 'Ho_Dt', 'Ho_Dz(Z)', 'Ho_Dz(e)', 'Ho_Dz(i)', 'Ho_Dz(m)', 'Ho_Dz(p)', 'Ho_Dz(v)', 'Ho_G', 'Ho_G/D', 'Ho_H2', 'Ho_L', 'Ho_RG', 'Ho_X', 'Hy', 'HyWi_B(e)', 'HyWi_B(i)', 'HyWi_B(m)', 'HyWi_B(p)', 'HyWi_B(s)', 'HyWi_B(v)', 'HyWi_D', 'HyWi_D/Dt', 'HyWi_Dt', 'HyWi_Dz(Z)', 'HyWi_Dz(e)', 'HyWi_Dz(i)', 'HyWi_Dz(m)', 'HyWi_Dz(p)', 'HyWi_Dz(v)', 'HyWi_G', 'HyWi_G/D', 'HyWi_H2', 'HyWi_RG', 'HyWi_X', 'I-096', 'I-097', 'I-098', 'I-099', 'I-100', 'I-104', 'IAC', 'IC0', 'IC1', 'IC2', 'IC3', 'IC4', 'IC5', 'ICR', 'IDDE', 'IDDM', 'IDE', 'IDET', 'IDM', 'IDMT', 'ISH', 'ISIZ', 'ITH', 'IVDE', 'IVDM', 'JGI1', 'JGI10', 'JGI2', 'JGI3', 'JGI4', 'JGI5', 'JGI6', 'JGI7', 'JGI8', 'JGI9', 'JGT', 'J_A', 'J_B(e)', 'J_B(i)', 'J_B(m)', 'J_B(p)', 'J_B(s)', 'J_B(v)', 'J_D', 'J_D/Dt', 'J_Dt', 'J_Dz(Z)', 'J_Dz(e)', 'J_Dz(i)', 'J_Dz(m)', 'J_Dz(v)', 'J_G', 'J_G/D', 'J_H2', 'J_RG', 'J_X', 'Ke', 'Ki', 'Km', 'Kp', 'Ks', 'Ku', 'Kv', 'L/Bw', 'L1e', 'L1i', 'L1m', 'L1p', 'L1s', 'L1u', 'L1v', 'L2e', 'L2i', 'L2m', 'L2p', 'L2s', 'L2u', 'L2v', 'L3e', 'L3i', 'L3m', 'L3p', 'L3s', 'L3u', 'L3v', 'LLS_01', 'LLS_02', 'LOC', 'LPRS', 'MATS1e', 'MATS1i', 'MATS1m', 'MATS1p', 'MATS1s', 'MATS1v', 'MATS2e', 'MATS2i', 'MATS2m', 'MATS2p', 'MATS2s', 'MATS2v', 'MATS3e', 'MATS3i', 'MATS3m', 'MATS3p', 'MATS3s', 'MATS3v', 'MATS4e', 'MATS4i', 'MATS4m', 'MATS4p', 'MATS4s', 'MATS4v', 'MATS5e', 'MATS5i', 'MATS5m', 'MATS5p', 'MATS5s', 'MATS5v', 'MATS6e', 'MATS6i', 'MATS6m', 'MATS6p', 'MATS6s', 'MATS6v', 'MATS7e', 'MATS7i', 'MATS7m', 'MATS7p', 'MATS7s', 'MATS7v', 'MATS8e', 'MATS8i', 'MATS8m', 'MATS8p', 'MATS8s', 'MATS8v', 'MAXDN', 'MAXDP', 'MCD', 'MDDD', 'MEcc', 'MLOGP', 'MLOGP2', 'MPC01', 'MPC02', 'MPC03', 'MPC04', 'MPC05', 'MPC06', 'MPC07', 'MPC08', 'MPC09', 'MPC10', 'MSD', 'MW', 'MWC01', 'MWC02', 'MWC03', 'MWC04', 'MWC05', 'MWC06', 'MWC07', 'MWC08', 'MWC09', 'MWC10', 'Me', 'Mi', 'Mor01e', 'Mor01i', 'Mor01m', 'Mor01p', 'Mor01s', 'Mor01u', 'Mor01v', 'Mor02e', 'Mor02i', 'Mor02m', 'Mor02p', 'Mor02s', 'Mor02u', 'Mor02v', 'Mor03e', 'Mor03i', 'Mor03m', 'Mor03p', 'Mor03s', 'Mor03u', 'Mor03v', 'Mor04e', 'Mor04i', 'Mor04m', 'Mor04p', 'Mor04s', 'Mor04u', 'Mor04v', 'Mor05e', 'Mor05i', 'Mor05m', 'Mor05p', 'Mor05s', 'Mor05u', 'Mor05v', 'Mor06e', 'Mor06i', 'Mor06m', 'Mor06p', 'Mor06s', 'Mor06u', 'Mor06v', 'Mor07e', 'Mor07i', 'Mor07m', 'Mor07p', 'Mor07s', 'Mor07u', 'Mor07v', 'Mor08e', 'Mor08i', 'Mor08m', 'Mor08p', 'Mor08s', 'Mor08u', 'Mor08v', 'Mor09e', 'Mor09i', 'Mor09m', 'Mor09p', 'Mor09s', 'Mor09u', 'Mor09v', 'Mor10e', 'Mor10i', 'Mor10m', 'Mor10p', 'Mor10s', 'Mor10u', 'Mor10v', 'Mor11e', 'Mor11i', 'Mor11m', 'Mor11p', 'Mor11s', 'Mor11u', 'Mor11v', 'Mor12e', 'Mor12i', 'Mor12m', 'Mor12p', 'Mor12s', 'Mor12u', 'Mor12v', 'Mor13e', 'Mor13i', 'Mor13m', 'Mor13p', 'Mor13s', 'Mor13u', 'Mor13v', 'Mor14e', 'Mor14i', 'Mor14m', 'Mor14p', 'Mor14s', 'Mor14u', 'Mor14v', 'Mor15e', 'Mor15i', 'Mor15m', 'Mor15p', 'Mor15s', 'Mor15u', 'Mor15v', 'Mor16e', 'Mor16i', 'Mor16m', 'Mor16p', 'Mor16s', 'Mor16u', 'Mor16v', 'Mor17e', 'Mor17i', 'Mor17m', 'Mor17p', 'Mor17s', 'Mor17u', 'Mor17v', 'Mor18e', 'Mor18i', 'Mor18m', 'Mor18p', 'Mor18s', 'Mor18u', 'Mor18v', 'Mor19e', 'Mor19i', 'Mor19m', 'Mor19p', 'Mor19s', 'Mor19u', 'Mor19v', 'Mor20e', 'Mor20i', 'Mor20m', 'Mor20p', 'Mor20s', 'Mor20u', 'Mor20v', 'Mor21e', 'Mor21i', 'Mor21m', 'Mor21p', 'Mor21s', 'Mor21u', 'Mor21v', 'Mor22e', 'Mor22i', 'Mor22m', 'Mor22p', 'Mor22s', 'Mor22u', 'Mor22v', 'Mor23e', 'Mor23i', 'Mor23m', 'Mor23p', 'Mor23s', 'Mor23u', 'Mor23v', 'Mor24e', 'Mor24i', 'Mor24m', 'Mor24p', 'Mor24s', 'Mor24u', 'Mor24v', 'Mor25e', 'Mor25i', 'Mor25m', 'Mor25p', 'Mor25s', 'Mor25u', 'Mor25v', 'Mor26e', 'Mor26i', 'Mor26m', 'Mor26p', 'Mor26s', 'Mor26u', 'Mor26v', 'Mor27e', 'Mor27i', 'Mor27m', 'Mor27p', 'Mor27s', 'Mor27u', 'Mor27v', 'Mor28e', 'Mor28i', 'Mor28m', 'Mor28p', 'Mor28s', 'Mor28u', 'Mor28v', 'Mor29e', 'Mor29i', 'Mor29m', 'Mor29p', 'Mor29s', 'Mor29u', 'Mor29v', 'Mor30e', 'Mor30i', 'Mor30m', 'Mor30p', 'Mor30s', 'Mor30u', 'Mor30v', 'Mor31e', 'Mor31i', 'Mor31m', 'Mor31p', 'Mor31s', 'Mor31u', 'Mor31v', 'Mor32e', 'Mor32i', 'Mor32m', 'Mor32p', 'Mor32s', 'Mor32u', 'Mor32v', 'Mp', 'Mv', 'N%', 'N-066', 'N-067', 'N-068', 'N-069', 'N-070', 'N-071', 'N-072', 'N-073', 'N-074', 'N-075', 'N-076', 'N-077', 'N-078', 'N-079', 'NNRS', 'NRS', 'NaaCH', 'NaaN', 'NaaNH', 'NaaO', 'NaaS', 'NaaSe', 'NaaaC', 'NaadN', 'NaasC', 'NaasN', 'NdCH2', 'NdNH', 'NdNH2+', 'NdO', 'NdS', 'NdSe', 'NddC', 'NddsAs', 'NddsN', 'NddsP', 'NddssS', 'NddssSe', 'NdsCH', 'NdsN', 'NdssC', 'NdssS', 'NdssSe', 'NdsssAs', 'NdsssP', 'NsAsH2', 'NsBH2', 'NsBr', 'NsCH3', 'NsCl', 'NsF', 'NsGeH3', 'NsI', 'NsLi', 'NsNH2', 'NsNH3+', 'NsOH', 'NsPH2', 'NsPbH3', 'NsSH', 'NsSeH', 'NsSiH3', 'NsSnH3', 'NssAsH', 'NssBH', 'NssBe', 'NssCH2', 'NssGeH2', 'NssNH', 'NssNH2+', 'NssO', 'NssPH', 'NssPbH2', 'NssS', 'NssSe', 'NssSiH2', 'NssSnH2', 'NsssAs', 'NsssB', 'NsssCH', 'NsssGeH', 'NsssN', 'NsssNH+', 'NsssP', 'NsssPbH', 'NsssSiH', 'NsssSnH', 'NssssB-', 'NssssBe-', 'NssssC', 'NssssGe', 'NssssN+', 'NssssPb', 'NssssSi', 'NssssSn', 'NsssssAs', 'NsssssP', 'NssssssS', 'NssssssSe', 'NtCH', 'NtN', 'NtsC', 'O%', 'O-056', 'O-057', 'O-058', 'O-059', 'O-060', 'O-061', 'O-062', 'O-063', 'ON0', 'ON0V', 'ON1', 'ON1V', 'P-115', 'P-116', 'P-117', 'P-118', 'P-119', 'P-120', 'P1e', 'P1i', 'P1m', 'P1p', 'P1s', 'P1u', 'P1v', 'P2e', 'P2i', 'P2m', 'P2p', 'P2s', 'P2u', 'P2v', 'PCD', 'PCR', 'PHI', 'PJI2', 'PJI3', 'PW2', 'PW3', 'PW4', 'PW5', 'P_VSA_LogP_1', 'P_VSA_LogP_2', 'P_VSA_LogP_3', 'P_VSA_LogP_4', 'P_VSA_LogP_5', 'P_VSA_LogP_6', 'P_VSA_LogP_7', 'P_VSA_LogP_8', 'P_VSA_MR_1', 'P_VSA_MR_2', 'P_VSA_MR_3', 'P_VSA_MR_4', 'P_VSA_MR_5', 'P_VSA_MR_6', 'P_VSA_MR_7', 'P_VSA_MR_8', 'P_VSA_e_1', 'P_VSA_e_2', 'P_VSA_e_3', 'P_VSA_e_4', 'P_VSA_e_5', 'P_VSA_e_6', 'P_VSA_i_1', 'P_VSA_i_2', 'P_VSA_i_3', 'P_VSA_i_4', 'P_VSA_m_1', 'P_VSA_m_2', 'P_VSA_m_3', 'P_VSA_m_4', 'P_VSA_m_5', 'P_VSA_p_1', 'P_VSA_p_2', 'P_VSA_p_3', 'P_VSA_p_4', 'P_VSA_ppp_A', 'P_VSA_ppp_D', 'P_VSA_ppp_L', 'P_VSA_ppp_N', 'P_VSA_ppp_P', 'P_VSA_ppp_ar', 'P_VSA_ppp_con', 'P_VSA_ppp_cyc', 'P_VSA_ppp_hal', 'P_VSA_ppp_ter', 'P_VSA_s_1', 'P_VSA_s_2', 'P_VSA_s_3', 'P_VSA_s_4', 'P_VSA_s_5', 'P_VSA_s_6', 'P_VSA_v_1', 'P_VSA_v_2', 'P_VSA_v_3', 'P_VSA_v_4', 'Pol', 'Psi_e_0', 'Psi_e_0d', 'Psi_e_A', 'Psi_e_t', 'Psi_i_0', 'Psi_i_0d', 'Psi_i_1', 'Psi_i_1d', 'Psi_i_1s', 'Psi_i_A', 'Psi_i_s', 'Psi_i_t', 'QW_L', 'QXXe', 'QXXi', 'QXXm', 'QXXp', 'QXXs', 'QXXv', 'QYYe', 'QYYi', 'QYYm', 'QYYp', 'QYYs', 'QYYv', 'QZZe', 'QZZi', 'QZZm', 'QZZp', 'QZZs', 'QZZv', 'Qindex', 'R1e', 'R1e+', 'R1i', 'R1i+', 'R1m', 'R1m+', 'R1p', 'R1p+', 'R1s', 'R1s+', 'R1u', 'R1u+', 'R1v', 'R1v+', 'R2e', 'R2e+', 'R2i', 'R2i+', 'R2m', 'R2m+', 'R2p', 'R2p+', 'R2s', 'R2s+', 'R2u', 'R2u+', 'R2v', 'R2v+', 'R3e', 'R3e+', 'R3i', 'R3i+', 'R3m', 'R3m+', 'R3p', 'R3p+', 'R3s', 'R3s+', 'R3u', 'R3u+', 'R3v', 'R3v+', 'R4e', 'R4e+', 'R4i', 'R4i+', 'R4m', 'R4m+', 'R4p', 'R4p+', 'R4s', 'R4s+', 'R4u', 'R4u+', 'R4v', 'R4v+', 'R5e', 'R5e+', 'R5i', 'R5i+', 'R5m', 'R5m+', 'R5p', 'R5p+', 'R5s', 'R5s+', 'R5u', 'R5u+', 'R5v', 'R5v+', 'R6e', 'R6e+', 'R6i', 'R6i+', 'R6m', 'R6m+', 'R6p', 'R6p+', 'R6s', 'R6s+', 'R6u', 'R6u+', 'R6v', 'R6v+', 'R7e', 'R7e+', 'R7i', 'R7i+', 'R7m', 'R7m+', 'R7p', 'R7p+', 'R7s', 'R7s+', 'R7u', 'R7u+', 'R7v', 'R7v+', 'R8e', 'R8e+', 'R8i', 'R8i+', 'R8m', 'R8m+', 'R8p', 'R8p+', 'R8s', 'R8s+', 'R8u', 'R8u+', 'R8v', 'R8v+', 'RARS', 'RBF', 'RBN', 'RCI', 'RCON', 'RDCHI', 'RDF010e', 'RDF010i', 'RDF010m', 'RDF010p', 'RDF010s', 'RDF010u', 'RDF010v', 'RDF015e', 'RDF015i', 'RDF015m', 'RDF015p', 'RDF015s', 'RDF015u', 'RDF015v', 'RDF020e', 'RDF020i', 'RDF020m', 'RDF020p', 'RDF020s', 'RDF020u', 'RDF020v', 'RDF025e', 'RDF025i', 'RDF025m', 'RDF025p', 'RDF025s', 'RDF025u', 'RDF025v', 'RDF030e', 'RDF030i', 'RDF030m', 'RDF030p', 'RDF030s', 'RDF030u', 'RDF030v', 'RDF035e', 'RDF035i', 'RDF035m', 'RDF035p', 'RDF035s', 'RDF035u', 'RDF035v', 'RDF040e', 'RDF040i', 'RDF040m', 'RDF040p', 'RDF040s', 'RDF040u', 'RDF040v', 'RDF045e', 'RDF045i', 'RDF045m', 'RDF045p', 'RDF045s', 'RDF045u', 'RDF045v', 'RDF050e', 'RDF050i', 'RDF050m', 'RDF050p', 'RDF050s', 'RDF050u', 'RDF050v', 'RDF055e', 'RDF055i', 'RDF055m', 'RDF055p', 'RDF055s', 'RDF055u', 'RDF055v', 'RDF060e', 'RDF060i', 'RDF060m', 'RDF060p', 'RDF060s', 'RDF060u', 'RDF060v', 'RDF065e', 'RDF065i', 'RDF065m', 'RDF065p', 'RDF065s', 'RDF065u', 'RDF065v', 'RDF070e', 'RDF070i', 'RDF070m', 'RDF070p', 'RDF070s', 'RDF070u', 'RDF070v', 'RDF075e', 'RDF075i', 'RDF075m', 'RDF075p', 'RDF075s', 'RDF075u', 'RDF075v', 'RDF080e', 'RDF080i', 'RDF080m', 'RDF080p', 'RDF080s', 'RDF080u', 'RDF080v', 'RDF085e', 'RDF085i', 'RDF085m', 'RDF085p', 'RDF085s', 'RDF085u', 'RDF085v', 'RDF090e', 'RDF090i', 'RDF090m', 'RDF090p', 'RDF090s', 'RDF090u', 'RDF090v', 'RDF095e', 'RDF095i', 'RDF095m', 'RDF095p', 'RDF095s', 'RDF095u', 'RDF095v', 'RDF100e', 'RDF100i', 'RDF100m', 'RDF100p', 'RDF100s', 'RDF100u', 'RDF100v', 'RDF105e', 'RDF105i', 'RDF105m', 'RDF105p', 'RDF105s', 'RDF105u', 'RDF105v', 'RDF110e', 'RDF110i', 'RDF110m', 'RDF110p', 'RDF110s', 'RDF110u', 'RDF110v', 'RDF115e', 'RDF115i', 'RDF115m', 'RDF115p', 'RDF115s', 'RDF115u', 'RDF115v', 'RDF120e', 'RDF120i', 'RDF120m', 'RDF120p', 'RDF120s', 'RDF120u', 'RDF120v', 'RDF125e', 'RDF125i', 'RDF125m', 'RDF125p', 'RDF125s', 'RDF125u', 'RDF125v', 'RDF130e', 'RDF130i', 'RDF130m', 'RDF130p', 'RDF130s', 'RDF130u', 'RDF130v', 'RDF135e', 'RDF135i', 'RDF135m', 'RDF135p', 'RDF135s', 'RDF135u', 'RDF135v', 'RDF140e', 'RDF140i', 'RDF140m', 'RDF140p', 'RDF140s', 'RDF140u', 'RDF140v', 'RDF145e', 'RDF145i', 'RDF145m', 'RDF145p', 'RDF145s', 'RDF145u', 'RDF145v', 'RDF150e', 'RDF150i', 'RDF150m', 'RDF150p', 'RDF150s', 'RDF150u', 'RDF150v', 'RDF155e', 'RDF155i', 'RDF155m', 'RDF155p', 'RDF155s', 'RDF155u', 'RDF155v', 'RDSQ', 'REIG', 'RFD', 'RGyr', 'RTe', 'RTe+', 'RTi', 'RTi+', 'RTm', 'RTm+', 'RTp', 'RTp+', 'RTs', 'RTs+', 'RTu', 'RTu+', 'RTv', 'RTv+', 'Ram', 'Rbrid', 'Ro5', 'Rperim', 'S-106', 'S-107', 'S-108', 'S-109', 'S-110', 'S0K', 'S1K', 'S2K', 'S3K', 'SAacc', 'SAdon', 'SCBO', 'SHP2', 'SIC0', 'SIC1', 'SIC2', 'SIC3', 'SIC4', 'SIC5', 'SM02_AEA(bo)', 'SM02_AEA(dm)', 'SM02_AEA(ed)', 'SM02_AEA(ri)', 'SM02_EA', 'SM02_EA(bo)', 'SM02_EA(dm)', 'SM02_EA(ed)', 'SM02_EA(ri)', 'SM03_AEA(bo)', 'SM03_AEA(dm)', 'SM03_AEA(ed)', 'SM03_AEA(ri)', 'SM03_EA', 'SM03_EA(bo)', 'SM03_EA(dm)', 'SM03_EA(ed)', 'SM03_EA(ri)', 'SM04_AEA(bo)', 'SM04_AEA(dm)', 'SM04_AEA(ed)', 'SM04_AEA(ri)', 'SM04_EA', 'SM04_EA(bo)', 'SM04_EA(dm)', 'SM04_EA(ed)', 'SM04_EA(ri)', 'SM05_AEA(bo)', 'SM05_AEA(dm)', 'SM05_AEA(ed)', 'SM05_AEA(ri)', 'SM05_EA', 'SM05_EA(bo)', 'SM05_EA(dm)', 'SM05_EA(ed)', 'SM05_EA(ri)', 'SM06_AEA(bo)', 'SM06_AEA(dm)', 'SM06_AEA(ed)', 'SM06_AEA(ri)', 'SM06_EA', 'SM06_EA(bo)', 'SM06_EA(dm)', 'SM06_EA(ed)', 'SM06_EA(ri)', 'SM07_AEA(bo)', 'SM07_AEA(dm)', 'SM07_AEA(ed)', 'SM07_AEA(ri)', 'SM07_EA', 'SM07_EA(bo)', 'SM07_EA(dm)', 'SM07_EA(ed)', 'SM07_EA(ri)', 'SM08_AEA(bo)', 'SM08_AEA(dm)', 'SM08_AEA(ed)', 'SM08_AEA(ri)', 'SM08_EA', 'SM08_EA(bo)', 'SM08_EA(dm)', 'SM08_EA(ed)', 'SM08_EA(ri)', 'SM09_AEA(bo)', 'SM09_AEA(dm)', 'SM09_AEA(ed)', 'SM09_AEA(ri)', 'SM09_EA', 'SM09_EA(bo)', 'SM09_EA(dm)', 'SM09_EA(ed)', 'SM09_EA(ri)', 'SM10_AEA(bo)', 'SM10_AEA(dm)', 'SM10_AEA(ed)', 'SM10_AEA(ri)', 'SM10_EA', 'SM10_EA(bo)', 'SM10_EA(dm)', 'SM10_EA(ed)', 'SM10_EA(ri)', 'SM11_AEA(bo)', 'SM11_AEA(dm)', 'SM11_AEA(ed)', 'SM11_AEA(ri)', 'SM11_EA', 'SM11_EA(bo)', 'SM11_EA(dm)', 'SM11_EA(ed)', 'SM11_EA(ri)', 'SM12_AEA(bo)', 'SM12_AEA(dm)', 'SM12_AEA(ed)', 'SM12_AEA(ri)', 'SM12_EA', 'SM12_EA(bo)', 'SM12_EA(dm)', 'SM12_EA(ed)', 'SM12_EA(ri)', 'SM13_AEA(bo)', 'SM13_AEA(dm)', 'SM13_AEA(ed)', 'SM13_AEA(ri)', 'SM13_EA', 'SM13_EA(bo)', 'SM13_EA(dm)', 'SM13_EA(ed)', 'SM13_EA(ri)', 'SM14_AEA(bo)', 'SM14_AEA(dm)', 'SM14_AEA(ed)', 'SM14_AEA(ri)', 'SM14_EA', 'SM14_EA(bo)', 'SM14_EA(dm)', 'SM14_EA(ed)', 'SM14_EA(ri)', 'SM15_AEA(bo)', 'SM15_AEA(dm)', 'SM15_AEA(ed)', 'SM15_AEA(ri)', 'SM15_EA', 'SM15_EA(bo)', 'SM15_EA(dm)', 'SM15_EA(ed)', 'SM15_EA(ri)', 'SM1_B(e)', 'SM1_B(i)', 'SM1_B(m)', 'SM1_B(p)', 'SM1_B(s)', 'SM1_B(v)', 'SM1_Dz(Z)', 'SM1_Dz(e)', 'SM1_Dz(i)', 'SM1_Dz(m)', 'SM1_Dz(p)', 'SM1_Dz(v)', 'SM2_B(e)', 'SM2_B(i)', 'SM2_B(m)', 'SM2_B(p)', 'SM2_B(s)', 'SM2_B(v)', 'SM2_D', 'SM2_D/Dt', 'SM2_Dt', 'SM2_Dz(Z)', 'SM2_Dz(e)', 'SM2_Dz(i)', 'SM2_Dz(m)', 'SM2_Dz(p)', 'SM2_Dz(v)', 'SM2_G', 'SM2_G/D', 'SM2_H2', 'SM2_L', 'SM2_RG', 'SM2_X', 'SM3_B(e)', 'SM3_B(i)', 'SM3_B(m)', 'SM3_B(p)', 'SM3_B(s)', 'SM3_B(v)', 'SM3_D', 'SM3_D/Dt', 'SM3_Dt', 'SM3_Dz(Z)', 'SM3_Dz(e)', 'SM3_Dz(i)', 'SM3_Dz(m)', 'SM3_Dz(p)', 'SM3_Dz(v)', 'SM3_G', 'SM3_G/D', 'SM3_H2', 'SM3_L', 'SM3_RG', 'SM3_X', 'SM4_B(e)', 'SM4_B(i)', 'SM4_B(m)', 'SM4_B(p)', 'SM4_B(s)', 'SM4_B(v)', 'SM4_D', 'SM4_D/Dt', 'SM4_Dt', 'SM4_Dz(Z)', 'SM4_Dz(e)', 'SM4_Dz(i)', 'SM4_Dz(m)', 'SM4_Dz(p)', 'SM4_Dz(v)', 'SM4_G', 'SM4_G/D', 'SM4_H2', 'SM4_L', 'SM4_RG', 'SM4_X', 'SM5_B(e)', 'SM5_B(i)', 'SM5_B(m)', 'SM5_B(p)', 'SM5_B(s)', 'SM5_B(v)', 'SM5_D', 'SM5_D/Dt', 'SM5_Dt', 'SM5_Dz(Z)', 'SM5_Dz(e)', 'SM5_Dz(i)', 'SM5_Dz(m)', 'SM5_Dz(p)', 'SM5_Dz(v)', 'SM5_G', 'SM5_G/D', 'SM5_H2', 'SM5_L', 'SM5_RG', 'SM5_X', 'SM6_B(e)', 'SM6_B(i)', 'SM6_B(m)', 'SM6_B(p)', 'SM6_B(s)', 'SM6_B(v)', 'SM6_D', 'SM6_D/Dt', 'SM6_Dt', 'SM6_Dz(Z)', 'SM6_Dz(e)', 'SM6_Dz(i)', 'SM6_Dz(m)', 'SM6_Dz(p)', 'SM6_Dz(v)', 'SM6_G', 'SM6_G/D', 'SM6_H2', 'SM6_L', 'SM6_RG', 'SM6_X', 'SMTI', 'SMTIV', 'SNar', 'SP01', 'SP02', 'SP03', 'SP04', 'SP05', 'SP06', 'SP07', 'SP08', 'SP09', 'SP10', 'SP11', 'SP12', 'SP13', 'SP14', 'SP15', 'SP16', 'SP17', 'SP18', 'SP19', 'SP20', 'SPAM', 'SPAN', 'SPH', 'SPI', 'SRW02', 'SRW03', 'SRW04', 'SRW05', 'SRW06', 'SRW07', 'SRW08', 'SRW09', 'SRW10', 'STN_L', 'SaaCH', 'SaaN', 'SaaNH', 'SaaO', 'SaaS', 'SaaSe', 'SaaaC', 'SaadN', 'SaasC', 'SaasN', 'SdCH2', 'SdNH', 'SdNH2+', 'SdO', 'SdS', 'SdSe', 'SddC', 'SddsAs', 'SddsN', 'SddsP', 'SddssS', 'SddssSe', 'SdsCH', 'SdsN', 'SdssC', 'SdssS', 'SdssSe', 'SdsssAs', 'SdsssP', 'Se', 'Se-064', 'Se-065', 'Si', 'Si-111', 'Sp', 'SpAD_A', 'SpAD_AEA(bo)', 'SpAD_AEA(dm)', 'SpAD_AEA(ed)', 'SpAD_AEA(ri)', 'SpAD_B(e)', 'SpAD_B(i)', 'SpAD_B(m)', 'SpAD_B(p)', 'SpAD_B(s)', 'SpAD_B(v)', 'SpAD_D', 'SpAD_D/Dt', 'SpAD_Dt', 'SpAD_Dz(Z)', 'SpAD_Dz(e)', 'SpAD_Dz(i)', 'SpAD_Dz(m)', 'SpAD_Dz(p)', 'SpAD_Dz(v)', 'SpAD_EA', 'SpAD_EA(bo)', 'SpAD_EA(dm)', 'SpAD_EA(ed)', 'SpAD_EA(ri)', 'SpAD_G', 'SpAD_G/D', 'SpAD_H2', 'SpAD_L', 'SpAD_RG', 'SpAD_X', 'SpAbs_B(e)', 'SpAbs_B(i)', 'SpAbs_B(m)', 'SpAbs_B(p)', 'SpAbs_B(s)', 'SpAbs_B(v)', 'SpAbs_Dz(Z)', 'SpAbs_Dz(e)', 'SpAbs_Dz(i)', 'SpAbs_Dz(m)', 'SpAbs_Dz(p)', 'SpAbs_Dz(v)', 'SpAbs_G', 'SpAbs_G/D', 'SpAbs_RG', 'SpDiam_A', 'SpDiam_AEA(bo)', 'SpDiam_AEA(dm)', 'SpDiam_AEA(ed)', 'SpDiam_AEA(ri)', 'SpDiam_B(e)', 'SpDiam_B(i)', 'SpDiam_B(m)', 'SpDiam_B(p)', 'SpDiam_B(s)', 'SpDiam_B(v)', 'SpDiam_D', 'SpDiam_D/Dt', 'SpDiam_Dt', 'SpDiam_Dz(Z)', 'SpDiam_Dz(e)', 'SpDiam_Dz(i)', 'SpDiam_Dz(m)', 'SpDiam_Dz(p)', 'SpDiam_Dz(v)', 'SpDiam_EA', 'SpDiam_EA(bo)', 'SpDiam_EA(dm)', 'SpDiam_EA(ed)', 'SpDiam_EA(ri)', 'SpDiam_G', 'SpDiam_G/D', 'SpDiam_H2', 'SpDiam_L', 'SpDiam_RG', 'SpDiam_X', 'SpMAD_A', 'SpMAD_AEA(bo)', 'SpMAD_AEA(dm)', 'SpMAD_AEA(ed)', 'SpMAD_AEA(ri)', 'SpMAD_B(e)', 'SpMAD_B(i)', 'SpMAD_B(m)', 'SpMAD_B(p)', 'SpMAD_B(s)', 'SpMAD_B(v)', 'SpMAD_D', 'SpMAD_D/Dt', 'SpMAD_Dt', 'SpMAD_Dz(Z)', 'SpMAD_Dz(e)', 'SpMAD_Dz(i)', 'SpMAD_Dz(m)', 'SpMAD_Dz(p)', 'SpMAD_Dz(v)', 'SpMAD_EA', 'SpMAD_EA(bo)', 'SpMAD_EA(dm)', 'SpMAD_EA(ed)', 'SpMAD_EA(ri)', 'SpMAD_G', 'SpMAD_G/D', 'SpMAD_H2', 'SpMAD_L', 'SpMAD_RG', 'SpMAD_X', 'SpMax1_Bh(e)', 'SpMax1_Bh(i)', 'SpMax1_Bh(m)', 'SpMax1_Bh(p)', 'SpMax1_Bh(s)', 'SpMax1_Bh(v)', 'SpMax2_Bh(e)', 'SpMax2_Bh(i)', 'SpMax2_Bh(m)', 'SpMax2_Bh(p)', 'SpMax2_Bh(s)', 'SpMax2_Bh(v)', 'SpMax3_Bh(e)', 'SpMax3_Bh(i)', 'SpMax3_Bh(m)', 'SpMax3_Bh(p)', 'SpMax3_Bh(s)', 'SpMax3_Bh(v)', 'SpMax4_Bh(e)', 'SpMax4_Bh(i)', 'SpMax4_Bh(m)', 'SpMax4_Bh(p)', 'SpMax4_Bh(s)', 'SpMax4_Bh(v)', 'SpMax5_Bh(e)', 'SpMax5_Bh(i)', 'SpMax5_Bh(m)', 'SpMax5_Bh(p)', 'SpMax5_Bh(s)', 'SpMax5_Bh(v)', 'SpMax6_Bh(e)', 'SpMax6_Bh(i)', 'SpMax6_Bh(m)', 'SpMax6_Bh(p)', 'SpMax6_Bh(s)', 'SpMax6_Bh(v)', 'SpMax7_Bh(e)', 'SpMax7_Bh(i)', 'SpMax7_Bh(m)', 'SpMax7_Bh(p)', 'SpMax7_Bh(s)', 'SpMax7_Bh(v)', 'SpMax8_Bh(e)', 'SpMax8_Bh(i)', 'SpMax8_Bh(m)', 'SpMax8_Bh(p)', 'SpMax8_Bh(s)', 'SpMax8_Bh(v)', 'SpMaxA_A', 'SpMaxA_AEA(bo)', 'SpMaxA_AEA(dm)', 'SpMaxA_AEA(ed)', 'SpMaxA_AEA(ri)', 'SpMaxA_B(e)', 'SpMaxA_B(i)', 'SpMaxA_B(m)', 'SpMaxA_B(p)', 'SpMaxA_B(s)', 'SpMaxA_B(v)', 'SpMaxA_D', 'SpMaxA_D/Dt', 'SpMaxA_Dt', 'SpMaxA_Dz(Z)', 'SpMaxA_Dz(e)', 'SpMaxA_Dz(i)', 'SpMaxA_Dz(m)', 'SpMaxA_Dz(p)', 'SpMaxA_Dz(v)', 'SpMaxA_EA', 'SpMaxA_EA(bo)', 'SpMaxA_EA(dm)', 'SpMaxA_EA(ed)', 'SpMaxA_EA(ri)', 'SpMaxA_G', 'SpMaxA_G/D', 'SpMaxA_H2', 'SpMaxA_L', 'SpMaxA_RG', 'SpMaxA_X', 'SpMax_A', 'SpMax_AEA(bo)', 'SpMax_AEA(dm)', 'SpMax_AEA(ed)', 'SpMax_AEA(ri)', 'SpMax_B(e)', 'SpMax_B(i)', 'SpMax_B(m)', 'SpMax_B(p)', 'SpMax_B(s)', 'SpMax_B(v)', 'SpMax_D', 'SpMax_D/Dt', 'SpMax_Dt', 'SpMax_Dz(Z)', 'SpMax_Dz(e)', 'SpMax_Dz(i)', 'SpMax_Dz(m)', 'SpMax_Dz(p)', 'SpMax_Dz(v)', 'SpMax_EA', 'SpMax_EA(bo)', 'SpMax_EA(dm)', 'SpMax_EA(ed)', 'SpMax_EA(ri)', 'SpMax_G', 'SpMax_G/D', 'SpMax_H2', 'SpMax_L', 'SpMax_RG', 'SpMax_X', 'SpMin1_Bh(e)', 'SpMin1_Bh(i)', 'SpMin1_Bh(m)', 'SpMin1_Bh(p)', 'SpMin1_Bh(s)', 'SpMin1_Bh(v)', 'SpMin2_Bh(e)', 'SpMin2_Bh(i)', 'SpMin2_Bh(m)', 'SpMin2_Bh(p)', 'SpMin2_Bh(s)', 'SpMin2_Bh(v)', 'SpMin3_Bh(e)', 'SpMin3_Bh(i)', 'SpMin3_Bh(m)', 'SpMin3_Bh(p)', 'SpMin3_Bh(s)', 'SpMin3_Bh(v)', 'SpMin4_Bh(e)', 'SpMin4_Bh(i)', 'SpMin4_Bh(m)', 'SpMin4_Bh(p)', 'SpMin4_Bh(s)', 'SpMin4_Bh(v)', 'SpMin5_Bh(e)', 'SpMin5_Bh(i)', 'SpMin5_Bh(m)', 'SpMin5_Bh(p)', 'SpMin5_Bh(s)', 'SpMin5_Bh(v)', 'SpMin6_Bh(e)', 'SpMin6_Bh(i)', 'SpMin6_Bh(m)', 'SpMin6_Bh(p)', 'SpMin6_Bh(s)', 'SpMin6_Bh(v)', 'SpMin7_Bh(e)', 'SpMin7_Bh(i)', 'SpMin7_Bh(m)', 'SpMin7_Bh(p)', 'SpMin7_Bh(s)', 'SpMin7_Bh(v)', 'SpMin8_Bh(e)', 'SpMin8_Bh(i)', 'SpMin8_Bh(m)', 'SpMin8_Bh(p)', 'SpMin8_Bh(s)', 'SpMin8_Bh(v)', 'SpPosA_A', 'SpPosA_B(e)', 'SpPosA_B(i)', 'SpPosA_B(m)', 'SpPosA_B(p)', 'SpPosA_B(s)', 'SpPosA_B(v)', 'SpPosA_D', 'SpPosA_D/Dt', 'SpPosA_Dt', 'SpPosA_Dz(Z)', 'SpPosA_Dz(e)', 'SpPosA_Dz(i)', 'SpPosA_Dz(m)', 'SpPosA_Dz(p)', 'SpPosA_Dz(v)', 'SpPosA_G', 'SpPosA_G/D', 'SpPosA_H2', 'SpPosA_L', 'SpPosA_RG', 'SpPosA_X', 'SpPosLog_A', 'SpPosLog_B(e)', 'SpPosLog_B(i)', 'SpPosLog_B(m)', 'SpPosLog_B(p)', 'SpPosLog_B(s)', 'SpPosLog_B(v)', 'SpPosLog_D', 'SpPosLog_D/Dt', 'SpPosLog_Dt', 'SpPosLog_Dz(Z)', 'SpPosLog_Dz(e)', 'SpPosLog_Dz(i)', 'SpPosLog_Dz(m)', 'SpPosLog_Dz(p)', 'SpPosLog_Dz(v)', 'SpPosLog_G', 'SpPosLog_G/D', 'SpPosLog_H2', 'SpPosLog_L', 'SpPosLog_RG', 'SpPosLog_X', 'SpPos_A', 'SpPos_B(e)', 'SpPos_B(i)', 'SpPos_B(m)', 'SpPos_B(p)', 'SpPos_B(s)', 'SpPos_B(v)', 'SpPos_D', 'SpPos_D/Dt', 'SpPos_Dt', 'SpPos_Dz(Z)', 'SpPos_Dz(e)', 'SpPos_Dz(i)', 'SpPos_Dz(m)', 'SpPos_Dz(p)', 'SpPos_Dz(v)', 'SpPos_G', 'SpPos_G/D', 'SpPos_H2', 'SpPos_L', 'SpPos_RG', 'SpPos_X', 'SsAsH2', 'SsBH2', 'SsBr', 'SsCH3', 'SsCl', 'SsF', 'SsGeH3', 'SsI', 'SsLi', 'SsNH2', 'SsNH3+', 'SsOH', 'SsPH2', 'SsPbH3', 'SsSH', 'SsSeH', 'SsSiH3', 'SsSnH3', 'SssAsH', 'SssBH', 'SssBe', 'SssCH2', 'SssGeH2', 'SssNH', 'SssNH2+', 'SssO', 'SssPH', 'SssPbH2', 'SssS', 'SssSe', 'SssSiH2', 'SssSnH2', 'SsssAs', 'SsssB', 'SsssCH', 'SsssGeH', 'SsssN', 'SsssNH+', 'SsssP', 'SsssPbH', 'SsssSiH', 'SsssSnH', 'SssssB-', 'SssssBe-', 'SssssC', 'SssssGe', 'SssssN+', 'SssssPb', 'SssssSi', 'SssssSn', 'SsssssAs', 'SsssssP', 'SssssssS', 'SssssssSe', 'StCH', 'StN', 'StsC', 'Sv', 'T(Br..Br)', 'T(Br..I)', 'T(Cl..Br)', 'T(Cl..Cl)', 'T(Cl..I)', 'T(F..Br)', 'T(F..Cl)', 'T(F..F)', 'T(F..I)', 'T(I..I)', 'T(N..Br)', 'T(N..Cl)', 'T(N..F)', 'T(N..I)', 'T(N..N)', 'T(N..O)', 'T(N..P)', 'T(N..S)', 'T(O..Br)', 'T(O..Cl)', 'T(O..F)', 'T(O..I)', 'T(O..O)', 'T(O..P)', 'T(O..S)', 'T(P..Br)', 'T(P..Cl)', 'T(P..F)', 'T(P..I)', 'T(P..P)', 'T(S..Br)', 'T(S..Cl)', 'T(S..F)', 'T(S..I)', 'T(S..P)', 'T(S..S)', 'TDB01e', 'TDB01i', 'TDB01m', 'TDB01p', 'TDB01r', 'TDB01s', 'TDB01u', 'TDB01v', 'TDB02e', 'TDB02i', 'TDB02m', 'TDB02p', 'TDB02r', 'TDB02s', 'TDB02u', 'TDB02v', 'TDB03e', 'TDB03i', 'TDB03m', 'TDB03p', 'TDB03r', 'TDB03s', 'TDB03u', 'TDB03v', 'TDB04e', 'TDB04i', 'TDB04m', 'TDB04p', 'TDB04r', 'TDB04s', 'TDB04u', 'TDB04v', 'TDB05e', 'TDB05i', 'TDB05m', 'TDB05p', 'TDB05r', 'TDB05s', 'TDB05u', 'TDB05v', 'TDB06e', 'TDB06i', 'TDB06m', 'TDB06p', 'TDB06r', 'TDB06s', 'TDB06u', 'TDB06v', 'TDB07e', 'TDB07i', 'TDB07m', 'TDB07p', 'TDB07r', 'TDB07s', 'TDB07u', 'TDB07v', 'TDB08e', 'TDB08i', 'TDB08m', 'TDB08p', 'TDB08r', 'TDB08s', 'TDB08u', 'TDB08v', 'TDB09e', 'TDB09i', 'TDB09m', 'TDB09p', 'TDB09r', 'TDB09s', 'TDB09u', 'TDB09v', 'TDB10e', 'TDB10i', 'TDB10m', 'TDB10p', 'TDB10r', 'TDB10s', 'TDB10u', 'TDB10v', 'TI1_L', 'TI2_L', 'TIC0', 'TIC1', 'TIC2', 'TIC3', 'TIC4', 'TIC5', 'TIE', 'TPC', 'TPSA(NO)', 'TPSA(Tot)', 'TRS', 'TWC', 'Te', 'Ti', 'Tm', 'Tp', 'Ts', 'Tu', 'Tv', 'UNIP', 'Uc', 'Ui', 'Uindex', 'VAR', 'VE1_B(e)', 'VE1_B(i)', 'VE1_B(m)', 'VE1_B(p)', 'VE1_B(s)', 'VE1_B(v)', 'VE1_G/D', 'VE1_L', 'VE1_RG', 'VE1sign_B(e)', 'VE1sign_B(i)', 'VE1sign_B(m)', 'VE1sign_B(p)', 'VE1sign_B(s)', 'VE1sign_B(v)', 'VE1sign_G/D', 'VE1sign_L', 'VE1sign_RG', 'VE2_B(e)', 'VE2_B(i)', 'VE2_B(m)', 'VE2_B(p)', 'VE2_B(s)', 'VE2_B(v)', 'VE2_G/D', 'VE2_L', 'VE2_RG', 'VE2sign_B(e)', 'VE2sign_B(i)', 'VE2sign_B(m)', 'VE2sign_B(p)', 'VE2sign_B(s)', 'VE2sign_B(v)', 'VE2sign_G/D', 'VE2sign_L', 'VE2sign_RG', 'VE3_B(e)', 'VE3_B(i)', 'VE3_B(m)', 'VE3_B(p)', 'VE3_B(s)', 'VE3_B(v)', 'VE3_G/D', 'VE3_L', 'VE3_RG', 'VE3sign_L', 'VR1_B(e)', 'VR1_B(i)', 'VR1_B(m)', 'VR1_B(p)', 'VR1_B(s)', 'VR1_B(v)', 'VR1_G/D', 'VR1_L', 'VR1_RG', 'VR2_B(e)', 'VR2_B(i)', 'VR2_B(m)', 'VR2_B(p)', 'VR2_B(s)', 'VR2_B(v)', 'VR2_G/D', 'VR2_L', 'VR2_RG', 'VR3_B(e)', 'VR3_B(i)', 'VR3_B(m)', 'VR3_B(p)', 'VR3_B(s)', 'VR3_B(v)', 'VR3_G/D', 'VR3_L', 'VR3_RG', 'Ve', 'Vi', 'Vindex', 'Vm', 'Vp', 'Vs', 'Vu', 'Vv', 'VvdwMG', 'VvdwZAZ', 'Vx', 'Wap', 'WiA_B(e)', 'WiA_B(i)', 'WiA_B(m)', 'WiA_B(p)', 'WiA_B(s)', 'WiA_B(v)', 'WiA_D', 'WiA_D/Dt', 'WiA_Dt', 'WiA_Dz(Z)', 'WiA_Dz(e)', 'WiA_Dz(i)', 'WiA_Dz(m)', 'WiA_Dz(p)', 'WiA_Dz(v)', 'WiA_G', 'WiA_G/D', 'WiA_H2', 'WiA_RG', 'Wi_B(e)', 'Wi_B(i)', 'Wi_B(m)', 'Wi_B(p)', 'Wi_B(s)', 'Wi_B(v)', 'Wi_D', 'Wi_D/Dt', 'Wi_Dt', 'Wi_Dz(Z)', 'Wi_Dz(e)', 'Wi_Dz(i)', 'Wi_Dz(m)', 'Wi_Dz(p)', 'Wi_Dz(v)', 'Wi_G', 'Wi_G/D', 'Wi_H2', 'Wi_RG', 'X%', 'X0', 'X0A', 'X0Av', 'X0sol', 'X0v', 'X1', 'X1A', 'X1Av', 'X1Kup', 'X1Mad', 'X1MulPer', 'X1Per', 'X1sol', 'X1v', 'X2', 'X2A', 'X2Av', 'X2sol', 'X2v', 'X3', 'X3A', 'X3Av', 'X3sol', 'X3v', 'X4', 'X4A', 'X4Av', 'X4sol', 'X4v', 'X5', 'X5A', 'X5Av', 'X5sol', 'X5v', 'XMOD', 'Xindex', 'Xt', 'Xu', 'Yindex', 'ZM1', 'ZM1Kup', 'ZM1Mad', 'ZM1MulPer', 'ZM1Per', 'ZM1V', 'ZM2', 'ZM2Kup', 'ZM2Mad', 'ZM2MulPer', 'ZM2Per', 'ZM2V', 'cRo5', 'n124-Triazines', 'n135-Triazines', 'n=C=', 'nAB', 'nAT', 'nArC=N', 'nArCHO', 'nArCN', 'nArCNO', 'nArCO', 'nArCONH2', 'nArCONHR', 'nArCONR2', 'nArCOOH', 'nArCOOR', 'nArCOSR', 'nArCOX', 'nArCSOH', 'nArCSSH', 'nArCSSR', 'nArNCO', 'nArNCS', 'nArNH2', 'nArNHO', 'nArNHR', 'nArNNOx', 'nArNO', 'nArNO2', 'nArNR2', 'nArOCN', 'nArOCON', 'nArOH', 'nArOR', 'nArOX', 'nArSCN', 'nArX', 'nAzetidines', 'nAziridines', 'nB', 'nBM', 'nBO', 'nBR', 'nBT', 'nBeta-Lactams', 'nBnz', 'nC', 'nC(=N)N2', 'nC=N-N', 'nC=O(O)2', 'nC=S', 'nCH2RX', 'nCHR2X', 'nCHRX2', 'nCIC', 'nCIR', 'nCL', 'nCONN', 'nCR2X2', 'nCR3X', 'nCRX3', 'nCXr', 'nCXr=', 'nCar', 'nCb-', 'nCbH', 'nCconj', 'nCconjX', 'nCp', 'nCq', 'nCrq', 'nCrs', 'nCrt', 'nCs', 'nCsp', 'nCsp2', 'nCsp3', 'nCt', 'nDB', 'nF', 'nFuranes', 'nH', 'nH2O', 'nHAcc', 'nHBonds', 'nHDon', 'nHM', 'nHet', 'nI', 'nImidazoles', 'nIsothiazoles', 'nIsoxazoles', 'nN', 'nN(CO)2', 'nN+', 'nN-N', 'nN=C-N', 'nN=N', 'nNq', 'nO', 'nO(C=O)2', 'nOHp', 'nOHs', 'nOHt', 'nOxazoles', 'nOxetanes', 'nOxiranes', 'nOxolanes', 'nP', 'nP(=O)O2R', 'nP(=O)R3/nPR5', 'nPO3', 'nPO4', 'nPR3', 'nPyrazines', 'nPyrazoles', 'nPyridazines', 'nPyridines', 'nPyrimidines', 'nPyrroles', 'nPyrrolidines', 'nR#C-', 'nR#CH/X', 'nR#CX', 'nR03', 'nR04', 'nR05', 'nR06', 'nR07', 'nR08', 'nR09', 'nR10', 'nR11', 'nR12', 'nR=CHX', 'nR=CRX', 'nR=CX2', 'nR=Cp', 'nR=Cs', 'nR=Ct', 'nRC=N', 'nRCHO', 'nRCN', 'nRCNO', 'nRCO', 'nRCONH2', 'nRCONHR', 'nRCONR2', 'nRCOOH', 'nRCOOR', 'nRCOSR', 'nRCOX', 'nRCSOH', 'nRCSSH', 'nRCSSR', 'nRNCO', 'nRNCS', 'nRNH2', 'nRNHO', 'nRNHR', 'nRNNOx', 'nRNO', 'nRNO2', 'nRNR2', 'nROCN', 'nROCON', 'nROH', 'nROR', 'nROX', 'nRSCN', 'nRSR', 'nRSSR', 'nS', 'nS(=O)2', 'nSH', 'nSK', 'nSO', 'nSO2', 'nSO2N', 'nSO2OH', 'nSO3', 'nSO3OH', 'nSO4', 'nSOH', 'nSOOH', 'nStructures', 'nTA', 'nTB', 'nThiazoles', 'nThioethanes', 'nThiophenes', 'nThiranes', 'nTriazoles', 'nX', 'ntH-Thiophenes', 'piID', 'piPC01', 'piPC02', 'piPC03', 'piPC04', 'piPC05', 'piPC06', 'piPC07', 'piPC08', 'piPC09', 'piPC10', 'rGes', 'totalcharge']\n"
          ]
        }
      ],
      "source": [
        "# remove punctuations for boruta shap features\n",
        "import string\n",
        "#sweet train\n",
        "s_cols = X_train_sweet_scaled.columns\n",
        "s_list = [''.join(char for char in item\n",
        "                    if char not in ['[',']','<'])\n",
        "            for item in s_cols]\n",
        "print(s_list) \n",
        "\n",
        "#sweet test\n",
        "st_cols = X_test_sweet_scaled.columns\n",
        "st_list = [''.join(char for char in item\n",
        "                    if char not in ['[',']','<'])\n",
        "            for item in st_cols]\n",
        "\n",
        "\n",
        "#bitter train\n",
        "b_cols = X_train_bitter_scaled.columns\n",
        "b_list = [''.join(char for char in item\n",
        "                    if char not in ['[',']','<'])\n",
        "            for item in b_cols]\n",
        "\n",
        "#bitter test\n",
        "bt_cols = X_test_bitter_scaled.columns\n",
        "bt_list = [''.join(char for char in item\n",
        "                    if char not in ['[',']','<'])\n",
        "            for item in bt_cols]\n",
        "\n"
      ]
    },
    {
      "cell_type": "code",
      "execution_count": 31,
      "metadata": {
        "colab": {
          "base_uri": "https://localhost:8080/"
        },
        "id": "b5vsAQWrAq7_",
        "outputId": "3c9592bb-b616-494c-838d-b4f4e05cdd32"
      },
      "outputs": [
        {
          "output_type": "stream",
          "name": "stdout",
          "text": [
            "5089\n",
            "5089\n",
            "5089\n",
            "5089\n"
          ]
        }
      ],
      "source": [
        "#double check if there is duplicates\n",
        "# find the length of the list\n",
        "print(len(s_list))\n",
        "# create a set from the list\n",
        "myset = set(s_list)\n",
        "# find the length of the Python set variable myset\n",
        "print(len(myset))\n",
        "\n",
        "\n",
        "#double check if there is duplicates\n",
        "# find the length of the list\n",
        "print(len(st_list))\n",
        "# create a set from the list\n",
        "myset = set(st_list)\n",
        "# find the length of the Python set variable myset\n",
        "print(len(myset))\n"
      ]
    },
    {
      "cell_type": "code",
      "execution_count": 32,
      "metadata": {
        "colab": {
          "base_uri": "https://localhost:8080/"
        },
        "id": "M7uQpCSKBjYV",
        "outputId": "6591ad58-544d-4be1-b32c-01b5398be626"
      },
      "outputs": [
        {
          "output_type": "stream",
          "name": "stdout",
          "text": [
            "5089\n",
            "5089\n",
            "5089\n",
            "5089\n"
          ]
        }
      ],
      "source": [
        "#double check if there is duplicates\n",
        "# find the length of the list\n",
        "print(len(b_list))\n",
        "# create a set from the list\n",
        "myset = set(b_list)\n",
        "# find the length of the Python set variable myset\n",
        "print(len(myset))\n",
        "\n",
        "\n",
        "#double check if there is duplicates\n",
        "# find the length of the list\n",
        "print(len(bt_list))\n",
        "# create a set from the list\n",
        "myset = set(bt_list)\n",
        "# find the length of the Python set variable myset\n",
        "print(len(myset))\n"
      ]
    },
    {
      "cell_type": "code",
      "execution_count": 33,
      "metadata": {
        "id": "Y3RSpPIiAq8L"
      },
      "outputs": [],
      "source": [
        "X_train_sweet_scaled.columns = s_list\n",
        "X_test_sweet_scaled.columns = st_list\n",
        "\n",
        "X_train_bitter_scaled.columns = b_list\n",
        "X_test_bitter_scaled.columns = bt_list"
      ]
    },
    {
      "cell_type": "code",
      "execution_count": 34,
      "metadata": {
        "colab": {
          "base_uri": "https://localhost:8080/"
        },
        "id": "Yj0UxUeZCJ88",
        "outputId": "13b13834-c588-4b6e-c93f-91663147863c"
      },
      "outputs": [
        {
          "output_type": "stream",
          "name": "stdout",
          "text": [
            "Total number of features: 5089\n",
            "Total number of samples: 2090\n",
            "To check if there are any null values in the features and how many:  False 0\n",
            "To check if there are any null values in the target and how many: False 0\n",
            "The total number of Sweet targets: 1126\n",
            "The total number of Bitter targets: 964\n"
          ]
        }
      ],
      "source": [
        "# Print some metrics about the data.\n",
        "print (\"Total number of features: \" + str(X_train_sweet_scaled.shape[1]))\n",
        "print (\"Total number of samples: \"+ str(X_train_sweet_scaled.shape[0]))\n",
        "print (\"To check if there are any null values in the features and how many: \", \\\n",
        "       X_train_sweet_scaled.isnull().values.any(), X_train_sweet_scaled.isnull().sum().sum())\n",
        "print (\"To check if there are any null values in the target and how many:\", \\\n",
        "       y_train_sweet.isnull().values.any(), y_train_sweet.isnull().sum().sum()) \n",
        "print (\"The total number of Sweet targets: \" + str(y_train_sweet[y_train_sweet.Target == 1].count()[0]))\n",
        "print (\"The total number of Bitter targets: \" + str(y_train_sweet[y_train_sweet.Target == 0].count()[0]))\n"
      ]
    },
    {
      "cell_type": "code",
      "execution_count": 35,
      "metadata": {
        "colab": {
          "base_uri": "https://localhost:8080/"
        },
        "id": "xjT1JDlkCJ9B",
        "outputId": "240e51a6-0483-4cc4-ddc9-08342ca359ef"
      },
      "outputs": [
        {
          "output_type": "stream",
          "name": "stdout",
          "text": [
            "Total number of features: 5089\n",
            "Total number of samples: 2135\n",
            "To check if there are any null values in the features and how many:  False 0\n",
            "To check if there are any null values in the target and how many: False 0\n",
            "The total number of Sweet targets: 728\n",
            "The total number of Bitter targets: 1407\n"
          ]
        }
      ],
      "source": [
        "# Print some metrics about the data.\n",
        "print (\"Total number of features: \" + str(X_train_bitter_scaled.shape[1]))\n",
        "print (\"Total number of samples: \"+ str(X_train_bitter_scaled.shape[0]))\n",
        "print (\"To check if there are any null values in the features and how many: \", \\\n",
        "       X_train_bitter_scaled.isnull().values.any(), X_train_bitter_scaled.isnull().sum().sum())\n",
        "print (\"To check if there are any null values in the target and how many:\", \\\n",
        "       y_train_bitter.isnull().values.any(), y_train_bitter.isnull().sum().sum()) \n",
        "print (\"The total number of Sweet targets: \" + str(y_train_bitter[y_train_bitter.Target == 1].count()[0]))\n",
        "print (\"The total number of Bitter targets: \" + str(y_train_bitter[y_train_bitter.Target == 0].count()[0]))\n"
      ]
    },
    {
      "cell_type": "markdown",
      "metadata": {
        "id": "cI4nwU3lkfg4"
      },
      "source": [
        "# Model Training"
      ]
    },
    {
      "cell_type": "code",
      "execution_count": 36,
      "metadata": {
        "id": "6392819c-87b1-4150-b44f-753fe8eb3f1e"
      },
      "outputs": [],
      "source": [
        "from sklearn.metrics import accuracy_score, precision_score, average_precision_score , roc_auc_score , classification_report"
      ]
    },
    {
      "cell_type": "code",
      "execution_count": 37,
      "metadata": {
        "id": "e21d7686-f552-44f8-8dd7-f5448f50128c"
      },
      "outputs": [],
      "source": [
        "def evaluate(model, X_train, y_train, X_test, y_test):\n",
        "    model.fit(X_train, y_train)\n",
        "    y_pred = model.predict(X_test)\n",
        "\n",
        "    print(\"Accuracy:\",accuracy_score(y_test,y_pred))\n",
        "    print(\"Precision:\",precision_score(y_test,y_pred))\n",
        "    print(\"Average Precision:\",average_precision_score(y_test,y_pred))\n",
        "    print(\"AUROC:\",roc_auc_score(y_test,y_pred))\n",
        "    print(\"Classification Report\")\n",
        "    print(classification_report(y_test, y_pred))"
      ]
    },
    {
      "cell_type": "code",
      "execution_count": 38,
      "metadata": {
        "id": "7505b14a-c811-4015-9c06-91e9abc20407"
      },
      "outputs": [],
      "source": [
        "from xgboost import XGBClassifier\n",
        "\n",
        "clf_xgboost = XGBClassifier()"
      ]
    },
    {
      "cell_type": "code",
      "execution_count": 39,
      "metadata": {
        "id": "ab7e15f0-febe-4f66-b52e-ebc5c25dd7ff"
      },
      "outputs": [],
      "source": [
        "from catboost import CatBoostClassifier\n",
        "\n",
        "clf_catboost = CatBoostClassifier(\n",
        "    iterations=100, \n",
        "    learning_rate=0.2, \n",
        "    logging_level='Silent'\n",
        ")"
      ]
    },
    {
      "cell_type": "code",
      "execution_count": 40,
      "metadata": {
        "id": "1c0bf821-9a82-4d3d-b94c-468a7373d75c"
      },
      "outputs": [],
      "source": [
        "from sklearn.ensemble import RandomForestClassifier\n",
        "\n",
        "clf_rf = RandomForestClassifier(\n",
        "    n_estimators=250\n",
        ")"
      ]
    },
    {
      "cell_type": "code",
      "execution_count": null,
      "metadata": {
        "id": "cQMKROSoDEqc"
      },
      "outputs": [],
      "source": [
        " #recall of the positive class is also known as “sensitivity”; recall of the negative class is “specificity”."
      ]
    },
    {
      "cell_type": "code",
      "execution_count": null,
      "metadata": {
        "colab": {
          "base_uri": "https://localhost:8080/"
        },
        "id": "mwBM0poWm8Et",
        "outputId": "6028e719-594b-4ab0-ac93-4162043abeaa"
      },
      "outputs": [
        {
          "name": "stdout",
          "output_type": "stream",
          "text": [
            "Evaluating XGBoost\n",
            "Accuracy: 0.7467532467532467\n",
            "Precision: 0.8928571428571429\n",
            "Average Precision: 0.8325602968460112\n",
            "AUROC: 0.7653061224489797\n",
            "Classification Report\n",
            "              precision    recall  f1-score   support\n",
            "\n",
            "           0       0.57      0.82      0.67        49\n",
            "           1       0.89      0.71      0.79       105\n",
            "\n",
            "    accuracy                           0.75       154\n",
            "   macro avg       0.73      0.77      0.73       154\n",
            "weighted avg       0.79      0.75      0.76       154\n",
            "\n",
            "Evaluating CatBoost\n",
            "Accuracy: 0.7792207792207793\n",
            "Precision: 0.898876404494382\n",
            "Average Precision: 0.8471958752857629\n",
            "AUROC: 0.7891156462585034\n",
            "Classification Report\n",
            "              precision    recall  f1-score   support\n",
            "\n",
            "           0       0.62      0.82      0.70        49\n",
            "           1       0.90      0.76      0.82       105\n",
            "\n",
            "    accuracy                           0.78       154\n",
            "   macro avg       0.76      0.79      0.76       154\n",
            "weighted avg       0.81      0.78      0.79       154\n",
            "\n",
            "Evaluating RandomForest\n",
            "Accuracy: 0.7532467532467533\n",
            "Precision: 0.8764044943820225\n",
            "Average Precision: 0.8263680140084635\n",
            "AUROC: 0.7591836734693878\n",
            "Classification Report\n",
            "              precision    recall  f1-score   support\n",
            "\n",
            "           0       0.58      0.78      0.67        49\n",
            "           1       0.88      0.74      0.80       105\n",
            "\n",
            "    accuracy                           0.75       154\n",
            "   macro avg       0.73      0.76      0.74       154\n",
            "weighted avg       0.78      0.75      0.76       154\n",
            "\n"
          ]
        }
      ],
      "source": [
        "print(\"Evaluating XGBoost\")\n",
        "evaluate(clf_xgboost, X_train_sweet_scaled, y_train_sweet, X_test_sweet_scaled, y_test_sweet)\n",
        "\n",
        "print(\"Evaluating CatBoost\")\n",
        "evaluate(clf_catboost,X_train_sweet_scaled, y_train_sweet, X_test_sweet_scaled, y_test_sweet)\n",
        "\n",
        "print(\"Evaluating RandomForest\")\n",
        "evaluate(clf_rf, X_train_sweet_scaled, y_train_sweet, X_test_sweet_scaled, y_test_sweet)"
      ]
    },
    {
      "cell_type": "code",
      "execution_count": null,
      "metadata": {
        "colab": {
          "base_uri": "https://localhost:8080/"
        },
        "id": "RGtpaus-k2_-",
        "outputId": "a8811bef-fb35-404d-da23-08337fcdfd7a"
      },
      "outputs": [
        {
          "name": "stdout",
          "output_type": "stream",
          "text": [
            "Evaluating XGBoost\n",
            "Accuracy: 0.8070175438596491\n",
            "Precision: 0.9\n",
            "Average Precision: 0.8346365914786967\n",
            "AUROC: 0.8175324675324676\n",
            "Classification Report\n",
            "              precision    recall  f1-score   support\n",
            "\n",
            "           0       0.70      0.86      0.78        66\n",
            "           1       0.90      0.77      0.83       105\n",
            "\n",
            "    accuracy                           0.81       171\n",
            "   macro avg       0.80      0.82      0.80       171\n",
            "weighted avg       0.82      0.81      0.81       171\n",
            "\n",
            "Evaluating CatBoost\n",
            "Accuracy: 0.7894736842105263\n",
            "Precision: 0.8709677419354839\n",
            "Average Precision: 0.8122402781146415\n",
            "AUROC: 0.7948051948051947\n",
            "Classification Report\n",
            "              precision    recall  f1-score   support\n",
            "\n",
            "           0       0.69      0.82      0.75        66\n",
            "           1       0.87      0.77      0.82       105\n",
            "\n",
            "    accuracy                           0.79       171\n",
            "   macro avg       0.78      0.79      0.78       171\n",
            "weighted avg       0.80      0.79      0.79       171\n",
            "\n",
            "Evaluating RandomForest\n",
            "Accuracy: 0.7485380116959064\n",
            "Precision: 0.8444444444444444\n",
            "Average Precision: 0.7808075744917851\n",
            "AUROC: 0.7558441558441558\n",
            "Classification Report\n",
            "              precision    recall  f1-score   support\n",
            "\n",
            "           0       0.64      0.79      0.71        66\n",
            "           1       0.84      0.72      0.78       105\n",
            "\n",
            "    accuracy                           0.75       171\n",
            "   macro avg       0.74      0.76      0.74       171\n",
            "weighted avg       0.77      0.75      0.75       171\n",
            "\n"
          ]
        }
      ],
      "source": [
        "print(\"Evaluating XGBoost\")\n",
        "evaluate(clf_xgboost, X_train_bitter_scaled, y_train_bitter, X_test_bitter_scaled, y_test_bitter)\n",
        "\n",
        "print(\"Evaluating CatBoost\")\n",
        "evaluate(clf_catboost,X_train_bitter_scaled, y_train_bitter, X_test_bitter_scaled, y_test_bitter)\n",
        "\n",
        "print(\"Evaluating RandomForest\")\n",
        "evaluate(clf_rf, X_train_bitter_scaled, y_train_bitter, X_test_bitter_scaled, y_test_bitter)"
      ]
    },
    {
      "cell_type": "markdown",
      "metadata": {
        "id": "jEnnJd0RlPuy"
      },
      "source": [
        "# Boruta Shap"
      ]
    },
    {
      "cell_type": "code",
      "execution_count": 41,
      "metadata": {
        "id": "-SLkLnJ3lI2v"
      },
      "outputs": [],
      "source": [
        "from BorutaShap import BorutaShap"
      ]
    },
    {
      "cell_type": "markdown",
      "metadata": {
        "id": "r62xpsyHlYPx"
      },
      "source": [
        "Sweet"
      ]
    },
    {
      "cell_type": "code",
      "execution_count": null,
      "metadata": {
        "colab": {
          "base_uri": "https://localhost:8080/",
          "height": 121,
          "referenced_widgets": [
            "fc72072e8bce485094335919f9800fec",
            "aff4eff612714b61b3884210b26e3a76",
            "fcb94376b8844adf84ea8d155f83e566",
            "63a242860cc5412abba3cf8b5c9da9e0",
            "5dc1d16a95984c1d95c696cfc593d54c",
            "db4ded0618b14681b9d4fa8785b90c95",
            "b72627d0017f4f1393ecb2f268ec084b",
            "d0b208db45394d169b5ec7cfe157c642",
            "fc70d38f60534ccbbea5502412aaa8a8",
            "33dbcb094517487cb5a4d639b6c7a229",
            "c9cee9a5e52c4dfba0141c346e736fd4"
          ]
        },
        "id": "KS-vVcz8Lyxu",
        "outputId": "6f67e53b-ef34-4d08-b435-0152de0b898d"
      },
      "outputs": [
        {
          "data": {
            "application/vnd.jupyter.widget-view+json": {
              "model_id": "fc72072e8bce485094335919f9800fec",
              "version_major": 2,
              "version_minor": 0
            },
            "text/plain": [
              "  0%|          | 0/100 [00:00<?, ?it/s]"
            ]
          },
          "metadata": {},
          "output_type": "display_data"
        },
        {
          "name": "stdout",
          "output_type": "stream",
          "text": [
            "95 attributes confirmed important: ['SpDiam_L', 'CATS2D_05_DN', 'Di', 'RDF020p', 'NNRS', 'MLOGP2', 'CATS2D_09_AL', 'N%', 'BIC5', 'C-008', 'SpDiam_EA(dm)', 'MATS6m', 'HATS3e', 'H_Dz(p)', 'RDF040s', 'CATS3D_02_DL', 'MAXDN', 'P_VSA_LogP_2', 'SpDiam_B(p)', 'TDB01i', 'TPSA(NO)', 'ATSC3v', 'CATS2D_07_AL', 'CATS3D_06_AL', 'SpDiam_B(s)', 'R2i', 'MAXDP', 'ATS6s', 'GGI8', 'CATS2D_07_LL', 'CATS2D_03_DL', 'MLOGP', 'SpMin1_Bh(v)', 'SpMax3_Bh(s)', 'Eig15_EA(ri)', 'MATS6v', 'piID', 'GATS2e', 'RDF020s', 'CATS2D_04_PN', 'SpDiam_EA(ed)', 'rGes', 'DISPs', 'RDF040m', 'CATS2D_05_DA', 'CATS3D_03_DL', 'S3K', 'SpMax1_Bh(s)', 'P_VSA_i_3', 'VE1sign_RG', 'ATS4s', 'HATS7i', 'Eig01_AEA(ed)', 'SpMin1_Bh(s)', 'VE1_RG', 'SpMax_B(i)', 'Eig09_EA(ed)', 'R3v+', 'SpMax1_Bh(m)', 'R8s', 'JGI8', 'CATS2D_02_DL', 'RDF070m', 'GATS4m', 'TDB04v', 'NdssC', 'Mor11m', 'PCR', 'J_D/Dt', 'HATS6v', 'VE2_B(s)', 'MATS2s', 'HATS7p', 'SPH', 'Mor12m', 'DBI', 'GATS4s', 'ISH', 'MATS5m', 'Mor19m', 'TDB05e', 'totalcharge', 'R4s+', 'ASP', 'HATS5p', 'Eig03_EA(ed)', 'Mv', 'SpMAD_AEA(bo)', 'Mor16e', 'HATS6m', 'Mor32s', 'SIC4', 'MATS8p', 'F01C-N', 'HATS6p']\n",
            "4961 attributes confirmed unimportant: ['B07O-X', 'nIsoxazoles', 'HATS6e', 'RDF125m', 'C-025', 'SP05', 'nRCOX', 'Mor07u', 'B06Si-X', 'SpMax5_Bh(p)', 'B04S-Br', 'SM3_Dz(Z)', 'B04O-B', 'F10O-Br', 'B01Si-X', 'H6s', 'SM09_EA(bo)', 'Eig12_AEA(dm)', 'CATS2D_04_PL', 'B06C-C', 'Mor32i', 'RDF070e', 'F04C-S', 'B01C-Br', 'F01P-Cl', 'F09O-Br', 'ATS1e', 'Mor20s', 'F08S-Cl', 'B06I-X', 'Mor29p', 'Mor23i', 'Mor03s', 'nRCSSH', 'VR2_B(p)', 'SsCl', 'CATS2D_06_AA', 'CATS3D_11_DD', 'WiA_G', 'B06Br-Si', 'QYYm', 'CATS2D_02_PL', 'piPC01', 'B06O-X', 'CATS3D_18_PL', 'F07S-S', 'CATS3D_04_DP', 'HATS7m', 'DISPe', 'SIC0', 'SpPos_A', 'SP07', 'G1s', 'B07N-Cl', 'F02P-F', 'F07S-P', 'SaaaC', 'F01C-X', 'SpMax_X', 'SpDiam_Dz(Z)', 'AVS_B(v)', 'nCXr=', 'B05Cl-B', 'B09O-X', 'Mor07v', 'Chi_D', 'Eig02_AEA(bo)', 'Eig15_EA(dm)', 'B09N-X', 'Eig07_EA(dm)', 'H_RG', 'CATS2D_01_DP', 'F05C-O', 'SP12', 'CATS3D_05_DL', 'B05O-Cl', 'Mor26m', 'B07C-F', 'Psi_e_0', 'SpMAD_B(m)', 'CATS3D_03_LL', 'B05P-P', 'B01O-Cl', 'F08B-B', 'C-021', 'SM4_Dz(m)', 'NddsN', 'CATS2D_08_AN', 'F06P-Si', 'Chi_Dz(v)', 'G(P..P)', 'F01N-S', 'B01S-Cl', 'SsssSiH', 'SpMax_G', 'HyWi_B(i)', 'F05N-Si', 'TDB06m', 'nR03', 'Mor02u', 'B09N-F', 'CATS2D_06_LL', 'SpMax_EA(ri)', 'F02O-B', 'ATSC2e', 'B07N-N', 'F01C-O', 'Eta_FL', 'RDF065s', 'B09P-F', 'ATS2m', 'SM04_AEA(ri)', 'B01C-F', 'Mor10m', 'F10P-B', 'B09Br-Br', 'F04P-Br', 'SM5_G/D', 'F09F-B', 'F07O-S', 'ARR', 'ATSC4m', 'ATSC6v', 'T(S..Br)', 'I-100', 'R8i+', 'NtN', 'IC2', 'Mor15s', 'F02S-Si', 'piPC03', 'SM3_L', 'nR12', 'B08Br-Si', 'SpMaxA_H2', 'SM6_Dz(v)', 'F08P-Cl', 'R5p', 'HATS4u', 'Mor14u', 'F01Br-I', 'F06F-Cl', 'SssssB-', 'VE2_B(i)', 'X2v', 'B10S-Cl', 'HATS4m', 'F09P-P', 'GATS1p', 'SM11_EA(dm)', 'SM5_L', 'B05S-Si', 'B02B-B', 'MWC01', 'R4v+', 'F04I-X', 'F05P-X', 'SpMin1_Bh(m)', 'B02N-X', 'F04O-O', 'ATS4i', 'F02O-Br', 'HATS3m', 'F02N-Si', 'ATSC7p', 'CATS3D_02_DD', 'SM5_Dz(e)', 'F10C-Br', 'RDF095s', 'C-035', 'B02Br-X', 'B08O-B', 'CATS2D_04_AL', 'ChiA_B(v)', 'JGI9', 'F02S-B', 'F02P-I', 'F07C-P', 'VR3_B(s)', 'n=C=', 'TDB09s', 'F08N-P', 'B02P-P', 'WiA_G/D', 'GGI6', 'C-022', 'SM06_EA(bo)', 'CATS3D_19_DL', 'Psi_i_1', 'C-012', 'B10Si-X', 'ATS2i', 'Eig03_AEA(ri)', 'F10Si-X', 'SpPosA_Dz(v)', 'Eta_L_A', 'StCH', 'MWC06', 'Ae', 'QZZi', 'nArCOSR', 'TDB05u', 'CATS2D_00_NL', 'B07P-I', 'SpDiam_H2', 'B07I-B', 'SM12_AEA(dm)', 'SpMAD_Dz(m)', 'Mor05u', 'NaasN', 'B03O-S', 'P2v', 'F03N-F', 'SM12_EA(ed)', 'SpPosLog_B(e)', 'F01P-Si', 'ZM2', 'SM6_B(s)', 'B02I-Si', 'B01C-Cl', 'ISIZ', 'DECC', 'SpMaxA_X', 'AVS_D/Dt', 'F04C-O', 'TDB01p', 'nBO', 'F09Br-I', 'SpMaxA_G', 'RDF025s', 'RDF065i', 'N-074', 'B04O-Br', 'B10I-Si', 'DLS_03', 'GGI4', 'WiA_D/Dt', 'SM15_AEA(ri)', 'GATS4v', 'Mor21v', 'TDB06e', 'I-097', 'CATS2D_03_PP', 'Uc', 'Psi_i_t', 'SpMax8_Bh(e)', 'VR3_B(e)', 'RDF045e', 'SP17', 'F06C-Si', 'F06Br-X', 'G(Cl..Cl)', 'CATS3D_14_AA', 'GATS4i', 'CATS3D_17_PN', 'B05I-B', 'CATS3D_09_DA', 'SpMaxA_B(i)', 'DISPp', 'RTv+', 'B02B-Si', 'SpMAD_EA(dm)', 'CATS3D_18_DA', 'B10C-Br', 'SM02_EA(ri)', 'NaaS', 'CATS3D_08_AL', 'EE_G/D', 'CATS3D_12_PL', 'SsSH', 'CATS3D_12_LL', 'TDB01v', 'G(N..Cl)', 'F02C-Si', 'REIG', 'H4p', 'Ho_B(p)', 'B05N-Cl', 'S-108', 'X1Kup', 'B10Si-Si', 'CATS3D_14_DN', 'CATS3D_17_DP', 'B03Br-Si', 'CATS2D_04_NL', 'SpPos_B(e)', 'B10O-X', 'B08O-Cl', 'Eig12_AEA(ed)', 'CATS3D_12_DD', 'SM3_B(v)', 'CATS2D_01_AN', 'B01B-B', 'Mor14s', 'T(O..O)', 'CATS2D_02_DD', 'B05C-N', 'T(S..Cl)', 'Eig07_AEA(ed)', 'P_VSA_v_4', 'Vindex', 'D/Dtr10', 'SM5_Dz(v)', 'P_VSA_LogP_4', 'nAziridines', 'F01O-F', 'CATS2D_09_DN', 'piPC10', 'Eig14_EA(ed)', 'Mor06m', 'CATS3D_00_PP', 'Mor04i', 'B01N-F', 'Mor19i', 'B09S-I', 'RDF145v', 'B08S-I', 'F08O-Br', 'B05C-O', 'F07P-Si', 'MWC07', 'As', 'SM6_B(i)', 'F06P-Cl', 'H6v', 'R5i+', 'F02Br-X', 'AROM', 'ChiA_D', 'WiA_B(m)', 'SM03_EA(ed)', 'SM02_EA', 'RDF135i', 'B01O-P', 'Psi_i_0', 'SpPosLog_D/Dt', 'RDF045s', 'Eig11_AEA(ri)', 'SM2_B(e)', 'nBR', 'SpPosA_B(s)', 'TDB10s', 'SM03_AEA(ed)', 'SpMAD_B(v)', 'X5Av', 'F07Si-Si', 'F05I-X', 'F06C-P', 'JGI2', 'SpMin7_Bh(e)', 'RDF025e', 'SpMin4_Bh(i)', 'Mor22p', 'L3e', 'Ho_D/Dt', 'R2p+', 'F05I-I', 'nBM', 'CATS2D_09_AA', 'VE2sign_B(v)', 'SpPosA_Dz(p)', 'HyWi_Dz(Z)', 'CATS3D_00_NL', 'F06S-F', 'WiA_Dz(i)', 'F03S-B', 'SpMin6_Bh(v)', 'SM02_AEA(dm)', 'F10F-Si', 'Ho_B(e)', 'SpMaxA_AEA(ed)', 'SM4_B(i)', 'D/Dtr11', 'F09C-I', 'CATS3D_09_AN', 'F06I-B', 'RDF140i', 'CATS3D_19_AL', 'F06F-F', 'CATS3D_18_AP', 'RDF075p', 'CATS3D_15_AN', 'SssS', 'SpPos_Dz(p)', 'Mor13e', 'F04N-F', 'B10O-P', 'F02C-Br', 'CATS2D_00_PP', 'B01N-P', 'SpDiam_Dz(p)', 'SsNH3+', 'MATS8i', 'H1u', 'F10P-Si', 'RDF075u', 'NddsAs', 'CATS2D_00_NN', 'F05C-I', 'CATS3D_12_PP', 'G1m', 'F10C-X', 'CATS3D_13_DL', 'G(I..I)', 'HOMT', 'CATS3D_14_DA', 'E3p', 'NssssssS', 'SpPos_G/D', 'B08O-Br', 'RDF055u', 'B09X-X', 'SpDiam_EA(ri)', 'X1MulPer', 'SpMax8_Bh(s)', 'SsssCH', 'G2v', 'nHDon', 'F10C-Si', 'nCsp3', 'SpMaxA_EA', 'HATS2s', 'SpAbs_B(v)', 'F03P-B', 'nArCSSR', 'ATSC4v', 'ATSC8v', 'NdCH2', 'SM1_B(s)', 'SssssSn', 'nArNO', 'TDB09e', 'Mor19e', 'ZM1Kup', 'Chi_D/Dt', 'F08F-Cl', 'B03C-I', 'nCRX3', 'HATS3u', 'Tv', 'F10O-B', 'CATS3D_06_LL', 'B10Cl-Cl', 'B06B-B', 'AVS_Dz(p)', 'F03O-Cl', 'B04N-X', 'NssO', 'B10C-Cl', 'SpMAD_B(i)', 'B05I-I', 'B07O-Si', 'CATS3D_18_AN', 'SP11', 'G1', 'CATS3D_11_PP', 'Av', 'F05S-Br', 'CATS3D_02_DA', 'CATS2D_03_PN', 'CATS2D_06_DP', 'CATS2D_07_NN', 'CATS3D_04_NN', 'ATSC5p', 'GATS3s', 'B07C-O', 'F07I-X', 'MATS6i', 'SRW06', 'Eig13_EA(dm)', 'X2sol', 'TDB02s', 'SM5_H2', 'CATS3D_04_PP', 'SpPos_B(s)', 'F09S-B', 'CATS2D_04_AN', 'MPC08', 'X1', 'Eig13_EA(bo)', 'MATS2e', 'Pol', 'WiA_B(v)', 'SpPosLog_L', 'F08N-B', 'F01F-I', 'F06O-O', 'J_B(e)', 'C-043', 'L1p', 'B06P-B', 'RDF100e', 'SpMin8_Bh(s)', 'Mor05s', 'SpMax3_Bh(m)', 'R6i+', 'B06N-P', 'SP13', 'L3i', 'F08O-F', 'J_Dz(Z)', 'nOHt', 'T(O..F)', 'Eig15_EA(bo)', 'F09P-Si', 'F03S-Si', 'SpMaxA_A', 'nRNHO', 'B02O-Cl', 'SpMAD_B(p)', 'F05S-S', 'B04S-F', 'SM6_B(e)', 'SpPos_Dz(i)', 'SM2_Dz(i)', 'Mor32u', 'F01C-Cl', 'B04X-X', 'DP04', 'nArNHO', 'SM04_EA(ri)', 'B10P-Cl', 'Mor18u', 'SpPos_Dz(Z)', 'VE2_B(p)', 'F10Cl-I', 'VR3_B(i)', 'B10Br-Si', 'NssBH', 'J_D', 'F07P-I', 'F10P-Cl', 'RDF015v', 'B03F-F', 'Mor24v', 'SpMin3_Bh(s)', 'CATS2D_00_PL', 'HATS4p', 'F02C-B', 'F08O-O', 'B10Cl-I', 'VE3_B(i)', 'NssssGe', 'SsssGeH', 'Eig13_AEA(ri)', 'nP(=O)O2R', 'ITH', 'D/Dtr04', 'B08F-Si', 'HATS3v', 'Ho_A', 'X3Av', 'UNIP', 'SIC5', 'SM3_Dz(e)', 'VE2sign_B(s)', 'IVDE', 'F04N-Cl', 'RDF150p', 'SM09_AEA(bo)', 'B04N-F', 'Wi_B(m)', 'B03I-I', 'B02Br-B', 'NssssN+', 'RDF010e', 'nRNR2', 'CATS3D_16_DN', 'F05P-F', 'Mor30i', 'SpPos_B(v)', 'CATS3D_07_DP', 'B03N-X', 'Ho_Dt', 'RTm+', 'CATS3D_16_AL', 'B06C-B', 'B02F-F', 'CATS2D_06_PP', 'Chi_B(e)', 'SM02_EA(ed)', 'RDF045p', 'F02N-X', 'nRCONH2', 'WiA_Dz(p)', 'MPC10', 'Mor31v', 'R1u', 'F07N-N', 'RDF120s', 'F02N-O', 'SpAD_B(m)', 'F06Cl-Cl', 'RDF070u', 'NsssB', 'R3i', 'HATS8e', 'F-082', 'RDF045v', 'SM6_B(v)', 'GATS7v', 'SpPosLog_Dz(Z)', 'Chi_RG', 'Mor29m', 'H_D/Dt', 'NsSnH3', 'Si', 'B08N-S', 'nSO2', 'CATS2D_02_DN', 'ATS6i', 'B01Si-Si', 'CATS3D_06_PN', 'Chi_B(p)', 'SpMAD_L', 'F05F-Cl', 'RTu', 'B05P-I', 'Mor13v', 'B02C-N', 'SpAD_G', 'AVS_B(p)', 'nArNH2', 'SpMax3_Bh(p)', 'CATS3D_11_NL', 'NssSiH2', 'F03N-B', 'B01C-P', 'B06I-Si', 'CATS3D_13_DA', 'F07F-Si', 'F04N-X', 'Eta_alpha', 'ATSC7i', 'HTv', 'nStructures', 'Wi_Dz(e)', 'B04Si-Si', 'Chi_B(s)', 'ATSC4p', 'SP08', 'B04O-X', 'piPC09', 'B07Br-B', 'B07I-I', 'CATS3D_12_AP', 'R5p+', 'HATS3s', 'F01C-S', 'SP02', 'F06P-B', 'Eta_betaS', 'SpMin6_Bh(p)', 'nP', 'VR2_B(m)', 'C-015', 'CATS3D_01_DA', 'F03P-F', 'SpAD_B(p)', 'TDB07u', 'Mor27m', 'CATS3D_04_AN', 'VE2_L', 'F01Si-X', 'ATSC4e', 'F06S-S', 'HATSp', 'CATS2D_01_PP', 'B06S-F', 'SpMax7_Bh(e)', 'nCrs', 'F04S-Cl', 'T(F..F)', 'MATS5p', 'CATS3D_11_PN', 'SpMin4_Bh(e)', 'F01C-F', 'SpPosLog_B(v)', 'Me', 'ATSC7e', 'B08N-F', 'F04S-Si', 'B10F-B', 'Chi0_AEA(ri)', 'P_VSA_s_3', 'Mor10e', 'nArNO2', 'F09Br-X', 'B10C-I', 'GATS8e', 'RDF025v', 'F02Br-Br', 'F09O-S', 'RDF095m', 'F02S-F', 'SM1_Dz(p)', 'RDF145u', 'TDB07v', 'SM6_Dz(i)', 'CATS3D_09_AA', 'CATS3D_17_AL', 'SddsN', 'R3u', 'B07S-Br', 'B10O-Si', 'CATS3D_16_DD', 'SpMax_Dz(i)', 'NdNH', 'F03C-C', 'B07C-Br', 'SssPbH2', 'G2e', 'GATS6i', 'NsPH2', 'N-079', 'RDF070v', 'nThiazoles', 'B03Br-X', 'CATS3D_06_DL', 'SpMax_L', 'B05X-X', 'Mor23u', 'B07F-Si', 'B03I-Si', 'EE_B(e)', 'Eta_C', 'F05O-I', 'B01P-Cl', 'SIC1', 'Eig09_EA(bo)', 'CATS2D_03_PL', 'R1v+', 'B01N-Br', 'H5m', 'F07Br-I', 'Mor10i', 'GATS4e', 'F01O-Si', 'RDF100m', 'F05Br-B', 'Mor01p', 'CATS3D_07_PP', 'Gm', 'MATS3s', 'F06C-Cl', 'VR3_RG', 'B05O-X', 'G1v', 'O-062', 'SaaO', 'ChiA_Dz(e)', 'F01N-I', 'E1i', 'X4Av', 'Mor15v', 'F08B-X', 'RCI', 'B10F-I', 'SpMin8_Bh(m)', 'QXXi', 'ChiA_Dz(Z)', 'TDB08u', 'R7u+', 'Eig14_AEA(bo)', 'RDF155e', 'SM2_L', 'Mor16p', 'QYYi', 'SsOH', 'F05Br-Si', 'NssBe', 'B02C-B', 'CATS3D_18_LL', 'B08C-Cl', 'P-116', 'B08F-F', 'MATS4e', 'SpMaxA_EA(dm)', 'B01I-X', 'G(N..F)', 'F03F-I', 'NsSeH', 'nOHp', 'DLS_cons', 'nOxetanes', 'nRCONHR', 'nArCO', 'C-010', 'CATS3D_02_DN', 'F09Cl-I', 'HATS4v', 'H1s', 'Mor06v', 'B05N-N', 'F06Br-Si', 'BBI', 'B03P-X', 'H1e', 'F01O-S', 'SpMin3_Bh(m)', 'J_X', 'nArNCS', 'R7s+', 'StN', 'F05O-S', 'ATSC3s', 'Ui', 'SpAD_Dz(Z)', 'SpMAD_AEA(ed)', 'B02S-Br', 'VvdwZAZ', 'SM4_B(v)', 'TDB08v', 'Eig10_AEA(dm)', 'G3u', 'AVS_H2', 'B04N-O', 'F06F-X', 'nRCHO', 'B05Cl-Br', 'D/Dtr12', 'SM04_EA(bo)', 'Eig10_EA(ri)', 'ATSC7s', 'HATSi', 'RTi', 'F03Br-Br', 'RTe+', 'CATS2D_03_NN', 'B02S-X', 'SssssSi', 'SsssB', 'SM11_AEA(ed)', 'F01C-P', 'HATSs', 'B07Cl-Cl', 'F03C-B', 'F07O-B', 'Mor22i', 'SsssAs', 'G1u', 'nDB', 'CATS3D_13_PP', 'B07Br-Br', 'TDB01e', 'B07N-O', 'TDB03s', 'Mor32v', 'SpMAD_AEA(ri)', 'WiA_Dz(v)', 'SM4_X', 'B10X-X', 'F08C-Cl', 'Eig06_EA', 'F05C-Cl', 'VR3_B(m)', 'SM09_EA(ed)', 'RDF075s', 'ATS8m', 'B04Cl-Si', 'ATSC7m', 'H8e', 'B07F-Cl', 'B10N-S', 'Ho_G', 'HATS1s', 'Mor08v', 'SM4_Dt', 'VE1sign_B(i)', 'R5e+', 'CATS3D_12_DL', 'GATS5m', 'SM14_EA(ed)', 'SM3_D', 'B05N-Br', 'H_Dz(v)', 'Mor29i', 'QZZs', 'BLI', 'Eig08_AEA(ri)', 'nPyridines', 'G(S..Cl)', 'F08N-O', 'RDCHI', 'SM4_H2', 'ATSC4s', 'SM06_AEA(ed)', 'B03P-Br', 'CATS2D_09_LL', 'B01P-Si', 'B05N-S', 'B08Br-B', 'F08F-F', 'B04O-I', 'ATSC3i', 'R2u+', 'F05O-P', 'SM06_AEA(bo)', 'R5s+', 'SpMin8_Bh(e)', 'G1i', 'SpMax6_Bh(i)', 'CATS2D_01_NN', 'F10F-X', 'Mor12u', 'nCq', 'B10N-Br', 'Eig01_AEA(ri)', 'NsPbH3', 'B03O-Br', 'nRCOOR', 'Ho_Dz(e)', 'D/Dtr03', 'TDB10u', 'F04O-P', 'F06S-Si', 'SpPosA_B(m)', 'F10O-X', 'SM09_AEA(ri)', 'nArNCO', 'F09I-X', 'E3v', 'ATS2p', 'CATS3D_11_AA', 'nArNNOx', 'RDF010i', 'F10S-I', 'X3A', 'piPC04', 'Eig08_EA(ri)', 'RDF015m', 'SpDiam_A', 'SpMin5_Bh(i)', 'F01F-B', 'B10O-Cl', 'R1e+', 'RDF120e', 'F05C-X', 'Ges', 'Mor27e', 'F04Br-Si', 'F03P-Si', 'HATS0v', 'RDF100v', 'GATS4p', 'IVDM', 'Eig02_EA(bo)', 'SssssBe-', 'F08O-Si', 'VAR', 'O-059', 'ChiA_B(p)', 'BAC', 'ChiA_B(i)', 'AMW', 'NsLi', 'TDB08m', 'R2v', 'F07C-N', 'nC=O(O)2', 'VR3_B(v)', 'CATS3D_03_AA', 'RDF135p', 'Eig06_AEA(bo)', 'GATS7i', 'Ho_Dz(m)', 'B05C-P', 'CATS3D_15_NN', 'F02P-B', 'SssssC', 'CATS2D_06_AN', 'nCrq', 'R3s', 'B03Cl-Br', 'SM6_RG', 'SpMAD_AEA(dm)', 'HyWi_B(p)', 'SpMax1_Bh(v)', 'Chi0_EA(dm)', 'B07P-B', 'nSO2OH', 'SM05_AEA(ri)', 'F02C-X', 'B06F-B', 'nRNCO', 'B01Cl-I', 'CATS3D_06_NN', 'Eig03_AEA(ed)', 'Mor05m', 'F04O-I', 'F05F-F', 'CATS3D_05_DP', 'E1v', 'CATS3D_13_DN', 'nArOCN', 'F03C-S', 'P_VSA_s_4', 'G(P..Cl)', 'Eig14_AEA(dm)', 'B03I-X', 'CATS3D_16_AN', 'SpAbs_Dz(p)', 'AAC', 'nB', 'F02O-P', 'P-120', 'SM4_D/Dt', 'B03S-P', 'Mor08i', 'CATS3D_07_DD', 'R6e+', 'F06S-P', 'B07S-F', 'F08S-I', 'F05P-Br', 'SpMin3_Bh(e)', 'AVS_X', 'CATS3D_17_NL', 'SpMax1_Bh(p)', 'CATS2D_06_PN', 'RDF085i', 'B04C-B', 'ATS1i', 'SdsCH', 'nCXr', 'F03C-Br', 'F04P-F', 'Eig12_EA(ed)', 'Mor08p', 'N-073', 'F10I-I', 'B08S-X', 'CATS3D_07_DL', 'HOMA', 'CATS3D_09_NN', 'F08Cl-X', 'F06N-O', 'SM4_Dz(p)', 'H6p', 'NRS', 'SpDiam_EA(bo)', 'RDF010u', 'F07C-I', 'Mor21m', 'nROX', 'ChiA_G', 'SM14_EA(dm)', 'TDB02i', 'SM5_B(s)', 'B09Cl-B', 'CATS2D_03_DA', 'B02F-I', 'F10Cl-Cl', 'B02O-X', 'F08I-I', 'SIC3', 'piPC02', 'CATS2D_02_PN', 'R7i', 'F09P-Br', 'CATS2D_05_PL', 'L/Bw', 'GATS5v', 'SpAbs_RG', 'SM15_AEA(bo)', 'nArCOOR', 'nP(=O)R3/nPR5', 'B02N-I', 'CATS3D_00_AN', 'SM12_AEA(ri)', 'CATS2D_02_AN', 'ATSC1v', 'Eta_betaP_A', 'F02B-B', 'VR1_B(m)', 'SpAD_AEA(bo)', 'SpMax_B(v)', 'B04Br-Br', 'B03O-X', 'F09B-X', 'F02Cl-X', 'CATS3D_13_PL', 'Mor18e', 'SpMaxA_Dz(Z)', 'Mor01v', 'R2i+', 'Eig08_AEA(ed)', 'SpMAD_D/Dt', 'CATS3D_13_AN', 'F08O-Cl', 'Gu', 'SssssN+', 'CATS3D_03_PN', 'B10Cl-Si', 'H8v', 'RDF085m', 'CATS2D_05_NN', 'P2i', 'L3u', 'Km', 'B03P-I', 'CATS2D_07_PL', 'Mor14p', 'B06P-Si', 'SssO', 'J_B(p)', 'TDB09v', 'F09O-I', 'F06N-Br', 'VE1_G/D', 'Mor22u', 'SpMin5_Bh(p)', 'ATS3e', 'SM10_AEA(dm)', 'F05Br-I', 'VE2sign_B(m)', 'H8m', 'B03O-F', 'B03N-O', 'B05P-Cl', 'F07I-I', 'P2e', 'CATS3D_04_PL', 'B03N-Si', 'BIC0', 'RDF085s', 'CATS3D_12_NL', 'Wi_G', 'VR3_B(p)', 'Mor12s', 'B01S-Br', 'MATS6s', 'F02B-Si', 'JGI4', 'TDB08p', 'Eig02_EA(ri)', 'F06Br-B', 'B06N-O', 'F01Cl-X', 'G(Br..Br)', 'NsCl', 'Eig01_EA', 'Eig06_AEA(ri)', 'B09C-N', 'VR1_B(s)', 'GATS5s', 'SpMin3_Bh(p)', 'C-030', 'B08C-B', 'SpPosLog_B(p)', 'Mp', 'nArCONH2', 'F04C-Si', 'Eig05_EA(dm)', 'CATS2D_06_AP', 'SpMax4_Bh(s)', 'B08C-N', 'F05C-Si', 'F07Br-X', 'B04I-I', 'F10P-Br', 'B06Si-Si', 'CATS3D_17_PL', 'J_A', 'H0s', 'L1e', 'SpMAD_G', 'N-075', 'B04F-B', 'R8u+', 'ATS1m', 'nSO2N', 'B04Br-Si', 'B10N-N', 'F04Br-X', 'SpMax3_Bh(v)', 'RDF125u', 'F01O-O', 'X5A', 'F01O-Cl', 'RDF070i', 'MATS7s', 'B10P-I', 'CATS3D_09_AP', 'SM02_AEA(bo)', 'F10F-B', 'T(O..P)', 'Eig03_EA', 'F06N-I', 'B07C-I', 'HATS5i', 'F03O-B', 'H0m', 'F03O-F', 'B06P-Cl', 'B08I-Si', 'Eig09_AEA(ed)', 'F06Cl-B', 'F07F-I', 'MATS5e', 'GATS6v', 'B01S-I', 'R6v', 'CATS3D_00_AL', 'L2m', 'Mor18p', 'SM4_Dz(v)', 'HATS8s', 'RDF150s', 'B06F-Cl', 'QXXp', 'QYYp', 'QZZe', 'B03O-O', 'Eig14_EA(bo)', 'Mor24e', 'Mor03i', 'Uindex', 'E1m', 'NaaaC', 'VR1_B(e)', 'B10C-B', 'B05N-F', 'CATS2D_05_AP', 'F06N-N', 'Mor17i', 'SdCH2', 'C-034', 'H3s', 'NssPH', 'CATS3D_10_DN', 'Mor24u', 'L1m', 'Mor05v', 'RDF145e', 'Ho_D', 'B07P-Si', 'CATS3D_12_AN', 'B02F-Cl', 'Mor23m', 'C-016', 'Mor15p', 'CATS3D_02_LL', 'B04B-Si', 'CATS3D_02_AA', 'B05Cl-Si', 'F04Br-Br', 'SP06', 'SpPosA_RG', 'B05P-Br', 'Chi_Dt', 'B01Cl-Si', 'SM03_AEA(ri)', 'F09F-F', 'Mor09v', 'SpMaxA_B(e)', 'Psi_i_s', 'Eig06_EA(dm)', 'B03O-Si', 'X2Av', 'B08N-O', 'DLS_04', 'F09N-S', 'L3s', 'Mor30v', 'SpMin7_Bh(s)', 'NsssNH+', 'B09S-P', 'Eig02_EA(ed)', 'SpMin1_Bh(e)', 'F07F-Cl', 'B07C-S', 'F-084', 'F09F-Cl', 'SM4_G/D', 'SpPosLog_G', 'B02Cl-B', 'B06N-S', 'B03Si-Si', 'G(Br..I)', 'CATS3D_06_DD', 'SsssSnH', 'B07S-B', 'Eig03_EA(dm)', 'TDB03u', 'B09N-Cl', 'F02S-X', 'F01C-Br', 'Eig14_AEA(ri)', 'B06N-F', 'CATS3D_13_AL', 'F03N-N', 'DISPi', 'F03F-X', 'Eta_F', 'NdsCH', 'B10Br-B', 'nN(CO)2', 'MATS7e', 'nRSR', 'nAB', 'CATS3D_16_LL', 'N-067', 'SpMaxA_G/D', 'B06I-B', 'SPAN', 'F07Cl-Si', 'G(O..Br)', 'Se-065', 'Eig13_EA(ed)', 'F06O-P', 'nN=N', 'CATS3D_10_PP', 'PW2', 'B07N-Si', 'F04N-N', 'B07P-F', 'B03C-B', 'RDF110p', 'DLS_05', 'CATS3D_19_NL', 'E3u', 'Mor31p', 'R1m+', 'F08C-B', 'CATS3D_09_DN', 'F10Cl-Si', 'Mor21p', 'CATS2D_09_PP', 'RDF110s', 'AVS_RG', 'RDF145i', 'H7e', 'IDDM', 'B07Si-X', 'SM10_EA', 'F04I-B', 'VE1_B(e)', 'F10X-X', 'SpMAD_EA(bo)', 'CATS3D_06_PP', 'nCt', 'B08P-B', 'F04S-S', 'SM3_RG', 'B05N-B', 'B05I-Si', 'B07N-F', 'SM13_AEA(dm)', 'HyWi_D', 'Mor24s', 'F05P-B', 'Mor25p', 'Mor18m', 'CATS3D_05_AP', 'E2v', 'CATS3D_19_AN', 'H%', 'F01N-F', 'SP04', 'B03B-B', 'Chi_H2', 'SM07_EA(bo)', 'CIC2', 'HATS0p', 'T(S..F)', 'F09O-F', 'B08S-Br', 'DP05', 'F02N-P', 'SpMin6_Bh(m)', 'TRS', 'SpMin6_Bh(s)', 'B04C-X', 'ATSC2s', 'Mor12p', 'IDMT', 'SdsssP', 'B03Cl-X', 'Mor06i', 'SssSnH2', 'SMTI', 'R7e', 'G2s', 'SM03_EA', 'F09N-B', 'CATS3D_07_AP', 'SpMin5_Bh(m)', 'B08S-Si', 'R5m', 'B07B-Si', 'F07O-X', 'SM08_EA(ed)', 'L2i', 'DP06', 'Mor05i', 'E3s', 'H2u', 'F-101', 'B04Br-X', 'SM08_EA(bo)', 'B04O-P', 'Ho_L', 'TI1_L', 'B02O-Si', 'F02C-N', 'G(P..Br)', 'F07N-F', 'P_VSA_p_3', 'HATS2e', 'SpAbs_B(m)', 'B07F-I', 'F03Br-B', 'SM13_EA(ed)', 'CATS3D_15_AA', 'RDF090m', 'SM07_AEA(ri)', 'B07F-Br', 'CATS3D_00_LL', 'nCIR', 'CATS3D_07_DA', 'TDB07s', 'SssGeH2', 'B06N-X', 'SddssS', 'CATS2D_02_AL', 'F07N-Cl', 'HATS5s', 'SRW03', 'F02O-Si', 'F03O-S', 'Eig04_EA(dm)', 'SM13_AEA(ed)', 'B10F-Si', 'B09O-P', 'SpDiam_AEA(ri)', 'MATS1s', 'SM09_AEA(ed)', 'CATS3D_01_PL', 'CATS3D_00_PL', 'SM12_AEA(bo)', 'SM13_AEA(bo)', 'DP08', 'B01F-F', 'B03Cl-Si', 'F03P-P', 'Ap', 'RDF085p', 'CATS3D_14_AP', 'Mor32e', 'CATS3D_10_AL', 'Chi_Dz(i)', 'F10N-Si', 'O-058', 'B09F-Si', 'X0A', 'Qindex', 'SM6_G/D', 'G(O..I)', 'SM06_EA(dm)', 'GATS1e', 'RDF145p', 'F05C-F', 'R5e', 'N-071', 'HATS3p', 'R5u+', 'B05F-Cl', 'SpMax6_Bh(e)', 'SM04_AEA(dm)', 'F01N-X', 'RDF080v', 'Mor16u', 'HTp', 'F02C-S', 'F01S-Br', 'Mor17e', 'F03I-Si', 'SpPosA_Dt', 'X1A', 'VE3_B(e)', 'Mor16s', 'N-078', 'Mor05p', 'ATS5p', 'CMBL', 'G1e', 'F01S-P', 'L3m', 'X1Av', 'SpMax_Dz(v)', 'F03N-P', 'TIC5', 'B01O-S', 'B06O-I', 'F09N-N', 'CATS2D_09_DP', 'HATS4i', 'CATS2D_01_DA', 'SdsN', 'T(P..Br)', 'F01N-Br', 'NssssSi', 'RDF105m', 'F09C-Cl', 'B06F-Si', 'Eig15_AEA(ri)', 'CATS3D_13_DD', 'HATS0m', 'F08C-P', 'Chi_B(m)', 'SM14_AEA(ri)', 'Mor25m', 'nArNR2', 'B09F-I', 'SM15_EA(dm)', 'F01I-Si', 'F02I-Si', 'B07C-Si', 'B06S-I', 'QXXe', 'Mor30s', 'F02N-N', 'SaasN', 'F06N-Cl', 'G(S..Br)', 'CATS3D_00_DN', 'RTp+', 'F09N-F', 'CATS2D_08_AL', 'RDF010s', 'F04Cl-I', 'B02Cl-Br', 'AVS_Dt', 'SP01', 'Mor31e', 'F04P-Si', 'F04P-B', 'L3v', 'F03B-Si', 'B10P-Br', 'nR10', 'GATS5e', 'Eta_L', 'B03S-Si', 'F04I-I', 'SpMAD_H2', 'SM04_EA(dm)', 'GGI7', 'nR#CX', 'Sp', 'F02I-B', 'F05Si-Si', 'SM2_B(m)', 'CATS2D_05_AA', 'F04O-B', 'CATS3D_16_PP', 'MATS6p', 'P-118', 'B03P-Cl', 'B08N-Cl', 'B09C-Br', 'F06F-B', 'SM09_EA(ri)', 'SpAD_Dz(e)', 'F02C-C', 'nArSCN', 'SpMin5_Bh(v)', 'F10N-Br', 'CATS2D_08_PL', 'P_VSA_p_1', 'SpAD_B(i)', 'Mor24i', 'B07S-P', 'NsssN', 'CATS3D_04_DN', 'B02Si-X', 'SM5_Dz(Z)', 'WiA_B(i)', 'RDF115v', 'B03C-O', 'SM12_EA(dm)', 'SM3_Dz(i)', 'CID', 'EE_D/Dt', 'B09S-X', 'F08C-S', 'Mor07m', 'B03B-X', 'Mor10s', 'F03S-F', 'CATS3D_19_NN', 'SpDiam_D/Dt', 'F08S-F', 'CIC4', 'B09P-Cl', 'nArCONR2', 'Eig05_AEA(ri)', 'ATSC2p', 'CATS3D_02_NL', 'F05Cl-Cl', 'Mor11v', 'B02N-S', 'RDF055s', 'RDF015e', 'RDF150e', 'F05O-Cl', 'Eig05_AEA(bo)', 'F02S-P', 'CATS2D_02_AA', 'F05S-X', 'RDF100p', 'F05O-O', 'MPC01', 'RDF045i', 'F10O-Cl', 'SM07_AEA(bo)', 'B05N-I', 'F01Cl-B', 'RDF065p', 'B03C-N', 'B02I-B', 'C-019', 'SpMax_AEA(ri)', 'RDF095u', 'Eig11_AEA(bo)', 'R1i', 'B02S-I', 'NaaSe', 'CATS2D_00_DN', 'F07S-F', 'F08C-I', 'P_VSA_MR_3', 'CATS3D_00_DD', 'nN-N', 'RTe', 'SM4_Dz(e)', 'SM10_EA(bo)', 'Eig08_EA(ed)', 'Wi_RG', 'CATS2D_07_AN', 'CATS3D_05_PN', 'F08B-Si', 'B04B-B', 'SM12_AEA(ed)', 'RDF105s', 'B06N-I', 'PJI2', 'SM6_X', 'TDB04s', 'CIC0', 'Chi_G/D', 'Eig10_AEA(ri)', 'VE3_B(s)', 'B10O-S', 'CATS3D_19_DA', 'R1s+', 'CATS3D_08_AA', 'F02C-Cl', 'Eig09_AEA(dm)', 'B06P-I', 'B05O-Si', 'NsssSnH', 'B09P-Br', 'F-081', 'TDB03m', 'H2i', 'F06O-Si', 'Eig04_EA(ri)', 'F05B-B', 'B06B-Si', 'B05Br-X', 'F07N-O', 'TDB05r', 'SpMax2_Bh(e)', 'X5v', 'F07C-F', 'HyWi_Dz(m)', 'GATS7p', 'SRW08', 'B10S-Si', 'TDB05m', 'R6m', 'B03F-B', 'B01X-X', 'AVS_D', 'CATS3D_10_NL', 'Si-111', 'GGI1', 'SM5_RG', 'Eig03_AEA(bo)', 'DP11', 'F04S-I', 'B06X-X', 'HTs', 'RDF150u', 'nHBonds', 'F08P-Si', 'Ho_B(m)', 'Mor02s', 'SpMax1_Bh(i)', 'SdssS', 'CATS3D_03_NL', 'CATS3D_04_DD', 'SsssNH+', 'B08C-C', 'F01P-I', 'F03S-Cl', 'GATS2i', 'TDB04u', 'F06S-Br', 'F03Cl-Si', 'B04P-Br', 'nThiranes', 'B10N-B', 'G(O..P)', 'F02B-X', 'B04S-Cl', 'B08C-S', 'CATS2D_02_NL', 'C-027', 'F04Cl-Si', 'F06P-Br', 'B05F-F', 'H5u', 'X4sol', 'RDF050i', 'nHM', 'CATS3D_19_LL', 'GATS8s', 'HATS1i', 'SssssPb', 'B01S-P', 'SM3_G', 'B01N-I', 'L2u', 'RDF155u', 'S-107', 'B02C-X', 'F10C-P', 'Eig07_EA(ed)', 'CENT', 'DP17', 'SpMax_AEA(bo)', 'ATSC1s', 'NssNH2+', 'B07Si-Si', 'B02I-X', 'F06S-X', 'NsF', 'F08S-Si', 'B04S-S', 'TDB06s', 'SpPosA_Dz(Z)', 'F09P-F', 'CATS3D_05_AL', 'ATS1p', 'F04N-Si', 'QZZp', 'NsOH', 'TDB01r', 'SpMax_B(s)', 'SM2_G', 'R6p+', 'CATS3D_01_DP', 'B06C-I', 'B07I-X', 'F09S-S', 'G(S..P)', 'RTv', 'R6s', 'R8v', 'Mor19p', 'CATS2D_08_DP', 'F08Br-Si', 'B03P-F', 'SM4_L', 'F05I-B', 'VR2_G/D', 'B05C-I', 'WiA_B(p)', 'VE3_B(m)', 'B01O-F', 'NdsN', 'RDF090p', 'Mor15e', 'P_VSA_p_4', 'Chi_G', 'F10F-Cl', 'nSK', 'SM13_EA(dm)', 'F03O-P', 'B06F-I', 'MATS5i', 'R7v+', 'SM09_AEA(dm)', 'EE_X', 'X2A', 'RDF035u', 'Eig10_AEA(bo)', 'Ki', 'F03Si-X', 'B04C-O', 'B03N-I', 'F03I-X', 'Eig15_EA', 'C-031', 'B09N-P', 'Br-094', 'RDF130p', 'HIC', 'SpMax_EA(dm)', 'Mor14i', 'Eig01_EA(ri)', 'CATS3D_00_AP', 'H1p', 'CATS3D_04_LL', 'SpMax_AEA(ed)', 'VR1_B(v)', 'CATS3D_05_AN', 'SpMax_Dz(m)', 'Mor17m', 'F09Si-Si', 'SpMax4_Bh(p)', 'C-001', 'F03N-Cl', 'Mor01i', 'B10N-P', 'Psi_e_A', 'PW3', 'CATS2D_03_AP', 'Eig09_AEA(bo)', 'F02F-Si', 'Mor19v', 'B09C-S', 'B08B-B', 'SpMax6_Bh(v)', 'R4v', 'HATS6i', 'F09N-Si', 'Eig05_AEA(dm)', 'E2e', 'F10Br-Si', 'nArOH', 'F08Cl-B', 'C-029', 'RDF060v', 'B08S-S', 'E2p', 'CATS3D_17_LL', 'Mi', 'CATS2D_05_PP', 'F05C-S', 'ATSC1i', 'ATS5m', 'HyWi_Dz(p)', 'SpMax5_Bh(m)', 'B06S-P', 'MATS8s', 'G(N..N)', 'Mor07i', 'CATS3D_14_PL', 'Mor28s', 'B02P-B', 'SpMaxA_B(s)', 'TDB04r', 'B07B-B', 'nN+', 'C-039', 'nThioethanes', 'RDF095i', 'MATS3e', 'F02F-X', 'F01N-O', 'B05B-X', 'NdsssP', 'F07C-C', 'B04P-Cl', 'B02S-S', 'Eta_betaP', 'SaaSe', 'SRW02', 'SpMin8_Bh(v)', 'CATS2D_08_DL', 'SpAD_G/D', 'B09C-Cl', 'H4u', 'Eig07_EA(bo)', 'B02S-Cl', 'B10C-S', 'R2m', 'MPC06', 'B10O-O', 'HNar', 'NssSnH2', 'RDF060u', 'Wi_B(i)', 'F10S-S', 'F06B-B', 'TDB04i', 'F09N-Cl', 'B02Cl-I', 'B10O-Br', 'NdS', 'SM10_EA(dm)', 'MATS7p', 'nArCSSH', 'CATS2D_02_LL', 'B10O-F', 'SM09_EA(dm)', 'Ho_Dz(v)', 'F09Br-B', 'B04P-B', 'Dz', 'HyWi_H2', 'Mor29v', 'Chi1_EA(bo)', 'G(S..I)', 'F05P-Cl', 'F04Cl-X', 'Mor28m', 'RDF030m', 'B05S-F', 'P-117', 'Mor28u', 'B08O-O', 'Mor26u', 'B09N-S', 'CATS3D_02_AN', 'B01S-X', 'B03O-Cl', 'R3s+', 'B07O-Br', 'SM05_EA(ed)', 'G(N..I)', 'RDF095p', 'nTriazoles', 'B02F-B', 'SssSe', 'CATS2D_01_DN', 'Chi1_EA(ri)', 'DISPm', 'SpMin3_Bh(v)', 'Se-064', 'B08B-Si', 'Eig08_EA(dm)', 'R1p', 'CATS3D_01_NN', 'B04F-X', 'CATS3D_18_AA', 'AVS_G', 'F05S-Cl', 'Eig02_EA(dm)', 'F10N-B', 'F04O-Br', 'Mor31u', 'Mor22s', 'Eig06_EA(bo)', 'GGI9', 'Mor24m', 'Am', 'B06C-Br', 'SpMax5_Bh(e)', 'F02P-P', 'SM04_AEA(bo)', 'CATS3D_08_DA', 'H_Dz(e)', 'ChiA_B(s)', 'Yindex', 'Mor27s', 'AVS_Dz(Z)', 'RDF130u', 'B09Cl-Br', 'P2m', 'F03N-S', 'Mor12e', 'SM6_Dz(e)', 'F10O-P', 'F01C-Si', 'VE3_L', 'CATS2D_05_LL', 'B08C-F', 'RDF120m', 'Eig11_EA(ri)', 'P2u', 'DISPv', 'TDB07r', 'B01Cl-B', 'F07O-Si', 'T(N..N)', 'F01F-X', 'G(F..Br)', 'B08Br-Br', 'P1s', 'F03N-X', 'F02Si-X', 'B10S-S', 'nR=Ct', 'Psi_i_0d', 'B03Cl-Cl', 'B01B-Si', 'SpMax2_Bh(m)', 'SpAbs_Dz(m)', 'StsC', 'X4', 'E3e', 'TDB09m', 'SpDiam_Dz(m)', 'P_VSA_e_4', 'CATS3D_14_PP', 'Mor25i', 'SAacc', 'RBF', 'T(N..P)', 'CATS3D_13_NN', 'X1Mad', 'B03F-Cl', 'CATS3D_14_NL', 'CATS2D_09_NL', 'SM05_AEA(ed)', 'C-005', 'ATS5s', 'SM13_EA(ri)', 'Eig11_EA(bo)', 'RTp', 'CATS2D_08_DD', 'F09S-X', 'RDF055p', 'H5s', 'CATS3D_03_AP', 'F04S-X', 'F10I-Si', 'F04Cl-B', 'SpMaxA_RG', 'CATS3D_13_AA', 'SM1_Dz(Z)', 'SpMAD_G/D', 'HGM', 'ATS5v', 'CATS3D_08_PL', 'F01I-X', 'CATS3D_03_PL', 'F01P-X', 'F01C-C', 'Mor13u', 'Wi_Dz(v)', 'F01Br-Si', 'B09P-Si', 'SpMaxA_Dt', 'ZM1MulPer', 'F02O-I', 'B09C-C', 'F05P-Si', 'SpMax_A', 'SpMax8_Bh(m)', 'F01Cl-Si', 'SM10_EA(ri)', 'B02I-I', 'Ho_Dz(p)', 'SM2_D', 'B04O-Cl', 'ATS3p', 'SP03', 'SM1_Dz(m)', 'CATS2D_05_DL', 'RDF110v', 'MATS3i', 'B09P-B', 'Mor23e', 'CATS3D_12_DA', 'SaasC', 'B04N-I', 'F02F-B', 'N-076', 'F06C-S', 'CATS3D_10_AN', 'B09S-B', 'F04C-Cl', 'GATS1v', 'F08O-P', 'B03S-I', 'RDF010v', 'B05F-Br', 'B10I-B', 'CATS3D_14_AN', 'B09F-B', 'HATS2p', 'R1m', 'Mor24p', 'nSOH', 'B07N-S', 'CATS3D_18_PP', 'F03N-Br', 'nOxazoles', 'O-063', 'B04P-F', 'N-068', 'SsPbH3', 'nRNH2', 'nPyrimidines', 'TDB10p', 'SpMax_D', 'Eig13_EA(ri)', 'CATS3D_01_NL', 'DP20', 'TDB03r', 'HTi', 'B05F-X', 'B05F-B', 'TDB02e', 'SdS', 'C-040', 'F10N-S', 'B09C-F', 'B04C-I', 'nR08', 'B07C-P', 'RDF010p', 'SM2_H2', 'nAzetidines', 'P_VSA_e_1', 'nHAcc', 'B05O-F', 'B01C-C', 'B02N-F', 'C-009', 'SpMaxA_EA(ed)', 'B01P-B', 'ATSC5m', 'B07Cl-Br', 'RDF055m', 'B02S-Si', 'CATS3D_15_LL', 'F05Cl-Si', 'SP16', 'GNar', 'G3i', 'F01N-P', 'CATS3D_04_DL', 'SsSnH3', 'SsPH2', 'Eig01_AEA(bo)', 'RDF090e', 'SM10_EA(ed)', 'B06Cl-X', 'CATS3D_09_PP', 'B01N-X', 'Mor28i', 'F10F-Br', 'Chi1_AEA(ri)', 'SM10_AEA(bo)', 'F06Si-X', 'F01O-P', 'SpMax7_Bh(v)', 'nR#CH/X', 'B09Si-Si', 'C-024', 'ATS6e', 'Eta_FL_A', 'CATS3D_10_AP', 'SM2_RG', 'F07S-Si', 'B01O-I', 'R8p', 'F04F-Cl', 'R5u', 'SpPosLog_Dz(m)', 'CATS3D_15_AP', 'SM14_AEA(dm)', 'TDB07p', 'TDB03i', 'nRCSOH', 'SpMin2_Bh(s)', 'X4v', 'R5m+', 'SpAbs_B(s)', 'B08N-X', 'SpMin4_Bh(s)', 'B02N-Si', 'B09Cl-Cl', 'F07O-F', 'F04C-Br', 'GATS1i', 'ATS4e', 'F09X-X', 'SM6_Dz(p)', 'Chi_Dz(m)', 'SpPosA_Dz(e)', 'F07S-Br', 'SP20', 'R2e+', 'F07Cl-I', 'F06N-X', 'SpMax_D/Dt', 'SpPos_D', 'SRW07', 'SM11_EA(ed)', 'nH', 'F05C-Br', 'GATS7m', 'VR2_B(e)', 'DP10', 'F03C-Si', 'H7m', 'ZM1Mad', 'SddsP', 'RDF085u', 'RDF140u', 'B05N-O', 'F07N-X', 'F09N-I', 'SNar', 'CATS3D_11_DP', 'B03F-X', 'B10P-F', 'Mor09i', 'Eig08_EA(bo)', 'B09Cl-I', 'CATS2D_09_DL', 'F10S-Cl', 'P_VSA_s_5', 'SPAM', 'B08F-B', 'SpMax3_Bh(e)', 'SpPos_G', 'G3s', 'B04B-X', 'NddsP', 'nArX', 'Mor23p', 'SpDiam_B(i)', 'P_VSA_e_5', 'B07F-B', 'nCL', 'GMTI', 'SpMax6_Bh(s)', 'B08Cl-I', 'F02O-O', 'RDF130e', 'H_G/D', 'CATS3D_15_DP', 'ATSC6p', 'F07P-X', 'B06N-B', 'T(P..Cl)', 'F08O-S', 'SssBH', 'CATS3D_07_NL', 'SpMax_EA(bo)', 'F07O-I', 'ATS5i', 'B01B-X', 'CATS3D_08_LL', 'B05Br-B', 'F04C-B', 'Mor20p', 'RDF125s', 'nHet', 'B03S-Br', 'F09F-I', 'B02N-B', 'CATS2D_00_DA', 'B09N-I', 'SM04_EA(ed)', 'B02C-I', 'B09O-Cl', 'R8e', 'I-099', 'B06O-Br', 'F07P-Br', 'Mor09m', 'Mor26i', 'RDF080p', 'F09S-I', 'F10C-O', 'SpMin2_Bh(m)', 'SM2_B(i)', 'SM4_B(m)', 'SpMax2_Bh(p)', 'R8i', 'SpPosA_H2', 'CATS2D_00_AP', 'F02F-I', 'B07P-Cl', 'SM1_B(i)', 'F01P-F', 'H2p', 'C-006', 'ON1', 'P_VSA_MR_5', 'SpMin8_Bh(p)', 'Eig12_AEA(bo)', 'ChiA_H2', 'nRCOOH', 'NsssPbH', 'HATS7s', 'F05P-P', 'F01O-X', 'RDF050p', 'B08N-Si', 'SpMAD_EA(ri)', 'F03F-Si', 'B04N-Cl', 'O-057', 'ChiA_Dz(v)', 'nRSSR', 'Mor02m', 'F01N-B', 'R6v+', 'Mor12v', 'C-023', 'RDF135e', 'RDF050s', 'SpMax5_Bh(i)', 'RDF140e', 'B01P-Br', 'B06Cl-I', 'Vi', 'JGI5', 'B06Cl-Si', 'CATS3D_07_DN', 'RDSQ', 'SpPos_RG', 'B10C-F', 'Mor17u', 'nCb-', 'CATS3D_04_AL', 'F02S-Cl', 'SpAD_AEA(ri)', 'SHP2', 'SpMaxA_Dz(p)', 'X1sol', 'VE1_B(s)', 'C-044', 'MATS1i', 'F02N-F', 'Eta_alpha_A', 'F01O-B', 'F05I-Si', 'SpPosA_L', 'Mor17p', 'H3u', 'Eig09_EA(ri)', 'B10B-Si', 'De', 'Dp', 'SpAD_D/Dt', 'F01N-Si', 'RDF010m', 'F04F-I', 'SM10_AEA(ed)', 'CATS2D_04_DA', 'F07C-B', 'F08Cl-Si', 'H-050', 'Mor20v', 'ATS8e', 'Mor03v', 'C-007', 'CATS3D_14_PN', 'CATS2D_00_DP', 'B07S-Cl', 'B03F-I', 'B06Cl-Cl', 'B01Br-Si', 'F04N-Br', 'G(O..O)', 'Eta_sh_y', 'F10B-B', 'SpPosA_D', 'F06N-P', 'F10P-F', 'HyWi_B(e)', 'N-077', 'MATS8m', 'nC=S', 'Chi1_AEA(dm)', 'n124-Triazines', 'CATS3D_12_PN', 'Ho_Dz(i)', 'SM02_EA(bo)', 'GATS8i', 'Wi_Dz(Z)', 'B04C-Cl', 'CATS3D_19_DP', 'TI2_L', 'CATS3D_11_AN', 'CATS2D_08_PN', 'nRCOSR', 'B03N-Cl', 'GATS8m', 'B10C-P', 'SPI', 'H6u', 'CATS2D_00_DL', 'B09Br-Si', 'SdNH', 'CATS3D_15_DL', 'Mor01u', 'F03S-S', 'B08O-I', 'CATS3D_02_PN', 'E3i', 'CATS3D_05_DA', 'B04P-I', 'IC4', 'T(N..S)', 'F08Si-X', 'HTm', 'TDB10i', 'VR1_RG', 'RDF140p', 'PHI', 'B09Si-X', 'CATS2D_06_PL', 'B06C-Cl', 'F10B-Si', 'CATS3D_19_PP', 'B05S-X', 'F10S-X', 'CATS3D_10_DA', 'F06Br-Br', 'B02Cl-Si', 'B08C-Si', 'CATS2D_03_DP', 'F06N-B', 'CATS2D_07_DL', 'R3m+', 'F04S-F', 'SpMax7_Bh(p)', 'ATSC8s', 'F05Cl-B', 'T(O..S)', 'HATS6u', 'CATS3D_12_AL', 'Mor12i', 'F05F-Si', 'F05F-B', 'H8p', 'F10C-I', 'RDF060s', 'ATSC6e', 'B03S-B', 'GD', 'DLS_02', 'H4m', 'B02Br-I', 'SpMAD_D', 'F09N-O', 'NdSe', 'ATSC3e', 'SRW04', 'F08P-Br', 'Eig06_AEA(ed)', 'MATS8e', 'H7i', 'CATS3D_08_AP', 'ChiA_B(m)', 'SM15_AEA(dm)', 'GATS5p', 'F09Cl-Br', 'AVS_B(e)', 'B08P-Si', 'B04Si-X', 'HTu', 'B06P-X', 'Mor04u', 'B10N-Si', 'TDB05v', 'CATS3D_17_DL', 'QXXm', 'C-002', 'F01P-Br', 'B01S-B', 'Ho_B(v)', 'F04N-P', 'nCR2X2', 'F08F-B', 'nRCNO', 'Eig13_AEA(ed)', 'B04C-N', 'F08S-X', 'P1p', 'SpAD_B(s)', 'nRNO', 'F04N-O', 'SsNH2', 'SM6_B(m)', 'B02O-Br', 'piPC08', 'TDB03v', 'CATS2D_05_NL', 'B01F-I', 'RDF040u', 'B09S-Br', 'F03O-Br', 'B05P-X', 'Eig11_AEA(ed)', 'SpMin2_Bh(e)', 'nCsp2', 'SM07_AEA(ed)', 'B09O-O', 'F06Cl-Si', 'B07I-Si', 'nIsothiazoles', 'F03B-B', 'nRC=N', 'F04C-P', 'TIC3', 'CATS2D_08_NL', 'P_VSA_v_3', 'nArCNO', 'Tm', 'Mor03m', 'SM6_Dz(m)', 'R4e', 'Mor30u', 'F02O-Cl', 'P_VSA_i_1', 'NsssAs', 'F05Cl-X', 'WiA_Dz(e)', 'nCH2RX', 'B02B-X', 'F04O-S', 'L1v', 'B02F-Br', 'Dm', 'F08Br-I', 'nOxolanes', 'F03O-X', 'nCs', 'F02Cl-I', 'SpMax8_Bh(v)', 'SpMaxA_D', 'F05O-Br', 'NaadN', 'H7p', 'B01I-B', 'SpPosLog_G/D', 'SM6_B(p)', 'SpMAD_EA', 'SpMaxA_EA(bo)', 'CATS2D_06_NL', 'SIC2', 'ZM2Mad', 'ATS4m', 'VE2_G/D', 'JGI3', 'SM3_X', 'WiA_B(s)', 'nOxiranes', 'J_Dz(e)', 'TDB05s', 'F10O-F', 'MEcc', 'B02F-Si', 'L3p', 'TIC1', 'Mor02e', 'ATSC8m', 'ChiA_Dz(m)', 'QW_L', 'SM5_Dt', 'RDF035s', 'RDF055v', 'F06P-I', 'B04N-B', 'F08N-X', 'Eig01_AEA(dm)', 'F04F-Br', 'F02N-B', 'P_VSA_MR_2', 'DP01', 'X3sol', 'B03S-F', 'Mor09u', 'VR2_B(s)', 'B09O-I', 'B05Br-Br', 'H8u', 'SM6_G', 'Eig04_AEA(ed)', 'ATS7s', 'F03Cl-X', 'GATS3v', 'B03C-X', 'B06Cl-Br', 'GATS6s', 'P_VSA_v_1', 'SM03_AEA(bo)', 'TDB01u', 'nR11', 'RDF065m', 'B07F-X', 'P_VSA_m_2', 'CATS2D_01_NL', 'F09S-Br', 'RDF020u', 'B05S-B', 'CATS3D_04_AP', 'B09C-P', 'H0u', 'B01O-X', 'SM14_AEA(ed)', 'R2v+', 'F01F-Cl', 'T(N..Br)', 'Rperim', 'S2K', 'SpMaxA_B(v)', 'EE_RG', 'Mor29s', 'MWC02', 'CATS2D_07_PN', 'SM05_EA(dm)', 'SM07_EA(ri)', 'RDF125v', 'CATS3D_00_PN', 'R1v', 'IDE', 'ATS2e', 'RTi+', 'B09Cl-X', 'SpMAD_Dz(v)', 'F06I-X', 'F09F-Si', 'nR09', 'HATS5v', 'RDF050u', 'B06C-N', 'J_Dt', 'SpAbs_B(e)', 'CATS3D_07_AN', 'SpMaxA_AEA(ri)', 'R2p', 'F07O-P', 'F04P-I', 'B09B-B', 'Mor21e', 'ChiA_RG', 'Eig14_EA', 'F06F-Br', 'B01N-B', 'nSH', 'B07F-F', 'ZM2Per', 'SRW10', 'ATS8i', 'F02Br-B', 'R4e+', 'F07P-P', 'RDF060m', 'F04P-X', 'TDB10r', 'CATS3D_07_PL', 'DLS_07', 'HyWi_D/Dt', 'CATS2D_08_PP', 'B08N-I', 'B05C-Br', 'B01N-S', 'R5v+', 'Cl-089', 'Mor10u', 'Eig11_EA(dm)', 'ATS8v', 'SpAbs_B(i)', 'HyWi_G/D', 'F07N-S', 'B07Cl-X', 'nRCN', 'B09I-Si', 'J_H2', 'B09I-I', 'NaaO', 'RDF095v', 'CATS3D_00_AA', 'CATS3D_19_PL', 'B05N-Si', 'SsssssAs', 'F04N-B', 'F01Br-X', 'SM6_Dt', 'Chi_Dz(Z)', 'SM2_X', 'Ds', 'P_VSA_ppp_L', 'SM08_EA(ri)', 'VE2_B(e)', 'CATS2D_02_PP', 'F10S-Br', 'P-119', 'HATS1e', 'SpDiam_Dz(v)', 'B01I-Si', 'SM15_EA(bo)', 'Eig03_EA(ri)', 'B06O-Si', 'O-056', 'TDB06p', 'CATS2D_09_AP', 'VvdwMG', 'Mor26v', 'TDB01m', 'CATS3D_18_NL', 'CSI', 'Vm', 'SM5_B(p)', 'C-003', 'B08O-F', 'B08N-Br', 'CATS3D_17_DA', 'MATS3m', 'CATS2D_05_DP', 'SM02_EA(dm)', 'CATS3D_09_PN', 'NddC', 'B08S-P', 'RDF085v', 'F06C-B', 'SM14_EA(ri)', 'H3e', 'SssCH2', 'Eig06_EA(ri)', 'H_D', 'ChiA_D/Dt', 'CATS2D_08_AP', 'B09F-Br', 'C-028', 'F02P-Br', 'CATS2D_09_NN', 'CATS2D_07_AA', 'B10F-Cl', 'F10N-N', 'F04O-Cl', 'SM06_EA(ri)', 'ChiA_G/D', 'GGI2', 'NaasC', 'B03Br-I', 'HyWi_Dz(i)', 'C-011', 'CATS3D_10_AA', 'F07C-Si', 'SpMax5_Bh(v)', 'ChiA_B(e)', 'nBT', 'H4v', 'F06S-I', 'Eig08_EA', 'SM5_B(e)', 'B05O-O', 'VE1_B(p)', 'SdSe', 'CATS3D_14_DL', 'CATS2D_01_PN', 'B07O-I', 'F03C-O', 'B03F-Si', 'CATS3D_15_AL', 'F09P-B', 'nSO4', 'F04C-X', 'CATS2D_03_AL', 'B08O-X', 'H5i', 'H_G', 'RDF075i', 'F04Br-I', 'F07O-Br', 'CATS3D_18_AL', 'F07F-Br', 'X0', 'F10I-B', 'SdNH2+', 'Mor20m', 'CATS3D_03_AN', 'Mor05e', 'F06N-F', 'B10Cl-X', 'F09Cl-B', 'B02P-Cl', 'CATS2D_00_AL', 'R4p+', 'B07N-P', 'G3m', 'VE2_B(m)', 'E2s', 'B02P-Br', 'SpDiam_EA', 'B08N-N', 'F04S-B', 'nH2O', 'SM08_EA(dm)', 'B01F-Cl', 'B05N-P', 'VR2_L', 'Eig06_AEA(dm)', 'ATSC2v', 'P_VSA_m_4', 'EE_L', 'RDF130s', 'SpMax2_Bh(i)', 'B06Br-I', 'Mor25e', 'X0sol', 'C-038', 'P1i', 'nBeta-Lactams', 'SP15', 'P_VSA_ppp_A', 'ZM2V', 'F06Cl-I', 'H_Dz(m)', 'B07Br-X', 'CATS3D_05_DD', 'RDF155v', 'SdssSe', 'SM02_AEA(ed)', 'CATS3D_02_PP', 'SpMax7_Bh(m)', 'C-041', 'PCD', 'P_VSA_p_2', 'J_B(s)', 'RDF115s', 'SpAD_RG', 'VR3_L', 'CATS3D_11_AL', 'Eig07_EA', 'ZM1V', 'F02P-X', 'F07N-B', 'GATS2v', 'ATS8s', 'G(F..Cl)', 'CATS2D_05_AN', 'CATS3D_17_DN', 'B08Cl-Br', 'B07O-S', 'Mor04e', 'CATS2D_09_PL', 'F03F-F', 'P-115', 'SddssSe', 'CATS3D_14_NN', 'F03O-I', 'F04I-Si', 'F08Si-Si', 'Br-092', 'GATS5i', 'RDF155i', 'SpDiam_B(e)', 'F05N-B', 'CATS3D_05_PP', 'VE2sign_B(e)', 'Eig12_EA(bo)', 'Eig04_AEA(ri)', 'CATS3D_09_LL', 'B05C-X', 'B09I-X', 'NssS', 'F04F-Si', 'SM3_Dz(v)', 'RDF035p', 'CATS3D_17_AN', 'H7v', 'P_VSA_MR_8', 'SpDiam_Dt', 'Eig02_AEA(dm)', 'F08C-O', 'SpMaxA_D/Dt', 'Chi0_AEA(ed)', 'B09Cl-Si', 'P_VSA_LogP_6', 'F10P-X', 'B07N-Br', 'SpMax7_Bh(i)', 'B04C-S', 'Mor23v', 'F08C-Si', 'B09S-Cl', 'B05C-Cl', 'B09S-S', 'GMTIV', 'F01O-Br', 'PW4', 'F03Cl-Cl', 'ATSC6i', 'Mor27v', 'Se', 'TDB06i', 'H-053', 'F09S-F', 'F02F-Cl', 'F06O-I', 'Ku', 'R3p', 'F03Cl-B', 'ON0V', 'F05N-O', 'N-069', 'F10Br-B', 'B07P-P', 'Eig11_EA(ed)', 'RDF065e', 'ATS8p', 'F09C-F', 'B05P-F', 'B10N-O', 'Eig05_AEA(ed)', 'F04O-X', 'B01C-X', 'B05Si-X', 'B04F-Cl', 'I-096', 'CATS3D_07_LL', 'F08P-F', 'F03C-I', 'NssNH', 'B06S-X', 'R3m', 'SM07_EA', 'G2m', 'B05S-Cl', 'SpMaxA_Dz(e)', 'F08Br-Br', 'SpMax_AEA(dm)', 'Mor07s', 'R1p+', 'R3p+', 'SpMaxA_L', 'AVS_Dz(m)', 'MATS5s', 'Mor04m', 'HyWi_G', 'B07C-C', 'B08X-X', 'SM04_AEA(ed)', 'SssNH2+', 'F09C-B', 'Mor03e', 'B06S-B', 'B01S-F', 'F07F-B', 'NsSH', 'RDF105p', 'B09C-B', 'AECC', 'SpAD_EA(bo)', 'HATS5m', 'F03F-B', 'RDF070s', 'SpDiam_B(v)', 'Cl-088', 'CATS2D_01_LL', 'SpPos_Dz(e)', 'R6e', 'HATS2m', 'F06S-Cl', 'ATS2v', 'B10C-Si', 'F07S-Cl', 'Ho_B(i)', 'CATS3D_01_AL', 'SM1_Dz(e)', 'Wi_H2', 'P1e', 'Eta_C_A', 'QZZv', 'CATS3D_15_PN', 'EE_B(m)', 'SssNH', 'Chi0_AEA(bo)', 'B02C-Si', 'Mor29u', 'GATS3m', 'F01Br-B', 'RDF080u', 'CATS3D_11_PL', 'HyWi_Dz(e)', 'B08P-Cl', 'RDF105v', 'J_G', 'VE1sign_G/D', 'Mor18i', 'SpMax_RG', 'SpPosLog_D', 'TDB09p', 'nS(=O)2', 'NddssS', 'CATS3D_10_PN', 'EE_B(i)', 'SpMin2_Bh(p)', 'R8p+', 'SpMaxA_B(p)', 'P_VSA_LogP_3', 'nO', 'B08Si-Si', 'H0e', 'Chi1_EA(dm)', 'nImidazoles', 'SsLi', 'SM03_AEA(dm)', 'RDF025u', 'NddssSe', 'F08S-Br', 'F10S-P', 'ATS5e', 'JGI1', 'B05S-I', 'CATS2D_04_DD', 'B09F-F', 'nArNHR', 'B01Br-X', 'B06Br-X', 'nROR', 'Mor30m', 'Eta_sh_x', 'SM5_B(v)', 'F02N-S', 'MPC05', 'MATS1m', 'B08P-I', 'SpPosLog_B(i)', 'Mor08s', 'B01C-Si', 'B10N-I', 'B04Cl-Br', 'CATS3D_06_DA', 'Mor26e', 'F02Cl-Br', 'E1u', 'B03N-N', 'SM14_EA', 'AVS_G/D', 'E3m', 'Mor13m', 'SM5_B(m)', 'nCR3X', 'RDF065u', 'Eig13_EA', 'F09N-Br', 'SM4_B(e)', 'F05F-X', 'RDF150v', 'SpPos_B(m)', 'CATS2D_00_LL', 'CATS2D_04_DL', 'nCHR2X', 'VE1sign_L', 'Eta_sh_p', 'Mor09p', 'CATS3D_03_DN', 'T(Br..I)', 'B09Br-X', 'R4u', 'SpPos_Dz(m)', 'nThiophenes', 'RDF135s', 'F05C-P', 'F02F-Br', 'Eig12_EA', 'R7v', 'VE3sign_L', 'F02S-Br', 'F02N-Cl', 'H1m', 'Br-103', 'F07S-I', 'Cl-087', 'nTB', 'TDB08i', 'HATSv', 'G(F..I)', 'SpPosLog_X', 'IAC', 'F02F-F', 'NsssP', 'HATS0e', 'P_VSA_ppp_ar', 'F08Cl-I', 'CATS2D_01_PL', 'CATS2D_01_AA', 'B05Br-I', 'B02Br-Br', 'MATS2m', 'F04C-I', 'B01F-B', 'Vx', 'F05N-Br', 'SssPH', 'F07C-X', 'F08F-X', 'F10N-X', 'CATS3D_13_NL', 'B05P-Si', 'nArCOX', 'IC5', 'F06P-X', 'CATS3D_19_AP', 'F10O-I', 'C-004', 'SdsssAs', 'H0v', 'R6u', 'B04Cl-I', 'ntH-Thiophenes', 'CATS2D_05_DD', 'NsSiH3', 'RDF110i', 'F01P-B', 'WiA_H2', 'P_VSA_v_2', 'B01O-Br', 'F09C-P', 'GATS6p', 'F01S-B', 'DP12', 'nRCO', 'ATSC8e', 'F03I-I', 'B-112', 'F04P-Cl', 'CATS3D_09_DL', 'Eig09_EA', 'G(S..F)', 'Mor13i', 'P2s', 'B08S-Cl', 'RDF150i', 'H_Dz(Z)', 'F07Br-Si', 'F08S-S', 'B02O-I', 'F07F-X', 'B08I-I', 'SpDiam_AEA(ed)', 'Mor08e', 'Mor26p', 'F05X-X', 'HATS8v', 'ATS3m', 'T(O..Cl)', 'CATS3D_02_NN', 'MATS6e', 'B05C-B', 'MATS4s', 'Mor13s', 'RDF110u', 'ATSC2m', 'X5sol', 'F10N-Cl', 'MATS1p', 'SpMAD_Dt', 'RDF130m', 'TDB07e', 'Dv', 'F06F-I', 'Mor14e', 'nR=Cp', 'B04I-X', 'B03F-Br', 'TDB07m', 'SM6_L', 'B07Cl-I', 'F07N-Si', 'B05C-S', 'RDF060e', 'B05P-B', 'R3v', 'F07B-X', 'VE3_G/D', 'F06O-F', 'F02O-S', 'nI', 'CATS3D_10_PL', 'O-060', 'SpPosLog_B(m)', 'SpAD_D', 'B08N-P', 'ATSC6m', 'F09I-B', 'R8m', 'H_Dz(i)', 'Wi_B(p)', 'MATS4v', 'Mor03p', 'CATS3D_14_DD', 'RDF115m', 'B06P-Br', 'nArCOOH', 'G2i', 'RDF050v', 'VR2_RG', 'Kv', 'F04X-X', 'F04S-Br', 'HATSe', 'B03N-P', 'SpAD_A', 'TIE', 'B09Br-B', 'H-054', 'B06S-Cl', 'Xu', 'F08O-I', 'F04B-X', 'CATS3D_12_AA', 'Eig02_AEA(ed)', 'nCbH', 'ATSC2i', 'TDB03e', 'CATS3D_09_AL', 'F04Si-X', 'F04P-P', 'B09O-B', 'CATS2D_03_DD', 'CATS3D_12_DP', 'B08Cl-Cl', 'B02N-O', 'VE1sign_B(m)', 'Chi1_EA', 'F06P-F', 'TIC2', 'CATS2D_00_AA', 'F08O-X', 'TDB02v', 'F10P-P', 'F05C-B', 'F09S-P', 'SpAD_X', 'F07P-Cl', 'B08C-Br', 'SM12_EA', 'T(Cl..I)', 'Mor31s', 'F03F-Br', 'F05S-B', 'B07Cl-B', 'Eig15_AEA(bo)', 'RDF120v', 'Eig01_EA(ed)', 'L1i', 'F06C-C', 'SpMAD_B(e)', 'NssssBe-', 'F07B-B', 'SM13_EA', 'SdO', 'nX', 'RDF035i', 'F03F-Cl', 'H4s', 'ATSC3p', 'CATS3D_13_PN', 'B01P-I', 'F06S-B', 'B04O-F', 'Eig14_AEA(ed)', 'nCIC', 'GGI3', 'B01Br-B', 'RDF130i', 'SM07_EA(dm)', 'R2m+', 'RDF040e', 'Br-091', 'CATS2D_00_DD', 'F05Si-X', 'RFD', 'F01P-P', 'B07S-X', 'F04B-Si', 'Eig05_EA(ri)', 'Mor22v', 'X1Per', 'B06C-P', 'VE1_L', 'SP10', 'B04I-B', 'F06O-X', 'SM3_H2', 'G(O..F)', 'SM5_Dz(p)', 'HATS2i', 'MWC09', 'Eig09_AEA(ri)', 'F10O-S', 'F02O-F', 'EE_B(p)', 'CIC5', 'F07S-X', 'RDF100u', 'B07S-I', 'B01C-I', 'B07P-Br', 'B03O-I', 'SM03_EA(ri)', 'SpPosA_X', 'VE1sign_B(p)', 'J_Dz(i)', 'CATS3D_13_LL', 'SM04_EA', 'F05B-Si', 'RTu+', 'SpDiam_Dz(i)', 'SM3_B(s)', 'SM08_AEA(ri)', 'SpPosA_B(v)', 'RDF080i', 'SM15_AEA(ed)', 'ON0', 'Eig14_EA(ri)', 'F02I-X', 'H6m', 'B07O-O', 'CATS2D_01_DL', 'RDF090u', 'B04S-P', 'GGI5', 'Eig12_AEA(ri)', 'F04N-I', 'SRW09', 'B10F-F', 'Kp', 'nCp', 'Br-093', 'nTA', 'F05N-I', 'H5e', 'B04C-C', 'F06O-Br', 'AVS_Dz(v)', 'B04S-I', 'F08F-Br', 'G(P..F)', 'TDB02p', 'B02P-I', 'B10Br-Br', 'TPC', 'B09I-B', 'CATS3D_14_AL', 'ZM2Kup', 'MATS4m', 'H4e', 'B09N-O', 'B09O-Si', 'CATS3D_08_NL', 'nArC=N', 'SM1_B(p)', 'F08N-S', 'RDF015i', 'T(F..Br)', 'B10F-X', 'nArCN', 'CATS3D_04_DA', 'Wi_D', 'F04C-C', 'O-061', 'n135-Triazines', 'T(F..I)', 'F09C-X', 'F-085', 'H5v', 'B02O-O', 'AVS_Dz(e)', 'B09B-Si', 'B09F-Cl', 'SpMin4_Bh(m)', 'SM03_EA(bo)', 'HATS2u', 'R4u+', 'F04B-B', 'MW', 'SpPosLog_RG', 'F01C-B', 'nC', 'CATS3D_16_PN', 'SpPos_B(i)', 'SpPosA_G/D', 'CIC3', 'B03N-F', 'CATS2D_07_NL', 'SP19', 'P_VSA_ppp_P', 'F09C-N', 'F09C-O', 'F01S-I', 'P_VSA_MR_6', 'B01C-N', 'NsBH2', 'B08Br-X', 'Mor25s', 'SssssssSe', 'VE3_B(v)', 'SpPos_Dt', 'B03O-P', 'TDB06u', 'F06O-Cl', 'nArOCON', 'HyWi_B(v)', 'B02C-F', 'RDF135v', 'CATS3D_05_LL', 'Xindex', 'SM1_Dz(i)', 'Mor02v', 'CATS2D_04_NN', 'Mor14m', 'SpMAD_Dz(p)', 'NsNH2', 'F01O-I', 'F03C-P', 'F01S-X', 'MATS3v', 'SpAbs_G/D', 'CATS3D_16_PL', 'R8s+', 'RDF015s', 'B04O-S', 'F07S-B', 'IDM', 'MWC08', 'Mor30p', 'Vp', 'CATS2D_06_NN', 'VE1_B(m)', 'R6i', 'ATSC1m', 'AVS_B(i)', 'P_VSA_m_5', 'QYYe', 'SpMaxA_Dz(m)', 'nPyrazoles', 'NtsC', 'SM10_AEA(ri)', 'Eig11_EA', 'SM14_EA(bo)', 'B06O-S', 'MWC04', 'F01Cl-I', 'B03Br-Br', 'RDF105i', 'SsAsH2', 'SssssssS', 'SpDiam_RG', 'VE2sign_G/D', 'ICR', 'Au', 'SpMaxA_Dz(v)', 'F08S-B', 'SM15_EA(ri)', 'GATS2m', 'B02Cl-Cl', 'CATS2D_02_DP', 'Eta_epsi_A', 'TDB10v', 'B03Si-X', 'Psi_i_1d', 'SM1_B(e)', 'B02O-P', 'F09O-O', 'CATS2D_08_LL', 'cRo5', 'B03C-S', 'NsssSiH', 'T(N..F)', 'H3v', 'SpPosLog_B(s)', 'B05F-I', 'SpAD_EA(ed)', 'RDF040p', 'SM2_Dz(m)', 'B05Cl-Cl', 'F08C-N', 'F03B-X', 'Mor32m', 'B07Cl-Si', 'SpPosLog_Dz(i)', 'TDB09r', 'B08B-X', 'NsGeH3', 'ATS6p', 'SM4_B(p)', 'ATS3v', 'RDF115p', 'B01N-Si', 'HyWi_X', 'CATS3D_18_DL', 'SM3_B(i)', 'CATS3D_10_DL', 'MWC05', 'B02C-Br', 'CATS3D_06_DP', 'SpDiam_G/D', 'Psi_i_A', 'NssssSn', 'F09F-X', 'H-047', 'Mor18v', 'Ho_X', 'Mor09e', 'B04S-Si', 'F02I-I', 'CATS3D_19_PN', 'SM2_Dz(Z)', 'T(P..F)', 'TDB04e', 'SM6_Dz(Z)', 'C-042', 'CATS3D_07_NN', 'DP15', 'SssSiH2', 'Mor06s', 'D/Dtr07', 'F07Br-B', 'GATS3e', 'SsGeH3', 'H6e', 'B04S-X', 'F05N-Cl', 'NdssSe', 'Mor06p', 'Psi_e_0d', 'RDF080s', 'F02Br-I', 'SM6_H2', 'SpDiam_AEA(bo)', 'SM15_EA', 'Mor08m', 'TDB04m', 'B09C-Si', 'nPR3', 'CATS3D_08_DD', 'IDDE', 'B03S-X', 'Eig02_EA', 'R7m', 'TDB03p', 'CATS3D_06_DN', 'J_B(v)', 'Rbrid', 'B10C-N', 'F02C-P', 'B08P-F', 'TIC4', 'F05N-X', 'B04C-P', 'CATS2D_00_PN', 'VE2sign_RG', 'SsBr', 'B02S-B', 'B02Cl-X', 'SpAbs_G', 'F09O-Cl', 'B03Cl-B', 'B10P-Si', 'P_VSA_MR_1', 'nRSCN', 'B07Br-I', 'T(O..I)', 'HATS1v', 'SCBO', 'R8m+', 'Br-095', 'F05Cl-I', 'CATS2D_04_LL', 'Mor01e', 'DP03', 'RDF065v', 'SM3_B(m)', 'B04Cl-X', 'B06O-F', 'VE2_RG', 'CATS3D_17_AP', 'piPC05', 'CATS2D_05_PN', 'Wi_Dz(p)', 'SpMax_H2', 'CATS3D_08_PN', 'IDET', 'F10Cl-X', 'L2e', 'F10Br-Br', 'nC(=N)N2', 'Tu', 'WiA_Dz(m)', 'nCrt', 'Ti', 'F01S-F', 'F02P-Si', 'Eig04_EA(bo)', 'nArOX', 'SpDiam_D', 'SM4_D', 'F02P-Cl', 'LPRS', 'SM6_D/Dt', 'H-051', 'SpPosA_A', 'CATS3D_18_DN', 'LLS_01', 'F02Br-Si', 'F08C-X', 'SpAD_AEA(dm)', 'Eta_beta_A', 'Mor11e', 'B03C-P', 'MATS7m', 'NtCH', 'H2m', 'E1s', 'RDF025m', 'P_VSA_s_1', 'P_VSA_e_3', 'B02C-S', 'CATS3D_08_DP', 'Tp', 'HVcpx', 'SM12_EA(ri)', 'F06Si-Si', 'T(Cl..Br)', 'SpPosA_B(i)', 'F04Si-Si', 'L2p', 'S-106', 'F03N-Si', 'STN_L', 'SpMax4_Bh(i)', 'Cl-090', 'B06F-Br', 'B02P-F', 'Eig07_AEA(ri)', 'SpAbs_Dz(v)', 'F10S-B', 'HATS0i', 'CATS3D_06_PL', 'ATSC8p', 'F01I-I', 'B05S-S', 'R4p', 'ATSC1p', 'Chi0_EA', 'B02P-X', 'DELS', 'F03X-X', 'F06Cl-Br', 'nPO3', 'VR1_B(p)', 'IC0', 'CATS2D_02_DA', 'nS', 'SssssGe', 'B01C-B', 'CATS3D_17_AA', 'SpAD_B(v)', 'CATS3D_16_NL', 'Mor27i', 'NsI', 'VE1_B(i)', 'B01O-Si', 'CATS3D_09_DD', 'SM3_Dz(p)', 'F07B-Si', 'F04Cl-Cl', 'CATS3D_05_DN', 'SpMAD_B(s)', 'BID', 'RDF080m', 'nROH', 'B10Cl-Br', 'ATSC6s', 'SM5_Dz(i)', 'B02Si-Si', 'B04F-I', 'CATS3D_06_AN', 'E2u', 'F02N-Br', 'CATS3D_01_AA', 'B06F-F', 'C-033', 'MATS8v', 'Mor09s', 'SddC', 'Eig03_AEA(dm)', 'F04Cl-Br', 'Mor10p', 'RDF025i', 'TDB04p', 'L1s', 'MATS5v', 'B10P-X', 'SpAD_AEA(ed)', 'CATS2D_02_NN', 'B07B-X', 'nPyrazines', 'SpPosA_D/Dt', 'CATS2D_04_DN', 'P_VSA_m_1', 'B05O-S', 'CATS3D_05_NL', 'B04N-N', 'R4i+', 'F04S-P', 'RDF080e', 'R7s', 'CATS3D_00_NN', 'nR04', 'B04F-Br', 'T(Cl..Cl)', 'R7p+', 'CATS3D_03_NN', 'G3v', 'P_VSA_ppp_D', 'HATS1p', 'B04N-Br', 'RDF030v', 'SaaNH', 'B08Cl-Si', 'B08I-B', 'F01I-B', 'F02C-I', 'Chi0_EA(ed)', 'SsI', 'P_VSA_s_6', 'SM05_AEA(dm)', 'B03I-B', 'ATS3i', 'SpMax4_Bh(v)', 'SpPos_D/Dt', 'SpMax_Dz(e)', 'RCON', 'nBnz', 'RDF075m', 'F06X-X', 'C-013', 'F09P-I', 'T(N..Cl)', 'nPyridazines', 'F03Br-Si', 'F07F-F', 'B02P-Si', 'Mor11u', 'X%', 'JGT', 'Eig12_EA(ri)', 'Eig10_EA(bo)', 'SM2_Dz(e)', 'HATS2v', 'WiA_Dz(Z)', 'F09Br-Br', 'F08N-F', 'DLS_06', 'F03Si-Si', 'BIC3', 'F04F-F', 'HATS8u', 'SpPosA_Dz(m)', 'SsSiH3', 'IC1', 'B04P-X', 'Mor11s', 'nPyrroles', 'B10I-X', 'CATS3D_10_DD', 'VE1_B(v)', 'SpAD_Dz(i)', 'VR2_B(v)', 'nRCSSR', 'NaaN', 'B01I-I', 'SpMin7_Bh(v)', 'SpMax_B(p)', 'SpMin4_Bh(p)', 'RGyr', 'Eig04_EA', 'R8v+', 'RDF035m', 'RDF140m', 'SM06_EA', 'F02Cl-Si', 'ATS7e', 'RDF120u', 'CATS3D_16_DL', 'nSO3', 'nROCN', 'B06S-S', 'F06Br-I', 'SpPosA_B(e)', 'B08Cl-X', 'SpAbs_Dz(i)', 'H7s', 'NssssssSe', 'GATS2s', 'R6u+', 'CATS2D_07_DP', 'F06Cl-X', 'F01S-Cl', 'HyWi_Dz(v)', 'F03P-Cl', 'B06C-X', 'F09O-Si', 'F04F-B', 'ATSC1e', 'F07Br-Br', 'CATS2D_07_DA', 'F05N-F', 'ATS2s', 'G(P..I)', 'ATSC5e', 'F09O-P', 'RDF140v', 'CATS3D_09_NL', 'Mor08u', 'Wi_Dz(i)', 'R3i+', 'P_VSA_LogP_7', 'Mor02i', 'G2p', 'MATS3p', 'SM1_Dz(v)', 'WiA_B(e)', 'Mor04s', 'RDF100i', 'SpAD_EA', 'RDF045m', 'RDF125p', 'MWC10', 'F08S-P', 'P_VSA_MR_4', 'F10F-I', 'C-032', 'SM5_D/Dt', 'B03C-Cl', 'C-018', 'WiA_D', 'Sv', 'B07O-P', 'F06N-S', 'SpAbs_Dz(e)', 'CIC1', 'B01Br-Br', 'B07S-Si', 'F08P-B', 'Ai', 'BIC2', 'B05C-F', 'B04Br-B', 'NaaCH', 'HATS8p', 'B09Br-I', 'R1i+', 'SpMax2_Bh(v)', 'SM5_D', 'nCsp', 'SM2_Dz(p)', 'ATS4p', 'Wi_Dz(m)', 'F10C-Cl', 'CATS3D_01_DL', 'PW5', 'Mor20u', 'B07N-X', 'N-070', 'SM3_G/D', 'F08O-B', 'Wi_G/D', 'F03P-Br', 'SpMin8_Bh(i)', 'RDF120i', 'F03S-P', 'F06I-Si', 'SpMin1_Bh(i)', 'B06O-P', 'B10O-I', 'Eig11_AEA(dm)', 'SpMax7_Bh(s)', 'P1u', 'B09C-O', 'RDF035e', 'RDF155p', 'B08O-S', 'P_VSA_LogP_1', 'ATS4v', 'CATS2D_08_DN', 'B08S-F', 'SpPosLog_Dz(p)', 'H-055', 'D/Dtr05', 'CATS3D_12_NN', 'F02Si-Si', 'Eig06_EA(ed)', 'MPC09', 'B10O-B', 'CATS3D_07_AA', 'B09C-I', 'nR=CX2', 'B08F-Cl', 'B02S-F', 'VE2sign_B(i)', 'B08C-I', 'HATS0s', 'R8e+', 'Chi_Dz(e)', 'CATS3D_16_AP', 'Eta_F_A', 'G3e', 'CATS2D_06_DL', 'BIC4', 'TIC0', 'P_VSA_ppp_hal', 'B04N-Si', 'R1e', 'SpMin5_Bh(s)', 'SpPosLog_A', 'CATS3D_18_NN', 'SsssssP', 'X0Av', 'CATS3D_10_LL', 'B03C-F', 'B05N-X', 'B06N-Br', 'RDF155m', 'F06C-F', 'B07O-Cl', 'B06C-Si', 'TDB10m', 'F06F-Si', 'G(S..S)', 'SpMin2_Bh(v)', 'F04F-X', 'CATS3D_15_NL', 'B02N-P', 'B08I-X', 'ECC', 'IC3', 'VR2_B(i)', 'B03N-B', 'CATS3D_05_PL', 'B09F-X', 'F07C-O', 'B05O-B', 'B02O-F', 'B10S-I', 'Ke', 'F10O-O', 'B03X-X', 'B10P-P', 'CATS3D_03_PP', 'NsssssP', 'ATS1v', 'SM3_D/Dt', 'SpPos_Dz(v)', 'SM08_AEA(dm)', 'VE2sign_B(p)', 'nR#C-', 'B02S-P', 'B04P-Si', 'HATS4e', 'SssBe', 'F10Si-Si', 'R6s+', 'B06F-X', 'Chi_B(v)', 'GGI10', 'B02C-C', 'CATS3D_08_AN', 'nSO', 'R1u+', 'Ho_H2', 'nArOR', 'B05Cl-I', 'SM4_Dz(Z)', 'SpDiam_G', 'NssssC', 'ATSC7v', 'B10Cl-B', 'nCHRX2', 'F05O-F', 'R5v', 'CATS3D_10_DP', 'F02C-F', 'B08C-O', 'HyWi_B(s)', 'CATS3D_14_LL', 'P_VSA_m_3', 'SpMAD_Dz(Z)', 'SpAD_EA(ri)', 'CATS3D_07_PN', 'SpAD_H2', 'H0i', 'D/Dtr06', 'H6i', 'Eig10_EA(ed)', 'AVS_B(m)', 'F06C-N', 'N-066', 'H4i', 'Mor31m', 'F09N-P', 'R4m+', 'NsBr', 'B01N-Cl', 'NssPbH2', 'T(Br..Br)', 'MPC02', 'TDB08e', 'HATS8i', 'SpPos_B(p)', 'nArCONHR', 'R3e', 'B10N-Cl', 'Te', 'CATS3D_00_DP', 'G(N..P)', 'B05B-Si', 'RDF025p', 'Chi_B(i)', 'Eig07_AEA(dm)', 'H-046', 'SpMax_Dz(Z)', 'B10C-O', 'Ho_G/D', 'F10S-Si', 'F09C-Br', 'HDcpx', 'SM09_EA', 'T(S..I)', 'SpMaxA_AEA(dm)', 'SpMax4_Bh(e)', 'Eta_beta', 'SpMin6_Bh(i)', 'F06N-Si', 'CATS2D_06_AL', 'F03P-I', 'Eta_betaS_A', 'SAdon', 'H1i', 'X5', 'SpPosA_G', 'F05N-P', 'Mor20i', 'Chi_X', 'F09P-Cl', 'BIC1', 'F06C-X', 'B02Br-Si', 'CATS3D_00_DA', 'B03Br-B', 'F07C-Cl', 'C-020', 'F10N-F', 'SM12_EA(bo)', 'B06C-F', 'SpMax8_Bh(i)', 'DP19', 'B05O-P', 'CATS3D_17_DD', 'Wap', 'E1e', 'RDF075e', 'F03S-X', 'RDF135u', 'TDB05i', 'DP13', 'RDF015u', 'F06C-Br', 'NsCH3', 'Psi_e_t', 'F05S-F', 'H8i', 'Eig05_EA', 'G2', 'MPC04', 'Mor21s', 'SsssN', 'Mor27u', 'NdO', 'Mor25u', 'F09P-X', 'Ks', 'SM2_B(s)', 'SpPosLog_Dt', 'Mor32p', 'F03P-X', 'Mor06e', 'B06B-X', 'F04O-Si', 'R7u', 'GATS2p', 'B05C-Si', 'B02X-X', 'Eig01_EA(bo)', 'F05O-Si', 'SM06_AEA(dm)', 'Ho_RG', 'Eig10_AEA(ed)', 'SaaS', 'F09C-Si', 'CATS2D_04_DP', 'ZM1Per', 'F03Br-I', 'B07C-B', 'F06C-I', 'T(P..I)', 'G(F..F)', 'Ro5', 'F07P-B', 'B10N-F', 'F01Br-Br', 'Cl-102', 'Ho_Dz(Z)', 'B05C-C', 'B05O-Br', 'SM5_X', 'SM3_B(e)', 'B10C-X', 'Mor19u', 'F05F-Br', 'Mor17v', 'T(S..P)', 'H0p', 'F07Cl-Br', 'F02S-S', 'Cl-086', 'F09C-C', 'QXXv', 'F05B-X', 'CATS2D_03_LL', 'nF', 'HTe', 'SpPosA_B(p)', 'T(P..P)', 'nR=CRX', 'Mor07e', 'SpMax_G/D', 'CATS3D_19_DD', 'B04C-F', 'LOC', 'B03Cl-I', 'CATS2D_05_AL', 'ATS7p', 'B01F-Si', 'CATS3D_05_AA', 'F04Br-B', 'Mor14v', 'C-026', 'Eig04_AEA(dm)', 'B09O-S', 'B10B-X', 'NssCH2', 'J_B(i)', 'C-014', 'F01C-I', 'SM11_AEA(bo)', 'ZM1', 'RDF070p', 'F09O-X', 'B06Br-B', 'F05S-I', 'SpDiam_B(m)', 'nRNNOx', 'SpMax1_Bh(e)', 'RDF090i', 'F07X-X', 'Du', 'B01C-S', 'SpAD_Dt', 'F10N-P', 'B01N-O', 'B01P-X', 'SpAD_EA(dm)', 'SpMax6_Bh(p)', 'F05S-Si', 'Eig13_AEA(bo)', 'F07P-F', 'Chi1_AEA(bo)', 'F10Cl-B', 'SaaN', 'F10Br-X', 'CATS3D_03_DP', 'P_VSA_MR_7', 'nSOOH', 'CATS3D_01_AN', 'RDF015p', 'VR3_G/D', 'F08P-X', 'RDF125i', 'F07Si-X', 'RDF115u', 'CATS3D_05_NN', 'Wi_Dt', 'SM4_RG', 'CATS2D_08_NN', 'B08Cl-B', 'RDF095e', 'B07P-X', 'SpMax5_Bh(s)', 'VR1_G/D', 'SpMax4_Bh(m)', 'CATS2D_08_DA', 'RDF145s', 'SpMax3_Bh(i)', 'SP09', 'F05Br-Br', 'F08Br-B', 'NsssssAs', 'G(Cl..Br)', 'I-104', 'SM02_AEA(ri)', 'TDB02r', 'CATS2D_09_AN', 'F09C-S', 'TWC', 'B03S-S', 'F03Br-X', 'SpMin5_Bh(e)', 'R8u', 'ATSC8i', 'SM11_EA(bo)', 'B05Si-Si', 'SM2_G/D', 'SM2_Dt', 'S-109', 'B01O-B', 'CATS2D_03_AA', 'RARS', 'CATS3D_06_AP', 'CATS3D_15_DA', 'nR05', 'F08C-C', 'GATS3p', 'CATS3D_08_PP', 'F06B-X', 'B06I-I', 'B07O-B', 'Eig15_AEA(dm)', 'F07N-P', 'B05S-P', 'E2m', 'RDF030e', 'SpPos_L', 'CATS3D_16_DA', 'CATS3D_07_AL', 'B05F-Si', 'TDB06v', 'CATS3D_13_AP', 'SM03_EA(dm)', 'EE_B(v)', 'NssssPb', 'RDF030u', 'N-072', 'B04S-B', 'Mor26s', 'D/Dtr09', 'RDF120p', 'nR=CHX', 'SM1_B(v)', 'Eig15_EA(ed)', 'B09S-Si', 'MATS4i', 'B01N-N', 'F03C-Cl', 'HATS8m', 'CATS3D_04_AA', 'Eig01_EA(dm)', 'B02O-B', 'Mor01s', 'F05N-N', 'SpMin7_Bh(m)', 'F07N-I', 'F03I-B', 'SpMax_EA', 'CATS3D_15_DN', 'DP02', 'F05C-C', 'F03C-N', 'SpAD_Dz(m)', 'F10S-F', 'Mor20e', 'F10C-N', 'Mor10v', 'SpMAD_X', 'B10C-C', 'L2s', 'F08N-I', 'F05Br-X', 'WiA_RG', 'B07C-N', 'B01O-O', 'H3i', 'piPC06', 'QXXs', 'Mor07p', 'H-048', 'Vu', 'MATS2i', 'B04N-S', 'DP09', 'CATS2D_03_DN', 'B08O-P', 'SpMAD_A', 'SpAD_L', 'L1u', 'CATS3D_18_DD', 'RDF125e', 'GATS1s', 'JGI6', 'B06O-Cl', 'nCconjX', 'HATS4s', 'T(S..S)', 'SM05_EA(bo)', 'Mor21i', 'J_Dz(m)', 'SM08_AEA(bo)', 'F09Cl-Si', 'B06P-P', 'B08C-X', 'C-017', 'CATS3D_03_DA', 'nSO3OH', 'B08C-P', 'RDF105e', 'B09P-X', 'B10Br-I', 'SpMAD_Dz(e)', 'nO(C=O)2', 'B08F-X', 'MATS2v', 'Psi_i_1s', 'B06O-O', 'CATS3D_15_PL', 'F08N-Br', 'SsSeH', 'B10S-B', 'SM2_D/Dt', 'nArCHO', 'DP14', 'AVS_Dz(i)', 'B07Br-Si', 'F07Cl-B', 'RDF110e', 'Wi_B(s)', 'Ve', 'F05F-I', 'nRNHR', 'B04I-Si', 'HATS3i', 'CATS3D_01_PN', 'F01Si-Si', 'F08F-Si', 'CATS2D_04_PP', 'SM6_D', 'F10O-Si', 'CATS2D_06_DD', 'VE1sign_B(v)', 'CATS3D_11_NN', 'B02O-S', 'B09P-P', 'SpAD_B(e)', 'CATS3D_16_DP', 'SpMaxA_AEA(bo)', 'CATS2D_07_PP', 'Eig10_EA(dm)', 'SpMin4_Bh(v)', 'CATS3D_12_DN', 'CATS2D_09_DD', 'SM06_AEA(ri)', 'CATS3D_04_PN', 'SM07_AEA(dm)', 'NsssGeH', 'Mor22m', 'B06Br-Br', 'CATS3D_16_AA', 'F03N-I', 'MDDD', 'SpMax8_Bh(p)', 'SsssP', 'R4m', 'Eig05_EA(bo)', 'F03N-O', 'Eig15_AEA(ed)', 'nRNCS', 'nCar', 'R4i', 'CATS3D_02_AP', 'SpDiam_Dz(e)', 'B10I-I', 'nR06', 'B09O-F', 'Eig10_EA', 'F08C-Br', 'TDB06r', 'CATS3D_02_DP', 'ATS7m', 'F10N-O', 'CATS2D_09_DA', 'B06O-B', 'B04Cl-B', 'MWC03', 'H_X', 'RDF050e', 'Wi_D/Dt', 'RDF090s', 'CATS3D_11_AP', 'HATS5u', 'B04O-Si', 'B01P-F', 'F01F-Br', 'P_VSA_s_2', 'F10C-B', 'B08P-P', 'RDF085e', 'B09N-B', 'B10S-P', 'CATS2D_03_NL', 'SM3_B(p)', 'CATS2D_08_AA', 'NssAsH', 'F03O-O', 'ATSC5v', 'F09B-B', 'RDF060i', 'MATS7i', 'H3m', 'SM4_B(s)', 'XMOD', 'SM2_B(v)', 'F06O-B', 'F03O-Si', 'CATS2D_04_AA', 'B09B-X', 'SsCH3', 'I-098', 'WiA_Dt', 'F08N-Cl', 'B01F-Br', 'HATS1u', 'F10C-F', 'JGI7', 'RDF030s', 'SaaCH', 'MSD', 'Mor23s', 'B01Cl-X', 'H1v', 'SM11_AEA(dm)', 'SM11_EA', 'RDF030i', 'R6p', 'SM13_AEA(ri)', 'Xt', 'SM06_EA(ed)', 'B05O-I', 'SM05_AEA(bo)', 'Mor21u', 'SpMin3_Bh(i)', 'Mor13p', 'H2s', 'F10P-I', 'B06S-Si', 'VE1sign_B(e)', 'SM05_EA(ri)', 'F06P-P', 'SpAbs_Dz(Z)', 'B08F-I', 'B10S-F', 'F08Cl-Br', 'nPyrrolidines', 'F01F-Si', 'SpPosA_Dz(i)', 'VE3_B(p)', 'ATSC5s', 'B03O-B', 'ChiA_Dt', 'T(O..Br)', 'B01C-O', 'MATS4p', 'Mor18s', 'ATSC4i', 'TDB08r', 'B08O-Si', 'B03B-Si', 'HATS1m', 'E1p', 'B02C-O', 'B01Cl-Cl', 'nN', 'CATS3D_18_DP', 'SM3_Dz(m)', 'F10F-F', 'F05Cl-Br', 'TDB09i', 'F05O-B', 'GATS7e', 'E2i', 'B10S-Br', 'H2e', 'SM11_AEA(ri)', 'H-049', 'SpMax6_Bh(m)', 'SssAsH', 'R7m+', 'C-037', 'SpMaxA_EA(ri)', 'P_VSA_i_2', 'B04F-F', 'SpMin6_Bh(e)', 'F06O-S', 'GATS8v', 'nCconj', 'H7u', 'B02C-Cl', 'F08P-I', 'Ho_B(s)', 'CATS3D_13_DP', 'nN=C-N', 'H3p', 'B05Br-Si', 'P2p', 'F08I-Si', 'Mor29e', 'F10C-C', 'B08N-B', 'SM14_AEA(bo)', 'SM3_Dt', 'F07C-S', 'CATS3D_14_DP', 'TDB02m', 'SP18', 'B01S-Si', 'B06N-Si', 'nRCONR2', 'F01S-Si', 'X4A', 'EE_A', 'B09N-Br', 'F09S-Si', 'B08F-Br', 'Vv', 'Eig05_EA(ed)', 'P_VSA_e_2', 'HATSu', 'X0v', 'B08Si-X', 'RDF100s', 'ATS6m', 'T(N..I)', 'QZZm', 'RDF105u', 'CATS3D_11_LL', 'SpDiam_X', 'ATS6v', 'R6m+', 'F09Si-X', 'B08P-X', 'Mor19s', 'F01B-X', 'B04F-Si', 'B01P-P', 'ATS7i', 'VR1_L', 'SpMax_B(m)', 'G(N..Br)', 'SpPos_H2', 'F02Cl-Cl', 'RTs', 'R2s', 'Mor31i', 'F05P-I', 'HATS0u', 'TDB08s', 'SM1_B(m)', 'B03S-Cl', 'ATS7v', 'CATS3D_08_DL', 'B06Cl-B', 'CATS3D_06_AA', 'Wi_B(e)', 'SpMaxA_Dz(i)', 'H5p', 'F08I-X', 'VE2sign_L', 'nC=N-N', 'CATS3D_01_DN', 'RDF115i', 'R2s+', 'F08N-Si', 'GATS1m', 'P_VSA_ppp_cyc', 'RDF050m', 'B07N-I', 'B05B-B', 'CATS3D_19_AA', 'F07Cl-X', 'CATS3D_04_NL', 'CATS2D_09_PN', 'F05C-N', 'RDF145m', 'B07S-S', 'CATS3D_03_AL', 'JGI10', 'RDF155s', 'G(O..Cl)', 'CATS2D_01_AP', 'NssssB-', 'S0K', 'B06C-O', 'TDB07i', 'B03C-Si', 'SRW05', 'Mor11p', 'SpAD_Dz(v)', 'nOHs', 'B10Br-X', 'RDF020e', 'MPC03', 'G3p', 'R7i+', 'ATSC5i', 'F06B-Si', 'T(F..Cl)', 'CATS3D_11_DL', 'G(Cl..I)', 'H8s', 'CATS3D_01_PP', 'SpPosLog_Dz(v)', 'T(I..I)', 'F01N-Cl', 'CATS3D_00_DL', 'P_VSA_LogP_5', 'Eig04_AEA(bo)', 'X3v', 'B04O-O', 'MPC07', 'F01S-S', 'B07C-Cl', 'SpMax_Dz(p)', 'C%', 'PJI3', 'F06C-O', 'Ts', 'RDF035v', 'SM2_B(p)', 'J_B(m)', 'G(N..S)', 'F02S-I', 'SpMin2_Bh(i)', 'SM5_Dz(m)', 'SM5_G', 'J_RG', 'F06I-I', 'Eig12_EA(dm)', 'Mor16i', 'F07I-Si', 'F02N-I', 'NssGeH2', 'F09B-Si', 'C-036', 'Ram', 'RDF135m', 'P1m', 'B10B-B', 'F02O-X', 'ZM2MulPer', 'F07O-Cl', 'X2', 'CATS3D_01_DD', 'F03S-I', 'CATS3D_15_PP', 'J_G/D', 'MATS2p', 'F07N-Br', 'F10B-X', 'SM15_EA(ed)', 'R1s', 'nAT', 'VE2_B(v)', 'B01Br-I', 'F09Cl-X', 'B07O-F', 'TDB01s', 'TDB05p', 'RDF075v', 'SpMax_EA(ed)', 'nPO4', 'Eig08_AEA(dm)', 'B06P-F', 'HATS7u', 'F09Br-Si', 'SpAD_Dz(p)', 'G(N..O)', 'SpMAD_RG', 'G1p', 'MATS1v', 'B02N-Br', 'SM4_Dz(i)', 'B04Cl-Cl', 'nArCSOH', 'CATS3D_18_PN', 'F01X-X', 'F08X-X', 'F09I-Si', 'X3', 'B06N-Cl', 'F10I-X', 'CATS2D_07_DN', 'Mor22e', 'SsssPbH', 'B03P-P', 'HyWi_B(m)', 'F02X-X', 'nRNO2', 'B09N-Si', 'F10N-I', 'nR07', 'SpMin7_Bh(p)', 'QYYs', 'SM05_EA', 'B03N-Br', 'B09S-F', 'X1v', 'F08F-I', 'RDF115e', 'F07I-B', 'NdsssAs', 'R2e', 'GATS7s', 'F09Cl-Cl', 'CATS3D_17_PP', 'HATS5e', 'VE3_RG', 'B07X-X', 'Mor15i', 'B01F-X', 'CATS2D_03_AN', 'S-110', 'RDF055i', 'QYYv', 'CATS3D_09_DP', 'B03P-Si', 'F05S-P', 'GATS8p', 'F01B-Si', 'B03C-C', 'Eig09_EA(dm)', 'F04N-S', 'F03Cl-I', 'DP18', 'B02N-Cl', 'F07C-Br', 'F09S-Cl', 'NssSe', 'CATS2D_07_DD', 'F01B-B', 'F01Cl-Br', 'EE_B(s)', 'F09N-X', 'CATS3D_03_DD', 'F08C-F', 'B01Cl-Br', 'F04O-F', 'LLS_02', 'Eig07_EA(ri)', 'CATS3D_06_NL', 'Mor30e', 'B06N-N', 'RDF060p', 'B10F-Br', 'F-083', 'SpPosLog_Dz(e)', 'Eig03_EA(bo)', 'SM08_AEA(ed)', 'Eta_epsi', 'Eig04_EA(ed)', 'SpPos_X', 'F08P-P', 'B10S-X', 'RDF110m', 'SsBH2', 'CATS3D_16_NN', 'S1K', 'SM11_EA(ri)', 'SpMin1_Bh(p)', 'CATS3D_17_NN', 'piPC07', 'Mor28p', 'CATS3D_08_NN', 'F09O-B', 'F08Cl-Cl', 'Eig02_AEA(ri)', 'nCONN', 'R2u', 'SpMax_B(e)', 'DP16', 'CATS3D_11_DN', 'SP14', 'RDF150m', 'SpPosLog_H2', 'F05N-S', 'B07C-X', 'VE1sign_B(s)', 'nR=Cs', 'F01Cl-Cl', 'CATS2D_06_DA', 'Mor04p', 'SMTIV', 'Mor11i', 'RDF090v', 'CATS3D_08_DN', 'P_VSA_ppp_N', 'P1v', 'B09P-I', 'R5i', 'Wi_B(v)', 'F05O-X', 'F07Cl-Cl', 'CATS3D_15_DD', 'B06S-Br', 'Mor15u', 'CATS2D_01_DD', 'ChiA_X', 'H-052', 'NsssCH', 'Chi1_AEA(ed)', 'SddsAs', 'R4s', 'MATS7v', 'HyWi_RG', 'B04P-P', 'B03P-B', 'L2v', 'B05I-X', 'B05S-Br', 'RDF055e', 'SpMin7_Bh(i)', 'F10C-S', 'P_VSA_e_6', 'MCD', 'B02N-N', 'F09F-Br', 'NdssS', 'B09C-X', 'CATS3D_10_NN', 'Mor04v', 'Mor28e', 'CATS2D_01_AL', 'SpMax_Dt', 'F02Cl-B', 'F08I-B', 'Mor17s', 'Eig08_AEA(bo)', 'RDF140s', 'Chi0_EA(ri)', 'RDF130v', 'F09I-I', 'NdNH2+', 'EE_H2', 'RDF045u', 'B09O-Br', 'SM2_Dz(v)', 'F03C-X', 'nROCON', 'B07N-B', 'F08Br-X', 'R7p', 'AVS_B(s)', 'ATS3s', 'SsF', 'HyWi_Dt', 'NsAsH2', 'Eig07_AEA(bo)', 'CATS3D_09_PL', 'B08S-B', 'Mor27p', 'DLS_01', 'NsNH3+', 'B08P-Br', 'Mor03u', 'G2u', 'SdssC', 'NaaNH', 'B04N-P', 'SM4_G', 'ON1V', 'G(O..S)', 'Chi1_EA(ed)', 'P_VSA_LogP_8', 'Mor02p', 'SpMaxA_B(m)', 'CATS3D_01_AP', 'B08Br-I', 'RDF020v', 'F10Br-I', 'F01F-F', 'R3e+', 'CATS2D_02_AP', 'F08N-N', 'CATS3D_02_PL', 'B10P-B', 'F04C-F', 'F03S-Br', 'CATS2D_07_AP', 'J_Dz(v)', 'DP07', 'RTs+', 'RDF040i', 'VR1_B(i)', 'B01S-S', 'B04C-Br', 'B06C-S', 'Chi0_EA(bo)', 'B04C-Si', 'B09N-N', 'F03C-F', 'R3u+', 'SM07_EA(ed)', 'R7e+', 'F01N-N', 'RDF030p', 'CATS2D_00_AN', 'Eig13_AEA(dm)', 'F04C-N', 'RBN', 'CATS2D_06_DN', 'H2v', 'SM13_EA(bo)', 'SM5_B(i)', 'B04Br-I', 'T(N..O)', 'SM08_EA', 'Vs', 'ChiA_Dz(i)', 'SpAbs_B(p)', 'SpMAD_Dz(i)', 'TDB09u', 'Chi0_AEA(dm)', 'TDB02u', 'D/Dtr08', 'F03Cl-Br', 'B02F-X', 'B10N-X', 'CATS3D_01_LL', 'ATS1s', 'B05Cl-X', 'CATS3D_11_DA', 'B03C-Br', 'B02C-P', 'F07O-O', 'B03N-S', 'F02C-O', 'H_Dt', 'F10Cl-Br', 'CATS3D_19_DN', 'SaadN', 'RDF020i', 'nFuranes', 'Mor01m']\n",
            "33 tentative attributes remains: ['R5s', 'Hy', 'Mor06u', 'Mor25v', 'P_VSA_ppp_ter', 'RTm', 'HATS6s', 'SpMAD_EA(ed)', 'SpDiam_AEA(dm)', 'Mor16m', 'RDF020m', 'MATS1e', 'P_VSA_i_4', 'ATSC3m', 'O%', 'GATS6e', 'CATS3D_02_AL', 'RDF040v', 'nNq', 'Mor28v', 'HATSm', 'P_VSA_ppp_con', 'GATS6m', 'Mor16v', 'SpMax2_Bh(s)', 'TPSA(Tot)', 'Mor15m', 'TDB10e', 'HATS7v', 'Eig14_EA(dm)', 'CATS2D_04_AP', 'HATS7e', 'GATS3i']\n"
          ]
        }
      ],
      "source": [
        "# If no model is selected default is the Random Forest\n",
        "# If classification is True it is a classification problem\n",
        "model = XGBClassifier()\n",
        "Feature_Selector = BorutaShap(model=model,importance_measure='shap', classification=True,percentile=90)\n",
        "#Feature_Selector = BorutaShap(importance_measure='shap', classification=True)\n",
        "\n",
        "#Feature_Selector.fit(X=X_train, y=y_train['Target'], n_trials=50, random_state=0)\n",
        "\n",
        "\n",
        "#Feature_Selector.fit(X=X_train, y=y_train['Target'], n_trials=500, sample=False,\n",
        "#            \t     train_or_test = 'test', normalize=True, verbose=True,random_state=32)\n",
        "\n",
        "Feature_Selector.fit(X=X_train_sweet_scaled, y=y_train_sweet['Target'], n_trials=100, sample=False, verbose=True,random_state=32)"
      ]
    },
    {
      "cell_type": "code",
      "execution_count": null,
      "metadata": {
        "id": "HPRMImlSL6rO"
      },
      "outputs": [],
      "source": [
        "X_sweet_subset = Feature_Selector.Subset()"
      ]
    },
    {
      "cell_type": "code",
      "execution_count": null,
      "metadata": {
        "id": "pQPqlNDIWVUo"
      },
      "outputs": [],
      "source": [
        "X_sweet_subset_cols = X_sweet_subset.columns\n",
        "#print(X_sweet_subset_cols)\n",
        "\n",
        "X_sweet_test_subset = X_test_sweet_scaled[X_sweet_subset_cols]"
      ]
    },
    {
      "cell_type": "code",
      "execution_count": null,
      "metadata": {
        "colab": {
          "base_uri": "https://localhost:8080/"
        },
        "id": "CtaquXaA9gRM",
        "outputId": "713d78b3-757d-4022-caf1-70fa2e3c9696"
      },
      "outputs": [
        {
          "name": "stdout",
          "output_type": "stream",
          "text": [
            "Evaluating XGBoost\n",
            "Accuracy: 0.7337662337662337\n",
            "Precision: 0.8902439024390244\n",
            "Average Precision: 0.8267236828212439\n",
            "AUROC: 0.7557823129251701\n",
            "Classification Report\n",
            "              precision    recall  f1-score   support\n",
            "\n",
            "           0       0.56      0.82      0.66        49\n",
            "           1       0.89      0.70      0.78       105\n",
            "\n",
            "    accuracy                           0.73       154\n",
            "   macro avg       0.72      0.76      0.72       154\n",
            "weighted avg       0.78      0.73      0.74       154\n",
            "\n",
            "Evaluating CatBoost\n",
            "Accuracy: 0.7467532467532467\n",
            "Precision: 0.875\n",
            "Average Precision: 0.8234848484848485\n",
            "AUROC: 0.754421768707483\n",
            "Classification Report\n",
            "              precision    recall  f1-score   support\n",
            "\n",
            "           0       0.58      0.78      0.66        49\n",
            "           1       0.88      0.73      0.80       105\n",
            "\n",
            "    accuracy                           0.75       154\n",
            "   macro avg       0.73      0.75      0.73       154\n",
            "weighted avg       0.78      0.75      0.75       154\n",
            "\n",
            "Evaluating RandomForest\n",
            "Accuracy: 0.7662337662337663\n",
            "Precision: 0.896551724137931\n",
            "Average Precision: 0.8413345275414241\n",
            "AUROC: 0.7795918367346939\n",
            "Classification Report\n",
            "              precision    recall  f1-score   support\n",
            "\n",
            "           0       0.60      0.82      0.69        49\n",
            "           1       0.90      0.74      0.81       105\n",
            "\n",
            "    accuracy                           0.77       154\n",
            "   macro avg       0.75      0.78      0.75       154\n",
            "weighted avg       0.80      0.77      0.77       154\n",
            "\n"
          ]
        }
      ],
      "source": [
        "print(\"Evaluating XGBoost\")\n",
        "evaluate(clf_xgboost, X_sweet_subset, y_train_sweet, X_sweet_test_subset, y_test_sweet)\n",
        "\n",
        "print(\"Evaluating CatBoost\")\n",
        "evaluate(clf_catboost,X_sweet_subset, y_train_sweet, X_sweet_test_subset, y_test_sweet)\n",
        "\n",
        "print(\"Evaluating RandomForest\")\n",
        "evaluate(clf_rf,X_sweet_subset, y_train_sweet, X_sweet_test_subset, y_test_sweet)"
      ]
    },
    {
      "cell_type": "code",
      "execution_count": null,
      "metadata": {
        "colab": {
          "base_uri": "https://localhost:8080/",
          "height": 121,
          "referenced_widgets": [
            "61e08455a05747f085968b0e4be6a2fa",
            "284ca69780ae41e5864273331511952c",
            "489d112006f44d15bf7463905a6f5f57",
            "f745b361e40c4d998910b4379cb75259",
            "88182cd1347244f6befc7600631ec6ad",
            "f725f0def8af43919ae8770d9e2929c0",
            "424b34032412469099c1ee1cd8ccaa48",
            "9fb6ba4ad4a342dbba6450b3915ac279",
            "b9d1d768342143959f8feb6e0bfeca99",
            "6970a96091ed4c588fc493b782baab47",
            "93353374d82040418cc87b9f82cc1fd6"
          ]
        },
        "id": "QAEKbkUeu_VI",
        "outputId": "f479437f-e0df-41b1-a713-7b6fe6514790"
      },
      "outputs": [
        {
          "data": {
            "application/vnd.jupyter.widget-view+json": {
              "model_id": "61e08455a05747f085968b0e4be6a2fa",
              "version_major": 2,
              "version_minor": 0
            },
            "text/plain": [
              "  0%|          | 0/200 [00:00<?, ?it/s]"
            ]
          },
          "metadata": {},
          "output_type": "display_data"
        },
        {
          "name": "stdout",
          "output_type": "stream",
          "text": [
            "58 attributes confirmed important: ['SpPosA_G/D', 'SIC3', 'SpMax1_Bh(i)', 'Eig01_EA(ri)', 'B02C-N', 'P_VSA_m_2', 'SpDiam_B(s)', 'CATS2D_05_DN', 'RBF', 'B01C-N', 'MLOGP2', 'GATS4s', 'MATS5m', 'totalcharge', 'piPC03', 'VE1_RG', 'N%', 'MAXDP', 'R7e', 'GATS4e', 'R4s+', 'DISPs', 'piPC04', 'SpMax7_Bh(s)', 'P_VSA_LogP_5', 'CATS2D_03_DL', 'P_VSA_i_4', 'CATS2D_07_DL', 'SpMax1_Bh(m)', 'SpDiam_EA(ri)', 'MATS6v', 'piID', 'Mor16e', 'P_VSA_s_6', 'SpMax_B(m)', 'CATS3D_02_DL', 'GATS6m', 'GATS5m', 'RDF040s', 'CATS2D_02_DL', 'SIC4', 'piPC07', 'P_VSA_MR_3', 'SpMAD_G/D', 'F01C-N', 'nN', 'J_Dt', 'P_VSA_LogP_2', 'SpMax_B(e)', 'F02C-N', 'HATS6v', 'TDB01i', 'F03C-N', 'CATS2D_04_AP', 'SpMAD_D/Dt', 'rGes', 'HATS6p', 'CATS2D_04_DL']\n",
            "4905 attributes confirmed unimportant: ['B07O-X', 'nIsoxazoles', 'HATS6e', 'RDF125m', 'C-025', 'SP05', 'nRCOX', 'Mor07u', 'B06Si-X', 'SpMax5_Bh(p)', 'B04S-Br', 'SpDiam_AEA(dm)', 'SM3_Dz(Z)', 'B04O-B', 'F10O-Br', 'B01Si-X', 'H6s', 'SM09_EA(bo)', 'Eig12_AEA(dm)', 'CATS2D_04_PL', 'B06C-C', 'Mor32i', 'RDF070e', 'F04C-S', 'B01C-Br', 'F01P-Cl', 'F09O-Br', 'ATS1e', 'Mor20s', 'F08S-Cl', 'B06I-X', 'Mor23i', 'nRCSSH', 'Mor03s', 'VR2_B(p)', 'SsCl', 'CATS2D_06_AA', 'CATS3D_11_DD', 'WiA_G', 'B06Br-Si', 'QYYm', 'CATS2D_02_PL', 'piPC01', 'B06O-X', 'CATS3D_18_PL', 'F07S-S', 'CATS3D_04_DP', 'HATS7m', 'SIC0', 'SpPos_A', 'SP07', 'B07N-Cl', 'F07S-P', 'F02P-F', 'G1s', 'SaaaC', 'F01C-X', 'SpMax_X', 'SpDiam_Dz(Z)', 'AVS_B(v)', 'nCXr=', 'B05Cl-B', 'B09O-X', 'Mor07v', 'Chi_D', 'Eig02_AEA(bo)', 'Eig15_EA(dm)', 'B09N-X', 'Eig07_EA(dm)', 'H_RG', 'CATS2D_01_DP', 'F05C-O', 'SP12', 'CATS3D_05_DL', 'B05O-Cl', 'Mor26m', 'B07C-F', 'Psi_e_0', 'SpMAD_B(m)', 'CATS3D_03_LL', 'B05P-P', 'B01O-Cl', 'F08B-B', 'C-021', 'SM4_Dz(m)', 'NddsN', 'CATS2D_08_AN', 'F06P-Si', 'Chi_Dz(v)', 'F01N-S', 'G(P..P)', 'B01S-Cl', 'SsssSiH', 'SpMax_G', 'HyWi_B(i)', 'F05N-Si', 'TDB06m', 'nR03', 'Mor02u', 'B09N-F', 'CATS2D_06_LL', 'F02O-B', 'ATSC2e', 'B07N-N', 'Eta_FL', 'RDF065s', 'B09P-F', 'ATS2m', 'SM04_AEA(ri)', 'B01C-F', 'Mor10m', 'F10P-B', 'B09Br-Br', 'F04P-Br', 'SM5_G/D', 'F09F-B', 'F07O-S', 'ARR', 'ATSC4m', 'ATSC6v', 'T(S..Br)', 'I-100', 'NtN', 'IC2', 'Mor15s', 'F02S-Si', 'R8i+', 'SM3_L', 'B08Br-Si', 'nR12', 'SpMaxA_H2', 'SM6_Dz(v)', 'HATS5p', 'F08P-Cl', 'R5p', 'Eig03_EA(ed)', 'HATS4u', 'Mor14u', 'F01Br-I', 'F06F-Cl', 'SssssB-', 'VE2_B(i)', 'X2v', 'B10S-Cl', 'HATS4m', 'F09P-P', 'SM11_EA(dm)', 'SM5_L', 'B02B-B', 'B05S-Si', 'MWC01', 'R4v+', 'F04I-X', 'F05P-X', 'SpMin1_Bh(m)', 'B02N-X', 'F04O-O', 'ATS4i', 'F02O-Br', 'HATS3m', 'F02N-Si', 'ATSC7p', 'CATS3D_02_DD', 'SM5_Dz(e)', 'F10C-Br', 'RDF095s', 'C-035', 'B02Br-X', 'B08O-B', 'CATS2D_04_AL', 'ChiA_B(v)', 'JGI9', 'F02S-B', 'F02P-I', 'F07C-P', 'n=C=', 'VR3_B(s)', 'TDB09s', 'F08N-P', 'HATSm', 'B02P-P', 'GGI6', 'WiA_G/D', 'C-022', 'SM06_EA(bo)', 'CATS3D_19_DL', 'Psi_i_1', 'TPSA(NO)', 'C-012', 'B10Si-X', 'ATS2i', 'Eig03_AEA(ri)', 'F10Si-X', 'SpPosA_Dz(v)', 'Eta_L_A', 'StCH', 'MWC06', 'Ae', 'QZZi', 'nArCOSR', 'TDB05u', 'CATS2D_00_NL', 'B07P-I', 'SpDiam_H2', 'B07I-B', 'SM12_AEA(dm)', 'Mor05u', 'NaasN', 'B03O-S', 'SpMAD_Dz(m)', 'P2v', 'F03N-F', 'SM12_EA(ed)', 'SpMin1_Bh(v)', 'SpPosLog_B(e)', 'GATS2e', 'F01P-Si', 'ZM2', 'B02I-Si', 'B01C-Cl', 'ISIZ', 'DECC', 'SpMaxA_X', 'AVS_D/Dt', 'TDB01p', 'F04C-O', 'F09Br-I', 'nBO', 'SpMaxA_G', 'RDF025s', 'RDF065i', 'SpDiam_EA(ed)', 'N-074', 'B04O-Br', 'B10I-Si', 'DLS_03', 'GGI4', 'WiA_D/Dt', 'SM15_AEA(ri)', 'GATS4v', 'Mor21v', 'I-097', 'TDB06e', 'CATS2D_03_PP', 'Uc', 'Psi_i_t', 'SpMax8_Bh(e)', 'VR3_B(e)', 'RDF045e', 'SP17', 'F06C-Si', 'F06Br-X', 'G(Cl..Cl)', 'CATS3D_14_AA', 'GATS4i', 'CATS3D_17_PN', 'B05I-B', 'CATS3D_09_DA', 'SpMaxA_B(i)', 'RTv+', 'B02B-Si', 'SpMAD_EA(dm)', 'CATS3D_18_DA', 'B10C-Br', 'SM02_EA(ri)', 'NaaS', 'CATS3D_08_AL', 'EE_G/D', 'CATS3D_12_PL', 'SsSH', 'CATS3D_12_LL', 'TDB01v', 'G(N..Cl)', 'F02C-Si', 'REIG', 'H4p', 'Ho_B(p)', 'B05N-Cl', 'S-108', 'X1Kup', 'B10Si-Si', 'CATS3D_14_DN', 'CATS3D_17_DP', 'B03Br-Si', 'CATS2D_04_NL', 'SpPos_B(e)', 'B10O-X', 'B08O-Cl', 'Eig12_AEA(ed)', 'CATS3D_12_DD', 'SM3_B(v)', 'CATS2D_01_AN', 'B01B-B', 'Mor14s', 'T(O..O)', 'CATS2D_02_DD', 'Eig07_AEA(ed)', 'T(S..Cl)', 'B05C-N', 'Mor32s', 'P_VSA_v_4', 'Vindex', 'D/Dtr10', 'SM5_Dz(v)', 'P_VSA_LogP_4', 'nAziridines', 'F01O-F', 'CATS2D_09_DN', 'Eig14_EA(ed)', 'Mor06m', 'CATS3D_00_PP', 'Mor04i', 'B01N-F', 'Mor19i', 'B09S-I', 'RDF145v', 'B08S-I', 'F08O-Br', 'B05C-O', 'F07P-Si', 'MWC07', 'As', 'SM6_B(i)', 'F06P-Cl', 'H6v', 'R5i+', 'F02Br-X', 'AROM', 'ChiA_D', 'WiA_B(m)', 'SM03_EA(ed)', 'RDF135i', 'SM02_EA', 'B01O-P', 'Psi_i_0', 'SpPosLog_D/Dt', 'RDF045s', 'nBR', 'SM2_B(e)', 'Eig11_AEA(ri)', 'SpPosA_B(s)', 'TDB10s', 'SM03_AEA(ed)', 'X5Av', 'F07Si-Si', 'F05I-X', 'F06C-P', 'SpMin7_Bh(e)', 'RDF025e', 'SpMin4_Bh(i)', 'Mor22p', 'L3e', 'Ho_D/Dt', 'R2p+', 'F05I-I', 'nBM', 'CATS2D_09_AA', 'VE2sign_B(v)', 'HyWi_Dz(Z)', 'SpPosA_Dz(p)', 'CATS3D_00_NL', 'F06S-F', 'WiA_Dz(i)', 'F03S-B', 'SpMin6_Bh(v)', 'SM02_AEA(dm)', 'F10F-Si', 'Ho_B(e)', 'SpMaxA_AEA(ed)', 'SM4_B(i)', 'D/Dtr11', 'F09C-I', 'CATS3D_09_AN', 'F06I-B', 'RDF140i', 'CATS3D_19_AL', 'F06F-F', 'CATS3D_18_AP', 'RDF075p', 'CATS3D_15_AN', 'SssS', 'SpPos_Dz(p)', 'Mor13e', 'F04N-F', 'B10O-P', 'CATS2D_00_PP', 'F02C-Br', 'B01N-P', 'SpDiam_Dz(p)', 'MATS8i', 'SsNH3+', 'H1u', 'F10P-Si', 'NddsAs', 'RDF075u', 'CATS2D_00_NN', 'F05C-I', 'CATS3D_12_PP', 'G1m', 'F10C-X', 'CATS3D_13_DL', 'G(I..I)', 'HOMT', 'CATS3D_14_DA', 'NssssssS', 'E3p', 'SpPos_G/D', 'B08O-Br', 'B09X-X', 'RDF055u', 'X1MulPer', 'SpMax8_Bh(s)', 'SsssCH', 'G2v', 'F10C-Si', 'nCsp3', 'SpMaxA_EA', 'HATS2s', 'SpAbs_B(v)', 'F03P-B', 'nArCSSR', 'ATSC4v', 'ATSC8v', 'NdCH2', 'SM1_B(s)', 'SssssSn', 'TDB09e', 'nArNO', 'Mor19e', 'ZM1Kup', 'F08F-Cl', 'B03C-I', 'nCRX3', 'HATS3u', 'Tv', 'F10O-B', 'CATS3D_06_LL', 'B10Cl-Cl', 'B06B-B', 'AVS_Dz(p)', 'F03O-Cl', 'B04N-X', 'B10C-Cl', 'SpMAD_B(i)', 'B05I-I', 'B07O-Si', 'CATS3D_18_AN', 'G1', 'CATS3D_11_PP', 'SP11', 'Av', 'F05S-Br', 'CATS2D_03_PN', 'CATS2D_06_DP', 'CATS2D_07_NN', 'CATS3D_04_NN', 'ATSC5p', 'GATS3s', 'B07C-O', 'F07I-X', 'MATS6i', 'SRW06', 'Eig13_EA(dm)', 'X2sol', 'TDB02s', 'SM5_H2', 'CATS3D_04_PP', 'SpPos_B(s)', 'F09S-B', 'CATS2D_04_AN', 'Eig13_EA(bo)', 'X1', 'MPC08', 'MATS2e', 'Pol', 'WiA_B(v)', 'SpPosLog_L', 'F08N-B', 'F01F-I', 'F06O-O', 'J_B(e)', 'C-043', 'L1p', 'B06P-B', 'RDF100e', 'SpMin8_Bh(s)', 'Mor05s', 'SpMax3_Bh(m)', 'R6i+', 'B06N-P', 'SP13', 'F08O-F', 'L3i', 'J_Dz(Z)', 'nOHt', 'T(O..F)', 'Eig15_EA(bo)', 'F03S-Si', 'F09P-Si', 'SpMaxA_A', 'nRNHO', 'B02O-Cl', 'SpMAD_B(p)', 'F05S-S', 'B04S-F', 'SM6_B(e)', 'SpPos_Dz(i)', 'SM2_Dz(i)', 'Mor32u', 'F01C-Cl', 'B04X-X', 'DP04', 'nArNHO', 'SM04_EA(ri)', 'B10P-Cl', 'Mor18u', 'SpPos_Dz(Z)', 'VE2_B(p)', 'F10Cl-I', 'VR3_B(i)', 'B10Br-Si', 'NssBH', 'J_D', 'F07P-I', 'F10P-Cl', 'RDF015v', 'B03F-F', 'SpMax3_Bh(s)', 'Mor24v', 'SpMin3_Bh(s)', 'CATS2D_00_PL', 'HATS4p', 'F02C-B', 'F08O-O', 'B10Cl-I', 'VE3_B(i)', 'NssssGe', 'Eig13_AEA(ri)', 'SsssGeH', 'nP(=O)O2R', 'ITH', 'D/Dtr04', 'B08F-Si', 'HATS3v', 'Ho_A', 'X3Av', 'UNIP', 'SM3_Dz(e)', 'VE2sign_B(s)', 'IVDE', 'F04N-Cl', 'RDF150p', 'SM09_AEA(bo)', 'B04N-F', 'Wi_B(m)', 'B03I-I', 'B02Br-B', 'NssssN+', 'RDF010e', 'nRNR2', 'CATS3D_16_DN', 'F05P-F', 'Mor30i', 'SpPos_B(v)', 'CATS3D_07_DP', 'B03N-X', 'B06C-B', 'Ho_Dt', 'CATS3D_16_AL', 'RTm+', 'B02F-F', 'CATS2D_06_PP', 'Chi_B(e)', 'SM02_EA(ed)', 'RDF045p', 'F02N-X', 'nRCONH2', 'WiA_Dz(p)', 'MPC10', 'Mor31v', 'R1u', 'F07N-N', 'RDF120s', 'F02N-O', 'SpAD_B(m)', 'F06Cl-Cl', 'RDF070u', 'NsssB', 'R3i', 'HATS8e', 'F-082', 'RDF045v', 'SM6_B(v)', 'GATS7v', 'SpPosLog_Dz(Z)', 'Chi_RG', 'Mor29m', 'H_D/Dt', 'NsSnH3', 'Si', 'B08N-S', 'nSO2', 'CATS2D_02_DN', 'ATS6i', 'B01Si-Si', 'CATS3D_06_PN', 'Chi_B(p)', 'SpMAD_L', 'F05F-Cl', 'RTu', 'B05P-I', 'R5s', 'Mor13v', 'SpAD_G', 'AVS_B(p)', 'nArNH2', 'SpMax3_Bh(p)', 'CATS3D_11_NL', 'F03N-B', 'NssSiH2', 'B01C-P', 'B06I-Si', 'CATS3D_13_DA', 'F07F-Si', 'F04N-X', 'Eta_alpha', 'ATSC7i', 'nStructures', 'HTv', 'Wi_Dz(e)', 'B04Si-Si', 'Chi_B(s)', 'ATSC4p', 'SP08', 'B04O-X', 'piPC09', 'B07Br-B', 'B07I-I', 'CATS3D_12_AP', 'R5p+', 'HATS3s', 'F01C-S', 'SP02', 'Eta_betaS', 'F06P-B', 'SpMin6_Bh(p)', 'nP', 'VR2_B(m)', 'C-015', 'CATS3D_01_DA', 'F03P-F', 'TDB07u', 'SpAD_B(p)', 'Mor27m', 'CATS3D_04_AN', 'VE2_L', 'F01Si-X', 'ATS6s', 'ATSC4e', 'F06S-S', 'HATSp', 'CATS2D_01_PP', 'B06S-F', 'SpMax7_Bh(e)', 'nCrs', 'F04S-Cl', 'T(F..F)', 'CATS3D_11_PN', 'MATS5p', 'SpPosLog_B(v)', 'F01C-F', 'Me', 'ATSC7e', 'B08N-F', 'F04S-Si', 'B10F-B', 'Chi0_AEA(ri)', 'P_VSA_s_3', 'Mor10e', 'B10C-I', 'F09Br-X', 'nArNO2', 'GATS8e', 'RDF025v', 'F02Br-Br', 'F09O-S', 'RDF095m', 'F02S-F', 'SM1_Dz(p)', 'RDF145u', 'TDB07v', 'SM6_Dz(i)', 'CATS3D_09_AA', 'CATS3D_17_AL', 'SddsN', 'R3u', 'B07S-Br', 'B10O-Si', 'CATS3D_16_DD', 'SpMax_Dz(i)', 'NdNH', 'F03C-C', 'B07C-Br', 'SssPbH2', 'G2e', 'GATS6i', 'NsPH2', 'N-079', 'nThiazoles', 'RDF070v', 'B03Br-X', 'CATS3D_06_DL', 'SpMax_L', 'B05X-X', 'Mor23u', 'B07F-Si', 'B03I-Si', 'EE_B(e)', 'VE2_B(s)', 'Eta_C', 'F05O-I', 'HATS7p', 'B01P-Cl', 'SIC1', 'R1v+', 'CATS2D_03_PL', 'B01N-Br', 'H5m', 'F07Br-I', 'Mor10i', 'F01O-Si', 'RDF100m', 'F05Br-B', 'Mor01p', 'CATS3D_07_PP', 'Gm', 'MATS3s', 'F06C-Cl', 'G1v', 'B05O-X', 'VR3_RG', 'O-062', 'SaaO', 'ChiA_Dz(e)', 'F01N-I', 'E1i', 'X4Av', 'Mor15v', 'F08B-X', 'RCI', 'B10F-I', 'SpMin8_Bh(m)', 'QXXi', 'ChiA_Dz(Z)', 'TDB08u', 'R7u+', 'Eig14_AEA(bo)', 'RDF155e', 'SM2_L', 'Eig14_EA(dm)', 'Mor16p', 'QYYi', 'SsOH', 'F05Br-Si', 'NssBe', 'B02C-B', 'CATS3D_18_LL', 'B08C-Cl', 'P-116', 'B08F-F', 'MATS4e', 'B01I-X', 'G(N..F)', 'F03F-I', 'NsSeH', 'nOHp', 'nOxetanes', 'nRCONHR', 'nArCO', 'C-010', 'CATS3D_02_DN', 'F09Cl-I', 'Mor06v', 'B05N-N', 'H1s', 'HATS4v', 'F06Br-Si', 'BBI', 'B03P-X', 'H1e', 'F01O-S', 'SpMin3_Bh(m)', 'J_X', 'R7s+', 'nArNCS', 'StN', 'F05O-S', 'ATSC3s', 'Mor25v', 'SpAD_Dz(Z)', 'Ui', 'B02S-Br', 'SpMAD_AEA(ed)', 'VvdwZAZ', 'Eig10_AEA(dm)', 'TDB08v', 'SM4_B(v)', 'G3u', 'AVS_H2', 'CATS2D_07_LL', 'B04N-O', 'F06F-X', 'nRCHO', 'B05Cl-Br', 'D/Dtr12', 'SM04_EA(bo)', 'Eig10_EA(ri)', 'ATSC7s', 'HATSi', 'RTi', 'F03Br-Br', 'RTe+', 'CATS2D_03_NN', 'B02S-X', 'SsssB', 'SssssSi', 'SM11_AEA(ed)', 'F01C-P', 'HATSs', 'B07Cl-Cl', 'F03C-B', 'F07O-B', 'Mor22i', 'SsssAs', 'G1u', 'CATS3D_13_PP', 'nDB', 'B07Br-Br', 'TDB01e', 'B07N-O', 'TDB03s', 'Mor32v', 'SM4_X', 'WiA_Dz(v)', 'SpMAD_AEA(ri)', 'B10X-X', 'F08C-Cl', 'Eig06_EA', 'F05C-Cl', 'VR3_B(m)', 'SM09_EA(ed)', 'RDF075s', 'ATS8m', 'B04Cl-Si', 'B07F-Cl', 'B10N-S', 'H8e', 'ATSC7m', 'Ho_G', 'HATS1s', 'Mor08v', 'SM4_Dt', 'VE1sign_B(i)', 'R5e+', 'CATS3D_12_DL', 'SM3_D', 'B05N-Br', 'H_Dz(v)', 'Mor29i', 'Eig08_AEA(ri)', 'G(S..Cl)', 'QZZs', 'nPyridines', 'F08N-O', 'BLI', 'RDCHI', 'SM4_H2', 'ATSC4s', 'SM06_AEA(ed)', 'B03P-Br', 'B01P-Si', 'CATS2D_09_LL', 'B05N-S', 'B08Br-B', 'F08F-F', 'B04O-I', 'ATSC3i', 'ATSC3m', 'R2u+', 'F05O-P', 'SM06_AEA(bo)', 'SpMin8_Bh(e)', 'SpMax6_Bh(i)', 'G1i', 'CATS2D_01_NN', 'F10F-X', 'Mor12u', 'B10N-Br', 'nCq', 'Eig01_AEA(ri)', 'NsPbH3', 'B03O-Br', 'Ho_Dz(e)', 'D/Dtr03', 'nRCOOR', 'TDB10u', 'F04O-P', 'F06S-Si', 'SpPosA_B(m)', 'F10O-X', 'SM09_AEA(ri)', 'nArNCO', 'F09I-X', 'E3v', 'ATS2p', 'CATS3D_11_AA', 'NNRS', 'nArNNOx', 'RDF010i', 'F10S-I', 'X3A', 'Eig08_EA(ri)', 'RDF015m', 'SpDiam_A', 'SpMin5_Bh(i)', 'F01F-B', 'B10O-Cl', 'R1e+', 'RDF120e', 'F05C-X', 'Ges', 'Mor27e', 'F04Br-Si', 'F03P-Si', 'HATS0v', 'RDF100v', 'GATS4p', 'IVDM', 'Eig02_EA(bo)', 'SssssBe-', 'F08O-Si', 'VAR', 'CATS3D_06_AL', 'O-059', 'ChiA_B(p)', 'BAC', 'P_VSA_ppp_ter', 'AMW', 'NsLi', 'R2v', 'TDB08m', 'F07C-N', 'nC=O(O)2', 'VR3_B(v)', 'CATS3D_03_AA', 'RDF135p', 'Eig06_AEA(bo)', 'GATS7i', 'Ho_Dz(m)', 'B05C-P', 'CATS3D_15_NN', 'F02P-B', 'SssssC', 'CATS2D_06_AN', 'nCrq', 'R3s', 'B03Cl-Br', 'SM6_RG', 'HyWi_B(p)', 'SpMAD_AEA(dm)', 'Chi0_EA(dm)', 'SpMax1_Bh(v)', 'B07P-B', 'nSO2OH', 'SM05_AEA(ri)', 'F02C-X', 'B06F-B', 'ATS4s', 'nRNCO', 'B01Cl-I', 'CATS3D_06_NN', 'Eig03_AEA(ed)', 'Mor05m', 'F04O-I', 'F05F-F', 'CATS3D_05_DP', 'E1v', 'CATS3D_13_DN', 'nArOCN', 'F03C-S', 'P_VSA_s_4', 'G(P..Cl)', 'Eig14_AEA(dm)', 'B03I-X', 'CATS3D_16_AN', 'SpAbs_Dz(p)', 'AAC', 'nB', 'F02O-P', 'P-120', 'SM4_D/Dt', 'B03S-P', 'Mor08i', 'CATS3D_07_DD', 'F06S-P', 'R6e+', 'B07S-F', 'F08S-I', 'CATS3D_17_NL', 'F05P-Br', 'SpMax1_Bh(p)', 'CATS2D_06_PN', 'AVS_X', 'SpMin3_Bh(e)', 'RDF085i', 'ATS1i', 'B04C-B', 'SdsCH', 'nCXr', 'F03C-Br', 'F04P-F', 'Eig12_EA(ed)', 'Mor08p', 'N-073', 'Mor16m', 'F10I-I', 'B08S-X', 'CATS3D_07_DL', 'HOMA', 'CATS3D_09_NN', 'F08Cl-X', 'F06N-O', 'SM4_Dz(p)', 'H6p', 'NRS', 'SpDiam_EA(bo)', 'RDF010u', 'F07C-I', 'Mor21m', 'nROX', 'ChiA_G', 'SM5_B(s)', 'B09Cl-B', 'B02F-I', 'F10Cl-Cl', 'B02O-X', 'F08I-I', 'CATS2D_02_PN', 'R7i', 'F09P-Br', 'CATS2D_05_PL', 'L/Bw', 'GATS5v', 'SpAbs_RG', 'SM15_AEA(bo)', 'nArCOOR', 'RTm', 'nP(=O)R3/nPR5', 'B02N-I', 'CATS3D_00_AN', 'SM12_AEA(ri)', 'CATS2D_02_AN', 'ATSC1v', 'Eta_betaP_A', 'F02B-B', 'VR1_B(m)', 'SpAD_AEA(bo)', 'B04Br-Br', 'SpMax_B(v)', 'B03O-X', 'F09B-X', 'F02Cl-X', 'CATS3D_13_PL', 'Mor18e', 'SpMaxA_Dz(Z)', 'Mor01v', 'R2i+', 'Eig08_AEA(ed)', 'CATS3D_13_AN', 'F08O-Cl', 'SssssN+', 'Gu', 'CATS3D_03_PN', 'B10Cl-Si', 'H8v', 'RDF085m', 'CATS2D_05_NN', 'P2i', 'L3u', 'B03P-I', 'CATS2D_07_PL', 'Km', 'Mor14p', 'B06P-Si', 'J_B(p)', 'TDB09v', 'F09O-I', 'F06N-Br', 'VE1_G/D', 'Mor22u', 'SpMin5_Bh(p)', 'ATS3e', 'SM10_AEA(dm)', 'F05Br-I', 'VE2sign_B(m)', 'H8m', 'B03O-F', 'B03N-O', 'B05P-Cl', 'RDF020s', 'F07I-I', 'P2e', 'CATS3D_04_PL', 'B03N-Si', 'CATS3D_12_NL', 'RDF085s', 'BIC0', 'Wi_G', 'VR3_B(p)', 'Mor12s', 'B01S-Br', 'MATS6s', 'F02B-Si', 'JGI4', 'TDB08p', 'F06Br-B', 'Eig02_EA(ri)', 'B06N-O', 'F01Cl-X', 'G(Br..Br)', 'NsCl', 'Eig01_EA', 'Eig06_AEA(ri)', 'B09C-N', 'VR1_B(s)', 'GATS5s', 'SpMin3_Bh(p)', 'C-030', 'B08C-B', 'SpPosLog_B(p)', 'Mp', 'JGI8', 'nArCONH2', 'F04C-Si', 'Eig05_EA(dm)', 'CATS2D_06_AP', 'SpMax4_Bh(s)', 'B08C-N', 'F05C-Si', 'B04I-I', 'F07Br-X', 'F10P-Br', 'B06Si-Si', 'CATS3D_17_PL', 'J_A', 'L1e', 'SpMAD_G', 'H0s', 'N-075', 'B04F-B', 'R8u+', 'ATS1m', 'nSO2N', 'B04Br-Si', 'B10N-N', 'F04Br-X', 'SpMax3_Bh(v)', 'RDF125u', 'F01O-O', 'X5A', 'F01O-Cl', 'RDF070i', 'MATS7s', 'B10P-I', 'CATS3D_09_AP', 'SM02_AEA(bo)', 'F10F-B', 'SpMAD_AEA(bo)', 'Eig03_EA', 'F06N-I', 'B07C-I', 'T(O..P)', 'HATS5i', 'F03O-B', 'H0m', 'F03O-F', 'B06P-Cl', 'B08I-Si', 'Eig09_AEA(ed)', 'F06Cl-B', 'F07F-I', 'MATS5e', 'B01S-I', 'R6v', 'CATS3D_00_AL', 'L2m', 'Mor18p', 'SM4_Dz(v)', 'HATS8s', 'RDF150s', 'B06F-Cl', 'QXXp', 'QYYp', 'QZZe', 'B03O-O', 'Eig14_EA(bo)', 'Mor03i', 'Uindex', 'E1m', 'NaaaC', 'VR1_B(e)', 'B10C-B', 'B05N-F', 'CATS2D_05_AP', 'F06N-N', 'Mor17i', 'SdCH2', 'C-034', 'H3s', 'NssPH', 'CATS3D_10_DN', 'Mor24u', 'L1m', 'Mor05v', 'RDF145e', 'Ho_D', 'B07P-Si', 'B02F-Cl', 'CATS3D_12_AN', 'Mor23m', 'C-016', 'Mor15p', 'CATS3D_02_LL', 'B04B-Si', 'B05Cl-Si', 'F04Br-Br', 'SP06', 'SpPosA_RG', 'B05P-Br', 'Chi_Dt', 'B01Cl-Si', 'SM03_AEA(ri)', 'F09F-F', 'Mor09v', 'SpMaxA_B(e)', 'Psi_i_s', 'HATS6s', 'Eig06_EA(dm)', 'B03O-Si', 'X2Av', 'B08N-O', 'DLS_04', 'F09N-S', 'L3s', 'Mor30v', 'SpMin7_Bh(s)', 'NsssNH+', 'B09S-P', 'SpMin1_Bh(e)', 'F07F-Cl', 'Eig02_EA(ed)', 'B07C-S', 'F-084', 'F09F-Cl', 'SM4_G/D', 'SpPosLog_G', 'B02Cl-B', 'B06N-S', 'B03Si-Si', 'G(Br..I)', 'CATS3D_06_DD', 'SsssSnH', 'B07S-B', 'Eig03_EA(dm)', 'TDB03u', 'B09N-Cl', 'F01C-Br', 'F02S-X', 'Eig14_AEA(ri)', 'B06N-F', 'CATS3D_13_AL', 'F03N-N', 'F03F-X', 'Eta_F', 'NdsCH', 'B10Br-B', 'nN(CO)2', 'MATS7e', 'nRSR', 'nAB', 'CATS3D_16_LL', 'N-067', 'SpMaxA_G/D', 'B06I-B', 'SPAN', 'F07Cl-Si', 'F06O-P', 'G(O..Br)', 'Se-065', 'Eig13_EA(ed)', 'nN=N', 'CATS3D_10_PP', 'PW2', 'B07N-Si', 'F04N-N', 'B07P-F', 'B03C-B', 'RDF110p', 'DLS_05', 'CATS3D_19_NL', 'E3u', 'Mor31p', 'R1m+', 'F08C-B', 'CATS3D_09_DN', 'F10Cl-Si', 'Mor21p', 'CATS2D_09_PP', 'RDF110s', 'AVS_RG', 'RDF145i', 'H7e', 'IDDM', 'B07Si-X', 'F04I-B', 'SM10_EA', 'VE1_B(e)', 'F10X-X', 'SpMAD_EA(bo)', 'CATS3D_06_PP', 'nCt', 'B08P-B', 'F04S-S', 'SM3_RG', 'B05N-B', 'B05I-Si', 'B07N-F', 'F05P-B', 'HyWi_D', 'Mor25p', 'SM13_AEA(dm)', 'Mor28v', 'Mor18m', 'CATS3D_05_AP', 'E2v', 'CATS3D_19_AN', 'H%', 'F01N-F', 'SP04', 'B03B-B', 'SM07_EA(bo)', 'Chi_H2', 'CIC2', 'T(S..F)', 'HATS0p', 'F09O-F', 'B08S-Br', 'DP05', 'F02N-P', 'SpMin6_Bh(m)', 'TRS', 'SpMin6_Bh(s)', 'B04C-X', 'Mor12p', 'SdsssP', 'IDMT', 'Mor06i', 'B03Cl-X', 'SssSnH2', 'SMTI', 'ATSC2s', 'G2s', 'SM03_EA', 'F09N-B', 'CATS3D_07_AP', 'SpMin5_Bh(m)', 'B08S-Si', 'R5m', 'B07B-Si', 'F07O-X', 'SM08_EA(ed)', 'DP06', 'L2i', 'Mor05i', 'E3s', 'H2u', 'F-101', 'B04Br-X', 'SM08_EA(bo)', 'B04O-P', 'Ho_L', 'TI1_L', 'B02O-Si', 'G(P..Br)', 'F07N-F', 'P_VSA_p_3', 'HATS2e', 'B07F-I', 'SpAbs_B(m)', 'F03Br-B', 'SM13_EA(ed)', 'CATS3D_15_AA', 'RDF090m', 'SM07_AEA(ri)', 'B07F-Br', 'CATS3D_00_LL', 'nCIR', 'CATS3D_07_DA', 'TDB07s', 'SssGeH2', 'B06N-X', 'SddssS', 'F07N-Cl', 'HATS5s', 'SRW03', 'F02O-Si', 'F03O-S', 'Eig04_EA(dm)', 'SM13_AEA(ed)', 'B10F-Si', 'B09O-P', 'SpDiam_AEA(ri)', 'SM09_AEA(ed)', 'CATS3D_01_PL', 'CATS3D_00_PL', 'SM12_AEA(bo)', 'SM13_AEA(bo)', 'DP08', 'B01F-F', 'B03Cl-Si', 'F03P-P', 'RDF085p', 'Ap', 'CATS3D_14_AP', 'Mor32e', 'CATS3D_10_AL', 'Chi_Dz(i)', 'F10N-Si', 'O-058', 'B09F-Si', 'X0A', 'Qindex', 'SM6_G/D', 'G(O..I)', 'SM06_EA(dm)', 'GATS1e', 'RDF145p', 'F05C-F', 'R5e', 'N-071', 'HATS3p', 'R5u+', 'B05F-Cl', 'SpMax6_Bh(e)', 'SM04_AEA(dm)', 'F01N-X', 'RDF080v', 'Mor16u', 'HTp', 'F02C-S', 'F01S-Br', 'Mor17e', 'F03I-Si', 'SpPosA_Dt', 'X1A', 'VE3_B(e)', 'Mor16s', 'N-078', 'Mor05p', 'ATS5p', 'CMBL', 'G1e', 'F01S-P', 'L3m', 'X1Av', 'SpMax_Dz(v)', 'B06O-I', 'F03N-P', 'TIC5', 'B01O-S', 'F09N-N', 'CATS2D_09_DP', 'HATS4i', 'CATS2D_01_DA', 'F01N-Br', 'NssssSi', 'F09C-Cl', 'SdsN', 'RDF105m', 'T(P..Br)', 'B06F-Si', 'Eig15_AEA(ri)', 'CATS3D_13_DD', 'HATS0m', 'F08C-P', 'Chi_B(m)', 'SM14_AEA(ri)', 'Mor25m', 'nArNR2', 'B09F-I', 'SM15_EA(dm)', 'F01I-Si', 'F02I-Si', 'B07C-Si', 'B06S-I', 'QXXe', 'F02N-N', 'Mor30s', 'SaasN', 'F06N-Cl', 'G(S..Br)', 'ISH', 'CATS3D_00_DN', 'RTp+', 'F09N-F', 'RDF010s', 'F04Cl-I', 'B02Cl-Br', 'AVS_Dt', 'SP01', 'Mor31e', 'F04P-Si', 'F04P-B', 'L3v', 'F03B-Si', 'B10P-Br', 'nR10', 'GATS5e', 'Eta_L', 'B03S-Si', 'F04I-I', 'SpMAD_H2', 'SM04_EA(dm)', 'GGI7', 'nR#CX', 'Sp', 'F02I-B', 'F05Si-Si', 'SM2_B(m)', 'CATS2D_05_AA', 'F04O-B', 'CATS3D_16_PP', 'P-118', 'B03P-Cl', 'B08N-Cl', 'B09C-Br', 'F06F-B', 'SM09_EA(ri)', 'SpAD_Dz(e)', 'F02C-C', 'F10N-Br', 'SpMin5_Bh(v)', 'nArSCN', 'CATS2D_08_PL', 'B07S-P', 'P_VSA_p_1', 'SpAD_B(i)', 'NsssN', 'B02Si-X', 'CATS3D_04_DN', 'SM5_Dz(Z)', 'WiA_B(i)', 'SM12_EA(dm)', 'SM3_Dz(i)', 'B03C-O', 'RDF115v', 'CID', 'EE_D/Dt', 'B09S-X', 'F08C-S', 'Mor07m', 'B03B-X', 'CATS3D_19_NN', 'F03S-F', 'SpDiam_D/Dt', 'Mor10s', 'F08S-F', 'B09P-Cl', 'nArCONR2', 'Eig05_AEA(ri)', 'ATSC2p', 'CATS3D_02_NL', 'Mor06u', 'F05Cl-Cl', 'Mor11v', 'B02N-S', 'RDF055s', 'RDF015e', 'RDF150e', 'F05O-Cl', 'Eig05_AEA(bo)', 'F02S-P', 'CATS2D_02_AA', 'F05S-X', 'RDF100p', 'F05O-O', 'MPC01', 'RDF045i', 'F10O-Cl', 'SM07_AEA(bo)', 'B05N-I', 'F01Cl-B', 'RDF065p', 'B03C-N', 'B02I-B', 'C-019', 'RDF095u', 'B02S-I', 'NaaSe', 'CATS2D_00_DN', 'R1i', 'Eig11_AEA(bo)', 'F07S-F', 'F08C-I', 'CATS3D_00_DD', 'nN-N', 'RTe', 'SM4_Dz(e)', 'Wi_RG', 'Eig08_EA(ed)', 'CATS2D_07_AN', 'CATS3D_05_PN', 'F08B-Si', 'B04B-B', 'SM12_AEA(ed)', 'B06N-I', 'PJI2', 'SM6_X', 'Chi_G/D', 'CIC0', 'Eig10_AEA(ri)', 'VE3_B(s)', 'B10O-S', 'CATS3D_19_DA', 'R1s+', 'CATS3D_08_AA', 'F02C-Cl', 'Eig09_AEA(dm)', 'B06P-I', 'B05O-Si', 'NsssSnH', 'B09P-Br', 'F-081', 'TDB03m', 'H2i', 'F06O-Si', 'Eig04_EA(ri)', 'F05B-B', 'B06B-Si', 'B05Br-X', 'F07N-O', 'TDB05r', 'SpMax2_Bh(e)', 'X5v', 'F07C-F', 'HyWi_Dz(m)', 'GATS7p', 'SRW08', 'B10S-Si', 'TDB05m', 'R6m', 'B03F-B', 'B01X-X', 'AVS_D', 'CATS3D_10_NL', 'Si-111', 'GGI1', 'SM5_RG', 'Eig03_AEA(bo)', 'DP11', 'F04S-I', 'B06X-X', 'HTs', 'RDF150u', 'nHBonds', 'F08P-Si', 'Ho_B(m)', 'Mor02s', 'SdssS', 'CATS3D_03_NL', 'CATS3D_04_DD', 'SsssNH+', 'B08C-C', 'F01P-I', 'F03S-Cl', 'GATS2i', 'TDB04u', 'F06S-Br', 'F03Cl-Si', 'B04P-Br', 'nThiranes', 'B10N-B', 'G(O..P)', 'F02B-X', 'B04S-Cl', 'B08C-S', 'CATS2D_02_NL', 'C-027', 'MATS8p', 'F04Cl-Si', 'F06P-Br', 'B05F-F', 'nHM', 'H5u', 'RDF050i', 'X4sol', 'CATS3D_19_LL', 'GATS8s', 'HATS1i', 'SssssPb', 'B01S-P', 'B01N-I', 'SM3_G', 'L2u', 'RDF155u', 'B02C-X', 'S-107', 'F10C-P', 'Eig07_EA(ed)', 'CENT', 'DP17', 'SpMax_AEA(bo)', 'NssNH2+', 'B07Si-Si', 'B02I-X', 'F06S-X', 'NsF', 'C-008', 'F08S-Si', 'B04S-S', 'TDB06s', 'F09P-F', 'CATS3D_05_AL', 'F04N-Si', 'ATS1p', 'QZZp', 'NsOH', 'TDB01r', 'SM2_G', 'R6p+', 'CATS3D_01_DP', 'B06C-I', 'B07I-X', 'F09S-S', 'G(S..P)', 'RTv', 'R8v', 'R6s', 'Mor19p', 'CATS2D_08_DP', 'F08Br-Si', 'B03P-F', 'SM4_L', 'F05I-B', 'VR2_G/D', 'B05C-I', 'WiA_B(p)', 'VE3_B(m)', 'B01O-F', 'NdsN', 'RDF090p', 'Mor15e', 'P_VSA_p_4', 'Chi_G', 'F10F-Cl', 'nSK', 'SM13_EA(dm)', 'F03O-P', 'B06F-I', 'MATS5i', 'R7v+', 'SM09_AEA(dm)', 'EE_X', 'X2A', 'Eig10_AEA(bo)', 'RDF035u', 'Ki', 'F03Si-X', 'B04C-O', 'B03N-I', 'F03I-X', 'Eig15_EA', 'C-031', 'B09N-P', 'Br-094', 'RDF130p', 'HIC', 'Mor14i', 'CATS3D_00_AP', 'H1p', 'CATS3D_04_LL', 'VR1_B(v)', 'CATS3D_05_AN', 'SpMax_Dz(m)', 'Mor17m', 'F09Si-Si', 'C-001', 'SpMax4_Bh(p)', 'F03N-Cl', 'Mor01i', 'B10N-P', 'Psi_e_A', 'PW3', 'R3v+', 'CATS2D_03_AP', 'Eig09_AEA(bo)', 'F02F-Si', 'Mor19v', 'B09C-S', 'B08B-B', 'SpMax6_Bh(v)', 'R4v', 'HATS6i', 'F09N-Si', 'Eig05_AEA(dm)', 'E2e', 'F10Br-Si', 'nArOH', 'F08Cl-B', 'C-029', 'RDF060v', 'B08S-S', 'E2p', 'CATS3D_17_LL', 'Mi', 'CATS2D_05_PP', 'ATSC1i', 'F05C-S', 'ATS5m', 'HyWi_Dz(p)', 'B06S-P', 'SpMax5_Bh(m)', 'MATS8s', 'DBI', 'G(N..N)', 'Mor07i', 'CATS3D_14_PL', 'B02P-B', 'Mor28s', 'SpMaxA_B(s)', 'TDB04r', 'B07B-B', 'nN+', 'C-039', 'nThioethanes', 'RDF095i', 'F02F-X', 'F01N-O', 'B05B-X', 'NdsssP', 'F07C-C', 'B04P-Cl', 'B02S-S', 'Eta_betaP', 'SaaSe', 'SRW02', 'SpMin8_Bh(v)', 'CATS2D_08_DL', 'SpAD_G/D', 'B09C-Cl', 'H4u', 'Eig07_EA(bo)', 'B02S-Cl', 'B10C-S', 'R2m', 'MPC06', 'B10O-O', 'HNar', 'NssSnH2', 'RDF060u', 'Wi_B(i)', 'F10S-S', 'F06B-B', 'TDB04i', 'F09N-Cl', 'B02Cl-I', 'B10O-Br', 'NdS', 'MATS7p', 'B10O-F', 'CATS2D_02_LL', 'nArCSSH', 'Ho_Dz(v)', 'F09Br-B', 'B04P-B', 'Dz', 'HyWi_H2', 'Mor29v', 'Chi1_EA(bo)', 'G(S..I)', 'F05P-Cl', 'F04Cl-X', 'Mor28m', 'RDF030m', 'B05S-F', 'P-117', 'Mor28u', 'B08O-O', 'Mor26u', 'B09N-S', 'CATS3D_02_AN', 'B01S-X', 'B03O-Cl', 'R3s+', 'B07O-Br', 'SM05_EA(ed)', 'G(N..I)', 'RDF095p', 'nTriazoles', 'B02F-B', 'SssSe', 'CATS2D_01_DN', 'Chi1_EA(ri)', 'SpMin3_Bh(v)', 'DISPm', 'Se-064', 'B08B-Si', 'Eig08_EA(dm)', 'R1p', 'CATS3D_01_NN', 'B04F-X', 'CATS3D_18_AA', 'F05S-Cl', 'AVS_G', 'Eig02_EA(dm)', 'F10N-B', 'F04O-Br', 'Mor31u', 'Mor22s', 'Mor24m', 'GGI9', 'Eig06_EA(bo)', 'Am', 'B06C-Br', 'SpMax5_Bh(e)', 'F02P-P', 'SM04_AEA(bo)', 'H_Dz(e)', 'CATS3D_08_DA', 'ChiA_B(s)', 'Yindex', 'Mor27s', 'AVS_Dz(Z)', 'RDF130u', 'B09Cl-Br', 'P2m', 'F03N-S', 'Mor12e', 'SM6_Dz(e)', 'F10O-P', 'F01C-Si', 'VE3_L', 'CATS2D_05_LL', 'B08C-F', 'RDF120m', 'Eig11_EA(ri)', 'P2u', 'DISPv', 'TDB07r', 'B01Cl-B', 'F07O-Si', 'T(N..N)', 'F01F-X', 'G(F..Br)', 'B08Br-Br', 'P1s', 'F03N-X', 'F02Si-X', 'RDF070m', 'B10S-S', 'Psi_i_0d', 'B03Cl-Cl', 'nR=Ct', 'B01B-Si', 'SpMax2_Bh(m)', 'SpAbs_Dz(m)', 'StsC', 'X4', 'TDB09m', 'E3e', 'SpDiam_Dz(m)', 'CATS3D_14_PP', 'P_VSA_e_4', 'Mor12m', 'Mor25i', 'SAacc', 'T(N..P)', 'CATS3D_13_NN', 'X1Mad', 'B03F-Cl', 'CATS3D_14_NL', 'CATS2D_09_NL', 'SM05_AEA(ed)', 'C-005', 'ATS5s', 'Eig11_EA(bo)', 'CATS2D_08_DD', 'RTp', 'SM13_EA(ri)', 'F09S-X', 'RDF055p', 'H5s', 'CATS3D_03_AP', 'F04S-X', 'F10I-Si', 'F04Cl-B', 'SpMaxA_RG', 'CATS3D_13_AA', 'SM1_Dz(Z)', 'HGM', 'ATS5v', 'CATS3D_08_PL', 'F01I-X', 'CATS3D_03_PL', 'F01P-X', 'F01C-C', 'Mor13u', 'Wi_Dz(v)', 'F01Br-Si', 'B09P-Si', 'SpMaxA_Dt', 'ZM1MulPer', 'F02O-I', 'F05P-Si', 'B09C-C', 'SpMax_A', 'SpMax8_Bh(m)', 'F01Cl-Si', 'SM10_EA(ri)', 'B02I-I', 'Ho_Dz(p)', 'SM2_D', 'ATS3p', 'B04O-Cl', 'SP03', 'SM1_Dz(m)', 'CATS2D_05_DL', 'RDF110v', 'MATS3i', 'B09P-B', 'Mor23e', 'CATS3D_12_DA', 'SaasC', 'B04N-I', 'F02F-B', 'N-076', 'F06C-S', 'CATS3D_10_AN', 'B09S-B', 'F04C-Cl', 'GATS1v', 'F08O-P', 'B03S-I', 'RDF010v', 'B05F-Br', 'B10I-B', 'CATS3D_14_AN', 'B09F-B', 'HATS2p', 'R1m', 'Mor24p', 'nSOH', 'B07N-S', 'CATS3D_18_PP', 'F03N-Br', 'nOxazoles', 'B04P-F', 'O-063', 'N-068', 'SsPbH3', 'nPyrimidines', 'nRNH2', 'Eig15_EA(ri)', 'TDB10p', 'Eig13_EA(ri)', 'CATS3D_01_NL', 'SpMax_D', 'DP20', 'TDB03r', 'HTi', 'B05F-X', 'B05F-B', 'TDB02e', 'SdS', 'C-040', 'F10N-S', 'B09C-F', 'B04C-I', 'nR08', 'B07C-P', 'RDF010p', 'SM2_H2', 'nAzetidines', 'P_VSA_e_1', 'B05O-F', 'nHAcc', 'B01C-C', 'B02N-F', 'C-009', 'RDF040m', 'SpMaxA_EA(ed)', 'B01P-B', 'ATSC5m', 'B07Cl-Br', 'B02S-Si', 'RDF055m', 'CATS3D_15_LL', 'F05Cl-Si', 'SP16', 'HATS7i', 'GNar', 'G3i', 'F01N-P', 'CATS3D_04_DL', 'SsSnH3', 'SsPH2', 'Eig01_AEA(bo)', 'RDF090e', 'SM10_EA(ed)', 'B06Cl-X', 'CATS3D_09_PP', 'B01N-X', 'Mor28i', 'Chi1_AEA(ri)', 'F10F-Br', 'SM10_AEA(bo)', 'F06Si-X', 'F01O-P', 'SpMax7_Bh(v)', 'nR#CH/X', 'B09Si-Si', 'C-024', 'Eta_FL_A', 'CATS3D_10_AP', 'ATS6e', 'SM2_RG', 'F07S-Si', 'B01O-I', 'R8p', 'F04F-Cl', 'SpPosLog_Dz(m)', 'R5u', 'CATS3D_15_AP', 'SM14_AEA(dm)', 'TDB07p', 'TDB03i', 'nRCSOH', 'SpMin2_Bh(s)', 'X4v', 'R5m+', 'SpAbs_B(s)', 'B08N-X', 'B02N-Si', 'SpMin4_Bh(s)', 'B09Cl-Cl', 'F07O-F', 'F04C-Br', 'GATS1i', 'ATS4e', 'F09X-X', 'SM6_Dz(p)', 'SpPosA_Dz(e)', 'F07S-Br', 'SP20', 'R2e+', 'F07Cl-I', 'F06N-X', 'SpMax_D/Dt', 'SpPos_D', 'SRW07', 'nH', 'F05C-Br', 'GATS7m', 'VR2_B(e)', 'DP10', 'F03C-Si', 'H7m', 'ZM1Mad', 'SddsP', 'RDF085u', 'RDF140u', 'B05N-O', 'F07N-X', 'F09N-I', 'SNar', 'BIC5', 'CATS3D_11_DP', 'B03F-X', 'B10P-F', 'Mor09i', 'F10S-Cl', 'B09Cl-I', 'Eig08_EA(bo)', 'P_VSA_s_5', 'SPAM', 'H_Dz(p)', 'CATS2D_09_DL', 'B08F-B', 'SpMax3_Bh(e)', 'SpPos_G', 'B04B-X', 'G3s', 'NddsP', 'nArX', 'Mor23p', 'SpDiam_B(i)', 'P_VSA_e_5', 'B07F-B', 'MAXDN', 'nCL', 'SpMax6_Bh(s)', 'GMTI', 'B08Cl-I', 'RDF130e', 'H_G/D', 'CATS3D_15_DP', 'ATSC6p', 'F07P-X', 'R2i', 'B06N-B', 'T(P..Cl)', 'F08O-S', 'SssBH', 'CATS3D_07_NL', 'SpMax_EA(bo)', 'F07O-I', 'ATS5i', 'B01B-X', 'CATS3D_08_LL', 'B05Br-B', 'F04C-B', 'Mor20p', 'RDF125s', 'nHet', 'B03S-Br', 'F09F-I', 'B02N-B', 'CATS2D_00_DA', 'B09N-I', 'B02C-I', 'B09O-Cl', 'SM04_EA(ed)', 'I-099', 'R8e', 'B06O-Br', 'F07P-Br', 'Mor09m', 'Mor26i', 'RDF080p', 'F09S-I', 'F10C-O', 'SpMin2_Bh(m)', 'SM2_B(i)', 'SM4_B(m)', 'SpMax2_Bh(p)', 'R8i', 'SpPosA_H2', 'CATS2D_00_AP', 'F02F-I', 'B07P-Cl', 'SM1_B(i)', 'F01P-F', 'H2p', 'C-006', 'ON1', 'P_VSA_MR_5', 'SpMin8_Bh(p)', 'Eig12_AEA(bo)', 'ChiA_H2', 'nRCOOH', 'NsssPbH', 'HATS7s', 'F05P-P', 'F01O-X', 'RDF050p', 'B08N-Si', 'R8s', 'F03F-Si', 'B04N-Cl', 'O-057', 'ChiA_Dz(v)', 'nRSSR', 'Mor02m', 'F01N-B', 'R6v+', 'Mor12v', 'C-023', 'RDF135e', 'RDF050s', 'SpMax5_Bh(i)', 'RDF140e', 'B01P-Br', 'B06Cl-I', 'Vi', 'JGI5', 'B06Cl-Si', 'CATS3D_07_DN', 'RDSQ', 'SpPos_RG', 'B10C-F', 'Mor17u', 'nCb-', 'CATS3D_04_AL', 'F02S-Cl', 'SpAD_AEA(ri)', 'SHP2', 'SpMaxA_Dz(p)', 'X1sol', 'VE1_B(s)', 'C-044', 'MATS1i', 'F02N-F', 'Eta_alpha_A', 'F01O-B', 'F05I-Si', 'SpPosA_L', 'H3u', 'B10B-Si', 'De', 'Dp', 'SpAD_D/Dt', 'F01N-Si', 'RDF010m', 'F04F-I', 'SM10_AEA(ed)', 'F07C-B', 'F08Cl-Si', 'CATS2D_04_DA', 'H-050', 'Mor20v', 'ATS8e', 'Mor03v', 'C-007', 'CATS3D_14_PN', 'B03F-I', 'B07S-Cl', 'CATS2D_00_DP', 'B01Br-Si', 'B06Cl-Cl', 'F04N-Br', 'G(O..O)', 'Eta_sh_y', 'F10B-B', 'SpPosA_D', 'F06N-P', 'F10P-F', 'HyWi_B(e)', 'N-077', 'MATS8m', 'nC=S', 'Chi1_AEA(dm)', 'n124-Triazines', 'CATS3D_12_PN', 'Ho_Dz(i)', 'CATS2D_09_AL', 'GATS8i', 'Wi_Dz(Z)', 'B04C-Cl', 'CATS3D_19_DP', 'TI2_L', 'CATS3D_11_AN', 'CATS2D_08_PN', 'nRCOSR', 'B03N-Cl', 'GATS8m', 'B10C-P', 'SPI', 'H6u', 'CATS2D_00_DL', 'B09Br-Si', 'SdNH', 'CATS3D_15_DL', 'Mor01u', 'F03S-S', 'B08O-I', 'CATS3D_02_PN', 'E3i', 'CATS3D_05_DA', 'B04P-I', 'IC4', 'T(N..S)', 'F08Si-X', 'TDB10i', 'VR1_RG', 'RDF140p', 'PHI', 'B09Si-X', 'CATS2D_06_PL', 'B06C-Cl', 'F10B-Si', 'CATS3D_19_PP', 'B05S-X', 'F10S-X', 'CATS3D_10_DA', 'F06Br-Br', 'B02Cl-Si', 'B08C-Si', 'CATS2D_03_DP', 'F06N-B', 'R3m+', 'F04S-F', 'SpMax7_Bh(p)', 'ATSC8s', 'F05Cl-B', 'T(O..S)', 'HATS6u', 'CATS3D_12_AL', 'Mor12i', 'F05F-Si', 'F05F-B', 'H8p', 'F10C-I', 'RDF060s', 'ATSC6e', 'B03S-B', 'GD', 'DLS_02', 'H4m', 'B02Br-I', 'SpMAD_D', 'NdSe', 'F09N-O', 'ATSC3e', 'SRW04', 'F08P-Br', 'Eig06_AEA(ed)', 'MATS8e', 'H7i', 'CATS3D_08_AP', 'ChiA_B(m)', 'SM15_AEA(dm)', 'GATS5p', 'RDF040v', 'F09Cl-Br', 'AVS_B(e)', 'B08P-Si', 'HTu', 'B04Si-X', 'B06P-X', 'Mor04u', 'B10N-Si', 'QXXm', 'CATS3D_17_DL', 'TDB05v', 'C-002', 'B01S-B', 'F01P-Br', 'Ho_B(v)', 'F04N-P', 'nCR2X2', 'F08F-B', 'nRCNO', 'Eig13_AEA(ed)', 'B04C-N', 'F08S-X', 'P1p', 'SpAD_B(s)', 'nRNO', 'F04N-O', 'SsNH2', 'SM6_B(m)', 'B02O-Br', 'piPC08', 'TDB03v', 'CATS2D_05_NL', 'B01F-I', 'RDF040u', 'B05P-X', 'B09S-Br', 'F03O-Br', 'SpMin2_Bh(e)', 'nCsp2', 'SM07_AEA(ed)', 'B09O-O', 'F06Cl-Si', 'B07I-Si', 'nIsothiazoles', 'F03B-B', 'nRC=N', 'F04C-P', 'TIC3', 'CATS2D_08_NL', 'P_VSA_v_3', 'nArCNO', 'Tm', 'Mor03m', 'SM6_Dz(m)', 'Mor30u', 'R4e', 'F02O-Cl', 'P_VSA_i_1', 'NsssAs', 'F05Cl-X', 'WiA_Dz(e)', 'nCH2RX', 'B02B-X', 'F04O-S', 'L1v', 'B02F-Br', 'Dm', 'F08Br-I', 'nOxolanes', 'F03O-X', 'nCs', 'F02Cl-I', 'SpMax8_Bh(v)', 'SpMaxA_D', 'F05O-Br', 'NaadN', 'H7p', 'B01I-B', 'SpPosLog_G/D', 'SpMAD_EA', 'SpMaxA_EA(bo)', 'CATS2D_06_NL', 'SIC2', 'ZM2Mad', 'VE2_G/D', 'ATS4m', 'JGI3', 'SM3_X', 'nOxiranes', 'WiA_B(s)', 'J_Dz(e)', 'TDB05s', 'F10O-F', 'MEcc', 'B02F-Si', 'L3p', 'TIC1', 'Mor02e', 'ATSC8m', 'ChiA_Dz(m)', 'QW_L', 'SM5_Dt', 'RDF035s', 'RDF055v', 'F06P-I', 'B04N-B', 'F04F-Br', 'F08N-X', 'F02N-B', 'P_VSA_MR_2', 'DP01', 'X3sol', 'B03S-F', 'Mor09u', 'VR2_B(s)', 'B09O-I', 'B05Br-Br', 'SM6_G', 'H8u', 'Eig04_AEA(ed)', 'ATS7s', 'F03Cl-X', 'GATS3v', 'B03C-X', 'B06Cl-Br', 'GATS6s', 'P_VSA_v_1', 'SM03_AEA(bo)', 'TDB01u', 'nR11', 'RDF065m', 'B07F-X', 'CATS2D_01_NL', 'F09S-Br', 'B05S-B', 'CATS3D_04_AP', 'B09C-P', 'H0u', 'B01O-X', 'SM14_AEA(ed)', 'R2v+', 'F01F-Cl', 'T(N..Br)', 'Rperim', 'EE_RG', 'S2K', 'SpMaxA_B(v)', 'Mor29s', 'MWC02', 'CATS2D_07_PN', 'SM05_EA(dm)', 'SM07_EA(ri)', 'RDF125v', 'CATS3D_00_PN', 'R1v', 'IDE', 'RTi+', 'SpMAD_Dz(v)', 'B09Cl-X', 'ATS2e', 'F06I-X', 'F09F-Si', 'nR09', 'HATS5v', 'RDF050u', 'B06C-N', 'SpAbs_B(e)', 'CATS3D_07_AN', 'SpMaxA_AEA(ri)', 'R2p', 'F07O-P', 'F04P-I', 'B09B-B', 'ChiA_RG', 'Mor21e', 'Eig14_EA', 'F06F-Br', 'B01N-B', 'nSH', 'B07F-F', 'ZM2Per', 'SRW10', 'F02Br-B', 'ATS8i', 'R4e+', 'F07P-P', 'RDF060m', 'F04P-X', 'TDB10r', 'CATS3D_07_PL', 'DLS_07', 'SpMAD_EA(ed)', 'HyWi_D/Dt', 'CATS2D_08_PP', 'B08N-I', 'B05C-Br', 'B01N-S', 'R5v+', 'Cl-089', 'Mor10u', 'Eig11_EA(dm)', 'ATS8v', 'SpAbs_B(i)', 'F07N-S', 'HyWi_G/D', 'B07Cl-X', 'nRCN', 'B09I-Si', 'J_H2', 'B09I-I', 'NaaO', 'RDF095v', 'CATS3D_00_AA', 'CATS3D_19_PL', 'B05N-Si', 'F04N-B', 'F01Br-X', 'SM6_Dt', 'SsssssAs', 'Chi_Dz(Z)', 'SM2_X', 'Ds', 'P_VSA_ppp_L', 'SM08_EA(ri)', 'VE2_B(e)', 'CATS2D_02_PP', 'F10S-Br', 'P-119', 'SpDiam_Dz(v)', 'Eig03_EA(ri)', 'B01I-Si', 'HATS1e', 'B06O-Si', 'O-056', 'TDB06p', 'CATS2D_09_AP', 'Mor26v', 'VvdwMG', 'TDB01m', 'CATS3D_18_NL', 'CSI', 'Vm', 'C-003', 'SM5_B(p)', 'B08O-F', 'B08N-Br', 'CATS3D_17_DA', 'MATS3m', 'CATS2D_05_DP', 'SM02_EA(dm)', 'CATS3D_09_PN', 'NddC', 'B08S-P', 'RDF085v', 'F06C-B', 'SM14_EA(ri)', 'H3e', 'SssCH2', 'Eig06_EA(ri)', 'H_D', 'ChiA_D/Dt', 'CATS2D_08_AP', 'B09F-Br', 'C-028', 'CATS2D_09_NN', 'F02P-Br', 'CATS2D_07_AA', 'B10F-Cl', 'F10N-N', 'F04O-Cl', 'SM06_EA(ri)', 'ChiA_G/D', 'GGI2', 'NaasC', 'B03Br-I', 'HyWi_Dz(i)', 'C-011', 'CATS3D_10_AA', 'F07C-Si', 'SpMax5_Bh(v)', 'ChiA_B(e)', 'nBT', 'H4v', 'Eig08_EA', 'F06S-I', 'SM5_B(e)', 'B05O-O', 'VE1_B(p)', 'SdSe', 'CATS3D_14_DL', 'B07O-I', 'CATS2D_01_PN', 'B03F-Si', 'CATS3D_15_AL', 'F09P-B', 'nSO4', 'CATS2D_03_AL', 'F04C-X', 'B08O-X', 'H5i', 'H_G', 'RDF075i', 'F04Br-I', 'F07O-Br', 'CATS3D_18_AL', 'F07F-Br', 'X0', 'F10I-B', 'SdNH2+', 'Mor20m', 'CATS3D_03_AN', 'Mor05e', 'F06N-F', 'B10Cl-X', 'F09Cl-B', 'B02P-Cl', 'CATS2D_00_AL', 'R4p+', 'B07N-P', 'G3m', 'VE2_B(m)', 'E2s', 'B02P-Br', 'SpDiam_EA', 'B08N-N', 'F04S-B', 'nH2O', 'B01F-Cl', 'B05N-P', 'VR2_L', 'ATSC2v', 'Eig06_AEA(dm)', 'P_VSA_m_4', 'EE_L', 'RDF130s', 'SpMax2_Bh(i)', 'B06Br-I', 'Mor25e', 'X0sol', 'C-038', 'P1i', 'nBeta-Lactams', 'SP15', 'ZM2V', 'F06Cl-I', 'H_Dz(m)', 'B07Br-X', 'CATS3D_05_DD', 'RDF155v', 'SdssSe', 'SM02_AEA(ed)', 'CATS3D_02_PP', 'SpMax7_Bh(m)', 'PCD', 'P_VSA_p_2', 'J_B(s)', 'CATS3D_11_AL', 'RDF115s', 'VR3_L', 'Eig07_EA', 'SpAD_RG', 'ZM1V', 'F02P-X', 'F07N-B', 'GATS2v', 'ATS8s', 'G(F..Cl)', 'CATS2D_05_AN', 'CATS3D_17_DN', 'B08Cl-Br', 'B07O-S', 'Mor04e', 'CATS2D_09_PL', 'F03F-F', 'P-115', 'SddssSe', 'CATS3D_14_NN', 'F03O-I', 'F04I-Si', 'F08Si-Si', 'Br-092', 'GATS5i', 'RDF155i', 'F05N-B', 'CATS3D_05_PP', 'SpDiam_B(e)', 'VE2sign_B(e)', 'Eig12_EA(bo)', 'Eig04_AEA(ri)', 'CATS3D_09_LL', 'B05C-X', 'B09I-X', 'NssS', 'F04F-Si', 'SM3_Dz(v)', 'RDF035p', 'CATS3D_17_AN', 'H7v', 'P_VSA_MR_8', 'SpDiam_Dt', 'Eig02_AEA(dm)', 'F08C-O', 'nNq', 'B09Cl-Si', 'Chi0_AEA(ed)', 'P_VSA_LogP_6', 'F10P-X', 'B07N-Br', 'SpMax7_Bh(i)', 'B04C-S', 'Mor23v', 'F08C-Si', 'B09S-Cl', 'B05C-Cl', 'B09S-S', 'GMTIV', 'F01O-Br', 'PW4', 'F03Cl-Cl', 'ATSC6i', 'Mor27v', 'Se', 'TDB06i', 'H-053', 'F09S-F', 'F02F-Cl', 'F06O-I', 'Ku', 'R3p', 'F03Cl-B', 'ON0V', 'F05N-O', 'N-069', 'F10Br-B', 'B07P-P', 'Eig11_EA(ed)', 'RDF065e', 'ATS8p', 'F09C-F', 'B05P-F', 'B10N-O', 'Eig05_AEA(ed)', 'F04O-X', 'B01C-X', 'B05Si-X', 'B04F-Cl', 'I-096', 'CATS3D_07_LL', 'F08P-F', 'F03C-I', 'NssNH', 'B06S-X', 'R3m', 'SM07_EA', 'G2m', 'B05S-Cl', 'F08Br-Br', 'SpMaxA_Dz(e)', 'SpMax_AEA(dm)', 'Mor07s', 'R1p+', 'R3p+', 'SpMaxA_L', 'AVS_Dz(m)', 'MATS5s', 'Mor04m', 'HyWi_G', 'B07C-C', 'B08X-X', 'SM04_AEA(ed)', 'SssNH2+', 'F09C-B', 'Mor03e', 'B06S-B', 'B01S-F', 'F07F-B', 'NsSH', 'RDF105p', 'B09C-B', 'AECC', 'SpAD_EA(bo)', 'HATS5m', 'F03F-B', 'RDF070s', 'SpDiam_B(v)', 'Cl-088', 'CATS2D_01_LL', 'SpPos_Dz(e)', 'R6e', 'HATS2m', 'F06S-Cl', 'ATS2v', 'B10C-Si', 'F07S-Cl', 'Ho_B(i)', 'Mor11m', 'CATS3D_01_AL', 'J_D/Dt', 'SM1_Dz(e)', 'Wi_H2', 'P1e', 'Eta_C_A', 'CATS3D_15_PN', 'QZZv', 'EE_B(m)', 'SssNH', 'Chi0_AEA(bo)', 'B02C-Si', 'Mor29u', 'GATS3m', 'F01Br-B', 'RDF080u', 'CATS3D_11_PL', 'HyWi_Dz(e)', 'B08P-Cl', 'RDF105v', 'J_G', 'VE1sign_G/D', 'Mor18i', 'ASP', 'SpMax_RG', 'SpPosLog_D', 'TDB09p', 'nS(=O)2', 'NddssS', 'CATS3D_10_PN', 'EE_B(i)', 'SpMin2_Bh(p)', 'HATS6m', 'R8p+', 'SpMaxA_B(p)', 'nO', 'B08Si-Si', 'Chi1_EA(dm)', 'H0e', 'nImidazoles', 'SsLi', 'RDF025u', 'SM03_AEA(dm)', 'NddssSe', 'F08S-Br', 'F10S-P', 'ATS5e', 'JGI1', 'B05S-I', 'CATS2D_04_DD', 'B09F-F', 'nArNHR', 'B01Br-X', 'B06Br-X', 'nROR', 'Mor30m', 'Eta_sh_x', 'F02N-S', 'MPC05', 'MATS1m', 'B08P-I', 'SpPosLog_B(i)', 'Mor08s', 'B01C-Si', 'B10N-I', 'B04Cl-Br', 'CATS3D_06_DA', 'HATS3e', 'Mor26e', 'F02Cl-Br', 'E1u', 'B03N-N', 'SM14_EA', 'AVS_G/D', 'E3m', 'Mor13m', 'SM5_B(m)', 'nCR3X', 'RDF065u', 'Eig13_EA', 'F09N-Br', 'SM4_B(e)', 'F05F-X', 'RDF150v', 'SpPos_B(m)', 'CATS2D_00_LL', 'GATS3i', 'nCHR2X', 'VE1sign_L', 'Mor09p', 'Eta_sh_p', 'CATS3D_03_DN', 'T(Br..I)', 'B09Br-X', 'R4u', 'SpPos_Dz(m)', 'nThiophenes', 'RDF135s', 'GGI8', 'F02F-Br', 'Eig12_EA', 'F05C-P', 'R7v', 'VE3sign_L', 'F02S-Br', 'F02N-Cl', 'H1m', 'Br-103', 'F07S-I', 'Cl-087', 'TDB08i', 'nTB', 'HATSv', 'G(F..I)', 'SpPosLog_X', 'IAC', 'F02F-F', 'NsssP', 'HATS0e', 'F08Cl-I', 'P_VSA_ppp_ar', 'CATS2D_01_PL', 'CATS2D_01_AA', 'B05Br-I', 'B02Br-Br', 'MATS2m', 'F04C-I', 'B01F-B', 'Vx', 'F05N-Br', 'SssPH', 'F07C-X', 'F08F-X', 'F10N-X', 'CATS3D_13_NL', 'B05P-Si', 'nArCOX', 'IC5', 'F06P-X', 'CATS3D_19_AP', 'F10O-I', 'TDB04v', 'C-004', 'SdsssAs', 'H0v', 'R6u', 'B04Cl-I', 'ntH-Thiophenes', 'CATS2D_05_DD', 'NsSiH3', 'RDF110i', 'F01P-B', 'WiA_H2', 'P_VSA_v_2', 'B01O-Br', 'GATS6p', 'F09C-P', 'F01S-B', 'DP12', 'nRCO', 'ATSC8e', 'F03I-I', 'B-112', 'F04P-Cl', 'G(S..F)', 'CATS3D_09_DL', 'P2s', 'Eig09_EA', 'Mor13i', 'B08S-Cl', 'RDF150i', 'H_Dz(Z)', 'F07Br-Si', 'F08S-S', 'B02O-I', 'Mv', 'F07F-X', 'B08I-I', 'F05X-X', 'Mor08e', 'Mor26p', 'HATS8v', 'P_VSA_ppp_con', 'ATS3m', 'T(O..Cl)', 'CATS3D_02_NN', 'MATS6e', 'B05C-B', 'MATS4s', 'Mor13s', 'RDF110u', 'ATSC2m', 'Mor15m', 'X5sol', 'F10N-Cl', 'MATS1p', 'SpMAD_Dt', 'RDF130m', 'TDB07e', 'Dv', 'F06F-I', 'Mor14e', 'B04I-X', 'nR=Cp', 'B03F-Br', 'TDB07m', 'SM6_L', 'B07Cl-I', 'F07N-Si', 'B05C-S', 'RDF060e', 'B05P-B', 'R3v', 'F07B-X', 'VE3_G/D', 'F06O-F', 'F02O-S', 'nI', 'CATS3D_10_PL', 'SpAD_D', 'SpPosLog_B(m)', 'B08N-P', 'ATSC6m', 'F09I-B', 'R8m', 'Wi_B(p)', 'MATS4v', 'Mor03p', 'CATS3D_14_DD', 'RDF115m', 'B06P-Br', 'nArCOOH', 'G2i', 'RDF050v', 'VR2_RG', 'Kv', 'F04X-X', 'B03N-P', 'F04S-Br', 'SpAD_A', 'HATSe', 'TIE', 'B09Br-B', 'H-054', 'B06S-Cl', 'Xu', 'F08O-I', 'F04B-X', 'CATS3D_12_AA', 'Eig02_AEA(ed)', 'nCbH', 'ATSC2i', 'TDB03e', 'CATS3D_09_AL', 'F04P-P', 'F04Si-X', 'B09O-B', 'CATS3D_12_DP', 'B08Cl-Cl', 'B02N-O', 'Chi1_EA', 'VE1sign_B(m)', 'F06P-F', 'TIC2', 'CATS2D_00_AA', 'F08O-X', 'F05C-B', 'F10P-P', 'TDB02v', 'F09S-P', 'F07P-Cl', 'SpAD_X', 'B08C-Br', 'SM12_EA', 'T(Cl..I)', 'Mor31s', 'F03F-Br', 'F05S-B', 'B07Cl-B', 'Eig15_AEA(bo)', 'RDF120v', 'Eig01_EA(ed)', 'L1i', 'SpMin1_Bh(s)', 'F06C-C', 'SpMAD_B(e)', 'NssssBe-', 'F07B-B', 'SM13_EA', 'SdO', 'nX', 'RDF035i', 'F03F-Cl', 'SpMax2_Bh(s)', 'H4s', 'ATSC3p', 'CATS3D_13_PN', 'B01P-I', 'F06S-B', 'B04O-F', 'Eig14_AEA(ed)', 'nCIC', 'TDB10e', 'GGI3', 'B01Br-B', 'R2m+', 'Br-091', 'CATS2D_00_DD', 'RDF130i', 'RDF040e', 'F05Si-X', 'RFD', 'F01P-P', 'B07S-X', 'F04B-Si', 'Eig05_EA(ri)', 'Mor22v', 'X1Per', 'B06C-P', 'VE1_L', 'SP10', 'B04I-B', 'F06O-X', 'SM3_H2', 'G(O..F)', 'SM5_Dz(p)', 'HATS2i', 'MWC09', 'Eig09_AEA(ri)', 'F02O-F', 'CIC5', 'F10O-S', 'EE_B(p)', 'F07S-X', 'RDF100u', 'B07S-I', 'B01C-I', 'B07P-Br', 'B03O-I', 'SM03_EA(ri)', 'SpPosA_X', 'VE1sign_B(p)', 'J_Dz(i)', 'CATS3D_13_LL', 'SM04_EA', 'F05B-Si', 'RTu+', 'SpDiam_Dz(i)', 'SM3_B(s)', 'SM08_AEA(ri)', 'SpPosA_B(v)', 'RDF080i', 'SM15_AEA(ed)', 'ON0', 'Eig14_EA(ri)', 'F02I-X', 'H6m', 'B07O-O', 'CATS2D_01_DL', 'RDF090u', 'B04S-P', 'F04N-I', 'Eig12_AEA(ri)', 'GGI5', 'B10F-F', 'SRW09', 'Kp', 'nCp', 'Br-093', 'nTA', 'F05N-I', 'B04C-C', 'H5e', 'F06O-Br', 'AVS_Dz(v)', 'B04S-I', 'F08F-Br', 'G(P..F)', 'TDB02p', 'B02P-I', 'B10Br-Br', 'TPC', 'B09I-B', 'CATS3D_14_AL', 'ZM2Kup', 'MATS4m', 'H4e', 'B09N-O', 'B09O-Si', 'CATS3D_08_NL', 'nArC=N', 'SM1_B(p)', 'F08N-S', 'RDF015i', 'T(F..Br)', 'B10F-X', 'nArCN', 'CATS3D_04_DA', 'Wi_D', 'F04C-C', 'O-061', 'n135-Triazines', 'T(F..I)', 'F09C-X', 'F-085', 'H5v', 'AVS_Dz(e)', 'B09B-Si', 'B09F-Cl', 'SpMin4_Bh(m)', 'SM03_EA(bo)', 'HATS2u', 'R4u+', 'F04B-B', 'MW', 'SpPosLog_RG', 'F01C-B', 'nC', 'CATS3D_16_PN', 'SpPos_B(i)', 'B03N-F', 'CATS2D_07_NL', 'SP19', 'P_VSA_ppp_P', 'F09C-N', 'F09C-O', 'F01S-I', 'NsBH2', 'B08Br-X', 'SssssssSe', 'VE3_B(v)', 'B03O-P', 'SpPos_Dt', 'TDB06u', 'F06O-Cl', 'nArOCON', 'B02C-F', 'HyWi_B(v)', 'RDF135v', 'CATS3D_05_LL', 'Xindex', 'SM1_Dz(i)', 'Mor02v', 'CATS2D_04_NN', 'Mor14m', 'SpMAD_Dz(p)', 'NsNH2', 'F01O-I', 'F03C-P', 'F01S-X', 'MATS3v', 'CATS3D_16_PL', 'SpAbs_G/D', 'R8s+', 'RDF015s', 'B04O-S', 'F07S-B', 'IDM', 'MWC08', 'Mor30p', 'CATS2D_06_NN', 'VE1_B(m)', 'Vp', 'R6i', 'ATSC1m', 'AVS_B(i)', 'P_VSA_m_5', 'QYYe', 'SpMaxA_Dz(m)', 'nPyrazoles', 'NtsC', 'SM10_AEA(ri)', 'Eig11_EA', 'SM14_EA(bo)', 'B06O-S', 'MWC04', 'F01Cl-I', 'B03Br-Br', 'RDF105i', 'SsAsH2', 'SssssssS', 'VE2sign_G/D', 'SpDiam_RG', 'ICR', 'Au', 'SpMaxA_Dz(v)', 'F08S-B', 'SM15_EA(ri)', 'B02Cl-Cl', 'CATS2D_02_DP', 'Eta_epsi_A', 'TDB10v', 'B03Si-X', 'Psi_i_1d', 'SM1_B(e)', 'B02O-P', 'cRo5', 'CATS2D_08_LL', 'F09O-O', 'B03C-S', 'NsssSiH', 'T(N..F)', 'H3v', 'SpPosLog_B(s)', 'B05F-I', 'SpAD_EA(ed)', 'RDF040p', 'SM2_Dz(m)', 'B05Cl-Cl', 'F08C-N', 'F03B-X', 'Mor32m', 'B07Cl-Si', 'SpPosLog_Dz(i)', 'TDB09r', 'B08B-X', 'NsGeH3', 'ATS6p', 'SpDiam_B(p)', 'SM4_B(p)', 'ATS3v', 'RDF115p', 'B01N-Si', 'HyWi_X', 'CATS3D_18_DL', 'SM3_B(i)', 'CATS3D_10_DL', 'MWC05', 'B02C-Br', 'CATS3D_06_DP', 'SpDiam_G/D', 'NssssSn', 'Psi_i_A', 'F09F-X', 'H-047', 'Mor18v', 'Ho_X', 'Mor09e', 'B04S-Si', 'F02I-I', 'CATS3D_19_PN', 'SM2_Dz(Z)', 'T(P..F)', 'Mor16v', 'TDB04e', 'SM6_Dz(Z)', 'C-042', 'CATS3D_07_NN', 'DP15', 'SssSiH2', 'Mor06s', 'D/Dtr07', 'F07Br-B', 'GATS3e', 'B04S-X', 'SsGeH3', 'H6e', 'F05N-Cl', 'NdssSe', 'F02Br-I', 'Psi_e_0d', 'RDF080s', 'SM6_H2', 'SpDiam_AEA(bo)', 'SM15_EA', 'Mor08m', 'TDB04m', 'B09C-Si', 'nPR3', 'CATS3D_08_DD', 'IDDE', 'B03S-X', 'Eig09_EA(ed)', 'Eig02_EA', 'R7m', 'TDB03p', 'CATS3D_06_DN', 'J_B(v)', 'Rbrid', 'B10C-N', 'F02C-P', 'B08P-F', 'TIC4', 'TPSA(Tot)', 'PCR', 'F05N-X', 'B04C-P', 'CATS2D_00_PN', 'VE2sign_RG', 'SsBr', 'B02S-B', 'B02Cl-X', 'SpAbs_G', 'F09O-Cl', 'B03Cl-B', 'B10P-Si', 'P_VSA_MR_1', 'nRSCN', 'B07Br-I', 'T(O..I)', 'HATS1v', 'SCBO', 'R8m+', 'Br-095', 'F05Cl-I', 'CATS2D_04_LL', 'Mor01e', 'DP03', 'RDF065v', 'SM3_B(m)', 'B04Cl-X', 'B06O-F', 'VE2_RG', 'CATS3D_17_AP', 'piPC05', 'CATS2D_05_PN', 'Wi_Dz(p)', 'SpMax_H2', 'CATS3D_08_PN', 'IDET', 'F10Cl-X', 'L2e', 'F10Br-Br', 'nC(=N)N2', 'Tu', 'WiA_Dz(m)', 'nCrt', 'Ti', 'F01S-F', 'F02P-Si', 'Eig04_EA(bo)', 'nArOX', 'SpDiam_D', 'SM4_D', 'F02P-Cl', 'LPRS', 'SM6_D/Dt', 'H-051', 'SpPosA_A', 'CATS3D_18_DN', 'LLS_01', 'F02Br-Si', 'F08C-X', 'SpAD_AEA(dm)', 'Eta_beta_A', 'Mor11e', 'B03C-P', 'MATS7m', 'NtCH', 'H2m', 'E1s', 'RDF025m', 'P_VSA_s_1', 'B02C-S', 'CATS3D_08_DP', 'Tp', 'HVcpx', 'SM12_EA(ri)', 'F06Si-Si', 'T(Cl..Br)', 'F04Si-Si', 'L2p', 'S-106', 'F03N-Si', 'STN_L', 'SpMax4_Bh(i)', 'Cl-090', 'B06F-Br', 'B02P-F', 'Eig07_AEA(ri)', 'F10S-B', 'SpAbs_Dz(v)', 'HATS0i', 'CATS3D_06_PL', 'ATSC8p', 'F01I-I', 'B05S-S', 'R4p', 'ATSC1p', 'Chi0_EA', 'B02P-X', 'F03X-X', 'DELS', 'F06Cl-Br', 'nPO3', 'VR1_B(p)', 'IC0', 'CATS2D_02_DA', 'B01C-B', 'SssssGe', 'nS', 'CATS3D_17_AA', 'SpAD_B(v)', 'CATS3D_16_NL', 'Mor27i', 'NsI', 'VE1_B(i)', 'B01O-Si', 'CATS3D_09_DD', 'SM3_Dz(p)', 'F07B-Si', 'F04Cl-Cl', 'SpMAD_B(s)', 'BID', 'RDF080m', 'nROH', 'B10Cl-Br', 'ATSC6s', 'SM5_Dz(i)', 'B02Si-Si', 'B04F-I', 'E2u', 'CATS3D_06_AN', 'F02N-Br', 'CATS3D_01_AA', 'B06F-F', 'C-033', 'MATS8v', 'Mor09s', 'SddC', 'Eig03_AEA(dm)', 'F04Cl-Br', 'Mor10p', 'RDF025i', 'TDB04p', 'L1s', 'MATS5v', 'B10P-X', 'CATS2D_02_NN', 'B07B-X', 'nPyrazines', 'SpPosA_D/Dt', 'CATS2D_04_DN', 'P_VSA_m_1', 'B05O-S', 'CATS3D_05_NL', 'B04N-N', 'R4i+', 'F04S-P', 'RDF080e', 'R7s', 'nR04', 'CATS3D_00_NN', 'B04F-Br', 'T(Cl..Cl)', 'R7p+', 'CATS3D_03_NN', 'G3v', 'P_VSA_ppp_D', 'HATS1p', 'B04N-Br', 'RDF030v', 'SaaNH', 'B08Cl-Si', 'B08I-B', 'F01I-B', 'F02C-I', 'Chi0_EA(ed)', 'SM05_AEA(dm)', 'SsI', 'B03I-B', 'ATS3i', 'SpMax4_Bh(v)', 'SpPos_D/Dt', 'SpMax_Dz(e)', 'RCON', 'nBnz', 'RDF075m', 'F06X-X', 'C-013', 'F09P-I', 'T(N..Cl)', 'nPyridazines', 'F03Br-Si', 'F07F-F', 'B02P-Si', 'Mor11u', 'X%', 'JGT', 'Eig12_EA(ri)', 'Eig10_EA(bo)', 'SM2_Dz(e)', 'HATS2v', 'F09Br-Br', 'WiA_Dz(Z)', 'F08N-F', 'DLS_06', 'F03Si-Si', 'F04F-F', 'HATS8u', 'SpPosA_Dz(m)', 'SsSiH3', 'IC1', 'B04P-X', 'Mor11s', 'nPyrroles', 'B10I-X', 'CATS3D_10_DD', 'VE1_B(v)', 'SpAD_Dz(i)', 'VR2_B(v)', 'nRCSSR', 'NaaN', 'B01I-I', 'SpMin7_Bh(v)', 'SpMax_B(p)', 'SpMin4_Bh(p)', 'RGyr', 'Eig04_EA', 'R8v+', 'RDF140m', 'RDF035m', 'F02Cl-Si', 'RDF120u', 'ATS7e', 'SM06_EA', 'CATS3D_16_DL', 'nSO3', 'nROCN', 'B06S-S', 'F06Br-I', 'SpPosA_B(e)', 'B08Cl-X', 'SpAbs_Dz(i)', 'H7s', 'NssssssSe', 'GATS2s', 'CATS2D_07_DP', 'R6u+', 'F06Cl-X', 'F01S-Cl', 'HyWi_Dz(v)', 'F03P-Cl', 'B06C-X', 'F04F-B', 'F09O-Si', 'ATSC1e', 'F07Br-Br', 'CATS2D_07_DA', 'F05N-F', 'ATS2s', 'G(P..I)', 'CATS2D_04_PN', 'ATSC5e', 'F09O-P', 'HATS7v', 'RDF140v', 'CATS3D_09_NL', 'Mor08u', 'R3i+', 'Wi_Dz(i)', 'P_VSA_LogP_7', 'Mor02i', 'WiA_B(e)', 'Mor04s', 'MATS3p', 'G2p', 'SM1_Dz(v)', 'RDF100i', 'SpAD_EA', 'RDF045m', 'RDF125p', 'MWC10', 'F08S-P', 'P_VSA_MR_4', 'F10F-I', 'C-032', 'SM5_D/Dt', 'B03C-Cl', 'C-018', 'WiA_D', 'Sv', 'B07O-P', 'F06N-S', 'SpAbs_Dz(e)', 'CIC1', 'B01Br-Br', 'B07S-Si', 'F08P-B', 'Ai', 'BIC2', 'B05C-F', 'B04Br-B', 'NaaCH', 'HATS8p', 'B09Br-I', 'R1i+', 'SpMax2_Bh(v)', 'SM5_D', 'nCsp', 'SM2_Dz(p)', 'F10C-Cl', 'Wi_Dz(m)', 'ATS4p', 'CATS3D_01_DL', 'PW5', 'Mor20u', 'B07N-X', 'N-070', 'SM3_G/D', 'F08O-B', 'Wi_G/D', 'F03P-Br', 'SpMin8_Bh(i)', 'RDF120i', 'F03S-P', 'F06I-Si', 'SpMin1_Bh(i)', 'B06O-P', 'B10O-I', 'Eig11_AEA(dm)', 'P1u', 'B09C-O', 'RDF035e', 'RDF155p', 'B08O-S', 'CATS2D_08_DN', 'ATS4v', 'P_VSA_LogP_1', 'B08S-F', 'SpPosLog_Dz(p)', 'H-055', 'D/Dtr05', 'CATS3D_12_NN', 'F02Si-Si', 'Eig06_EA(ed)', 'MPC09', 'B10O-B', 'CATS3D_07_AA', 'B09C-I', 'nR=CX2', 'B08F-Cl', 'B02S-F', 'VE2sign_B(i)', 'B08C-I', 'HATS0s', 'CATS3D_16_AP', 'Chi_Dz(e)', 'G3e', 'Eta_F_A', 'R8e+', 'CATS2D_06_DL', 'TIC0', 'P_VSA_ppp_hal', 'B04N-Si', 'R1e', 'SpMin5_Bh(s)', 'SpPosLog_A', 'CATS3D_18_NN', 'SsssssP', 'X0Av', 'CATS3D_10_LL', 'B03C-F', 'B05N-X', 'B06N-Br', 'RDF155m', 'F06C-F', 'B07O-Cl', 'B06C-Si', 'TDB10m', 'F06F-Si', 'CATS3D_15_NL', 'G(S..S)', 'F04F-X', 'SpMin2_Bh(v)', 'B02N-P', 'B08I-X', 'ECC', 'IC3', 'VR2_B(i)', 'B03N-B', 'CATS3D_05_PL', 'B09F-X', 'F07C-O', 'B05O-B', 'B02O-F', 'B10S-I', 'Ke', 'F10O-O', 'B03X-X', 'B10P-P', 'CATS3D_03_PP', 'NsssssP', 'ATS1v', 'SM3_D/Dt', 'SpPos_Dz(v)', 'SM08_AEA(dm)', 'VE2sign_B(p)', 'nR#C-', 'B02S-P', 'B04P-Si', 'HATS4e', 'SssBe', 'F10Si-Si', 'R6s+', 'B06F-X', 'Chi_B(v)', 'B02C-C', 'CATS3D_08_AN', 'GGI10', 'nSO', 'R1u+', 'Ho_H2', 'nArOR', 'B05Cl-I', 'SM4_Dz(Z)', 'SpDiam_G', 'NssssC', 'ATSC7v', 'B10Cl-B', 'nCHRX2', 'F05O-F', 'R5v', 'CATS3D_10_DP', 'F02C-F', 'B08C-O', 'HyWi_B(s)', 'CATS3D_14_LL', 'P_VSA_m_3', 'SpMAD_Dz(Z)', 'SpAD_EA(ri)', 'CATS3D_07_PN', 'SpAD_H2', 'H0i', 'D/Dtr06', 'Eig10_EA(ed)', 'H6i', 'AVS_B(m)', 'VE1sign_RG', 'F06C-N', 'N-066', 'H4i', 'Mor31m', 'F09N-P', 'B01N-Cl', 'NsBr', 'R4m+', 'NssPbH2', 'T(Br..Br)', 'MPC02', 'TDB08e', 'HATS8i', 'SpPos_B(p)', 'nArCONHR', 'B10N-Cl', 'R3e', 'Te', 'G(N..P)', 'CATS3D_00_DP', 'B05B-Si', 'RDF025p', 'Chi_B(i)', 'Eig07_AEA(dm)', 'H-046', 'SpMax_Dz(Z)', 'B10C-O', 'Ho_G/D', 'F10S-Si', 'F09C-Br', 'HDcpx', 'SM09_EA', 'T(S..I)', 'SpMaxA_AEA(dm)', 'SpMax4_Bh(e)', 'Eta_beta', 'SpMin6_Bh(i)', 'F06N-Si', 'CATS2D_06_AL', 'F03P-I', 'Eta_betaS_A', 'H1i', 'SAdon', 'X5', 'F05N-P', 'Mor20i', 'SpPosA_G', 'Chi_X', 'F09P-Cl', 'BIC1', 'F06C-X', 'B02Br-Si', 'B03Br-B', 'CATS3D_00_DA', 'F07C-Cl', 'C-020', 'F10N-F', 'SM12_EA(bo)', 'B06C-F', 'SpMax8_Bh(i)', 'DP19', 'B05O-P', 'CATS3D_17_DD', 'Wap', 'RDF075e', 'F03S-X', 'RDF135u', 'TDB05i', 'DP13', 'RDF015u', 'F06C-Br', 'NsCH3', 'Psi_e_t', 'F05S-F', 'H8i', 'Eig05_EA', 'G2', 'Mor21s', 'MPC04', 'SsssN', 'Mor27u', 'NdO', 'Mor25u', 'F09P-X', 'Ks', 'SM2_B(s)', 'SpPosLog_Dt', 'Mor32p', 'F03P-X', 'Mor06e', 'B06B-X', 'F04O-Si', 'R7u', 'GATS2p', 'B05C-Si', 'B02X-X', 'Eig01_EA(bo)', 'F05O-Si', 'SM06_AEA(dm)', 'Ho_RG', 'ATSC3v', 'Eig10_AEA(ed)', 'SaaS', 'F09C-Si', 'CATS2D_07_AL', 'CATS2D_04_DP', 'ZM1Per', 'F03Br-I', 'B07C-B', 'F06C-I', 'T(P..I)', 'G(F..F)', 'Ro5', 'F07P-B', 'B10N-F', 'Cl-102', 'F01Br-Br', 'Ho_Dz(Z)', 'B05C-C', 'B05O-Br', 'SM5_X', 'SM3_B(e)', 'B10C-X', 'Mor19u', 'F05F-Br', 'Mor17v', 'T(S..P)', 'H0p', 'F07Cl-Br', 'F02S-S', 'Cl-086', 'F09C-C', 'QXXv', 'F05B-X', 'CATS2D_03_LL', 'nF', 'HTe', 'SpPosA_B(p)', 'T(P..P)', 'nR=CRX', 'Mor07e', 'SpMax_G/D', 'CATS3D_19_DD', 'B04C-F', 'B03Cl-I', 'CATS2D_05_AL', 'ATS7p', 'B01F-Si', 'CATS3D_05_AA', 'F04Br-B', 'Mor14v', 'C-026', 'Eig04_AEA(dm)', 'B09O-S', 'B10B-X', 'C-014', 'NssCH2', 'F01C-I', 'ZM1', 'J_B(i)', 'SM11_AEA(bo)', 'RDF070p', 'F09O-X', 'B06Br-B', 'F05S-I', 'nRNNOx', 'GATS4m', 'RDF090i', 'F07X-X', 'Du', 'B01C-S', 'SpAD_Dt', 'F10N-P', 'B01N-O', 'B01P-X', 'SpAD_EA(dm)', 'MATS2s', 'SpMax6_Bh(p)', 'F05S-Si', 'Eig13_AEA(bo)', 'F07P-F', 'Chi1_AEA(bo)', 'F10Cl-B', 'SaaN', 'F10Br-X', 'CATS3D_03_DP', 'P_VSA_MR_7', 'nSOOH', 'CATS3D_01_AN', 'RDF015p', 'F08P-X', 'VR3_G/D', 'RDF125i', 'F07Si-X', 'RDF115u', 'CATS3D_05_NN', 'Wi_Dt', 'CATS2D_08_NN', 'SM4_RG', 'B08Cl-B', 'RDF095e', 'B07P-X', 'SpMax4_Bh(m)', 'SpMax5_Bh(s)', 'VR1_G/D', 'CATS2D_08_DA', 'RDF145s', 'SpMax3_Bh(i)', 'SP09', 'F08Br-B', 'F05Br-Br', 'NsssssAs', 'G(Cl..Br)', 'I-104', 'SM02_AEA(ri)', 'CATS2D_09_AN', 'TDB02r', 'F09C-S', 'TWC', 'B03S-S', 'F03Br-X', 'SpMin5_Bh(e)', 'R8u', 'ATSC8i', 'SM11_EA(bo)', 'B05Si-Si', 'SM2_G/D', 'SM2_Dt', 'S-109', 'B01O-B', 'CATS2D_03_AA', 'RARS', 'CATS3D_06_AP', 'CATS3D_15_DA', 'nR05', 'F08C-C', 'CATS3D_08_PP', 'GATS3p', 'F06B-X', 'B06I-I', 'B07O-B', 'Eig15_AEA(dm)', 'F07N-P', 'B05S-P', 'E2m', 'RDF030e', 'SpPos_L', 'CATS3D_16_DA', 'CATS3D_07_AL', 'B05F-Si', 'TDB06v', 'CATS3D_13_AP', 'SM03_EA(dm)', 'EE_B(v)', 'NssssPb', 'RDF030u', 'B04S-B', 'Mor26s', 'D/Dtr09', 'RDF120p', 'nR=CHX', 'SM1_B(v)', 'Eig15_EA(ed)', 'B09S-Si', 'MATS4i', 'B01N-N', 'F03C-Cl', 'HATS8m', 'CATS3D_04_AA', 'B02O-B', 'Mor01s', 'F05N-N', 'SpMin7_Bh(m)', 'F07N-I', 'F03I-B', 'SpMax_EA', 'CATS3D_15_DN', 'DP02', 'F05C-C', 'SpAD_Dz(m)', 'F10S-F', 'Mor20e', 'F10C-N', 'Mor10v', 'SpMAD_X', 'B10C-C', 'L2s', 'F08N-I', 'F05Br-X', 'WiA_RG', 'B07C-N', 'B01O-O', 'H3i', 'QXXs', 'Mor07p', 'H-048', 'Vu', 'MATS2i', 'B04N-S', 'DP09', 'CATS2D_03_DN', 'B08O-P', 'SpMAD_A', 'SpAD_L', 'L1u', 'CATS3D_18_DD', 'NdssC', 'RDF125e', 'GATS1s', 'JGI6', 'B06O-Cl', 'nCconjX', 'HATS4s', 'T(S..S)', 'SM05_EA(bo)', 'Mor21i', 'J_Dz(m)', 'SM08_AEA(bo)', 'F09Cl-Si', 'B06P-P', 'B08C-X', 'C-017', 'CATS3D_03_DA', 'nSO3OH', 'B08C-P', 'RDF105e', 'B09P-X', 'B10Br-I', 'SpMAD_Dz(e)', 'nO(C=O)2', 'B08F-X', 'Psi_i_1s', 'MATS2v', 'CATS3D_15_PL', 'B06O-O', 'F08N-Br', 'SsSeH', 'B10S-B', 'SM2_D/Dt', 'DP14', 'nArCHO', 'AVS_Dz(i)', 'B07Br-Si', 'F07Cl-B', 'RDF110e', 'Ve', 'F05F-I', 'nRNHR', 'B04I-Si', 'CATS3D_01_PN', 'HATS3i', 'F01Si-Si', 'F08F-Si', 'CATS2D_04_PP', 'SM6_D', 'F10O-Si', 'CATS2D_06_DD', 'VE1sign_B(v)', 'B02O-S', 'CATS3D_11_NN', 'B09P-P', 'SpAD_B(e)', 'CATS3D_16_DP', 'SpMaxA_AEA(bo)', 'CATS2D_07_PP', 'Eig10_EA(dm)', 'SpMin4_Bh(v)', 'CATS3D_12_DN', 'CATS2D_09_DD', 'SM06_AEA(ri)', 'CATS3D_04_PN', 'SM07_AEA(dm)', 'NsssGeH', 'Mor22m', 'B06Br-Br', 'CATS3D_16_AA', 'F03N-I', 'MDDD', 'R4m', 'SsssP', 'Eig05_EA(bo)', 'SpMax8_Bh(p)', 'F03N-O', 'nRNCS', 'Eig15_AEA(ed)', 'nCar', 'R4i', 'CATS3D_02_AP', 'SpDiam_Dz(e)', 'B09O-F', 'B10I-I', 'nR06', 'Eig10_EA', 'F08C-Br', 'TDB06r', 'CATS3D_02_DP', 'ATS7m', 'F10N-O', 'CATS2D_09_DA', 'B06O-B', 'B04Cl-B', 'MWC03', 'H_X', 'RDF050e', 'Wi_D/Dt', 'RDF090s', 'CATS3D_11_AP', 'HATS5u', 'B04O-Si', 'B01P-F', 'F01F-Br', 'F10C-B', 'P_VSA_s_2', 'B08P-P', 'RDF085e', 'B09N-B', 'B10S-P', 'CATS2D_03_NL', 'SM3_B(p)', 'NssAsH', 'CATS2D_08_AA', 'F03O-O', 'ATSC5v', 'F09B-B', 'Eig01_AEA(ed)', 'RDF060i', 'MATS7i', 'H3m', 'SM4_B(s)', 'XMOD', 'SM2_B(v)', 'F06O-B', 'F03O-Si', 'CATS2D_04_AA', 'B09B-X', 'SsCH3', 'I-098', 'F08N-Cl', 'B01F-Br', 'HATS1u', 'F10C-F', 'JGI7', 'RDF030s', 'SaaCH', 'MSD', 'Mor23s', 'B01Cl-X', 'H1v', 'R6p', 'SM11_AEA(dm)', 'RDF030i', 'SM11_EA', 'Xt', 'SM06_EA(ed)', 'SM13_AEA(ri)', 'B05O-I', 'SM05_AEA(bo)', 'Mor21u', 'SpMin3_Bh(i)', 'Mor13p', 'F10P-I', 'VE1sign_B(e)', 'B06S-Si', 'F06P-P', 'H2s', 'SM05_EA(ri)', 'SpAbs_Dz(Z)', 'B08F-I', 'B10S-F', 'F08Cl-Br', 'nPyrrolidines', 'F01F-Si', 'SpPosA_Dz(i)', 'VE3_B(p)', 'ATSC5s', 'B03O-B', 'ChiA_Dt', 'T(O..Br)', 'B01C-O', 'MATS4p', 'Mor18s', 'ATSC4i', 'TDB08r', 'B08O-Si', 'B03B-Si', 'HATS1m', 'E1p', 'B02C-O', 'B01Cl-Cl', 'CATS3D_18_DP', 'SM3_Dz(m)', 'F10F-F', 'F05Cl-Br', 'TDB09i', 'HATS7e', 'F05O-B', 'GATS7e', 'SpDiam_L', 'E2i', 'B10S-Br', 'H2e', 'H-049', 'SM11_AEA(ri)', 'SpMax6_Bh(m)', 'SssAsH', 'Di', 'P_VSA_i_2', 'C-037', 'R7m+', 'SpMaxA_EA(ri)', 'B04F-F', 'SpMin6_Bh(e)', 'F06O-S', 'GATS8v', 'nCconj', 'H7u', 'B02C-Cl', 'F08P-I', 'CATS3D_13_DP', 'nN=C-N', 'H3p', 'B05Br-Si', 'P2p', 'F08I-Si', 'Mor29e', 'F10C-C', 'B08N-B', 'SM14_AEA(bo)', 'SM3_Dt', 'F07C-S', 'CATS3D_14_DP', 'TDB02m', 'SP18', 'B01S-Si', 'B06N-Si', 'nRCONR2', 'F01S-Si', 'X4A', 'B09N-Br', 'EE_A', 'F09S-Si', 'B08F-Br', 'Vv', 'Eig05_EA(ed)', 'P_VSA_e_2', 'HATSu', 'X0v', 'B08Si-X', 'RDF100s', 'ATS6m', 'T(N..I)', 'QZZm', 'RDF105u', 'CATS3D_11_LL', 'SpDiam_X', 'ATS6v', 'F09Si-X', 'R6m+', 'B08P-X', 'F01B-X', 'Mor19s', 'B04F-Si', 'ATS7i', 'B01P-P', 'VR1_L', 'G(N..Br)', 'SpPos_H2', 'F02Cl-Cl', 'R2s', 'RTs', 'Mor31i', 'F05P-I', 'HATS0u', 'TDB08s', 'SM1_B(m)', 'CATS3D_08_DL', 'B03S-Cl', 'ATS7v', 'B06Cl-B', 'CATS3D_06_AA', 'Wi_B(e)', 'SpMaxA_Dz(i)', 'H5p', 'F08I-X', 'VE2sign_L', 'nC=N-N', 'CATS3D_01_DN', 'RDF115i', 'R2s+', 'F08N-Si', 'GATS1m', 'RDF050m', 'B07N-I', 'B05B-B', 'CATS3D_19_AA', 'F07Cl-X', 'CATS3D_04_NL', 'CATS2D_09_PN', 'B07S-S', 'RDF145m', 'JGI10', 'RDF155s', 'CATS3D_03_AL', 'G(O..Cl)', 'CATS2D_01_AP', 'NssssB-', 'S0K', 'B06C-O', 'TDB07i', 'B03C-Si', 'SRW05', 'Mor11p', 'SpAD_Dz(v)', 'nOHs', 'B10Br-X', 'RDF020e', 'MPC03', 'G3p', 'R7i+', 'F06B-Si', 'T(F..Cl)', 'CATS3D_11_DL', 'SPH', 'G(Cl..I)', 'H8s', 'CATS3D_01_PP', 'SpPosLog_Dz(v)', 'T(I..I)', 'F01N-Cl', 'CATS3D_00_DL', 'Eig04_AEA(bo)', 'X3v', 'B04O-O', 'MPC07', 'F01S-S', 'B07C-Cl', 'SpMax_Dz(p)', 'PJI3', 'C%', 'F06C-O', 'Ts', 'RDF035v', 'SM2_B(p)', 'J_B(m)', 'G(N..S)', 'F02S-I', 'SM5_Dz(m)', 'SpMin2_Bh(i)', 'SM5_G', 'J_RG', 'F06I-I', 'Eig12_EA(dm)', 'Mor16i', 'F07I-Si', 'F02N-I', 'NssGeH2', 'F09B-Si', 'C-036', 'Ram', 'RDF135m', 'P1m', 'B10B-B', 'F02O-X', 'ZM2MulPer', 'F07O-Cl', 'X2', 'CATS3D_01_DD', 'F03S-I', 'CATS3D_15_PP', 'J_G/D', 'MATS2p', 'F07N-Br', 'F10B-X', 'nAT', 'R1s', 'SM15_EA(ed)', 'VE2_B(v)', 'B01Br-I', 'F09Cl-X', 'B07O-F', 'TDB01s', 'TDB05p', 'RDF075v', 'nPO4', 'Eig08_AEA(dm)', 'B06P-F', 'HATS7u', 'F09Br-Si', 'SpAD_Dz(p)', 'G(N..O)', 'G1p', 'MATS1v', 'B02N-Br', 'SM4_Dz(i)', 'B04Cl-Cl', 'nArCSOH', 'CATS3D_18_PN', 'F01X-X', 'F08X-X', 'F09I-Si', 'X3', 'B06N-Cl', 'F10I-X', 'CATS2D_07_DN', 'Mor22e', 'SsssPbH', 'B03P-P', 'HyWi_B(m)', 'F02X-X', 'B09N-Si', 'F10N-I', 'nRNO2', 'nR07', 'SpMin7_Bh(p)', 'SM05_EA', 'QYYs', 'B03N-Br', 'B09S-F', 'X1v', 'F08F-I', 'RDF115e', 'F07I-B', 'NdsssAs', 'GATS7s', 'F09Cl-Cl', 'CATS3D_17_PP', 'HATS5e', 'B07X-X', 'Mor15i', 'B01F-X', 'CATS2D_03_AN', 'RDF020m', 'S-110', 'RDF055i', 'QYYv', 'CATS3D_09_DP', 'B03P-Si', 'F01B-Si', 'B03C-C', 'F05S-P', 'Eig09_EA(dm)', 'GATS8p', 'F04N-S', 'F03Cl-I', 'DP18', 'B02N-Cl', 'F07C-Br', 'F09S-Cl', 'NssSe', 'CATS2D_07_DD', 'F01B-B', 'F01Cl-Br', 'F09N-X', 'F08C-F', 'B01Cl-Br', 'F04O-F', 'LLS_02', 'Eig07_EA(ri)', 'CATS3D_06_NL', 'Mor30e', 'B06N-N', 'RDF060p', 'B10F-Br', 'F-083', 'SpPosLog_Dz(e)', 'Eig03_EA(bo)', 'SM08_AEA(ed)', 'Eta_epsi', 'F08P-P', 'B10S-X', 'SpPos_X', 'RDF110m', 'Eig04_EA(ed)', 'SsBH2', 'CATS3D_16_NN', 'S1K', 'SM11_EA(ri)', 'CATS3D_17_NN', 'Mor28p', 'CATS3D_08_NN', 'F09O-B', 'F08Cl-Cl', 'Eig02_AEA(ri)', 'nCONN', 'R2u', 'DP16', 'CATS3D_11_DN', 'SP14', 'RDF150m', 'SpPosLog_H2', 'F05N-S', 'B07C-X', 'VE1sign_B(s)', 'nR=Cs', 'F01Cl-Cl', 'CATS2D_06_DA', 'SMTIV', 'Mor04p', 'Mor11i', 'RDF090v', 'CATS3D_08_DN', 'P_VSA_ppp_N', 'P1v', 'B09P-I', 'R5i', 'Wi_B(v)', 'F05O-X', 'F07Cl-Cl', 'CATS3D_15_DD', 'B06S-Br', 'Mor15u', 'CATS2D_01_DD', 'ChiA_X', 'H-052', 'NsssCH', 'Chi1_AEA(ed)', 'SddsAs', 'R4s', 'MATS7v', 'HyWi_RG', 'B04P-P', 'B03P-B', 'B05I-X', 'RDF055e', 'B05S-Br', 'SpMin7_Bh(i)', 'L2v', 'F10C-S', 'B02N-N', 'P_VSA_e_6', 'F09F-Br', 'NdssS', 'B09C-X', 'CATS3D_10_NN', 'Mor04v', 'Mor28e', 'CATS2D_01_AL', 'SpMax_Dt', 'F02Cl-B', 'F08I-B', 'Mor17s', 'Eig08_AEA(bo)', 'RDF140s', 'Chi0_EA(ri)', 'RDF130v', 'F09I-I', 'NdNH2+', 'EE_H2', 'RDF045u', 'B09O-Br', 'SM2_Dz(v)', 'F03C-X', 'nROCON', 'B07N-B', 'F08Br-X', 'R7p', 'AVS_B(s)', 'ATS3s', 'SsF', 'HyWi_Dt', 'NsAsH2', 'Eig07_AEA(bo)', 'CATS3D_09_PL', 'B08S-B', 'Mor27p', 'DLS_01', 'NsNH3+', 'B08P-Br', 'G2u', 'Mor03u', 'SdssC', 'NaaNH', 'B04N-P', 'SM4_G', 'ON1V', 'G(O..S)', 'Chi1_EA(ed)', 'P_VSA_LogP_8', 'Mor02p', 'SpMaxA_B(m)', 'CATS3D_01_AP', 'B08Br-I', 'F10Br-I', 'RDF020v', 'F01F-F', 'CATS2D_02_AP', 'R3e+', 'B10P-B', 'F03S-Br', 'F08N-N', 'F04C-F', 'CATS3D_02_PL', 'CATS2D_07_AP', 'J_Dz(v)', 'RTs+', 'VR1_B(i)', 'B01S-S', 'RDF040i', 'DP07', 'B04C-Br', 'B06C-S', 'Chi0_EA(bo)', 'B04C-Si', 'B09N-N', 'F03C-F', 'R3u+', 'F01N-N', 'R7e+', 'SM07_EA(ed)', 'RDF030p', 'CATS2D_00_AN', 'Eig13_AEA(dm)', 'F04C-N', 'RBN', 'CATS2D_06_DN', 'H2v', 'SM5_B(i)', 'B04Br-I', 'T(N..O)', 'SM08_EA', 'Vs', 'ChiA_Dz(i)', 'SpAbs_B(p)', 'SpMAD_Dz(i)', 'TDB09u', 'Chi0_AEA(dm)', 'TDB02u', 'D/Dtr08', 'F03Cl-Br', 'B02F-X', 'B10N-X', 'CATS3D_01_LL', 'B05Cl-X', 'ATS1s', 'CATS3D_11_DA', 'B03C-Br', 'B02C-P', 'F07O-O', 'B03N-S', 'F02C-O', 'H_Dt', 'F10Cl-Br', 'CATS3D_19_DN', 'SaadN', 'RDF020i', 'nFuranes', 'Mor01m']\n",
            "126 tentative attributes remains: ['E1e', 'piPC02', 'ATSC1s', 'RDF020p', 'SM15_EA(bo)', 'MATS6p', 'Wi_B(s)', 'BIC4', 'SM5_B(v)', 'Mor24e', 'SM02_EA(bo)', 'BIC3', 'SpMaxA_EA(dm)', 'SpPosA_Dz(Z)', 'SpDiam_EA(dm)', 'Mor24i', 'MATS6m', 'Ho_B(s)', 'CATS3D_02_AL', 'SpMaxA_D/Dt', 'DLS_cons', 'SM6_B(p)', 'SpMax_B(s)', 'Mor29p', 'O-060', 'SM10_EA(dm)', 'P_VSA_e_3', 'H_Dz(i)', 'SpMAD_B(v)', 'HTm', 'SM09_EA(dm)', 'CIC4', 'JGI2', 'CATS3D_02_AA', 'SpPosA_B(i)', 'SpMax_EA(ed)', 'F02O-O', 'SpMAD_RG', 'DISPe', 'CATS2D_02_AL', 'ChiA_B(i)', 'SssO', 'MCD', 'MATS1s', 'N-072', 'MLOGP', 'O%', 'B02O-O', 'GATS6e', 'CATS2D_03_DD', 'SpMax_AEA(ri)', 'Eig01_AEA(dm)', 'SpMin4_Bh(e)', 'Eig01_EA(dm)', 'SM6_B(s)', 'F03C-O', 'SM10_EA(bo)', 'R2e', 'CATS2D_05_DA', 'RDF105s', 'CIC3', 'Hy', 'CATS3D_05_DN', 'DISPi', 'TDB04s', 'CATS3D_03_DL', 'SpMax_EA(dm)', 'Mor06p', 'S3K', 'SpMax1_Bh(s)', 'RDF020u', 'P_VSA_i_3', 'LOC', 'SpMax_AEA(ed)', 'P_VSA_MR_6', 'SIC5', 'VE3_RG', 'piPC06', 'SpMax_B(i)', 'Mor25s', 'P_VSA_ppp_cyc', 'WiA_Dt', 'F05C-N', 'SpMax_EA(ri)', 'SpDiam_B(m)', 'SpMax1_Bh(e)', 'SpMAD_EA(ri)', 'F01C-O', 'nHDon', 'DISPp', 'SM14_EA(ed)', 'SpAD_AEA(ed)', 'EE_B(s)', 'SM08_EA(dm)', 'SM07_EA(dm)', 'CATS3D_03_DD', 'Chi_D/Dt', 'Eig09_EA(bo)', 'ATSC5i', 'P_VSA_ppp_A', 'TDB05e', 'Mor19m', 'CATS2D_08_AL', 'Chi_Dz(m)', 'MATS1e', 'SM13_EA(bo)', 'Mor17p', 'C-041', 'Eig09_EA(ri)', 'Eig11_AEA(ed)', 'NssO', 'R5s+', 'Mor24s', 'SpDiam_AEA(ed)', 'MATS3e', 'SpMin1_Bh(p)', 'P_VSA_LogP_3', 'SM11_EA(ed)', 'CATS3D_02_DA', 'GATS1p', 'TDB02i', 'piPC10', 'SM14_EA(dm)', 'GATS2m', 'CATS2D_03_DA', 'GATS6v']\n"
          ]
        }
      ],
      "source": [
        "model = CatBoostClassifier(iterations=50, \n",
        "    learning_rate=0.1, \n",
        "    logging_level='Silent')\n",
        "\n",
        "# no model selected default is Random Forest, if classification is False it is a Regression problem\n",
        "Feature_Selector = BorutaShap(model=model,\n",
        "                              importance_measure='shap',\n",
        "                              classification=True,percentile=90)\n",
        "\n",
        "Feature_Selector.fit(X=X_train_sweet_scaled, y=y_train_sweet['Target'], n_trials=200, random_state=0)"
      ]
    },
    {
      "cell_type": "code",
      "execution_count": null,
      "metadata": {
        "id": "lbxdy4q2ZBvX"
      },
      "outputs": [],
      "source": [
        "X_sweet_subset = Feature_Selector.Subset()"
      ]
    },
    {
      "cell_type": "code",
      "execution_count": null,
      "metadata": {
        "id": "FXal3IEzZG8o"
      },
      "outputs": [],
      "source": [
        "X_sweet_subset_cols = X_sweet_subset.columns\n",
        "#print(X_sweet_subset_cols)\n",
        "\n",
        "X_sweet_test_subset = X_test_sweet_scaled[X_sweet_subset_cols]"
      ]
    },
    {
      "cell_type": "code",
      "execution_count": null,
      "metadata": {
        "colab": {
          "base_uri": "https://localhost:8080/"
        },
        "id": "YgHwOcpeZG8r",
        "outputId": "923084d6-f689-43f3-fd6e-e44804783358"
      },
      "outputs": [
        {
          "name": "stdout",
          "output_type": "stream",
          "text": [
            "Evaluating XGBoost\n",
            "Accuracy: 0.7467532467532467\n",
            "Precision: 0.8928571428571429\n",
            "Average Precision: 0.8325602968460112\n",
            "AUROC: 0.7653061224489797\n",
            "Classification Report\n",
            "              precision    recall  f1-score   support\n",
            "\n",
            "           0       0.57      0.82      0.67        49\n",
            "           1       0.89      0.71      0.79       105\n",
            "\n",
            "    accuracy                           0.75       154\n",
            "   macro avg       0.73      0.77      0.73       154\n",
            "weighted avg       0.79      0.75      0.76       154\n",
            "\n",
            "Evaluating CatBoost\n",
            "Accuracy: 0.7532467532467533\n",
            "Precision: 0.8764044943820225\n",
            "Average Precision: 0.8263680140084635\n",
            "AUROC: 0.7591836734693878\n",
            "Classification Report\n",
            "              precision    recall  f1-score   support\n",
            "\n",
            "           0       0.58      0.78      0.67        49\n",
            "           1       0.88      0.74      0.80       105\n",
            "\n",
            "    accuracy                           0.75       154\n",
            "   macro avg       0.73      0.76      0.74       154\n",
            "weighted avg       0.78      0.75      0.76       154\n",
            "\n",
            "Evaluating RandomForest\n",
            "Accuracy: 0.7857142857142857\n",
            "Precision: 0.9186046511627907\n",
            "Average Precision: 0.8599718111346017\n",
            "AUROC: 0.8047619047619048\n",
            "Classification Report\n",
            "              precision    recall  f1-score   support\n",
            "\n",
            "           0       0.62      0.86      0.72        49\n",
            "           1       0.92      0.75      0.83       105\n",
            "\n",
            "    accuracy                           0.79       154\n",
            "   macro avg       0.77      0.80      0.77       154\n",
            "weighted avg       0.82      0.79      0.79       154\n",
            "\n"
          ]
        }
      ],
      "source": [
        "print(\"Evaluating XGBoost\")\n",
        "evaluate(clf_xgboost, X_sweet_subset, y_train_sweet, X_sweet_test_subset, y_test_sweet)\n",
        "\n",
        "print(\"Evaluating CatBoost\")\n",
        "evaluate(clf_catboost,X_sweet_subset, y_train_sweet, X_sweet_test_subset, y_test_sweet)\n",
        "\n",
        "print(\"Evaluating RandomForest\")\n",
        "evaluate(clf_rf,X_sweet_subset, y_train_sweet, X_sweet_test_subset, y_test_sweet)"
      ]
    },
    {
      "cell_type": "code",
      "execution_count": null,
      "metadata": {
        "id": "h7CuhgVsZGcg"
      },
      "outputs": [],
      "source": []
    },
    {
      "cell_type": "markdown",
      "source": [
        "Random Forest"
      ],
      "metadata": {
        "id": "bvQ2A_O0iu_E"
      }
    },
    {
      "cell_type": "code",
      "execution_count": null,
      "metadata": {
        "colab": {
          "base_uri": "https://localhost:8080/",
          "height": 121,
          "referenced_widgets": [
            "db7404b7a6174dbeb05334014eebe886",
            "a764fc465b654e12967b96197642f16a",
            "bb30a6b8633a4d059a521d56f6b6420a",
            "a8f858396ea44fb3a522b65673aa493c",
            "7dbdefa2cef645918270473094868340",
            "6f160ac000164de0877555c91c23118e",
            "120de88150f64bb4a0ba23b0ce830050",
            "f0a5342b3fac495c8c5741bee2b3446d",
            "e3da52be22a54efa836ad6018ede61fa",
            "3f7401e3a8124514ad6ea7e0383c8f00",
            "32956eb7158249feb08c5c4475ae6320"
          ]
        },
        "id": "sWMW776rv6MW",
        "outputId": "0e3cec1b-53a2-4f24-c274-5f96d80f806d"
      },
      "outputs": [
        {
          "data": {
            "application/vnd.jupyter.widget-view+json": {
              "model_id": "db7404b7a6174dbeb05334014eebe886",
              "version_major": 2,
              "version_minor": 0
            },
            "text/plain": [
              "  0%|          | 0/200 [00:00<?, ?it/s]"
            ]
          },
          "metadata": {},
          "output_type": "display_data"
        },
        {
          "name": "stdout",
          "output_type": "stream",
          "text": [
            "722 attributes confirmed important: ['R6v', 'L2m', 'Mor18p', 'B02C-N', 'AVS_B(p)', 'CATS2D_05_DN', 'Eig07_EA(bo)', 'RDF020p', 'Mor14e', 'Mor24e', 'Mor03i', 'MPC06', 'BIC3', 'HNar', 'SpDiam_AEA(dm)', 'SpPosA_Dz(m)', 'TDB07m', 'SM6_L', 'SM09_EA(bo)', 'CATS2D_04_PL', 'SM6_B(p)', 'VR2_B(v)', 'SpMAD_EA', 'GATS6m', 'piPC09', 'Mor20s', 'Mor29p', 'Mor24u', 'O-060', 'SM10_EA(dm)', 'SpMax_B(p)', 'VR2_B(p)', 'MATS7p', 'ATS4m', 'JGI3', 'H_Dz(i)', 'SM09_EA(dm)', 'Mor15p', 'SM06_AEA(ri)', 'Mor03p', 'CATS3D_02_AA', 'TDB05s', 'Mor29v', 'VR2_B(m)', 'SpDiam_B(s)', 'R4i', 'Mor28m', 'SpPosA_RG', 'DISPe', 'SIC0', 'Chi_Dt', 'HATSe', 'SM03_AEA(ri)', 'SpPosA_B(e)', 'MAXDP', 'HATS6s', 'Eig10_EA', 'ATSC4e', 'AVS_B(v)', 'HATSp', 'GATS2s', 'CATS2D_03_DL', 'R3s+', 'O%', 'Mor30v', 'Eig01_AEA(dm)', 'SpMin1_Bh(e)', 'P_VSA_MR_2', 'ATSC1e', 'VR2_B(s)', 'TDB02v', 'P_VSA_s_3', 'Mor10e', 'CATS2D_04_PN', 'TDB03u', 'SpMAD_B(m)', 'GATS3v', 'GATS6s', 'SM12_EA', 'DISPs', 'SM3_B(p)', 'Mor24m', 'Eig06_EA(bo)', 'TDB07v', 'F03O-O', 'DISPi', 'CATS3D_03_DL', 'P_VSA_m_2', 'Eig01_EA(ed)', 'RDF020u', 'Mor04s', 'Eig01_AEA(ed)', 'SM14_AEA(ed)', 'MATS7i', 'SM4_B(s)', 'SpMAD_B(e)', 'SpMax_B(i)', 'S2K', 'F03C-C', 'WiA_Dt', 'SpMAD_Dt', 'HATS1u', 'SpMax_EA(ri)', 'RTi+', 'RDF030s', 'ATSC2e', 'SaaCH', 'F01C-O', 'Eta_FL', 'HATS5v', 'R6p', 'SM13_AEA(ri)', 'H4s', 'J_Dt', 'R1i+', 'SpMax2_Bh(v)', 'CATS3D_06_DL', 'SpMax_L', 'Mor10m', 'R2m+', 'CATS2D_00_DD', 'PW5', 'Mor20u', 'CATS2D_03_PL', 'Mor25i', 'SRW10', 'SAacc', 'RBF', 'SpMin1_Bh(i)', 'piPC03', 'GATS4e', 'ATSC5s', 'TDB05e', 'Mor19m', 'B01C-O', 'TDB10r', 'MATS4p', 'Mor10i', 'SpMAD_EA(bo)', 'SM13_EA(ri)', 'P1u', 'HATS5p', 'MATS3s', 'ATSC4i', 'CIC5', 'G1v', 'Mor25p', 'Mor14u', 'Mor18m', 'Mor16e', 'Mor10u', 'E2v', 'H%', 'Mor15v', 'B02C-O', 'J_Dz(i)', 'SpMAD_G/D', 'F01C-N', 'nN', 'Eig06_EA(ed)', 'SM07_EA(bo)', 'RTu+', 'GATS1p', 'SM3_B(s)', 'HATS0p', 'SpPosA_B(v)', 'CATS3D_03_PL', 'SM15_AEA(ed)', 'Chi_Dz(Z)', 'Mor16p', 'SsOH', 'SpMaxA_Dt', 'SpDiam_L', 'SpMin1_Bh(m)', 'SM08_EA(ri)', 'SM11_AEA(ri)', 'ATSC2s', 'Mor12p', 'SM15_EA(bo)', 'P_VSA_i_2', 'SpMaxA_EA(ri)', 'Di', 'BIC4', 'SM10_EA(ri)', 'ChiA_B(v)', 'R7e', 'MATS4e', 'CATS2D_05_DL', 'SpMaxA_EA(dm)', 'TDB01m', 'H5e', 'MATS6m', 'SM08_EA(ed)', 'CATS3D_02_AL', 'TDB10m', 'SM5_B(p)', 'HATSm', 'CATS3D_02_DL', 'TDB02p', 'SM08_EA(bo)', 'SM14_AEA(bo)', 'VR2_B(i)', 'IC3', 'SM06_EA(bo)', 'GATS1v', 'TDB02m', 'F02C-N', 'P_VSA_p_3', 'SM14_EA(ri)', 'TPSA(NO)', 'Eig06_EA(ri)', 'X4A', 'SM13_EA(ed)', 'MWC06', 'ATSC3s', 'Mor25v', 'P_VSA_e_2', 'SM4_B(v)', 'SM13_AEA(ed)', 'SpDiam_H2', 'AVS_H2', 'SpDiam_AEA(ri)', 'MATS1s', 'F04C-C', 'SM06_EA(ri)', 'SpMAD_Dz(m)', 'NaasC', 'SpMin1_Bh(v)', 'SM12_EA(ed)', 'SM04_EA(bo)', 'TDB10p', 'R1u+', 'TDB03r', 'B02O-O', 'GATS2e', 'ChiA_B(e)', 'Chi_Dz(i)', 'SpMax_B(m)', 'Eig10_EA(ri)', 'SM6_B(s)', 'DECC', 'F03C-O', 'X0A', 'HATSi', 'TDB01p', 'F04C-O', 'HyWi_B(s)', 'R2s', 'RTe+', 'P_VSA_m_3', 'SpMAD_Dz(Z)', 'SM06_EA(dm)', 'GATS1e', 'SM11_AEA(ed)', 'SpDiam_EA(ed)', 'SpMaxA_EA(ed)', 'CATS2D_05_DA', 'CATS3D_08_DL', 'H5i', 'HATSs', 'CIC3', 'SpPosA_G/D', 'H0i', 'N-074', 'H5p', 'S3K', 'WiA_D/Dt', 'R5u+', 'SpMax1_Bh(s)', 'AVS_B(m)', 'VE1sign_RG', 'HATS7i', 'GNar', 'P_VSA_MR_6', 'B01C-N', 'Mor21v', 'R2s+', 'SpPosA_Dt', 'VE1_RG', 'CATS3D_04_DL', 'X1A', 'Mor32v', 'SpMAD_AEA(ri)', 'Eig06_EA', 'Mor16s', 'Mor25s', 'P_VSA_ppp_cyc', 'Eig01_AEA(bo)', 'GATS1m', 'Mor20m', 'SM10_EA(ed)', 'SM09_EA(ed)', 'F05C-N', 'GATS4i', 'Xindex', 'X1Av', 'GATS5m', 'CATS3D_00_DP', 'SpDiam_EA', 'SM14_EA(ed)', 'DISPp', 'SM1_Dz(i)', 'Mor14m', 'BLI', 'SM08_EA(dm)', 'CATS3D_08_AL', 'VR2_L', 'HATS0m', 'R5u', 'RDF020e', 'MPC03', 'RDF130s', 'TDB01v', 'TDB03i', 'SM14_AEA(ri)', 'Mor25e', 'Mor25m', 'MATS3v', 'ATSC5i', 'ATSC4s', 'CATS3D_11_DL', 'P1i', 'P_VSA_ppp_A', 'Mor30s', 'F02N-N', 'SpMax4_Bh(e)', 'ISH', 'MATS5m', 'totalcharge', 'GATS1i', 'Eta_beta', 'Mor30p', 'R4s+', 'CATS2D_08_AL', 'AVS_B(i)', 'Chi_Dz(m)', 'Eta_betaS_A', 'P_VSA_LogP_5', 'RDF010s', 'Eig04_AEA(bo)', 'P_VSA_i_4', 'C-041', 'PCD', 'P_VSA_p_2', 'SpMaxA_Dz(m)', 'X5', 'SM06_AEA(bo)', 'Mor20i', 'R5s+', 'Mor14s', 'GATS2v', 'T(O..O)', 'Eig11_EA', 'SM14_EA(bo)', 'C%', 'GATS5e', 'SIC4', 'P_VSA_LogP_4', 'SpMAD_H2', 'SM11_EA(ed)', 'ICR', 'SpMin2_Bh(i)', 'SM12_EA(bo)', 'piPC10', 'VR2_B(e)', 'SM15_EA(ri)', 'GATS2m', 'Eig01_AEA(ri)', 'E1e', 'SpPosA_B(m)', 'TDB10v', 'Mor16i', 'SpDiam_B(e)', 'MATS6p', 'BIC5', 'SM09_EA(ri)', 'X3A', 'piPC04', 'F02C-C', 'SM6_B(i)', 'Mor21s', 'Mor24i', 'Mor25u', 'SM2_B(s)', 'SpMaxA_D/Dt', 'H_Dz(p)', 'SpDiam_A', 'CATS2D_09_DL', 'Mor32m', 'B03C-O', 'SM12_EA(dm)', 'MATS2p', 'J_G/D', 'RDF040s', 'SpMax3_Bh(e)', 'R1e+', 'SM15_EA(ed)', 'GATS2p', 'SpDiam_B(i)', 'P_VSA_e_5', 'MAXDN', 'HATS0v', 'SpDiam_B(p)', 'SM4_B(p)', 'SpMAD_B(v)', 'CIC4', 'Eig01_EA(bo)', 'GATS4p', 'Mor10s', 'Eig02_EA(bo)', 'Mor27v', 'JGI2', 'SpMax_EA(ed)', 'ATSC2p', 'ATSC3v', 'F02O-O', 'HATS7u', 'CATS2D_07_AL', 'R3p', 'CATS3D_06_AL', 'SpMAD_RG', 'R2i', 'ChiA_B(p)', 'BAC', 'MWC05', 'ChiA_B(i)', 'P_VSA_ppp_ter', 'AMW', 'Psi_i_A', 'SpMax_EA(bo)', 'Eig11_EA(ed)', 'X3', 'Mor18v', 'SM07_AEA(bo)', 'Eig06_AEA(bo)', 'GATS6e', 'B03C-N', 'MATS6v', 'SpMax_AEA(ri)', 'Mor17v', 'Mor20p', 'SpMaxA_AEA(ed)', 'SM4_B(i)', 'H0p', 'Mor16v', 'TDB04e', 'P_VSA_MR_3', 'R3s', 'SpMax_AEA(dm)', 'SM10_EA(bo)', 'Eig08_EA(ed)', 'R3p+', 'SpMax1_Bh(v)', 'R2e', 'GATS3e', 'RDF105s', 'SpPosA_B(p)', 'SM12_AEA(ed)', 'Hy', 'TDB04s', 'SpMax2_Bh(p)', 'SM6_H2', 'SpDiam_AEA(bo)', 'ATS4s', 'LOC', 'SpPosA_H2', 'VE3_RG', 'R1s+', 'Mor15i', 'Mor14v', 'RDF020m', 'P_VSA_MR_5', 'TDB03p', 'SpDiam_B(v)', 'SpDiam_EA(ri)', 'SsssCH', 'SpDiam_B(m)', 'HATS2m', 'SpMax1_Bh(e)', 'SpMAD_EA(ri)', 'CATS2D_02_DL', 'SpMaxA_EA', 'SRW08', 'HATS2s', 'GATS4m', 'Du', 'ATSC4v', 'Mor12v', 'AAC', 'TPSA(Tot)', 'Mor11m', 'PCR', 'EE_B(s)', 'J_D/Dt', 'HATS6v', 'CATS2D_04_AP', 'MATS2s', 'VE2sign_RG', 'Mor29u', 'Chi_D/Dt', 'SpMax1_Bh(p)', 'AVS_X', 'SpMax1_Bh(i)', 'Eig07_EA(ri)', 'VE1_B(s)', 'GATS2i', 'J_G', 'MATS1i', 'TDB04u', 'Eta_alpha_A', 'RDF015p', 'Mor16m', 'MATS1e', 'SpPosA_L', 'CATS3D_07_DL', 'HOMA', 'Mor17p', 'Eig09_EA(ri)', 'NssO', 'SpMAD_B(i)', 'HATS6m', 'SM11_EA(ri)', 'SpMin1_Bh(p)', 'P_VSA_LogP_3', 'nO', 'SpDiam_EA(bo)', 'piPC07', 'Mor20v', 'H0e', 'piPC05', 'X4sol', 'H5u', 'Mor21m', 'CATS2D_00_DP', 'TDB02i', 'SM14_EA(dm)', 'SpMax_B(e)', 'SpMax3_Bh(i)', 'SM5_B(s)', 'R2u', 'G(O..O)', 'nCONN', 'JGI1', 'CATS2D_03_DA', 'HATS1i', 'GATS3s', 'SM02_AEA(ri)', 'MATS6i', 'SIC3', 'VE1sign_B(s)', 'TDB02r', 'piPC02', 'R7i', 'TWC', 'Mor04p', 'Eig07_EA(ed)', 'Eig04_EA(bo)', 'SpMax_AEA(bo)', 'TDB02s', 'ATSC1s', 'Mor30m', 'SM5_H2', 'Eta_sh_x', 'SM11_EA(bo)', 'MLOGP2', 'SM5_B(v)', 'CATS2D_09_AL', 'MATS2e', 'SM02_EA(bo)', 'N%', 'MPC05', 'TI2_L', 'R5i', 'SM12_AEA(ri)', 'Eta_betaP_A', 'Eta_beta_A', 'SpAD_AEA(bo)', 'TDB01r', 'SpMax_B(s)', 'SpMax_B(v)', 'J_Dz(Z)', 'Mor15u', 'SM5_B(m)', 'P_VSA_e_3', 'SpMaxA_Dz(Z)', 'P_VSA_LogP_2', 'SpMAD_B(p)', 'R4s', 'TDB01i', 'SM6_B(e)', 'Eig08_AEA(ed)', 'SpMAD_D/Dt', 'HVcpx', 'SM12_EA(ri)', 'PHI', 'CATS2D_04_DL', 'SpPosA_B(i)', 'R6s', 'Mor19p', 'SM04_EA(ri)', 'Eta_sh_p', 'L2v', 'Mor14p', 'VR2_G/D', 'SssO', 'MCD', 'R4u', 'SpMax4_Bh(i)', 'B02N-N', 'J_D', 'N-072', 'Mor15e', 'Mor04v', 'MLOGP', 'R4p', 'CATS2D_07_DL', 'ATSC1p', 'SM10_AEA(dm)', 'piID', 'DELS', 'MATS4i', 'Mor24v', 'IC0', 'HATSv', 'RDF020s', 'B04C-O', 'CATS3D_04_PL', 'SpMax_EA', 'F03C-N', 'ATS3s', 'rGes', 'Mor20e', 'MATS6s', 'CATS3D_05_DN', 'SpMAD_B(s)', 'Eig07_AEA(bo)', 'Eig01_EA(ri)', 'Mor14i', 'L2s', 'P_VSA_i_3', 'Mor27p', 'SpMax_AEA(ed)', 'SIC5', 'SdssC', 'ATSC3e', 'IVDE', 'SpMax4_Bh(p)', 'Eig01_EA', 'piPC06', 'Eig06_AEA(ed)', 'SM09_AEA(bo)', 'Eig06_AEA(ri)', 'Psi_e_A', 'GATS5s', 'SpMin3_Bh(p)', 'ChiA_B(m)', 'SM15_AEA(dm)', 'SpMax1_Bh(m)', 'Eig09_AEA(bo)', 'RDF020v', 'Mor19v', 'MATS2i', 'Eig03_AEA(dm)', 'AVS_B(e)', 'Mp', 'TDB04p', 'J_Dz(v)', 'SpMAD_A', 'TDB04v', 'GATS1s', 'H0v', 'RTs+', 'SpPosA_D/Dt', 'RTm+', 'P1p', 'Mi', 'P_VSA_v_2', 'GATS6p', 'HATS4s', 'SM05_EA(bo)', 'SM07_EA(ed)', 'SM6_B(m)', 'J_Dz(m)', 'Mor21i', 'SsNH2', 'piPC08', 'SM08_AEA(bo)', 'TDB03v', 'CATS2D_05_NL', 'DBI', 'GATS4s', 'F04C-N', 'RBN', 'CATS3D_09_DL', 'SM13_EA(bo)', 'SM5_B(i)', 'TDB04r', 'Mv', 'SpMin2_Bh(e)', 'SM6_B(v)', 'MATS2v', 'SpDiam_AEA(ed)', 'SpMAD_AEA(bo)', 'P_VSA_s_6', 'SpMax4_Bh(v)', 'MATS3e', 'Mor29m', 'MATS6e', 'H_D/Dt', 'H0m', 'MATS4s', 'Mor13s', 'P_VSA_v_3', 'Mor15m', 'F02C-O', 'SpMAD_L', 'X5sol', 'RDF020i', 'HATS6p', 'CATS2D_08_DL', 'GATS6v', 'JGT']\n",
            "3267 attributes confirmed unimportant: ['B07O-X', 'nIsoxazoles', 'nCH2RX', 'RDF125m', 'C-025', 'B02B-X', 'F04O-S', 'B02F-Br', 'SP05', 'nRCOX', 'B06Si-X', 'F08Br-I', 'B04S-Br', 'nOxolanes', 'F03O-X', 'B04O-B', 'nCs', 'F10O-Br', 'B01Si-X', 'H6s', 'F02Cl-I', 'Eig12_AEA(dm)', 'SpMax8_Bh(v)', 'B06C-C', 'F05O-Br', 'NaadN', 'RDF070e', 'H7p', 'B01I-B', 'B01C-Br', 'F01P-Cl', 'F09O-Br', 'F04C-S', 'ATS1e', 'SpPosLog_G/D', 'CATS2D_06_NL', 'F08S-Cl', 'B06I-X', 'Mor23i', 'nRCSSH', 'SsCl', 'VE2_G/D', 'CATS2D_06_AA', 'SM3_X', 'nOxiranes', 'CATS3D_11_DD', 'WiA_G', 'B06Br-Si', 'QYYm', 'F10O-F', 'B06O-X', 'MEcc', 'CATS3D_18_PL', 'F07S-S', 'B02F-Si', 'CATS3D_04_DP', 'TIC1', 'ATSC8m', 'B07N-Cl', 'F07S-P', 'F02P-F', 'G1s', 'SaaaC', 'F01C-X', 'SpMax_X', 'QW_L', 'nCXr=', 'B05Cl-B', 'B09O-X', 'Chi_D', 'RDF055v', 'Eig15_EA(dm)', 'B09N-X', 'B04N-B', 'F04F-Br', 'Eig07_EA(dm)', 'F06P-I', 'F02N-B', 'F08N-X', 'CATS2D_01_DP', 'H_RG', 'F05C-O', 'SP12', 'B03S-F', 'B05O-Cl', 'B09O-I', 'B05Br-Br', 'SM6_G', 'ATS7s', 'F03Cl-X', 'B07C-F', 'Psi_e_0', 'B03C-X', 'CATS3D_03_LL', 'B06Cl-Br', 'B05P-P', 'B01O-Cl', 'F08B-B', 'P_VSA_v_1', 'C-021', 'NddsN', 'nR11', 'RDF065m', 'B07F-X', 'F06P-Si', 'CATS2D_01_NL', 'F09S-Br', 'B05S-B', 'F01N-S', 'B09C-P', 'G(P..P)', 'B01O-X', 'H0u', 'CATS3D_04_AP', 'B01S-Cl', 'F01F-Cl', 'SsssSiH', 'T(N..Br)', 'SpMax_G', 'EE_RG', 'F05N-Si', 'SpMaxA_B(v)', 'MWC02', 'CATS2D_07_PN', 'nR03', 'RDF125v', 'CATS3D_00_PN', 'B09N-F', 'CATS2D_06_LL', 'F02O-B', 'ATS2e', 'B09Cl-X', 'B07N-N', 'F06I-X', 'F09F-Si', 'nR09', 'B09P-F', 'RDF050u', 'B06C-N', 'SpAbs_B(e)', 'B01C-F', 'CATS3D_07_AN', 'F07O-P', 'F04P-I', 'B09B-B', 'F10P-B', 'B09Br-Br', 'Eig14_EA', 'F04P-Br', 'F06F-Br', 'B01N-B', 'F09F-B', 'F07O-S', 'nSH', 'SM5_G/D', 'B07F-F', 'I-100', 'T(S..Br)', 'ZM2Per', 'F02Br-B', 'ATS8i', 'NtN', 'R8i+', 'F02S-Si', 'F07P-P', 'F04P-X', 'B08Br-Si', 'CATS3D_07_PL', 'DLS_07', 'nR12', 'CATS2D_08_PP', 'HyWi_D/Dt', 'SpMaxA_H2', 'SM6_Dz(v)', 'B08N-I', 'B05C-Br', 'B01N-S', 'F08P-Cl', 'F01Br-I', 'Cl-089', 'F06F-Cl', 'SssssB-', 'Eig11_EA(dm)', 'ATS8v', 'SpAbs_B(i)', 'VE2_B(i)', 'F07N-S', 'HyWi_G/D', 'B07Cl-X', 'nRCN', 'B09I-Si', 'B09I-I', 'B10S-Cl', 'NaaO', 'RDF095v', 'CATS3D_00_AA', 'CATS3D_19_PL', 'F09P-P', 'B05N-Si', 'F04N-B', 'F01Br-X', 'B02B-B', 'B05S-Si', 'SsssssAs', 'MWC01', 'SM2_X', 'F04I-X', 'R4v+', 'F05P-X', 'B02N-X', 'F04O-O', 'ATS4i', 'F02O-Br', 'VE2_B(e)', 'CATS2D_02_PP', 'F02N-Si', 'CATS3D_02_DD', 'F10S-Br', 'F10C-Br', 'P-119', 'RDF095s', 'B01I-Si', 'C-035', 'SpDiam_Dz(v)', 'B02Br-X', 'B08O-B', 'B06O-Si', 'TDB06p', 'JGI9', 'CATS2D_09_AP', 'F02S-B', 'VvdwMG', 'F02P-I', 'F07C-P', 'n=C=', 'CATS3D_18_NL', 'VR3_B(s)', 'F08N-P', 'Vm', 'C-003', 'B08O-F', 'B08N-Br', 'CATS3D_17_DA', 'B02P-P', 'CATS2D_05_DP', 'GGI6', 'C-022', 'CATS3D_19_DL', 'CATS3D_09_PN', 'NddC', 'B08S-P', 'RDF085v', 'F06C-B', 'H3e', 'SssCH2', 'C-012', 'B10Si-X', 'ATS2i', 'F10Si-X', 'SpPosA_Dz(v)', 'Eig03_AEA(ri)', 'StCH', 'QZZi', 'nArCOSR', 'CATS2D_08_AP', 'B09F-Br', 'CATS2D_09_NN', 'F02P-Br', 'C-028', 'CATS2D_00_NL', 'B07P-I', 'CATS2D_07_AA', 'B10F-Cl', 'F10N-N', 'F04O-Cl', 'B07I-B', 'Mor05u', 'NaasN', 'B03O-S', 'ChiA_G/D', 'GGI2', 'B03Br-I', 'C-011', 'F03N-F', 'SpPosLog_B(e)', 'F07C-Si', 'CATS3D_10_AA', 'F01P-Si', 'nBT', 'F06S-I', 'B05O-O', 'B02I-Si', 'B01C-Cl', 'SdSe', 'ISIZ', 'CATS3D_14_DL', 'B07O-I', 'CATS2D_01_PN', 'SpMaxA_X', 'B03F-Si', 'CATS3D_15_AL', 'F09P-B', 'F09Br-I', 'nBO', 'SpMaxA_G', 'nSO4', 'F04C-X', 'B08O-X', 'H_G', 'B04O-Br', 'B10I-Si', 'DLS_03', 'GGI4', 'F04Br-I', 'SM15_AEA(ri)', 'F07O-Br', 'CATS3D_18_AL', 'F07F-Br', 'I-097', 'CATS2D_03_PP', 'X0', 'F10I-B', 'SdNH2+', 'Psi_i_t', 'SpMax8_Bh(e)', 'CATS3D_03_AN', 'Mor05e', 'F06N-F', 'B10Cl-X', 'VR3_B(e)', 'SP17', 'F06C-Si', 'F09Cl-B', 'B02P-Cl', 'F06Br-X', 'CATS2D_00_AL', 'G(Cl..Cl)', 'B07N-P', 'G3m', 'VE2_B(m)', 'E2s', 'B02P-Br', 'CATS3D_14_AA', 'CATS3D_17_PN', 'B05I-B', 'CATS3D_09_DA', 'B08N-N', 'SpMaxA_B(i)', 'F04S-B', 'nH2O', 'RTv+', 'B02B-Si', 'CATS3D_18_DA', 'B01F-Cl', 'B10C-Br', 'NaaS', 'B05N-P', 'EE_G/D', 'P_VSA_m_4', 'CATS3D_12_PL', 'SsSH', 'CATS3D_12_LL', 'B06Br-I', 'G(N..Cl)', 'X0sol', 'C-038', 'F02C-Si', 'nBeta-Lactams', 'SP15', 'REIG', 'B05N-Cl', 'S-108', 'F06Cl-I', 'B07Br-X', 'CATS3D_05_DD', 'B10Si-Si', 'CATS3D_14_DN', 'CATS3D_17_DP', 'RDF155v', 'B03Br-Si', 'SdssSe', 'CATS3D_02_PP', 'CATS2D_04_NL', 'SpMax7_Bh(m)', 'SpPos_B(e)', 'B10O-X', 'B08O-Cl', 'VR3_L', 'CATS3D_11_AL', 'SpAD_RG', 'CATS3D_12_DD', 'CATS2D_01_AN', 'B01B-B', 'F02P-X', 'F07N-B', 'T(S..Cl)', 'P_VSA_v_4', 'G(F..Cl)', 'D/Dtr10', 'CATS2D_05_AN', 'SM5_Dz(v)', 'CATS3D_17_DN', 'nAziridines', 'B08Cl-Br', 'F01O-F', 'CATS2D_09_DN', 'B07O-S', 'CATS2D_09_PL', 'F03F-F', 'P-115', 'SddssSe', 'CATS3D_00_PP', 'CATS3D_14_NN', 'B01N-F', 'F03O-I', 'F04I-Si', 'B09S-I', 'RDF145v', 'B08S-I', 'Br-092', 'F08Si-Si', 'F08O-Br', 'RDF155i', 'F05N-B', 'CATS3D_05_PP', 'B05C-O', 'VE2sign_B(e)', 'F07P-Si', 'Eig12_EA(bo)', 'CATS3D_09_LL', 'B05C-X', 'B09I-X', 'NssS', 'F04F-Si', 'As', 'SM3_Dz(v)', 'CATS3D_17_AN', 'H7v', 'F06P-Cl', 'H6v', 'F02Br-X', 'F08C-O', 'AROM', 'nNq', 'B09Cl-Si', 'Chi0_AEA(ed)', 'ChiA_D', 'P_VSA_LogP_6', 'F10P-X', 'B07N-Br', 'RDF135i', 'B04C-S', 'SpMax7_Bh(i)', 'SM02_EA', 'B01O-P', 'Psi_i_0', 'SpPosLog_D/Dt', 'F08C-Si', 'B09S-Cl', 'B05C-Cl', 'B09S-S', 'F01O-Br', 'nBR', 'SM2_B(e)', 'F03Cl-Cl', 'TDB10s', 'X5Av', 'F07Si-Si', 'Se', 'F05I-X', 'F06C-P', 'H-053', 'SpMin7_Bh(e)', 'F09S-F', 'F02F-Cl', 'RDF025e', 'F06O-I', 'Mor22p', 'L3e', 'F03Cl-B', 'F05I-I', 'CATS2D_09_AA', 'VE2sign_B(v)', 'ON0V', 'N-069', 'F10Br-B', 'B07P-P', 'CATS3D_00_NL', 'F06S-F', 'ATS8p', 'F09C-F', 'B05P-F', 'B10N-O', 'F03S-B', 'SpMin6_Bh(v)', 'F04O-X', 'Eig05_AEA(ed)', 'B01C-X', 'B05Si-X', 'B04F-Cl', 'F10F-Si', 'I-096', 'CATS3D_07_LL', 'Ho_B(e)', 'F08P-F', 'F03C-I', 'NssNH', 'D/Dtr11', 'F09C-I', 'B06S-X', 'CATS3D_09_AN', 'F06I-B', 'RDF140i', 'F06F-F', 'CATS3D_19_AL', 'CATS3D_18_AP', 'G2m', 'B05S-Cl', 'F08Br-Br', 'RDF075p', 'CATS3D_15_AN', 'SpMaxA_L', 'SpPos_Dz(p)', 'F04N-F', 'B10O-P', 'F02C-Br', 'B07C-C', 'CATS2D_00_PP', 'B01N-P', 'HyWi_G', 'SpDiam_Dz(p)', 'B08X-X', 'MATS8i', 'SssNH2+', 'H1u', 'F09C-B', 'F10P-Si', 'NddsAs', 'CATS2D_00_NN', 'F05C-I', 'CATS3D_12_PP', 'G1m', 'F10C-X', 'B06S-B', 'CATS3D_13_DL', 'B01S-F', 'F07F-B', 'NsSH', 'G(I..I)', 'RDF105p', 'CATS3D_14_DA', 'B09C-B', 'NssssssS', 'SpPos_G/D', 'F03F-B', 'B08O-Br', 'B09X-X', 'Cl-088', 'RDF055u', 'CATS2D_01_LL', 'F06S-Cl', 'G2v', 'F10C-Si', 'nCsp3', 'B10C-Si', 'F03P-B', 'F07S-Cl', 'nArCSSR', 'CATS3D_01_AL', 'ATSC8v', 'NdCH2', 'CATS3D_15_PN', 'SssssSn', 'nArNO', 'TDB09e', 'Chi0_AEA(bo)', 'B02C-Si', 'F08F-Cl', 'F01Br-B', 'B03C-I', 'CATS3D_11_PL', 'nCRX3', 'Tv', 'F10O-B', 'CATS3D_06_LL', 'B08P-Cl', 'RDF105v', 'B10Cl-Cl', 'B06B-B', 'VE1sign_G/D', 'SpPosLog_D', 'F03O-Cl', 'B04N-X', 'TDB09p', 'B10C-Cl', 'NddssS', 'nS(=O)2', 'CATS3D_10_PN', 'B05I-I', 'B07O-Si', 'R8p+', 'CATS3D_18_AN', 'SpMaxA_B(p)', 'B08Si-Si', 'CATS3D_11_PP', 'Av', 'F05S-Br', 'nImidazoles', 'SsLi', 'RDF025u', 'NddssSe', 'F08S-Br', 'F10S-P', 'CATS2D_06_DP', 'CATS2D_03_PN', 'ATS5e', 'CATS2D_07_NN', 'nFuranes', 'CATS3D_04_NN', 'B05S-I', 'B07C-O', 'F07I-X', 'CATS2D_04_DD', 'B09F-F', 'nArNHR', 'B01Br-X', 'B06Br-X', 'Eig13_EA(dm)', 'X2sol', 'nROR', 'CATS3D_04_PP', 'F09S-B', 'CATS2D_04_AN', 'X1', 'Eig13_EA(bo)', 'MPC08', 'F02N-S', 'WiA_B(v)', 'B08P-I', 'SpPosLog_B(i)', 'SpPosLog_L', 'F08N-B', 'F01F-I', 'B01C-Si', 'B10N-I', 'F06O-O', 'J_B(e)', 'B04Cl-Br', 'C-043', 'CATS3D_06_DA', 'B06P-B', 'RDF100e', 'Mor26e', 'F02Cl-Br', 'SpMin8_Bh(s)', 'B03N-N', 'R6i+', 'B06N-P', 'AVS_G/D', 'E3m', 'F08O-F', 'SP13', 'L3i', 'nOHt', 'T(O..F)', 'Eig15_EA(bo)', 'F03S-Si', 'F09P-Si', 'nCR3X', 'Eig13_EA', 'F09N-Br', 'SpMaxA_A', 'nRNHO', 'B02O-Cl', 'F05F-X', 'F05S-S', 'B04S-F', 'RDF150v', 'SpPos_B(m)', 'nCHR2X', 'F01C-Cl', 'B04X-X', 'DP04', 'nArNHO', 'VE1sign_L', 'B10P-Cl', 'CATS3D_03_DN', 'T(Br..I)', 'B09Br-X', 'F10Cl-I', 'VR3_B(i)', 'B10Br-Si', 'NssBH', 'F07P-I', 'F10P-Cl', 'nThiophenes', 'B03F-F', 'F02F-Br', 'F05C-P', 'R7v', 'VE3sign_L', 'F02S-Br', 'F02N-Cl', 'CATS2D_00_PL', 'Br-103', 'F07S-I', 'Cl-087', 'nTB', 'TDB08i', 'G(F..I)', 'F02C-B', 'F08O-O', 'B10Cl-I', 'SpPosLog_X', 'NssssGe', 'SsssGeH', 'Eig13_AEA(ri)', 'F02F-F', 'NsssP', 'IAC', 'nP(=O)O2R', 'HATS0e', 'ITH', 'F08Cl-I', 'D/Dtr04', 'B08F-Si', 'HATS3v', 'CATS2D_01_PL', 'Ho_A', 'CATS2D_01_AA', 'B05Br-I', 'B02Br-Br', 'F04C-I', 'B01F-B', 'Vx', 'F05N-Br', 'SssPH', 'F07C-X', 'F04N-Cl', 'F08F-X', 'RDF150p', 'B04N-F', 'Wi_B(m)', 'F10N-X', 'CATS3D_13_NL', 'B05P-Si', 'B03I-I', 'nArCOX', 'B02Br-B', 'NssssN+', 'F06P-X', 'nRNR2', 'CATS3D_19_AP', 'CATS3D_16_DN', 'F10O-I', 'F05P-F', 'C-004', 'SpPos_B(v)', 'SdsssAs', 'CATS3D_07_DP', 'R6u', 'B03N-X', 'B06C-B', 'B04Cl-I', 'CATS3D_16_AL', 'B02F-F', 'CATS2D_06_PP', 'NsSiH3', 'ntH-Thiophenes', 'F01P-B', 'CATS2D_05_DD', 'WiA_H2', 'B01O-Br', 'F09C-P', 'Chi_B(e)', 'RDF110i', 'F01S-B', 'F02N-X', 'nRCONH2', 'nRCO', 'MPC10', 'F03I-I', 'B-112', 'F04P-Cl', 'G(S..F)', 'R1u', 'F07N-N', 'B08S-Cl', 'RDF150i', 'F06Cl-Cl', 'F07Br-Si', 'F08S-S', 'NsssB', 'RDF070u', 'B02O-I', 'F07F-X', 'B08I-I', 'F05X-X', 'F-082', 'HATS8e', 'RDF045v', 'HATS8v', 'T(O..Cl)', 'SpPosLog_Dz(Z)', 'Chi_RG', 'CATS3D_02_NN', 'B05C-B', 'NsSnH3', 'Si', 'B08N-S', 'RDF110u', 'nSO2', 'CATS2D_02_DN', 'B01Si-Si', 'ATS6i', 'CATS3D_06_PN', 'Chi_B(p)', 'F10N-Cl', 'F05F-Cl', 'RTu', 'B05P-I', 'RDF130m', 'SpAD_G', 'nArNH2', 'CATS3D_11_NL', 'F03N-B', 'F06F-I', 'NssSiH2', 'B04I-X', 'B01C-P', 'nR=Cp', 'B06I-Si', 'CATS3D_13_DA', 'F07F-Si', 'F04N-X', 'Eta_alpha', 'ATSC7i', 'nStructures', 'B03F-Br', 'HTv', 'B04Si-Si', 'B07Cl-I', 'B05C-S', 'F07N-Si', 'RDF060e', 'B05P-B', 'F07B-X', 'B04O-X', 'VE3_G/D', 'F06O-F', 'nI', 'B07Br-B', 'F02O-S', 'B07I-I', 'CATS3D_10_PL', 'CATS3D_12_AP', 'SpPosLog_B(m)', 'B08N-P', 'ATSC6m', 'F09I-B', 'R5p+', 'F01C-S', 'R8m', 'SP02', 'F06P-B', 'CATS3D_14_DD', 'SpMin6_Bh(p)', 'B06P-Br', 'nArCOOH', 'G2i', 'nP', 'C-015', 'CATS3D_01_DA', 'F03P-F', 'F04X-X', 'B03N-P', 'CATS3D_04_AN', 'F04S-Br', 'VE2_L', 'SpAD_A', 'B09Br-B', 'F01Si-X', 'H-054', 'B06S-Cl', 'Xu', 'F06S-S', 'F04B-X', 'F08O-I', 'CATS3D_12_AA', 'CATS2D_01_PP', 'B06S-F', 'nCbH', 'SpMax7_Bh(e)', 'F04S-Cl', 'TDB03e', 'F04P-P', 'F04Si-X', 'B09O-B', 'CATS2D_03_DD', 'CATS3D_12_DP', 'B08Cl-Cl', 'T(F..F)', 'B02N-O', 'Chi1_EA', 'CATS3D_11_PN', 'SpPosLog_B(v)', 'F01C-F', 'F06P-F', 'TIC2', 'B08N-F', 'F04S-Si', 'F08O-X', 'B10F-B', 'F05C-B', 'F10P-P', 'Chi0_AEA(ri)', 'CATS2D_00_AA', 'B10C-I', 'F09Br-X', 'F09S-P', 'nArNO2', 'F07P-Cl', 'GATS8e', 'F02Br-Br', 'SpAD_X', 'F09O-S', 'B08C-Br', 'RDF095m', 'F02S-F', 'T(Cl..I)', 'RDF145u', 'F03F-Br', 'F05S-B', 'CATS3D_17_AL', 'B07Cl-B', 'SddsN', 'CATS3D_09_AA', 'RDF120v', 'Eig15_AEA(bo)', 'B07S-Br', 'B10O-Si', 'CATS3D_16_DD', 'F06C-C', 'NdNH', 'NssssBe-', 'B07C-Br', 'SssPbH2', 'F07B-B', 'nX', 'G2e', 'F03F-Cl', 'NsPH2', 'nThiazoles', 'N-079', 'RDF070v', 'B03Br-X', 'CATS3D_13_PN', 'B01P-I', 'F06S-B', 'B04O-F', 'nCIC', 'B05X-X', 'Mor23u', 'B01Br-B', 'B07F-Si', 'B03I-Si', 'Br-091', 'RDF130i', 'EE_B(e)', 'Eta_C', 'F05Si-X', 'F05O-I', 'RFD', 'F01P-P', 'B01P-Cl', 'B07S-X', 'F04B-Si', 'R1v+', 'Mor22v', 'B01N-Br', 'H5m', 'B06C-P', 'VE1_L', 'F07Br-I', 'SP10', 'B04I-B', 'F06O-X', 'F01O-Si', 'RDF100m', 'F05Br-B', 'G(O..F)', 'CATS3D_07_PP', 'HATS2i', 'SM5_Dz(p)', 'F06C-Cl', 'Gm', 'F02O-F', 'F10O-S', 'VR3_RG', 'B05O-X', 'F07S-X', 'SaaO', 'O-062', 'RDF100u', 'ChiA_Dz(e)', 'F01N-I', 'B07S-I', 'B01C-I', 'B07P-Br', 'B03O-I', 'F08B-X', 'RCI', 'B10F-I', 'QXXi', 'CATS3D_13_LL', 'F05B-Si', 'ChiA_Dz(Z)', 'Eig14_AEA(bo)', 'R7u+', 'TDB08u', 'RDF155e', 'SM2_L', 'Eig14_EA(dm)', 'RDF080i', 'ON0', 'Eig14_EA(ri)', 'F02I-X', 'H6m', 'F05Br-Si', 'QYYi', 'NssBe', 'B02C-B', 'B07O-O', 'CATS2D_01_DL', 'CATS3D_18_LL', 'RDF090u', 'B04S-P', 'B08C-Cl', 'F04N-I', 'Eig12_AEA(ri)', 'GGI5', 'B10F-F', 'SRW09', 'P-116', 'B08F-F', 'Br-093', 'nTA', 'B01I-X', 'F05N-I', 'B04C-C', 'G(N..F)', 'F03F-I', 'NsSeH', 'F06O-Br', 'nOHp', 'nOxetanes', 'nRCONHR', 'AVS_Dz(v)', 'B04S-I', 'F08F-Br', 'nArCO', 'C-010', 'F09Cl-I', 'G(P..F)', 'CATS3D_02_DN', 'B02P-I', 'B05N-N', 'B10Br-Br', 'F06Br-Si', 'BBI', 'B09I-B', 'B03P-X', 'CATS3D_14_AL', 'H1e', 'F01O-S', 'SpMin3_Bh(m)', 'B09O-Si', 'nArC=N', 'nArNCS', 'CATS3D_08_NL', 'B09N-O', 'SM1_B(p)', 'R7s+', 'F08N-S', 'J_X', 'StN', 'T(F..Br)', 'B10F-X', 'F05O-S', 'nArCN', 'B02S-Br', 'VvdwZAZ', 'TDB08v', 'G3u', 'Wi_D', 'O-061', 'CATS2D_07_LL', 'n135-Triazines', 'F06F-X', 'T(F..I)', 'nRCHO', 'B05Cl-Br', 'D/Dtr12', 'F09C-X', 'B04N-O', 'F-085', 'B09B-Si', 'B09F-Cl', 'HATS2u', 'R4u+', 'RTi', 'F03Br-Br', 'CATS2D_03_NN', 'B02S-X', 'F04B-B', 'SsssB', 'SssssSi', 'MW', 'SpPosLog_RG', 'F01C-B', 'F01C-P', 'CATS3D_16_PN', 'B07Cl-Cl', 'B03N-F', 'CATS2D_07_NL', 'F03C-B', 'F07O-B', 'SsssAs', 'SP19', 'G1u', 'Mor22i', 'CATS3D_13_PP', 'nDB', 'B07Br-Br', 'F09C-N', 'F09C-O', 'F01S-I', 'B07N-O', 'NsBH2', 'SM4_X', 'B10X-X', 'F08C-Cl', 'B08Br-X', 'F05C-Cl', 'SssssssSe', 'VR3_B(m)', 'RDF075s', 'B03O-P', 'B04Cl-Si', 'ATS8m', 'B07F-Cl', 'B10N-S', 'F06O-Cl', 'ATSC7m', 'Ho_G', 'nArOCON', 'B02C-F', 'RDF135v', 'CATS3D_05_LL', 'CATS3D_12_DL', 'CATS2D_04_NN', 'SM3_D', 'B05N-Br', 'G(S..Cl)', 'nPyridines', 'F08N-O', 'NsNH2', 'F01O-I', 'F03C-P', 'F01S-X', 'CATS3D_16_PL', 'SpAbs_G/D', 'B04O-S', 'F07S-B', 'B03P-Br', 'IDM', 'CATS2D_06_NN', 'B01P-Si', 'CATS2D_09_LL', 'B05N-S', 'B08Br-B', 'F08F-F', 'P_VSA_m_5', 'B04O-I', 'QYYe', 'ATSC3m', 'R2u+', 'F05O-P', 'nPyrazoles', 'NtsC', 'SM10_AEA(ri)', 'SpMin8_Bh(e)', 'B06O-S', 'SpMax6_Bh(i)', 'G1i', 'CATS2D_01_NN', 'F01Cl-I', 'B03Br-Br', 'RDF105i', 'F10F-X', 'SsAsH2', 'SssssssS', 'VE2sign_G/D', 'F08S-B', 'B10N-Br', 'nCq', 'NsPbH3', 'B03O-Br', 'B02Cl-Cl', 'D/Dtr03', 'TDB10u', 'F04O-P', 'F06S-Si', 'F10O-X', 'CATS2D_02_DP', 'nArNCO', 'B03Si-X', 'F09I-X', 'Psi_i_1d', 'SM1_B(e)', 'B02O-P', 'cRo5', 'CATS2D_08_LL', 'F09O-O', 'NNRS', 'CATS3D_11_AA', 'nArNNOx', 'B03C-S', 'NsssSiH', 'F10S-I', 'T(N..F)', 'H3v', 'SpPosLog_B(s)', 'B05F-I', 'B05Cl-Cl', 'F08C-N', 'F03B-X', 'B07Cl-Si', 'SpPosLog_Dz(i)', 'F01F-B', 'B10O-Cl', 'TDB09r', 'B08B-X', 'F05C-X', 'F04Br-Si', 'F03P-Si', 'NsGeH3', 'ATS6p', 'RDF100v', 'IVDM', 'SssssBe-', 'F08O-Si', 'VAR', 'B01N-Si', 'HyWi_X', 'CATS3D_18_DL', 'O-059', 'B02C-Br', 'CATS3D_06_DP', 'SpDiam_G/D', 'NsLi', 'NssssSn', 'R2v', 'F09F-X', 'F07C-N', 'nC=O(O)2', 'VR3_B(v)', 'CATS3D_03_AA', 'Ho_X', 'RDF135p', 'B04S-Si', 'F02I-I', 'CATS3D_19_PN', 'B05C-P', 'CATS3D_15_NN', 'F02P-B', 'CATS2D_06_AN', 'nCrq', 'T(P..F)', 'B03Cl-Br', 'C-042', 'SM6_RG', 'CATS3D_07_NN', 'DP15', 'HyWi_B(p)', 'SssSiH2', 'B07P-B', 'nSO2OH', 'F07Br-B', 'D/Dtr07', 'B04S-X', 'SsGeH3', 'F05N-Cl', 'F02C-X', 'NdssSe', 'F02Br-I', 'B06F-B', 'Psi_e_0d', 'RDF080s', 'nRNCO', 'B01Cl-I', 'CATS3D_06_NN', 'Mor05m', 'B09C-Si', 'nPR3', 'F04O-I', 'F05F-F', 'CATS3D_08_DD', 'B03S-X', 'R7m', 'CATS3D_06_DN', 'CATS3D_05_DP', 'Rbrid', 'B10C-N', 'CATS3D_13_DN', 'F02C-P', 'B08P-F', 'nArOCN', 'G(P..Cl)', 'Eig14_AEA(dm)', 'B03I-X', 'CATS3D_16_AN', 'TIC4', 'SpAbs_Dz(p)', 'F05N-X', 'nB', 'F02O-P', 'P-120', 'B04C-P', 'B03S-P', 'CATS2D_00_PN', 'F06S-P', 'CATS3D_07_DD', 'SsBr', 'R6e+', 'B07S-F', 'B02S-B', 'F08S-I', 'CATS3D_17_NL', 'F05P-Br', 'CATS2D_06_PN', 'B02Cl-X', 'B04C-B', 'ATS1i', 'SpAbs_G', 'F09O-Cl', 'SdsCH', 'nCXr', 'B03Cl-B', 'F03C-Br', 'B10P-Si', 'F04P-F', 'Eig12_EA(ed)', 'N-073', 'F10I-I', 'nRSCN', 'B07Br-I', 'B08S-X', 'T(O..I)', 'CATS3D_09_NN', 'F08Cl-X', 'R8m+', 'F06N-O', 'Br-095', 'F05Cl-I', 'CATS2D_04_LL', 'Mor01e', 'DP03', 'SM4_Dz(p)', 'H6p', 'NRS', 'B04Cl-X', 'B06O-F', 'CATS3D_17_AP', 'CATS2D_05_PN', 'Wi_Dz(p)', 'CATS3D_08_PN', 'F07C-I', 'nROX', 'ChiA_G', 'IDET', 'F10Cl-X', 'B09Cl-B', 'F10Br-Br', 'nC(=N)N2', 'B02F-I', 'F10Cl-Cl', 'nCrt', 'B02O-X', 'F08I-I', 'F01S-F', 'CATS2D_02_PN', 'F02P-Si', 'F09P-Br', 'nArOX', 'CATS2D_05_PL', 'F02P-Cl', 'SpAbs_RG', 'LPRS', 'nArCOOR', 'nP(=O)R3/nPR5', 'H-051', 'CATS3D_18_DN', 'LLS_01', 'B02N-I', 'F02Br-Si', 'CATS3D_00_AN', 'CATS2D_02_AN', 'F08C-X', 'F02B-B', 'B03C-P', 'VR1_B(m)', 'NtCH', 'B04Br-Br', 'B03O-X', 'F09B-X', 'E1s', 'F02Cl-X', 'P_VSA_s_1', 'CATS3D_13_PL', 'B02C-S', 'CATS3D_08_DP', 'Tp', 'CATS3D_13_AN', 'F06Si-Si', 'T(Cl..Br)', 'SssssN+', 'F08O-Cl', 'CATS3D_03_PN', 'B10Cl-Si', 'F04Si-Si', 'RDF085m', 'H8v', 'Gu', 'CATS2D_05_NN', 'S-106', 'B03P-I', 'CATS2D_07_PL', 'F03N-Si', 'B06P-Si', 'Cl-090', 'B06F-Br', 'J_B(p)', 'B02P-F', 'F09O-I', 'F10S-B', 'SpAbs_Dz(v)', 'TDB09v', 'F06N-Br', 'CATS3D_06_PL', 'ATSC8p', 'HATS0i', 'F01I-I', 'Mor22u', 'B05S-S', 'Chi0_EA', 'B02P-X', 'F03X-X', 'F05Br-I', 'F06Cl-Br', 'nPO3', 'H8m', 'VR1_B(p)', 'nS', 'B01C-B', 'SssssGe', 'CATS3D_17_AA', 'B03O-F', 'B03N-O', 'B05P-Cl', 'F07I-I', 'CATS3D_16_NL', 'B03N-Si', 'CATS3D_12_NL', 'RDF085s', 'NsI', 'Wi_G', 'B01O-Si', 'CATS3D_09_DD', 'VR3_B(p)', 'Mor12s', 'SM3_Dz(p)', 'F07B-Si', 'B01S-Br', 'F04Cl-Cl', 'F02B-Si', 'BID', 'TDB08p', 'F06Br-B', 'RDF080m', 'B10Cl-Br', 'B06N-O', 'F01Cl-X', 'B02Si-Si', 'G(Br..Br)', 'B04F-I', 'CATS3D_06_AN', 'NsCl', 'F02N-Br', 'CATS3D_01_AA', 'B06F-F', 'C-033', 'MATS8v', 'B09C-N', 'VR1_B(s)', 'SddC', 'C-030', 'B08C-B', 'F04Cl-Br', 'SpPosLog_B(p)', 'JGI8', 'nArCONH2', 'B10P-X', 'F04C-Si', 'Eig05_EA(dm)', 'CATS2D_02_NN', 'B07B-X', 'CATS2D_06_AP', 'nPyrazines', 'F05C-Si', 'B08C-N', 'B04I-I', 'F07Br-X', 'CATS2D_04_DN', 'F10P-Br', 'B06Si-Si', 'CATS3D_17_PL', 'B05O-S', 'CATS3D_05_NL', 'B04N-N', 'SpMAD_G', 'F04S-P', 'N-075', 'RDF080e', 'B04F-B', 'R8u+', 'nR04', 'CATS3D_00_NN', 'B04F-Br', 'ATS1m', 'nSO2N', 'B04Br-Si', 'B10N-N', 'T(Cl..Cl)', 'R7p+', 'CATS3D_03_NN', 'F04Br-X', 'G3v', 'RDF125u', 'HATS1p', 'F01O-O', 'B04N-Br', 'F01O-Cl', 'RDF070i', 'SaaNH', 'MATS7s', 'B10P-I', 'CATS3D_09_AP', 'B08Cl-Si', 'B08I-B', 'F01I-B', 'F02C-I', 'F10F-B', 'SsI', 'B03I-B', 'F06N-I', 'B07C-I', 'T(O..P)', 'ATS3i', 'SpPos_D/Dt', 'Eig03_EA', 'RCON', 'F03O-B', 'nBnz', 'RDF075m', 'F06X-X', 'F03O-F', 'B06P-Cl', 'B08I-Si', 'C-013', 'F09P-I', 'F06Cl-B', 'T(N..Cl)', 'nPyridazines', 'F03Br-Si', 'F07F-F', 'B02P-Si', 'F07F-I', 'B01S-I', 'X%', 'CATS3D_00_AL', 'Eig12_EA(ri)', 'SM4_Dz(v)', 'F09Br-Br', 'B06F-Cl', 'RDF150s', 'QXXp', 'QYYp', 'QZZe', 'F08N-F', 'DLS_06', 'F03Si-Si', 'B03O-O', 'Eig14_EA(bo)', 'F04F-F', 'HATS8u', 'NaaaC', 'SsSiH3', 'VR1_B(e)', 'B04P-X', 'B10C-B', 'B05N-F', 'nPyrroles', 'B10I-X', 'CATS2D_05_AP', 'CATS3D_10_DD', 'F06N-N', 'nRCSSR', 'SdCH2', 'NaaN', 'C-034', 'B01I-I', 'NssPH', 'CATS3D_10_DN', 'SpMin7_Bh(v)', 'RDF145e', 'Mor05v', 'Ho_D', 'B07P-Si', 'B02F-Cl', 'CATS3D_12_AN', 'RGyr', 'C-016', 'R8v+', 'B04B-Si', 'RDF140m', 'F02Cl-Si', 'ATS7e', 'CATS3D_16_DL', 'B05Cl-Si', 'F04Br-Br', 'nSO3', 'nROCN', 'B06S-S', 'B05P-Br', 'B01Cl-Si', 'F09F-F', 'F06Br-I', 'SpMaxA_B(e)', 'Eig06_EA(dm)', 'B08Cl-X', 'B03O-Si', 'H7s', 'B08N-O', 'NssssssSe', 'DLS_04', 'CATS2D_07_DP', 'F09N-S', 'R6u+', 'F06Cl-X', 'F01S-Cl', 'HyWi_Dz(v)', 'NsssNH+', 'F03P-Cl', 'B06C-X', 'B09S-P', 'F07F-Cl', 'B07C-S', 'F04F-B', 'F-084', 'F09F-Cl', 'F09O-Si', 'SM4_G/D', 'SpPosLog_G', 'F07Br-Br', 'B02Cl-B', 'B06N-S', 'CATS2D_07_DA', 'F05N-F', 'B03Si-Si', 'G(Br..I)', 'CATS3D_06_DD', 'SsssSnH', 'B07S-B', 'G(P..I)', 'B09N-Cl', 'F09O-P', 'HATS7v', 'RDF140v', 'F01C-Br', 'F02S-X', 'Eig14_AEA(ri)', 'CATS3D_09_NL', 'B06N-F', 'CATS3D_13_AL', 'R3i+', 'F03N-N', 'F03F-X', 'WiA_B(e)', 'Eta_F', 'NdsCH', 'RDF100i', 'RDF125p', 'B10Br-B', 'F08S-P', 'P_VSA_MR_4', 'nRSR', 'nAB', 'F10F-I', 'CATS3D_16_LL', 'C-032', 'B03C-Cl', 'N-067', 'SpMaxA_G/D', 'C-018', 'B06I-B', 'B07O-P', 'F06N-S', 'B01Br-Br', 'B07S-Si', 'F07Cl-Si', 'F08P-B', 'F06O-P', 'G(O..Br)', 'Se-065', 'Ai', 'nN=N', 'B05C-F', 'CATS3D_10_PP', 'B04Br-B', 'B07N-Si', 'F04N-N', 'B07P-F', 'NaaCH', 'HATS8p', 'B09Br-I', 'B03C-B', 'nCsp', 'RDF110p', 'CATS3D_19_NL', 'F10C-Cl', 'SM2_Dz(p)', 'CATS3D_01_DL', 'B07N-X', 'N-070', 'SM3_G/D', 'F08O-B', 'Wi_G/D', 'F03P-Br', 'F08C-B', 'SpMin8_Bh(i)', 'CATS3D_09_DN', 'F10Cl-Si', 'F03S-P', 'CATS2D_09_PP', 'F06I-Si', 'RDF145i', 'H7e', 'IDDM', 'B06O-P', 'B07Si-X', 'B10O-I', 'F04I-B', 'F10X-X', 'CATS3D_06_PP', 'nCt', 'B09C-O', 'B08P-B', 'F04S-S', 'SM3_RG', 'B05N-B', 'B05I-Si', 'B07N-F', 'F05P-B', 'RDF155p', 'B08O-S', 'CATS2D_08_DN', 'CATS3D_05_AP', 'P_VSA_LogP_1', 'CATS3D_19_AN', 'B08S-F', 'F01N-F', 'SpPosLog_Dz(p)', 'SP04', 'H-055', 'D/Dtr05', 'CATS3D_12_NN', 'F02Si-Si', 'B03B-B', 'Chi_H2', 'MPC09', 'B10O-B', 'T(S..F)', 'F09O-F', 'CATS3D_07_AA', 'B09C-I', 'B08S-Br', 'nR=CX2', 'B08F-Cl', 'F02N-P', 'B02S-F', 'VE2sign_B(i)', 'B08C-I', 'B04C-X', 'CATS3D_16_AP', 'SdsssP', 'G3e', 'R8e+', 'B03Cl-X', 'SssSnH2', 'SMTI', 'IDMT', 'P_VSA_ppp_hal', 'B04N-Si', 'SpMin5_Bh(s)', 'SpPosLog_A', 'SM03_EA', 'F09N-B', 'CATS3D_07_AP', 'CATS3D_18_NN', 'SsssssP', 'B08S-Si', 'CATS3D_10_LL', 'B03C-F', 'B05N-X', 'B06N-Br', 'B07B-Si', 'RDF155m', 'F06C-F', 'F07O-X', 'B07O-Cl', 'Mor05i', 'B06C-Si', 'F06F-Si', 'CATS3D_15_NL', 'G(S..S)', 'F04F-X', 'B02N-P', 'E3s', 'H2u', 'F-101', 'B04Br-X', 'B08I-X', 'B04O-P', 'Ho_L', 'B03N-B', 'CATS3D_05_PL', 'B02O-Si', 'B09F-X', 'F07C-O', 'B05O-B', 'F07N-F', 'G(P..Br)', 'B02O-F', 'B10S-I', 'B07F-I', 'F10O-O', 'SpAbs_B(m)', 'HATS2e', 'F03Br-B', 'B03X-X', 'B10P-P', 'CATS3D_15_AA', 'CATS3D_03_PP', 'NsssssP', 'RDF090m', 'ATS1v', 'SpPos_Dz(v)', 'B07F-Br', 'SM08_AEA(dm)', 'nCIR', 'CATS3D_07_DA', 'SssGeH2', 'B06N-X', 'VE2sign_B(p)', 'SddssS', 'F07N-Cl', 'nR#C-', 'SRW03', 'F02O-Si', 'F03O-S', 'B02S-P', 'Eig04_EA(dm)', 'B04P-Si', 'B10F-Si', 'B09O-P', 'SssBe', 'F10Si-Si', 'CATS3D_01_PL', 'B06F-X', 'CATS3D_00_PL', 'Chi_B(v)', 'B02C-C', 'CATS3D_08_AN', 'GGI10', 'nSO', 'DP08', 'Ho_H2', 'B01F-F', 'B03Cl-Si', 'B05Cl-I', 'nArOR', 'F03P-P', 'SpDiam_G', 'NssssC', 'RDF085p', 'ATSC7v', 'CATS3D_14_AP', 'B10Cl-B', 'nCHRX2', 'F05O-F', 'F10N-Si', 'O-058', 'B09F-Si', 'CATS3D_10_DP', 'F02C-F', 'B08C-O', 'CATS3D_14_LL', 'SM6_G/D', 'G(O..I)', 'CATS3D_07_PN', 'SpAD_H2', 'RDF145p', 'F05C-F', 'N-071', 'B05F-Cl', 'SpMax6_Bh(e)', 'F01N-X', 'F06C-N', 'N-066', 'RDF080v', 'HTp', 'F02C-S', 'F01S-Br', 'F03I-Si', 'F09N-P', 'B01N-Cl', 'NsBr', 'NssPbH2', 'T(Br..Br)', 'N-078', 'MPC02', 'HATS8i', 'nArCONHR', 'F01S-P', 'B10N-Cl', 'SpMax_Dz(v)', 'G(N..P)', 'B05B-Si', 'B06O-I', 'B01O-S', 'F03N-P', 'F09N-N', 'CATS2D_09_DP', 'TIC5', 'CATS2D_01_DA', 'F01N-Br', 'NssssSi', 'F09C-Cl', 'T(P..Br)', 'SdsN', 'B06F-Si', 'Eig15_AEA(ri)', 'Chi_B(i)', 'CATS3D_13_DD', 'F08C-P', 'Chi_B(m)', 'B10C-O', 'Ho_G/D', 'nArNR2', 'F10S-Si', 'F09C-Br', 'B09F-I', 'HDcpx', 'F01I-Si', 'T(S..I)', 'F02I-Si', 'B07C-Si', 'B06S-I', 'SaasN', 'F06N-Cl', 'G(S..Br)', 'F06N-Si', 'CATS3D_00_DN', 'CATS2D_06_AL', 'F09N-F', 'F03P-I', 'F04Cl-I', 'H1i', 'B02Cl-Br', 'F05N-P', 'SpPosA_G', 'F04P-Si', 'F04P-B', 'Chi_X', 'F09P-Cl', 'L3v', 'F03B-Si', 'B10P-Br', 'nR10', 'F06C-X', 'B02Br-Si', 'Eta_L', 'B03S-Si', 'B03Br-B', 'F04I-I', 'F07C-Cl', 'C-020', 'CATS3D_00_DA', 'F10N-F', 'GGI7', 'B06C-F', 'nR#CX', 'SpMax8_Bh(i)', 'DP19', 'B05O-P', 'CATS3D_17_DD', 'F02I-B', 'F03S-X', 'F05Si-Si', 'CATS2D_05_AA', 'RDF135u', 'F04O-B', 'CATS3D_16_PP', 'DP13', 'F06C-Br', 'P-118', 'NsCH3', 'B03P-Cl', 'B08N-Cl', 'Psi_e_t', 'B09C-Br', 'F06F-B', 'F05S-F', 'G2', 'F10N-Br', 'nArSCN', 'SsssN', 'CATS2D_08_PL', 'B07S-P', 'F09P-X', 'P_VSA_p_1', 'NsssN', 'B02Si-X', 'CATS3D_04_DN', 'WiA_B(i)', 'SpPosLog_Dt', 'F03P-X', 'CID', 'Mor06e', 'B06B-X', 'F04O-Si', 'B09S-X', 'B05C-Si', 'F08C-S', 'B02X-X', 'B03B-X', 'CATS3D_19_NN', 'F03S-F', 'F05O-Si', 'F08S-F', 'B09P-Cl', 'SM06_AEA(dm)', 'Ho_RG', 'nArCONR2', 'SaaS', 'F09C-Si', 'CATS3D_02_NL', 'F05Cl-Cl', 'CATS2D_04_DP', 'B02N-S', 'RDF150e', 'F03Br-I', 'F05O-Cl', 'B07C-B', 'F06C-I', 'T(P..I)', 'G(F..F)', 'Eig05_AEA(bo)', 'Ro5', 'F02S-P', 'F05S-X', 'F07P-B', 'B10N-F', 'Cl-102', 'F01Br-Br', 'RDF100p', 'MPC01', 'B05C-C', 'B05O-Br', 'F10O-Cl', 'SM5_X', 'SM3_B(e)', 'B05N-I', 'F01Cl-B', 'B02I-B', 'C-019', 'B10C-X', 'RDF095u', 'F05F-Br', 'B02S-I', 'NaaSe', 'CATS2D_00_DN', 'T(S..P)', 'F07S-F', 'F08C-I', 'F07Cl-Br', 'F02S-S', 'nN-N', 'Cl-086', 'F09C-C', 'RTe', 'F05B-X', 'Wi_RG', 'nF', 'CATS2D_07_AN', 'CATS3D_05_PN', 'F08B-Si', 'B04B-B', 'B06N-I', 'PJI2', 'SM6_X', 'T(P..P)', 'nR=CRX', 'Mor07e', 'SpMax_G/D', 'CATS3D_19_DD', 'B04C-F', 'B10O-S', 'B03Cl-I', 'CATS3D_19_DA', 'F02C-Cl', 'B01F-Si', 'CATS3D_08_AA', 'ATS7p', 'B06P-I', 'CATS3D_05_AA', 'F04Br-B', 'B05O-Si', 'NsssSnH', 'B09O-S', 'B09P-Br', 'B10B-X', 'F-081', 'C-014', 'NssCH2', 'F01C-I', 'H2i', 'F06O-Si', 'ZM1', 'RDF070p', 'SM11_AEA(bo)', 'F05B-B', 'B06B-Si', 'F09O-X', 'B05Br-X', 'F07N-O', 'B06Br-B', 'F05S-I', 'nRNNOx', 'F07C-F', 'B10S-Si', 'RDF090i', 'F07X-X', 'B01C-S', 'F10N-P', 'B03F-B', 'B01N-O', 'B01P-X', 'B01X-X', 'CATS3D_10_NL', 'Si-111', 'GGI1', 'SM5_RG', 'F04S-I', 'B06X-X', 'RDF150u', 'F08P-Si', 'F05S-Si', 'Ho_B(m)', 'Eig13_AEA(bo)', 'F07P-F', 'Chi1_AEA(bo)', 'SdssS', 'CATS3D_03_NL', 'CATS3D_04_DD', 'F10Cl-B', 'SaaN', 'F10Br-X', 'SsssNH+', 'B08C-C', 'F01P-I', 'F03S-Cl', 'CATS3D_03_DP', 'P_VSA_MR_7', 'nSOOH', 'CATS3D_01_AN', 'F06S-Br', 'F03Cl-Si', 'F08P-X', 'VR3_G/D', 'F07Si-X', 'B04P-Br', 'nThiranes', 'B10N-B', 'CATS3D_05_NN', 'G(O..P)', 'CATS2D_08_NN', 'SM4_RG', 'F02B-X', 'B08Cl-B', 'RDF095e', 'B04S-Cl', 'B08C-S', 'CATS2D_02_NL', 'C-027', 'MATS8p', 'B07P-X', 'VR1_G/D', 'RDF145s', 'F04Cl-Si', 'F06P-Br', 'CATS2D_08_DA', 'B05F-F', 'nHM', 'RDF050i', 'CATS3D_19_LL', 'SP09', 'GATS8s', 'F08Br-B', 'NsssssAs', 'G(Cl..Br)', 'B01N-I', 'B01S-P', 'SssssPb', 'SM3_G', 'I-104', 'RDF155u', 'B02C-X', 'CATS2D_09_AN', 'S-107', 'F09C-S', 'F10C-P', 'B03S-S', 'CENT', 'F03Br-X', 'DP17', 'R8u', 'NssNH2+', 'ATSC8i', 'B07Si-Si', 'B05Si-Si', 'B02I-X', 'F06S-X', 'SM2_G/D', 'NsF', 'F08S-Si', 'B04S-S', 'S-109', 'B01O-B', 'F09P-F', 'CATS3D_06_AP', 'nR05', 'F04N-Si', 'CATS3D_15_DA', 'CATS3D_05_AL', 'QZZp', 'NsOH', 'F08C-C', 'CATS3D_08_PP', 'F06B-X', 'B06I-I', 'SM2_G', 'R6p+', 'B07O-B', 'Eig15_AEA(dm)', 'F07N-P', 'B05S-P', 'E2m', 'CATS3D_01_DP', 'B06C-I', 'SpPos_L', 'CATS3D_16_DA', 'CATS3D_07_AL', 'B07I-X', 'F09S-S', 'G(S..P)', 'RTv', 'R8v', 'B05F-Si', 'TDB06v', 'CATS3D_13_AP', 'CATS2D_08_DP', 'F08Br-Si', 'B03P-F', 'F05I-B', 'B05C-I', 'WiA_B(p)', 'VE3_B(m)', 'B01O-F', 'NssssPb', 'NdsN', 'RDF090p', 'B04S-B', 'P_VSA_p_4', 'F10F-Cl', 'D/Dtr09', 'RDF120p', 'Chi_G', 'nSK', 'F03O-P', 'B06F-I', 'nR=CHX', 'SM1_B(v)', 'Eig15_EA(ed)', 'R7v+', 'B09S-Si', 'SM09_AEA(dm)', 'B01N-N', 'F03C-Cl', 'EE_X', 'CATS3D_04_AA', 'B02O-B', 'RDF035u', 'Mor01s', 'F05N-N', 'F03Si-X', 'SpMin7_Bh(m)', 'B03N-I', 'F03I-X', 'Eig15_EA', 'C-031', 'F07N-I', 'F03I-B', 'CATS3D_15_DN', 'DP02', 'B09N-P', 'Br-094', 'F10S-F', 'RDF130p', 'HIC', 'F10C-N', 'CATS3D_00_AP', 'B10C-C', 'F08N-I', 'CATS3D_04_LL', 'F05Br-X', 'VR1_B(v)', 'CATS3D_05_AN', 'WiA_RG', 'B07C-N', 'F09Si-Si', 'B01O-O', 'C-001', 'H3i', 'F03N-Cl', 'Mor01i', 'B10N-P', 'R3v+', 'Mor07p', 'CATS2D_03_AP', 'H-048', 'F02F-Si', 'Vu', 'B09C-S', 'B04N-S', 'B08B-B', 'DP09', 'F09N-Si', 'B08O-P', 'F10Br-Si', 'nArOH', 'SpAD_L', 'CATS3D_18_DD', 'NdssC', 'F08Cl-B', 'C-029', 'RDF125e', 'B08S-S', 'B06O-Cl', 'CATS3D_17_LL', 'CATS2D_05_PP', 'F05C-S', 'HyWi_Dz(p)', 'nCconjX', 'T(S..S)', 'B06S-P', 'SpMax5_Bh(m)', 'F09Cl-Si', 'B06P-P', 'B08C-X', 'Mor07i', 'C-017', 'CATS3D_14_PL', 'B02P-B', 'nSO3OH', 'B08C-P', 'B07B-B', 'B09P-X', 'nN+', 'B10Br-I', 'nO(C=O)2', 'C-039', 'nThioethanes', 'B08F-X', 'Psi_i_1s', 'RDF095i', 'CATS3D_15_PL', 'B06O-O', 'F02F-X', 'F01N-O', 'B05B-X', 'F08N-Br', 'SsSeH', 'NdsssP', 'F07C-C', 'B10S-B', 'B04P-Cl', 'B02S-S', 'SaaSe', 'SRW02', 'SM2_D/Dt', 'SpMin8_Bh(v)', 'SpAD_G/D', 'B09C-Cl', 'nArCHO', 'DP14', 'B07Br-Si', 'F07Cl-B', 'B02S-Cl', 'B10C-S', 'RDF110e', 'F05F-I', 'nRNHR', 'B04I-Si', 'CATS3D_01_PN', 'B10O-O', 'NssSnH2', 'F01Si-Si', 'F08F-Si', 'CATS2D_04_PP', 'RDF060u', 'Wi_B(i)', 'F10O-Si', 'CATS2D_06_DD', 'F10S-S', 'F06B-B', 'F09N-Cl', 'CATS3D_11_NN', 'B02O-S', 'B02Cl-I', 'B09P-P', 'CATS3D_16_DP', 'B10O-Br', 'CATS2D_07_PP', 'Eig10_EA(dm)', 'NdS', 'CATS3D_12_DN', 'B10O-F', 'nArCSSH', 'Ho_Dz(v)', 'SM07_AEA(dm)', 'NsssGeH', 'F09Br-B', 'B04P-B', 'B06Br-Br', 'CATS3D_16_AA', 'F03N-I', 'Dz', 'SsssP', 'Chi1_EA(bo)', 'G(S..I)', 'F03N-O', 'F05P-Cl', 'F04Cl-X', 'nRNCS', 'nCar', 'Eig15_AEA(ed)', 'CATS3D_02_AP', 'B05S-F', 'P-117', 'B09O-F', 'B10I-I', 'nR06', 'B08O-O', 'F08C-Br', 'B09N-S', 'Mor26u', 'CATS3D_02_AN', 'B01S-X', 'B03O-Cl', 'ATS7m', 'CATS3D_02_DP', 'B07O-Br', 'F10N-O', 'CATS2D_09_DA', 'B06O-B', 'B04Cl-B', 'RDF050e', 'G(N..I)', 'RDF095p', 'nTriazoles', 'Wi_D/Dt', 'B02F-B', 'CATS3D_11_AP', 'RDF090s', 'SssSe', 'CATS2D_01_DN', 'Chi1_EA(ri)', 'Se-064', 'B08B-Si', 'Eig08_EA(dm)', 'B04O-Si', 'CATS3D_01_NN', 'B01P-F', 'B04F-X', 'CATS3D_18_AA', 'F01F-Br', 'F05S-Cl', 'F10C-B', 'AVS_G', 'P_VSA_s_2', 'B08P-P', 'F10N-B', 'F04O-Br', 'B09N-B', 'B10S-P', 'CATS2D_03_NL', 'NssAsH', 'CATS2D_08_AA', 'GGI9', 'B06C-Br', 'F02P-P', 'CATS3D_08_DA', 'F09B-B', 'RDF060i', 'RDF130u', 'B09Cl-Br', 'XMOD', 'F03N-S', 'F06O-B', 'F03O-Si', 'F10O-P', 'CATS2D_04_AA', 'B09B-X', 'F01C-Si', 'I-098', 'VE3_L', 'B08C-F', 'CATS2D_05_LL', 'SsCH3', 'F08N-Cl', 'RDF120m', 'B01F-Br', 'F10C-F', 'JGI7', 'B01Cl-B', 'F07O-Si', 'Mor23s', 'B01Cl-X', 'F01F-X', 'G(F..Br)', 'B08Br-Br', 'F03N-X', 'F02Si-X', 'RDF070m', 'Xt', 'B10S-S', 'B05O-I', 'nR=Ct', 'B03Cl-Cl', 'Psi_i_0d', 'B01B-Si', 'StsC', 'F10P-I', 'B06S-Si', 'F06P-P', 'E3e', 'CATS3D_14_PP', 'P_VSA_e_4', 'B08F-I', 'B10S-F', 'F08Cl-Br', 'nPyrrolidines', 'T(N..P)', 'F01F-Si', 'CATS3D_13_NN', 'VE3_B(p)', 'B03F-Cl', 'X1Mad', 'CATS3D_14_NL', 'CATS2D_09_NL', 'B03O-B', 'T(O..Br)', 'ChiA_Dt', 'C-005', 'Eig11_EA(bo)', 'F09S-X', 'RDF055p', 'H5s', 'CATS3D_03_AP', 'TDB08r', 'B08O-Si', 'F04S-X', 'F10I-Si', 'B03B-Si', 'F04Cl-B', 'SpMaxA_RG', 'CATS3D_13_AA', 'B01Cl-Cl', 'CATS3D_18_DP', 'HGM', 'F10F-F', 'CATS3D_08_PL', 'F01I-X', 'F05Cl-Br', 'F01P-X', 'TDB09i', 'F05O-B', 'Wi_Dz(v)', 'F01Br-Si', 'B09P-Si', 'F02O-I', 'F05P-Si', 'B09C-C', 'B10S-Br', 'H2e', 'H-049', 'SpMax8_Bh(m)', 'SssAsH', 'R7m+', 'C-037', 'B04F-F', 'F01Cl-Si', 'B02I-I', 'Ho_Dz(p)', 'F06O-S', 'GATS8v', 'nCconj', 'B04O-Cl', 'H7u', 'B02C-Cl', 'F08P-I', 'RDF110v', 'CATS3D_13_DP', 'nN=C-N', 'H3p', 'B05Br-Si', 'B09P-B', 'F08I-Si', 'Mor23e', 'CATS3D_12_DA', 'B04N-I', 'F02F-B', 'N-076', 'F10C-C', 'B08N-B', 'F06C-S', 'CATS3D_10_AN', 'B09S-B', 'F07C-S', 'F04C-Cl', 'CATS3D_14_DP', 'F08O-P', 'B03S-I', 'SP18', 'B01S-Si', 'B05F-Br', 'B06N-Si', 'B10I-B', 'nRCONR2', 'CATS3D_14_AN', 'F01S-Si', 'B09N-Br', 'EE_A', 'F09S-Si', 'B08F-Br', 'B09F-B', 'HATS2p', 'Eig05_EA(ed)', 'nSOH', 'HATSu', 'X0v', 'B07N-S', 'B08Si-X', 'CATS3D_18_PP', 'F03N-Br', 'nOxazoles', 'RDF100s', 'B04P-F', 'O-063', 'ATS6m', 'N-068', 'T(N..I)', 'QZZm', 'SsPbH3', 'RDF105u', 'CATS3D_11_LL', 'nPyrimidines', 'nRNH2', 'SpDiam_X', 'Eig15_EA(ri)', 'ATS6v', 'F09Si-X', 'CATS3D_01_NL', 'B08P-X', 'DP20', 'F01B-X', 'HTi', 'B04F-Si', 'B05F-X', 'B05F-B', 'B01P-P', 'ATS7i', 'SdS', 'VR1_L', 'C-040', 'F10N-S', 'B09C-F', 'B04C-I', 'G(N..Br)', 'nR08', 'B07C-P', 'SpPos_H2', 'F02Cl-Cl', 'SM2_H2', 'nAzetidines', 'P_VSA_e_1', 'F05P-I', 'B05O-F', 'nHAcc', 'B01C-C', 'B02N-F', 'C-009', 'HATS0u', 'TDB08s', 'SM1_B(m)', 'B03S-Cl', 'ATS7v', 'B01P-B', 'B06Cl-B', 'CATS3D_06_AA', 'Wi_B(e)', 'B07Cl-Br', 'ATSC5m', 'F08I-X', 'VE2sign_L', 'B02S-Si', 'RDF055m', 'CATS3D_15_LL', 'F05Cl-Si', 'SP16', 'nC=N-N', 'CATS3D_01_DN', 'G3i', 'F01N-P', 'F08N-Si', 'SsSnH3', 'SsPH2', 'RDF090e', 'B07N-I', 'B05B-B', 'CATS3D_19_AA', 'B06Cl-X', 'CATS3D_09_PP', 'F07Cl-X', 'B01N-X', 'F10F-Br', 'CATS2D_09_PN', 'B07S-S', 'CATS3D_04_NL', 'Chi1_AEA(ri)', 'F06Si-X', 'JGI10', 'RDF155s', 'RDF145m', 'F01O-P', 'G(O..Cl)', 'CATS2D_01_AP', 'nR#CH/X', 'NssssB-', 'S0K', 'B06C-O', 'B03C-Si', 'B09Si-Si', 'SRW05', 'C-024', 'ATS6e', 'CATS3D_10_AP', 'SM2_RG', 'F07S-Si', 'B01O-I', 'R8p', 'SpAD_Dz(v)', 'F04F-Cl', 'B10Br-X', 'SpPosLog_Dz(m)', 'CATS3D_15_AP', 'SM14_AEA(dm)', 'nRCSOH', 'G3p', 'R7i+', 'F06B-Si', 'T(F..Cl)', 'R5m+', 'G(Cl..I)', 'B08N-X', 'H8s', 'B02N-Si', 'B09Cl-Cl', 'CATS3D_01_PP', 'F07O-F', 'SpPosLog_Dz(v)', 'F04C-Br', 'T(I..I)', 'F01N-Cl', 'CATS3D_00_DL', 'ATS4e', 'F09X-X', 'SM6_Dz(p)', 'F07S-Br', 'B04O-O', 'SP20', 'F01S-S', 'B07C-Cl', 'SpMax_Dz(p)', 'F07Cl-I', 'F06N-X', 'F06C-O', 'SRW07', 'nH', 'F05C-Br', 'F02S-I', 'SM5_G', 'DP10', 'F06I-I', 'F03C-Si', 'Eig12_EA(dm)', 'H7m', 'F07I-Si', 'SddsP', 'RDF140u', 'B05N-O', 'F07N-X', 'F09N-I', 'SNar', 'F02N-I', 'NssGeH2', 'F09B-Si', 'C-036', 'CATS3D_11_DP', 'RDF135m', 'B03F-X', 'Ram', 'B10B-B', 'B10P-F', 'F02O-X', 'F07O-Cl', 'X2', 'F10S-Cl', 'B09Cl-I', 'CATS3D_01_DD', 'F03S-I', 'CATS3D_15_PP', 'B08F-B', 'F07N-Br', 'SpPos_G', 'B04B-X', 'G3s', 'F10B-X', 'nAT', 'NddsP', 'nArX', 'Mor23p', 'B07F-B', 'B01Br-I', 'F09Cl-X', 'B07O-F', 'nCL', 'GMTI', 'B08Cl-I', 'RDF075v', 'nPO4', 'RDF130e', 'CATS3D_15_DP', 'B06P-F', 'F09Br-Si', 'SpAD_Dz(p)', 'F07P-X', 'B02N-Br', 'B06N-B', 'T(P..Cl)', 'B04Cl-Cl', 'nArCSOH', 'F08O-S', 'CATS3D_18_PN', 'SssBH', 'CATS3D_07_NL', 'F07O-I', 'F01X-X', 'ATS5i', 'F08X-X', 'B01B-X', 'F09I-Si', 'B06N-Cl', 'F10I-X', 'CATS2D_07_DN', 'CATS3D_08_LL', 'B05Br-B', 'SsssPbH', 'B03P-P', 'HyWi_B(m)', 'F04C-B', 'RDF125s', 'F02X-X', 'B09N-Si', 'F10N-I', 'nRNO2', 'B03S-Br', 'nR07', 'F09F-I', 'nHet', 'B02N-B', 'CATS2D_00_DA', 'SpMin7_Bh(p)', 'B09N-I', 'QYYs', 'B02C-I', 'B03N-Br', 'B09S-F', 'B09O-Cl', 'F08F-I', 'I-099', 'X1v', 'B06O-Br', 'F07P-Br', 'F07I-B', 'NdsssAs', 'F09S-I', 'SpMin2_Bh(m)', 'F09Cl-Cl', 'CATS3D_17_PP', 'R8i', 'CATS2D_00_AP', 'B07X-X', 'F02F-I', 'B07P-Cl', 'SM1_B(i)', 'F01P-F', 'B01F-X', 'CATS2D_03_AN', 'S-110', 'RDF055i', 'C-006', 'QYYv', 'ON1', 'SpMin8_Bh(p)', 'CATS3D_09_DP', 'Eig12_AEA(bo)', 'nRCOOH', 'NsssPbH', 'HATS7s', 'B03P-Si', 'F01B-Si', 'B03C-C', 'F05S-P', 'Eig09_EA(dm)', 'GATS8p', 'F05P-P', 'F01O-X', 'B08N-Si', 'F04N-S', 'F03F-Si', 'B04N-Cl', 'F03Cl-I', 'ChiA_Dz(v)', 'DP18', 'O-057', 'nRSSR', 'B02N-Cl', 'F01N-B', 'R6v+', 'C-023', 'F07C-Br', 'RDF135e', 'F09S-Cl', 'NssSe', 'CATS2D_07_DD', 'F01B-B', 'F01Cl-Br', 'B01P-Br', 'B06Cl-I', 'RDF140e', 'SpMax5_Bh(i)', 'Vi', 'F09N-X', 'B06Cl-Si', 'CATS3D_07_DN', 'SpPos_RG', 'B10C-F', 'CATS3D_03_DD', 'F08C-F', 'B01Cl-Br', 'CATS3D_04_AL', 'F04O-F', 'F02S-Cl', 'LLS_02', 'CATS3D_06_NL', 'B06N-N', 'RDF060p', 'B10F-Br', 'X1sol', 'F-083', 'SpPosLog_Dz(e)', 'C-044', 'F02N-F', 'F01O-B', 'F05I-Si', 'Eta_epsi', 'F08P-P', 'B10S-X', 'RDF110m', 'SpPos_X', 'B10B-Si', 'H3u', 'SsBH2', 'SpAD_D/Dt', 'CATS3D_16_NN', 'F01N-Si', 'S1K', 'RDF010m', 'F04F-I', 'CATS3D_17_NN', 'F07C-B', 'F08Cl-Si', 'ATS8e', 'C-007', 'CATS3D_08_NN', 'CATS3D_14_PN', 'F09O-B', 'F08Cl-Cl', 'B03F-I', 'B07S-Cl', 'B01Br-Si', 'B06Cl-Cl', 'F04N-Br', 'SP14', 'CATS3D_11_DN', 'DP16', 'RDF150m', 'SpPosLog_H2', 'F05N-S', 'B07C-X', 'F10B-B', 'F06N-P', 'nR=Cs', 'F01Cl-Cl', 'F10P-F', 'N-077', 'SMTIV', 'CATS2D_06_DA', 'HyWi_B(e)', 'nC=S', 'Chi1_AEA(dm)', 'RDF090v', 'n124-Triazines', 'CATS3D_12_PN', 'CATS3D_08_DN', 'Ho_Dz(i)', 'GATS8i', 'P_VSA_ppp_N', 'B09P-I', 'B04C-Cl', 'CATS3D_19_DP', 'nRCOSR', 'CATS3D_11_AN', 'CATS2D_08_PN', 'B03N-Cl', 'GATS8m', 'Wi_B(v)', 'F05O-X', 'B10C-P', 'F07Cl-Cl', 'CATS3D_15_DD', 'CATS2D_00_DL', 'B09Br-Si', 'SdNH', 'CATS3D_15_DL', 'Mor01u', 'B06S-Br', 'CATS2D_01_DD', 'ChiA_X', 'F03S-S', 'H-052', 'B08O-I', 'CATS3D_02_PN', 'CATS3D_05_DA', 'B04P-I', 'NsssCH', 'Chi1_AEA(ed)', 'T(N..S)', 'SddsAs', 'F08Si-X', 'TDB10i', 'VR1_RG', 'RDF140p', 'HyWi_RG', 'B09Si-X', 'B04P-P', 'CATS2D_06_PL', 'B03P-B', 'B06C-Cl', 'B05I-X', 'RDF055e', 'B05S-Br', 'SpMin7_Bh(i)', 'F10B-Si', 'CATS3D_19_PP', 'F10C-S', 'P_VSA_e_6', 'F09F-Br', 'NdssS', 'B05S-X', 'B09C-X', 'F10S-X', 'CATS3D_10_NN', 'F06Br-Br', 'CATS3D_10_DA', 'CATS2D_01_AL', 'B02Cl-Si', 'B08C-Si', 'F06N-B', 'CATS2D_03_DP', 'F02Cl-B', 'F08I-B', 'F04S-F', 'Mor17s', 'F05Cl-B', 'RDF140s', 'T(O..S)', 'HATS6u', 'CATS3D_12_AL', 'RDF130v', 'Mor12i', 'F09I-I', 'F05F-Si', 'NdNH2+', 'RDF045u', 'F05F-B', 'H8p', 'B09O-Br', 'F10C-I', 'SM2_Dz(v)', 'F03C-X', 'nROCON', 'B07N-B', 'F08Br-X', 'R7p', 'ATSC6e', 'B03S-B', 'SsF', 'GD', 'NsAsH2', 'DLS_02', 'CATS3D_09_PL', 'B02Br-I', 'B08S-B', 'DLS_01', 'NdSe', 'B08P-Br', 'F09N-O', 'G2u', 'NaaNH', 'B04N-P', 'F08P-Br', 'SM4_G', 'MATS8e', 'ON1V', 'G(O..S)', 'H7i', 'CATS3D_08_AP', 'Mor02p', 'SpMaxA_B(m)', 'CATS3D_01_AP', 'GATS5p', 'B08Br-I', 'F10Br-I', 'F09Cl-Br', 'F01F-F', 'B08P-Si', 'B04Si-X', 'CATS2D_02_AP', 'B06P-X', 'B10P-B', 'F03S-Br', 'F04C-F', 'F08N-N', 'Mor04u', 'B10N-Si', 'HTu', 'CATS2D_07_AP', 'CATS3D_17_DL', 'C-002', 'B01S-B', 'F01P-Br', 'F04N-P', 'nCR2X2', 'DP07', 'B01S-S', 'F08F-B', 'VR1_B(i)', 'nRCNO', 'B04C-Br', 'B06C-S', 'Chi0_EA(bo)', 'B04C-Si', 'F08S-X', 'B09N-N', 'nRNO', 'F04N-O', 'F03C-F', 'R3u+', 'F01N-N', 'B02O-Br', 'B01F-I', 'CATS2D_00_AN', 'Eig13_AEA(dm)', 'CATS2D_06_DN', 'B05P-X', 'B09S-Br', 'F03O-Br', 'H2v', 'B04Br-I', 'Vs', 'ChiA_Dz(i)', 'TDB09u', 'Chi0_AEA(dm)', 'B09O-O', 'F06Cl-Si', 'B07I-Si', 'D/Dtr08', 'F03B-B', 'nIsothiazoles', 'nRC=N', 'F03Cl-Br', 'B02F-X', 'B10N-X', 'F04C-P', 'B05Cl-X', 'ATS1s', 'TIC3', 'nArCNO', 'CATS2D_08_NL', 'CATS3D_11_DA', 'B03C-Br', 'Tm', 'B02C-P', 'F07O-O', 'B03N-S', 'F02O-Cl', 'F10Cl-Br', 'CATS3D_19_DN', 'NsssAs', 'F05Cl-X', 'SaadN', 'F05Br-Br', 'Mor01m']\n",
            "1100 tentative attributes remains: ['R5s', 'TDB07e', 'Mor13v', 'WiA_Dz(e)', 'Eig10_EA(bo)', 'HATS6e', 'SM2_Dz(e)', 'HATS8s', 'HATS2v', 'WiA_Dz(Z)', 'AVS_Dz(i)', 'H4u', 'L1v', 'R2m', 'SpMax3_Bh(p)', 'Dv', 'Dm', 'Wi_B(s)', 'Ve', 'Mor07u', 'SpMax5_Bh(p)', 'HATS3i', 'Uindex', 'SM3_Dz(Z)', 'E1m', 'IC1', 'Wi_Dz(e)', 'SM6_D', 'Chi_B(s)', 'Mor11s', 'SpMaxA_D', 'VE1_B(v)', 'Mor32i', 'R3v', 'ATSC4p', 'SpAD_Dz(i)', 'SP08', 'TDB04i', 'VE1sign_B(v)', 'Mor17i', 'SpMaxA_EA(bo)', 'H3s', 'SpAD_B(e)', 'SIC2', 'ZM2Mad', 'SpAD_D', 'Mor03s', 'SpMaxA_AEA(bo)', 'L1m', 'SpMin4_Bh(v)', 'HATS3s', 'SpMin4_Bh(p)', 'CATS2D_09_DD', 'Mor23m', 'CATS2D_02_LL', 'Wi_B(p)', 'MATS4v', 'WiA_B(s)', 'Eig04_EA', 'Eta_betaS', 'J_Dz(e)', 'CATS3D_02_LL', 'RDF035m', 'CATS3D_04_PN', 'SM06_EA', 'RDF120u', 'RDF115m', 'Mor22m', 'R4m', 'MDDD', 'HyWi_H2', 'SpMax8_Bh(p)', 'CATS2D_02_PL', 'Eig05_EA(bo)', 'piPC01', 'RDF050v', 'VR2_RG', 'Kv', 'HATS7m', 'SP06', 'RDF030m', 'SpAD_B(p)', 'TDB07u', 'L3p', 'Mor27m', 'SpPos_A', 'Mor02e', 'SP07', 'TIE', 'Mor09v', 'Mor28u', 'SpDiam_Dz(e)', 'Psi_i_s', 'ATS6s', 'ChiA_Dz(m)', 'TDB06r', 'SpDiam_Dz(Z)', 'SpAbs_Dz(i)', 'X2Av', 'Eig02_AEA(ed)', 'L3s', 'ATSC2i', 'nCrs', 'SpMin7_Bh(s)', 'MWC03', 'Mor07v', 'RDF035s', 'H_X', 'SM5_Dt', 'CATS3D_09_AL', 'Eig02_AEA(bo)', 'Eig02_EA(ed)', 'SM05_EA(ed)', 'VE1sign_B(m)', 'MATS5p', 'DP01', 'HATS5u', 'X3sol', 'SpMin4_Bh(e)', 'Me', 'ATSC7e', 'CATS3D_05_DL', 'Mor09u', 'DISPm', 'SpMin3_Bh(v)', 'R1p', 'H8u', 'Mor26m', 'ATS2s', 'Eig03_EA(dm)', 'Eig02_EA(dm)', 'RDF025v', 'Eig04_AEA(ed)', 'ATSC5e', 'RDF085e', 'Mor31u', 'Mor08u', 'Mor22s', 'SM03_AEA(bo)', 'Wi_Dz(i)', 'SM4_Dz(m)', 'SM1_Dz(p)', 'P_VSA_LogP_7', 'Mor31s', 'CATS2D_08_AN', 'SM6_Dz(i)', 'Am', 'TDB01u', 'SpMax5_Bh(e)', 'Mor02i', 'SM04_AEA(bo)', 'Chi_Dz(v)', 'ATSC5v', 'G2p', 'MATS3p', 'SM1_Dz(v)', 'H_Dz(e)', 'R3u', 'ChiA_B(s)', 'L1i', 'RDF045m', 'Yindex', 'SpAD_EA', 'Mor27s', 'R2v+', 'AVS_Dz(Z)', 'H3m', 'SpMin1_Bh(s)', 'P2m', 'HyWi_B(i)', 'SpMax_Dz(i)', 'nN(CO)2', 'Mor12e', 'Rperim', 'MATS7e', 'MWC10', 'SM6_Dz(e)', 'Mor29s', 'TDB06m', 'SM2_B(v)', 'SM5_D/Dt', 'SM05_EA(dm)', 'SM07_EA(ri)', 'R1v', 'WiA_D', 'Mor02u', 'IDE', 'SpAbs_Dz(e)', 'Eig11_EA(ri)', 'SM13_EA', 'P2u', 'DISPv', 'SPAN', 'Sv', 'TDB07r', 'SdO', 'SpMAD_Dz(v)', 'CIC1', 'Eig13_EA(ed)', 'BIC2', 'MSD', 'RDF035i', 'T(N..N)', 'GATS6i', 'H1v', 'RDF065s', 'PW2', 'SM11_AEA(dm)', 'RDF030i', 'SM11_EA', 'SpMax2_Bh(s)', 'P1s', 'SM06_EA(ed)', 'ATSC3p', 'ATS2m', 'SM04_AEA(ri)', 'Eig14_AEA(ed)', 'SM5_D', 'SpMaxA_AEA(ri)', 'SM05_AEA(bo)', 'TDB10e', 'DLS_05', 'ATS4p', 'GGI3', 'SM07_EA(dm)', 'Wi_Dz(m)', 'VE2_B(s)', 'Mor21u', 'Mor31p', 'E3u', 'R2p', 'RDF040e', 'Mor21e', 'ChiA_RG', 'SpMax2_Bh(m)', 'HATS7p', 'SpMin3_Bh(i)', 'SIC1', 'Mor13p', 'R1m+', 'X4', 'H2s', 'Eig09_EA(bo)', 'SpAbs_Dz(m)', 'TDB09m', 'RDF120i', 'ARR', 'SpDiam_Dz(m)', 'SpAbs_Dz(Z)', 'ATSC6v', 'ATSC4m', 'Mor21p', 'X1Per', 'Mor12m', 'AVS_RG', 'RDF110s', 'SpPosA_Dz(i)', 'IC2', 'R4e+', 'Mor15s', 'RDF060m', 'SM3_L', 'SM05_AEA(ed)', 'SM10_EA', 'SpMAD_EA(ed)', 'VE1_B(e)', 'Eig11_AEA(dm)', 'SpMax7_Bh(s)', 'ATS5s', 'CATS2D_08_DD', 'RTp', 'Mor01p', 'SM3_H2', 'Mor18s', 'MWC09', 'Eig09_AEA(ri)', 'R5p', 'Eig03_EA(ed)', 'HATS4u', 'EE_B(p)', 'RDF035e', 'SM13_AEA(dm)', 'HyWi_D', 'Mor24s', 'R5v+', 'Mor28v', 'ATS4v', 'E1i', 'X4Av', 'HATS1m', 'E1p', 'SM03_EA(ri)', 'SpPosA_X', 'VE1sign_B(p)', 'SM1_Dz(Z)', 'X2v', 'SpMin8_Bh(m)', 'J_H2', 'SM04_EA', 'HATS4m', 'CIC2', 'SM11_EA(dm)', 'SpDiam_Dz(i)', 'ATS5v', 'SM3_Dz(m)', 'SM5_L', 'SM08_AEA(ri)', 'SM6_Dt', 'HATS7e', 'F01C-C', 'Mor13u', 'Ds', 'GATS7e', 'DP05', 'P_VSA_ppp_L', 'ZM1MulPer', 'E2i', 'SpMin6_Bh(m)', 'SpMax_A', 'HATS3m', 'SpMax6_Bh(m)', 'TRS', 'ATSC7p', 'HATS0s', 'SpMin6_Bh(s)', 'Chi_Dz(e)', 'SM5_Dz(e)', 'HATS1e', 'Mor06i', 'Eig03_EA(ri)', 'Eta_F_A', 'CATS2D_06_DL', 'Kp', 'SpMin6_Bh(e)', 'CATS2D_04_AL', 'nCp', 'TIC0', 'O-056', 'G2s', 'SM2_D', 'ATS3p', 'R1e', 'SP03', 'SM1_Dz(m)', 'SpMin5_Bh(m)', 'Mor26v', 'X0Av', 'R5m', 'SpDiam_EA(dm)', 'Ho_B(s)', 'MATS3i', 'TDB09s', 'L2i', 'DP06', 'CSI', 'DLS_cons', 'P2p', 'SpMin2_Bh(v)', 'SaasC', 'H1s', 'Mor06v', 'HATS4v', 'MATS3m', 'Mor29e', 'TPC', 'ECC', 'WiA_G/D', 'TI1_L', 'SM3_Dt', 'ZM2Kup', 'SM02_EA(dm)', 'RDF010v', 'MATS4m', 'Psi_i_1', 'H4e', 'Ke', 'RDF015i', 'Eta_L_A', 'SM07_AEA(ri)', 'SM3_D/Dt', 'CATS3D_00_LL', 'Ae', 'Vv', 'Ui', 'SpAD_Dz(Z)', 'TDB07s', 'H_D', 'SpMAD_AEA(ed)', 'R1m', 'Mor24p', 'ChiA_D/Dt', 'CATS2D_02_AL', 'TDB05u', 'HATS5s', 'CATS3D_04_DA', 'Eig10_AEA(dm)', 'HATS4e', 'SM09_AEA(ed)', 'SM12_AEA(dm)', 'R6s+', 'SM12_AEA(bo)', 'HyWi_Dz(i)', 'SM13_AEA(bo)', 'P2v', 'H5v', 'SpMax_D', 'Eig13_EA(ri)', 'R6m+', 'Mor19s', 'AVS_Dz(e)', 'SM4_Dz(Z)', 'Ap', 'TDB02e', 'SpMax5_Bh(v)', 'Mor32e', 'CATS3D_10_AL', 'ZM2', 'SpMin4_Bh(m)', 'H4v', 'SM03_EA(bo)', 'Eig08_EA', 'SM5_B(e)', 'VE1_B(p)', 'ATSC7s', 'R5v', 'RDF010p', 'AVS_D/Dt', 'Qindex', 'PJI3', 'RTs', 'Mor31i', 'SpAD_EA(ri)', 'RDF025s', 'RDF065i', 'CATS2D_03_AL', 'Eig05_EA(ri)', 'RDF040m', 'nC', 'R5e', 'SpPos_B(i)', 'SpAD_EA(dm)', 'SpMaxA_Dz(i)', 'D/Dtr06', 'HATS3p', 'RDF075i', 'H6i', 'Eig10_EA(ed)', 'P_VSA_ppp_P', 'TDB01e', 'SM04_AEA(dm)', 'GATS4v', 'H4i', 'Mor16u', 'Mor17e', 'TDB06e', 'TDB03s', 'VE3_B(e)', 'R4m+', 'WiA_Dz(v)', 'Mor31m', 'RDF115i', 'Uc', 'RDF050m', 'RDF045e', 'Mor05p', 'TDB08e', 'Mor28i', 'VE3_B(v)', 'SpPos_Dt', 'SM10_AEA(bo)', 'H8e', 'ATS5p', 'CMBL', 'R4p+', 'TDB06u', 'SpPos_B(p)', 'CATS3D_03_AL', 'HATS1s', 'G1e', 'Mor08v', 'SM4_Dt', 'HyWi_B(v)', 'R3e', 'L3m', 'SpMax7_Bh(v)', 'VE1sign_B(i)', 'R5e+', 'Te', 'RDF025p', 'Mor02v', 'HATS4i', 'TDB07i', 'SpMAD_EA(dm)', 'RDF105m', 'H_Dz(v)', 'Mor29i', 'Eta_FL_A', 'QZZs', 'Eig08_AEA(ri)', 'SM05_EA(ri)', 'SpMAD_Dz(p)', 'SM02_EA(ri)', 'Eig07_AEA(dm)', 'Mor11p', 'nOHs', 'Eig06_AEA(dm)', 'ATSC2v', 'H-046', 'EE_L', 'RDCHI', 'SpMax2_Bh(i)', 'TDB07p', 'SpMax_Dz(Z)', 'SM4_H2', 'SpMin2_Bh(s)', 'X4v', 'SM15_EA(dm)', 'SM06_AEA(ed)', 'SPH', 'SM09_EA', 'SpAbs_B(s)', 'R8s+', 'SpMin4_Bh(s)', 'SpMaxA_AEA(dm)', 'ZM2V', 'RDF015s', 'QXXe', 'H4p', 'Ho_B(p)', 'SpMin6_Bh(i)', 'MWC08', 'X1Kup', 'RTp+', 'Vp', 'H_Dz(m)', 'VE1_B(m)', 'R6i', 'ATSC1m', 'SAdon', 'ATSC3i', 'SM02_AEA(ed)', 'SpPosA_Dz(e)', 'X3v', 'AVS_Dt', 'J_B(s)', 'Eig12_AEA(ed)', 'RDF115s', 'SP01', 'Mor31e', 'MPC07', 'R2e+', 'Eig07_EA', 'SM3_B(v)', 'ZM1V', 'CATS2D_02_DD', 'B05C-N', 'Eig07_AEA(ed)', 'MWC04', 'Ts', 'BIC1', 'Mor32s', 'SpMax_D/Dt', 'SpPos_D', 'Vindex', 'ATS8s', 'RDF035v', 'SM2_B(p)', 'SpDiam_RG', 'J_B(m)', 'SM04_EA(dm)', 'Mor12u', 'Au', 'Mor04e', 'G(N..S)', 'SM5_Dz(m)', 'GATS7m', 'SpMaxA_Dz(v)', 'Eig14_EA(ed)', 'Mor06m', 'Mor04i', 'Sp', 'Ho_Dz(e)', 'nRCOOR', 'J_RG', 'Wap', 'RDF075e', 'Mor19i', 'SM09_AEA(ri)', 'Eta_epsi_A', 'GATS5i', 'E3v', 'ATS2p', 'SM2_B(m)', 'ZM1Mad', 'TDB05i', 'Eig04_AEA(ri)', 'RDF015u', 'RDF085u', 'MWC07', 'RDF010i', 'SpAD_Dz(e)', 'RDF035p', 'H8i', 'Eig05_EA', 'SpAD_EA(ed)', 'P1m', 'P_VSA_MR_8', 'SpMin5_Bh(v)', 'MPC04', 'Eig08_EA(ri)', 'SpDiam_Dt', 'RDF040p', 'SM2_Dz(m)', 'SpAD_B(i)', 'Ks', 'Mor27u', 'RDF015m', 'NdO', 'R5i+', 'Mor09i', 'SM5_Dz(Z)', 'Eig02_AEA(dm)', 'ZM2MulPer', 'SPAM', 'Eig08_EA(bo)', 'P_VSA_s_5', 'RDF115v', 'SpMin5_Bh(i)', 'SM3_Dz(i)', 'WiA_B(m)', 'Mor32p', 'SM03_EA(ed)', 'R1s', 'RDF120e', 'Mor23v', 'Ges', 'RDF045s', 'EE_D/Dt', 'R7u', 'Mor27e', 'GMTIV', 'PW4', 'VE2_B(v)', 'Eig11_AEA(ri)', 'SpPosA_B(s)', 'Mor07m', 'SM03_AEA(ed)', 'ATSC6i', 'ATS3v', 'SpDiam_D/Dt', 'TDB06i', 'TDB01s', 'SpMax6_Bh(s)', 'TDB05p', 'Eig05_AEA(ri)', 'SpMin4_Bh(i)', 'H_G/D', 'Eig10_AEA(ed)', 'Ku', 'Ho_D/Dt', 'ATSC6p', 'RDF115p', 'Mor06u', 'R2p+', 'Eig08_AEA(dm)', 'G(N..O)', 'G1p', 'Mor11v', 'SM3_B(i)', 'MATS1v', 'CATS3D_10_DL', 'ZM1Per', 'SM4_Dz(i)', 'nBM', 'RDF055s', 'RDF015e', 'SpPosA_Dz(p)', 'HyWi_Dz(Z)', 'F05N-O', 'TDB08m', 'CATS2D_02_AA', 'H-047', 'RDF065e', 'Ho_Dz(Z)', 'F05O-O', 'RDF045i', 'WiA_Dz(i)', 'Mor22e', 'Mor09e', 'RDF065p', 'GATS7i', 'SM02_AEA(dm)', 'Mor19u', 'Eig11_AEA(bo)', 'R1i', 'Ho_Dz(m)', 'SssssC', 'SM2_Dz(Z)', 'R3m', 'CATS3D_00_DD', 'SM6_Dz(Z)', 'SM04_EA(ed)', 'SM07_EA', 'SM05_EA', 'SpMaxA_Dz(e)', 'SM4_Dz(e)', 'R8e', 'QXXv', 'Mor07s', 'R1p+', 'Mor09m', 'RDF115e', 'SssS', 'SpMAD_AEA(dm)', 'AVS_Dz(m)', 'Mor26i', 'Mor06s', 'CATS2D_03_LL', 'Mor13e', 'Chi0_EA(dm)', 'MATS5s', 'RDF080p', 'Mor04m', 'HTe', 'F10C-O', 'SsNH3+', 'SM05_AEA(ri)', 'SM04_AEA(ed)', 'GATS7s', 'H6e', 'RDF075u', 'CIC0', 'SM2_B(i)', 'SM4_B(m)', 'Chi_G/D', 'Mor06p', 'Mor03e', 'Eig10_AEA(ri)', 'VE3_B(s)', 'SM15_EA', 'HATS5e', 'CATS2D_05_AL', 'Eig03_AEA(ed)', 'Eig09_AEA(dm)', 'HOMT', 'Mor08m', 'TDB04m', 'H2p', 'C-026', 'E3p', 'Eig04_AEA(dm)', 'IDDE', 'AECC', 'TDB03m', 'Eig02_EA', 'SpAD_EA(bo)', 'ChiA_H2', 'Eig09_EA(ed)', 'J_B(v)', 'J_B(i)', 'Eig04_EA(ri)', 'RDF070s', 'HATS5m', 'X1MulPer', 'SpPos_Dz(e)', 'R6e', 'TDB05r', 'SpMax8_Bh(s)', 'RDF050p', 'E1v', 'R8s', 'SpMax2_Bh(e)', 'X5v', 'F03C-S', 'nHDon', 'HyWi_Dz(m)', 'P_VSA_s_4', 'ATS2v', 'GATS7p', 'SpAbs_B(v)', 'TDB05m', 'Mor02m', 'Ho_B(i)', 'R6m', 'SpAD_Dt', 'RDF050s', 'AVS_D', 'SM1_Dz(e)', 'SM1_B(s)', 'JGI5', 'Wi_H2', 'SM4_D/Dt', 'P1e', 'RDSQ', 'QZZv', 'Eig03_AEA(bo)', 'Mor08i', 'DP11', 'Eta_C_A', 'SssNH', 'EE_B(m)', 'Mor19e', 'SpMax6_Bh(p)', 'ZM1Kup', 'HTs', 'Mor17u', 'nHBonds', 'GATS3m', 'SpMin3_Bh(e)', 'Mor02s', 'nCb-', 'RDF085i', 'RDF080u', 'Mor30e', 'SpAD_AEA(ri)', 'HATS3u', 'HyWi_Dz(e)', 'SHP2', 'SpMaxA_Dz(p)', 'Mor08p', 'Eig03_EA(bo)', 'SM08_AEA(ed)', 'P_VSA_MR_1', 'Mor18i', 'ASP', 'SpMax_RG', 'RDF125i', 'AVS_Dz(p)', 'Eig04_EA(ed)', 'De', 'Dp', 'SCBO', 'RDF115u', 'HATS1v', 'Wi_Dt', 'EE_B(i)', 'SpMin2_Bh(p)', 'SM10_AEA(ed)', 'CATS2D_04_DA', 'H-050', 'RDF065v', 'SM3_B(m)', 'SP11', 'SpMax5_Bh(s)', 'VE2_RG', 'Mor03v', 'G1', 'Chi1_EA(dm)', 'SpMax4_Bh(m)', 'SM03_AEA(dm)', 'RDF010u', 'SpMax_H2', 'CATS3D_02_DA', 'Mor28p', 'Eig02_AEA(ri)', 'L2e', 'Tu', 'Eta_sh_y', 'ATSC5p', 'WiA_Dz(m)', 'SpPosA_D', 'L2u', 'SRW06', 'Ti', 'SpDiam_D', 'MATS8m', 'Mor11i', 'SM4_D', 'SpMin5_Bh(e)', 'L/Bw', 'GATS5v', 'SM15_AEA(bo)', 'SpPos_B(s)', 'RTm', 'Pol', 'SM6_D/Dt', 'P1v', 'Wi_Dz(Z)', 'MATS1m', 'SpPosA_A', 'SM2_Dt', 'Mor08s', 'C-008', 'TDB06s', 'SpPosA_Dz(Z)', 'CATS2D_03_AA', 'L1p', 'HATS3e', 'SPI', 'H6u', 'RARS', 'ATSC1v', 'SpAD_AEA(dm)', 'E1u', 'Mor11e', 'Mor05s', 'ATS1p', 'MATS7m', 'SpMax3_Bh(m)', 'SM14_EA', 'H2m', 'GATS3p', 'Mor13m', 'RDF025m', 'E3i', 'RDF065u', 'IC4', 'Mor18e', 'Mor01v', 'R2i+', 'RDF030e', 'SM4_B(e)', 'HTm', 'MATS7v', 'SpPos_Dz(i)', 'SM2_Dz(i)', 'CATS2D_00_LL', 'GATS3i', 'Mor32u', 'Mor09p', 'SM03_EA(dm)', 'L2p', 'EE_B(v)', 'P2i', 'L3u', 'SM4_L', 'Mor18u', 'Km', 'SpPos_Dz(Z)', 'VE2_B(p)', 'STN_L', 'SpPos_Dz(m)', 'RDF015v', 'RDF135s', 'RDF030u', 'GGI8', 'Eig07_AEA(ri)', 'Mor26s', 'Eig12_EA', 'Mor28e', 'VE1_G/D', 'SpMax3_Bh(s)', 'SpMax_Dt', 'SM13_EA(dm)', 'SpMin5_Bh(p)', 'MATS5i', 'ATS3e', 'R3m+', 'SpMax7_Bh(p)', 'H1m', 'ATSC8s', 'VE2sign_B(m)', 'SpMin3_Bh(s)', 'X2A', 'HATS8m', 'Eig08_AEA(bo)', 'Chi0_EA(ri)', 'Eig01_EA(dm)', 'HATS4p', 'Eig10_AEA(bo)', 'CATS2D_02_DA', 'Ki', 'EE_H2', 'SpAD_B(v)', 'VE3_B(i)', 'P2e', 'Mor27i', 'BIC0', 'RDF060s', 'F05C-C', 'SpAD_Dz(m)', 'AVS_B(s)', 'VE1_B(i)', 'P_VSA_ppp_ar', 'HyWi_Dt', 'SpMax_EA(dm)', 'Mor10v', 'JGI4', 'SpMAD_X', 'H4m', 'Eig02_EA(ri)', 'H1p', 'nROH', 'X3Av', 'UNIP', 'MATS2m', 'SpMAD_D', 'ATSC6s', 'SM5_Dz(i)', 'NsNH3+', 'SpMax_Dz(m)', 'Mor03u', 'SM3_Dz(e)', 'VE2sign_B(s)', 'Mor17m', 'E2u', 'SRW04', 'QXXs', 'Mor09s', 'Chi1_EA(ed)', 'PW3', 'P_VSA_LogP_8', 'RDF040v', 'Mor10p', 'RDF010e', 'IC5', 'CATS2D_03_DN', 'R3e+', 'RDF025i', 'SpMax6_Bh(v)', 'R4v', 'CATS3D_02_PL', 'L1s', 'HATS6i', 'Eig05_AEA(dm)', 'E2e', 'TDB05v', 'QXXm', 'MATS5v', 'SpAD_AEA(ed)', 'Mor30i', 'L1u', 'VE1sign_B(e)', 'Ho_B(v)', 'SpMax4_Bh(s)', 'RDF040i', 'RDF060v', 'Eig13_AEA(ed)', 'E2p', 'Ho_Dt', 'JGI6', 'B04C-N', 'P_VSA_m_1', 'J_A', 'SpAD_B(s)', 'SM02_EA(ed)', 'H0s', 'L1e', 'ATSC1i', 'ATS5m', 'R4i+', 'R7e+', 'R7s', 'MATS8s', 'RDF045p', 'DP12', 'G(N..N)', 'WiA_Dz(p)', 'RDF030p', 'ATSC8e', 'SpMax3_Bh(v)', 'RDF040u', 'Mor28s', 'CATS3D_03_DA', 'Mor31v', 'Eig09_EA', 'P2s', 'Mor13i', 'P_VSA_ppp_D', 'SpMaxA_B(s)', 'RDF120s', 'RDF105e', 'X5A', 'T(N..O)', 'F02N-O', 'SM08_EA', 'SpAD_B(m)', 'RDF030v', 'H_Dz(Z)', 'Eig11_AEA(ed)', 'SpAbs_B(p)', 'R3i', 'SpMAD_Dz(i)', 'nCsp2', 'SM07_AEA(ed)', 'SpMAD_Dz(e)', 'SM02_AEA(bo)', 'Mor08e', 'Mor26p', 'Chi0_EA(ed)', 'TDB02u', 'SM05_AEA(dm)', 'P_VSA_ppp_con', 'ATS3m', 'SpMax_Dz(e)', 'GATS7v', 'HATS5i', 'CATS3D_01_LL', 'Eig09_AEA(ed)', 'Mor03m', 'ATSC2m', 'SM6_Dz(m)', 'R4e', 'Mor30u', 'Eta_betaP', 'P_VSA_i_1', 'H_Dt', 'MATS1p', 'MATS5e', 'Mor11u']\n"
          ]
        }
      ],
      "source": [
        "\n",
        "# no model selected default is Random Forest, if classification is False it is a Regression problem\n",
        "Feature_Selector = BorutaShap(\n",
        "                              importance_measure='shap',\n",
        "                              classification=True,percentile=80)\n",
        "\n",
        "Feature_Selector.fit(X=X_train_sweet_scaled, y=y_train_sweet['Target'], n_trials=200, random_state=0)"
      ]
    },
    {
      "cell_type": "code",
      "execution_count": null,
      "metadata": {
        "id": "UNhrpoxnv6MZ"
      },
      "outputs": [],
      "source": [
        "X_sweet_subset = Feature_Selector.Subset()"
      ]
    },
    {
      "cell_type": "code",
      "execution_count": null,
      "metadata": {
        "id": "wF7pQU7Kt925"
      },
      "outputs": [],
      "source": [
        "X_sweet_subset_cols = X_sweet_subset.columns\n",
        "#print(X_sweet_subset_cols)\n",
        "\n",
        "X_sweet_test_subset = X_test_sweet_scaled[X_sweet_subset_cols]"
      ]
    },
    {
      "cell_type": "code",
      "execution_count": null,
      "metadata": {
        "colab": {
          "base_uri": "https://localhost:8080/"
        },
        "id": "mKRgOAVyt925",
        "outputId": "0b1a16a2-1565-4fbb-9644-0bd6f663044d"
      },
      "outputs": [
        {
          "name": "stdout",
          "output_type": "stream",
          "text": [
            "Evaluating XGBoost\n",
            "Accuracy: 0.7597402597402597\n",
            "Precision: 0.8953488372093024\n",
            "Average Precision: 0.8384073291050036\n",
            "AUROC: 0.7748299319727892\n",
            "Classification Report\n",
            "              precision    recall  f1-score   support\n",
            "\n",
            "           0       0.59      0.82      0.68        49\n",
            "           1       0.90      0.73      0.81       105\n",
            "\n",
            "    accuracy                           0.76       154\n",
            "   macro avg       0.74      0.77      0.75       154\n",
            "weighted avg       0.80      0.76      0.77       154\n",
            "\n",
            "Evaluating CatBoost\n",
            "Accuracy: 0.7857142857142857\n",
            "Precision: 0.8913043478260869\n",
            "Average Precision: 0.845416901938641\n",
            "AUROC: 0.7884353741496598\n",
            "Classification Report\n",
            "              precision    recall  f1-score   support\n",
            "\n",
            "           0       0.63      0.80      0.70        49\n",
            "           1       0.89      0.78      0.83       105\n",
            "\n",
            "    accuracy                           0.79       154\n",
            "   macro avg       0.76      0.79      0.77       154\n",
            "weighted avg       0.81      0.79      0.79       154\n",
            "\n",
            "Evaluating RandomForest\n",
            "Accuracy: 0.7727272727272727\n",
            "Precision: 0.8888888888888888\n",
            "Average Precision: 0.8395863395863395\n",
            "AUROC: 0.7789115646258503\n",
            "Classification Report\n",
            "              precision    recall  f1-score   support\n",
            "\n",
            "           0       0.61      0.80      0.69        49\n",
            "           1       0.89      0.76      0.82       105\n",
            "\n",
            "    accuracy                           0.77       154\n",
            "   macro avg       0.75      0.78      0.76       154\n",
            "weighted avg       0.80      0.77      0.78       154\n",
            "\n"
          ]
        }
      ],
      "source": [
        "print(\"Evaluating XGBoost\")\n",
        "evaluate(clf_xgboost, X_sweet_subset, y_train_sweet, X_sweet_test_subset, y_test_sweet)\n",
        "\n",
        "print(\"Evaluating CatBoost\")\n",
        "evaluate(clf_catboost,X_sweet_subset, y_train_sweet, X_sweet_test_subset, y_test_sweet)\n",
        "\n",
        "print(\"Evaluating RandomForest\")\n",
        "evaluate(clf_rf,X_sweet_subset, y_train_sweet, X_sweet_test_subset, y_test_sweet)"
      ]
    },
    {
      "cell_type": "code",
      "execution_count": null,
      "metadata": {
        "id": "598ubR1ft9ag"
      },
      "outputs": [],
      "source": []
    },
    {
      "cell_type": "code",
      "execution_count": null,
      "metadata": {
        "id": "4gXAPlKQt9eb"
      },
      "outputs": [],
      "source": []
    },
    {
      "cell_type": "markdown",
      "source": [
        "Catboost"
      ],
      "metadata": {
        "id": "prJ_SrqSipH6"
      }
    },
    {
      "cell_type": "code",
      "execution_count": 42,
      "metadata": {
        "colab": {
          "base_uri": "https://localhost:8080/",
          "height": 121,
          "referenced_widgets": [
            "a1e1f1d2e1804ac6ad8d113e85a140bb",
            "9154896f13cc4a82a5c37cf6604ddde7",
            "43aa720f40d8410f90a44f4f8d6b5f53",
            "a38d9c0b376145d49aec80d4e936df82",
            "0110578bc9f94b51898b8edd6807c315",
            "b57b366155d9493a96a776d831ba48de",
            "1ebe47a3422d4a368a3f582b75827f1b",
            "b46674577c2f4e8598464fc322b2dc26",
            "15ffffc9bbfc486d825d2bc6f2f3a0be",
            "7c119b8b3e944f448b1db58dd0ebcf50",
            "844f7d548e8f4803a301f5bba4e94793"
          ]
        },
        "id": "-lyFcPnuuOEC",
        "outputId": "0d11665f-3b45-4eec-9661-6543b5c7d105"
      },
      "outputs": [
        {
          "output_type": "display_data",
          "data": {
            "text/plain": [
              "  0%|          | 0/200 [00:00<?, ?it/s]"
            ],
            "application/vnd.jupyter.widget-view+json": {
              "version_major": 2,
              "version_minor": 0,
              "model_id": "a1e1f1d2e1804ac6ad8d113e85a140bb"
            }
          },
          "metadata": {}
        },
        {
          "output_type": "stream",
          "name": "stdout",
          "text": [
            "45 attributes confirmed important: ['P_VSA_LogP_2', 'RDF040s', 'Mor24s', 'rGes', 'RBF', 'GATS6m', 'MATS5m', 'DISPp', 'P_VSA_LogP_5', 'HATS6p', 'R5s+', 'S3K', 'MATS6m', 'GATS4s', 'totalcharge', 'CATS2D_05_DN', 'DISPs', 'GATS4e', 'DISPe', 'J_Dt', 'CATS3D_02_DL', 'F01C-N', 'CATS2D_03_DL', 'TDB01i', 'SpMax1_Bh(i)', 'Eig01_EA(ri)', 'N%', 'SpDiam_B(s)', 'GATS5m', 'Mor16e', 'GATS2m', 'CATS2D_07_DL', 'Mor04s', 'nN', 'JGI8', 'MATS6v', 'SpMax1_Bh(m)', 'SpMax7_Bh(s)', 'R4s+', 'Mor19m', 'CATS2D_08_AL', 'RDF020m', 'MLOGP2', 'VE1_RG', 'SpDiam_EA(ri)']\n",
            "4916 attributes confirmed unimportant: ['Mor25e', 'RDF120i', 'B05F-B', 'B02F-X', 'CATS3D_08_NL', 'Mor16u', 'CATS3D_12_DP', 'MATS8e', 'Eig11_EA', 'F02O-F', 'F10I-I', 'F06P-Cl', 'SpAbs_B(p)', 'MPC08', 'H6p', 'R7i+', 'SpAD_G/D', 'R4m', 'R4v+', 'F01Br-Br', 'F03Cl-Br', 'Mor17e', 'GATS6v', 'R8e+', 'SpPos_Dz(Z)', 'CATS2D_01_PP', 'H0i', 'Mor08e', 'B06I-I', 'Mor27p', 'G(N..S)', 'Mor14e', 'B02S-Si', 'CATS3D_14_DL', 'StsC', 'Mor24m', 'F01C-X', 'SM5_Dz(i)', 'Eig02_AEA(ri)', 'TDB09s', 'B02O-P', 'SNar', 'F01S-S', 'F07Br-Si', 'Mor18s', 'SM4_D/Dt', 'G1m', 'CATS3D_08_NN', 'G(O..O)', 'SssPbH2', 'B01B-B', 'B06C-P', 'TDB02i', 'SM08_AEA(ed)', 'SpMaxA_D', 'SpPos_G', 'RDF075p', 'B08P-P', 'Eig12_EA(ri)', 'NaaNH', 'B06F-Si', 'B10C-Cl', 'nC=N-N', 'CATS3D_11_NN', 'RDF120m', 'G(I..I)', 'Eig03_EA(dm)', 'CATS3D_02_PP', 'F07P-B', 'B03N-Si', 'Mv', 'nCONN', 'B02N-B', 'F06O-I', 'RDF010u', 'B07I-I', 'SpPosLog_Dt', 'nR11', 'B01C-S', 'nR#CX', 'IC3', 'SpMaxA_AEA(bo)', 'QYYm', 'B06O-Br', 'B09Si-X', 'HATS5s', 'MATS4i', 'CATS3D_06_PL', 'B01O-Cl', 'BAC', 'WiA_D', 'ChiA_D/Dt', 'SRW09', 'SM3_D/Dt', 'SpMax2_Bh(e)', 'SM5_D/Dt', 'HATS6s', 'SM2_Dz(p)', 'CATS2D_02_AP', 'CATS3D_08_DN', 'B02O-F', 'RTs+', 'SpMaxA_AEA(dm)', 'SM05_EA(ri)', 'Ho_RG', 'SM6_Dz(p)', 'SpAbs_Dz(v)', 'P1p', 'F04C-F', 'CATS3D_14_NN', 'SM3_B(m)', 'QW_L', 'SpAbs_B(e)', 'CATS3D_15_LL', 'nCs', 'GATS2v', 'SpMax4_Bh(s)', 'B07P-Cl', 'SpMax_EA(bo)', 'HATS3p', 'RDF015e', 'F06F-Br', 'Mor09i', 'B03Cl-I', 'R4v', 'R5v+', 'RDF135e', 'CATS3D_15_NN', 'B09N-Cl', 'TDB08s', 'F07N-S', 'Chi_B(e)', 'H5i', 'SM03_AEA(ri)', 'B02X-X', 'RDF050e', 'ATSC6e', 'F04O-O', 'B10C-Si', 'QZZm', 'B07X-X', 'B02I-I', 'CATS2D_07_DA', 'F01P-B', 'GATS7m', 'Mor17p', 'CATS3D_15_DP', 'SM07_EA(ri)', 'DP16', 'CATS3D_04_AP', 'F07O-Si', 'Mor11e', 'ATSC8v', 'F03Br-B', 'Eig15_EA', 'Eta_beta', 'SpMin3_Bh(s)', 'ATS2v', 'CATS2D_03_DD', 'RTe+', 'VE1sign_B(s)', 'CATS2D_02_DD', 'SpMin5_Bh(m)', 'SpPosA_Dz(v)', 'ATS8p', 'F09N-B', 'RDF065e', 'SpDiam_AEA(ri)', 'GATS8i', 'F01N-Cl', 'F08C-F', 'nR=Ct', 'RDF145i', 'SpPos_X', 'SpAD_AEA(ri)', 'MWC05', 'X2v', 'T(O..O)', 'G(F..F)', 'B04I-B', 'B07P-X', 'Eig12_AEA(ri)', 'Mor16v', 'HyWi_Dz(i)', 'L3u', 'SM6_D', 'RDF110u', 'RDF075u', 'B03F-Si', 'CATS3D_07_PP', 'SsssN', 'SM08_EA(ri)', 'ATSC2i', 'CATS3D_17_LL', 'ATSC6v', 'B03Si-X', 'C-002', 'F08N-N', 'SpMax_EA', 'Psi_e_0', 'VR3_L', 'SpMAD_EA(ed)', 'SpAbs_B(s)', 'SM3_Dz(e)', 'RDF135p', 'B06Cl-X', 'SM08_AEA(dm)', 'NdsssP', 'B06N-B', 'SM2_Dz(m)', 'R6m', 'P_VSA_LogP_8', 'SM08_EA(dm)', 'Eig04_AEA(ed)', 'Eig04_EA', 'Mor03m', 'VR1_RG', 'B08B-X', 'CATS3D_06_PN', 'B03I-B', 'B10S-Si', 'NssssPb', 'WiA_Dz(p)', 'B05I-I', 'GATS5i', 'G(O..S)', 'Mor21u', 'TDB07u', 'Eig15_AEA(bo)', 'B02Cl-B', 'B01P-X', 'B04Cl-X', 'n135-Triazines', 'nSO4', 'T(O..P)', 'SpPosLog_Dz(Z)', 'Mor22s', 'SdS', 'P_VSA_v_4', 'F06I-I', 'B10F-Cl', 'RDF010s', 'SsssNH+', 'B07Cl-X', 'SM5_Dz(e)', 'F03P-X', 'B02N-O', 'TDB07p', 'MATS5i', 'R8v+', 'RDF085v', 'F05Br-X', 'RDF115s', 'J_B(e)', 'F02Br-X', 'MWC08', 'SRW07', 'RDF080u', 'Chi0_EA(bo)', 'F10C-X', 'F06O-S', 'RDF140u', 'SM3_X', 'ATS3m', 'NsI', 'H3m', 'RDF135m', 'F08I-X', 'B08P-B', 'nRCOSR', 'X5', 'B02C-X', 'P_VSA_ppp_D', 'MATS2s', 'F09F-Cl', 'F10C-O', 'F01S-Br', 'QXXe', 'TPSA(Tot)', 'B05N-I', 'B08O-P', 'P_VSA_MR_1', 'nPyrazines', 'Ks', 'F03O-Br', 'SM10_AEA(dm)', 'TDB10e', 'DP08', 'VE1_G/D', 'B08P-Si', 'nHAcc', 'nCbH', 'CATS2D_01_NN', 'ATSC5m', 'Chi1_EA', 'SM13_EA(ri)', 'ATS6v', 'WiA_B(s)', 'SpAD_EA', 'B01N-I', 'G(S..F)', 'B08C-S', 'Eig03_AEA(bo)', 'Ho_A', 'SpMax5_Bh(p)', 'B08B-Si', 'F08F-Si', 'CATS2D_06_DD', 'G(P..F)', 'T(S..Cl)', 'B06Br-B', 'B10I-Si', 'NddsN', 'SM07_EA(ed)', 'VE3_B(e)', 'ZM2', 'G2', 'Mor16i', 'R2p', 'F08N-F', 'CIC4', 'R1m', 'F02N-O', 'B04N-F', 'B10N-B', 'B02N-S', 'Mor19e', 'B02C-O', 'P_VSA_e_5', 'VE3_B(m)', 'Eig03_EA(ri)', 'Mor01e', 'CATS3D_00_DL', 'VE1sign_B(m)', 'SpMax_B(s)', 'B02Cl-Si', 'RDF085m', 'F02F-F', 'P_VSA_p_1', 'F09S-S', 'Eig03_AEA(ed)', 'SM04_AEA(ed)', 'Mor25v', 'F04O-Si', 'B04N-Br', 'H2p', 'HATS1u', 'R5v', 'ATSC4m', 'B01C-Br', 'Eig02_EA(bo)', 'H1e', 'RDF035v', 'AVS_Dt', 'F09Br-Si', 'F02B-B', 'Eig06_AEA(bo)', 'Mor09s', 'Mor15u', 'SpMax7_Bh(p)', 'RDF055e', 'SpMAD_B(s)', 'VE1_B(m)', 'F10Br-I', 'SM5_B(i)', 'SM5_D', 'RDF075e', 'RDF105s', 'L3v', 'F02C-F', 'F04B-X', 'CATS3D_12_AA', 'Ho_G', 'HATS8u', 'H2m', 'F09S-B', 'RDF125s', 'CATS3D_15_DD', 'ChiA_RG', 'F07S-S', 'SpMaxA_EA', 'WiA_G', 'VR1_B(i)', 'VR1_B(e)', 'DP04', 'MWC04', 'F02S-F', 'SpPosA_B(s)', 'CIC2', 'nCp', 'WiA_B(m)', 'F08S-B', 'CATS2D_00_DL', 'CENT', 'Mor08s', 'SRW10', 'ATSC3i', 'RDF105u', 'B10F-F', 'Mor18u', 'ATSC6i', 'F05O-S', 'CATS3D_06_DP', 'B06S-F', 'CATS3D_10_DN', 'SM5_G/D', 'RDF080e', 'SpMax_AEA(ri)', 'CATS3D_12_PL', 'MATS8i', 'N-073', 'Mor14i', 'CID', 'Mor27v', 'GATS8s', 'Mor01i', 'H_Dz(v)', 'F08N-Cl', 'SM10_AEA(ed)', 'Eig07_AEA(dm)', 'R3m+', 'SpMaxA_H2', 'B10N-N', 'SM12_EA(bo)', 'RDF100i', 'L2p', 'TDB06e', 'R2u', 'JGT', 'AVS_G/D', 'B02F-B', 'F05Br-Si', 'AVS_Dz(p)', 'B02Cl-I', 'SM11_EA(bo)', 'B01X-X', 'R6i+', 'F05Cl-Br', 'TDB09e', 'HyWi_G/D', 'SsPH2', 'Xu', 'TDB09i', 'ATSC1i', 'SpMAD_H2', 'CATS3D_18_AN', 'R4i+', 'F02I-B', 'SM12_AEA(bo)', 'Wi_Dz(v)', 'RDF030u', 'B02C-F', 'F05N-B', 'CATS3D_05_DD', 'RDF110p', 'GATS2s', 'CATS2D_03_DP', 'F06Cl-Br', 'F01I-X', 'B04O-I', 'NsssAs', 'F08Br-Br', 'X1Per', 'ATSC8s', 'Mor11i', 'F06Si-Si', 'nAzetidines', 'F05F-F', 'RDF090u', 'Vv', 'F07F-F', 'R1p', 'HATS4u', 'SpMAD_Dz(v)', 'CATS3D_14_PN', 'nArCONH2', 'RDF040i', 'B10S-S', 'JGI1', 'CATS3D_13_PN', 'RDF015i', 'P_VSA_m_4', 'SM4_B(i)', 'CATS3D_09_PL', 'ATS6m', 'CATS3D_18_DA', 'SpMax1_Bh(p)', 'B05X-X', 'SpMin1_Bh(m)', 'B07O-X', 'CATS2D_01_AN', 'F09N-N', 'F09C-N', 'CATS2D_04_AL', 'O-062', 'B02Br-B', 'CATS3D_01_DP', 'B10F-Si', 'F09F-Br', 'F09Si-Si', 'VR1_B(m)', 'QXXi', 'B01Si-X', 'B03Cl-X', 'B10C-Br', 'B06N-O', 'RDF075s', 'H5m', 'F06N-Br', 'RDF090e', 'Mor28i', 'SpMaxA_L', 'WiA_B(e)', 'CATS3D_05_NL', 'GATS7i', 'F04F-Si', 'SssNH', 'nArCOX', 'SpMin2_Bh(p)', 'F10P-P', 'B02F-F', 'TDB05v', 'F09O-S', 'Mor13e', 'B10N-F', 'F03S-Br', 'Chi_B(s)', 'SpMaxA_Dz(v)', 'SM09_EA', 'SM14_AEA(dm)', 'H_Dz(m)', 'RDF010e', 'F03P-B', 'NssssBe-', 'Mor22p', 'P1s', 'F04F-B', 'CATS3D_09_AN', 'nOxazoles', 'StN', 'F02O-P', 'F01F-X', 'SaaN', 'SpMax6_Bh(v)', 'NsSH', 'Eig11_EA(ri)', 'B03Cl-Si', 'EE_G/D', 'HATS7p', 'F01Cl-B', 'VR2_RG', 'Mor28v', 'D/Dtr04', 'E3m', 'F01I-B', 'HATS8e', 'SM05_AEA(dm)', 'H_D', 'GD', 'F10Br-B', 'B06P-F', 'Ho_Dz(v)', 'B06S-X', 'P1m', 'B08Si-Si', 'SpPosLog_D/Dt', 'CATS2D_04_DA', 'HATS5e', 'Eig09_EA', 'SM14_AEA(ed)', 'B04Cl-Br', 'SssNH2+', 'F09N-I', 'Chi1_EA(ri)', 'Ho_Dz(e)', 'HATS5p', 'P_VSA_LogP_4', 'C-023', 'T(Br..Br)', 'RDF065p', 'P-115', 'nArCHO', 'CATS3D_03_AL', 'B06F-Br', 'F02B-X', 'T(N..F)', 'B02Br-Br', 'CATS2D_02_DP', 'H6i', 'SM2_Dz(i)', 'F06F-Si', 'B09I-B', 'HATS8m', 'B04S-X', 'F06S-Cl', 'TDB04u', 'RDF040p', 'B08S-I', 'CATS3D_03_PN', 'B05B-Si', 'R8u+', 'SM5_L', 'B09O-F', 'Mor27e', 'nR=Cp', 'Mor18m', 'ATS8m', 'SpPosA_Dz(m)', 'SpMax7_Bh(e)', 'ATS1i', 'B09Br-X', 'CATS2D_09_DD', 'F08N-X', 'B03S-Br', 'nN-N', 'B06P-P', 'F02Cl-Br', 'SP12', 'B06Si-Si', 'CATS2D_07_PN', 'B08S-F', 'QYYp', 'F03C-C', 'VE1sign_B(p)', 'nPyrazoles', 'nBR', 'E1m', 'B05O-I', 'RDF060s', 'R3i', 'nRNCS', 'F05Br-Br', 'B01Cl-Cl', 'CATS2D_02_PL', 'SM10_EA(ed)', 'CATS3D_13_AA', 'S2K', 'Mor20s', 'F03S-Si', 'SsLi', 'I-097', 'SpPosLog_B(p)', 'TDB09u', 'RDF135v', 'B02S-F', 'SpPosA_Dz(p)', 'nArNHR', 'CATS2D_03_DA', 'TDB02p', 'P_VSA_e_1', 'HOMA', 'CATS3D_09_PP', 'Mor05e', 'Cl-090', 'Mor22u', 'B08I-Si', 'RDF090s', 'CATS2D_03_NL', 'GATS6s', 'B03F-F', 'J_Dz(v)', 'ICR', 'F07P-P', 'B09O-Cl', 'BLI', 'RDF100m', 'GGI5', 'Xindex', 'B08I-X', 'R4e+', 'SpAD_Dz(p)', 'F07P-X', 'TDB05u', 'F09C-I', 'F06C-F', 'F07S-Si', 'CATS3D_11_DA', 'F07P-Si', 'B05C-Cl', 'F06O-P', 'H_D/Dt', 'B04Si-Si', 'B02S-X', 'TDB07m', 'SsF', 'B01S-S', 'F09Cl-X', 'F10I-B', 'RDF100e', 'SdsssP', 'ATS1s', 'CATS3D_05_AP', 'X5Av', 'F02N-Br', 'B04F-B', 'F03Cl-Si', 'SM3_B(s)', 'C-022', 'MATS8m', 'B09O-Br', 'CATS3D_05_PP', 'VE2_B(p)', 'RDF155p', 'Eig13_EA(ri)', 'ATS3s', 'C-012', 'F06Si-X', 'DP17', 'SdSe', 'F05Cl-X', 'ATSC5v', 'CATS3D_19_AA', 'B06B-Si', 'TDB08i', 'B04Br-Si', 'B02O-X', 'TDB05r', 'SpAD_AEA(bo)', 'Mor06v', 'CATS2D_02_AL', 'I-098', 'ATS1m', 'F09I-X', 'CATS2D_03_NN', 'AVS_Dz(Z)', 'Gu', 'NaasN', 'T(Br..I)', 'P_VSA_p_2', 'F07Si-X', 'VE2sign_B(p)', 'SM2_D', 'Eig10_AEA(dm)', 'SsCH3', 'SRW02', 'Ts', 'MPC02', 'SaaS', 'RDF155v', 'F05F-Br', 'Eig01_EA(bo)', 'AVS_H2', 'B10S-P', 'Mor12u', 'F06C-S', 'B04Cl-I', 'nPR3', 'RTp', 'CATS3D_01_DA', 'F02N-Si', 'SM02_AEA(ri)', 'F07P-Br', 'SpMaxA_EA(dm)', 'SpPosA_L', 'B02O-O', 'F09C-Br', 'B02S-Cl', 'B10P-Si', 'R6u+', 'IC4', 'F01S-P', 'VR3_B(e)', 'CATS2D_08_LL', 'F07S-F', 'CATS3D_01_PL', 'F10Cl-X', 'Eig14_EA(ri)', 'GGI2', 'SM2_B(v)', 'B07B-X', 'F06S-X', 'ATSC2m', 'J_Dz(i)', 'SM13_EA(ed)', 'SpMax5_Bh(s)', 'MPC05', 'TDB06m', 'MPC09', 'SpMin8_Bh(m)', 'P1i', 'B03F-Cl', 'MATS4m', 'B10Cl-Br', 'Gm', 'B08N-N', 'Mor30m', 'nR09', 'T(N..S)', 'F08S-X', 'B09C-S', 'H6s', 'RDF035e', 'F06Cl-Si', 'SsssPbH', 'Eig11_AEA(ed)', 'B01O-I', 'F01I-Si', 'CATS3D_13_DL', 'F06F-Cl', 'SM05_EA(ed)', 'SpDiam_Dt', 'T(I..I)', 'CATS3D_16_DA', 'CATS3D_03_AA', 'CATS3D_07_AA', 'CATS3D_14_DA', 'Me', 'RDF135s', 'B09P-Si', 'B07N-S', 'VE2sign_G/D', 'Ges', 'Br-103', 'Mi', 'R7v', 'SM6_B(p)', 'B07I-Si', 'F04Br-B', 'nArCOSR', 'RDF030m', 'B08Br-X', 'F10F-X', 'S0K', 'Cl-088', 'SpMin4_Bh(v)', 'RDF075m', 'Dz', 'CATS3D_18_AP', 'ATSC3v', 'SM03_AEA(bo)', 'B01F-X', 'Br-095', 'SpAD_Dz(v)', 'B08I-I', 'RDF140i', 'CATS3D_03_AN', 'B06N-I', 'ATSC4s', 'B07Cl-Cl', 'B09B-X', 'SpMin7_Bh(v)', 'SpMin8_Bh(p)', 'ATS1v', 'F09C-Si', 'CATS2D_04_PP', 'ATS5p', 'B08C-C', 'RDF015p', 'TIC3', 'Mor18e', 'F08F-F', 'O-059', 'F04P-B', 'SpMaxA_B(p)', 'MATS6i', 'C-035', 'SM12_AEA(ri)', 'CATS3D_15_AN', 'Chi1_AEA(ri)', 'B09Cl-I', 'B10P-I', 'F09Cl-Cl', 'nThiazoles', 'F02Br-Br', 'nHBonds', 'G(Br..I)', 'RDF100u', 'B04B-X', 'F-084', 'T(F..Cl)', 'VE2sign_B(s)', 'CATS2D_06_PP', 'QXXv', 'H7s', 'RDF025p', 'SsSH', 'Mor31v', 'F03X-X', 'SM3_B(i)', 'SpMAD_X', 'SM05_EA(dm)', 'F-085', 'Psi_i_1d', 'G(P..I)', 'SM11_EA', 'F01N-N', 'NaadN', 'F06C-O', 'RDF040e', 'CATS3D_09_DD', 'B01O-B', 'HyWi_Dz(p)', 'B07S-B', 'CATS3D_03_AP', 'F02Cl-Cl', 'HyWi_B(p)', 'TDB09r', 'JGI5', 'F08I-Si', 'SpMaxA_RG', 'NaaaC', 'CATS3D_06_AN', 'CATS3D_14_DP', 'TDB07s', 'ISH', 'CATS3D_11_DP', 'F01P-P', 'F07B-Si', 'CATS3D_00_AL', 'B05C-F', 'CATS3D_00_AP', 'B03O-S', 'CATS3D_00_DA', 'H2u', 'NaaS', 'H0e', 'F01Si-X', 'B06F-F', 'B03Cl-Br', 'N-078', 'B08C-B', 'C-036', 'B08N-Cl', 'B10O-Cl', 'T(P..I)', 'Mor25p', 'CATS3D_18_PL', 'nArNO2', 'B06B-B', 'B10S-X', 'CATS3D_09_DA', 'B06N-F', 'TDB03m', 'RDF115m', 'CATS3D_16_DD', 'CATS3D_11_PL', 'F10O-Cl', 'Mor26s', 'F08P-P', 'RDF065i', 'B09F-Si', 'ChiA_X', 'HTe', 'CATS3D_12_DA', 'Mor09v', 'B01C-C', 'F04Cl-X', 'RDF130e', 'GATS8p', 'SpPosA_Dz(Z)', 'P1e', 'B05S-Br', 'B05N-P', 'G(N..F)', 'B01O-P', 'nRSSR', 'X3Av', 'F01N-F', 'Mor05v', 'nHet', 'SpDiam_EA', 'Ki', 'Mor02e', 'MPC06', 'ZM1MulPer', 'SpMin1_Bh(i)', 'SM4_B(m)', 'F10C-P', 'CATS3D_14_AL', 'CATS2D_05_NL', 'B08Cl-I', 'ATSC7p', 'RTu', 'Chi_B(m)', 'TDB02u', 'WiA_B(v)', 'n124-Triazines', 'SM2_H2', 'F01O-X', 'B02Cl-Cl', 'F08N-I', 'B08F-Br', 'F04N-Cl', 'B09Cl-Si', 'F09N-Si', 'Mor06m', 'B05O-P', 'B08S-S', 'Eig14_EA', 'Eig10_AEA(ed)', 'RDF060v', 'nArCSSR', 'GATS1v', 'Mor03p', 'F01F-F', 'Eig11_EA(dm)', 'CATS3D_15_DN', 'ATSC7e', 'F08P-Si', 'LLS_01', 'Chi0_AEA(ri)', 'CATS3D_02_PL', 'B10P-X', 'SpPosA_B(i)', 'F01S-X', 'R1u', 'F03N-X', 'Eig07_EA(ed)', 'TDB09v', 'nCR3X', 'B01C-Si', 'B04N-N', 'B10N-Br', 'nR06', 'B09S-P', 'B01O-X', 'F02Si-Si', 'C-044', 'B07Br-Si', 'nArCOOH', 'TDB06p', 'F05P-Si', 'TDB04i', 'CATS3D_08_PL', 'X2A', 'B06C-Cl', 'NsssssP', 'B05N-X', 'F06P-B', 'F02N-X', 'IVDM', 'GATS3m', 'Mor20m', 'SM1_Dz(p)', 'RDF085s', 'CATS3D_01_DN', 'X5v', 'B02C-Si', 'B03S-P', 'NsssNH+', 'RDF145m', 'Ve', 'C-011', 'G(P..Cl)', 'DLS_01', 'VE3_B(v)', 'HyWi_B(i)', 'Mor10i', 'SM6_Dt', 'TDB08p', 'ZM2Kup', 'B04N-S', 'D/Dtr09', 'SpDiam_B(p)', 'CATS3D_04_PN', 'F02P-I', 'SM11_EA(ri)', 'CATS3D_12_LL', 'F06C-P', 'nArOCN', 'CATS3D_07_NL', 'MATS1e', 'CATS2D_01_LL', 'SpPos_Dz(m)', 'RDF055m', 'SpMin7_Bh(p)', 'B05S-B', 'VR3_G/D', 'J_D', 'B09Si-Si', 'B06Cl-Br', 'RDF035p', 'SMTIV', 'C-004', 'CATS3D_12_PN', 'F10Cl-Cl', 'VE2_B(m)', 'NRS', 'F03C-P', 'RDF055s', 'SpMin2_Bh(s)', 'SM5_H2', 'B03S-Cl', 'F08N-B', 'CATS2D_08_PN', 'RDF060u', 'RDF150p', 'GGI3', 'SpMax3_Bh(i)', 'H2e', 'nRNHR', 'SpPos_G/D', 'F09O-X', 'SpMaxA_B(i)', 'F08C-X', 'Chi_D', 'CATS3D_07_AP', 'F07Cl-B', 'B05Cl-Cl', 'TDB10p', 'C-019', 'B05S-Cl', 'F01I-I', 'Eig14_AEA(dm)', 'Mor21v', 'ntH-Thiophenes', 'F07P-I', 'G(O..F)', 'F07Br-Br', 'B01Cl-Br', 'B07Br-Br', 'ChiA_B(i)', 'CATS3D_16_DN', 'CATS3D_06_PP', 'F09Cl-I', 'B10O-Si', 'Mor29s', 'SpMaxA_Dz(p)', 'CATS2D_02_PN', 'P_VSA_e_6', 'SpAbs_B(m)', 'MATS1p', 'H7e', 'VE2sign_L', 'F02C-B', 'DISPm', 'SpPosLog_A', 'B02Si-Si', 'SpMAD_Dz(m)', 'IAC', 'F08I-B', 'SpMax3_Bh(p)', 'CATS3D_11_AL', 'B09P-B', 'Mor02m', 'R7v+', 'B10C-X', 'CATS3D_16_AP', 'F01X-X', 'nROCN', 'TDB04v', 'SpMax_Dz(p)', 'F07N-N', 'F06Br-I', 'B01N-Si', 'Eig08_AEA(ri)', 'ATS3i', 'B04C-Cl', 'B06O-O', 'B05P-Br', 'nR04', 'F04C-B', 'F03Si-X', 'SM2_G', 'F09O-O', 'Mor23v', 'DP12', 'HATSi', 'SpDiam_Dz(Z)', 'ChiA_G/D', 'SpAbs_RG', 'SpDiam_A', 'F01Br-X', 'CATS2D_09_DP', 'B08N-F', 'E1p', 'GATS4v', 'F09O-B', 'NtN', 'F08F-X', 'RDF015v', 'F07C-F', 'RDF030s', 'R3v+', 'CATS2D_06_NL', 'F03C-S', 'C-031', 'Ho_X', 'T(S..S)', 'CATS3D_03_NL', 'CATS3D_10_DP', 'HATS4s', 'H0m', 'R5s', 'F05I-B', 'SsI', 'TDB07r', 'B09P-Br', 'F07Br-X', 'O-057', 'Mor12p', 'Eig12_EA(dm)', 'nCXr=', 'B01Cl-I', 'Mor28e', 'R6p', 'MATS7s', 'MAXDN', 'SM07_AEA(bo)', 'Ho_B(p)', 'nCR2X2', 'CATS2D_00_AA', 'C-014', 'CATS3D_12_AL', 'SM15_EA(dm)', 'HATS4m', 'Mor04u', 'SpMin3_Bh(e)', 'ATS6s', 'F03N-O', 'B05N-B', 'B03S-X', 'Eta_F', 'NssSiH2', 'F02P-Cl', 'F03S-X', 'Eig05_EA(dm)', 'HATS8v', 'B07F-Cl', 'B10Cl-Cl', 'RTm+', 'F07Br-I', 'SpMin7_Bh(e)', 'F01Cl-Si', 'B09S-B', 'Eig01_EA(ed)', 'Mor19u', 'B04C-B', 'F05F-B', 'SpPosLog_B(e)', 'MATS4p', 'B01I-X', 'nFuranes', 'Mor31s', 'B07N-Cl', 'IVDE', 'RDF115e', 'CATS3D_17_DN', 'nArNO', 'nO(C=O)2', 'ATS5i', 'RDF115p', 'SpMin6_Bh(e)', 'F05I-X', 'SpAbs_G', 'E2i', 'CATS2D_08_DN', 'RDF065m', 'H6m', 'B05P-Cl', 'SpMax1_Bh(v)', 'F01N-Br', 'VE2sign_B(m)', 'P_VSA_m_3', 'B02N-Cl', 'G(O..Br)', 'B04S-F', 'SM12_EA(ri)', 'Mor27u', 'G2m', 'F06C-X', 'SM6_X', 'VE3_B(i)', 'ATS4p', 'Eig06_EA(ed)', 'B07Si-Si', 'RDF030p', 'B07S-Br', 'F08O-Cl', 'BID', 'F03N-Si', 'ISIZ', 'CATS3D_05_DP', 'CATS3D_06_DA', 'CATS3D_15_DA', 'SM07_AEA(dm)', 'G3v', 'F08F-Cl', 'CATS3D_00_DP', 'F06O-Si', 'CATS2D_09_PL', 'SM3_B(v)', 'CATS3D_05_PN', 'B05N-Si', 'B02O-B', 'B06P-I', 'F06O-F', 'C-037', 'CATS2D_03_AL', 'F07P-F', 'F05N-I', 'HyWi_B(s)', 'nIsothiazoles', 'SM08_EA(ed)', 'Eig12_EA(ed)', 'B03N-Br', 'nThioethanes', 'CATS3D_13_NN', 'HATS4p', 'G(N..P)', 'HyWi_Dt', 'CATS2D_07_AP', 'ATS2m', 'Wi_B(e)', 'ATSC4v', 'Mp', 'PW2', 'SM6_Dz(Z)', 'B04Cl-Si', 'SM15_EA(ed)', 'VE2_G/D', 'RDF085p', 'B05P-I', 'R8m', 'SM1_Dz(m)', 'RDF150e', 'R8u', 'R3v', 'B09O-Si', 'C-032', 'F06C-Cl', 'T(S..P)', 'TDB01m', 'SpPos_RG', 'CATS3D_01_PP', 'TDB02v', 'HyWi_Dz(v)', 'SM2_Dz(Z)', 'VR2_G/D', 'CATS2D_01_DL', 'nCt', 'Eig08_EA(ri)', 'ATS3p', 'CATS3D_00_PP', 'RDF020u', 'HyWi_Dz(Z)', 'DLS_05', 'F05C-S', 'F07F-X', 'B07C-S', 'P_VSA_MR_7', 'CATS3D_01_PN', 'Mor31u', 'CATS3D_04_AL', 'P_VSA_s_3', 'nThiophenes', 'B03O-B', 'ATSC6m', 'B08C-F', 'F06Cl-I', 'SpDiam_G', 'F10S-S', 'nCsp2', 'Chi0_EA(ri)', 'CATS3D_00_LL', 'B07P-Si', 'ATSC8p', 'Mor24e', 'Eig06_EA(bo)', 'B05S-X', 'MATS3v', 'B06C-X', 'Eta_F_A', 'CATS3D_07_DL', 'F01C-O', 'B02O-S', 'Mor05i', 'NdNH', 'B09Br-B', 'Mor16m', 'CATS3D_00_PN', 'N-079', 'B10Si-Si', 'Mor23e', 'D/Dtr06', 'CATS3D_06_AL', 'F09C-B', 'nROX', 'SpDiam_EA(ed)', 'CATS2D_00_AP', 'AECC', 'F05Si-Si', 'F07Cl-I', 'H4m', 'TDB07v', 'Eig11_EA(ed)', 'SP06', 'F08S-Si', 'Mor31e', 'F04O-P', 'SM2_X', 'SpMax3_Bh(e)', 'F02F-B', 'F09B-X', 'L3m', 'EE_X', 'Eig14_AEA(bo)', 'H8u', 'B07B-Si', 'UNIP', 'F09C-Cl', 'Sv', 'ATSC2p', 'GATS3p', 'F05I-Si', 'Mor26v', 'J_Dz(Z)', 'SddC', 'F09P-F', 'CATS2D_03_LL', 'F07N-F', 'I-100', 'SpMaxA_G/D', 'B02F-I', 'SaasN', 'SM05_EA', 'CATS3D_17_PL', 'Eig02_EA(dm)', 'CATS2D_08_AA', 'B08Br-Si', 'B06O-S', 'B04S-Cl', 'SpMax6_Bh(i)', 'F06N-B', 'RDF035u', 'DP18', 'Wi_G', 'CATS3D_08_AP', 'SM4_Dz(Z)', 'VR2_B(m)', 'RDF010i', 'B10I-B', 'B07N-I', 'F01F-I', 'Mor11u', 'RDF105m', 'F10P-F', 'CATS2D_08_NN', 'SM4_Dz(p)', 'VR1_B(p)', 'Eig06_AEA(ri)', 'G(S..P)', 'RDF105i', 'HATS4e', 'Eig05_EA', 'O-056', 'HATS2e', 'F03O-B', 'B09C-I', 'F10Cl-B', 'SpMax2_Bh(i)', 'RDF130p', 'Eig07_AEA(ri)', 'B07N-O', 'JGI2', 'DP09', 'B03Br-Si', 'B05F-Si', 'SM02_EA(dm)', 'AVS_B(i)', 'F03O-P', 'B07B-B', 'B02N-N', 'nArNCO', 'X4', 'AVS_Dz(e)', 'Eig15_EA(dm)', 'F09X-X', 'CATS3D_04_NN', 'X1MulPer', 'HATS1e', 'N-069', 'G(O..I)', 'SM3_B(e)', 'F05O-I', 'nAT', 'SM09_AEA(ed)', 'NssssC', 'Eta_C_A', 'B03Br-B', 'SIC1', 'G2e', 'Eig07_EA', 'SP11', 'CATS3D_03_PL', 'SpPosLog_X', 'nBT', 'R8v', 'MATS4e', 'NsSiH3', 'F10I-Si', 'SpMax8_Bh(p)', 'B08C-Cl', 'CATS3D_04_DD', 'B04C-N', 'SM05_EA(bo)', 'SpMax_D/Dt', 'SddssS', 'L3i', 'ATS5v', 'B05P-B', 'RDF105p', 'F09P-I', 'nR05', 'F01C-Cl', 'SpPosA_B(p)', 'B04S-B', 'Mor01m', 'B09N-X', 'B08Si-X', 'SPI', 'N-075', 'RCI', 'F10N-S', 'Mor06p', 'CATS3D_06_DD', 'Eig02_AEA(dm)', 'VE2_RG', 'F02N-N', 'Eig06_AEA(dm)', 'F02C-Cl', 'F08O-Br', 'B01F-F', 'B04Cl-B', 'B09F-X', 'B10P-P', 'B03N-Cl', 'RDF045u', 'Mor03u', 'MPC07', 'G(S..I)', 'F05N-F', 'RDF045e', 'GATS5p', 'F10S-Br', 'RDF045i', 'CATS2D_08_NL', 'B09C-Cl', 'F04Br-Br', 'CATS3D_18_AL', 'B04F-Cl', 'SM02_AEA(ed)', 'Eig10_EA(ri)', 'Eig06_EA(dm)', 'F03F-Br', 'B09Br-Si', 'NsNH2', 'MWC02', 'B02B-X', 'CATS3D_07_DD', 'RDF060i', 'F03C-Cl', 'H_G', 'F04C-X', 'CATS3D_17_DL', 'B07C-Cl', 'B01F-I', 'SM4_Dz(v)', 'Eig12_EA', 'F06C-C', 'B01Cl-X', 'E1e', 'B04F-X', 'B07F-B', 'CATS3D_13_DD', 'F06P-X', 'SpPosLog_Dz(p)', 'SM6_H2', 'F03N-P', 'F10O-P', 'SaaCH', 'CATS2D_08_PP', 'HATS7v', 'SsssssP', 'F01O-B', 'F09S-Cl', 'B08Cl-B', 'H3p', 'B01O-F', 'Mor20u', 'N-067', 'F04N-X', 'Psi_i_1', 'B03C-X', 'SsssSiH', 'F07Cl-Si', 'Eig09_EA(dm)', 'F02O-Br', 'F05N-P', 'F04N-I', 'SpMAD_EA(ri)', 'DP11', 'X3v', 'H-048', 'B05O-Si', 'F04F-I', 'nRSR', 'H-051', 'F01P-X', 'Am', 'H-046', 'B09P-Cl', 'B04F-Br', 'Mor15p', 'RDF130i', 'G(Cl..I)', 'B10S-F', 'SM3_D', 'Mor10p', 'H3v', 'GATS7s', 'P_VSA_LogP_7', 'B05S-P', 'F03F-F', 'RDF030e', 'Eig03_EA(bo)', 'As', 'B05C-P', 'R6u', 'B01S-I', 'C-005', 'Eig02_EA(ed)', 'SpMax8_Bh(m)', 'F04O-Br', 'TDB02s', 'F07C-Si', 'F10S-X', 'B08O-Cl', 'B03C-S', 'SpMaxA_EA(bo)', 'F04Cl-B', 'F10Si-X', 'F05S-P', 'Mor29i', 'B08P-Cl', 'P_VSA_m_5', 'F07S-Cl', 'B09P-I', 'F02C-P', 'RFD', 'L1m', 'CATS3D_01_AA', 'Mor04v', 'CATS2D_04_DD', 'B09C-P', 'ZM1Per', 'Mor07p', 'L1p', 'P2u', 'nPO4', 'B07S-P', 'SpMax2_Bh(m)', 'nO', 'SM4_Dt', 'Mor32e', 'ATSC3p', 'VR3_RG', 'nC=O(O)2', 'F10N-Cl', 'RDF050m', 'SP16', 'SpMax_Dz(m)', 'B06O-B', 'Ho_G/D', 'Psi_i_t', 'CATS3D_07_DP', 'SpPosA_X', 'HyWi_D', 'F04S-P', 'SpMin4_Bh(i)', 'CATS2D_00_LL', 'F08P-Br', 'SP02', 'B09F-Br', 'B05F-Cl', 'B09O-O', 'SpMax_AEA(bo)', 'SpPos_B(i)', 'CATS3D_08_AL', 'NtCH', 'SRW03', 'B05O-O', 'F02S-S', 'F08C-S', 'I-096', 'B05N-F', 'SpPos_Dz(v)', 'CATS3D_06_DL', 'SM3_L', 'Eig09_AEA(ed)', 'H8s', 'T(P..F)', 'F10O-O', 'B10S-I', 'G1u', 'B02N-P', 'B05Si-Si', 'H1i', 'ATSC1v', 'F08N-P', 'Eig14_AEA(ed)', 'TDB04m', 'F06C-B', 'nRCONR2', 'TDB08u', 'ATS2i', 'VR2_B(v)', 'F02Cl-B', 'H7m', 'B06O-X', 'Eta_FL_A', 'B07P-I', 'Mor21p', 'CATS3D_01_LL', 'Eta_alpha_A', 'SM1_B(e)', 'AVS_B(m)', 'SpMax6_Bh(p)', 'H_Dz(i)', 'SP09', 'SM15_AEA(ed)', 'H-052', 'EE_B(m)', 'T(N..Cl)', 'L2e', 'B07C-Si', 'SM13_EA(bo)', 'SM2_B(i)', 'ZM1', 'CATS3D_02_DD', 'F08Cl-Br', 'Ho_L', 'Sp', 'NsNH3+', 'SssssB-', 'SpMin3_Bh(p)', 'B05Br-I', 'B03C-Si', 'F07O-S', 'SM15_AEA(ri)', 'R7i', 'H3u', 'B07S-X', 'B08X-X', 'TIC5', 'CATS3D_19_DL', 'CATS3D_06_NN', 'SM09_AEA(bo)', 'nArNNOx', 'NsssSiH', 'RDF065s', 'F07O-I', 'De', 'nN(CO)2', 'SpMax_L', 'CATS3D_14_PL', 'Qindex', 'B03C-F', 'SM3_Dt', 'CATS3D_12_DD', 'TDB08e', 'F09P-Si', 'DLS_04', 'C-013', 'Ds', 'B05N-S', 'L1u', 'Ro5', 'B01C-P', 'G1p', 'B09C-Br', 'B04F-Si', 'CATS3D_01_NL', 'nArOX', 'Mor03e', 'SpMax5_Bh(m)', 'Wi_G/D', 'F05O-Si', 'H5e', 'GATS1i', 'Dv', 'RDF025i', 'SpPos_B(v)', 'nCar', 'B02S-I', 'Vi', 'nCL', 'RDF130u', 'Psi_e_t', 'F09N-O', 'Mor16s', 'B09P-F', 'Eig08_EA(bo)', 'Chi1_AEA(bo)', 'nTA', 'Eig06_AEA(ed)', 'H3e', 'GATS3s', 'F03O-S', 'SpMin6_Bh(s)', 'SssssGe', 'DP03', 'CATS3D_11_DD', 'NssO', 'Eig15_EA(ri)', 'F03O-O', 'B02I-B', 'QXXp', 'P_VSA_e_4', 'B09C-B', 'B02N-Si', 'Br-091', 'SdssS', 'B06C-O', 'F01O-Si', 'QYYi', 'TIC1', 'B04O-F', 'RDF010v', 'SpMax4_Bh(e)', 'F04C-Br', 'B05C-S', 'RDF095s', 'B05Cl-I', 'B09Cl-Cl', 'F02Cl-I', 'F04S-B', 'nSO2OH', 'SpPosA_G', 'SM05_AEA(ri)', 'SM09_EA(bo)', 'RDF095v', 'IDDM', 'SM06_AEA(ed)', 'Ho_B(m)', 'Mor29e', 'Mor15v', 'B10Br-X', 'B07O-Si', 'Wi_Dt', 'F06S-F', 'B05C-C', 'Mor26i', 'SpPos_L', 'Eig02_AEA(bo)', 'CATS2D_06_AA', 'ON0', 'R4p', 'RCON', 'Mor31p', 'F04O-X', 'Mor05m', 'MATS3i', 'B02Br-X', 'B05I-X', 'SpDiam_L', 'Mor25i', 'F02C-Si', 'nArOR', 'B04N-Cl', 'X0sol', 'MATS7i', 'P_VSA_v_2', 'CATS3D_13_NL', 'SM3_Dz(i)', 'CATS3D_19_NL', 'Chi_Dz(Z)', 'nArCONHR', 'CATS3D_00_AA', 'B01I-I', 'F06N-X', 'RDF155u', 'F01C-Si', 'CATS3D_17_PP', 'RDF040v', 'D/Dtr12', 'SpMaxA_Dz(e)', 'F04B-B', 'HATS0e', 'F02O-Si', 'SpPosA_Dz(e)', 'B09C-F', 'Di', 'B02N-Br', 'F05P-I', 'Eig12_AEA(ed)', 'Ho_Dz(i)', 'F04P-F', 'CATS2D_09_PP', 'RTi', 'EE_B(i)', 'B08N-P', 'Mor03i', 'B01C-B', 'B05Cl-B', 'P_VSA_MR_6', 'Psi_e_0d', 'MATS3p', 'SM4_Dz(m)', 'F09N-Cl', 'B03P-I', 'F02P-B', 'F04S-F', 'GGI8', 'F03I-B', 'F08Br-I', 'SpAD_G', 'B06Br-X', 'B01N-B', 'B09F-F', 'RDF095p', 'nSO', 'SM10_AEA(bo)', 'CATS3D_04_AN', 'VE1_B(v)', 'F03C-I', 'F06Br-X', 'RDF135i', 'Mor13i', 'SM13_EA(dm)', 'NssssSn', 'B04B-B', 'P2p', 'Eig03_EA', 'B10Si-X', 'F09P-B', 'B01S-Cl', 'Eig13_EA', 'ATS1p', 'R6s+', 'NddC', 'VE1_B(i)', 'CATS3D_19_PL', 'B07O-Br', 'L3s', 'B07S-S', 'CATS3D_13_PL', 'Mor23u', 'B01F-Br', 'CATS3D_15_PP', 'R1v', 'Chi_H2', 'Eig11_EA(bo)', 'nSO2N', 'F02S-Si', 'CATS3D_14_LL', 'NssssGe', 'CATS2D_05_DP', 'Eig03_EA(ed)', 'Se-064', 'MATS3m', 'B06S-Br', 'Eig05_AEA(ed)', 'SdNH2+', 'RDF120v', 'CATS3D_03_LL', 'SpPosA_Dz(i)', 'B10N-O', 'X1Mad', 'nRCONHR', 'F10Cl-Br', 'RDF155e', 'G(N..O)', 'CATS3D_02_NL', 'SM5_Dz(m)', 'CATS2D_07_AL', 'R5p+', 'SpMAD_Dt', 'B06C-Si', 'SpMax_B(p)', 'RDF010p', 'O-058', 'WiA_B(i)', 'F04N-P', 'CATS3D_01_AP', 'R3m', 'SM11_AEA(dm)', 'P2m', 'VE3_B(p)', 'F08P-F', 'F10O-Br', 'MATS7m', 'F10Cl-I', 'SpMin2_Bh(e)', 'H2v', 'SP10', 'F01S-F', 'RDF095e', 'SpMin3_Bh(v)', 'C-010', 'ATS2e', 'B06S-Cl', 'n=C=', 'E3e', 'CATS3D_02_LL', 'F09Cl-Br', 'ChiA_B(s)', 'JGI4', 'B08S-P', 'C-018', 'ATSC3s', 'WiA_Dz(v)', 'F03F-X', 'nStructures', 'SM15_AEA(dm)', 'J_H2', 'VE3_G/D', 'P1v', 'F01Br-I', 'H0u', 'SP14', 'B10C-I', 'CATS2D_05_AN', 'SP04', 'Eig05_EA(ri)', 'TDB08r', 'B01P-B', 'HATS7u', 'CATS2D_04_AN', 'F01B-Si', 'Mor12s', 'F05N-O', 'B03F-I', 'B01S-B', 'Chi0_AEA(dm)', 'SpMin4_Bh(m)', 'F08S-S', 'Chi0_EA(ed)', 'F03Br-Br', 'QXXs', 'HATS1s', 'F08O-B', 'CATS2D_05_PP', 'F04N-S', 'B05Cl-Br', 'H4v', 'F08P-I', 'CATS3D_16_AN', 'Eig11_AEA(bo)', 'NdSe', 'F10X-X', 'Mor08u', 'SP15', 'F03C-B', 'AVS_Dz(m)', 'B09N-S', 'SdsssAs', 'CATS2D_04_DP', 'AVS_B(e)', 'X1Av', 'nRNNOx', 'CATS3D_12_NN', 'F02C-C', 'F06P-I', 'F05S-Cl', 'nArCNO', 'F07C-P', 'T(O..S)', 'F10O-S', 'NaasC', 'HATS3u', 'B09N-N', 'SpPosLog_L', 'CATS3D_05_DA', 'CATS2D_03_AP', 'J_B(i)', 'SpPos_Dz(e)', 'F05C-O', 'SpPosLog_D', 'SM11_AEA(ri)', 'MPC04', 'B04F-I', 'B03C-I', 'B03F-B', 'SssSiH2', 'Mor02s', 'ChiA_H2', 'CATS2D_09_NL', 'SCBO', 'SpAD_Dz(Z)', 'B01N-F', 'SM5_Dz(v)', 'nCH2RX', 'CATS3D_03_DP', 'NssssSi', 'Mor07e', 'C-007', 'Mor24u', 'CATS3D_13_AL', 'SpMax5_Bh(e)', 'F08N-Br', 'TDB04r', 'SM4_D', 'Ho_Dz(Z)', 'nP', 'T(S..F)', 'nThiranes', 'L3e', 'B09S-X', 'ATSC6s', 'F08B-Si', 'B05Cl-Si', 'CATS3D_10_AP', 'nB', 'Eta_FL', 'H-053', 'NddssS', 'SpPosLog_B(i)', 'B03I-Si', 'B03O-Cl', 'J_G', 'P_VSA_i_2', 'SM10_EA(ri)', 'Mor07i', 'N-068', 'F06Br-Br', 'F10O-X', 'H1s', 'F10F-B', 'CATS3D_15_AP', 'RDF090m', 'SpMAD_EA', 'SpMin7_Bh(i)', 'B03S-F', 'RDF100s', 'nCHRX2', 'F-083', 'NddssSe', 'F04C-I', 'B07C-N', 'SpDiam_Dz(i)', 'NdsCH', 'B04S-Br', 'X2Av', 'TDB05s', 'RDF145p', 'F04B-Si', 'F01F-Cl', 'piPC08', 'RDF030v', 'nTriazoles', 'B02S-B', 'B03S-Si', 'G(S..Cl)', 'B09O-S', 'NsssCH', 'F10Br-Br', 'B10C-S', 'B06O-Si', 'CATS3D_04_NL', 'T(F..F)', 'F09F-X', 'Wi_Dz(m)', 'CATS3D_00_PL', 'F01N-O', 'CATS2D_07_AA', 'B06S-Si', 'CATS3D_10_PN', 'nIsoxazoles', 'Rbrid', 'H2s', 'BIC1', 'P-117', 'X0A', 'H6u', 'H7i', 'B03P-Si', 'B03S-B', 'ATSC1s', 'Mor14m', 'F08P-X', 'CATS3D_01_AL', 'B10P-B', 'G(P..P)', 'SM4_L', 'Wi_Dz(p)', 'F04Br-I', 'PW5', 'CATS3D_02_AL', 'CATS3D_14_DN', 'nRCHO', 'CATS2D_09_AA', 'B05P-P', 'B08N-I', 'SpAD_AEA(dm)', 'SpMax_Dz(Z)', 'F07S-P', 'B06I-X', 'SpMax3_Bh(m)', 'EE_H2', 'VE1_B(s)', 'RDF130m', 'B08O-X', 'F03N-Cl', 'F09N-F', 'SsGeH3', 'Chi_G', 'SpPosA_B(m)', 'GATS7v', 'CATS2D_03_PL', 'R4m+', 'LPRS', 'R6v', 'SpDiam_X', 'RDF090i', 'B10C-F', 'F09Si-X', 'QYYs', 'F04C-N', 'TDB02m', 'B02S-P', 'PHI', 'B08N-Br', 'R8e', 'ATS7m', 'B04O-B', 'Chi_Dz(m)', 'Eig15_AEA(ri)', 'B08Cl-X', 'TDB01v', 'RDF070s', 'Se', 'F04S-Cl', 'SM07_EA(bo)', 'NssBe', 'F05P-B', 'F-101', 'B06Si-X', 'H7p', 'SM02_EA', 'F01P-Cl', 'SIC2', 'ATSC1m', 'B04P-X', 'P2s', 'CATS3D_10_DD', 'J_A', 'DLS_02', 'B09N-I', 'B01Cl-Si', 'MATS8s', 'TRS', 'Mor26e', 'TIC4', 'F03N-F', 'SpMAD_Dz(e)', 'CATS3D_06_DN', 'F03C-Si', 'P_VSA_ppp_A', 'HATS7m', 'SpMAD_EA(bo)', 'SM1_B(i)', 'C-025', 'ATS8s', 'MATS5e', 'SM05_AEA(bo)', 'G(F..Cl)', 'B07S-Si', 'F02Si-X', 'Mor13p', 'MDDD', 'B09N-O', 'B06C-B', 'SM04_EA(dm)', 'ATSC4p', 'SsssP', 'R3p+', 'B05N-O', 'RDF150v', 'SpMAD_AEA(dm)', 'B04C-S', 'SpMin3_Bh(m)', 'F02C-I', 'SM03_EA(bo)', 'B03P-Br', 'SpMax3_Bh(v)', 'F05C-F', 'Mor26u', 'O-061', 'R7m', 'CATS3D_04_LL', 'SpMax8_Bh(i)', 'SM6_Dz(m)', 'CATS3D_01_NN', 'F09S-X', 'F02S-I', 'TDB02r', 'F07I-I', 'CATS3D_06_AP', 'F03S-B', 'SM03_EA(ri)', 'Ae', 'SpPosA_D/Dt', 'F06N-F', 'B02F-Cl', 'F06N-P', 'F09O-Br', 'B08O-O', 'CATS2D_05_DL', 'B06O-I', 'Eig10_EA', 'CATS3D_07_PL', 'SpPosLog_H2', 'Mor11s', 'SpPos_Dz(p)', 'EE_B(e)', 'MWC03', 'ATSC3m', 'CATS2D_01_NL', 'IDM', 'SpAD_EA(bo)', 'SpAD_D', 'CATS3D_10_AN', 'F06P-Br', 'SM11_AEA(ed)', 'B08P-F', 'SM6_L', 'F05N-S', 'F05Br-B', 'SpDiam_Dz(v)', 'SpPos_B(s)', 'F04I-Si', 'R6s', 'GATS3e', 'CATS3D_16_LL', 'Mor13m', 'RTu+', 'F01O-P', 'CATS3D_09_PN', 'B02I-Si', 'Mor06e', 'F06N-Cl', 'SpAD_B(p)', 'F09Cl-Si', 'Mor28s', 'SaaO', 'Wi_B(v)', 'B08S-X', 'DP13', 'CATS2D_08_AP', 'nOHt', 'F05F-Cl', 'ATS5m', 'TDB02e', 'ZM2V', 'F06I-B', 'I-099', 'B07O-O', 'TWC', 'SssssssSe', 'nRCNO', 'RDF060m', 'CATS3D_09_AA', 'B04S-S', 'IDET', 'CATS3D_12_DN', 'SRW08', 'CATS3D_05_PL', 'Dm', 'SpMin5_Bh(e)', 'SPH', 'F07S-B', 'R7e+', 'nOxiranes', 'B06P-B', 'SM14_EA(ri)', 'SpPosLog_Dz(v)', 'B03P-X', 'SpDiam_B(i)', 'WiA_D/Dt', 'H4p', 'B04Br-I', 'TDB09m', 'F02P-P', 'B04N-Si', 'HVcpx', 'TDB03v', 'B09S-I', 'Eta_L_A', 'CATS2D_01_AL', 'F08F-I', 'F10O-I', 'RDF045p', 'B05Si-X', 'Mor06s', 'ChiA_Dz(i)', 'F06C-Br', 'RDF060e', 'F04P-Br', 'F10O-Si', 'Mor23s', 'B01P-F', 'Mor20v', 'RDF070e', 'B07F-I', 'B06Cl-Si', 'Chi_X', 'SP05', 'B10F-B', 'B08O-Br', 'RDF010m', 'VR2_L', 'CATS3D_12_PP', 'F02S-B', 'WiA_RG', 'SpMin2_Bh(i)', 'Mor25m', 'B09O-P', 'ATSC8m', 'C-009', 'R7p', 'DP02', 'B06Cl-B', 'SpPosA_RG', 'B01P-I', 'PW3', 'CATS3D_10_DL', 'ATSC8e', 'SM4_X', 'P-119', 'VE1_B(p)', 'B02P-Br', 'Mor30e', 'F06O-Cl', 'B07N-Br', 'SM12_AEA(ed)', 'RDF080m', 'SpPosA_A', 'RTs', 'F09P-Cl', 'F10N-Br', 'B01C-X', 'B04C-O', 'HIC', 'F10P-I', 'CATS3D_16_PL', 'SpAbs_Dz(Z)', 'NssSe', 'RDF140p', 'R7m+', 'P_VSA_MR_4', 'SM04_AEA(ri)', 'X1Kup', 'MW', 'B02P-I', 'X1sol', 'SpMAD_B(i)', 'B07Br-B', 'P_VSA_LogP_6', 'CATS3D_18_AA', 'B08F-B', 'SM4_B(s)', 'SM13_AEA(dm)', 'RDF090p', 'F03P-I', 'F05Si-X', 'CATS3D_17_AP', 'B07O-Cl', 'SM1_B(v)', 'CATS2D_05_AA', 'VR3_B(m)', 'F06N-S', 'CATS3D_09_AL', 'TDB03i', 'nI', 'CATS3D_19_AL', 'F09C-F', 'F05Cl-B', 'F10N-F', 'F06O-O', 'CATS3D_02_AP', 'CATS3D_00_AN', 'Eig05_EA(ed)', 'B07Cl-B', 'C-034', 'F06C-N', 'F03I-X', 'B02I-X', 'B05B-X', 'F07P-Cl', 'Wi_RG', 'ATSC5p', 'SpAD_B(m)', 'REIG', 'SpMax7_Bh(m)', 'MWC07', 'CATS2D_02_DN', 'B01S-F', 'SpMin6_Bh(m)', 'CATS3D_09_NN', 'F09P-X', 'SpMAD_Dz(Z)', 'F09O-P', 'SpMax6_Bh(s)', 'B01C-O', 'B03O-X', 'F02N-I', 'VR2_B(i)', 'NssPH', 'SpMin7_Bh(s)', 'RTi+', 'F03C-Br', 'nCXr', 'CATS3D_15_PL', 'Wi_Dz(e)', 'Eig04_EA(ed)', 'F02C-O', 'E3s', 'F06O-X', 'X2sol', 'ITH', 'CATS2D_04_NN', 'ATSC7m', 'T(S..I)', 'Eig08_EA(dm)', 'SM14_AEA(ri)', 'ATSC7v', 'Eig01_AEA(ri)', 'Mor18p', 'RDF115v', 'Mor32i', 'B02O-Br', 'F10C-Si', 'Mor30p', 'H5s', 'B03C-Br', 'PCR', 'Chi_Dt', 'B03P-F', 'B07S-F', 'B02N-X', 'B10F-I', 'CATS2D_04_NL', 'VR3_B(i)', 'SpDiam_Dz(p)', 'B07Br-X', 'F02S-P', 'nSH', 'F04F-F', 'B09S-Cl', 'HATS0s', 'Mor20i', 'F09C-O', 'L2i', 'H8v', 'F05C-N', 'F05C-Br', 'SpMin8_Bh(e)', 'F02S-Br', 'B02S-Br', 'TDB06r', 'F02I-X', 'ATS5s', 'C-021', 'Ho_D', 'F05S-I', 'SpMax_A', 'F07C-N', 'F08Si-Si', 'F05P-P', 'ATS4v', 'CATS3D_12_AP', 'B04O-P', 'B03Br-Br', 'Pol', 'RDF060p', 'F03O-I', 'B06P-Si', 'B01P-Br', 'B07F-Br', 'Chi1_EA(ed)', 'SpMaxA_Dt', 'SpMax_Dz(e)', 'CATS2D_05_PN', 'SpMax_Dz(i)', 'ATSC7i', 'B04Br-Br', 'CATS3D_06_AA', 'CATS3D_13_LL', 'B07F-Si', 'SP17', 'nBO', 'RDF050i', 'J_RG', 'CATS3D_16_AL', 'R4i', 'B08C-N', 'B09C-C', 'B02P-P', 'B10N-Si', 'HATS5m', 'F07F-Br', 'R5i+', 'R6i', 'NsssSnH', 'F05S-S', 'CATS3D_09_LL', 'R3u+', 'P_VSA_v_3', 'B03O-Si', 'BIC5', 'SpDiam_D', 'F04I-B', 'F09O-Cl', 'RTp+', 'QZZe', 'SM4_H2', 'ON0V', 'Eta_C', 'SRW05', 'ATS3e', 'SM2_B(e)', 'B04I-X', 'C-042', 'F02N-S', 'HyWi_G', 'B04S-I', 'SssS', 'CATS3D_18_DL', 'nRCOOH', 'B06F-I', 'H8p', 'B04P-F', 'SpMaxA_Dz(i)', 'R1e', 'CATS2D_01_DD', 'F02P-F', 'B04O-S', 'ATS4m', 'B05O-Br', 'Km', 'nC=S', 'Eig13_EA(ed)', 'Mor26p', 'TDB01e', 'MEcc', 'GGI6', 'B08Br-Br', 'RDF055u', 'B05Br-Br', 'CATS2D_03_PN', 'GATS8v', 'C-015', 'F02P-Si', 'SM1_Dz(v)', 'F04F-Cl', 'Eig14_EA(ed)', 'CATS3D_12_AN', 'B09O-B', 'SpAD_EA(dm)', 'SpMAD_B(m)', 'SM6_RG', 'nHM', 'ChiA_G', 'TDB03s', 'C-028', 'SsBr', 'F06Cl-X', 'F05Cl-I', 'C-017', 'B08F-X', 'B09C-N', 'NssssssS', 'SP18', 'nR10', 'ATS3v', 'B06C-N', 'R1s+', 'nCb-', 'Mor14v', 'B05P-Si', 'ChiA_B(m)', 'F04Br-X', 'Mor17s', 'N-070', 'RDF075v', 'SddsAs', 'nN+', 'SpMaxA_B(e)', 'nSO3OH', 'B06S-I', 'D/Dtr11', 'B06S-P', 'SpMax5_Bh(v)', 'X4v', 'P_VSA_ppp_P', 'VE1sign_L', 'TDB07e', 'Eig08_AEA(bo)', 'SpDiam_B(v)', 'CATS3D_19_PN', 'B01P-P', 'Eig08_EA', 'ATS7i', 'F01C-B', 'P1u', 'ATS8i', 'nRCSOH', 'F01B-X', 'SM5_X', 'F09C-P', 'RDF070m', 'F03S-F', 'SM13_AEA(ed)', 'HATS3s', 'G(S..S)', 'F08O-X', 'Mor32v', 'B08F-F', 'CATS3D_17_AA', 'G3i', 'RDF055i', 'R2m+', 'Ui', 'P_VSA_MR_2', 'B04C-Si', 'CATS3D_01_DL', 'EE_L', 'F01C-P', 'nH2O', 'Mor04i', 'HyWi_Dz(e)', 'CATS3D_03_DN', 'AVS_D/Dt', 'F01Cl-I', 'B03B-Si', 'F07O-Cl', 'S-110', 'MATS7p', 'Eig05_AEA(dm)', 'RDF110s', 'MATS2m', 'ASP', 'AVS_B(s)', 'NdS', 'CATS2D_09_DN', 'RDF055v', 'B10Br-Br', 'CATS2D_09_AP', 'RDF130v', 'E2p', 'SpAbs_Dz(m)', 'Mor16p', 'HATS6i', 'SpDiam_AEA(bo)', 'B09N-P', 'B10P-Br', 'nArCN', 'B09F-B', 'B09Br-I', 'CATS2D_08_DL', 'Mor14s', 'MWC01', 'E2e', 'G(Cl..Cl)', 'B06C-I', 'TDB08m', 'CATS3D_00_NN', 'F04C-P', 'B10N-X', 'SpMAD_AEA(ed)', 'nNq', 'GNar', 'F01P-I', 'Mor31m', 'F09I-Si', 'SsssCH', 'G1e', 'HyWi_X', 'RDF070v', 'CATS3D_02_AA', 'SpPosLog_B(v)', 'MATS2e', 'F10N-X', 'F-081', 'SM02_AEA(bo)', 'B10Cl-I', 'F01Br-Si', 'Eig12_AEA(dm)', 'F07F-I', 'DP01', 'nP(=O)O2R', 'nBM', 'GATS1s', 'X0Av', 'Eig04_AEA(bo)', 'F08C-C', 'LLS_02', 'RDF095m', 'SM6_Dz(i)', 'B05S-S', 'MWC10', 'B07C-B', 'F03N-B', 'Mor01u', 'SM6_B(e)', 'SpPosLog_B(s)', 'T(N..O)', 'NssSnH2', 'SpMaxA_B(v)', 'MATS2i', 'CATS2D_00_NL', 'SpAD_A', 'F09P-Br', 'Ho_B(i)', 'B06O-P', 'B10Cl-X', 'TPC', 'F04N-O', 'B08F-Cl', 'B03Br-I', 'SM4_Dz(i)', 'nPyridines', 'P_VSA_v_1', 'T(O..Br)', 'RDF025e', 'H2i', 'SpPosA_B(v)', 'G(P..Br)', 'F06N-Si', 'Mor02u', 'Cl-087', 'F02S-X', 'SM6_G', 'F10B-X', 'NsssB', 'F07O-B', 'BIC2', 'SM3_G', 'SM09_EA(ed)', 'B09N-Br', 'ATS7s', 'MATS4v', 'RDF150m', 'CATS3D_14_AP', 'nArCSSH', 'Wi_B(p)', 'R5e', 'B01N-Cl', 'Mor02i', 'Mor10v', 'H4u', 'B04P-Si', 'CATS3D_11_LL', 'B02F-Br', 'SsOH', 'B01O-S', 'F07C-B', 'SpDiam_D/Dt', 'B07O-P', 'QZZp', 'F06N-N', 'R7s', 'B05F-X', 'HyWi_B(v)', 'nC', 'Mor10m', 'B04Br-X', 'SssssSi', 'SpPosLog_RG', 'B02O-Cl', 'ZM1Kup', 'B02P-F', 'F09C-X', 'R4u+', 'AVS_B(v)', 'NssssB-', 'F07O-P', 'ATSC6p', 'CATS3D_09_DN', 'piPC01', 'CATS3D_10_AA', 'SP07', 'F10Si-Si', 'RDF080p', 'P2i', 'Eta_alpha', 'HTs', 'F09C-S', 'F09B-B', 'SpAD_D/Dt', 'F10C-B', 'nPyrroles', 'F03F-Si', 'H5p', 'HATS6u', 'B06Br-Br', 'B04N-P', 'Eig15_EA(bo)', 'B10N-I', 'S-108', 'R3e+', 'B09S-Br', 'B08C-Si', 'SpMaxA_EA(ed)', 'B07Br-I', 'Tu', 'SpPosLog_Dz(m)', 'F08Cl-Si', 'B10O-O', 'L1e', 'NssAsH', 'B07N-N', 'F07Cl-X', 'CATS2D_01_PN', 'AVS_G', 'HATS3m', 'Chi1_EA(dm)', 'SpPosLog_G', 'SM4_B(v)', 'CATS3D_03_PP', 'nR#CH/X', 'Mor28m', 'G(N..Cl)', 'Kv', 'F03I-Si', 'B01N-Br', 'VE2_B(v)', 'CATS3D_02_AN', 'F09S-Br', 'SRW04', 'B02C-P', 'F07N-Si', 'F07C-X', 'SM6_B(v)', 'F07X-X', 'CATS3D_02_PN', 'Yindex', 'B06P-Br', 'F05O-B', 'B05O-F', 'SM06_AEA(dm)', 'B01S-X', 'H_X', 'F10N-I', 'C-027', 'Mor15m', 'SpMAD_Dz(i)', 'SpDiam_Dz(m)', 'HATS3e', 'F05C-Cl', 'CATS3D_18_LL', 'SM09_AEA(ri)', 'TDB01s', 'B09F-I', 'B02P-Cl', 'RDF040m', 'F06B-B', 'F04S-Si', 'C-038', 'SM02_EA(ri)', 'B07Cl-Si', 'F07S-Br', 'B09B-B', 'B06C-C', 'VE3_B(s)', 'B09S-S', 'G2s', 'SpMin6_Bh(p)', 'B04N-B', 'SM3_G/D', 'RDF070p', 'H6e', 'TI2_L', 'CATS3D_08_DP', 'VR1_B(s)', 'TDB10u', 'VE1sign_B(i)', 'F07F-Cl', 'Psi_i_0d', 'Mor04m', 'CATS3D_08_AN', 'HATS2i', 'B01O-Si', 'F04C-S', 'L3p', 'P-118', 'cRo5', 'F05Br-I', 'F02Cl-X', 'Mor32m', 'nBnz', 'CATS3D_00_DN', 'B01I-Si', 'F06S-Si', 'RBN', 'F10C-S', 'NsssP', 'CATS3D_13_DN', 'R7e', 'Mor29m', 'nImidazoles', 'B09I-X', 'B06N-Br', 'RDF140m', 'NssCH2', 'F08S-Cl', 'CATS2D_07_NN', 'F03Br-X', 'Mor11p', 'CATS3D_04_DL', 'R8p', 'F08N-Si', 'HGM', 'B09S-Si', 'CATS3D_02_NN', 'F03F-I', 'NdssC', 'B10O-Br', 'MATS5v', 'B07I-B', 'B03X-X', 'ATS2p', 'SpMAD_B(p)', 'R5u', 'Se-065', 'Mor17i', 'S-107', 'IC1', 'Xt', 'D/Dtr10', 'CATS2D_01_AA', 'F07S-X', 'B04P-I', 'B06N-X', 'P_VSA_LogP_1', 'SP03', 'Mor22e', 'R2i', 'CATS3D_14_DD', 'HTu', 'CIC1', 'nCrq', 'B04P-Br', 'F08N-O', 'F07O-O', 'HATS3i', 'F07O-Br', 'VE2sign_B(i)', 'SpPosLog_B(m)', 'Mor22i', 'Eta_epsi_A', 'NssssN+', 'SssSnH2', 'CATS3D_00_NL', 'B03N-O', 'SpPos_B(e)', 'nRNO', 'Mor28u', 'F05S-Si', 'B05C-N', 'SpMax_B(v)', 'B05I-B', 'F05N-X', 'VE3sign_L', 'CATS3D_18_DP', 'RDCHI', 'B02O-I', 'T(Cl..Cl)', 'R7p+', 'SpAD_Dz(m)', 'F10P-Br', 'B04I-Si', 'Mor24v', 'GATS5s', 'B10O-F', 'SM2_Dz(v)', 'F08S-I', 'NdO', 'ZM2MulPer', 'RDF050p', 'B05N-N', 'B10S-B', 'RDF015u', 'NsPbH3', 'F05N-N', 'Du', 'SsSiH3', 'B06N-N', 'HTm', 'B07O-B', 'F06I-Si', 'J_B(p)', 'RDF070i', 'S1K', 'SM3_RG', 'Si', 'SM1_Dz(Z)', 'MWC09', 'ATSC5e', 'B07F-F', 'RDF105v', 'F10P-X', 'Ku', 'B04P-B', 'B06Br-Si', 'C-026', 'F04O-B', 'CATS3D_19_DA', 'P_VSA_i_1', 'Mor20p', 'F10F-Si', 'Mor08m', 'NssssssSe', 'B01P-Cl', 'SM02_EA(bo)', 'B09P-X', 'RDF020e', 'CATS2D_00_PL', 'SM5_B(p)', 'H4e', 'VvdwZAZ', 'Eig04_AEA(dm)', 'C-008', 'Vm', 'CATS2D_07_AN', 'SpMaxA_Dz(m)', 'F05O-F', 'CATS2D_06_DL', 'ATS7e', 'Wi_Dz(Z)', 'VR3_B(v)', 'nRCOX', 'Vp', 'R1m+', 'CATS3D_17_AN', 'SM15_EA(ri)', 'F10C-I', 'nSO3', 'R6e', 'B07C-I', 'B03B-B', 'CATS2D_06_NN', 'F05B-Si', 'SM6_Dz(e)', 'Mor18v', 'CATS3D_13_PP', 'B07P-P', 'B10F-X', 'IDE', 'F10S-Cl', 'SpMax2_Bh(v)', 'SM09_AEA(dm)', 'F06Br-B', 'SM11_AEA(bo)', 'B02C-I', 'F04C-C', 'P_VSA_s_5', 'H-049', 'RDF095i', 'B01F-Si', 'Psi_i_1s', 'F08S-Br', 'G3s', 'Eig02_AEA(ed)', 'DLS_07', 'PCD', 'O-063', 'B03P-B', 'SpMax_Dt', 'HATS0p', 'B07C-C', 'VR2_B(e)', 'HATS8p', 'B05O-Cl', 'G(O..Cl)', 'SM10_EA', 'SM07_EA(dm)', 'SpMAD_G', 'G(F..Br)', 'B09C-Si', 'H3s', 'B09Cl-X', 'F05C-B', 'GGI1', 'F02N-P', 'Mor09u', 'R2p+', 'TDB01r', 'JGI6', 'F03O-X', 'B10O-I', 'Eig09_AEA(ri)', 'B02C-B', 'SM07_AEA(ed)', 'nRSCN', 'HyWi_H2', 'EE_RG', 'B03O-F', 'F03F-Cl', 'nCsp3', 'CATS3D_07_DA', 'B08Br-B', 'B06I-B', 'HATSp', 'CATS2D_02_LL', 'CATS3D_08_LL', 'NsLi', 'CATS2D_05_LL', 'NsBH2', 'TDB10s', 'SpMin8_Bh(i)', 'F05P-F', 'HyWi_B(m)', 'N-077', 'P_VSA_ppp_ar', 'Psi_i_A', 'B08Cl-Si', 'GATS7e', 'B05P-F', 'F10O-B', 'Mor06i', 'ATS4i', 'MCD', 'CATS3D_04_DA', 'Eta_sh_x', 'L2u', 'B05O-B', 'RDF035s', 'SpAD_B(i)', 'F05P-Br', 'Chi1_AEA(ed)', 'RDF025v', 'RDF120p', 'SM5_B(e)', 'B03S-S', 'HOMT', 'SddsP', 'B05N-Br', 'N-066', 'Cl-086', 'F10N-B', 'B03N-X', 'B03C-O', 'ATS5e', 'SP20', 'T(S..Br)', 'CATS2D_00_DN', 'CATS2D_03_DN', 'Mor01v', 'SM3_H2', 'CATS2D_08_AN', 'Chi0_AEA(bo)', 'RDF135u', 'nR=CRX', 'B03Cl-B', 'VE2_L', 'SM6_Dz(v)', 'C-024', 'CATS3D_09_DL', 'TDB06s', 'DP15', 'B10Br-Si', 'F01P-Br', 'F08Br-B', 'SM08_AEA(ri)', 'Eig10_AEA(bo)', 'SpMAD_EA(dm)', 'B02B-B', 'B01F-B', 'SM06_EA', 'F05P-Cl', 'B04C-F', 'Eig13_EA(dm)', 'SsssGeH', 'NtsC', 'MATS1v', 'TDB06i', 'F10I-X', 'B02Br-Si', 'B05S-Si', 'HATS6e', 'R2v', 'Eig03_AEA(ri)', 'F03N-Br', 'F05C-C', 'R6p+', 'SdssSe', 'CATS2D_07_PL', 'TDB01p', 'SpMax8_Bh(v)', 'XMOD', 'B08N-O', 'CATS3D_17_DA', 'VE2sign_B(v)', 'R8i+', 'B01Cl-B', 'B09F-Cl', 'SsCl', 'F02F-Si', 'F01N-X', 'AVS_B(p)', 'Br-092', 'SpAbs_Dz(p)', 'TDB04p', 'Kp', 'B04S-P', 'F08C-B', 'F04N-N', 'C-043', 'HATS0m', 'B07C-F', 'T(F..I)', 'B01Br-B', 'SM14_EA(ed)', 'CATS2D_07_DN', 'Mor27s', 'CATS2D_02_NN', 'SpAD_B(v)', 'NsSeH', 'Ho_Dt', 'NsCl', 'SpMax2_Bh(p)', 'nR=CX2', 'CATS3D_08_PP', 'F04P-Cl', 'P_VSA_p_3', 'RDF035i', 'CATS3D_02_DN', 'GATS8e', 'E3p', 'nX', 'NdsN', 'Mor18i', 'TDB10v', 'nRCSSR', 'JGI10', 'Wi_Dz(i)', 'SpPosLog_Dz(i)', 'F07N-I', 'B04C-C', 'B10F-Br', 'F07B-B', 'SM3_Dz(v)', 'F03B-B', 'G(N..I)', 'Av', 'H4s', 'SM04_AEA(bo)', 'B03Br-X', 'Chi_B(v)', 'RDF110m', 'F09N-Br', 'RDF140v', 'SssAsH', 'F04S-Br', 'L2s', 'SpDiam_RG', 'B10C-B', 'CATS2D_05_AL', 'B09P-P', 'SM2_B(p)', 'P_VSA_LogP_3', 'T(P..Br)', 'Eta_betaS_A', 'Mor27i', 'DISPi', 'HTi', 'Mor21s', 'VR2_B(p)', 'MATS2v', 'B03C-N', 'E1v', 'B05P-X', 'F08Cl-I', 'Dp', 'NdCH2', 'CATS3D_16_AA', 'B09Cl-B', 'B08S-B', 'F07F-B', 'B05C-I', 'DECC', 'F05P-X', 'B06F-X', 'Mor11m', 'nSO2', 'nCIR', 'R8i', 'SpMin8_Bh(v)', 'G3e', 'B10B-B', 'E2m', 'F09N-S', 'B10N-P', 'RDF080s', 'RTv', 'CATS3D_19_AN', 'B08C-Br', 'NaaSe', 'IC0', 'CATS3D_19_DP', 'nArX', 'Mor28p', 'Mor07v', 'SM12_EA(ed)', 'F05C-X', 'CATS3D_19_DD', 'SM04_EA', 'SAdon', 'IC2', 'NdsssAs', 'G2u', 'H_Dt', 'Chi1_EA(bo)', 'B04C-I', 'StCH', 'Mor11v', 'F09F-B', 'Chi_Dz(e)', 'F04O-F', 'B10N-S', 'SM04_EA(ed)', 'CATS2D_00_AL', 'B01S-Br', 'F03N-I', 'HTp', 'R8s+', 'B10Br-B', 'B07O-F', 'Mor05s', 'F02O-Cl', 'EE_B(p)', 'F05B-X', 'CATS3D_04_PL', 'F05S-Br', 'B10S-Br', 'SM12_AEA(dm)', 'SaaNH', 'GGI10', 'B02P-B', 'nH', 'CATS2D_07_NL', 'Ti', 'B09X-X', 'CATS3D_10_NN', 'Wi_B(m)', 'Eig13_AEA(ed)', 'ChiA_D', 'B08S-Cl', 'B08O-B', 'ATSC2v', 'B08I-B', 'CATS2D_09_NN', 'B09C-X', 'CATS3D_09_DP', 'SM3_Dz(Z)', 'B05C-B', 'SM14_AEA(bo)', 'SM5_Dz(Z)', 'SM09_EA(ri)', 'CATS3D_07_NN', 'CATS3D_18_PP', 'X5A', 'F02X-X', 'SssssN+', 'TDB09p', 'F02I-I', 'B08N-S', 'X4sol', 'B05F-I', 'EE_D/Dt', 'DP07', 'F05B-B', 'SAacc', 'SpDiam_B(e)', 'SpMaxA_EA(ri)', 'F07C-C', 'B02Br-I', 'J_B(v)', 'G(S..Br)', 'RDF155m', 'SpMin1_Bh(s)', 'Psi_i_s', 'B06N-Si', 'Mor19v', 'F09F-I', 'B09B-Si', 'Eig13_AEA(dm)', 'CATS2D_04_LL', 'VE2_B(e)', 'R8p+', 'HATS5i', 'X0v', 'SpDiam_H2', 'SpMaxA_X', 'CATS3D_17_DP', 'R3i+', 'H7v', 'F01Cl-Br', 'nArCO', 'SM13_EA', 'CATS2D_06_AN', 'CATS2D_01_AP', 'CATS3D_08_DD', 'CATS2D_00_PN', 'TDB03e', 'HATS1m', 'Eig07_AEA(ed)', 'Mor01s', 'SpMin5_Bh(v)', 'AVS_RG', 'C-040', 'SM06_EA(ri)', 'TDB10m', 'F09O-F', 'T(N..Br)', 'NssS', 'CATS3D_17_NN', 'B04O-Br', 'SpMax_H2', 'SpMAD_A', 'B03C-Cl', 'SpAbs_G/D', 'nCconjX', 'E3i', 'CATS3D_11_PP', 'F08O-P', 'SpPos_A', 'F04Si-X', 'R3e', 'CATS2D_02_AA', 'B08N-Si', 'RDF015s', 'B06Cl-I', 'F08Cl-Cl', 'ATS6i', 'B07P-B', 'CATS2D_06_DN', 'STN_L', 'B03Si-Si', 'B08O-F', 'CATS3D_19_NN', 'HATS2s', 'B05N-Cl', 'B06C-F', 'F08F-Br', 'SM4_B(e)', 'E3u', 'F10O-F', 'HATS7e', 'Cl-089', 'CATS2D_06_PN', 'nOHs', 'SpPos_Dt', 'B07Cl-Br', 'QYYe', 'ChiA_Dz(e)', 'SM2_Dz(e)', 'IC5', 'CATS3D_03_DL', 'F01N-B', 'RDF085e', 'Eig14_EA(bo)', 'B10I-I', 'Eta_epsi', 'Chi_B(p)', 'CATS3D_19_AP', 'B07N-X', 'Chi_G/D', 'SpMin4_Bh(s)', 'nArSCN', 'B08P-Br', 'CATS3D_17_DD', 'ATSC4i', 'F03F-B', 'SM04_EA(ri)', 'HATS4v', 'SpPos_B(p)', 'Mor21i', 'F03P-P', 'F02C-S', 'TDB06v', 'SssssPb', 'CATS2D_02_AN', 'SpMax7_Bh(v)', 'R2u+', 'CATS3D_12_NL', 'SpMAD_D/Dt', 'Mor19p', 'F06S-I', 'RDF125m', 'C-020', 'B02F-Si', 'T(O..F)', 'F04F-Br', 'H6v', 'H1u', 'R6v+', 'L1i', 'F05F-X', 'RDF055p', 'B06X-X', 'B06F-B', 'G(Br..Br)', 'RDF145v', 'Mor29u', 'Chi_B(i)', 'nR#C-', 'VR3_B(s)', 'Ram', 'SaaaC', 'SdsCH', 'Eig04_EA(dm)', 'F10N-N', 'F05S-F', 'RDF065u', 'nC(=N)N2', 'F10S-P', 'NsCH3', 'F01N-S', 'F02O-X', 'R4p+', 'F01O-I', 'X1v', 'nP(=O)R3/nPR5', 'B03O-P', 'D/Dtr07', 'SM5_G', 'RDF015m', 'X0', 'B08S-Br', 'SM10_EA(dm)', 'R7u+', 'B06N-S', 'B03B-X', 'B03C-P', 'NsssssAs', 'nR07', 'F04P-P', 'B01N-S', 'C-029', 'F02O-S', 'HATS5v', 'Wi_D/Dt', 'CATS3D_18_DN', 'J_B(m)', 'T(O..Cl)', 'HATS7i', 'B01B-X', 'B07O-I', 'MWC06', 'nN=C-N', 'Mor32p', 'Mor10e', 'B06S-B', 'H%', 'B03S-I', 'Mor05p', 'RARS', 'F05F-I', 'Wi_B(i)', 'B10O-X', 'F08B-B', 'F06F-I', 'SddssSe', 'SpMax4_Bh(m)', 'F03C-X', 'nAziridines', 'Ho_H2', 'RDF050u', 'F06I-X', 'PJI3', 'SpAD_EA(ri)', 'B08P-I', 'B08B-B', 'Eig10_AEA(ri)', 'F03O-F', 'Chi1_AEA(dm)', 'P_VSA_ppp_hal', 'N-074', 'SpMaxA_B(s)', 'VE2sign_RG', 'VE1_B(e)', 'ChiA_B(v)', 'SpMax_G/D', 'SM06_AEA(ri)', 'F08O-S', 'Mor14p', 'SaadN', 'IDDE', 'JGI9', 'B01C-F', 'P_VSA_MR_8', 'Mor09m', 'F09P-P', 'Mor32s', 'SssSe', 'SddsN', 'CATS3D_11_DL', 'F06P-P', 'P_VSA_ppp_L', 'CATS2D_06_LL', 'VR1_L', 'Mor02p', 'CATS3D_13_AP', 'F01S-B', 'B03N-S', 'R4e', 'CATS2D_00_DA', 'P_VSA_m_1', 'ChiA_B(p)', 'F01N-P', 'T(N..P)', 'B04O-O', 'SM03_EA(dm)', 'Mor23p', 'F10P-Si', 'SpMin2_Bh(v)', 'F02C-Br', 'NaaN', 'CATS3D_09_NL', 'B04Si-X', 'nArCOOR', 'nRC=N', 'N-076', 'ATS8v', 'R2v+', 'E3v', 'F07N-B', 'RDF140e', 'C-001', 'RDF145u', 'SssBe', 'RDF150i', 'CATS2D_08_DP', 'F08O-I', 'F07S-I', 'Eig15_EA(ed)', 'Eig07_AEA(bo)', 'B01Br-I', 'E2v', 'F09Br-B', 'ZM1Mad', 'B03N-B', 'RDF040u', 'F01F-Si', 'Vindex', 'RDF035m', 'CATS2D_03_PP', 'TDB05p', 'B01S-P', 'N-071', 'RDF025s', 'B09S-F', 'piPC05', 'B07N-Si', 'MATS1s', 'Psi_e_A', 'SM07_EA', 'D/Dtr08', 'Mor30s', 'F06F-F', 'ON1', 'F01S-Cl', 'Mor13s', 'MATS5s', 'C-030', 'F01N-Si', 'F05C-Si', 'CSI', 'CATS2D_04_PN', 'F06Cl-B', 'F03P-Si', 'S-109', 'B01Br-X', 'CATS3D_06_LL', 'F01Cl-X', 'nSOOH', 'RDF155s', 'CATS3D_10_NL', 'CATS2D_04_DN', 'F07N-P', 'B03P-P', 'B06Cl-Cl', 'EE_B(v)', 'H5u', 'B08O-Si', 'B02C-Br', 'ATSC1e', 'SM4_G/D', 'F01C-I', 'Eig09_AEA(bo)', 'B05Br-Si', 'H8e', 'Mor22m', 'Eta_betaS', 'CATS2D_05_PL', 'nRNR2', 'MATS1i', 'Eta_betaP_A', 'CATS3D_04_PP', 'F07C-Br', 'B01N-P', 'Eig15_AEA(dm)', 'RDF105e', 'X5sol', 'B08O-S', 'RDF125v', 'F08I-I', 'SssPH', 'Eig04_EA(ri)', 'B08O-I', 'F03Cl-Cl', 'Vs', 'SpPos_H2', 'NsOH', 'PW4', 'F04F-X', 'F08S-F', 'F03O-Si', 'CATS3D_18_DD', 'R7s+', 'nF', 'F02C-X', 'F06F-X', 'CATS3D_04_AA', 'F06C-I', 'X1', 'J_Dz(e)', 'RDF075i', 'B05Cl-X', 'F04N-F', 'B06O-F', 'JGI3', 'H4i', 'R2s+', 'SdNH', 'T(N..I)', 'F08O-Si', 'GATS1p', 'F07C-I', 'SP01', 'Mor03v', 'F03P-F', 'B07O-S', 'H_G/D', 'RDF080v', 'B10I-X', 'ECC', 'Eig02_EA', 'H-054', 'F08C-Si', 'QXXm', 'F10F-Br', 'SpAbs_Dz(e)', 'RDF115i', 'MATS8v', 'ChiA_Dt', 'F05S-B', 'S-106', 'F02F-Br', 'B03O-I', 'F01O-F', 'Eig05_AEA(bo)', 'SpMax_D', 'nSOH', 'B10Br-I', 'DLS_06', 'AVS_Dz(v)', 'F10Br-Si', 'ON1V', 'F01F-B', 'CATS3D_16_NL', 'SM6_B(m)', 'nDB', 'CATS2D_05_AP', 'F07C-O', 'SpMax_X', 'Mor01p', 'F10Cl-Si', 'RDF130s', 'H_Dz(Z)', 'F07C-S', 'B06Br-I', 'WiA_H2', 'F02O-I', 'R5e+', 'SM12_EA(dm)', 'SpMin2_Bh(m)', 'F01Si-Si', 'nCRX3', 'SpMin5_Bh(p)', 'HNar', 'F02N-Cl', 'SpMax6_Bh(e)', 'CATS2D_01_DP', 'Mor17m', 'F01Cl-Cl', 'SpMAD_AEA(ri)', 'RGyr', 'F02Br-B', 'RDF120e', 'SpMin1_Bh(p)', 'F07B-X', 'SsssAs', 'VAR', 'TDB05i', 'SpPosA_H2', 'SM06_EA(dm)', 'HATS7s', 'Wi_D', 'F04O-I', 'P2e', 'HATS0v', 'VE2_B(i)', 'CATS2D_01_PL', 'F05O-P', 'SM3_Dz(m)', 'GATS3i', 'SpMax2_Bh(s)', 'GATS4m', 'F05N-Si', 'SpAD_Dz(i)', 'C-003', 'B07C-P', 'SpAD_X', 'F04X-X', 'B09Cl-Br', 'F04C-Cl', 'Mor03s', 'J_B(s)', 'CATS3D_08_DA', 'F04P-X', 'G2p', 'CATS3D_05_AA', 'F02N-B', 'RDF120s', 'F01Br-B', 'SM3_B(p)', 'T(Cl..Br)', 'TDB07i', 'F07N-Br', 'RDF050v', 'B09Br-Br', 'SpAD_EA(ed)', 'SIC0', 'F06S-B', 'SPAN', 'B05C-Si', 'F07Br-B', 'nHDon', 'Ai', 'SM2_G/D', 'nRNHO', 'F04Cl-Cl', 'CATS3D_05_LL', 'B05S-I', 'SssssSn', 'SsPbH3', 'B04N-O', 'B07N-P', 'Tv', 'SpMin6_Bh(v)', 'CATS3D_05_DL', 'F04N-B', 'T(Cl..I)', 'CATS2D_01_DN', 'F07Cl-Br', 'GATS3v', 'F05O-X', 'R2e+', 'SpMAD_Dz(p)', 'B03I-I', 'MATS8p', 'R3p', 'WiA_Dz(i)', 'SM1_B(m)', 'HATS2p', 'TDB03u', 'B10X-X', 'SpMax8_Bh(e)', 'piPC07', 'F03Br-Si', 'SM03_EA(ed)', 'B-112', 'HATSe', 'F-082', 'B10P-Cl', 'SPAM', 'SM6_B(i)', 'SM14_EA(bo)', 'Br-094', 'R1u+', 'IDMT', 'CATS2D_06_AP', 'R1e+', 'Mor02v', 'F08Si-X', 'CATS2D_03_AN', 'CATS3D_11_AN', 'B06P-X', 'B08Cl-Cl', 'F07F-Si', 'SM4_RG', 'AVS_D', 'H1v', 'B05Br-B', 'QZZs', 'DP10', 'RDF155i', 'Eig04_AEA(ri)', 'Eig15_AEA(ed)', 'B01O-O', 'WiA_Dz(e)', 'SM1_Dz(e)', 'J_X', 'SpMax_Dz(v)', 'SM15_EA', 'F06P-F', 'DP20', 'HATSv', 'B10B-X', 'GGI9', 'B03N-P', 'CATS3D_15_AL', 'SM5_RG', 'Eta_sh_y', 'F04I-X', 'C-033', 'Wap', 'TIE', 'TDB01u', 'F06X-X', 'F05O-Br', 'CATS3D_13_DP', 'ATS4s', 'F05C-P', 'Mor21e', 'F08C-Cl', 'Eig02_EA(ri)', 'F05X-X', 'SpAD_B(s)', 'SpMax4_Bh(v)', 'NsF', 'F03Br-I', 'CATS3D_07_PN', 'SM05_AEA(ed)', 'Eig13_AEA(ri)', 'F09O-I', 'RDF020p', 'F01N-I', 'piPC09', 'B07C-O', 'CATS3D_07_AN', 'B04O-Cl', 'ZM2Per', 'F01C-Br', 'SpAbs_B(i)', 'TDB06u', 'B09O-I', 'F06C-Si', 'SpPosLog_Dz(e)', 'Ap', 'P_VSA_MR_5', 'CATS3D_10_PL', 'HATS0i', 'GGI4', 'ATSC1p', 'nR12', 'nArCONR2', 'nOHp', 'RDF145e', 'SpPosA_Dt', 'SM6_G/D', 'Eig07_EA(dm)', 'nArC=N', 'X1A', 'B03C-B', 'CATS3D_19_PP', 'HATS3v', 'SpMaxA_A', 'B01C-Cl', 'B01O-Br', 'L/Bw', 'Ho_B(e)', 'G(N..Br)', 'H8m', 'B09I-I', 'SM08_AEA(bo)', 'F07N-X', 'P_VSA_e_2', 'Eig13_AEA(bo)', 'F03Si-Si', 'NssPbH2', 'B06O-Cl', 'CATS3D_18_PN', 'HATS8i', 'GATS2p', 'SM4_G', 'P-116', 'EE_B(s)', 'B08F-I', 'B05C-Br', 'F01C-S', 'MATS6s', 'B01N-O', 'B07C-Br', 'SM02_AEA(dm)', 'B10C-N', 'RDF045v', 'RDF110v', 'NsAsH2', 'Ho_B(s)', 'F01F-Br', 'DP14', 'F09N-P', 'B05F-Br', 'HATS2u', 'ChiA_Dz(m)', 'nRNCO', 'B06N-P', 'GATS5v', 'P_VSA_ppp_N', 'SpMin3_Bh(i)', 'Mor09p', 'CATS2D_00_DP', 'B03N-N', 'P-120', 'VR1_G/D', 'R3s+', 'B10Cl-Si', 'RDF025u', 'B10C-C', 'RDF120u', 'F08O-F', 'X4Av', 'EE_A', 'CATS3D_03_DA', 'B06P-Cl', 'Mor23i', 'HyWi_B(e)', 'T(N..N)', 'SpMAD_D', 'AVS_Dz(i)', 'SsBH2', 'SM2_L', 'nPyridazines', 'Mor29v', 'SM13_AEA(bo)', 'CATS3D_15_DL', 'Mor05u', 'CATS3D_05_NN', 'F10P-Cl', 'B01Br-Br', 'SpPosLog_G/D', 'SM04_AEA(dm)', 'B05B-B', 'Mor12m', 'B07N-B', 'SM6_D/Dt', 'Mor30u', 'CATS2D_01_DA', 'nCsp', 'B03F-X', 'F07Si-Si', 'HATS5u', 'CATS3D_10_PP', 'B04X-X', 'G1v', 'RDF085i', 'X2', 'SpPos_D/Dt', 'F08P-B', 'F02I-Si', 'F03N-N', 'B05O-X', 'F02Cl-Si', 'SdCH2', 'F01O-Br', 'Mor27m', 'NaaCH', 'B09N-B', 'SssBH', 'T(P..Cl)', 'F02N-F', 'Chi_Dz(i)', 'F08C-I', 'B08N-X', 'X3sol', 'CATS3D_08_PN', 'F10C-F', 'ZM1V', 'B07Si-X', 'B04I-I', 'F03S-S', 'F09N-X', 'Eig01_AEA(bo)', 'VE1sign_B(v)', 'DP05', 'SM14_EA', 'nPyrimidines', 'nCHR2X', 'NssBH', 'Ho_Dz(p)', 'RDF145s', 'SpMaxA_AEA(ed)', 'ChiA_B(e)', 'VvdwMG', 'B02S-S', 'F06S-S', 'CATS3D_17_PN', 'TDB04e', 'CATS3D_02_DA', 'F03Cl-B', 'Mor17u', 'RTe', 'SpAD_Dz(e)', 'SaasC', 'C-006', 'CATS3D_14_AA', 'SpDiam_AEA(dm)', 'SP13', 'ATSC5s', 'CATS3D_00_DD', 'Mor15s', 'B04C-X', 'B01Br-Si', 'HATS1i', 'VE3_RG', 'CATS2D_09_AN', 'B07C-X', 'CATS3D_15_NL', 'nArNHO', 'F08C-N', 'H_RG', 'F10C-Br', 'WiA_G/D', 'F04Cl-I', 'CATS2D_09_AL', 'Mor26m', 'F10F-Cl', 'NssGeH2', 'HyWi_RG', 'CATS3D_05_AL', 'B05S-F', 'RDF065v', 'SpMaxA_G', 'H1m', 'SpDiam_Dz(e)', 'CATS3D_05_AN', 'R3u', 'SsssB', 'B02Si-X', 'F06B-Si', 'SpMin4_Bh(p)', 'F05C-I', 'H-055', 'F05O-Cl', 'CATS3D_13_AN', 'B10C-O', 'SpAD_H2', 'F06S-P', 'nCrs', 'B04F-F', 'SpAD_L', 'Ho_Dz(m)', 'F10F-I', 'SsNH2', 'R5m', 'F02O-B', 'CATS3D_06_NL', 'B09N-Si', 'nCIC', 'B03O-O', 'B07P-F', 'SM5_B(s)', 'R2s', 'F10N-P', 'B04Cl-Cl', 'RDF030i', 'VR2_B(s)', 'Eig07_EA(bo)', 'NNRS', 'TDB03r', 'B06N-Cl', 'nN=N', 'SpAD_B(e)', 'HATS1p', 'RDF020s', 'SsssSnH', 'DP06', 'CATS3D_13_DA', 'RDF025m', 'X4A', 'SM2_B(s)', 'Eig04_EA(bo)', 'F10C-Cl', 'F03P-Br', 'SpMaxA_B(m)', 'SM10_AEA(ri)', 'HATS2v', 'Mor22v', 'CATS3D_15_AA', 'F08Cl-X', 'H-047', 'VE3_L', 'Eig08_EA(ed)', 'F09O-Si', 'B05O-S', 'RDF020i', 'H3i', 'F07I-B', 'Mor07s', 'CATS2D_06_DP', 'GATS6i', 'R5u+', 'SsSnH3', 'B04P-P', 'Chi0_AEA(ed)', 'CATS3D_09_AP', 'Tm', 'G3p', 'NsSnH3', 'CATS3D_16_DP', 'F06F-B', 'B04N-I', 'RDF125e', 'B07S-I', 'Psi_i_0', 'SpAD_RG', 'Mor04p', 'RDF100p', 'BIC0', 'Eig01_EA', 'F02Br-I', 'SM5_Dz(p)', 'X3', 'RDF150u', 'Mor31i', 'AAC', 'R1p+', 'Uindex', 'F08O-O', 'R1v+', 'CATS3D_14_AN', 'F09I-B', 'SM10_EA(bo)', 'F07O-X', 'J_D/Dt', 'F08X-X', 'F08B-X', 'Vu', 'B05C-O', 'G1i', 'P_VSA_ppp_con', 'G(O..P)', 'ZM2Mad', 'CATS2D_09_LL', 'B02C-Cl', 'RDF125p', 'F07O-F', 'L2v', 'Eig05_EA(bo)', 'B08C-P', 'Chi_RG', 'SM2_RG', 'SM5_B(v)', 'B10O-S', 'F02F-Cl', 'SM1_B(s)', 'DISPv', 'CATS3D_03_DD', 'JGI7', 'Rperim', 'Eig13_EA(bo)', 'nOxetanes', 'nBeta-Lactams', 'nPO3', 'CATS3D_14_NL', 'nRNH2', 'nArNCS', 'P_VSA_p_4', 'HATSs', 'TIC0', 'L1s', 'CATS2D_02_NL', 'F05Cl-Cl', 'CATS3D_01_DD', 'F06Br-Si', 'G3u', 'H7u', 'B10C-P', 'B03I-X', 'F05I-I', 'B10Cl-B', 'CATS3D_11_PN', 'F10N-Si', 'ATSC7s', 'R8m+', 'SpAbs_Dz(i)', 'NsssGeH', 'RDF100v', 'SpMin6_Bh(i)', 'T(F..Br)', 'F09C-C', 'ATS7p', 'RDF045s', 'RDF045m', 'NssNH', 'F10C-C', 'F09I-I', 'RDF110e', 'VR1_B(v)', 'F03N-S', 'B07F-X', 'R1i', 'GMTIV', 'CATS3D_01_AN', 'Mor09e', 'H0s', 'R6m+', 'H0p', 'F04C-O', 'ChiA_Dz(Z)', 'B08C-O', 'F04P-Si', 'CATS3D_08_AA', 'HATS1v', 'ATS8e', 'Ke', 'QZZi', 'nRCSSH', 'G2v', 'F10P-B', 'F09Br-I', 'SpMax4_Bh(p)', 'Mor24p', 'SpMax6_Bh(m)', 'NsssPbH', 'MPC01', 'F01O-S', 'TDB10r', 'SdsN', 'B01F-Cl', 'B05Br-X', 'F06Cl-Cl', 'RDF095u', 'SM1_Dz(i)', 'PJI2', 'F08N-S', 'CATS2D_08_DA', 'F03O-Cl', 'GATS4i', 'NsBr', 'RDF110i', 'F08Br-X', 'Eig08_AEA(ed)', 'SM06_AEA(bo)', 'CATS2D_02_DA', 'I-104', 'nROR', 'DLS_03', 'CATS2D_07_DP', 'F05S-X', 'SM12_EA', 'F09S-F', 'SM03_AEA(ed)', 'SpAD_AEA(ed)', 'ATS6p', 'B03C-C', 'nAB', 'F03I-I', 'F05F-Si', 'ATS6e', 'Mor13u', 'SpMax3_Bh(s)', 'SpMax_RG', 'Eig12_EA(bo)', 'SM3_Dz(p)', 'Mor12i', 'Tp', 'F09B-Si', 'HDcpx', 'Eta_sh_p', 'nR08', 'Mor23m', 'R2m', 'B01I-B', 'F03C-F', 'CATS3D_10_DA', 'nR=Cs', 'F04S-S', 'F06N-O', 'G(N..N)', 'F08C-O', 'B08Cl-Br', 'B03P-Cl', 'CATS2D_00_NN', 'Mor25u', 'SM4_Dz(e)', 'SpMax_G', 'SM03_AEA(dm)', 'Ho_B(v)', 'DP19', 'Eig03_AEA(dm)', 'B02Cl-X', 'B09O-X', 'CATS3D_19_LL', 'B06F-Cl', 'HATSm', 'F04S-I', 'B02O-Si', 'HATS8s', 'Ho_D/Dt', 'RDF070u', 'Vx', 'J_G/D', 'HTv', 'CATS2D_05_NN', 'F04C-Si', 'CATS3D_14_PP', 'B04P-Cl', 'F08Br-Si', 'SMTI', 'Chi0_EA', 'ARR', 'Eig06_EA(ri)', 'RDF090v', 'Chi0_EA(dm)', 'ATSC2e', 'F06P-Si', 'B02N-F', 'Au', 'RDF080i', 'F03S-Cl', 'F08P-Cl', 'B08C-I', 'CATS2D_09_PN', 'B06S-S', 'SpPosA_B(e)', 'CATS3D_11_DN', 'F07I-X', 'Eig09_EA(ed)', 'B08P-X', 'SpDiam_EA(bo)', 'F09Br-X', 'B04N-X', 'Eig07_EA(ri)', 'WiA_B(p)', 'VE1sign_B(e)', 'nOxolanes', 'HATS0u', 'SssssssS', 'B07S-Cl', 'CATS3D_03_NN', 'RTv+', 'F09S-I', 'MPC03', 'P2v', 'VE2_B(s)', 'B08F-Si', 'B07P-Br', 'NsPH2', 'B04O-X', 'SpDiam_G/D', 'B09C-O', 'Mor10u', 'Eig10_EA(bo)', 'Te', 'B05I-Si', 'F10S-F', 'Mor21m', 'F01C-C', 'Mor12v', 'R4s', 'F03B-Si', 'F10S-Si', 'Eta_betaP', 'SP08', 'CIC5', 'GATS8m', 'nRCONH2', 'ATS4e', 'CATS3D_16_NN', 'GGI7', 'MATS4s', 'X3A', 'SaaSe', 'F07N-O', 'C-039', 'BBI', 'RDSQ', 'CATS3D_07_DN', 'CATS3D_07_AL', 'SssssC', 'B08C-X', 'B10O-P', 'E2s', 'RDF115u', 'B03N-I', 'F04S-X', 'F06O-B', 'G(Cl..Br)', 'SpAbs_B(v)', 'B04S-Si', 'NsssN', 'F04Br-Si', 'G2i', 'T(O..I)', 'T(P..P)', 'H_Dz(e)', 'B02B-Si', 'F07N-Cl', 'GATS2i', 'SpMax7_Bh(i)', 'B03F-Br', 'MATS7e', 'F10C-N', 'CATS2D_07_DD', 'B01N-X', 'GATS1m', 'Mor13v', 'F01S-Si', 'P_VSA_s_4', 'SM5_Dt', 'F01O-Cl', 'CATS3D_18_NL', 'B04C-P', 'TDB10i', 'CATS3D_11_NL', 'B06C-Br', 'F04O-Cl', 'F01P-Si', 'TDB05m', 'F07I-Si', 'SM08_EA', 'F09Cl-B', 'SpMin8_Bh(s)', 'F10S-B', 'F05N-Br', 'SsAsH2', 'C-016', 'L1v', 'B10O-B', 'CIC0', 'B01S-Si', 'F02P-Br', 'R4u', 'B06B-X', 'F09F-Si', 'CATS2D_00_PP', 'SpMin5_Bh(s)', 'F01C-F', 'Mor30i', 'P_VSA_s_1', 'B01B-Si', 'F10B-Si', 'B10P-F', 'NaaO', 'CATS2D_04_AA', 'F04N-Si', 'CATS2D_08_PL', 'H-050', 'SpPos_Dz(i)', 'F10N-O', 'CATS2D_05_DD', 'Eig01_AEA(ed)', 'SpAD_Dt', 'Cl-102', 'CATS3D_12_DL', 'VR3_B(p)', 'G1s', 'F03S-I', 'Wi_H2', 'Mor07u', 'nR=CHX', 'Mor15e', 'B02P-Si', 'CATS2D_07_LL', 'Eig10_EA(dm)', 'SM04_EA(bo)', 'SssCH2', 'F03P-Cl', 'SpMax4_Bh(i)', 'F07C-Cl', 'SpMAD_L', 'ATSC3e', 'F08C-Br', 'B10B-Si', 'GATS7p', 'F08Cl-B', 'MATS2p', 'HATSu', 'F04I-I', 'DELS', 'RTm', 'SM2_D/Dt', 'SP19', 'SRW06', 'nTB', 'B08Br-I', 'B02Cl-Br', 'ATS2s', 'Si-111', 'B03O-Br', 'B01P-Si', 'E1s', 'B04Br-B', 'SpMax5_Bh(i)', 'NddsAs', 'F03Cl-I', 'CATS3D_11_AA', 'Mor19s', 'ATSC4e', 'ATSC2s', 'B06I-Si', 'Mor12e', 'Mor19i', 'nROCON', 'B03N-F', 'CATS2D_00_AN', 'CATS2D_06_DA', 'ATS7v', 'nRNO2', 'CATS3D_16_PP', 'F04Si-Si', 'CATS3D_16_PN', 'B10S-Cl', 'B09I-Si', 'F09S-P', 'B10N-Cl', 'B07I-X', 'CATS3D_10_AL', 'RDF125u', 'CATS3D_17_NL', 'F01B-B', 'F03S-P', 'NdNH2+', 'F09F-F', 'TIC2', 'CATS3D_17_AL', 'CATS2D_09_DA', 'B05C-X', 'Uc', 'nArNR2', 'CATS3D_02_DP', 'Mor08p', 'H5v', 'CATS2D_08_DD', 'F04P-I', 'B01Si-Si', 'B05F-F', 'Eig14_AEA(ri)', 'SM15_AEA(bo)', 'F08F-B', 'R1i+', 'F08S-P', 'NddsP', 'E2u', 'B08N-B', 'B02C-C', 'Eta_L', 'F09S-Si', 'DBI', 'SpMax_AEA(ed)', 'F04Cl-Br', 'F06B-X', 'D/Dtr05', 'nArCSOH', 'ATS1e', 'VE1sign_G/D', 'ATSC8i', 'SpMax8_Bh(s)', 'HATS4i', 'F04N-Br', 'B04C-Br', 'F10F-F', 'NdssSe', 'SM2_B(m)', 'nArOCON', 'SM1_B(p)', 'F02Br-Si', 'Br-093', 'F10Br-X', 'Mor04e', 'P_VSA_s_2', 'MATS5p', 'CATS3D_11_AP', 'nR03', 'B02N-I', 'SssssBe-', 'nArOH', 'NsGeH3', 'F06S-Br', 'Eig09_AEA(dm)', 'CATS3D_10_LL', 'B04O-Si', 'MATS1m', 'WiA_Dz(Z)', 'TI1_L', 'Eig12_AEA(bo)', 'R1s', 'L2m', 'VE2sign_B(e)', 'Mor20e', 'CATS2D_02_PP', 'F05Cl-Si', 'GATS1e', 'CATS3D_15_PN', 'nS', 'RDF140s', 'B01N-N', 'CATS2D_07_PP', 'R5m+', 'B02P-X', 'G1', 'nCq', 'nSK', 'B01C-I', 'Mor08i', 'GMTI', 'F04Cl-Si', 'nPyrrolidines', 'H1p', 'CATS3D_04_DN', 'R5i', 'F10S-I', 'F04O-S', 'D/Dtr03', 'SpPos_D', 'SM14_EA(dm)', 'F03Cl-X', 'SssGeH2', 'Mor07m', 'B02C-S', 'F07Cl-Cl', 'QYYv', 'CATS2D_03_AA', 'Eig14_EA(dm)', 'E1i', 'CATS2D_04_PL', 'CATS3D_19_DN', 'X%', 'F01S-I', 'nRCN', 'B07Cl-I', 'F02S-Cl', 'CATS2D_06_PL', 'F09Br-Br', 'R6e+', 'nCrt', 'SsNH3+', 'F03B-X', 'F02F-I', 'SM07_AEA(ri)', 'F01O-O', 'SM2_Dt', 'RDF050s', 'ChiA_Dz(v)', 'F02B-Si', 'SsSeH', 'nCconj', 'nROH', 'F01P-F', 'SM02_EA(ed)', 'B09N-F', 'F05O-O', 'SsssssAs', 'B08S-Si', 'Mor32u', 'AVS_X', 'NssNH2+', 'CATS3D_07_LL', 'SM5_B(m)', 'HyWi_Dz(m)', 'nArNH2', 'H8i', 'RDF150s', 'CATS3D_18_NN', 'SM06_EA(ed)', 'B07N-F', 'nS(=O)2', 'Eig06_EA', 'CMBL', 'SHP2', 'TDB08v', 'F02F-X', 'piID', 'CATS3D_16_DL', 'SpPosA_D', 'SpMaxA_AEA(ri)', 'MPC10', 'CATS2D_06_AL', 'F06O-Br', 'Mor10s', 'SpPos_B(m)', 'SpMin7_Bh(m)', 'QZZv', 'B03Cl-Cl', 'Mor17v', 'F02P-X', 'AROM', 'G(F..I)', 'MSD', 'VE1_L', 'Eig08_AEA(dm)', 'Eig10_EA(ed)', 'F08C-P', 'Eig05_AEA(ri)', 'RDF085u', 'F05N-Cl', 'CATS2D_00_DD', 'F06N-I', 'HyWi_D/Dt', 'SM03_EA', 'Mor08v', 'NdssS', 'B06C-S', 'nRCO', 'B04B-Si', 'R2i+', 'MATS7v', 'F10B-B', 'CATS3D_04_DP', 'Chi_Dz(v)']\n",
            "128 tentative attributes remains: ['MATS6p', 'HATS6m', 'SM13_AEA(ri)', 'MATS3e', 'CATS2D_05_DA', 'Hy', 'SpPosA_G/D', 'SpMax_AEA(dm)', 'SM08_EA(bo)', 'F02C-N', 'P_VSA_m_2', 'MATS6e', 'R7u', 'TDB04s', 'Eta_beta_A', 'SM6_B(s)', 'Mor25s', 'E1u', 'GATS4p', 'MLOGP', 'P_VSA_e_3', 'SM11_EA(dm)', 'G3m', 'SpMaxA_D/Dt', 'RDF125i', 'Mor15i', 'SpDiam_EA(dm)', 'piPC04', 'CATS2D_09_DL', 'GATS6p', 'TPSA(NO)', 'C%', 'N-072', 'piPC10', 'BIC4', 'P_VSA_ppp_ter', 'GATS5e', 'R2e', 'GATS6e', 'SpMin1_Bh(v)', 'CATS3D_08_DL', 'SpMax_EA(dm)', 'CATS2D_04_AP', 'O%', 'CATS3D_05_DN', 'SpMin4_Bh(e)', 'Mor30v', 'SIC4', 'P_VSA_i_3', 'Mor14u', 'F03C-N', 'piPC02', 'SdssC', 'SssO', 'CATS2D_02_DL', 'Mor06u', 'SM4_B(p)', 'BIC3', 'piPC06', 'SpDiam_B(m)', 'VE1sign_RG', 'SpMin1_Bh(e)', 'C-041', 'SpMAD_B(v)', 'SdO', 'SpMax1_Bh(e)', 'P_VSA_ppp_cyc', 'Chi_D/Dt', 'RDF020v', 'nRCOOR', 'Eig01_EA(dm)', 'SM09_EA(dm)', 'SM06_EA(bo)', 'Eig11_AEA(dm)', 'Mor29p', 'DLS_cons', 'R3s', 'SpMAD_G/D', 'Eig09_EA(ri)', 'SpMaxA_Dz(Z)', 'O-060', 'piPC03', 'Eig09_EA(bo)', 'TDB03p', 'SpMAD_B(e)', 'AMW', 'Eig01_AEA(dm)', 'P_VSA_i_4', 'CIC3', 'CATS2D_04_DL', 'SpMax_B(i)', 'R5p', 'B02C-N', 'WiA_Dz(m)', 'F02O-O', 'H_Dz(p)', 'LOC', 'SpMax_EA(ed)', 'J_Dz(m)', 'MATS3s', 'SpMax_B(m)', 'TDB05e', 'SpMax1_Bh(s)', 'SpMAD_AEA(bo)', 'Wi_B(s)', 'P_VSA_s_6', 'MAXDP', 'Mor24i', 'WiA_Dt', 'SIC5', 'SpDiam_AEA(ed)', 'SpMin5_Bh(i)', 'SM15_EA(bo)', 'R8s', 'SpMAD_RG', 'P_VSA_MR_3', 'ATSC5i', 'SpMax_EA(ri)', 'Eig11_AEA(ri)', 'F03C-O', 'B01C-N', 'SM11_EA(ed)', 'HATS2m', 'GATS2e', 'HATS6v', 'SpMax_B(e)', 'H0v', 'SIC3']\n"
          ]
        }
      ],
      "source": [
        "model = CatBoostClassifier(iterations=50, \n",
        "    learning_rate=0.2, \n",
        "    logging_level='Silent')\n",
        "\n",
        "# no model selected default is Random Forest, if classification is False it is a Regression problem\n",
        "Feature_Selector = BorutaShap(model = model,\n",
        "                              importance_measure='shap',\n",
        "                              classification=True,percentile=80)\n",
        "\n",
        "Feature_Selector.fit(X=X_train_sweet_scaled, y=y_train_sweet['Target'], n_trials=200, random_state=0)"
      ]
    },
    {
      "cell_type": "code",
      "execution_count": null,
      "metadata": {
        "id": "p3n6RBbXuOED"
      },
      "outputs": [],
      "source": [
        "X_sweet_subset = Feature_Selector.Subset()"
      ]
    },
    {
      "cell_type": "code",
      "execution_count": 55,
      "metadata": {
        "id": "C-3nifXLuOEF"
      },
      "outputs": [],
      "source": [
        "X_sweet_subset_cols = X_sweet_subset.columns\n",
        "#print(X_sweet_subset_cols)\n",
        "\n",
        "X_sweet_test_subset = X_test_sweet_scaled[X_sweet_subset_cols]\n",
        "\n",
        "X_sweet_subset = X_train_sweet_scaled[X_sweet_subset_cols]"
      ]
    },
    {
      "cell_type": "code",
      "execution_count": 45,
      "metadata": {
        "colab": {
          "base_uri": "https://localhost:8080/"
        },
        "id": "RN0UcdS_uOEG",
        "outputId": "b1715620-32d8-406d-a636-ed7fadbeca54"
      },
      "outputs": [
        {
          "output_type": "stream",
          "name": "stdout",
          "text": [
            "Evaluating XGBoost\n",
            "Accuracy: 0.7532467532467533\n",
            "Precision: 0.8941176470588236\n",
            "Average Precision: 0.8354825566590273\n",
            "AUROC: 0.7700680272108844\n",
            "Classification Report\n",
            "              precision    recall  f1-score   support\n",
            "\n",
            "           0       0.58      0.82      0.68        49\n",
            "           1       0.89      0.72      0.80       105\n",
            "\n",
            "    accuracy                           0.75       154\n",
            "   macro avg       0.74      0.77      0.74       154\n",
            "weighted avg       0.79      0.75      0.76       154\n",
            "\n",
            "Evaluating CatBoost\n",
            "Accuracy: 0.7597402597402597\n",
            "Precision: 0.8777777777777778\n",
            "Average Precision: 0.8292544492544491\n",
            "AUROC: 0.7639455782312925\n",
            "Classification Report\n",
            "              precision    recall  f1-score   support\n",
            "\n",
            "           0       0.59      0.78      0.67        49\n",
            "           1       0.88      0.75      0.81       105\n",
            "\n",
            "    accuracy                           0.76       154\n",
            "   macro avg       0.74      0.76      0.74       154\n",
            "weighted avg       0.79      0.76      0.77       154\n",
            "\n",
            "Evaluating RandomForest\n",
            "Accuracy: 0.7727272727272727\n",
            "Precision: 0.8977272727272727\n",
            "Average Precision: 0.8442640692640693\n",
            "AUROC: 0.7843537414965986\n",
            "Classification Report\n",
            "              precision    recall  f1-score   support\n",
            "\n",
            "           0       0.61      0.82      0.70        49\n",
            "           1       0.90      0.75      0.82       105\n",
            "\n",
            "    accuracy                           0.77       154\n",
            "   macro avg       0.75      0.78      0.76       154\n",
            "weighted avg       0.80      0.77      0.78       154\n",
            "\n"
          ]
        }
      ],
      "source": [
        "print(\"Evaluating XGBoost\")\n",
        "evaluate(clf_xgboost, X_sweet_subset, y_train_sweet, X_sweet_test_subset, y_test_sweet)\n",
        "\n",
        "print(\"Evaluating CatBoost\")\n",
        "evaluate(clf_catboost,X_sweet_subset, y_train_sweet, X_sweet_test_subset, y_test_sweet)\n",
        "\n",
        "print(\"Evaluating RandomForest\")\n",
        "evaluate(clf_rf,X_sweet_subset, y_train_sweet, X_sweet_test_subset, y_test_sweet)"
      ]
    },
    {
      "cell_type": "code",
      "source": [],
      "metadata": {
        "id": "v4IEF_gOmcZM"
      },
      "execution_count": null,
      "outputs": []
    },
    {
      "cell_type": "code",
      "source": [
        "model = CatBoostClassifier(iterations=100, \n",
        "    learning_rate=0.1, \n",
        "    logging_level='Silent')\n",
        "\n",
        "# no model selected default is Random Forest, if classification is False it is a Regression problem\n",
        "Feature_Selector = BorutaShap(model = model,\n",
        "                              importance_measure='shap',\n",
        "                              classification=True)\n",
        "\n",
        "Feature_Selector.fit(X=X_train_sweet_scaled, y=y_train_sweet['Target'], n_trials=50, random_state=0)"
      ],
      "metadata": {
        "colab": {
          "base_uri": "https://localhost:8080/",
          "height": 49,
          "referenced_widgets": [
            "bd57c440f9e0405588bb3932218a3431",
            "00553abdad264ac99b1032d581967d5e",
            "bfcc59967083489897a3e1c7261b5e35",
            "1a9447f52e3f4914a8268056fcbb5d1d",
            "14403f00f3f44d6aa31f72506d1419ae",
            "e896800f2a624b8188117ceff88b4e03",
            "72213d18b0eb47198928ec00961c8ff4",
            "1642b387ced14578a0033949a6afe5cc",
            "4985926ab64c48b89d46710c8b42e58a",
            "18faeac61aac4f20ad954a7be0fbd4e5",
            "8f756e2e3e0e4111a07d5d5f3ab48991"
          ]
        },
        "id": "KSadiR8Nmce_",
        "outputId": "8810ca4e-d119-45ad-a28f-c348000a1347"
      },
      "execution_count": null,
      "outputs": [
        {
          "output_type": "display_data",
          "data": {
            "text/plain": [
              "  0%|          | 0/50 [00:00<?, ?it/s]"
            ],
            "application/vnd.jupyter.widget-view+json": {
              "version_major": 2,
              "version_minor": 0,
              "model_id": "bd57c440f9e0405588bb3932218a3431"
            }
          },
          "metadata": {}
        }
      ]
    },
    {
      "cell_type": "code",
      "source": [],
      "metadata": {
        "id": "dilnXTeCmchG"
      },
      "execution_count": null,
      "outputs": []
    },
    {
      "cell_type": "code",
      "source": [],
      "metadata": {
        "id": "3tCN60qzmckz"
      },
      "execution_count": null,
      "outputs": []
    },
    {
      "cell_type": "markdown",
      "source": [
        "adaboost"
      ],
      "metadata": {
        "id": "WazOM28IimDi"
      }
    },
    {
      "cell_type": "code",
      "execution_count": 58,
      "metadata": {
        "id": "qf765bJ30QlX"
      },
      "outputs": [],
      "source": [
        "from sklearn.tree import DecisionTreeClassifier\n",
        "from sklearn.ensemble import AdaBoostClassifier\n",
        "\n",
        "tree = DecisionTreeClassifier(\n",
        "          max_depth=1,\n",
        "          random_state=42)\n",
        "\n",
        "ada = AdaBoostClassifier(\n",
        "           base_estimator=tree,\n",
        "           n_estimators=500,\n",
        "           learning_rate=0.5,\n",
        "           random_state=42)"
      ]
    },
    {
      "cell_type": "code",
      "source": [
        "X_sweet_subset_cols = ['SpPosA_G/D', 'SIC3', 'SpMax1_Bh(i)', 'Eig01_EA(ri)', 'B02C-N', 'P_VSA_m_2', 'SpDiam_B(s)', 'CATS2D_05_DN', 'RBF', 'B01C-N', 'MLOGP2', 'GATS4s', 'MATS5m', 'totalcharge', 'piPC03', 'VE1_RG', 'N%', 'MAXDP', 'R7e', 'GATS4e', 'R4s+', 'DISPs', 'piPC04', 'SpMax7_Bh(s)', 'P_VSA_LogP_5', 'CATS2D_03_DL', 'P_VSA_i_4', 'CATS2D_07_DL', 'SpMax1_Bh(m)', 'SpDiam_EA(ri)', 'MATS6v', 'piID', 'Mor16e', 'P_VSA_s_6', 'SpMax_B(m)', 'CATS3D_02_DL', 'GATS6m', 'GATS5m', 'RDF040s', 'CATS2D_02_DL', 'SIC4', 'piPC07', 'P_VSA_MR_3', 'SpMAD_G/D', 'F01C-N', 'nN', 'J_Dt', 'P_VSA_LogP_2', 'SpMax_B(e)', 'F02C-N', 'HATS6v', 'TDB01i', 'F03C-N', 'CATS2D_04_AP', 'SpMAD_D/Dt', 'rGes', 'HATS6p', 'CATS2D_04_DL']"
      ],
      "metadata": {
        "id": "qLMKm0tlkkj8"
      },
      "execution_count": 61,
      "outputs": []
    },
    {
      "cell_type": "code",
      "source": [
        "#X_sweet_subset_cols = X_sweet_subset.columns\n",
        "#print(X_sweet_subset_cols)\n",
        "\n",
        "X_sweet_test_subset = X_test_sweet_scaled[X_sweet_subset_cols]\n",
        "\n",
        "X_sweet_subset = X_train_sweet_scaled[X_sweet_subset_cols]"
      ],
      "metadata": {
        "id": "UbGZ70MKkw4d"
      },
      "execution_count": 62,
      "outputs": []
    },
    {
      "cell_type": "code",
      "source": [
        "print(\"Evaluating adaBoost\")\n",
        "evaluate(ada, X_sweet_subset, y_train_sweet, X_sweet_test_subset, y_test_sweet)\n"
      ],
      "metadata": {
        "colab": {
          "base_uri": "https://localhost:8080/"
        },
        "id": "x7zd0q1dkkbt",
        "outputId": "93990118-3762-4379-d17b-a4649c5bee29"
      },
      "execution_count": 63,
      "outputs": [
        {
          "output_type": "stream",
          "name": "stdout",
          "text": [
            "Evaluating adaBoost\n",
            "Accuracy: 0.7077922077922078\n",
            "Precision: 0.8260869565217391\n",
            "Average Precision: 0.786241294936947\n",
            "AUROC: 0.698639455782313\n",
            "Classification Report\n",
            "              precision    recall  f1-score   support\n",
            "\n",
            "           0       0.53      0.67      0.59        49\n",
            "           1       0.83      0.72      0.77       105\n",
            "\n",
            "    accuracy                           0.71       154\n",
            "   macro avg       0.68      0.70      0.68       154\n",
            "weighted avg       0.73      0.71      0.72       154\n",
            "\n"
          ]
        }
      ]
    },
    {
      "cell_type": "code",
      "source": [],
      "metadata": {
        "id": "QEeeu_xWk13s"
      },
      "execution_count": null,
      "outputs": []
    },
    {
      "cell_type": "code",
      "source": [],
      "metadata": {
        "id": "YGw7rVvMk185"
      },
      "execution_count": null,
      "outputs": []
    },
    {
      "cell_type": "code",
      "source": [],
      "metadata": {
        "id": "QDZiZKN3k2Am"
      },
      "execution_count": null,
      "outputs": []
    },
    {
      "cell_type": "code",
      "source": [
        "\n",
        "# no model selected default is Random Forest, if classification is False it is a Regression problem\n",
        "Feature_Selector = BorutaShap(model = ada,\n",
        "                              importance_measure='shap',\n",
        "                              classification=True,percentile=80)\n",
        "\n",
        "Feature_Selector.fit(X=X_train_sweet_scaled, y=y_train_sweet['Target'], n_trials=200, random_state=0)"
      ],
      "metadata": {
        "colab": {
          "base_uri": "https://localhost:8080/",
          "height": 378,
          "referenced_widgets": [
            "dcbe009f13a24160b6124d3332f69e5b",
            "5a86e9aeaebc45bc9a7a0d6a4479b48a",
            "deab80fd20f941508f66d85153380d8c",
            "6fdd863807d249a4babac2305c6a3950",
            "f73f4cb073794570aa66af8712d95d54",
            "5a182b3ff25142048ee0cf91a3927465",
            "d147e80e309e4b839d72929d582b9749",
            "375d0d63b77d455798d8407bbcceb1df",
            "ff3b22b675954905b983c1f71e81c02a",
            "e0463d43ca1d404bad7d5f9ecacf2417",
            "bf85f4887e57499bb9fb4d65d103b96d"
          ]
        },
        "id": "48Yr6XWxiIA7",
        "outputId": "50824ec6-bea8-4f6e-fbb3-255eea56b137"
      },
      "execution_count": 53,
      "outputs": [
        {
          "output_type": "display_data",
          "data": {
            "text/plain": [
              "  0%|          | 0/200 [00:00<?, ?it/s]"
            ],
            "application/vnd.jupyter.widget-view+json": {
              "version_major": 2,
              "version_minor": 0,
              "model_id": "dcbe009f13a24160b6124d3332f69e5b"
            }
          },
          "metadata": {}
        },
        {
          "output_type": "error",
          "ename": "InvalidModelError",
          "evalue": "ignored",
          "traceback": [
            "\u001b[0;31m---------------------------------------------------------------------------\u001b[0m",
            "\u001b[0;31mInvalidModelError\u001b[0m                         Traceback (most recent call last)",
            "\u001b[0;32m<ipython-input-53-55b21731c416>\u001b[0m in \u001b[0;36m<module>\u001b[0;34m\u001b[0m\n\u001b[1;32m      4\u001b[0m                               classification=True,percentile=80)\n\u001b[1;32m      5\u001b[0m \u001b[0;34m\u001b[0m\u001b[0m\n\u001b[0;32m----> 6\u001b[0;31m \u001b[0mFeature_Selector\u001b[0m\u001b[0;34m.\u001b[0m\u001b[0mfit\u001b[0m\u001b[0;34m(\u001b[0m\u001b[0mX\u001b[0m\u001b[0;34m=\u001b[0m\u001b[0mX_train_sweet_scaled\u001b[0m\u001b[0;34m,\u001b[0m \u001b[0my\u001b[0m\u001b[0;34m=\u001b[0m\u001b[0my_train_sweet\u001b[0m\u001b[0;34m[\u001b[0m\u001b[0;34m'Target'\u001b[0m\u001b[0;34m]\u001b[0m\u001b[0;34m,\u001b[0m \u001b[0mn_trials\u001b[0m\u001b[0;34m=\u001b[0m\u001b[0;36m200\u001b[0m\u001b[0;34m,\u001b[0m \u001b[0mrandom_state\u001b[0m\u001b[0;34m=\u001b[0m\u001b[0;36m0\u001b[0m\u001b[0;34m)\u001b[0m\u001b[0;34m\u001b[0m\u001b[0;34m\u001b[0m\u001b[0m\n\u001b[0m",
            "\u001b[0;32m/usr/local/lib/python3.8/dist-packages/BorutaShap.py\u001b[0m in \u001b[0;36mfit\u001b[0;34m(self, X, y, n_trials, random_state, sample, train_or_test, normalize, verbose, stratify)\u001b[0m\n\u001b[1;32m    361\u001b[0m                 \u001b[0mself\u001b[0m\u001b[0;34m.\u001b[0m\u001b[0mCheck_if_chose_train_or_test_and_train_model\u001b[0m\u001b[0;34m(\u001b[0m\u001b[0;34m)\u001b[0m\u001b[0;34m\u001b[0m\u001b[0;34m\u001b[0m\u001b[0m\n\u001b[1;32m    362\u001b[0m \u001b[0;34m\u001b[0m\u001b[0m\n\u001b[0;32m--> 363\u001b[0;31m                 \u001b[0mself\u001b[0m\u001b[0;34m.\u001b[0m\u001b[0mX_feature_import\u001b[0m\u001b[0;34m,\u001b[0m \u001b[0mself\u001b[0m\u001b[0;34m.\u001b[0m\u001b[0mShadow_feature_import\u001b[0m \u001b[0;34m=\u001b[0m \u001b[0mself\u001b[0m\u001b[0;34m.\u001b[0m\u001b[0mfeature_importance\u001b[0m\u001b[0;34m(\u001b[0m\u001b[0mnormalize\u001b[0m\u001b[0;34m=\u001b[0m\u001b[0mnormalize\u001b[0m\u001b[0;34m)\u001b[0m\u001b[0;34m\u001b[0m\u001b[0;34m\u001b[0m\u001b[0m\n\u001b[0m\u001b[1;32m    364\u001b[0m                 \u001b[0mself\u001b[0m\u001b[0;34m.\u001b[0m\u001b[0mupdate_importance_history\u001b[0m\u001b[0;34m(\u001b[0m\u001b[0;34m)\u001b[0m\u001b[0;34m\u001b[0m\u001b[0;34m\u001b[0m\u001b[0m\n\u001b[1;32m    365\u001b[0m                 \u001b[0mhits\u001b[0m \u001b[0;34m=\u001b[0m \u001b[0mself\u001b[0m\u001b[0;34m.\u001b[0m\u001b[0mcalculate_hits\u001b[0m\u001b[0;34m(\u001b[0m\u001b[0;34m)\u001b[0m\u001b[0;34m\u001b[0m\u001b[0;34m\u001b[0m\u001b[0m\n",
            "\u001b[0;32m/usr/local/lib/python3.8/dist-packages/BorutaShap.py\u001b[0m in \u001b[0;36mfeature_importance\u001b[0;34m(self, normalize)\u001b[0m\n\u001b[1;32m    606\u001b[0m         \u001b[0;32mif\u001b[0m \u001b[0mself\u001b[0m\u001b[0;34m.\u001b[0m\u001b[0mimportance_measure\u001b[0m \u001b[0;34m==\u001b[0m \u001b[0;34m'shap'\u001b[0m\u001b[0;34m:\u001b[0m\u001b[0;34m\u001b[0m\u001b[0;34m\u001b[0m\u001b[0m\n\u001b[1;32m    607\u001b[0m \u001b[0;34m\u001b[0m\u001b[0m\n\u001b[0;32m--> 608\u001b[0;31m             \u001b[0mself\u001b[0m\u001b[0;34m.\u001b[0m\u001b[0mexplain\u001b[0m\u001b[0;34m(\u001b[0m\u001b[0;34m)\u001b[0m\u001b[0;34m\u001b[0m\u001b[0;34m\u001b[0m\u001b[0m\n\u001b[0m\u001b[1;32m    609\u001b[0m             \u001b[0mvals\u001b[0m \u001b[0;34m=\u001b[0m \u001b[0mself\u001b[0m\u001b[0;34m.\u001b[0m\u001b[0mshap_values\u001b[0m\u001b[0;34m\u001b[0m\u001b[0;34m\u001b[0m\u001b[0m\n\u001b[1;32m    610\u001b[0m \u001b[0;34m\u001b[0m\u001b[0m\n",
            "\u001b[0;32m/usr/local/lib/python3.8/dist-packages/BorutaShap.py\u001b[0m in \u001b[0;36mexplain\u001b[0;34m(self)\u001b[0m\n\u001b[1;32m    699\u001b[0m \u001b[0;34m\u001b[0m\u001b[0m\n\u001b[1;32m    700\u001b[0m \u001b[0;34m\u001b[0m\u001b[0m\n\u001b[0;32m--> 701\u001b[0;31m         \u001b[0mexplainer\u001b[0m \u001b[0;34m=\u001b[0m \u001b[0mshap\u001b[0m\u001b[0;34m.\u001b[0m\u001b[0mTreeExplainer\u001b[0m\u001b[0;34m(\u001b[0m\u001b[0mself\u001b[0m\u001b[0;34m.\u001b[0m\u001b[0mmodel\u001b[0m\u001b[0;34m,\u001b[0m \u001b[0mfeature_perturbation\u001b[0m \u001b[0;34m=\u001b[0m \u001b[0;34m\"tree_path_dependent\"\u001b[0m\u001b[0;34m)\u001b[0m\u001b[0;34m\u001b[0m\u001b[0;34m\u001b[0m\u001b[0m\n\u001b[0m\u001b[1;32m    702\u001b[0m \u001b[0;34m\u001b[0m\u001b[0m\n\u001b[1;32m    703\u001b[0m \u001b[0;34m\u001b[0m\u001b[0m\n",
            "\u001b[0;32m/usr/local/lib/python3.8/dist-packages/shap/explainers/_tree.py\u001b[0m in \u001b[0;36m__init__\u001b[0;34m(self, model, data, model_output, feature_perturbation, feature_names, approximate, **deprecated_options)\u001b[0m\n\u001b[1;32m    147\u001b[0m         \u001b[0mself\u001b[0m\u001b[0;34m.\u001b[0m\u001b[0mfeature_perturbation\u001b[0m \u001b[0;34m=\u001b[0m \u001b[0mfeature_perturbation\u001b[0m\u001b[0;34m\u001b[0m\u001b[0;34m\u001b[0m\u001b[0m\n\u001b[1;32m    148\u001b[0m         \u001b[0mself\u001b[0m\u001b[0;34m.\u001b[0m\u001b[0mexpected_value\u001b[0m \u001b[0;34m=\u001b[0m \u001b[0;32mNone\u001b[0m\u001b[0;34m\u001b[0m\u001b[0;34m\u001b[0m\u001b[0m\n\u001b[0;32m--> 149\u001b[0;31m         \u001b[0mself\u001b[0m\u001b[0;34m.\u001b[0m\u001b[0mmodel\u001b[0m \u001b[0;34m=\u001b[0m \u001b[0mTreeEnsemble\u001b[0m\u001b[0;34m(\u001b[0m\u001b[0mmodel\u001b[0m\u001b[0;34m,\u001b[0m \u001b[0mself\u001b[0m\u001b[0;34m.\u001b[0m\u001b[0mdata\u001b[0m\u001b[0;34m,\u001b[0m \u001b[0mself\u001b[0m\u001b[0;34m.\u001b[0m\u001b[0mdata_missing\u001b[0m\u001b[0;34m,\u001b[0m \u001b[0mmodel_output\u001b[0m\u001b[0;34m)\u001b[0m\u001b[0;34m\u001b[0m\u001b[0;34m\u001b[0m\u001b[0m\n\u001b[0m\u001b[1;32m    150\u001b[0m         \u001b[0mself\u001b[0m\u001b[0;34m.\u001b[0m\u001b[0mmodel_output\u001b[0m \u001b[0;34m=\u001b[0m \u001b[0mmodel_output\u001b[0m\u001b[0;34m\u001b[0m\u001b[0;34m\u001b[0m\u001b[0m\n\u001b[1;32m    151\u001b[0m         \u001b[0;31m#self.model_output = self.model.model_output # this allows the TreeEnsemble to translate model outputs types by how it loads the model\u001b[0m\u001b[0;34m\u001b[0m\u001b[0;34m\u001b[0m\u001b[0;34m\u001b[0m\u001b[0m\n",
            "\u001b[0;32m/usr/local/lib/python3.8/dist-packages/shap/explainers/_tree.py\u001b[0m in \u001b[0;36m__init__\u001b[0;34m(self, model, data, data_missing, model_output)\u001b[0m\n\u001b[1;32m    991\u001b[0m             \u001b[0mself\u001b[0m\u001b[0;34m.\u001b[0m\u001b[0mbase_offset\u001b[0m \u001b[0;34m=\u001b[0m \u001b[0mmodel\u001b[0m\u001b[0;34m.\u001b[0m\u001b[0minit_params\u001b[0m\u001b[0;34m[\u001b[0m\u001b[0mparam_idx\u001b[0m\u001b[0;34m]\u001b[0m\u001b[0;34m\u001b[0m\u001b[0;34m\u001b[0m\u001b[0m\n\u001b[1;32m    992\u001b[0m         \u001b[0;32melse\u001b[0m\u001b[0;34m:\u001b[0m\u001b[0;34m\u001b[0m\u001b[0;34m\u001b[0m\u001b[0m\n\u001b[0;32m--> 993\u001b[0;31m             \u001b[0;32mraise\u001b[0m \u001b[0mInvalidModelError\u001b[0m\u001b[0;34m(\u001b[0m\u001b[0;34m\"Model type not yet supported by TreeExplainer: \"\u001b[0m \u001b[0;34m+\u001b[0m \u001b[0mstr\u001b[0m\u001b[0;34m(\u001b[0m\u001b[0mtype\u001b[0m\u001b[0;34m(\u001b[0m\u001b[0mmodel\u001b[0m\u001b[0;34m)\u001b[0m\u001b[0;34m)\u001b[0m\u001b[0;34m)\u001b[0m\u001b[0;34m\u001b[0m\u001b[0;34m\u001b[0m\u001b[0m\n\u001b[0m\u001b[1;32m    994\u001b[0m \u001b[0;34m\u001b[0m\u001b[0m\n\u001b[1;32m    995\u001b[0m         \u001b[0;31m# build a dense numpy version of all the tree objects\u001b[0m\u001b[0;34m\u001b[0m\u001b[0;34m\u001b[0m\u001b[0;34m\u001b[0m\u001b[0m\n",
            "\u001b[0;31mInvalidModelError\u001b[0m: Model type not yet supported by TreeExplainer: <class 'sklearn.ensemble._weight_boosting.AdaBoostClassifier'>"
          ]
        }
      ]
    },
    {
      "cell_type": "code",
      "execution_count": null,
      "metadata": {
        "id": "WpVZE_bzi7KT"
      },
      "outputs": [],
      "source": [
        "X_sweet_subset = Feature_Selector.Subset()"
      ]
    },
    {
      "cell_type": "code",
      "execution_count": null,
      "metadata": {
        "id": "ozIokGWSi7KX"
      },
      "outputs": [],
      "source": [
        "X_sweet_subset_cols = X_sweet_subset.columns\n",
        "#print(X_sweet_subset_cols)\n",
        "\n",
        "X_sweet_test_subset = X_test_sweet_scaled[X_sweet_subset_cols]\n",
        "\n",
        "X_sweet_subset = X_train_sweet_scaled[X_sweet_subset_cols]"
      ]
    },
    {
      "cell_type": "code",
      "execution_count": null,
      "metadata": {
        "id": "KDpXplUGi7KZ"
      },
      "outputs": [],
      "source": [
        "print(\"Evaluating XGBoost\")\n",
        "evaluate(clf_xgboost, X_sweet_subset, y_train_sweet, X_sweet_test_subset, y_test_sweet)\n",
        "\n",
        "print(\"Evaluating CatBoost\")\n",
        "evaluate(clf_catboost,X_sweet_subset, y_train_sweet, X_sweet_test_subset, y_test_sweet)\n",
        "\n",
        "print(\"Evaluating RandomForest\")\n",
        "evaluate(clf_rf,X_sweet_subset, y_train_sweet, X_sweet_test_subset, y_test_sweet)"
      ]
    },
    {
      "cell_type": "code",
      "source": [],
      "metadata": {
        "id": "A0BCoa8niIGl"
      },
      "execution_count": null,
      "outputs": []
    },
    {
      "cell_type": "code",
      "source": [],
      "metadata": {
        "id": "y6_Q7VyviII9"
      },
      "execution_count": null,
      "outputs": []
    },
    {
      "cell_type": "markdown",
      "metadata": {
        "id": "h3YHGnEb1wh6"
      },
      "source": [
        "Bitter"
      ]
    },
    {
      "cell_type": "code",
      "execution_count": null,
      "metadata": {
        "id": "cpgAjpF91xu1"
      },
      "outputs": [],
      "source": [
        "# If no model is selected default is the Random Forest\n",
        "# If classification is True it is a classification problem\n",
        "model = XGBClassifier()\n",
        "\n",
        "from sklearn.ensemble import AdaBoostClassifier\n",
        "\n",
        "from sklearn.tree import DecisionTreeClassifier\n",
        "\n",
        "tree = DecisionTreeClassifier(\n",
        "          max_depth=1,\n",
        "          random_state=42)\n",
        "\n",
        "ada = AdaBoostClassifier(\n",
        "           n_estimators=500,\n",
        "           learning_rate=0.5,\n",
        "           random_state=42)\n",
        "\n",
        "Feature_Selector = BorutaShap(model=ada,importance_measure='shap', classification=True)\n",
        "#Feature_Selector = BorutaShap(importance_measure='shap', classification=True)\n",
        "\n",
        "#Feature_Selector.fit(X=X_train, y=y_train['Target'], n_trials=50, random_state=0)\n",
        "\n",
        "\n",
        "#Feature_Selector.fit(X=X_train, y=y_train['Target'], n_trials=500, sample=False,\n",
        "#            \t     train_or_test = 'test', normalize=True, verbose=True,random_state=32)\n",
        "\n",
        "Feature_Selector.fit(X=X_train_bitter_scaled, y=y_train_bitter['Target'], n_trials=50, sample=False, verbose=True,random_state=32)"
      ]
    },
    {
      "cell_type": "code",
      "execution_count": null,
      "metadata": {
        "id": "uLEoTRz61xu3"
      },
      "outputs": [],
      "source": [
        "X_bitter_subset = Feature_Selector.Subset()"
      ]
    },
    {
      "cell_type": "code",
      "execution_count": null,
      "metadata": {
        "colab": {
          "base_uri": "https://localhost:8080/"
        },
        "id": "z1twHpSk1xu4",
        "outputId": "4f8705e5-065a-4559-9a85-c406eb3c3036"
      },
      "outputs": [
        {
          "name": "stdout",
          "output_type": "stream",
          "text": [
            "Index(['MLOGP2', 'N%', 'CATS2D_05_DN', 'SpMax1_Bh(m)', 'totalcharge',\n",
            "       'SpDiam_RG', 'TDB03p', 'CATS2D_02_DL'],\n",
            "      dtype='object')\n"
          ]
        }
      ],
      "source": [
        "X_bitter_subset_cols = X_bitter_subset.columns\n",
        "print(X_bitter_subset_cols)"
      ]
    },
    {
      "cell_type": "code",
      "execution_count": null,
      "metadata": {
        "id": "02N6p3h51xu5"
      },
      "outputs": [],
      "source": [
        "X_bitter_test_subset = X_test_bitter_scaled[X_bitter_subset_cols]"
      ]
    },
    {
      "cell_type": "code",
      "execution_count": null,
      "metadata": {
        "colab": {
          "base_uri": "https://localhost:8080/"
        },
        "id": "j1WIzsLo1xu5",
        "outputId": "c97f91b1-9e14-4dea-ace0-77697ad807b2"
      },
      "outputs": [
        {
          "name": "stdout",
          "output_type": "stream",
          "text": [
            "Evaluating XGBoost\n",
            "Accuracy: 0.7142857142857143\n",
            "Precision: 0.8674698795180723\n",
            "Average Precision: 0.8091222030981068\n",
            "AUC: 0.7306122448979592\n",
            "Evaluating CatBoost\n",
            "Accuracy: 0.7272727272727273\n",
            "Precision: 0.8705882352941177\n",
            "Average Precision: 0.8148561242678889\n",
            "AUC: 0.7401360544217688\n",
            "Evaluating RandomForest\n",
            "Accuracy: 0.7402597402597403\n",
            "Precision: 0.891566265060241\n",
            "Average Precision: 0.829640640484014\n",
            "AUC: 0.7605442176870749\n"
          ]
        }
      ],
      "source": [
        "print(\"Evaluating XGBoost\")\n",
        "evaluate(clf_xgboost, X_sweet_subset, y_train_sweet, X_sweet_test_subset, y_test_sweet)\n",
        "\n",
        "print(\"Evaluating CatBoost\")\n",
        "evaluate(clf_catboost,X_sweet_subset, y_train_sweet, X_sweet_test_subset, y_test_sweet)\n",
        "\n",
        "print(\"Evaluating RandomForest\")\n",
        "evaluate(clf_rf,X_sweet_subset, y_train_sweet, X_sweet_test_subset, y_test_sweet)"
      ]
    },
    {
      "cell_type": "code",
      "execution_count": null,
      "metadata": {
        "id": "WdF0CmhZ5YW-"
      },
      "outputs": [],
      "source": []
    }
  ],
  "metadata": {
    "colab": {
      "provenance": []
    },
    "kernelspec": {
      "display_name": "Python 3",
      "name": "python3"
    },
    "language_info": {
      "name": "python"
    },
    "widgets": {
      "application/vnd.jupyter.widget-state+json": {
        "120de88150f64bb4a0ba23b0ce830050": {
          "model_module": "@jupyter-widgets/controls",
          "model_module_version": "1.5.0",
          "model_name": "DescriptionStyleModel",
          "state": {
            "_model_module": "@jupyter-widgets/controls",
            "_model_module_version": "1.5.0",
            "_model_name": "DescriptionStyleModel",
            "_view_count": null,
            "_view_module": "@jupyter-widgets/base",
            "_view_module_version": "1.2.0",
            "_view_name": "StyleView",
            "description_width": ""
          }
        },
        "284ca69780ae41e5864273331511952c": {
          "model_module": "@jupyter-widgets/controls",
          "model_module_version": "1.5.0",
          "model_name": "HTMLModel",
          "state": {
            "_dom_classes": [],
            "_model_module": "@jupyter-widgets/controls",
            "_model_module_version": "1.5.0",
            "_model_name": "HTMLModel",
            "_view_count": null,
            "_view_module": "@jupyter-widgets/controls",
            "_view_module_version": "1.5.0",
            "_view_name": "HTMLView",
            "description": "",
            "description_tooltip": null,
            "layout": "IPY_MODEL_f725f0def8af43919ae8770d9e2929c0",
            "placeholder": "​",
            "style": "IPY_MODEL_424b34032412469099c1ee1cd8ccaa48",
            "value": "100%"
          }
        },
        "32956eb7158249feb08c5c4475ae6320": {
          "model_module": "@jupyter-widgets/controls",
          "model_module_version": "1.5.0",
          "model_name": "DescriptionStyleModel",
          "state": {
            "_model_module": "@jupyter-widgets/controls",
            "_model_module_version": "1.5.0",
            "_model_name": "DescriptionStyleModel",
            "_view_count": null,
            "_view_module": "@jupyter-widgets/base",
            "_view_module_version": "1.2.0",
            "_view_name": "StyleView",
            "description_width": ""
          }
        },
        "33dbcb094517487cb5a4d639b6c7a229": {
          "model_module": "@jupyter-widgets/base",
          "model_module_version": "1.2.0",
          "model_name": "LayoutModel",
          "state": {
            "_model_module": "@jupyter-widgets/base",
            "_model_module_version": "1.2.0",
            "_model_name": "LayoutModel",
            "_view_count": null,
            "_view_module": "@jupyter-widgets/base",
            "_view_module_version": "1.2.0",
            "_view_name": "LayoutView",
            "align_content": null,
            "align_items": null,
            "align_self": null,
            "border": null,
            "bottom": null,
            "display": null,
            "flex": null,
            "flex_flow": null,
            "grid_area": null,
            "grid_auto_columns": null,
            "grid_auto_flow": null,
            "grid_auto_rows": null,
            "grid_column": null,
            "grid_gap": null,
            "grid_row": null,
            "grid_template_areas": null,
            "grid_template_columns": null,
            "grid_template_rows": null,
            "height": null,
            "justify_content": null,
            "justify_items": null,
            "left": null,
            "margin": null,
            "max_height": null,
            "max_width": null,
            "min_height": null,
            "min_width": null,
            "object_fit": null,
            "object_position": null,
            "order": null,
            "overflow": null,
            "overflow_x": null,
            "overflow_y": null,
            "padding": null,
            "right": null,
            "top": null,
            "visibility": null,
            "width": null
          }
        },
        "3f7401e3a8124514ad6ea7e0383c8f00": {
          "model_module": "@jupyter-widgets/base",
          "model_module_version": "1.2.0",
          "model_name": "LayoutModel",
          "state": {
            "_model_module": "@jupyter-widgets/base",
            "_model_module_version": "1.2.0",
            "_model_name": "LayoutModel",
            "_view_count": null,
            "_view_module": "@jupyter-widgets/base",
            "_view_module_version": "1.2.0",
            "_view_name": "LayoutView",
            "align_content": null,
            "align_items": null,
            "align_self": null,
            "border": null,
            "bottom": null,
            "display": null,
            "flex": null,
            "flex_flow": null,
            "grid_area": null,
            "grid_auto_columns": null,
            "grid_auto_flow": null,
            "grid_auto_rows": null,
            "grid_column": null,
            "grid_gap": null,
            "grid_row": null,
            "grid_template_areas": null,
            "grid_template_columns": null,
            "grid_template_rows": null,
            "height": null,
            "justify_content": null,
            "justify_items": null,
            "left": null,
            "margin": null,
            "max_height": null,
            "max_width": null,
            "min_height": null,
            "min_width": null,
            "object_fit": null,
            "object_position": null,
            "order": null,
            "overflow": null,
            "overflow_x": null,
            "overflow_y": null,
            "padding": null,
            "right": null,
            "top": null,
            "visibility": null,
            "width": null
          }
        },
        "424b34032412469099c1ee1cd8ccaa48": {
          "model_module": "@jupyter-widgets/controls",
          "model_module_version": "1.5.0",
          "model_name": "DescriptionStyleModel",
          "state": {
            "_model_module": "@jupyter-widgets/controls",
            "_model_module_version": "1.5.0",
            "_model_name": "DescriptionStyleModel",
            "_view_count": null,
            "_view_module": "@jupyter-widgets/base",
            "_view_module_version": "1.2.0",
            "_view_name": "StyleView",
            "description_width": ""
          }
        },
        "489d112006f44d15bf7463905a6f5f57": {
          "model_module": "@jupyter-widgets/controls",
          "model_module_version": "1.5.0",
          "model_name": "FloatProgressModel",
          "state": {
            "_dom_classes": [],
            "_model_module": "@jupyter-widgets/controls",
            "_model_module_version": "1.5.0",
            "_model_name": "FloatProgressModel",
            "_view_count": null,
            "_view_module": "@jupyter-widgets/controls",
            "_view_module_version": "1.5.0",
            "_view_name": "ProgressView",
            "bar_style": "success",
            "description": "",
            "description_tooltip": null,
            "layout": "IPY_MODEL_9fb6ba4ad4a342dbba6450b3915ac279",
            "max": 200,
            "min": 0,
            "orientation": "horizontal",
            "style": "IPY_MODEL_b9d1d768342143959f8feb6e0bfeca99",
            "value": 200
          }
        },
        "5dc1d16a95984c1d95c696cfc593d54c": {
          "model_module": "@jupyter-widgets/base",
          "model_module_version": "1.2.0",
          "model_name": "LayoutModel",
          "state": {
            "_model_module": "@jupyter-widgets/base",
            "_model_module_version": "1.2.0",
            "_model_name": "LayoutModel",
            "_view_count": null,
            "_view_module": "@jupyter-widgets/base",
            "_view_module_version": "1.2.0",
            "_view_name": "LayoutView",
            "align_content": null,
            "align_items": null,
            "align_self": null,
            "border": null,
            "bottom": null,
            "display": null,
            "flex": null,
            "flex_flow": null,
            "grid_area": null,
            "grid_auto_columns": null,
            "grid_auto_flow": null,
            "grid_auto_rows": null,
            "grid_column": null,
            "grid_gap": null,
            "grid_row": null,
            "grid_template_areas": null,
            "grid_template_columns": null,
            "grid_template_rows": null,
            "height": null,
            "justify_content": null,
            "justify_items": null,
            "left": null,
            "margin": null,
            "max_height": null,
            "max_width": null,
            "min_height": null,
            "min_width": null,
            "object_fit": null,
            "object_position": null,
            "order": null,
            "overflow": null,
            "overflow_x": null,
            "overflow_y": null,
            "padding": null,
            "right": null,
            "top": null,
            "visibility": null,
            "width": null
          }
        },
        "61e08455a05747f085968b0e4be6a2fa": {
          "model_module": "@jupyter-widgets/controls",
          "model_module_version": "1.5.0",
          "model_name": "HBoxModel",
          "state": {
            "_dom_classes": [],
            "_model_module": "@jupyter-widgets/controls",
            "_model_module_version": "1.5.0",
            "_model_name": "HBoxModel",
            "_view_count": null,
            "_view_module": "@jupyter-widgets/controls",
            "_view_module_version": "1.5.0",
            "_view_name": "HBoxView",
            "box_style": "",
            "children": [
              "IPY_MODEL_284ca69780ae41e5864273331511952c",
              "IPY_MODEL_489d112006f44d15bf7463905a6f5f57",
              "IPY_MODEL_f745b361e40c4d998910b4379cb75259"
            ],
            "layout": "IPY_MODEL_88182cd1347244f6befc7600631ec6ad"
          }
        },
        "63a242860cc5412abba3cf8b5c9da9e0": {
          "model_module": "@jupyter-widgets/controls",
          "model_module_version": "1.5.0",
          "model_name": "HTMLModel",
          "state": {
            "_dom_classes": [],
            "_model_module": "@jupyter-widgets/controls",
            "_model_module_version": "1.5.0",
            "_model_name": "HTMLModel",
            "_view_count": null,
            "_view_module": "@jupyter-widgets/controls",
            "_view_module_version": "1.5.0",
            "_view_name": "HTMLView",
            "description": "",
            "description_tooltip": null,
            "layout": "IPY_MODEL_33dbcb094517487cb5a4d639b6c7a229",
            "placeholder": "​",
            "style": "IPY_MODEL_c9cee9a5e52c4dfba0141c346e736fd4",
            "value": " 100/100 [24:47&lt;00:00,  3.72s/it]"
          }
        },
        "6970a96091ed4c588fc493b782baab47": {
          "model_module": "@jupyter-widgets/base",
          "model_module_version": "1.2.0",
          "model_name": "LayoutModel",
          "state": {
            "_model_module": "@jupyter-widgets/base",
            "_model_module_version": "1.2.0",
            "_model_name": "LayoutModel",
            "_view_count": null,
            "_view_module": "@jupyter-widgets/base",
            "_view_module_version": "1.2.0",
            "_view_name": "LayoutView",
            "align_content": null,
            "align_items": null,
            "align_self": null,
            "border": null,
            "bottom": null,
            "display": null,
            "flex": null,
            "flex_flow": null,
            "grid_area": null,
            "grid_auto_columns": null,
            "grid_auto_flow": null,
            "grid_auto_rows": null,
            "grid_column": null,
            "grid_gap": null,
            "grid_row": null,
            "grid_template_areas": null,
            "grid_template_columns": null,
            "grid_template_rows": null,
            "height": null,
            "justify_content": null,
            "justify_items": null,
            "left": null,
            "margin": null,
            "max_height": null,
            "max_width": null,
            "min_height": null,
            "min_width": null,
            "object_fit": null,
            "object_position": null,
            "order": null,
            "overflow": null,
            "overflow_x": null,
            "overflow_y": null,
            "padding": null,
            "right": null,
            "top": null,
            "visibility": null,
            "width": null
          }
        },
        "6f160ac000164de0877555c91c23118e": {
          "model_module": "@jupyter-widgets/base",
          "model_module_version": "1.2.0",
          "model_name": "LayoutModel",
          "state": {
            "_model_module": "@jupyter-widgets/base",
            "_model_module_version": "1.2.0",
            "_model_name": "LayoutModel",
            "_view_count": null,
            "_view_module": "@jupyter-widgets/base",
            "_view_module_version": "1.2.0",
            "_view_name": "LayoutView",
            "align_content": null,
            "align_items": null,
            "align_self": null,
            "border": null,
            "bottom": null,
            "display": null,
            "flex": null,
            "flex_flow": null,
            "grid_area": null,
            "grid_auto_columns": null,
            "grid_auto_flow": null,
            "grid_auto_rows": null,
            "grid_column": null,
            "grid_gap": null,
            "grid_row": null,
            "grid_template_areas": null,
            "grid_template_columns": null,
            "grid_template_rows": null,
            "height": null,
            "justify_content": null,
            "justify_items": null,
            "left": null,
            "margin": null,
            "max_height": null,
            "max_width": null,
            "min_height": null,
            "min_width": null,
            "object_fit": null,
            "object_position": null,
            "order": null,
            "overflow": null,
            "overflow_x": null,
            "overflow_y": null,
            "padding": null,
            "right": null,
            "top": null,
            "visibility": null,
            "width": null
          }
        },
        "7dbdefa2cef645918270473094868340": {
          "model_module": "@jupyter-widgets/base",
          "model_module_version": "1.2.0",
          "model_name": "LayoutModel",
          "state": {
            "_model_module": "@jupyter-widgets/base",
            "_model_module_version": "1.2.0",
            "_model_name": "LayoutModel",
            "_view_count": null,
            "_view_module": "@jupyter-widgets/base",
            "_view_module_version": "1.2.0",
            "_view_name": "LayoutView",
            "align_content": null,
            "align_items": null,
            "align_self": null,
            "border": null,
            "bottom": null,
            "display": null,
            "flex": null,
            "flex_flow": null,
            "grid_area": null,
            "grid_auto_columns": null,
            "grid_auto_flow": null,
            "grid_auto_rows": null,
            "grid_column": null,
            "grid_gap": null,
            "grid_row": null,
            "grid_template_areas": null,
            "grid_template_columns": null,
            "grid_template_rows": null,
            "height": null,
            "justify_content": null,
            "justify_items": null,
            "left": null,
            "margin": null,
            "max_height": null,
            "max_width": null,
            "min_height": null,
            "min_width": null,
            "object_fit": null,
            "object_position": null,
            "order": null,
            "overflow": null,
            "overflow_x": null,
            "overflow_y": null,
            "padding": null,
            "right": null,
            "top": null,
            "visibility": null,
            "width": null
          }
        },
        "88182cd1347244f6befc7600631ec6ad": {
          "model_module": "@jupyter-widgets/base",
          "model_module_version": "1.2.0",
          "model_name": "LayoutModel",
          "state": {
            "_model_module": "@jupyter-widgets/base",
            "_model_module_version": "1.2.0",
            "_model_name": "LayoutModel",
            "_view_count": null,
            "_view_module": "@jupyter-widgets/base",
            "_view_module_version": "1.2.0",
            "_view_name": "LayoutView",
            "align_content": null,
            "align_items": null,
            "align_self": null,
            "border": null,
            "bottom": null,
            "display": null,
            "flex": null,
            "flex_flow": null,
            "grid_area": null,
            "grid_auto_columns": null,
            "grid_auto_flow": null,
            "grid_auto_rows": null,
            "grid_column": null,
            "grid_gap": null,
            "grid_row": null,
            "grid_template_areas": null,
            "grid_template_columns": null,
            "grid_template_rows": null,
            "height": null,
            "justify_content": null,
            "justify_items": null,
            "left": null,
            "margin": null,
            "max_height": null,
            "max_width": null,
            "min_height": null,
            "min_width": null,
            "object_fit": null,
            "object_position": null,
            "order": null,
            "overflow": null,
            "overflow_x": null,
            "overflow_y": null,
            "padding": null,
            "right": null,
            "top": null,
            "visibility": null,
            "width": null
          }
        },
        "93353374d82040418cc87b9f82cc1fd6": {
          "model_module": "@jupyter-widgets/controls",
          "model_module_version": "1.5.0",
          "model_name": "DescriptionStyleModel",
          "state": {
            "_model_module": "@jupyter-widgets/controls",
            "_model_module_version": "1.5.0",
            "_model_name": "DescriptionStyleModel",
            "_view_count": null,
            "_view_module": "@jupyter-widgets/base",
            "_view_module_version": "1.2.0",
            "_view_name": "StyleView",
            "description_width": ""
          }
        },
        "9fb6ba4ad4a342dbba6450b3915ac279": {
          "model_module": "@jupyter-widgets/base",
          "model_module_version": "1.2.0",
          "model_name": "LayoutModel",
          "state": {
            "_model_module": "@jupyter-widgets/base",
            "_model_module_version": "1.2.0",
            "_model_name": "LayoutModel",
            "_view_count": null,
            "_view_module": "@jupyter-widgets/base",
            "_view_module_version": "1.2.0",
            "_view_name": "LayoutView",
            "align_content": null,
            "align_items": null,
            "align_self": null,
            "border": null,
            "bottom": null,
            "display": null,
            "flex": null,
            "flex_flow": null,
            "grid_area": null,
            "grid_auto_columns": null,
            "grid_auto_flow": null,
            "grid_auto_rows": null,
            "grid_column": null,
            "grid_gap": null,
            "grid_row": null,
            "grid_template_areas": null,
            "grid_template_columns": null,
            "grid_template_rows": null,
            "height": null,
            "justify_content": null,
            "justify_items": null,
            "left": null,
            "margin": null,
            "max_height": null,
            "max_width": null,
            "min_height": null,
            "min_width": null,
            "object_fit": null,
            "object_position": null,
            "order": null,
            "overflow": null,
            "overflow_x": null,
            "overflow_y": null,
            "padding": null,
            "right": null,
            "top": null,
            "visibility": null,
            "width": null
          }
        },
        "a764fc465b654e12967b96197642f16a": {
          "model_module": "@jupyter-widgets/controls",
          "model_module_version": "1.5.0",
          "model_name": "HTMLModel",
          "state": {
            "_dom_classes": [],
            "_model_module": "@jupyter-widgets/controls",
            "_model_module_version": "1.5.0",
            "_model_name": "HTMLModel",
            "_view_count": null,
            "_view_module": "@jupyter-widgets/controls",
            "_view_module_version": "1.5.0",
            "_view_name": "HTMLView",
            "description": "",
            "description_tooltip": null,
            "layout": "IPY_MODEL_6f160ac000164de0877555c91c23118e",
            "placeholder": "​",
            "style": "IPY_MODEL_120de88150f64bb4a0ba23b0ce830050",
            "value": "100%"
          }
        },
        "a8f858396ea44fb3a522b65673aa493c": {
          "model_module": "@jupyter-widgets/controls",
          "model_module_version": "1.5.0",
          "model_name": "HTMLModel",
          "state": {
            "_dom_classes": [],
            "_model_module": "@jupyter-widgets/controls",
            "_model_module_version": "1.5.0",
            "_model_name": "HTMLModel",
            "_view_count": null,
            "_view_module": "@jupyter-widgets/controls",
            "_view_module_version": "1.5.0",
            "_view_name": "HTMLView",
            "description": "",
            "description_tooltip": null,
            "layout": "IPY_MODEL_3f7401e3a8124514ad6ea7e0383c8f00",
            "placeholder": "​",
            "style": "IPY_MODEL_32956eb7158249feb08c5c4475ae6320",
            "value": " 200/200 [1:26:30&lt;00:00, 25.01s/it]"
          }
        },
        "aff4eff612714b61b3884210b26e3a76": {
          "model_module": "@jupyter-widgets/controls",
          "model_module_version": "1.5.0",
          "model_name": "HTMLModel",
          "state": {
            "_dom_classes": [],
            "_model_module": "@jupyter-widgets/controls",
            "_model_module_version": "1.5.0",
            "_model_name": "HTMLModel",
            "_view_count": null,
            "_view_module": "@jupyter-widgets/controls",
            "_view_module_version": "1.5.0",
            "_view_name": "HTMLView",
            "description": "",
            "description_tooltip": null,
            "layout": "IPY_MODEL_db4ded0618b14681b9d4fa8785b90c95",
            "placeholder": "​",
            "style": "IPY_MODEL_b72627d0017f4f1393ecb2f268ec084b",
            "value": "100%"
          }
        },
        "b72627d0017f4f1393ecb2f268ec084b": {
          "model_module": "@jupyter-widgets/controls",
          "model_module_version": "1.5.0",
          "model_name": "DescriptionStyleModel",
          "state": {
            "_model_module": "@jupyter-widgets/controls",
            "_model_module_version": "1.5.0",
            "_model_name": "DescriptionStyleModel",
            "_view_count": null,
            "_view_module": "@jupyter-widgets/base",
            "_view_module_version": "1.2.0",
            "_view_name": "StyleView",
            "description_width": ""
          }
        },
        "b9d1d768342143959f8feb6e0bfeca99": {
          "model_module": "@jupyter-widgets/controls",
          "model_module_version": "1.5.0",
          "model_name": "ProgressStyleModel",
          "state": {
            "_model_module": "@jupyter-widgets/controls",
            "_model_module_version": "1.5.0",
            "_model_name": "ProgressStyleModel",
            "_view_count": null,
            "_view_module": "@jupyter-widgets/base",
            "_view_module_version": "1.2.0",
            "_view_name": "StyleView",
            "bar_color": null,
            "description_width": ""
          }
        },
        "bb30a6b8633a4d059a521d56f6b6420a": {
          "model_module": "@jupyter-widgets/controls",
          "model_module_version": "1.5.0",
          "model_name": "FloatProgressModel",
          "state": {
            "_dom_classes": [],
            "_model_module": "@jupyter-widgets/controls",
            "_model_module_version": "1.5.0",
            "_model_name": "FloatProgressModel",
            "_view_count": null,
            "_view_module": "@jupyter-widgets/controls",
            "_view_module_version": "1.5.0",
            "_view_name": "ProgressView",
            "bar_style": "success",
            "description": "",
            "description_tooltip": null,
            "layout": "IPY_MODEL_f0a5342b3fac495c8c5741bee2b3446d",
            "max": 200,
            "min": 0,
            "orientation": "horizontal",
            "style": "IPY_MODEL_e3da52be22a54efa836ad6018ede61fa",
            "value": 200
          }
        },
        "c9cee9a5e52c4dfba0141c346e736fd4": {
          "model_module": "@jupyter-widgets/controls",
          "model_module_version": "1.5.0",
          "model_name": "DescriptionStyleModel",
          "state": {
            "_model_module": "@jupyter-widgets/controls",
            "_model_module_version": "1.5.0",
            "_model_name": "DescriptionStyleModel",
            "_view_count": null,
            "_view_module": "@jupyter-widgets/base",
            "_view_module_version": "1.2.0",
            "_view_name": "StyleView",
            "description_width": ""
          }
        },
        "d0b208db45394d169b5ec7cfe157c642": {
          "model_module": "@jupyter-widgets/base",
          "model_module_version": "1.2.0",
          "model_name": "LayoutModel",
          "state": {
            "_model_module": "@jupyter-widgets/base",
            "_model_module_version": "1.2.0",
            "_model_name": "LayoutModel",
            "_view_count": null,
            "_view_module": "@jupyter-widgets/base",
            "_view_module_version": "1.2.0",
            "_view_name": "LayoutView",
            "align_content": null,
            "align_items": null,
            "align_self": null,
            "border": null,
            "bottom": null,
            "display": null,
            "flex": null,
            "flex_flow": null,
            "grid_area": null,
            "grid_auto_columns": null,
            "grid_auto_flow": null,
            "grid_auto_rows": null,
            "grid_column": null,
            "grid_gap": null,
            "grid_row": null,
            "grid_template_areas": null,
            "grid_template_columns": null,
            "grid_template_rows": null,
            "height": null,
            "justify_content": null,
            "justify_items": null,
            "left": null,
            "margin": null,
            "max_height": null,
            "max_width": null,
            "min_height": null,
            "min_width": null,
            "object_fit": null,
            "object_position": null,
            "order": null,
            "overflow": null,
            "overflow_x": null,
            "overflow_y": null,
            "padding": null,
            "right": null,
            "top": null,
            "visibility": null,
            "width": null
          }
        },
        "db4ded0618b14681b9d4fa8785b90c95": {
          "model_module": "@jupyter-widgets/base",
          "model_module_version": "1.2.0",
          "model_name": "LayoutModel",
          "state": {
            "_model_module": "@jupyter-widgets/base",
            "_model_module_version": "1.2.0",
            "_model_name": "LayoutModel",
            "_view_count": null,
            "_view_module": "@jupyter-widgets/base",
            "_view_module_version": "1.2.0",
            "_view_name": "LayoutView",
            "align_content": null,
            "align_items": null,
            "align_self": null,
            "border": null,
            "bottom": null,
            "display": null,
            "flex": null,
            "flex_flow": null,
            "grid_area": null,
            "grid_auto_columns": null,
            "grid_auto_flow": null,
            "grid_auto_rows": null,
            "grid_column": null,
            "grid_gap": null,
            "grid_row": null,
            "grid_template_areas": null,
            "grid_template_columns": null,
            "grid_template_rows": null,
            "height": null,
            "justify_content": null,
            "justify_items": null,
            "left": null,
            "margin": null,
            "max_height": null,
            "max_width": null,
            "min_height": null,
            "min_width": null,
            "object_fit": null,
            "object_position": null,
            "order": null,
            "overflow": null,
            "overflow_x": null,
            "overflow_y": null,
            "padding": null,
            "right": null,
            "top": null,
            "visibility": null,
            "width": null
          }
        },
        "db7404b7a6174dbeb05334014eebe886": {
          "model_module": "@jupyter-widgets/controls",
          "model_module_version": "1.5.0",
          "model_name": "HBoxModel",
          "state": {
            "_dom_classes": [],
            "_model_module": "@jupyter-widgets/controls",
            "_model_module_version": "1.5.0",
            "_model_name": "HBoxModel",
            "_view_count": null,
            "_view_module": "@jupyter-widgets/controls",
            "_view_module_version": "1.5.0",
            "_view_name": "HBoxView",
            "box_style": "",
            "children": [
              "IPY_MODEL_a764fc465b654e12967b96197642f16a",
              "IPY_MODEL_bb30a6b8633a4d059a521d56f6b6420a",
              "IPY_MODEL_a8f858396ea44fb3a522b65673aa493c"
            ],
            "layout": "IPY_MODEL_7dbdefa2cef645918270473094868340"
          }
        },
        "e3da52be22a54efa836ad6018ede61fa": {
          "model_module": "@jupyter-widgets/controls",
          "model_module_version": "1.5.0",
          "model_name": "ProgressStyleModel",
          "state": {
            "_model_module": "@jupyter-widgets/controls",
            "_model_module_version": "1.5.0",
            "_model_name": "ProgressStyleModel",
            "_view_count": null,
            "_view_module": "@jupyter-widgets/base",
            "_view_module_version": "1.2.0",
            "_view_name": "StyleView",
            "bar_color": null,
            "description_width": ""
          }
        },
        "f0a5342b3fac495c8c5741bee2b3446d": {
          "model_module": "@jupyter-widgets/base",
          "model_module_version": "1.2.0",
          "model_name": "LayoutModel",
          "state": {
            "_model_module": "@jupyter-widgets/base",
            "_model_module_version": "1.2.0",
            "_model_name": "LayoutModel",
            "_view_count": null,
            "_view_module": "@jupyter-widgets/base",
            "_view_module_version": "1.2.0",
            "_view_name": "LayoutView",
            "align_content": null,
            "align_items": null,
            "align_self": null,
            "border": null,
            "bottom": null,
            "display": null,
            "flex": null,
            "flex_flow": null,
            "grid_area": null,
            "grid_auto_columns": null,
            "grid_auto_flow": null,
            "grid_auto_rows": null,
            "grid_column": null,
            "grid_gap": null,
            "grid_row": null,
            "grid_template_areas": null,
            "grid_template_columns": null,
            "grid_template_rows": null,
            "height": null,
            "justify_content": null,
            "justify_items": null,
            "left": null,
            "margin": null,
            "max_height": null,
            "max_width": null,
            "min_height": null,
            "min_width": null,
            "object_fit": null,
            "object_position": null,
            "order": null,
            "overflow": null,
            "overflow_x": null,
            "overflow_y": null,
            "padding": null,
            "right": null,
            "top": null,
            "visibility": null,
            "width": null
          }
        },
        "f725f0def8af43919ae8770d9e2929c0": {
          "model_module": "@jupyter-widgets/base",
          "model_module_version": "1.2.0",
          "model_name": "LayoutModel",
          "state": {
            "_model_module": "@jupyter-widgets/base",
            "_model_module_version": "1.2.0",
            "_model_name": "LayoutModel",
            "_view_count": null,
            "_view_module": "@jupyter-widgets/base",
            "_view_module_version": "1.2.0",
            "_view_name": "LayoutView",
            "align_content": null,
            "align_items": null,
            "align_self": null,
            "border": null,
            "bottom": null,
            "display": null,
            "flex": null,
            "flex_flow": null,
            "grid_area": null,
            "grid_auto_columns": null,
            "grid_auto_flow": null,
            "grid_auto_rows": null,
            "grid_column": null,
            "grid_gap": null,
            "grid_row": null,
            "grid_template_areas": null,
            "grid_template_columns": null,
            "grid_template_rows": null,
            "height": null,
            "justify_content": null,
            "justify_items": null,
            "left": null,
            "margin": null,
            "max_height": null,
            "max_width": null,
            "min_height": null,
            "min_width": null,
            "object_fit": null,
            "object_position": null,
            "order": null,
            "overflow": null,
            "overflow_x": null,
            "overflow_y": null,
            "padding": null,
            "right": null,
            "top": null,
            "visibility": null,
            "width": null
          }
        },
        "f745b361e40c4d998910b4379cb75259": {
          "model_module": "@jupyter-widgets/controls",
          "model_module_version": "1.5.0",
          "model_name": "HTMLModel",
          "state": {
            "_dom_classes": [],
            "_model_module": "@jupyter-widgets/controls",
            "_model_module_version": "1.5.0",
            "_model_name": "HTMLModel",
            "_view_count": null,
            "_view_module": "@jupyter-widgets/controls",
            "_view_module_version": "1.5.0",
            "_view_name": "HTMLView",
            "description": "",
            "description_tooltip": null,
            "layout": "IPY_MODEL_6970a96091ed4c588fc493b782baab47",
            "placeholder": "​",
            "style": "IPY_MODEL_93353374d82040418cc87b9f82cc1fd6",
            "value": " 200/200 [47:45&lt;00:00,  6.89s/it]"
          }
        },
        "fc70d38f60534ccbbea5502412aaa8a8": {
          "model_module": "@jupyter-widgets/controls",
          "model_module_version": "1.5.0",
          "model_name": "ProgressStyleModel",
          "state": {
            "_model_module": "@jupyter-widgets/controls",
            "_model_module_version": "1.5.0",
            "_model_name": "ProgressStyleModel",
            "_view_count": null,
            "_view_module": "@jupyter-widgets/base",
            "_view_module_version": "1.2.0",
            "_view_name": "StyleView",
            "bar_color": null,
            "description_width": ""
          }
        },
        "fc72072e8bce485094335919f9800fec": {
          "model_module": "@jupyter-widgets/controls",
          "model_module_version": "1.5.0",
          "model_name": "HBoxModel",
          "state": {
            "_dom_classes": [],
            "_model_module": "@jupyter-widgets/controls",
            "_model_module_version": "1.5.0",
            "_model_name": "HBoxModel",
            "_view_count": null,
            "_view_module": "@jupyter-widgets/controls",
            "_view_module_version": "1.5.0",
            "_view_name": "HBoxView",
            "box_style": "",
            "children": [
              "IPY_MODEL_aff4eff612714b61b3884210b26e3a76",
              "IPY_MODEL_fcb94376b8844adf84ea8d155f83e566",
              "IPY_MODEL_63a242860cc5412abba3cf8b5c9da9e0"
            ],
            "layout": "IPY_MODEL_5dc1d16a95984c1d95c696cfc593d54c"
          }
        },
        "fcb94376b8844adf84ea8d155f83e566": {
          "model_module": "@jupyter-widgets/controls",
          "model_module_version": "1.5.0",
          "model_name": "FloatProgressModel",
          "state": {
            "_dom_classes": [],
            "_model_module": "@jupyter-widgets/controls",
            "_model_module_version": "1.5.0",
            "_model_name": "FloatProgressModel",
            "_view_count": null,
            "_view_module": "@jupyter-widgets/controls",
            "_view_module_version": "1.5.0",
            "_view_name": "ProgressView",
            "bar_style": "success",
            "description": "",
            "description_tooltip": null,
            "layout": "IPY_MODEL_d0b208db45394d169b5ec7cfe157c642",
            "max": 100,
            "min": 0,
            "orientation": "horizontal",
            "style": "IPY_MODEL_fc70d38f60534ccbbea5502412aaa8a8",
            "value": 100
          }
        },
        "a1e1f1d2e1804ac6ad8d113e85a140bb": {
          "model_module": "@jupyter-widgets/controls",
          "model_name": "HBoxModel",
          "model_module_version": "1.5.0",
          "state": {
            "_dom_classes": [],
            "_model_module": "@jupyter-widgets/controls",
            "_model_module_version": "1.5.0",
            "_model_name": "HBoxModel",
            "_view_count": null,
            "_view_module": "@jupyter-widgets/controls",
            "_view_module_version": "1.5.0",
            "_view_name": "HBoxView",
            "box_style": "",
            "children": [
              "IPY_MODEL_9154896f13cc4a82a5c37cf6604ddde7",
              "IPY_MODEL_43aa720f40d8410f90a44f4f8d6b5f53",
              "IPY_MODEL_a38d9c0b376145d49aec80d4e936df82"
            ],
            "layout": "IPY_MODEL_0110578bc9f94b51898b8edd6807c315"
          }
        },
        "9154896f13cc4a82a5c37cf6604ddde7": {
          "model_module": "@jupyter-widgets/controls",
          "model_name": "HTMLModel",
          "model_module_version": "1.5.0",
          "state": {
            "_dom_classes": [],
            "_model_module": "@jupyter-widgets/controls",
            "_model_module_version": "1.5.0",
            "_model_name": "HTMLModel",
            "_view_count": null,
            "_view_module": "@jupyter-widgets/controls",
            "_view_module_version": "1.5.0",
            "_view_name": "HTMLView",
            "description": "",
            "description_tooltip": null,
            "layout": "IPY_MODEL_b57b366155d9493a96a776d831ba48de",
            "placeholder": "​",
            "style": "IPY_MODEL_1ebe47a3422d4a368a3f582b75827f1b",
            "value": "100%"
          }
        },
        "43aa720f40d8410f90a44f4f8d6b5f53": {
          "model_module": "@jupyter-widgets/controls",
          "model_name": "FloatProgressModel",
          "model_module_version": "1.5.0",
          "state": {
            "_dom_classes": [],
            "_model_module": "@jupyter-widgets/controls",
            "_model_module_version": "1.5.0",
            "_model_name": "FloatProgressModel",
            "_view_count": null,
            "_view_module": "@jupyter-widgets/controls",
            "_view_module_version": "1.5.0",
            "_view_name": "ProgressView",
            "bar_style": "success",
            "description": "",
            "description_tooltip": null,
            "layout": "IPY_MODEL_b46674577c2f4e8598464fc322b2dc26",
            "max": 200,
            "min": 0,
            "orientation": "horizontal",
            "style": "IPY_MODEL_15ffffc9bbfc486d825d2bc6f2f3a0be",
            "value": 200
          }
        },
        "a38d9c0b376145d49aec80d4e936df82": {
          "model_module": "@jupyter-widgets/controls",
          "model_name": "HTMLModel",
          "model_module_version": "1.5.0",
          "state": {
            "_dom_classes": [],
            "_model_module": "@jupyter-widgets/controls",
            "_model_module_version": "1.5.0",
            "_model_name": "HTMLModel",
            "_view_count": null,
            "_view_module": "@jupyter-widgets/controls",
            "_view_module_version": "1.5.0",
            "_view_name": "HTMLView",
            "description": "",
            "description_tooltip": null,
            "layout": "IPY_MODEL_7c119b8b3e944f448b1db58dd0ebcf50",
            "placeholder": "​",
            "style": "IPY_MODEL_844f7d548e8f4803a301f5bba4e94793",
            "value": " 200/200 [46:29&lt;00:00,  6.02s/it]"
          }
        },
        "0110578bc9f94b51898b8edd6807c315": {
          "model_module": "@jupyter-widgets/base",
          "model_name": "LayoutModel",
          "model_module_version": "1.2.0",
          "state": {
            "_model_module": "@jupyter-widgets/base",
            "_model_module_version": "1.2.0",
            "_model_name": "LayoutModel",
            "_view_count": null,
            "_view_module": "@jupyter-widgets/base",
            "_view_module_version": "1.2.0",
            "_view_name": "LayoutView",
            "align_content": null,
            "align_items": null,
            "align_self": null,
            "border": null,
            "bottom": null,
            "display": null,
            "flex": null,
            "flex_flow": null,
            "grid_area": null,
            "grid_auto_columns": null,
            "grid_auto_flow": null,
            "grid_auto_rows": null,
            "grid_column": null,
            "grid_gap": null,
            "grid_row": null,
            "grid_template_areas": null,
            "grid_template_columns": null,
            "grid_template_rows": null,
            "height": null,
            "justify_content": null,
            "justify_items": null,
            "left": null,
            "margin": null,
            "max_height": null,
            "max_width": null,
            "min_height": null,
            "min_width": null,
            "object_fit": null,
            "object_position": null,
            "order": null,
            "overflow": null,
            "overflow_x": null,
            "overflow_y": null,
            "padding": null,
            "right": null,
            "top": null,
            "visibility": null,
            "width": null
          }
        },
        "b57b366155d9493a96a776d831ba48de": {
          "model_module": "@jupyter-widgets/base",
          "model_name": "LayoutModel",
          "model_module_version": "1.2.0",
          "state": {
            "_model_module": "@jupyter-widgets/base",
            "_model_module_version": "1.2.0",
            "_model_name": "LayoutModel",
            "_view_count": null,
            "_view_module": "@jupyter-widgets/base",
            "_view_module_version": "1.2.0",
            "_view_name": "LayoutView",
            "align_content": null,
            "align_items": null,
            "align_self": null,
            "border": null,
            "bottom": null,
            "display": null,
            "flex": null,
            "flex_flow": null,
            "grid_area": null,
            "grid_auto_columns": null,
            "grid_auto_flow": null,
            "grid_auto_rows": null,
            "grid_column": null,
            "grid_gap": null,
            "grid_row": null,
            "grid_template_areas": null,
            "grid_template_columns": null,
            "grid_template_rows": null,
            "height": null,
            "justify_content": null,
            "justify_items": null,
            "left": null,
            "margin": null,
            "max_height": null,
            "max_width": null,
            "min_height": null,
            "min_width": null,
            "object_fit": null,
            "object_position": null,
            "order": null,
            "overflow": null,
            "overflow_x": null,
            "overflow_y": null,
            "padding": null,
            "right": null,
            "top": null,
            "visibility": null,
            "width": null
          }
        },
        "1ebe47a3422d4a368a3f582b75827f1b": {
          "model_module": "@jupyter-widgets/controls",
          "model_name": "DescriptionStyleModel",
          "model_module_version": "1.5.0",
          "state": {
            "_model_module": "@jupyter-widgets/controls",
            "_model_module_version": "1.5.0",
            "_model_name": "DescriptionStyleModel",
            "_view_count": null,
            "_view_module": "@jupyter-widgets/base",
            "_view_module_version": "1.2.0",
            "_view_name": "StyleView",
            "description_width": ""
          }
        },
        "b46674577c2f4e8598464fc322b2dc26": {
          "model_module": "@jupyter-widgets/base",
          "model_name": "LayoutModel",
          "model_module_version": "1.2.0",
          "state": {
            "_model_module": "@jupyter-widgets/base",
            "_model_module_version": "1.2.0",
            "_model_name": "LayoutModel",
            "_view_count": null,
            "_view_module": "@jupyter-widgets/base",
            "_view_module_version": "1.2.0",
            "_view_name": "LayoutView",
            "align_content": null,
            "align_items": null,
            "align_self": null,
            "border": null,
            "bottom": null,
            "display": null,
            "flex": null,
            "flex_flow": null,
            "grid_area": null,
            "grid_auto_columns": null,
            "grid_auto_flow": null,
            "grid_auto_rows": null,
            "grid_column": null,
            "grid_gap": null,
            "grid_row": null,
            "grid_template_areas": null,
            "grid_template_columns": null,
            "grid_template_rows": null,
            "height": null,
            "justify_content": null,
            "justify_items": null,
            "left": null,
            "margin": null,
            "max_height": null,
            "max_width": null,
            "min_height": null,
            "min_width": null,
            "object_fit": null,
            "object_position": null,
            "order": null,
            "overflow": null,
            "overflow_x": null,
            "overflow_y": null,
            "padding": null,
            "right": null,
            "top": null,
            "visibility": null,
            "width": null
          }
        },
        "15ffffc9bbfc486d825d2bc6f2f3a0be": {
          "model_module": "@jupyter-widgets/controls",
          "model_name": "ProgressStyleModel",
          "model_module_version": "1.5.0",
          "state": {
            "_model_module": "@jupyter-widgets/controls",
            "_model_module_version": "1.5.0",
            "_model_name": "ProgressStyleModel",
            "_view_count": null,
            "_view_module": "@jupyter-widgets/base",
            "_view_module_version": "1.2.0",
            "_view_name": "StyleView",
            "bar_color": null,
            "description_width": ""
          }
        },
        "7c119b8b3e944f448b1db58dd0ebcf50": {
          "model_module": "@jupyter-widgets/base",
          "model_name": "LayoutModel",
          "model_module_version": "1.2.0",
          "state": {
            "_model_module": "@jupyter-widgets/base",
            "_model_module_version": "1.2.0",
            "_model_name": "LayoutModel",
            "_view_count": null,
            "_view_module": "@jupyter-widgets/base",
            "_view_module_version": "1.2.0",
            "_view_name": "LayoutView",
            "align_content": null,
            "align_items": null,
            "align_self": null,
            "border": null,
            "bottom": null,
            "display": null,
            "flex": null,
            "flex_flow": null,
            "grid_area": null,
            "grid_auto_columns": null,
            "grid_auto_flow": null,
            "grid_auto_rows": null,
            "grid_column": null,
            "grid_gap": null,
            "grid_row": null,
            "grid_template_areas": null,
            "grid_template_columns": null,
            "grid_template_rows": null,
            "height": null,
            "justify_content": null,
            "justify_items": null,
            "left": null,
            "margin": null,
            "max_height": null,
            "max_width": null,
            "min_height": null,
            "min_width": null,
            "object_fit": null,
            "object_position": null,
            "order": null,
            "overflow": null,
            "overflow_x": null,
            "overflow_y": null,
            "padding": null,
            "right": null,
            "top": null,
            "visibility": null,
            "width": null
          }
        },
        "844f7d548e8f4803a301f5bba4e94793": {
          "model_module": "@jupyter-widgets/controls",
          "model_name": "DescriptionStyleModel",
          "model_module_version": "1.5.0",
          "state": {
            "_model_module": "@jupyter-widgets/controls",
            "_model_module_version": "1.5.0",
            "_model_name": "DescriptionStyleModel",
            "_view_count": null,
            "_view_module": "@jupyter-widgets/base",
            "_view_module_version": "1.2.0",
            "_view_name": "StyleView",
            "description_width": ""
          }
        },
        "bd57c440f9e0405588bb3932218a3431": {
          "model_module": "@jupyter-widgets/controls",
          "model_name": "HBoxModel",
          "model_module_version": "1.5.0",
          "state": {
            "_dom_classes": [],
            "_model_module": "@jupyter-widgets/controls",
            "_model_module_version": "1.5.0",
            "_model_name": "HBoxModel",
            "_view_count": null,
            "_view_module": "@jupyter-widgets/controls",
            "_view_module_version": "1.5.0",
            "_view_name": "HBoxView",
            "box_style": "",
            "children": [
              "IPY_MODEL_00553abdad264ac99b1032d581967d5e",
              "IPY_MODEL_bfcc59967083489897a3e1c7261b5e35",
              "IPY_MODEL_1a9447f52e3f4914a8268056fcbb5d1d"
            ],
            "layout": "IPY_MODEL_14403f00f3f44d6aa31f72506d1419ae"
          }
        },
        "00553abdad264ac99b1032d581967d5e": {
          "model_module": "@jupyter-widgets/controls",
          "model_name": "HTMLModel",
          "model_module_version": "1.5.0",
          "state": {
            "_dom_classes": [],
            "_model_module": "@jupyter-widgets/controls",
            "_model_module_version": "1.5.0",
            "_model_name": "HTMLModel",
            "_view_count": null,
            "_view_module": "@jupyter-widgets/controls",
            "_view_module_version": "1.5.0",
            "_view_name": "HTMLView",
            "description": "",
            "description_tooltip": null,
            "layout": "IPY_MODEL_e896800f2a624b8188117ceff88b4e03",
            "placeholder": "​",
            "style": "IPY_MODEL_72213d18b0eb47198928ec00961c8ff4",
            "value": "  2%"
          }
        },
        "bfcc59967083489897a3e1c7261b5e35": {
          "model_module": "@jupyter-widgets/controls",
          "model_name": "FloatProgressModel",
          "model_module_version": "1.5.0",
          "state": {
            "_dom_classes": [],
            "_model_module": "@jupyter-widgets/controls",
            "_model_module_version": "1.5.0",
            "_model_name": "FloatProgressModel",
            "_view_count": null,
            "_view_module": "@jupyter-widgets/controls",
            "_view_module_version": "1.5.0",
            "_view_name": "ProgressView",
            "bar_style": "",
            "description": "",
            "description_tooltip": null,
            "layout": "IPY_MODEL_1642b387ced14578a0033949a6afe5cc",
            "max": 50,
            "min": 0,
            "orientation": "horizontal",
            "style": "IPY_MODEL_4985926ab64c48b89d46710c8b42e58a",
            "value": 1
          }
        },
        "1a9447f52e3f4914a8268056fcbb5d1d": {
          "model_module": "@jupyter-widgets/controls",
          "model_name": "HTMLModel",
          "model_module_version": "1.5.0",
          "state": {
            "_dom_classes": [],
            "_model_module": "@jupyter-widgets/controls",
            "_model_module_version": "1.5.0",
            "_model_name": "HTMLModel",
            "_view_count": null,
            "_view_module": "@jupyter-widgets/controls",
            "_view_module_version": "1.5.0",
            "_view_name": "HTMLView",
            "description": "",
            "description_tooltip": null,
            "layout": "IPY_MODEL_18faeac61aac4f20ad954a7be0fbd4e5",
            "placeholder": "​",
            "style": "IPY_MODEL_8f756e2e3e0e4111a07d5d5f3ab48991",
            "value": " 1/50 [02:21&lt;1:55:32, 141.48s/it]"
          }
        },
        "14403f00f3f44d6aa31f72506d1419ae": {
          "model_module": "@jupyter-widgets/base",
          "model_name": "LayoutModel",
          "model_module_version": "1.2.0",
          "state": {
            "_model_module": "@jupyter-widgets/base",
            "_model_module_version": "1.2.0",
            "_model_name": "LayoutModel",
            "_view_count": null,
            "_view_module": "@jupyter-widgets/base",
            "_view_module_version": "1.2.0",
            "_view_name": "LayoutView",
            "align_content": null,
            "align_items": null,
            "align_self": null,
            "border": null,
            "bottom": null,
            "display": null,
            "flex": null,
            "flex_flow": null,
            "grid_area": null,
            "grid_auto_columns": null,
            "grid_auto_flow": null,
            "grid_auto_rows": null,
            "grid_column": null,
            "grid_gap": null,
            "grid_row": null,
            "grid_template_areas": null,
            "grid_template_columns": null,
            "grid_template_rows": null,
            "height": null,
            "justify_content": null,
            "justify_items": null,
            "left": null,
            "margin": null,
            "max_height": null,
            "max_width": null,
            "min_height": null,
            "min_width": null,
            "object_fit": null,
            "object_position": null,
            "order": null,
            "overflow": null,
            "overflow_x": null,
            "overflow_y": null,
            "padding": null,
            "right": null,
            "top": null,
            "visibility": null,
            "width": null
          }
        },
        "e896800f2a624b8188117ceff88b4e03": {
          "model_module": "@jupyter-widgets/base",
          "model_name": "LayoutModel",
          "model_module_version": "1.2.0",
          "state": {
            "_model_module": "@jupyter-widgets/base",
            "_model_module_version": "1.2.0",
            "_model_name": "LayoutModel",
            "_view_count": null,
            "_view_module": "@jupyter-widgets/base",
            "_view_module_version": "1.2.0",
            "_view_name": "LayoutView",
            "align_content": null,
            "align_items": null,
            "align_self": null,
            "border": null,
            "bottom": null,
            "display": null,
            "flex": null,
            "flex_flow": null,
            "grid_area": null,
            "grid_auto_columns": null,
            "grid_auto_flow": null,
            "grid_auto_rows": null,
            "grid_column": null,
            "grid_gap": null,
            "grid_row": null,
            "grid_template_areas": null,
            "grid_template_columns": null,
            "grid_template_rows": null,
            "height": null,
            "justify_content": null,
            "justify_items": null,
            "left": null,
            "margin": null,
            "max_height": null,
            "max_width": null,
            "min_height": null,
            "min_width": null,
            "object_fit": null,
            "object_position": null,
            "order": null,
            "overflow": null,
            "overflow_x": null,
            "overflow_y": null,
            "padding": null,
            "right": null,
            "top": null,
            "visibility": null,
            "width": null
          }
        },
        "72213d18b0eb47198928ec00961c8ff4": {
          "model_module": "@jupyter-widgets/controls",
          "model_name": "DescriptionStyleModel",
          "model_module_version": "1.5.0",
          "state": {
            "_model_module": "@jupyter-widgets/controls",
            "_model_module_version": "1.5.0",
            "_model_name": "DescriptionStyleModel",
            "_view_count": null,
            "_view_module": "@jupyter-widgets/base",
            "_view_module_version": "1.2.0",
            "_view_name": "StyleView",
            "description_width": ""
          }
        },
        "1642b387ced14578a0033949a6afe5cc": {
          "model_module": "@jupyter-widgets/base",
          "model_name": "LayoutModel",
          "model_module_version": "1.2.0",
          "state": {
            "_model_module": "@jupyter-widgets/base",
            "_model_module_version": "1.2.0",
            "_model_name": "LayoutModel",
            "_view_count": null,
            "_view_module": "@jupyter-widgets/base",
            "_view_module_version": "1.2.0",
            "_view_name": "LayoutView",
            "align_content": null,
            "align_items": null,
            "align_self": null,
            "border": null,
            "bottom": null,
            "display": null,
            "flex": null,
            "flex_flow": null,
            "grid_area": null,
            "grid_auto_columns": null,
            "grid_auto_flow": null,
            "grid_auto_rows": null,
            "grid_column": null,
            "grid_gap": null,
            "grid_row": null,
            "grid_template_areas": null,
            "grid_template_columns": null,
            "grid_template_rows": null,
            "height": null,
            "justify_content": null,
            "justify_items": null,
            "left": null,
            "margin": null,
            "max_height": null,
            "max_width": null,
            "min_height": null,
            "min_width": null,
            "object_fit": null,
            "object_position": null,
            "order": null,
            "overflow": null,
            "overflow_x": null,
            "overflow_y": null,
            "padding": null,
            "right": null,
            "top": null,
            "visibility": null,
            "width": null
          }
        },
        "4985926ab64c48b89d46710c8b42e58a": {
          "model_module": "@jupyter-widgets/controls",
          "model_name": "ProgressStyleModel",
          "model_module_version": "1.5.0",
          "state": {
            "_model_module": "@jupyter-widgets/controls",
            "_model_module_version": "1.5.0",
            "_model_name": "ProgressStyleModel",
            "_view_count": null,
            "_view_module": "@jupyter-widgets/base",
            "_view_module_version": "1.2.0",
            "_view_name": "StyleView",
            "bar_color": null,
            "description_width": ""
          }
        },
        "18faeac61aac4f20ad954a7be0fbd4e5": {
          "model_module": "@jupyter-widgets/base",
          "model_name": "LayoutModel",
          "model_module_version": "1.2.0",
          "state": {
            "_model_module": "@jupyter-widgets/base",
            "_model_module_version": "1.2.0",
            "_model_name": "LayoutModel",
            "_view_count": null,
            "_view_module": "@jupyter-widgets/base",
            "_view_module_version": "1.2.0",
            "_view_name": "LayoutView",
            "align_content": null,
            "align_items": null,
            "align_self": null,
            "border": null,
            "bottom": null,
            "display": null,
            "flex": null,
            "flex_flow": null,
            "grid_area": null,
            "grid_auto_columns": null,
            "grid_auto_flow": null,
            "grid_auto_rows": null,
            "grid_column": null,
            "grid_gap": null,
            "grid_row": null,
            "grid_template_areas": null,
            "grid_template_columns": null,
            "grid_template_rows": null,
            "height": null,
            "justify_content": null,
            "justify_items": null,
            "left": null,
            "margin": null,
            "max_height": null,
            "max_width": null,
            "min_height": null,
            "min_width": null,
            "object_fit": null,
            "object_position": null,
            "order": null,
            "overflow": null,
            "overflow_x": null,
            "overflow_y": null,
            "padding": null,
            "right": null,
            "top": null,
            "visibility": null,
            "width": null
          }
        },
        "8f756e2e3e0e4111a07d5d5f3ab48991": {
          "model_module": "@jupyter-widgets/controls",
          "model_name": "DescriptionStyleModel",
          "model_module_version": "1.5.0",
          "state": {
            "_model_module": "@jupyter-widgets/controls",
            "_model_module_version": "1.5.0",
            "_model_name": "DescriptionStyleModel",
            "_view_count": null,
            "_view_module": "@jupyter-widgets/base",
            "_view_module_version": "1.2.0",
            "_view_name": "StyleView",
            "description_width": ""
          }
        },
        "dcbe009f13a24160b6124d3332f69e5b": {
          "model_module": "@jupyter-widgets/controls",
          "model_name": "HBoxModel",
          "model_module_version": "1.5.0",
          "state": {
            "_dom_classes": [],
            "_model_module": "@jupyter-widgets/controls",
            "_model_module_version": "1.5.0",
            "_model_name": "HBoxModel",
            "_view_count": null,
            "_view_module": "@jupyter-widgets/controls",
            "_view_module_version": "1.5.0",
            "_view_name": "HBoxView",
            "box_style": "",
            "children": [
              "IPY_MODEL_5a86e9aeaebc45bc9a7a0d6a4479b48a",
              "IPY_MODEL_deab80fd20f941508f66d85153380d8c",
              "IPY_MODEL_6fdd863807d249a4babac2305c6a3950"
            ],
            "layout": "IPY_MODEL_f73f4cb073794570aa66af8712d95d54"
          }
        },
        "5a86e9aeaebc45bc9a7a0d6a4479b48a": {
          "model_module": "@jupyter-widgets/controls",
          "model_name": "HTMLModel",
          "model_module_version": "1.5.0",
          "state": {
            "_dom_classes": [],
            "_model_module": "@jupyter-widgets/controls",
            "_model_module_version": "1.5.0",
            "_model_name": "HTMLModel",
            "_view_count": null,
            "_view_module": "@jupyter-widgets/controls",
            "_view_module_version": "1.5.0",
            "_view_name": "HTMLView",
            "description": "",
            "description_tooltip": null,
            "layout": "IPY_MODEL_5a182b3ff25142048ee0cf91a3927465",
            "placeholder": "​",
            "style": "IPY_MODEL_d147e80e309e4b839d72929d582b9749",
            "value": "  0%"
          }
        },
        "deab80fd20f941508f66d85153380d8c": {
          "model_module": "@jupyter-widgets/controls",
          "model_name": "FloatProgressModel",
          "model_module_version": "1.5.0",
          "state": {
            "_dom_classes": [],
            "_model_module": "@jupyter-widgets/controls",
            "_model_module_version": "1.5.0",
            "_model_name": "FloatProgressModel",
            "_view_count": null,
            "_view_module": "@jupyter-widgets/controls",
            "_view_module_version": "1.5.0",
            "_view_name": "ProgressView",
            "bar_style": "danger",
            "description": "",
            "description_tooltip": null,
            "layout": "IPY_MODEL_375d0d63b77d455798d8407bbcceb1df",
            "max": 200,
            "min": 0,
            "orientation": "horizontal",
            "style": "IPY_MODEL_ff3b22b675954905b983c1f71e81c02a",
            "value": 0
          }
        },
        "6fdd863807d249a4babac2305c6a3950": {
          "model_module": "@jupyter-widgets/controls",
          "model_name": "HTMLModel",
          "model_module_version": "1.5.0",
          "state": {
            "_dom_classes": [],
            "_model_module": "@jupyter-widgets/controls",
            "_model_module_version": "1.5.0",
            "_model_name": "HTMLModel",
            "_view_count": null,
            "_view_module": "@jupyter-widgets/controls",
            "_view_module_version": "1.5.0",
            "_view_name": "HTMLView",
            "description": "",
            "description_tooltip": null,
            "layout": "IPY_MODEL_e0463d43ca1d404bad7d5f9ecacf2417",
            "placeholder": "​",
            "style": "IPY_MODEL_bf85f4887e57499bb9fb4d65d103b96d",
            "value": " 0/200 [06:50&lt;?, ?it/s]"
          }
        },
        "f73f4cb073794570aa66af8712d95d54": {
          "model_module": "@jupyter-widgets/base",
          "model_name": "LayoutModel",
          "model_module_version": "1.2.0",
          "state": {
            "_model_module": "@jupyter-widgets/base",
            "_model_module_version": "1.2.0",
            "_model_name": "LayoutModel",
            "_view_count": null,
            "_view_module": "@jupyter-widgets/base",
            "_view_module_version": "1.2.0",
            "_view_name": "LayoutView",
            "align_content": null,
            "align_items": null,
            "align_self": null,
            "border": null,
            "bottom": null,
            "display": null,
            "flex": null,
            "flex_flow": null,
            "grid_area": null,
            "grid_auto_columns": null,
            "grid_auto_flow": null,
            "grid_auto_rows": null,
            "grid_column": null,
            "grid_gap": null,
            "grid_row": null,
            "grid_template_areas": null,
            "grid_template_columns": null,
            "grid_template_rows": null,
            "height": null,
            "justify_content": null,
            "justify_items": null,
            "left": null,
            "margin": null,
            "max_height": null,
            "max_width": null,
            "min_height": null,
            "min_width": null,
            "object_fit": null,
            "object_position": null,
            "order": null,
            "overflow": null,
            "overflow_x": null,
            "overflow_y": null,
            "padding": null,
            "right": null,
            "top": null,
            "visibility": null,
            "width": null
          }
        },
        "5a182b3ff25142048ee0cf91a3927465": {
          "model_module": "@jupyter-widgets/base",
          "model_name": "LayoutModel",
          "model_module_version": "1.2.0",
          "state": {
            "_model_module": "@jupyter-widgets/base",
            "_model_module_version": "1.2.0",
            "_model_name": "LayoutModel",
            "_view_count": null,
            "_view_module": "@jupyter-widgets/base",
            "_view_module_version": "1.2.0",
            "_view_name": "LayoutView",
            "align_content": null,
            "align_items": null,
            "align_self": null,
            "border": null,
            "bottom": null,
            "display": null,
            "flex": null,
            "flex_flow": null,
            "grid_area": null,
            "grid_auto_columns": null,
            "grid_auto_flow": null,
            "grid_auto_rows": null,
            "grid_column": null,
            "grid_gap": null,
            "grid_row": null,
            "grid_template_areas": null,
            "grid_template_columns": null,
            "grid_template_rows": null,
            "height": null,
            "justify_content": null,
            "justify_items": null,
            "left": null,
            "margin": null,
            "max_height": null,
            "max_width": null,
            "min_height": null,
            "min_width": null,
            "object_fit": null,
            "object_position": null,
            "order": null,
            "overflow": null,
            "overflow_x": null,
            "overflow_y": null,
            "padding": null,
            "right": null,
            "top": null,
            "visibility": null,
            "width": null
          }
        },
        "d147e80e309e4b839d72929d582b9749": {
          "model_module": "@jupyter-widgets/controls",
          "model_name": "DescriptionStyleModel",
          "model_module_version": "1.5.0",
          "state": {
            "_model_module": "@jupyter-widgets/controls",
            "_model_module_version": "1.5.0",
            "_model_name": "DescriptionStyleModel",
            "_view_count": null,
            "_view_module": "@jupyter-widgets/base",
            "_view_module_version": "1.2.0",
            "_view_name": "StyleView",
            "description_width": ""
          }
        },
        "375d0d63b77d455798d8407bbcceb1df": {
          "model_module": "@jupyter-widgets/base",
          "model_name": "LayoutModel",
          "model_module_version": "1.2.0",
          "state": {
            "_model_module": "@jupyter-widgets/base",
            "_model_module_version": "1.2.0",
            "_model_name": "LayoutModel",
            "_view_count": null,
            "_view_module": "@jupyter-widgets/base",
            "_view_module_version": "1.2.0",
            "_view_name": "LayoutView",
            "align_content": null,
            "align_items": null,
            "align_self": null,
            "border": null,
            "bottom": null,
            "display": null,
            "flex": null,
            "flex_flow": null,
            "grid_area": null,
            "grid_auto_columns": null,
            "grid_auto_flow": null,
            "grid_auto_rows": null,
            "grid_column": null,
            "grid_gap": null,
            "grid_row": null,
            "grid_template_areas": null,
            "grid_template_columns": null,
            "grid_template_rows": null,
            "height": null,
            "justify_content": null,
            "justify_items": null,
            "left": null,
            "margin": null,
            "max_height": null,
            "max_width": null,
            "min_height": null,
            "min_width": null,
            "object_fit": null,
            "object_position": null,
            "order": null,
            "overflow": null,
            "overflow_x": null,
            "overflow_y": null,
            "padding": null,
            "right": null,
            "top": null,
            "visibility": null,
            "width": null
          }
        },
        "ff3b22b675954905b983c1f71e81c02a": {
          "model_module": "@jupyter-widgets/controls",
          "model_name": "ProgressStyleModel",
          "model_module_version": "1.5.0",
          "state": {
            "_model_module": "@jupyter-widgets/controls",
            "_model_module_version": "1.5.0",
            "_model_name": "ProgressStyleModel",
            "_view_count": null,
            "_view_module": "@jupyter-widgets/base",
            "_view_module_version": "1.2.0",
            "_view_name": "StyleView",
            "bar_color": null,
            "description_width": ""
          }
        },
        "e0463d43ca1d404bad7d5f9ecacf2417": {
          "model_module": "@jupyter-widgets/base",
          "model_name": "LayoutModel",
          "model_module_version": "1.2.0",
          "state": {
            "_model_module": "@jupyter-widgets/base",
            "_model_module_version": "1.2.0",
            "_model_name": "LayoutModel",
            "_view_count": null,
            "_view_module": "@jupyter-widgets/base",
            "_view_module_version": "1.2.0",
            "_view_name": "LayoutView",
            "align_content": null,
            "align_items": null,
            "align_self": null,
            "border": null,
            "bottom": null,
            "display": null,
            "flex": null,
            "flex_flow": null,
            "grid_area": null,
            "grid_auto_columns": null,
            "grid_auto_flow": null,
            "grid_auto_rows": null,
            "grid_column": null,
            "grid_gap": null,
            "grid_row": null,
            "grid_template_areas": null,
            "grid_template_columns": null,
            "grid_template_rows": null,
            "height": null,
            "justify_content": null,
            "justify_items": null,
            "left": null,
            "margin": null,
            "max_height": null,
            "max_width": null,
            "min_height": null,
            "min_width": null,
            "object_fit": null,
            "object_position": null,
            "order": null,
            "overflow": null,
            "overflow_x": null,
            "overflow_y": null,
            "padding": null,
            "right": null,
            "top": null,
            "visibility": null,
            "width": null
          }
        },
        "bf85f4887e57499bb9fb4d65d103b96d": {
          "model_module": "@jupyter-widgets/controls",
          "model_name": "DescriptionStyleModel",
          "model_module_version": "1.5.0",
          "state": {
            "_model_module": "@jupyter-widgets/controls",
            "_model_module_version": "1.5.0",
            "_model_name": "DescriptionStyleModel",
            "_view_count": null,
            "_view_module": "@jupyter-widgets/base",
            "_view_module_version": "1.2.0",
            "_view_name": "StyleView",
            "description_width": ""
          }
        }
      }
    }
  },
  "nbformat": 4,
  "nbformat_minor": 0
}