{
 "cells": [
  {
   "cell_type": "code",
   "execution_count": 1,
   "metadata": {
    "colab": {
     "base_uri": "https://localhost:8080/"
    },
    "executionInfo": {
     "elapsed": 18136,
     "status": "ok",
     "timestamp": 1670638659707,
     "user": {
      "displayName": "Alagar",
      "userId": "18409237732645261754"
     },
     "user_tz": -480
    },
    "id": "Lc0_7UbrzruK",
    "outputId": "b31f64df-9f88-4b60-acba-3da70d43b496"
   },
   "outputs": [
    {
     "name": "stdout",
     "output_type": "stream",
     "text": [
      "Requirement already satisfied: rdkit in /Users/kristianespina/opt/anaconda3/lib/python3.9/site-packages (2022.9.3)\n",
      "Requirement already satisfied: mordred in /Users/kristianespina/opt/anaconda3/lib/python3.9/site-packages (1.2.0)\n",
      "Requirement already satisfied: Pillow in /Users/kristianespina/opt/anaconda3/lib/python3.9/site-packages (from rdkit) (9.2.0)\n",
      "Requirement already satisfied: numpy in /Users/kristianespina/opt/anaconda3/lib/python3.9/site-packages (from rdkit) (1.21.5)\n",
      "Requirement already satisfied: networkx==2.* in /Users/kristianespina/opt/anaconda3/lib/python3.9/site-packages (from mordred) (2.8.4)\n",
      "Requirement already satisfied: six==1.* in /Users/kristianespina/opt/anaconda3/lib/python3.9/site-packages (from mordred) (1.16.0)\n"
     ]
    }
   ],
   "source": [
    "!pip install rdkit mordred"
   ]
  },
  {
   "cell_type": "code",
   "execution_count": 2,
   "metadata": {
    "executionInfo": {
     "elapsed": 1006,
     "status": "ok",
     "timestamp": 1670638670764,
     "user": {
      "displayName": "Alagar",
      "userId": "18409237732645261754"
     },
     "user_tz": -480
    },
    "id": "VILL9P9LzmJu"
   },
   "outputs": [],
   "source": [
    "import pandas as pd\n",
    "import numpy as np\n",
    "from rdkit import Chem\n",
    "from mordred import Calculator, descriptors\n",
    "import warnings\n",
    "warnings.filterwarnings('ignore') # To suppress runtime and deprication warnings. \n"
   ]
  },
  {
   "cell_type": "markdown",
   "metadata": {
    "id": "YJutgi417gZe"
   },
   "source": [
    "# Feature Calculation"
   ]
  },
  {
   "cell_type": "markdown",
   "metadata": {
    "id": "26x1UpaP1Sbc"
   },
   "source": [
    "from https://github.com/rohitfarmer/bittersweet/blob/master/notebooks/feature-calculation-mordred.ipynb"
   ]
  },
  {
   "cell_type": "code",
   "execution_count": 81,
   "metadata": {
    "executionInfo": {
     "elapsed": 426,
     "status": "ok",
     "timestamp": 1670638936076,
     "user": {
      "displayName": "Alagar",
      "userId": "18409237732645261754"
     },
     "user_tz": -480
    },
    "id": "RgxIo8T70wGz"
   },
   "outputs": [],
   "source": [
    "df_sweet_train = pd.read_csv('data/sweet-train.tsv', sep='\\t')[['Name','SMILES','Reference','Sweet']]\n",
    "df_sweet_test = pd.read_csv('data/sweet-test.tsv', sep='\\t')[['Name','SMILES','Reference','Sweet']]\n",
    "df_bitter_train = pd.read_csv('data/bitter-train.tsv', sep='\\t')[['Name','SMILES','Reference','Bitter']]\n",
    "df_bitter_test = pd.read_csv('data/bitter-test.tsv', sep='\\t')[['Name','SMILES','Reference','Bitter']]\n",
    "\n",
    "# Concatenate train and test set\n",
    "# df_sweet = pd.concat([sweet_train[['Name','SMILES','Sweet']], sweet_test[['Name','SMILES','Sweet']] ])\n",
    "# df_bitter = pd.concat([bitter_train[['Name','SMILES','Bitter']], bitter_test[['Name','SMILES','Bitter']] ])\n",
    "\n",
    "\n",
    "# Rename taste column as Target.\n",
    "df_sweet_train.rename(columns={'Sweet':'Target'}, inplace=True)\n",
    "df_sweet_test.rename(columns={'Sweet':'Target'}, inplace=True)\n",
    "df_bitter_train.rename(columns={'Bitter':'Target'}, inplace=True)\n",
    "df_bitter_test.rename(columns={'Bitter':'Target'}, inplace=True)"
   ]
  },
  {
   "cell_type": "code",
   "execution_count": 83,
   "metadata": {},
   "outputs": [
    {
     "data": {
      "text/plain": [
       "BitterDB                                                            592\n",
       "Rojas et al. (2017)                                                 486\n",
       "Fenaroli’s Handbook of Flavor Ingredient                            462\n",
       "The Good Scents Company Database                                    201\n",
       "SuperSweet                                                          198\n",
       "ToxNet                                                               72\n",
       "Biochemical Targets of Plant Bioactive Compounds by Gideon Polya     71\n",
       "Wiener et al. (2017) - Phyto-Dictionary                              51\n",
       "Rodgers et al. (2006)                                                29\n",
       "Wiener et al. (2017) - Bitter-New                                    25\n",
       "Wiener et al. (2017) - UNIMI                                         18\n",
       "Name: Reference, dtype: int64"
      ]
     },
     "execution_count": 83,
     "metadata": {},
     "output_type": "execute_result"
    }
   ],
   "source": [
    "df_sweet_train['Reference'].value_counts()"
   ]
  },
  {
   "cell_type": "code",
   "execution_count": 84,
   "metadata": {},
   "outputs": [
    {
     "data": {
      "text/plain": [
       "Rojas et al. (2017)    161\n",
       "Name: Reference, dtype: int64"
      ]
     },
     "execution_count": 84,
     "metadata": {},
     "output_type": "execute_result"
    }
   ],
   "source": [
    "df_sweet_test['Reference'].value_counts()"
   ]
  },
  {
   "cell_type": "code",
   "execution_count": 85,
   "metadata": {},
   "outputs": [
    {
     "data": {
      "text/plain": [
       "True     1139\n",
       "False    1066\n",
       "Name: Target, dtype: int64"
      ]
     },
     "execution_count": 85,
     "metadata": {},
     "output_type": "execute_result"
    }
   ],
   "source": [
    "df_sweet_train['Target'].value_counts()"
   ]
  },
  {
   "cell_type": "code",
   "execution_count": 86,
   "metadata": {},
   "outputs": [
    {
     "data": {
      "text/plain": [
       "True     108\n",
       "False     53\n",
       "Name: Target, dtype: int64"
      ]
     },
     "execution_count": 86,
     "metadata": {},
     "output_type": "execute_result"
    }
   ],
   "source": [
    "df_sweet_test['Target'].value_counts()"
   ]
  },
  {
   "cell_type": "code",
   "execution_count": 78,
   "metadata": {},
   "outputs": [
    {
     "data": {
      "text/plain": [
       "count      161\n",
       "unique       2\n",
       "top       True\n",
       "freq       108\n",
       "Name: Target, dtype: object"
      ]
     },
     "execution_count": 78,
     "metadata": {},
     "output_type": "execute_result"
    }
   ],
   "source": [
    "df_sweet_test['Target'].describe()"
   ]
  },
  {
   "cell_type": "code",
   "execution_count": 87,
   "metadata": {},
   "outputs": [
    {
     "data": {
      "text/plain": [
       "False    1444\n",
       "True      813\n",
       "Name: Target, dtype: int64"
      ]
     },
     "execution_count": 87,
     "metadata": {},
     "output_type": "execute_result"
    }
   ],
   "source": [
    "df_bitter_train['Target'].value_counts()"
   ]
  },
  {
   "cell_type": "code",
   "execution_count": 90,
   "metadata": {},
   "outputs": [
    {
     "data": {
      "text/plain": [
       "True     105\n",
       "False     66\n",
       "Name: Target, dtype: int64"
      ]
     },
     "execution_count": 90,
     "metadata": {},
     "output_type": "execute_result"
    }
   ],
   "source": [
    "df_bitter_test['Target'].value_counts()"
   ]
  },
  {
   "cell_type": "code",
   "execution_count": 46,
   "metadata": {
    "colab": {
     "base_uri": "https://localhost:8080/",
     "height": 119
    },
    "executionInfo": {
     "elapsed": 414,
     "status": "ok",
     "timestamp": 1670638939392,
     "user": {
      "displayName": "Alagar",
      "userId": "18409237732645261754"
     },
     "user_tz": -480
    },
    "id": "SrhEYcnw0uk7",
    "outputId": "16c58225-4158-453b-cc8d-99b7c49b04e7"
   },
   "outputs": [
    {
     "name": "stdout",
     "output_type": "stream",
     "text": [
      "Name         2105\n",
      "SMILES       2205\n",
      "Reference    2205\n",
      "Target       2205\n",
      "dtype: int64\n"
     ]
    },
    {
     "data": {
      "text/html": [
       "<div>\n",
       "<style scoped>\n",
       "    .dataframe tbody tr th:only-of-type {\n",
       "        vertical-align: middle;\n",
       "    }\n",
       "\n",
       "    .dataframe tbody tr th {\n",
       "        vertical-align: top;\n",
       "    }\n",
       "\n",
       "    .dataframe thead th {\n",
       "        text-align: right;\n",
       "    }\n",
       "</style>\n",
       "<table border=\"1\" class=\"dataframe\">\n",
       "  <thead>\n",
       "    <tr style=\"text-align: right;\">\n",
       "      <th></th>\n",
       "      <th>Name</th>\n",
       "      <th>SMILES</th>\n",
       "      <th>Reference</th>\n",
       "      <th>Target</th>\n",
       "    </tr>\n",
       "  </thead>\n",
       "  <tbody>\n",
       "  </tbody>\n",
       "</table>\n",
       "</div>"
      ],
      "text/plain": [
       "Empty DataFrame\n",
       "Columns: [Name, SMILES, Reference, Target]\n",
       "Index: []"
      ]
     },
     "execution_count": 46,
     "metadata": {},
     "output_type": "execute_result"
    }
   ],
   "source": [
    "print(df_sweet_train.count())\n",
    "df_sweet_train[df_sweet_train['SMILES'].isna()] # check if any of the SMILES is a NaN."
   ]
  },
  {
   "cell_type": "code",
   "execution_count": 47,
   "metadata": {},
   "outputs": [
    {
     "name": "stdout",
     "output_type": "stream",
     "text": [
      "Name         161\n",
      "SMILES       161\n",
      "Reference    161\n",
      "Target       161\n",
      "dtype: int64\n"
     ]
    },
    {
     "data": {
      "text/html": [
       "<div>\n",
       "<style scoped>\n",
       "    .dataframe tbody tr th:only-of-type {\n",
       "        vertical-align: middle;\n",
       "    }\n",
       "\n",
       "    .dataframe tbody tr th {\n",
       "        vertical-align: top;\n",
       "    }\n",
       "\n",
       "    .dataframe thead th {\n",
       "        text-align: right;\n",
       "    }\n",
       "</style>\n",
       "<table border=\"1\" class=\"dataframe\">\n",
       "  <thead>\n",
       "    <tr style=\"text-align: right;\">\n",
       "      <th></th>\n",
       "      <th>Name</th>\n",
       "      <th>SMILES</th>\n",
       "      <th>Reference</th>\n",
       "      <th>Target</th>\n",
       "    </tr>\n",
       "  </thead>\n",
       "  <tbody>\n",
       "  </tbody>\n",
       "</table>\n",
       "</div>"
      ],
      "text/plain": [
       "Empty DataFrame\n",
       "Columns: [Name, SMILES, Reference, Target]\n",
       "Index: []"
      ]
     },
     "execution_count": 47,
     "metadata": {},
     "output_type": "execute_result"
    }
   ],
   "source": [
    "print(df_sweet_test.count())\n",
    "df_sweet_test[df_sweet_test['SMILES'].isna()] # check if any of the SMILES is a NaN."
   ]
  },
  {
   "cell_type": "code",
   "execution_count": 48,
   "metadata": {},
   "outputs": [
    {
     "name": "stdout",
     "output_type": "stream",
     "text": [
      "Name         2176\n",
      "SMILES       2257\n",
      "Reference    2257\n",
      "Target       2257\n",
      "dtype: int64\n"
     ]
    },
    {
     "data": {
      "text/html": [
       "<div>\n",
       "<style scoped>\n",
       "    .dataframe tbody tr th:only-of-type {\n",
       "        vertical-align: middle;\n",
       "    }\n",
       "\n",
       "    .dataframe tbody tr th {\n",
       "        vertical-align: top;\n",
       "    }\n",
       "\n",
       "    .dataframe thead th {\n",
       "        text-align: right;\n",
       "    }\n",
       "</style>\n",
       "<table border=\"1\" class=\"dataframe\">\n",
       "  <thead>\n",
       "    <tr style=\"text-align: right;\">\n",
       "      <th></th>\n",
       "      <th>Name</th>\n",
       "      <th>SMILES</th>\n",
       "      <th>Reference</th>\n",
       "      <th>Target</th>\n",
       "    </tr>\n",
       "  </thead>\n",
       "  <tbody>\n",
       "  </tbody>\n",
       "</table>\n",
       "</div>"
      ],
      "text/plain": [
       "Empty DataFrame\n",
       "Columns: [Name, SMILES, Reference, Target]\n",
       "Index: []"
      ]
     },
     "execution_count": 48,
     "metadata": {},
     "output_type": "execute_result"
    }
   ],
   "source": [
    "print(df_bitter_train.count())\n",
    "df_bitter_train[df_bitter_train['SMILES'].isna()] # check if any of the SMILES is a NaN."
   ]
  },
  {
   "cell_type": "code",
   "execution_count": 49,
   "metadata": {},
   "outputs": [
    {
     "name": "stdout",
     "output_type": "stream",
     "text": [
      "Name         115\n",
      "SMILES       171\n",
      "Reference    171\n",
      "Target       171\n",
      "dtype: int64\n"
     ]
    },
    {
     "data": {
      "text/html": [
       "<div>\n",
       "<style scoped>\n",
       "    .dataframe tbody tr th:only-of-type {\n",
       "        vertical-align: middle;\n",
       "    }\n",
       "\n",
       "    .dataframe tbody tr th {\n",
       "        vertical-align: top;\n",
       "    }\n",
       "\n",
       "    .dataframe thead th {\n",
       "        text-align: right;\n",
       "    }\n",
       "</style>\n",
       "<table border=\"1\" class=\"dataframe\">\n",
       "  <thead>\n",
       "    <tr style=\"text-align: right;\">\n",
       "      <th></th>\n",
       "      <th>Name</th>\n",
       "      <th>SMILES</th>\n",
       "      <th>Reference</th>\n",
       "      <th>Target</th>\n",
       "    </tr>\n",
       "  </thead>\n",
       "  <tbody>\n",
       "  </tbody>\n",
       "</table>\n",
       "</div>"
      ],
      "text/plain": [
       "Empty DataFrame\n",
       "Columns: [Name, SMILES, Reference, Target]\n",
       "Index: []"
      ]
     },
     "execution_count": 49,
     "metadata": {},
     "output_type": "execute_result"
    }
   ],
   "source": [
    "print(df_bitter_test.count())\n",
    "df_bitter_test[df_bitter_test['SMILES'].isna()] # check if any of the SMILES is a NaN."
   ]
  },
  {
   "cell_type": "code",
   "execution_count": 50,
   "metadata": {},
   "outputs": [],
   "source": [
    "df_sweet_train['Target'] = df_sweet_train['Target'].astype(int) # Convert to numeric\n",
    "df_sweet_test['Target'] = df_sweet_test['Target'].astype(int) # Convert to numeric\n",
    "df_bitter_train['Target'] = df_bitter_train['Target'].astype(int) # Convert to numeric\n",
    "df_bitter_test['Target'] = df_bitter_test['Target'].astype(int) # Convert to numeric"
   ]
  },
  {
   "cell_type": "code",
   "execution_count": 54,
   "metadata": {
    "executionInfo": {
     "elapsed": 2965,
     "status": "ok",
     "timestamp": 1670639122594,
     "user": {
      "displayName": "Alagar",
      "userId": "18409237732645261754"
     },
     "user_tz": -480
    },
    "id": "sB1IDs09zwZB"
   },
   "outputs": [],
   "source": [
    "# Convert SMILES into Canonical SMILES using RDKit.\n",
    "def convert_to_canonical_smiles(df):  \n",
    "    length = df.shape[0]\n",
    "\n",
    "    name = []\n",
    "    smiles = []\n",
    "    canon_smiles = []\n",
    "    reference = []\n",
    "    target = []\n",
    "    exceptions = 0\n",
    "    failed_smiles = []\n",
    "    failed_name = []\n",
    "    failed_target = []\n",
    "    failed_reference = []\n",
    "    for i in range(length):\n",
    "        try:\n",
    "            c = Chem.CanonSmiles(str(df.iloc[i]['SMILES']))\n",
    "            canon_smiles.append(c)\n",
    "            smiles.append(str(df.iloc[i]['SMILES']))\n",
    "            target.append(str(df.iloc[i]['Target']))\n",
    "            name.append(str(df.iloc[i]['Name']))\n",
    "            reference.append(str(df.iloc[i]['Reference']))\n",
    "        except:\n",
    "            exceptions += 1\n",
    "            failed_smiles.append(str(df.iloc[i]['SMILES']))\n",
    "            failed_name.append(str(df.iloc[i]['Target']))\n",
    "            failed_target.append(str(df.iloc[i]['Name']))\n",
    "            failed_reference.append(str(df.iloc[i]['Reference']))\n",
    "            continue\n",
    "            \n",
    "    return {'Name':name, 'SMILES':smiles, 'Canonical SMILES':canon_smiles, 'Reference': reference, 'Target':target}"
   ]
  },
  {
   "cell_type": "code",
   "execution_count": 55,
   "metadata": {
    "colab": {
     "base_uri": "https://localhost:8080/"
    },
    "executionInfo": {
     "elapsed": 510,
     "status": "ok",
     "timestamp": 1670639130900,
     "user": {
      "displayName": "Alagar",
      "userId": "18409237732645261754"
     },
     "user_tz": -480
    },
    "id": "mjrj2YT815SV",
    "outputId": "ae85cdad-7c84-4fb8-9ef8-e1f800cd1e4d"
   },
   "outputs": [
    {
     "name": "stderr",
     "output_type": "stream",
     "text": [
      "[20:13:03] Explicit valence for atom # 2 N, 4, is greater than permitted\n",
      "[20:13:03] Explicit valence for atom # 2 N, 4, is greater than permitted\n",
      "[20:13:03] Explicit valence for atom # 5 N, 4, is greater than permitted\n",
      "[20:13:03] Explicit valence for atom # 6 N, 4, is greater than permitted\n",
      "[20:13:03] Explicit valence for atom # 7 N, 4, is greater than permitted\n",
      "[20:13:03] Explicit valence for atom # 9 N, 4, is greater than permitted\n",
      "[20:13:03] Explicit valence for atom # 11 N, 4, is greater than permitted\n",
      "[20:13:03] Explicit valence for atom # 3 N, 4, is greater than permitted\n",
      "[20:13:03] Explicit valence for atom # 3 N, 4, is greater than permitted\n",
      "[20:13:03] Explicit valence for atom # 3 N, 4, is greater than permitted\n",
      "[20:13:03] Explicit valence for atom # 2 N, 4, is greater than permitted\n",
      "[20:13:03] SMILES Parse Error: unclosed ring for input: '[NaH].[NaH].O1[C@@H](OC2CC[C@]3([C@H]4[C@@](CC[C@H]3C2(C)C)(C)[C@@]2(CC[C@@]3([C@@H](C2=CC4=O)C[C@@](CC3)(C(O)=O)C)C)C)C)C(O[C@@H]2OC(C(O)=O)C(O)C(O)C2O)C(O)'\n",
      "[20:13:03] SMILES Parse Error: extra open parentheses for input: 'O1C(CO)C(O)C(O)C(O[C@H]2OC(CO)C(O)C(O)C2O)C1OC(C(O)(C)C)CCC(C)[C@@H]1CC[C@@]2([C@@H]3CC=C4[C@@H](CCC(O[C@@H]5OC(COC6OC(CO)C(O)C(O)C6O)C(O)C(O)C5O)C4(C)C)[C@]'\n",
      "[20:13:03] SMILES Parse Error: syntax error while parsing: O1C(COC2OC(CO)C(O)C(O)C2O)C(O)C(O)C(O[C@@H]2OC(CO)C(O)C(O)C2O)C1OC(C(O)(C)C)CCC(C)[C@@H]1CC[C@]2([C@@H]3CC=C4[C@H](CCC(O[C@H]5OC(COC6OC(CO)C(O)C(O)C6O)C(O)C(\n",
      "[20:13:03] SMILES Parse Error: Failed parsing SMILES 'O1C(COC2OC(CO)C(O)C(O)C2O)C(O)C(O)C(O[C@@H]2OC(CO)C(O)C(O)C2O)C1OC(C(O)(C)C)CCC(C)[C@@H]1CC[C@]2([C@@H]3CC=C4[C@H](CCC(O[C@H]5OC(COC6OC(CO)C(O)C(O)C6O)C(O)C(' for input: 'O1C(COC2OC(CO)C(O)C(O)C2O)C(O)C(O)C(O[C@@H]2OC(CO)C(O)C(O)C2O)C1OC(C(O)(C)C)CCC(C)[C@@H]1CC[C@]2([C@@H]3CC=C4[C@H](CCC(O[C@H]5OC(COC6OC(CO)C(O)C(O)C6O)C(O)C('\n",
      "[20:13:03] SMILES Parse Error: extra open parentheses for input: 'O1C(COC2OC(CO)C(O)C(O)C2O)C(O)C(O)C(O[C@H]2OC(CO)C(O)C(O)C2O)C1OC(C(O)(C)C)CCC(C)[C@@H]1CC[C@@]2([C@@H]3CC=C4[C@@H](CCC(O[C@H]5OC(CO)C(O)C(O)C5O)C4(C)C)[C@]3'\n",
      "[20:13:03] SMILES Parse Error: unclosed ring for input: 'O1[C@@H](OC2C(O[C@H](OC3C(O[C@@H](OC4CC[C@@]5([C@H](C4)CC[C@H]4[C@@H]5CC(OC(=O)C)[C@@]5(C)[C@@](O)(CC[C@]45O)C(OC(=O)C(CC)C)C)C)CC3OC)C)CC2OC)C)C(O)C(OC)C(O)'\n",
      "[20:13:03] WARNING: not removing hydrogen atom without neighbors\n",
      "[20:13:03] WARNING: not removing hydrogen atom without neighbors\n",
      "[20:13:03] WARNING: not removing hydrogen atom without neighbors\n",
      "[20:13:03] SMILES Parse Error: syntax error while parsing: CN[C@H](CC(C)C)C(=O)N[C@@H]1[C@H](O)c2ccc(Oc3cc4cc(Oc5ccc(cc5Cl)[C@@H](O)[C@@H]6NC(=O)[C@H](NC(=O)[C@@H]4NC(=O)[C@H](CC(=O)N)NC1=O)c7ccc(O)c(c7)c8c(O)cc(O)cc8[C@H](NC6=O)C(=O)O)c3O[C@@H]9O[C@H](CO)[C@@H](O)[C@H](O)[C@H]9O[C@H]%10C[C@](C)(N)[C@H](O)[C\n",
      "[20:13:03] SMILES Parse Error: Failed parsing SMILES 'CN[C@H](CC(C)C)C(=O)N[C@@H]1[C@H](O)c2ccc(Oc3cc4cc(Oc5ccc(cc5Cl)[C@@H](O)[C@@H]6NC(=O)[C@H](NC(=O)[C@@H]4NC(=O)[C@H](CC(=O)N)NC1=O)c7ccc(O)c(c7)c8c(O)cc(O)cc8[C@H](NC6=O)C(=O)O)c3O[C@@H]9O[C@H](CO)[C@@H](O)[C@H](O)[C@H]9O[C@H]%10C[C@](C)(N)[C@H](O)[C' for input: 'CN[C@H](CC(C)C)C(=O)N[C@@H]1[C@H](O)c2ccc(Oc3cc4cc(Oc5ccc(cc5Cl)[C@@H](O)[C@@H]6NC(=O)[C@H](NC(=O)[C@@H]4NC(=O)[C@H](CC(=O)N)NC1=O)c7ccc(O)c(c7)c8c(O)cc(O)cc8[C@H](NC6=O)C(=O)O)c3O[C@@H]9O[C@H](CO)[C@@H](O)[C@H](O)[C@H]9O[C@H]%10C[C@](C)(N)[C@H](O)[C'\n",
      "[20:13:03] Explicit valence for atom # 11 O, 3, is greater than permitted\n",
      "[20:13:04] Explicit valence for atom # 1 Si, 8, is greater than permitted\n",
      "[20:13:04] WARNING: not removing hydrogen atom without neighbors\n",
      "[20:13:04] Explicit valence for atom # 3 N, 4, is greater than permitted\n",
      "[20:13:04] Explicit valence for atom # 4 N, 4, is greater than permitted\n",
      "[20:13:04] Explicit valence for atom # 8 N, 4, is greater than permitted\n",
      "[20:13:04] SMILES Parse Error: extra open parentheses for input: '[KH].O1[C@H](OC2CC[C@@]3([C@H]4[C@@](CC[C@H]3C2(C)C)(C)[C@@]2(CC[C@@]3([C@H](C2=CC4=O)C[C@@](CC3)(C(O)=O)C)C)C)C)C(O[C@H]2OC(C(O)=O)C(O)C(O)C2O)C(O)C(O)C1C(O'\n",
      "[20:13:04] SMILES Parse Error: extra open parentheses for input: '[KH].[KH].[KH].O1[C@@H](OC2CC[C@@]3([C@H]4[C@@](CC[C@@H]3C2(C)C)(C)[C@@]2(CC[C@@]3([C@@H](C2=CC4=O)C[C@@](CC3)(C(O)=O)C)C)C)C)C(O[C@@H]2OC(C(O)=O)C(O)C(O)C2O'\n",
      "[20:13:04] Explicit valence for atom # 2 N, 4, is greater than permitted\n",
      "[20:13:04] Explicit valence for atom # 2 N, 4, is greater than permitted\n",
      "[20:13:04] Explicit valence for atom # 3 N, 4, is greater than permitted\n",
      "[20:13:04] Explicit valence for atom # 5 N, 4, is greater than permitted\n",
      "[20:13:04] Explicit valence for atom # 6 N, 4, is greater than permitted\n",
      "[20:13:04] Explicit valence for atom # 7 N, 4, is greater than permitted\n",
      "[20:13:04] Explicit valence for atom # 9 N, 4, is greater than permitted\n",
      "[20:13:04] Explicit valence for atom # 11 N, 4, is greater than permitted\n",
      "[20:13:04] Explicit valence for atom # 3 N, 4, is greater than permitted\n",
      "[20:13:04] Explicit valence for atom # 3 N, 4, is greater than permitted\n",
      "[20:13:04] Explicit valence for atom # 3 N, 4, is greater than permitted\n",
      "[20:13:04] Explicit valence for atom # 2 N, 4, is greater than permitted\n",
      "[20:13:04] Explicit valence for atom # 4 N, 4, is greater than permitted\n",
      "[20:13:04] Explicit valence for atom # 8 N, 4, is greater than permitted\n",
      "[20:13:04] SMILES Parse Error: unclosed ring for input: '[NaH].[NaH].O1[C@@H](OC2CC[C@]3([C@H]4[C@@](CC[C@H]3C2(C)C)(C)[C@@]2(CC[C@@]3([C@@H](C2=CC4=O)C[C@@](CC3)(C(O)=O)C)C)C)C)C(O[C@@H]2OC(C(O)=O)C(O)C(O)C2O)C(O)'\n",
      "[20:13:04] SMILES Parse Error: extra open parentheses for input: 'O1C(CO)C(O)C(O)C(O[C@H]2OC(CO)C(O)C(O)C2O)C1OC(C(O)(C)C)CCC(C)[C@@H]1CC[C@@]2([C@@H]3CC=C4[C@@H](CCC(O[C@@H]5OC(COC6OC(CO)C(O)C(O)C6O)C(O)C(O)C5O)C4(C)C)[C@]'\n",
      "[20:13:04] SMILES Parse Error: syntax error while parsing: O1C(COC2OC(CO)C(O)C(O)C2O)C(O)C(O)C(O[C@@H]2OC(CO)C(O)C(O)C2O)C1OC(C(O)(C)C)CCC(C)[C@@H]1CC[C@]2([C@@H]3CC=C4[C@H](CCC(O[C@H]5OC(COC6OC(CO)C(O)C(O)C6O)C(O)C(\n",
      "[20:13:04] SMILES Parse Error: Failed parsing SMILES 'O1C(COC2OC(CO)C(O)C(O)C2O)C(O)C(O)C(O[C@@H]2OC(CO)C(O)C(O)C2O)C1OC(C(O)(C)C)CCC(C)[C@@H]1CC[C@]2([C@@H]3CC=C4[C@H](CCC(O[C@H]5OC(COC6OC(CO)C(O)C(O)C6O)C(O)C(' for input: 'O1C(COC2OC(CO)C(O)C(O)C2O)C(O)C(O)C(O[C@@H]2OC(CO)C(O)C(O)C2O)C1OC(C(O)(C)C)CCC(C)[C@@H]1CC[C@]2([C@@H]3CC=C4[C@H](CCC(O[C@H]5OC(COC6OC(CO)C(O)C(O)C6O)C(O)C('\n",
      "[20:13:04] SMILES Parse Error: extra open parentheses for input: '[KH].O1[C@H](OC2CC[C@@]3([C@H]4[C@@](CC[C@H]3C2(C)C)(C)[C@@]2(CC[C@@]3([C@H](C2=CC4=O)C[C@@](CC3)(C(O)=O)C)C)C)C)C(O[C@H]2OC(C(O)=O)C(O)C(O)C2O)C(O)C(O)C1C(O'\n",
      "[20:13:04] SMILES Parse Error: extra open parentheses for input: 'O1C(COC2OC(CO)C(O)C(O)C2O)C(O)C(O)C(O[C@H]2OC(CO)C(O)C(O)C2O)C1OC(C(O)(C)C)CCC(C)[C@@H]1CC[C@@]2([C@@H]3CC=C4[C@@H](CCC(O[C@H]5OC(CO)C(O)C(O)C5O)C4(C)C)[C@]3'\n",
      "[20:13:04] SMILES Parse Error: unclosed ring for input: 'O1[C@@H](OC2C(O[C@H](OC3C(O[C@@H](OC4CC[C@@]5([C@H](C4)CC[C@H]4[C@@H]5CC(OC(=O)C)[C@@]5(C)[C@@](O)(CC[C@]45O)C(OC(=O)C(CC)C)C)C)CC3OC)C)CC2OC)C)C(O)C(OC)C(O)'\n",
      "[20:13:04] SMILES Parse Error: extra open parentheses for input: '[KH].[KH].[KH].O1[C@@H](OC2CC[C@@]3([C@H]4[C@@](CC[C@@H]3C2(C)C)(C)[C@@]2(CC[C@@]3([C@@H](C2=CC4=O)C[C@@](CC3)(C(O)=O)C)C)C)C)C(O[C@@H]2OC(C(O)=O)C(O)C(O)C2O'\n",
      "[20:13:04] WARNING: not removing hydrogen atom without neighbors\n",
      "[20:13:04] WARNING: not removing hydrogen atom without neighbors\n",
      "[20:13:04] WARNING: not removing hydrogen atom without neighbors\n",
      "[20:13:05] SMILES Parse Error: syntax error while parsing: CN[C@H](CC(C)C)C(=O)N[C@@H]1[C@H](O)c2ccc(Oc3cc4cc(Oc5ccc(cc5Cl)[C@@H](O)[C@@H]6NC(=O)[C@H](NC(=O)[C@@H]4NC(=O)[C@H](CC(=O)N)NC1=O)c7ccc(O)c(c7)c8c(O)cc(O)cc8[C@H](NC6=O)C(=O)O)c3O[C@@H]9O[C@H](CO)[C@@H](O)[C@H](O)[C@H]9O[C@H]%10C[C@](C)(N)[C@H](O)[C\n",
      "[20:13:05] SMILES Parse Error: Failed parsing SMILES 'CN[C@H](CC(C)C)C(=O)N[C@@H]1[C@H](O)c2ccc(Oc3cc4cc(Oc5ccc(cc5Cl)[C@@H](O)[C@@H]6NC(=O)[C@H](NC(=O)[C@@H]4NC(=O)[C@H](CC(=O)N)NC1=O)c7ccc(O)c(c7)c8c(O)cc(O)cc8[C@H](NC6=O)C(=O)O)c3O[C@@H]9O[C@H](CO)[C@@H](O)[C@H](O)[C@H]9O[C@H]%10C[C@](C)(N)[C@H](O)[C' for input: 'CN[C@H](CC(C)C)C(=O)N[C@@H]1[C@H](O)c2ccc(Oc3cc4cc(Oc5ccc(cc5Cl)[C@@H](O)[C@@H]6NC(=O)[C@H](NC(=O)[C@@H]4NC(=O)[C@H](CC(=O)N)NC1=O)c7ccc(O)c(c7)c8c(O)cc(O)cc8[C@H](NC6=O)C(=O)O)c3O[C@@H]9O[C@H](CO)[C@@H](O)[C@H](O)[C@H]9O[C@H]%10C[C@](C)(N)[C@H](O)[C'\n",
      "[20:13:05] Explicit valence for atom # 11 O, 3, is greater than permitted\n",
      "[20:13:05] Explicit valence for atom # 1 Si, 8, is greater than permitted\n",
      "[20:13:05] WARNING: not removing hydrogen atom without neighbors\n"
     ]
    }
   ],
   "source": [
    "valid_sweet_train = convert_to_canonical_smiles(df_sweet_train)\n",
    "valid_sweet_test = convert_to_canonical_smiles(df_sweet_test)\n",
    "valid_bitter_train = convert_to_canonical_smiles(df_bitter_train)\n",
    "valid_bitter_test = convert_to_canonical_smiles(df_bitter_test)\n",
    "\n",
    "df_sweet_valid_train = pd.DataFrame(valid_sweet_train)\n",
    "df_bitter_valid_train = pd.DataFrame(valid_bitter_train)\n",
    "df_sweet_valid_test = pd.DataFrame(valid_sweet_test)\n",
    "df_bitter_valid_test = pd.DataFrame(valid_bitter_test)"
   ]
  },
  {
   "cell_type": "code",
   "execution_count": 56,
   "metadata": {
    "colab": {
     "base_uri": "https://localhost:8080/"
    },
    "executionInfo": {
     "elapsed": 541,
     "status": "ok",
     "timestamp": 1670639138921,
     "user": {
      "displayName": "Alagar",
      "userId": "18409237732645261754"
     },
     "user_tz": -480
    },
    "id": "hsOhWLGN19sG",
    "outputId": "91b3e938-c0ed-4d17-980c-c7be6d183e15"
   },
   "outputs": [
    {
     "data": {
      "text/html": [
       "<div>\n",
       "<style scoped>\n",
       "    .dataframe tbody tr th:only-of-type {\n",
       "        vertical-align: middle;\n",
       "    }\n",
       "\n",
       "    .dataframe tbody tr th {\n",
       "        vertical-align: top;\n",
       "    }\n",
       "\n",
       "    .dataframe thead th {\n",
       "        text-align: right;\n",
       "    }\n",
       "</style>\n",
       "<table border=\"1\" class=\"dataframe\">\n",
       "  <thead>\n",
       "    <tr style=\"text-align: right;\">\n",
       "      <th></th>\n",
       "      <th>Name</th>\n",
       "      <th>SMILES</th>\n",
       "      <th>Canonical SMILES</th>\n",
       "      <th>Reference</th>\n",
       "      <th>Target</th>\n",
       "    </tr>\n",
       "  </thead>\n",
       "  <tbody>\n",
       "    <tr>\n",
       "      <th>count</th>\n",
       "      <td>2186</td>\n",
       "      <td>2186</td>\n",
       "      <td>2186</td>\n",
       "      <td>2186</td>\n",
       "      <td>2186</td>\n",
       "    </tr>\n",
       "    <tr>\n",
       "      <th>unique</th>\n",
       "      <td>2038</td>\n",
       "      <td>2186</td>\n",
       "      <td>2183</td>\n",
       "      <td>11</td>\n",
       "      <td>2</td>\n",
       "    </tr>\n",
       "    <tr>\n",
       "      <th>top</th>\n",
       "      <td>nan</td>\n",
       "      <td>OCC1OC(C(C1O)O)(CO)OC1OC(CO)C(C(C1O)O)O</td>\n",
       "      <td>O=C1NS(=O)(=O)c2cc([N+](=O)[O-])ccc21</td>\n",
       "      <td>BitterDB</td>\n",
       "      <td>1</td>\n",
       "    </tr>\n",
       "    <tr>\n",
       "      <th>freq</th>\n",
       "      <td>100</td>\n",
       "      <td>1</td>\n",
       "      <td>2</td>\n",
       "      <td>590</td>\n",
       "      <td>1134</td>\n",
       "    </tr>\n",
       "  </tbody>\n",
       "</table>\n",
       "</div>"
      ],
      "text/plain": [
       "        Name                                   SMILES  \\\n",
       "count   2186                                     2186   \n",
       "unique  2038                                     2186   \n",
       "top      nan  OCC1OC(C(C1O)O)(CO)OC1OC(CO)C(C(C1O)O)O   \n",
       "freq     100                                        1   \n",
       "\n",
       "                             Canonical SMILES Reference Target  \n",
       "count                                    2186      2186   2186  \n",
       "unique                                   2183        11      2  \n",
       "top     O=C1NS(=O)(=O)c2cc([N+](=O)[O-])ccc21  BitterDB      1  \n",
       "freq                                        2       590   1134  "
      ]
     },
     "execution_count": 56,
     "metadata": {},
     "output_type": "execute_result"
    }
   ],
   "source": [
    "df_sweet_valid_train.describe()"
   ]
  },
  {
   "cell_type": "code",
   "execution_count": 57,
   "metadata": {},
   "outputs": [
    {
     "data": {
      "text/html": [
       "<div>\n",
       "<style scoped>\n",
       "    .dataframe tbody tr th:only-of-type {\n",
       "        vertical-align: middle;\n",
       "    }\n",
       "\n",
       "    .dataframe tbody tr th {\n",
       "        vertical-align: top;\n",
       "    }\n",
       "\n",
       "    .dataframe thead th {\n",
       "        text-align: right;\n",
       "    }\n",
       "</style>\n",
       "<table border=\"1\" class=\"dataframe\">\n",
       "  <thead>\n",
       "    <tr style=\"text-align: right;\">\n",
       "      <th></th>\n",
       "      <th>Name</th>\n",
       "      <th>SMILES</th>\n",
       "      <th>Canonical SMILES</th>\n",
       "      <th>Target</th>\n",
       "    </tr>\n",
       "  </thead>\n",
       "  <tbody>\n",
       "    <tr>\n",
       "      <th>count</th>\n",
       "      <td>2393</td>\n",
       "      <td>2393</td>\n",
       "      <td>2393</td>\n",
       "      <td>2393</td>\n",
       "    </tr>\n",
       "    <tr>\n",
       "      <th>unique</th>\n",
       "      <td>2198</td>\n",
       "      <td>2393</td>\n",
       "      <td>2393</td>\n",
       "      <td>2</td>\n",
       "    </tr>\n",
       "    <tr>\n",
       "      <th>top</th>\n",
       "      <td>nan</td>\n",
       "      <td>OCC1OC(C(C1O)O)(CO)OC1OC(CO)C(C(C1O)O)O</td>\n",
       "      <td>OCC1OC(OC2(CO)OC(CO)C(O)C2O)C(O)C(O)C1O</td>\n",
       "      <td>0</td>\n",
       "    </tr>\n",
       "    <tr>\n",
       "      <th>freq</th>\n",
       "      <td>132</td>\n",
       "      <td>1</td>\n",
       "      <td>1</td>\n",
       "      <td>1501</td>\n",
       "    </tr>\n",
       "  </tbody>\n",
       "</table>\n",
       "</div>"
      ],
      "text/plain": [
       "        Name                                   SMILES  \\\n",
       "count   2393                                     2393   \n",
       "unique  2198                                     2393   \n",
       "top      nan  OCC1OC(C(C1O)O)(CO)OC1OC(CO)C(C(C1O)O)O   \n",
       "freq     132                                        1   \n",
       "\n",
       "                               Canonical SMILES Target  \n",
       "count                                      2393   2393  \n",
       "unique                                     2393      2  \n",
       "top     OCC1OC(OC2(CO)OC(CO)C(O)C2O)C(O)C(O)C1O      0  \n",
       "freq                                          1   1501  "
      ]
     },
     "execution_count": 57,
     "metadata": {},
     "output_type": "execute_result"
    }
   ],
   "source": [
    "df_bitter_valid.describe()"
   ]
  },
  {
   "cell_type": "code",
   "execution_count": 58,
   "metadata": {
    "colab": {
     "base_uri": "https://localhost:8080/",
     "height": 49
    },
    "executionInfo": {
     "elapsed": 475,
     "status": "ok",
     "timestamp": 1670639150813,
     "user": {
      "displayName": "Alagar",
      "userId": "18409237732645261754"
     },
     "user_tz": -480
    },
    "id": "xkcpw_l31_1Z",
    "outputId": "d23a5ac5-8a62-41f7-8c60-49148eb53964"
   },
   "outputs": [
    {
     "data": {
      "text/html": [
       "<div>\n",
       "<style scoped>\n",
       "    .dataframe tbody tr th:only-of-type {\n",
       "        vertical-align: middle;\n",
       "    }\n",
       "\n",
       "    .dataframe tbody tr th {\n",
       "        vertical-align: top;\n",
       "    }\n",
       "\n",
       "    .dataframe thead th {\n",
       "        text-align: right;\n",
       "    }\n",
       "</style>\n",
       "<table border=\"1\" class=\"dataframe\">\n",
       "  <thead>\n",
       "    <tr style=\"text-align: right;\">\n",
       "      <th></th>\n",
       "      <th>Name</th>\n",
       "      <th>SMILES</th>\n",
       "      <th>Canonical SMILES</th>\n",
       "      <th>Reference</th>\n",
       "      <th>Target</th>\n",
       "    </tr>\n",
       "  </thead>\n",
       "  <tbody>\n",
       "  </tbody>\n",
       "</table>\n",
       "</div>"
      ],
      "text/plain": [
       "Empty DataFrame\n",
       "Columns: [Name, SMILES, Canonical SMILES, Reference, Target]\n",
       "Index: []"
      ]
     },
     "execution_count": 58,
     "metadata": {},
     "output_type": "execute_result"
    }
   ],
   "source": [
    "df_sweet_valid_train[df_sweet_valid_train['Canonical SMILES'].isna()]"
   ]
  },
  {
   "cell_type": "code",
   "execution_count": 59,
   "metadata": {},
   "outputs": [
    {
     "data": {
      "text/html": [
       "<div>\n",
       "<style scoped>\n",
       "    .dataframe tbody tr th:only-of-type {\n",
       "        vertical-align: middle;\n",
       "    }\n",
       "\n",
       "    .dataframe tbody tr th {\n",
       "        vertical-align: top;\n",
       "    }\n",
       "\n",
       "    .dataframe thead th {\n",
       "        text-align: right;\n",
       "    }\n",
       "</style>\n",
       "<table border=\"1\" class=\"dataframe\">\n",
       "  <thead>\n",
       "    <tr style=\"text-align: right;\">\n",
       "      <th></th>\n",
       "      <th>Name</th>\n",
       "      <th>SMILES</th>\n",
       "      <th>Canonical SMILES</th>\n",
       "      <th>Reference</th>\n",
       "      <th>Target</th>\n",
       "    </tr>\n",
       "  </thead>\n",
       "  <tbody>\n",
       "  </tbody>\n",
       "</table>\n",
       "</div>"
      ],
      "text/plain": [
       "Empty DataFrame\n",
       "Columns: [Name, SMILES, Canonical SMILES, Reference, Target]\n",
       "Index: []"
      ]
     },
     "execution_count": 59,
     "metadata": {},
     "output_type": "execute_result"
    }
   ],
   "source": [
    "df_sweet_valid_test[df_sweet_valid_test['Canonical SMILES'].isna()]"
   ]
  },
  {
   "cell_type": "code",
   "execution_count": 60,
   "metadata": {},
   "outputs": [
    {
     "data": {
      "text/html": [
       "<div>\n",
       "<style scoped>\n",
       "    .dataframe tbody tr th:only-of-type {\n",
       "        vertical-align: middle;\n",
       "    }\n",
       "\n",
       "    .dataframe tbody tr th {\n",
       "        vertical-align: top;\n",
       "    }\n",
       "\n",
       "    .dataframe thead th {\n",
       "        text-align: right;\n",
       "    }\n",
       "</style>\n",
       "<table border=\"1\" class=\"dataframe\">\n",
       "  <thead>\n",
       "    <tr style=\"text-align: right;\">\n",
       "      <th></th>\n",
       "      <th>Name</th>\n",
       "      <th>SMILES</th>\n",
       "      <th>Canonical SMILES</th>\n",
       "      <th>Reference</th>\n",
       "      <th>Target</th>\n",
       "    </tr>\n",
       "  </thead>\n",
       "  <tbody>\n",
       "  </tbody>\n",
       "</table>\n",
       "</div>"
      ],
      "text/plain": [
       "Empty DataFrame\n",
       "Columns: [Name, SMILES, Canonical SMILES, Reference, Target]\n",
       "Index: []"
      ]
     },
     "execution_count": 60,
     "metadata": {},
     "output_type": "execute_result"
    }
   ],
   "source": [
    "df_bitter_valid_train[df_bitter_valid_train['Canonical SMILES'].isna()]"
   ]
  },
  {
   "cell_type": "code",
   "execution_count": 61,
   "metadata": {},
   "outputs": [
    {
     "data": {
      "text/html": [
       "<div>\n",
       "<style scoped>\n",
       "    .dataframe tbody tr th:only-of-type {\n",
       "        vertical-align: middle;\n",
       "    }\n",
       "\n",
       "    .dataframe tbody tr th {\n",
       "        vertical-align: top;\n",
       "    }\n",
       "\n",
       "    .dataframe thead th {\n",
       "        text-align: right;\n",
       "    }\n",
       "</style>\n",
       "<table border=\"1\" class=\"dataframe\">\n",
       "  <thead>\n",
       "    <tr style=\"text-align: right;\">\n",
       "      <th></th>\n",
       "      <th>Name</th>\n",
       "      <th>SMILES</th>\n",
       "      <th>Canonical SMILES</th>\n",
       "      <th>Reference</th>\n",
       "      <th>Target</th>\n",
       "    </tr>\n",
       "  </thead>\n",
       "  <tbody>\n",
       "  </tbody>\n",
       "</table>\n",
       "</div>"
      ],
      "text/plain": [
       "Empty DataFrame\n",
       "Columns: [Name, SMILES, Canonical SMILES, Reference, Target]\n",
       "Index: []"
      ]
     },
     "execution_count": 61,
     "metadata": {},
     "output_type": "execute_result"
    }
   ],
   "source": [
    "df_bitter_valid_test[df_bitter_valid_test['Canonical SMILES'].isna()]"
   ]
  },
  {
   "cell_type": "code",
   "execution_count": 62,
   "metadata": {},
   "outputs": [],
   "source": [
    "# Remove duplicates\n",
    "df_sweet_valid_train.drop_duplicates(subset=\"Canonical SMILES\", inplace=True)\n",
    "df_sweet_valid_test.drop_duplicates(subset=\"Canonical SMILES\", inplace=True)\n",
    "df_bitter_valid_train.drop_duplicates(subset=\"Canonical SMILES\", inplace=True)\n",
    "df_bitter_valid_test.drop_duplicates(subset=\"Canonical SMILES\", inplace=True)\n",
    "\n",
    "# Reset index\n",
    "df_sweet_valid_train.reset_index(drop=True, inplace = True)\n",
    "df_sweet_valid_test.reset_index(drop=True, inplace = True)\n",
    "df_bitter_valid_train.reset_index(drop=True, inplace = True)\n",
    "df_bitter_valid_test.reset_index(drop=True, inplace = True)"
   ]
  },
  {
   "cell_type": "code",
   "execution_count": 63,
   "metadata": {},
   "outputs": [
    {
     "name": "stderr",
     "output_type": "stream",
     "text": [
      "[20:13:18] WARNING: not removing hydrogen atom without neighbors\n",
      "[20:13:18] WARNING: not removing hydrogen atom without neighbors\n",
      "[20:13:18] WARNING: not removing hydrogen atom without neighbors\n",
      "[20:13:18] WARNING: not removing hydrogen atom without neighbors\n",
      "[20:13:18] WARNING: not removing hydrogen atom without neighbors\n",
      "[20:13:18] WARNING: not removing hydrogen atom without neighbors\n",
      "[20:13:18] WARNING: not removing hydrogen atom without neighbors\n",
      "[20:13:18] WARNING: not removing hydrogen atom without neighbors\n"
     ]
    }
   ],
   "source": [
    "# Calculate Descriptors\n",
    "calc = Calculator(descriptors, ignore_3D=False)\n",
    "mols_sweet_train = [Chem.MolFromSmiles(smi) for smi in list(df_sweet_valid_train['Canonical SMILES'])]\n",
    "mols_sweet_test = [Chem.MolFromSmiles(smi) for smi in list(df_sweet_valid_test['Canonical SMILES'])]\n",
    "mols_bitter_train = [Chem.MolFromSmiles(smi) for smi in list(df_bitter_valid_train['Canonical SMILES'])]\n",
    "mols_bitter_test = [Chem.MolFromSmiles(smi) for smi in list(df_bitter_valid_test['Canonical SMILES'])]"
   ]
  },
  {
   "cell_type": "code",
   "execution_count": 64,
   "metadata": {
    "executionInfo": {
     "elapsed": 944762,
     "status": "ok",
     "timestamp": 1670641144953,
     "user": {
      "displayName": "Alagar",
      "userId": "18409237732645261754"
     },
     "user_tz": -480
    },
    "id": "YSzi11m-2WhI"
   },
   "outputs": [
    {
     "name": "stdout",
     "output_type": "stream",
     "text": [
      "/Users/kristianespina/opt/anaconda3/lib/python3.9/site-packages/numpy/core/fromnumeric.py:86: RuntimeWarning: overflow encountered in reduce\n",
      "  return ufunc.reduce(obj, axis, dtype, out, **passkwargs)\n",
      "/Users/kristianespina/opt/anaconda3/lib/python3.9/site-packages/numpy/core/fromnumeric.py:86: RuntimeWarning: overflow encountered in reduce\n",
      "  return ufunc.reduce(obj, axis, dtype, out, **passkwargs)\n"
     ]
    },
    {
     "name": "stderr",
     "output_type": "stream",
     "text": [
      "[20:14:00] WARNING: not removing hydrogen atom without neighbors\n",
      "[20:14:00] WARNING: not removing hydrogen atom without neighbors\n",
      "[20:14:00] WARNING: not removing hydrogen atom without neighbors\n",
      "[20:14:01] WARNING: not removing hydrogen atom without neighbors\n",
      "[20:14:01] WARNING: not removing hydrogen atom without neighbors\n",
      "[20:14:01] WARNING: not removing hydrogen atom without neighbors\n",
      "[20:14:01] WARNING: not removing hydrogen atom without neighbors\n",
      "[20:14:01] WARNING: not removing hydrogen atom without neighbors\n",
      "[20:14:01] WARNING: not removing hydrogen atom without neighbors\n"
     ]
    },
    {
     "name": "stdout",
     "output_type": "stream",
     "text": [
      "/Users/kristianespina/opt/anaconda3/lib/python3.9/site-packages/numpy/core/fromnumeric.py:86: RuntimeWarning: overflow encountered in reduce\n",
      "  return ufunc.reduce(obj, axis, dtype, out, **passkwargs)\n",
      "/Users/kristianespina/opt/anaconda3/lib/python3.9/site-packages/numpy/core/fromnumeric.py:86: RuntimeWarning: overflow encountered in reduce\n",
      "  return ufunc.reduce(obj, axis, dtype, out, **passkwargs)\n",
      "/Users/kristianespina/opt/anaconda3/lib/python3.9/site-packages/numpy/core/fromnumeric.py:86: RuntimeWarning: overflow encountered in reduce\n",
      "  return ufunc.reduce(obj, axis, dtype, out, **passkwargs)\n",
      "/Users/kristianespina/opt/anaconda3/lib/python3.9/site-packages/numpy/core/fromnumeric.py:86: RuntimeWarning: overflow encountered in reduce\n",
      "  return ufunc.reduce(obj, axis, dtype, out, **passkwargs)\n",
      "/Users/kristianespina/opt/anaconda3/lib/python3.9/site-packages/numpy/core/fromnumeric.py:86: RuntimeWarning: overflow encountered in reduce\n",
      "  return ufunc.reduce(obj, axis, dtype, out, **passkwargs)\n",
      "/Users/kristianespina/opt/anaconda3/lib/python3.9/site-packages/numpy/core/fromnumeric.py:86: RuntimeWarning: overflow encountered in reduce\n",
      "  return ufunc.reduce(obj, axis, dtype, out, **passkwargs)\n"
     ]
    },
    {
     "name": "stderr",
     "output_type": "stream",
     "text": [
      "[20:15:46] WARNING: not removing hydrogen atom without neighbors\n",
      "[20:15:46] WARNING: not removing hydrogen atom without neighbors\n",
      "[20:15:46] WARNING: not removing hydrogen atom without neighbors\n"
     ]
    },
    {
     "name": "stdout",
     "output_type": "stream",
     "text": [
      "/Users/kristianespina/opt/anaconda3/lib/python3.9/site-packages/numpy/core/fromnumeric.py:86: RuntimeWarning: overflow encountered in reduce\n",
      "  return ufunc.reduce(obj, axis, dtype, out, **passkwargs)\n"
     ]
    },
    {
     "name": "stderr",
     "output_type": "stream",
     "text": [
      "[20:17:03] WARNING: not removing hydrogen atom without neighbors\n",
      "[20:17:03] WARNING: not removing hydrogen atom without neighbors\n",
      "[20:17:03] WARNING: not removing hydrogen atom without neighbors\n",
      "[20:17:05] WARNING: not removing hydrogen atom without neighbors\n",
      "[20:17:05] WARNING: not removing hydrogen atom without neighbors\n",
      "[20:17:05] WARNING: not removing hydrogen atom without neighbors\n",
      "[20:17:05] WARNING: not removing hydrogen atom without neighbors\n",
      "[20:17:05] WARNING: not removing hydrogen atom without neighbors\n",
      "[20:17:05] WARNING: not removing hydrogen atom without neighbors\n"
     ]
    },
    {
     "name": "stdout",
     "output_type": "stream",
     "text": [
      "/Users/kristianespina/opt/anaconda3/lib/python3.9/site-packages/numpy/core/fromnumeric.py:86: RuntimeWarning: overflow encountered in reduce\n",
      "  return ufunc.reduce(obj, axis, dtype, out, **passkwargs)\n",
      "/Users/kristianespina/opt/anaconda3/lib/python3.9/site-packages/numpy/core/fromnumeric.py:86: RuntimeWarning: overflow encountered in reduce\n",
      "  return ufunc.reduce(obj, axis, dtype, out, **passkwargs)\n",
      "/Users/kristianespina/opt/anaconda3/lib/python3.9/site-packages/numpy/core/fromnumeric.py:86: RuntimeWarning: overflow encountered in reduce\n",
      "  return ufunc.reduce(obj, axis, dtype, out, **passkwargs)\n",
      "/Users/kristianespina/opt/anaconda3/lib/python3.9/site-packages/numpy/core/fromnumeric.py:86: RuntimeWarning: overflow encountered in reduce\n",
      "  return ufunc.reduce(obj, axis, dtype, out, **passkwargs)\n",
      "/Users/kristianespina/opt/anaconda3/lib/python3.9/site-packages/numpy/core/fromnumeric.py:86: RuntimeWarning: overflow encountered in reduce\n",
      "  return ufunc.reduce(obj, axis, dtype, out, **passkwargs)\n",
      "/Users/kristianespina/opt/anaconda3/lib/python3.9/site-packages/numpy/core/fromnumeric.py:86: RuntimeWarning: overflow encountered in reduce\n",
      "  return ufunc.reduce(obj, axis, dtype, out, **passkwargs)\n",
      "/Users/kristianespina/opt/anaconda3/lib/python3.9/site-packages/numpy/core/fromnumeric.py:86: RuntimeWarning: overflow encountered in reduce\n",
      "  return ufunc.reduce(obj, axis, dtype, out, **passkwargs)\n"
     ]
    },
    {
     "name": "stderr",
     "output_type": "stream",
     "text": [
      "[20:18:36] WARNING: not removing hydrogen atom without neighbors\n",
      "[20:18:36] WARNING: not removing hydrogen atom without neighbors\n",
      "[20:18:36] WARNING: not removing hydrogen atom without neighbors\n"
     ]
    },
    {
     "name": "stdout",
     "output_type": "stream",
     "text": [
      "/Users/kristianespina/opt/anaconda3/lib/python3.9/site-packages/numpy/core/fromnumeric.py:86: RuntimeWarning: overflow encountered in reduce\n",
      "  return ufunc.reduce(obj, axis, dtype, out, **passkwargs)\n",
      "/Users/kristianespina/opt/anaconda3/lib/python3.9/site-packages/numpy/core/fromnumeric.py:86: RuntimeWarning: overflow encountered in reduce\n",
      "  return ufunc.reduce(obj, axis, dtype, out, **passkwargs)\n"
     ]
    }
   ],
   "source": [
    "df_sweet_descriptors_train = calc.pandas(mols_sweet_train, quiet = True, ipynb = True)\n",
    "df_sweet_descriptors_test = calc.pandas(mols_sweet_test, quiet = True, ipynb = True)\n",
    "df_bitter_descriptors_train = calc.pandas(mols_bitter_train, quiet = True, ipynb = True)\n",
    "df_bitter_descriptors_test = calc.pandas(mols_bitter_test, quiet = True, ipynb = True)"
   ]
  },
  {
   "cell_type": "code",
   "execution_count": 67,
   "metadata": {
    "executionInfo": {
     "elapsed": 54784,
     "status": "ok",
     "timestamp": 1670641199706,
     "user": {
      "displayName": "Alagar",
      "userId": "18409237732645261754"
     },
     "user_tz": -480
    },
    "id": "tky4V7ss2XhZ"
   },
   "outputs": [],
   "source": [
    "df_sweet_base_train = df_sweet_valid_train[['Name', 'Reference', 'SMILES', 'Canonical SMILES', 'Target']]\n",
    "df_sweet_with_descriptors_train = pd.concat([\n",
    "    df_sweet_base_train, \n",
    "    df_sweet_descriptors_train\n",
    "    ], axis=1)\n",
    "df_sweet_base_test = df_sweet_valid_test[['Name', 'Reference', 'SMILES', 'Canonical SMILES', 'Target']]\n",
    "df_sweet_with_descriptors_test = pd.concat([\n",
    "    df_sweet_base_test, \n",
    "    df_sweet_descriptors_test\n",
    "    ], axis=1)\n",
    "\n",
    "df_bitter_base_train = df_bitter_valid_train[['Name', 'Reference', 'SMILES', 'Canonical SMILES', 'Target']]\n",
    "df_bitter_with_descriptors_train = pd.concat([\n",
    "    df_bitter_base_train, \n",
    "    df_bitter_descriptors_train\n",
    "    ], axis=1)\n",
    "df_bitter_base_test = df_bitter_valid_test[['Name', 'Reference', 'SMILES', 'Canonical SMILES', 'Target']]\n",
    "df_bitter_with_descriptors_test = pd.concat([\n",
    "    df_bitter_base_test, \n",
    "    df_bitter_descriptors_test\n",
    "    ], axis=1)"
   ]
  },
  {
   "cell_type": "code",
   "execution_count": 68,
   "metadata": {},
   "outputs": [],
   "source": [
    "df_sweet_with_descriptors_train.to_csv('./mordred/sweet_descriptor_train.csv', index=False)\n",
    "df_sweet_with_descriptors_test.to_csv('./mordred/sweet_descriptor_test.csv', index=False)\n",
    "df_bitter_with_descriptors_train.to_csv('./mordred/bitter_descriptor_train.csv', index=False)\n",
    "df_bitter_with_descriptors_test.to_csv('./mordred/bitter_descriptor_test.csv', index=False)"
   ]
  },
  {
   "cell_type": "code",
   "execution_count": 72,
   "metadata": {},
   "outputs": [
    {
     "data": {
      "text/html": [
       "<div>\n",
       "<style scoped>\n",
       "    .dataframe tbody tr th:only-of-type {\n",
       "        vertical-align: middle;\n",
       "    }\n",
       "\n",
       "    .dataframe tbody tr th {\n",
       "        vertical-align: top;\n",
       "    }\n",
       "\n",
       "    .dataframe thead th {\n",
       "        text-align: right;\n",
       "    }\n",
       "</style>\n",
       "<table border=\"1\" class=\"dataframe\">\n",
       "  <thead>\n",
       "    <tr style=\"text-align: right;\">\n",
       "      <th></th>\n",
       "      <th>Name</th>\n",
       "      <th>Reference</th>\n",
       "      <th>SMILES</th>\n",
       "      <th>Canonical SMILES</th>\n",
       "      <th>Target</th>\n",
       "      <th>ABC</th>\n",
       "      <th>ABCGG</th>\n",
       "      <th>nAcid</th>\n",
       "      <th>nBase</th>\n",
       "      <th>SpAbs_A</th>\n",
       "      <th>...</th>\n",
       "      <th>SRW10</th>\n",
       "      <th>TSRW10</th>\n",
       "      <th>MW</th>\n",
       "      <th>AMW</th>\n",
       "      <th>WPath</th>\n",
       "      <th>WPol</th>\n",
       "      <th>Zagreb1</th>\n",
       "      <th>Zagreb2</th>\n",
       "      <th>mZagreb1</th>\n",
       "      <th>mZagreb2</th>\n",
       "    </tr>\n",
       "  </thead>\n",
       "  <tbody>\n",
       "    <tr>\n",
       "      <th>0</th>\n",
       "      <td>D-Fructose</td>\n",
       "      <td>Wiener et al. (2017) - Phyto-Dictionary</td>\n",
       "      <td>OC[C@]1(O)[C@@H](O)[C@H](O)[C@@H](CO1)O</td>\n",
       "      <td>OC[C@@]1(O)OC[C@@H](O)[C@@H](O)[C@@H]1O</td>\n",
       "      <td>0</td>\n",
       "      <td>8.829880</td>\n",
       "      <td>8.715591</td>\n",
       "      <td>0</td>\n",
       "      <td>0</td>\n",
       "      <td>14.640475</td>\n",
       "      <td>...</td>\n",
       "      <td>9.569063</td>\n",
       "      <td>43.370989</td>\n",
       "      <td>180.063388</td>\n",
       "      <td>7.502641</td>\n",
       "      <td>178</td>\n",
       "      <td>20</td>\n",
       "      <td>60.0</td>\n",
       "      <td>71.0</td>\n",
       "      <td>6.145833</td>\n",
       "      <td>2.722222</td>\n",
       "    </tr>\n",
       "    <tr>\n",
       "      <th>1</th>\n",
       "      <td>D-Glucose</td>\n",
       "      <td>Wiener et al. (2017) - Phyto-Dictionary</td>\n",
       "      <td>OC[C@@H]1[C@@H](O)[C@H](O)[C@@H](O)[C@H](O1)O</td>\n",
       "      <td>OC[C@H]1O[C@H](O)[C@H](O)[C@@H](O)[C@@H]1O</td>\n",
       "      <td>0</td>\n",
       "      <td>8.761080</td>\n",
       "      <td>8.651650</td>\n",
       "      <td>0</td>\n",
       "      <td>0</td>\n",
       "      <td>14.708146</td>\n",
       "      <td>...</td>\n",
       "      <td>9.396405</td>\n",
       "      <td>42.927926</td>\n",
       "      <td>180.063388</td>\n",
       "      <td>7.502641</td>\n",
       "      <td>182</td>\n",
       "      <td>19</td>\n",
       "      <td>58.0</td>\n",
       "      <td>68.0</td>\n",
       "      <td>6.055556</td>\n",
       "      <td>2.777778</td>\n",
       "    </tr>\n",
       "    <tr>\n",
       "      <th>2</th>\n",
       "      <td>D-Mannose</td>\n",
       "      <td>Wiener et al. (2017) - Phyto-Dictionary</td>\n",
       "      <td>OC[C@@H]1[C@@H](O)[C@H](O)[C@H](O)[C@H](O1)O</td>\n",
       "      <td>OC[C@H]1O[C@H](O)[C@@H](O)[C@@H](O)[C@@H]1O</td>\n",
       "      <td>0</td>\n",
       "      <td>8.761080</td>\n",
       "      <td>8.651650</td>\n",
       "      <td>0</td>\n",
       "      <td>0</td>\n",
       "      <td>14.708146</td>\n",
       "      <td>...</td>\n",
       "      <td>9.396405</td>\n",
       "      <td>42.927926</td>\n",
       "      <td>180.063388</td>\n",
       "      <td>7.502641</td>\n",
       "      <td>182</td>\n",
       "      <td>19</td>\n",
       "      <td>58.0</td>\n",
       "      <td>68.0</td>\n",
       "      <td>6.055556</td>\n",
       "      <td>2.777778</td>\n",
       "    </tr>\n",
       "    <tr>\n",
       "      <th>3</th>\n",
       "      <td>L-Rhamnose</td>\n",
       "      <td>Wiener et al. (2017) - Phyto-Dictionary</td>\n",
       "      <td>C[C@H]1[C@H](O)[C@@H](O)[C@@H](O)[C@H](O1)O</td>\n",
       "      <td>C[C@@H]1O[C@H](O)[C@H](O)[C@H](O)[C@H]1O</td>\n",
       "      <td>0</td>\n",
       "      <td>8.163363</td>\n",
       "      <td>8.029752</td>\n",
       "      <td>0</td>\n",
       "      <td>0</td>\n",
       "      <td>13.137460</td>\n",
       "      <td>...</td>\n",
       "      <td>9.331052</td>\n",
       "      <td>41.588577</td>\n",
       "      <td>164.068473</td>\n",
       "      <td>7.133412</td>\n",
       "      <td>140</td>\n",
       "      <td>17</td>\n",
       "      <td>54.0</td>\n",
       "      <td>63.0</td>\n",
       "      <td>5.805556</td>\n",
       "      <td>2.444444</td>\n",
       "    </tr>\n",
       "    <tr>\n",
       "      <th>4</th>\n",
       "      <td>D-Ribulose</td>\n",
       "      <td>Wiener et al. (2017) - Phyto-Dictionary</td>\n",
       "      <td>OCC(=O)[C@H](O)[C@H](O)CO</td>\n",
       "      <td>O=C(CO)[C@H](O)[C@H](O)CO</td>\n",
       "      <td>0</td>\n",
       "      <td>6.611250</td>\n",
       "      <td>7.282959</td>\n",
       "      <td>0</td>\n",
       "      <td>0</td>\n",
       "      <td>11.763639</td>\n",
       "      <td>...</td>\n",
       "      <td>8.575273</td>\n",
       "      <td>38.268062</td>\n",
       "      <td>150.052823</td>\n",
       "      <td>7.502641</td>\n",
       "      <td>125</td>\n",
       "      <td>12</td>\n",
       "      <td>40.0</td>\n",
       "      <td>43.0</td>\n",
       "      <td>5.833333</td>\n",
       "      <td>2.555556</td>\n",
       "    </tr>\n",
       "    <tr>\n",
       "      <th>...</th>\n",
       "      <td>...</td>\n",
       "      <td>...</td>\n",
       "      <td>...</td>\n",
       "      <td>...</td>\n",
       "      <td>...</td>\n",
       "      <td>...</td>\n",
       "      <td>...</td>\n",
       "      <td>...</td>\n",
       "      <td>...</td>\n",
       "      <td>...</td>\n",
       "      <td>...</td>\n",
       "      <td>...</td>\n",
       "      <td>...</td>\n",
       "      <td>...</td>\n",
       "      <td>...</td>\n",
       "      <td>...</td>\n",
       "      <td>...</td>\n",
       "      <td>...</td>\n",
       "      <td>...</td>\n",
       "      <td>...</td>\n",
       "      <td>...</td>\n",
       "    </tr>\n",
       "    <tr>\n",
       "      <th>159</th>\n",
       "      <td>nan</td>\n",
       "      <td>Wiener et al. (2017) - UNIMI</td>\n",
       "      <td>c1cc(O)c(O)cc1C[C@@H](C2=O)COc(c23)c(OC)c(OC)c...</td>\n",
       "      <td>COc1c(O)c(O)c2c(c1OC)OC[C@@H](Cc1ccc(O)c(O)c1)...</td>\n",
       "      <td>1</td>\n",
       "      <td>19.981978</td>\n",
       "      <td>16.397806</td>\n",
       "      <td>0</td>\n",
       "      <td>0</td>\n",
       "      <td>33.251113</td>\n",
       "      <td>...</td>\n",
       "      <td>10.378385</td>\n",
       "      <td>61.437322</td>\n",
       "      <td>362.100168</td>\n",
       "      <td>8.229549</td>\n",
       "      <td>1633</td>\n",
       "      <td>49</td>\n",
       "      <td>138.0</td>\n",
       "      <td>168.0</td>\n",
       "      <td>10.222222</td>\n",
       "      <td>5.833333</td>\n",
       "    </tr>\n",
       "    <tr>\n",
       "      <th>160</th>\n",
       "      <td>nan</td>\n",
       "      <td>Wiener et al. (2017) - UNIMI</td>\n",
       "      <td>c1cccc(c1C([O-])=O)NC(=O)/C=C/c2ccc(O)cc2</td>\n",
       "      <td>O=C(/C=C/c1ccc(O)cc1)Nc1ccccc1C(=O)[O-]</td>\n",
       "      <td>1</td>\n",
       "      <td>15.913028</td>\n",
       "      <td>13.077290</td>\n",
       "      <td>1</td>\n",
       "      <td>0</td>\n",
       "      <td>26.247606</td>\n",
       "      <td>...</td>\n",
       "      <td>9.668714</td>\n",
       "      <td>54.181448</td>\n",
       "      <td>282.077181</td>\n",
       "      <td>8.547793</td>\n",
       "      <td>1064</td>\n",
       "      <td>28</td>\n",
       "      <td>102.0</td>\n",
       "      <td>114.0</td>\n",
       "      <td>7.416667</td>\n",
       "      <td>4.722222</td>\n",
       "    </tr>\n",
       "    <tr>\n",
       "      <th>161</th>\n",
       "      <td>nan</td>\n",
       "      <td>Wiener et al. (2017) - UNIMI</td>\n",
       "      <td>c1cccc(c1C([O-])=O)NC(=O)/C=C/c2cc(OC)c(cc2)OC</td>\n",
       "      <td>COc1ccc(/C=C/C(=O)Nc2ccccc2C(=O)[O-])cc1OC</td>\n",
       "      <td>1</td>\n",
       "      <td>17.884519</td>\n",
       "      <td>14.823609</td>\n",
       "      <td>1</td>\n",
       "      <td>0</td>\n",
       "      <td>30.336232</td>\n",
       "      <td>...</td>\n",
       "      <td>9.866357</td>\n",
       "      <td>57.946497</td>\n",
       "      <td>326.103396</td>\n",
       "      <td>8.152585</td>\n",
       "      <td>1535</td>\n",
       "      <td>35</td>\n",
       "      <td>116.0</td>\n",
       "      <td>132.0</td>\n",
       "      <td>8.777778</td>\n",
       "      <td>5.583333</td>\n",
       "    </tr>\n",
       "    <tr>\n",
       "      <th>162</th>\n",
       "      <td>nan</td>\n",
       "      <td>Wiener et al. (2017) - UNIMI</td>\n",
       "      <td>c1cccc(c1C([O-])=O)NC(=O)/C=C/c2cc(O)ccc2</td>\n",
       "      <td>O=C(/C=C/c1cccc(O)c1)Nc1ccccc1C(=O)[O-]</td>\n",
       "      <td>1</td>\n",
       "      <td>15.913028</td>\n",
       "      <td>13.206444</td>\n",
       "      <td>1</td>\n",
       "      <td>0</td>\n",
       "      <td>26.180249</td>\n",
       "      <td>...</td>\n",
       "      <td>9.674389</td>\n",
       "      <td>54.189588</td>\n",
       "      <td>282.077181</td>\n",
       "      <td>8.547793</td>\n",
       "      <td>1050</td>\n",
       "      <td>28</td>\n",
       "      <td>102.0</td>\n",
       "      <td>114.0</td>\n",
       "      <td>7.416667</td>\n",
       "      <td>4.722222</td>\n",
       "    </tr>\n",
       "    <tr>\n",
       "      <th>163</th>\n",
       "      <td>nan</td>\n",
       "      <td>Wiener et al. (2017) - UNIMI</td>\n",
       "      <td>[O-]C(=O)c1cc(ccc1)NC(=O)/C=C/c2cc(O)ccc2</td>\n",
       "      <td>O=C(/C=C/c1cccc(O)c1)Nc1cccc(C(=O)[O-])c1</td>\n",
       "      <td>1</td>\n",
       "      <td>15.953468</td>\n",
       "      <td>12.939038</td>\n",
       "      <td>1</td>\n",
       "      <td>0</td>\n",
       "      <td>26.153330</td>\n",
       "      <td>...</td>\n",
       "      <td>9.628722</td>\n",
       "      <td>54.110294</td>\n",
       "      <td>282.077181</td>\n",
       "      <td>8.547793</td>\n",
       "      <td>1086</td>\n",
       "      <td>27</td>\n",
       "      <td>102.0</td>\n",
       "      <td>113.0</td>\n",
       "      <td>7.416667</td>\n",
       "      <td>4.694444</td>\n",
       "    </tr>\n",
       "  </tbody>\n",
       "</table>\n",
       "<p>164 rows × 1831 columns</p>\n",
       "</div>"
      ],
      "text/plain": [
       "           Name                                Reference  \\\n",
       "0    D-Fructose  Wiener et al. (2017) - Phyto-Dictionary   \n",
       "1     D-Glucose  Wiener et al. (2017) - Phyto-Dictionary   \n",
       "2     D-Mannose  Wiener et al. (2017) - Phyto-Dictionary   \n",
       "3    L-Rhamnose  Wiener et al. (2017) - Phyto-Dictionary   \n",
       "4    D-Ribulose  Wiener et al. (2017) - Phyto-Dictionary   \n",
       "..          ...                                      ...   \n",
       "159         nan             Wiener et al. (2017) - UNIMI   \n",
       "160         nan             Wiener et al. (2017) - UNIMI   \n",
       "161         nan             Wiener et al. (2017) - UNIMI   \n",
       "162         nan             Wiener et al. (2017) - UNIMI   \n",
       "163         nan             Wiener et al. (2017) - UNIMI   \n",
       "\n",
       "                                                SMILES  \\\n",
       "0              OC[C@]1(O)[C@@H](O)[C@H](O)[C@@H](CO1)O   \n",
       "1        OC[C@@H]1[C@@H](O)[C@H](O)[C@@H](O)[C@H](O1)O   \n",
       "2         OC[C@@H]1[C@@H](O)[C@H](O)[C@H](O)[C@H](O1)O   \n",
       "3          C[C@H]1[C@H](O)[C@@H](O)[C@@H](O)[C@H](O1)O   \n",
       "4                            OCC(=O)[C@H](O)[C@H](O)CO   \n",
       "..                                                 ...   \n",
       "159  c1cc(O)c(O)cc1C[C@@H](C2=O)COc(c23)c(OC)c(OC)c...   \n",
       "160          c1cccc(c1C([O-])=O)NC(=O)/C=C/c2ccc(O)cc2   \n",
       "161     c1cccc(c1C([O-])=O)NC(=O)/C=C/c2cc(OC)c(cc2)OC   \n",
       "162          c1cccc(c1C([O-])=O)NC(=O)/C=C/c2cc(O)ccc2   \n",
       "163          [O-]C(=O)c1cc(ccc1)NC(=O)/C=C/c2cc(O)ccc2   \n",
       "\n",
       "                                      Canonical SMILES Target        ABC  \\\n",
       "0              OC[C@@]1(O)OC[C@@H](O)[C@@H](O)[C@@H]1O      0   8.829880   \n",
       "1           OC[C@H]1O[C@H](O)[C@H](O)[C@@H](O)[C@@H]1O      0   8.761080   \n",
       "2          OC[C@H]1O[C@H](O)[C@@H](O)[C@@H](O)[C@@H]1O      0   8.761080   \n",
       "3             C[C@@H]1O[C@H](O)[C@H](O)[C@H](O)[C@H]1O      0   8.163363   \n",
       "4                            O=C(CO)[C@H](O)[C@H](O)CO      0   6.611250   \n",
       "..                                                 ...    ...        ...   \n",
       "159  COc1c(O)c(O)c2c(c1OC)OC[C@@H](Cc1ccc(O)c(O)c1)...      1  19.981978   \n",
       "160            O=C(/C=C/c1ccc(O)cc1)Nc1ccccc1C(=O)[O-]      1  15.913028   \n",
       "161         COc1ccc(/C=C/C(=O)Nc2ccccc2C(=O)[O-])cc1OC      1  17.884519   \n",
       "162            O=C(/C=C/c1cccc(O)c1)Nc1ccccc1C(=O)[O-]      1  15.913028   \n",
       "163          O=C(/C=C/c1cccc(O)c1)Nc1cccc(C(=O)[O-])c1      1  15.953468   \n",
       "\n",
       "         ABCGG  nAcid  nBase    SpAbs_A  ...      SRW10     TSRW10  \\\n",
       "0     8.715591      0      0  14.640475  ...   9.569063  43.370989   \n",
       "1     8.651650      0      0  14.708146  ...   9.396405  42.927926   \n",
       "2     8.651650      0      0  14.708146  ...   9.396405  42.927926   \n",
       "3     8.029752      0      0  13.137460  ...   9.331052  41.588577   \n",
       "4     7.282959      0      0  11.763639  ...   8.575273  38.268062   \n",
       "..         ...    ...    ...        ...  ...        ...        ...   \n",
       "159  16.397806      0      0  33.251113  ...  10.378385  61.437322   \n",
       "160  13.077290      1      0  26.247606  ...   9.668714  54.181448   \n",
       "161  14.823609      1      0  30.336232  ...   9.866357  57.946497   \n",
       "162  13.206444      1      0  26.180249  ...   9.674389  54.189588   \n",
       "163  12.939038      1      0  26.153330  ...   9.628722  54.110294   \n",
       "\n",
       "             MW       AMW  WPath  WPol  Zagreb1  Zagreb2   mZagreb1  mZagreb2  \n",
       "0    180.063388  7.502641    178    20     60.0     71.0   6.145833  2.722222  \n",
       "1    180.063388  7.502641    182    19     58.0     68.0   6.055556  2.777778  \n",
       "2    180.063388  7.502641    182    19     58.0     68.0   6.055556  2.777778  \n",
       "3    164.068473  7.133412    140    17     54.0     63.0   5.805556  2.444444  \n",
       "4    150.052823  7.502641    125    12     40.0     43.0   5.833333  2.555556  \n",
       "..          ...       ...    ...   ...      ...      ...        ...       ...  \n",
       "159  362.100168  8.229549   1633    49    138.0    168.0  10.222222  5.833333  \n",
       "160  282.077181  8.547793   1064    28    102.0    114.0   7.416667  4.722222  \n",
       "161  326.103396  8.152585   1535    35    116.0    132.0   8.777778  5.583333  \n",
       "162  282.077181  8.547793   1050    28    102.0    114.0   7.416667  4.722222  \n",
       "163  282.077181  8.547793   1086    27    102.0    113.0   7.416667  4.694444  \n",
       "\n",
       "[164 rows x 1831 columns]"
      ]
     },
     "execution_count": 72,
     "metadata": {},
     "output_type": "execute_result"
    }
   ],
   "source": []
  },
  {
   "cell_type": "code",
   "execution_count": null,
   "metadata": {},
   "outputs": [],
   "source": []
  }
 ],
 "metadata": {
  "colab": {
   "authorship_tag": "ABX9TyM7bNtT95+Tgi10zIEvzjOy",
   "provenance": [],
   "toc_visible": true
  },
  "kernelspec": {
   "display_name": "Python 3 (ipykernel)",
   "language": "python",
   "name": "python3"
  },
  "language_info": {
   "codemirror_mode": {
    "name": "ipython",
    "version": 3
   },
   "file_extension": ".py",
   "mimetype": "text/x-python",
   "name": "python",
   "nbconvert_exporter": "python",
   "pygments_lexer": "ipython3",
   "version": "3.9.13"
  },
  "widgets": {
   "application/vnd.jupyter.widget-state+json": {
    "32b53b90da30457c84e7f8bb29dd04c9": {
     "model_module": "@jupyter-widgets/controls",
     "model_module_version": "1.5.0",
     "model_name": "HTMLModel",
     "state": {
      "_dom_classes": [],
      "_model_module": "@jupyter-widgets/controls",
      "_model_module_version": "1.5.0",
      "_model_name": "HTMLModel",
      "_view_count": null,
      "_view_module": "@jupyter-widgets/controls",
      "_view_module_version": "1.5.0",
      "_view_name": "HTMLView",
      "description": "",
      "description_tooltip": null,
      "layout": "IPY_MODEL_711f9842ea9a47788c8a12e94478997d",
      "placeholder": "​",
      "style": "IPY_MODEL_ba69843cce6148d489fc5035d63d9a38",
      "value": "100%"
     }
    },
    "6b4587a314184c0882c3e31b06c62587": {
     "model_module": "@jupyter-widgets/base",
     "model_module_version": "1.2.0",
     "model_name": "LayoutModel",
     "state": {
      "_model_module": "@jupyter-widgets/base",
      "_model_module_version": "1.2.0",
      "_model_name": "LayoutModel",
      "_view_count": null,
      "_view_module": "@jupyter-widgets/base",
      "_view_module_version": "1.2.0",
      "_view_name": "LayoutView",
      "align_content": null,
      "align_items": null,
      "align_self": null,
      "border": null,
      "bottom": null,
      "display": null,
      "flex": null,
      "flex_flow": null,
      "grid_area": null,
      "grid_auto_columns": null,
      "grid_auto_flow": null,
      "grid_auto_rows": null,
      "grid_column": null,
      "grid_gap": null,
      "grid_row": null,
      "grid_template_areas": null,
      "grid_template_columns": null,
      "grid_template_rows": null,
      "height": null,
      "justify_content": null,
      "justify_items": null,
      "left": null,
      "margin": null,
      "max_height": null,
      "max_width": null,
      "min_height": null,
      "min_width": null,
      "object_fit": null,
      "object_position": null,
      "order": null,
      "overflow": null,
      "overflow_x": null,
      "overflow_y": null,
      "padding": null,
      "right": null,
      "top": null,
      "visibility": null,
      "width": null
     }
    },
    "6d19a5d71f2e4fdd95eecaa70fb021ac": {
     "model_module": "@jupyter-widgets/controls",
     "model_module_version": "1.5.0",
     "model_name": "DescriptionStyleModel",
     "state": {
      "_model_module": "@jupyter-widgets/controls",
      "_model_module_version": "1.5.0",
      "_model_name": "DescriptionStyleModel",
      "_view_count": null,
      "_view_module": "@jupyter-widgets/base",
      "_view_module_version": "1.2.0",
      "_view_name": "StyleView",
      "description_width": ""
     }
    },
    "711f9842ea9a47788c8a12e94478997d": {
     "model_module": "@jupyter-widgets/base",
     "model_module_version": "1.2.0",
     "model_name": "LayoutModel",
     "state": {
      "_model_module": "@jupyter-widgets/base",
      "_model_module_version": "1.2.0",
      "_model_name": "LayoutModel",
      "_view_count": null,
      "_view_module": "@jupyter-widgets/base",
      "_view_module_version": "1.2.0",
      "_view_name": "LayoutView",
      "align_content": null,
      "align_items": null,
      "align_self": null,
      "border": null,
      "bottom": null,
      "display": null,
      "flex": null,
      "flex_flow": null,
      "grid_area": null,
      "grid_auto_columns": null,
      "grid_auto_flow": null,
      "grid_auto_rows": null,
      "grid_column": null,
      "grid_gap": null,
      "grid_row": null,
      "grid_template_areas": null,
      "grid_template_columns": null,
      "grid_template_rows": null,
      "height": null,
      "justify_content": null,
      "justify_items": null,
      "left": null,
      "margin": null,
      "max_height": null,
      "max_width": null,
      "min_height": null,
      "min_width": null,
      "object_fit": null,
      "object_position": null,
      "order": null,
      "overflow": null,
      "overflow_x": null,
      "overflow_y": null,
      "padding": null,
      "right": null,
      "top": null,
      "visibility": null,
      "width": null
     }
    },
    "7c4328d140324987b283ca148773b024": {
     "model_module": "@jupyter-widgets/controls",
     "model_module_version": "1.5.0",
     "model_name": "HTMLModel",
     "state": {
      "_dom_classes": [],
      "_model_module": "@jupyter-widgets/controls",
      "_model_module_version": "1.5.0",
      "_model_name": "HTMLModel",
      "_view_count": null,
      "_view_module": "@jupyter-widgets/controls",
      "_view_module_version": "1.5.0",
      "_view_name": "HTMLView",
      "description": "",
      "description_tooltip": null,
      "layout": "IPY_MODEL_881b7985ef7f4654ab7ac2b28fb43e34",
      "placeholder": "​",
      "style": "IPY_MODEL_6d19a5d71f2e4fdd95eecaa70fb021ac",
      "value": " 50/50 [13:38&lt;00:00, 15.32s/it]"
     }
    },
    "881b7985ef7f4654ab7ac2b28fb43e34": {
     "model_module": "@jupyter-widgets/base",
     "model_module_version": "1.2.0",
     "model_name": "LayoutModel",
     "state": {
      "_model_module": "@jupyter-widgets/base",
      "_model_module_version": "1.2.0",
      "_model_name": "LayoutModel",
      "_view_count": null,
      "_view_module": "@jupyter-widgets/base",
      "_view_module_version": "1.2.0",
      "_view_name": "LayoutView",
      "align_content": null,
      "align_items": null,
      "align_self": null,
      "border": null,
      "bottom": null,
      "display": null,
      "flex": null,
      "flex_flow": null,
      "grid_area": null,
      "grid_auto_columns": null,
      "grid_auto_flow": null,
      "grid_auto_rows": null,
      "grid_column": null,
      "grid_gap": null,
      "grid_row": null,
      "grid_template_areas": null,
      "grid_template_columns": null,
      "grid_template_rows": null,
      "height": null,
      "justify_content": null,
      "justify_items": null,
      "left": null,
      "margin": null,
      "max_height": null,
      "max_width": null,
      "min_height": null,
      "min_width": null,
      "object_fit": null,
      "object_position": null,
      "order": null,
      "overflow": null,
      "overflow_x": null,
      "overflow_y": null,
      "padding": null,
      "right": null,
      "top": null,
      "visibility": null,
      "width": null
     }
    },
    "8936103a1a1c4672aca496eb65f174da": {
     "model_module": "@jupyter-widgets/controls",
     "model_module_version": "1.5.0",
     "model_name": "FloatProgressModel",
     "state": {
      "_dom_classes": [],
      "_model_module": "@jupyter-widgets/controls",
      "_model_module_version": "1.5.0",
      "_model_name": "FloatProgressModel",
      "_view_count": null,
      "_view_module": "@jupyter-widgets/controls",
      "_view_module_version": "1.5.0",
      "_view_name": "ProgressView",
      "bar_style": "success",
      "description": "",
      "description_tooltip": null,
      "layout": "IPY_MODEL_6b4587a314184c0882c3e31b06c62587",
      "max": 50,
      "min": 0,
      "orientation": "horizontal",
      "style": "IPY_MODEL_bf9c94d7869f48c4a3acaeeea2072801",
      "value": 50
     }
    },
    "a484fb67a4174c1aa57b0b0f9ec03f9d": {
     "model_module": "@jupyter-widgets/base",
     "model_module_version": "1.2.0",
     "model_name": "LayoutModel",
     "state": {
      "_model_module": "@jupyter-widgets/base",
      "_model_module_version": "1.2.0",
      "_model_name": "LayoutModel",
      "_view_count": null,
      "_view_module": "@jupyter-widgets/base",
      "_view_module_version": "1.2.0",
      "_view_name": "LayoutView",
      "align_content": null,
      "align_items": null,
      "align_self": null,
      "border": null,
      "bottom": null,
      "display": null,
      "flex": null,
      "flex_flow": null,
      "grid_area": null,
      "grid_auto_columns": null,
      "grid_auto_flow": null,
      "grid_auto_rows": null,
      "grid_column": null,
      "grid_gap": null,
      "grid_row": null,
      "grid_template_areas": null,
      "grid_template_columns": null,
      "grid_template_rows": null,
      "height": null,
      "justify_content": null,
      "justify_items": null,
      "left": null,
      "margin": null,
      "max_height": null,
      "max_width": null,
      "min_height": null,
      "min_width": null,
      "object_fit": null,
      "object_position": null,
      "order": null,
      "overflow": null,
      "overflow_x": null,
      "overflow_y": null,
      "padding": null,
      "right": null,
      "top": null,
      "visibility": null,
      "width": null
     }
    },
    "ba69843cce6148d489fc5035d63d9a38": {
     "model_module": "@jupyter-widgets/controls",
     "model_module_version": "1.5.0",
     "model_name": "DescriptionStyleModel",
     "state": {
      "_model_module": "@jupyter-widgets/controls",
      "_model_module_version": "1.5.0",
      "_model_name": "DescriptionStyleModel",
      "_view_count": null,
      "_view_module": "@jupyter-widgets/base",
      "_view_module_version": "1.2.0",
      "_view_name": "StyleView",
      "description_width": ""
     }
    },
    "bf9c94d7869f48c4a3acaeeea2072801": {
     "model_module": "@jupyter-widgets/controls",
     "model_module_version": "1.5.0",
     "model_name": "ProgressStyleModel",
     "state": {
      "_model_module": "@jupyter-widgets/controls",
      "_model_module_version": "1.5.0",
      "_model_name": "ProgressStyleModel",
      "_view_count": null,
      "_view_module": "@jupyter-widgets/base",
      "_view_module_version": "1.2.0",
      "_view_name": "StyleView",
      "bar_color": null,
      "description_width": ""
     }
    },
    "e7eca50bff4a4c6c9883e03bb7850fb6": {
     "model_module": "@jupyter-widgets/controls",
     "model_module_version": "1.5.0",
     "model_name": "HBoxModel",
     "state": {
      "_dom_classes": [],
      "_model_module": "@jupyter-widgets/controls",
      "_model_module_version": "1.5.0",
      "_model_name": "HBoxModel",
      "_view_count": null,
      "_view_module": "@jupyter-widgets/controls",
      "_view_module_version": "1.5.0",
      "_view_name": "HBoxView",
      "box_style": "",
      "children": [
       "IPY_MODEL_32b53b90da30457c84e7f8bb29dd04c9",
       "IPY_MODEL_8936103a1a1c4672aca496eb65f174da",
       "IPY_MODEL_7c4328d140324987b283ca148773b024"
      ],
      "layout": "IPY_MODEL_a484fb67a4174c1aa57b0b0f9ec03f9d"
     }
    }
   }
  }
 },
 "nbformat": 4,
 "nbformat_minor": 4
}
