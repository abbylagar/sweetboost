{
 "cells": [
  {
   "cell_type": "code",
   "execution_count": 1,
   "metadata": {
    "colab": {
     "base_uri": "https://localhost:8080/"
    },
    "executionInfo": {
     "elapsed": 18136,
     "status": "ok",
     "timestamp": 1670638659707,
     "user": {
      "displayName": "Alagar",
      "userId": "18409237732645261754"
     },
     "user_tz": -480
    },
    "id": "Lc0_7UbrzruK",
    "outputId": "b31f64df-9f88-4b60-acba-3da70d43b496"
   },
   "outputs": [
    {
     "name": "stdout",
     "output_type": "stream",
     "text": [
      "Requirement already satisfied: rdkit in /Users/kristianespina/opt/anaconda3/lib/python3.9/site-packages (2022.9.3)\n",
      "Requirement already satisfied: mordred in /Users/kristianespina/opt/anaconda3/lib/python3.9/site-packages (1.2.0)\n",
      "Requirement already satisfied: Pillow in /Users/kristianespina/opt/anaconda3/lib/python3.9/site-packages (from rdkit) (9.2.0)\n",
      "Requirement already satisfied: numpy in /Users/kristianespina/opt/anaconda3/lib/python3.9/site-packages (from rdkit) (1.21.5)\n",
      "Requirement already satisfied: six==1.* in /Users/kristianespina/opt/anaconda3/lib/python3.9/site-packages (from mordred) (1.16.0)\n",
      "Requirement already satisfied: networkx==2.* in /Users/kristianespina/opt/anaconda3/lib/python3.9/site-packages (from mordred) (2.8.4)\n"
     ]
    }
   ],
   "source": [
    "!pip install rdkit mordred"
   ]
  },
  {
   "cell_type": "code",
   "execution_count": 66,
   "metadata": {
    "executionInfo": {
     "elapsed": 1006,
     "status": "ok",
     "timestamp": 1670638670764,
     "user": {
      "displayName": "Alagar",
      "userId": "18409237732645261754"
     },
     "user_tz": -480
    },
    "id": "VILL9P9LzmJu"
   },
   "outputs": [],
   "source": [
    "import pandas as pd\n",
    "import numpy as np\n",
    "from rdkit import Chem\n",
    "from mordred import Calculator, descriptors\n",
    "import warnings\n",
    "warnings.filterwarnings('ignore') # To suppress runtime and deprication warnings. \n"
   ]
  },
  {
   "cell_type": "markdown",
   "metadata": {
    "id": "YJutgi417gZe"
   },
   "source": [
    "# Feature Calculation"
   ]
  },
  {
   "cell_type": "markdown",
   "metadata": {
    "id": "26x1UpaP1Sbc"
   },
   "source": [
    "from https://github.com/rohitfarmer/bittersweet/blob/master/notebooks/feature-calculation-mordred.ipynb"
   ]
  },
  {
   "cell_type": "code",
   "execution_count": 67,
   "metadata": {
    "executionInfo": {
     "elapsed": 426,
     "status": "ok",
     "timestamp": 1670638936076,
     "user": {
      "displayName": "Alagar",
      "userId": "18409237732645261754"
     },
     "user_tz": -480
    },
    "id": "RgxIo8T70wGz"
   },
   "outputs": [],
   "source": [
    "sweet_train = pd.read_csv('data/sweet-train.tsv', sep='\\t')\n",
    "sweet_test = pd.read_csv('data/sweet-test.tsv', sep='\\t')\n",
    "bitter_train = pd.read_csv('data/bitter-train.tsv', sep='\\t')\n",
    "bitter_test = pd.read_csv('data/bitter-test.tsv', sep='\\t')\n",
    "\n",
    "df_sweet = pd.DataFrame()\n",
    "df_bitter = pd.DataFrame()\n",
    "\n",
    "# Concatenate train and test set\n",
    "df_sweet = pd.concat([sweet_train[['Name','SMILES','Sweet']], sweet_test[['Name','SMILES','Sweet']] ])\n",
    "df_bitter = pd.concat([bitter_train[['Name','SMILES','Bitter']], bitter_test[['Name','SMILES','Bitter']] ])\n",
    "\n",
    "\n",
    "# Rename taste column as Target.\n",
    "df_sweet.rename(columns={'Sweet':'Target'}, inplace=True)\n",
    "df_bitter.rename(columns={'Bitter':'Target'}, inplace=True)"
   ]
  },
  {
   "cell_type": "code",
   "execution_count": 68,
   "metadata": {
    "colab": {
     "base_uri": "https://localhost:8080/",
     "height": 119
    },
    "executionInfo": {
     "elapsed": 414,
     "status": "ok",
     "timestamp": 1670638939392,
     "user": {
      "displayName": "Alagar",
      "userId": "18409237732645261754"
     },
     "user_tz": -480
    },
    "id": "SrhEYcnw0uk7",
    "outputId": "16c58225-4158-453b-cc8d-99b7c49b04e7"
   },
   "outputs": [
    {
     "name": "stdout",
     "output_type": "stream",
     "text": [
      "Name      2266\n",
      "SMILES    2366\n",
      "Target    2366\n",
      "dtype: int64\n"
     ]
    },
    {
     "data": {
      "text/html": [
       "<div>\n",
       "<style scoped>\n",
       "    .dataframe tbody tr th:only-of-type {\n",
       "        vertical-align: middle;\n",
       "    }\n",
       "\n",
       "    .dataframe tbody tr th {\n",
       "        vertical-align: top;\n",
       "    }\n",
       "\n",
       "    .dataframe thead th {\n",
       "        text-align: right;\n",
       "    }\n",
       "</style>\n",
       "<table border=\"1\" class=\"dataframe\">\n",
       "  <thead>\n",
       "    <tr style=\"text-align: right;\">\n",
       "      <th></th>\n",
       "      <th>Name</th>\n",
       "      <th>SMILES</th>\n",
       "      <th>Target</th>\n",
       "    </tr>\n",
       "  </thead>\n",
       "  <tbody>\n",
       "  </tbody>\n",
       "</table>\n",
       "</div>"
      ],
      "text/plain": [
       "Empty DataFrame\n",
       "Columns: [Name, SMILES, Target]\n",
       "Index: []"
      ]
     },
     "execution_count": 68,
     "metadata": {},
     "output_type": "execute_result"
    }
   ],
   "source": [
    "print(df_sweet.count())\n",
    "df_sweet[df_sweet['SMILES'].isna()] # check if any of the SMILES is a NaN."
   ]
  },
  {
   "cell_type": "code",
   "execution_count": 70,
   "metadata": {},
   "outputs": [
    {
     "name": "stdout",
     "output_type": "stream",
     "text": [
      "Name      2291\n",
      "SMILES    2428\n",
      "Target    2428\n",
      "dtype: int64\n"
     ]
    },
    {
     "data": {
      "text/html": [
       "<div>\n",
       "<style scoped>\n",
       "    .dataframe tbody tr th:only-of-type {\n",
       "        vertical-align: middle;\n",
       "    }\n",
       "\n",
       "    .dataframe tbody tr th {\n",
       "        vertical-align: top;\n",
       "    }\n",
       "\n",
       "    .dataframe thead th {\n",
       "        text-align: right;\n",
       "    }\n",
       "</style>\n",
       "<table border=\"1\" class=\"dataframe\">\n",
       "  <thead>\n",
       "    <tr style=\"text-align: right;\">\n",
       "      <th></th>\n",
       "      <th>Name</th>\n",
       "      <th>SMILES</th>\n",
       "      <th>Target</th>\n",
       "    </tr>\n",
       "  </thead>\n",
       "  <tbody>\n",
       "  </tbody>\n",
       "</table>\n",
       "</div>"
      ],
      "text/plain": [
       "Empty DataFrame\n",
       "Columns: [Name, SMILES, Target]\n",
       "Index: []"
      ]
     },
     "execution_count": 70,
     "metadata": {},
     "output_type": "execute_result"
    }
   ],
   "source": [
    "print(df_bitter.count())\n",
    "df_bitter[df_bitter['SMILES'].isna()] # check if any of the SMILES is a NaN."
   ]
  },
  {
   "cell_type": "code",
   "execution_count": 196,
   "metadata": {},
   "outputs": [],
   "source": [
    "df_sweet['Target'] = df_sweet['Target'].astype(int) # Convert to numeric"
   ]
  },
  {
   "cell_type": "code",
   "execution_count": 197,
   "metadata": {},
   "outputs": [],
   "source": [
    "df_bitter['Target'] = df_bitter['Target'].astype(int) # Convert to numeric"
   ]
  },
  {
   "cell_type": "code",
   "execution_count": 200,
   "metadata": {
    "executionInfo": {
     "elapsed": 2965,
     "status": "ok",
     "timestamp": 1670639122594,
     "user": {
      "displayName": "Alagar",
      "userId": "18409237732645261754"
     },
     "user_tz": -480
    },
    "id": "sB1IDs09zwZB"
   },
   "outputs": [],
   "source": [
    "# Convert SMILES into Canonical SMILES using RDKit.\n",
    "def convert_to_canonical_smiles(df):\n",
    "#     length = df.shape[0]\n",
    "#     exceptions = 0\n",
    "#     valid = []\n",
    "#     for i in range(length):\n",
    "#         try:\n",
    "#             c = Chem.CanonSmiles(str(df.iloc[i]['SMILES']))\n",
    "#             row = df.iloc[i]\n",
    "#             valid.append({'name': str(row['Name']), 'smiles': str(row['SMILES']), 'Canonical SMILES': c, 'target': 1 if row['Target'] == True else 0})\n",
    "#         except:\n",
    "#             exceptions += 1\n",
    "#             continue\n",
    "            \n",
    "#     return valid     \n",
    "    length = df.shape[0]\n",
    "\n",
    "    name = []\n",
    "    smiles = []\n",
    "    canon_smiles = []\n",
    "    target = []\n",
    "    exceptions = 0\n",
    "    failed_smiles = []\n",
    "    failed_name = []\n",
    "    failed_target = []\n",
    "    for i in range(length):\n",
    "        try:\n",
    "            c = Chem.CanonSmiles(str(df.iloc[i]['SMILES']))\n",
    "            canon_smiles.append(c)\n",
    "            smiles.append(str(df.iloc[i]['SMILES']))\n",
    "            target.append(str(df.iloc[i]['Target']))\n",
    "            name.append(str(df.iloc[i]['Name']))\n",
    "        except:\n",
    "            exceptions += 1\n",
    "            failed_smiles.append(str(df.iloc[i]['SMILES']))\n",
    "            failed_name.append(str(df.iloc[i]['Target']))\n",
    "            failed_target.append(str(df.iloc[i]['Name']))\n",
    "            continue\n",
    "            \n",
    "    return {'Name':name, 'SMILES':smiles, 'Canonical SMILES':canon_smiles, 'Target':target}"
   ]
  },
  {
   "cell_type": "code",
   "execution_count": 216,
   "metadata": {
    "colab": {
     "base_uri": "https://localhost:8080/"
    },
    "executionInfo": {
     "elapsed": 510,
     "status": "ok",
     "timestamp": 1670639130900,
     "user": {
      "displayName": "Alagar",
      "userId": "18409237732645261754"
     },
     "user_tz": -480
    },
    "id": "mjrj2YT815SV",
    "outputId": "ae85cdad-7c84-4fb8-9ef8-e1f800cd1e4d"
   },
   "outputs": [
    {
     "name": "stderr",
     "output_type": "stream",
     "text": [
      "[17:14:57] Explicit valence for atom # 2 N, 4, is greater than permitted\n",
      "[17:14:57] Explicit valence for atom # 2 N, 4, is greater than permitted\n",
      "[17:14:57] Explicit valence for atom # 5 N, 4, is greater than permitted\n",
      "[17:14:57] Explicit valence for atom # 6 N, 4, is greater than permitted\n",
      "[17:14:57] Explicit valence for atom # 7 N, 4, is greater than permitted\n",
      "[17:14:57] Explicit valence for atom # 9 N, 4, is greater than permitted\n",
      "[17:14:57] Explicit valence for atom # 11 N, 4, is greater than permitted\n",
      "[17:14:57] Explicit valence for atom # 3 N, 4, is greater than permitted\n",
      "[17:14:57] Explicit valence for atom # 3 N, 4, is greater than permitted\n",
      "[17:14:57] Explicit valence for atom # 3 N, 4, is greater than permitted\n",
      "[17:14:57] Explicit valence for atom # 2 N, 4, is greater than permitted\n",
      "[17:14:57] SMILES Parse Error: unclosed ring for input: '[NaH].[NaH].O1[C@@H](OC2CC[C@]3([C@H]4[C@@](CC[C@H]3C2(C)C)(C)[C@@]2(CC[C@@]3([C@@H](C2=CC4=O)C[C@@](CC3)(C(O)=O)C)C)C)C)C(O[C@@H]2OC(C(O)=O)C(O)C(O)C2O)C(O)'\n",
      "[17:14:57] SMILES Parse Error: extra open parentheses for input: 'O1C(CO)C(O)C(O)C(O[C@H]2OC(CO)C(O)C(O)C2O)C1OC(C(O)(C)C)CCC(C)[C@@H]1CC[C@@]2([C@@H]3CC=C4[C@@H](CCC(O[C@@H]5OC(COC6OC(CO)C(O)C(O)C6O)C(O)C(O)C5O)C4(C)C)[C@]'\n",
      "[17:14:57] SMILES Parse Error: syntax error while parsing: O1C(COC2OC(CO)C(O)C(O)C2O)C(O)C(O)C(O[C@@H]2OC(CO)C(O)C(O)C2O)C1OC(C(O)(C)C)CCC(C)[C@@H]1CC[C@]2([C@@H]3CC=C4[C@H](CCC(O[C@H]5OC(COC6OC(CO)C(O)C(O)C6O)C(O)C(\n",
      "[17:14:57] SMILES Parse Error: Failed parsing SMILES 'O1C(COC2OC(CO)C(O)C(O)C2O)C(O)C(O)C(O[C@@H]2OC(CO)C(O)C(O)C2O)C1OC(C(O)(C)C)CCC(C)[C@@H]1CC[C@]2([C@@H]3CC=C4[C@H](CCC(O[C@H]5OC(COC6OC(CO)C(O)C(O)C6O)C(O)C(' for input: 'O1C(COC2OC(CO)C(O)C(O)C2O)C(O)C(O)C(O[C@@H]2OC(CO)C(O)C(O)C2O)C1OC(C(O)(C)C)CCC(C)[C@@H]1CC[C@]2([C@@H]3CC=C4[C@H](CCC(O[C@H]5OC(COC6OC(CO)C(O)C(O)C6O)C(O)C('\n",
      "[17:14:57] SMILES Parse Error: extra open parentheses for input: 'O1C(COC2OC(CO)C(O)C(O)C2O)C(O)C(O)C(O[C@H]2OC(CO)C(O)C(O)C2O)C1OC(C(O)(C)C)CCC(C)[C@@H]1CC[C@@]2([C@@H]3CC=C4[C@@H](CCC(O[C@H]5OC(CO)C(O)C(O)C5O)C4(C)C)[C@]3'\n",
      "[17:14:57] SMILES Parse Error: unclosed ring for input: 'O1[C@@H](OC2C(O[C@H](OC3C(O[C@@H](OC4CC[C@@]5([C@H](C4)CC[C@H]4[C@@H]5CC(OC(=O)C)[C@@]5(C)[C@@](O)(CC[C@]45O)C(OC(=O)C(CC)C)C)C)CC3OC)C)CC2OC)C)C(O)C(OC)C(O)'\n",
      "[17:14:57] WARNING: not removing hydrogen atom without neighbors\n",
      "[17:14:57] WARNING: not removing hydrogen atom without neighbors\n",
      "[17:14:57] WARNING: not removing hydrogen atom without neighbors\n",
      "[17:14:57] SMILES Parse Error: syntax error while parsing: CN[C@H](CC(C)C)C(=O)N[C@@H]1[C@H](O)c2ccc(Oc3cc4cc(Oc5ccc(cc5Cl)[C@@H](O)[C@@H]6NC(=O)[C@H](NC(=O)[C@@H]4NC(=O)[C@H](CC(=O)N)NC1=O)c7ccc(O)c(c7)c8c(O)cc(O)cc8[C@H](NC6=O)C(=O)O)c3O[C@@H]9O[C@H](CO)[C@@H](O)[C@H](O)[C@H]9O[C@H]%10C[C@](C)(N)[C@H](O)[C\n",
      "[17:14:57] SMILES Parse Error: Failed parsing SMILES 'CN[C@H](CC(C)C)C(=O)N[C@@H]1[C@H](O)c2ccc(Oc3cc4cc(Oc5ccc(cc5Cl)[C@@H](O)[C@@H]6NC(=O)[C@H](NC(=O)[C@@H]4NC(=O)[C@H](CC(=O)N)NC1=O)c7ccc(O)c(c7)c8c(O)cc(O)cc8[C@H](NC6=O)C(=O)O)c3O[C@@H]9O[C@H](CO)[C@@H](O)[C@H](O)[C@H]9O[C@H]%10C[C@](C)(N)[C@H](O)[C' for input: 'CN[C@H](CC(C)C)C(=O)N[C@@H]1[C@H](O)c2ccc(Oc3cc4cc(Oc5ccc(cc5Cl)[C@@H](O)[C@@H]6NC(=O)[C@H](NC(=O)[C@@H]4NC(=O)[C@H](CC(=O)N)NC1=O)c7ccc(O)c(c7)c8c(O)cc(O)cc8[C@H](NC6=O)C(=O)O)c3O[C@@H]9O[C@H](CO)[C@@H](O)[C@H](O)[C@H]9O[C@H]%10C[C@](C)(N)[C@H](O)[C'\n",
      "[17:14:57] Explicit valence for atom # 11 O, 3, is greater than permitted\n",
      "[17:14:57] Explicit valence for atom # 1 Si, 8, is greater than permitted\n",
      "[17:14:57] WARNING: not removing hydrogen atom without neighbors\n",
      "[17:14:57] Explicit valence for atom # 3 N, 4, is greater than permitted\n",
      "[17:14:57] Explicit valence for atom # 4 N, 4, is greater than permitted\n",
      "[17:14:57] Explicit valence for atom # 8 N, 4, is greater than permitted\n",
      "[17:14:57] SMILES Parse Error: extra open parentheses for input: '[KH].O1[C@H](OC2CC[C@@]3([C@H]4[C@@](CC[C@H]3C2(C)C)(C)[C@@]2(CC[C@@]3([C@H](C2=CC4=O)C[C@@](CC3)(C(O)=O)C)C)C)C)C(O[C@H]2OC(C(O)=O)C(O)C(O)C2O)C(O)C(O)C1C(O'\n",
      "[17:14:57] SMILES Parse Error: extra open parentheses for input: '[KH].[KH].[KH].O1[C@@H](OC2CC[C@@]3([C@H]4[C@@](CC[C@@H]3C2(C)C)(C)[C@@]2(CC[C@@]3([C@@H](C2=CC4=O)C[C@@](CC3)(C(O)=O)C)C)C)C)C(O[C@@H]2OC(C(O)=O)C(O)C(O)C2O'\n",
      "[17:14:58] Explicit valence for atom # 2 N, 4, is greater than permitted\n",
      "[17:14:58] Explicit valence for atom # 2 N, 4, is greater than permitted\n",
      "[17:14:58] Explicit valence for atom # 3 N, 4, is greater than permitted\n",
      "[17:14:58] Explicit valence for atom # 5 N, 4, is greater than permitted\n",
      "[17:14:58] Explicit valence for atom # 6 N, 4, is greater than permitted\n",
      "[17:14:58] Explicit valence for atom # 7 N, 4, is greater than permitted\n",
      "[17:14:58] Explicit valence for atom # 9 N, 4, is greater than permitted\n",
      "[17:14:58] Explicit valence for atom # 11 N, 4, is greater than permitted\n",
      "[17:14:58] Explicit valence for atom # 3 N, 4, is greater than permitted\n",
      "[17:14:58] Explicit valence for atom # 3 N, 4, is greater than permitted\n",
      "[17:14:58] Explicit valence for atom # 3 N, 4, is greater than permitted\n",
      "[17:14:58] Explicit valence for atom # 2 N, 4, is greater than permitted\n",
      "[17:14:58] Explicit valence for atom # 4 N, 4, is greater than permitted\n",
      "[17:14:58] Explicit valence for atom # 8 N, 4, is greater than permitted\n",
      "[17:14:58] SMILES Parse Error: unclosed ring for input: '[NaH].[NaH].O1[C@@H](OC2CC[C@]3([C@H]4[C@@](CC[C@H]3C2(C)C)(C)[C@@]2(CC[C@@]3([C@@H](C2=CC4=O)C[C@@](CC3)(C(O)=O)C)C)C)C)C(O[C@@H]2OC(C(O)=O)C(O)C(O)C2O)C(O)'\n",
      "[17:14:58] SMILES Parse Error: extra open parentheses for input: 'O1C(CO)C(O)C(O)C(O[C@H]2OC(CO)C(O)C(O)C2O)C1OC(C(O)(C)C)CCC(C)[C@@H]1CC[C@@]2([C@@H]3CC=C4[C@@H](CCC(O[C@@H]5OC(COC6OC(CO)C(O)C(O)C6O)C(O)C(O)C5O)C4(C)C)[C@]'\n",
      "[17:14:58] SMILES Parse Error: syntax error while parsing: O1C(COC2OC(CO)C(O)C(O)C2O)C(O)C(O)C(O[C@@H]2OC(CO)C(O)C(O)C2O)C1OC(C(O)(C)C)CCC(C)[C@@H]1CC[C@]2([C@@H]3CC=C4[C@H](CCC(O[C@H]5OC(COC6OC(CO)C(O)C(O)C6O)C(O)C(\n",
      "[17:14:58] SMILES Parse Error: Failed parsing SMILES 'O1C(COC2OC(CO)C(O)C(O)C2O)C(O)C(O)C(O[C@@H]2OC(CO)C(O)C(O)C2O)C1OC(C(O)(C)C)CCC(C)[C@@H]1CC[C@]2([C@@H]3CC=C4[C@H](CCC(O[C@H]5OC(COC6OC(CO)C(O)C(O)C6O)C(O)C(' for input: 'O1C(COC2OC(CO)C(O)C(O)C2O)C(O)C(O)C(O[C@@H]2OC(CO)C(O)C(O)C2O)C1OC(C(O)(C)C)CCC(C)[C@@H]1CC[C@]2([C@@H]3CC=C4[C@H](CCC(O[C@H]5OC(COC6OC(CO)C(O)C(O)C6O)C(O)C('\n",
      "[17:14:58] SMILES Parse Error: extra open parentheses for input: '[KH].O1[C@H](OC2CC[C@@]3([C@H]4[C@@](CC[C@H]3C2(C)C)(C)[C@@]2(CC[C@@]3([C@H](C2=CC4=O)C[C@@](CC3)(C(O)=O)C)C)C)C)C(O[C@H]2OC(C(O)=O)C(O)C(O)C2O)C(O)C(O)C1C(O'\n",
      "[17:14:58] SMILES Parse Error: extra open parentheses for input: 'O1C(COC2OC(CO)C(O)C(O)C2O)C(O)C(O)C(O[C@H]2OC(CO)C(O)C(O)C2O)C1OC(C(O)(C)C)CCC(C)[C@@H]1CC[C@@]2([C@@H]3CC=C4[C@@H](CCC(O[C@H]5OC(CO)C(O)C(O)C5O)C4(C)C)[C@]3'\n",
      "[17:14:58] SMILES Parse Error: unclosed ring for input: 'O1[C@@H](OC2C(O[C@H](OC3C(O[C@@H](OC4CC[C@@]5([C@H](C4)CC[C@H]4[C@@H]5CC(OC(=O)C)[C@@]5(C)[C@@](O)(CC[C@]45O)C(OC(=O)C(CC)C)C)C)CC3OC)C)CC2OC)C)C(O)C(OC)C(O)'\n",
      "[17:14:58] SMILES Parse Error: extra open parentheses for input: '[KH].[KH].[KH].O1[C@@H](OC2CC[C@@]3([C@H]4[C@@](CC[C@@H]3C2(C)C)(C)[C@@]2(CC[C@@]3([C@@H](C2=CC4=O)C[C@@](CC3)(C(O)=O)C)C)C)C)C(O[C@@H]2OC(C(O)=O)C(O)C(O)C2O'\n",
      "[17:14:58] WARNING: not removing hydrogen atom without neighbors\n",
      "[17:14:58] WARNING: not removing hydrogen atom without neighbors\n",
      "[17:14:58] WARNING: not removing hydrogen atom without neighbors\n",
      "[17:14:58] SMILES Parse Error: syntax error while parsing: CN[C@H](CC(C)C)C(=O)N[C@@H]1[C@H](O)c2ccc(Oc3cc4cc(Oc5ccc(cc5Cl)[C@@H](O)[C@@H]6NC(=O)[C@H](NC(=O)[C@@H]4NC(=O)[C@H](CC(=O)N)NC1=O)c7ccc(O)c(c7)c8c(O)cc(O)cc8[C@H](NC6=O)C(=O)O)c3O[C@@H]9O[C@H](CO)[C@@H](O)[C@H](O)[C@H]9O[C@H]%10C[C@](C)(N)[C@H](O)[C\n",
      "[17:14:58] SMILES Parse Error: Failed parsing SMILES 'CN[C@H](CC(C)C)C(=O)N[C@@H]1[C@H](O)c2ccc(Oc3cc4cc(Oc5ccc(cc5Cl)[C@@H](O)[C@@H]6NC(=O)[C@H](NC(=O)[C@@H]4NC(=O)[C@H](CC(=O)N)NC1=O)c7ccc(O)c(c7)c8c(O)cc(O)cc8[C@H](NC6=O)C(=O)O)c3O[C@@H]9O[C@H](CO)[C@@H](O)[C@H](O)[C@H]9O[C@H]%10C[C@](C)(N)[C@H](O)[C' for input: 'CN[C@H](CC(C)C)C(=O)N[C@@H]1[C@H](O)c2ccc(Oc3cc4cc(Oc5ccc(cc5Cl)[C@@H](O)[C@@H]6NC(=O)[C@H](NC(=O)[C@@H]4NC(=O)[C@H](CC(=O)N)NC1=O)c7ccc(O)c(c7)c8c(O)cc(O)cc8[C@H](NC6=O)C(=O)O)c3O[C@@H]9O[C@H](CO)[C@@H](O)[C@H](O)[C@H]9O[C@H]%10C[C@](C)(N)[C@H](O)[C'\n",
      "[17:14:58] Explicit valence for atom # 11 O, 3, is greater than permitted\n",
      "[17:14:58] Explicit valence for atom # 1 Si, 8, is greater than permitted\n",
      "[17:14:58] WARNING: not removing hydrogen atom without neighbors\n"
     ]
    }
   ],
   "source": [
    "valid_sweet = convert_to_canonical_smiles(df_sweet)\n",
    "valid_bitter = convert_to_canonical_smiles(df_bitter)\n",
    "df_sweet_valid = pd.DataFrame(valid_sweet)\n",
    "df_bitter_valid = pd.DataFrame(valid_bitter)"
   ]
  },
  {
   "cell_type": "code",
   "execution_count": 217,
   "metadata": {
    "colab": {
     "base_uri": "https://localhost:8080/"
    },
    "executionInfo": {
     "elapsed": 541,
     "status": "ok",
     "timestamp": 1670639138921,
     "user": {
      "displayName": "Alagar",
      "userId": "18409237732645261754"
     },
     "user_tz": -480
    },
    "id": "hsOhWLGN19sG",
    "outputId": "91b3e938-c0ed-4d17-980c-c7be6d183e15"
   },
   "outputs": [
    {
     "data": {
      "text/html": [
       "<div>\n",
       "<style scoped>\n",
       "    .dataframe tbody tr th:only-of-type {\n",
       "        vertical-align: middle;\n",
       "    }\n",
       "\n",
       "    .dataframe tbody tr th {\n",
       "        vertical-align: top;\n",
       "    }\n",
       "\n",
       "    .dataframe thead th {\n",
       "        text-align: right;\n",
       "    }\n",
       "</style>\n",
       "<table border=\"1\" class=\"dataframe\">\n",
       "  <thead>\n",
       "    <tr style=\"text-align: right;\">\n",
       "      <th></th>\n",
       "      <th>Name</th>\n",
       "      <th>SMILES</th>\n",
       "      <th>Canonical SMILES</th>\n",
       "      <th>Target</th>\n",
       "    </tr>\n",
       "  </thead>\n",
       "  <tbody>\n",
       "    <tr>\n",
       "      <th>count</th>\n",
       "      <td>2342</td>\n",
       "      <td>2342</td>\n",
       "      <td>2342</td>\n",
       "      <td>2342</td>\n",
       "    </tr>\n",
       "    <tr>\n",
       "      <th>unique</th>\n",
       "      <td>2185</td>\n",
       "      <td>2342</td>\n",
       "      <td>2338</td>\n",
       "      <td>2</td>\n",
       "    </tr>\n",
       "    <tr>\n",
       "      <th>top</th>\n",
       "      <td>nan</td>\n",
       "      <td>OCC1OC(C(C1O)O)(CO)OC1OC(CO)C(C(C1O)O)O</td>\n",
       "      <td>O=C1NS(=O)(=O)c2cc([N+](=O)[O-])ccc21</td>\n",
       "      <td>1</td>\n",
       "    </tr>\n",
       "    <tr>\n",
       "      <th>freq</th>\n",
       "      <td>100</td>\n",
       "      <td>1</td>\n",
       "      <td>2</td>\n",
       "      <td>1240</td>\n",
       "    </tr>\n",
       "  </tbody>\n",
       "</table>\n",
       "</div>"
      ],
      "text/plain": [
       "        Name                                   SMILES  \\\n",
       "count   2342                                     2342   \n",
       "unique  2185                                     2342   \n",
       "top      nan  OCC1OC(C(C1O)O)(CO)OC1OC(CO)C(C(C1O)O)O   \n",
       "freq     100                                        1   \n",
       "\n",
       "                             Canonical SMILES Target  \n",
       "count                                    2342   2342  \n",
       "unique                                   2338      2  \n",
       "top     O=C1NS(=O)(=O)c2cc([N+](=O)[O-])ccc21      1  \n",
       "freq                                        2   1240  "
      ]
     },
     "execution_count": 217,
     "metadata": {},
     "output_type": "execute_result"
    }
   ],
   "source": [
    "df_sweet_valid.describe()"
   ]
  },
  {
   "cell_type": "code",
   "execution_count": 218,
   "metadata": {},
   "outputs": [
    {
     "data": {
      "text/html": [
       "<div>\n",
       "<style scoped>\n",
       "    .dataframe tbody tr th:only-of-type {\n",
       "        vertical-align: middle;\n",
       "    }\n",
       "\n",
       "    .dataframe tbody tr th {\n",
       "        vertical-align: top;\n",
       "    }\n",
       "\n",
       "    .dataframe thead th {\n",
       "        text-align: right;\n",
       "    }\n",
       "</style>\n",
       "<table border=\"1\" class=\"dataframe\">\n",
       "  <thead>\n",
       "    <tr style=\"text-align: right;\">\n",
       "      <th></th>\n",
       "      <th>Name</th>\n",
       "      <th>SMILES</th>\n",
       "      <th>Canonical SMILES</th>\n",
       "      <th>Target</th>\n",
       "    </tr>\n",
       "  </thead>\n",
       "  <tbody>\n",
       "    <tr>\n",
       "      <th>count</th>\n",
       "      <td>2404</td>\n",
       "      <td>2404</td>\n",
       "      <td>2404</td>\n",
       "      <td>2404</td>\n",
       "    </tr>\n",
       "    <tr>\n",
       "      <th>unique</th>\n",
       "      <td>2202</td>\n",
       "      <td>2397</td>\n",
       "      <td>2393</td>\n",
       "      <td>2</td>\n",
       "    </tr>\n",
       "    <tr>\n",
       "      <th>top</th>\n",
       "      <td>nan</td>\n",
       "      <td>c1coc(c12)c(OC)c3c(c2)ccc(=O)o3</td>\n",
       "      <td>O=C1NS(=O)(=O)c2c1cccc2[N+](=O)[O-]</td>\n",
       "      <td>0</td>\n",
       "    </tr>\n",
       "    <tr>\n",
       "      <th>freq</th>\n",
       "      <td>137</td>\n",
       "      <td>2</td>\n",
       "      <td>2</td>\n",
       "      <td>1502</td>\n",
       "    </tr>\n",
       "  </tbody>\n",
       "</table>\n",
       "</div>"
      ],
      "text/plain": [
       "        Name                           SMILES  \\\n",
       "count   2404                             2404   \n",
       "unique  2202                             2397   \n",
       "top      nan  c1coc(c12)c(OC)c3c(c2)ccc(=O)o3   \n",
       "freq     137                                2   \n",
       "\n",
       "                           Canonical SMILES Target  \n",
       "count                                  2404   2404  \n",
       "unique                                 2393      2  \n",
       "top     O=C1NS(=O)(=O)c2c1cccc2[N+](=O)[O-]      0  \n",
       "freq                                      2   1502  "
      ]
     },
     "execution_count": 218,
     "metadata": {},
     "output_type": "execute_result"
    }
   ],
   "source": [
    "df_bitter_valid.describe()"
   ]
  },
  {
   "cell_type": "code",
   "execution_count": 219,
   "metadata": {
    "colab": {
     "base_uri": "https://localhost:8080/",
     "height": 49
    },
    "executionInfo": {
     "elapsed": 475,
     "status": "ok",
     "timestamp": 1670639150813,
     "user": {
      "displayName": "Alagar",
      "userId": "18409237732645261754"
     },
     "user_tz": -480
    },
    "id": "xkcpw_l31_1Z",
    "outputId": "d23a5ac5-8a62-41f7-8c60-49148eb53964"
   },
   "outputs": [
    {
     "data": {
      "text/html": [
       "<div>\n",
       "<style scoped>\n",
       "    .dataframe tbody tr th:only-of-type {\n",
       "        vertical-align: middle;\n",
       "    }\n",
       "\n",
       "    .dataframe tbody tr th {\n",
       "        vertical-align: top;\n",
       "    }\n",
       "\n",
       "    .dataframe thead th {\n",
       "        text-align: right;\n",
       "    }\n",
       "</style>\n",
       "<table border=\"1\" class=\"dataframe\">\n",
       "  <thead>\n",
       "    <tr style=\"text-align: right;\">\n",
       "      <th></th>\n",
       "      <th>Name</th>\n",
       "      <th>SMILES</th>\n",
       "      <th>Canonical SMILES</th>\n",
       "      <th>Target</th>\n",
       "    </tr>\n",
       "  </thead>\n",
       "  <tbody>\n",
       "  </tbody>\n",
       "</table>\n",
       "</div>"
      ],
      "text/plain": [
       "Empty DataFrame\n",
       "Columns: [Name, SMILES, Canonical SMILES, Target]\n",
       "Index: []"
      ]
     },
     "execution_count": 219,
     "metadata": {},
     "output_type": "execute_result"
    }
   ],
   "source": [
    "df_sweet_valid[df_sweet_valid['Canonical SMILES'].isna()]"
   ]
  },
  {
   "cell_type": "code",
   "execution_count": 220,
   "metadata": {},
   "outputs": [
    {
     "data": {
      "text/html": [
       "<div>\n",
       "<style scoped>\n",
       "    .dataframe tbody tr th:only-of-type {\n",
       "        vertical-align: middle;\n",
       "    }\n",
       "\n",
       "    .dataframe tbody tr th {\n",
       "        vertical-align: top;\n",
       "    }\n",
       "\n",
       "    .dataframe thead th {\n",
       "        text-align: right;\n",
       "    }\n",
       "</style>\n",
       "<table border=\"1\" class=\"dataframe\">\n",
       "  <thead>\n",
       "    <tr style=\"text-align: right;\">\n",
       "      <th></th>\n",
       "      <th>Name</th>\n",
       "      <th>SMILES</th>\n",
       "      <th>Canonical SMILES</th>\n",
       "      <th>Target</th>\n",
       "    </tr>\n",
       "  </thead>\n",
       "  <tbody>\n",
       "  </tbody>\n",
       "</table>\n",
       "</div>"
      ],
      "text/plain": [
       "Empty DataFrame\n",
       "Columns: [Name, SMILES, Canonical SMILES, Target]\n",
       "Index: []"
      ]
     },
     "execution_count": 220,
     "metadata": {},
     "output_type": "execute_result"
    }
   ],
   "source": [
    "df_bitter_valid[df_bitter_valid['Canonical SMILES'].isna()]"
   ]
  },
  {
   "cell_type": "code",
   "execution_count": 221,
   "metadata": {},
   "outputs": [],
   "source": [
    "# Remove duplicates\n",
    "df_sweet_valid.drop_duplicates(subset=\"Canonical SMILES\", inplace=True)\n",
    "df_bitter_valid.drop_duplicates(subset=\"Canonical SMILES\", inplace=True)\n",
    "\n",
    "# Reset index\n",
    "df_sweet_valid.reset_index(drop=True, inplace = True)\n",
    "df_bitter_valid.reset_index(drop=True, inplace = True)"
   ]
  },
  {
   "cell_type": "code",
   "execution_count": 222,
   "metadata": {},
   "outputs": [
    {
     "name": "stderr",
     "output_type": "stream",
     "text": [
      "[17:14:59] WARNING: not removing hydrogen atom without neighbors\n",
      "[17:14:59] WARNING: not removing hydrogen atom without neighbors\n",
      "[17:14:59] WARNING: not removing hydrogen atom without neighbors\n",
      "[17:14:59] WARNING: not removing hydrogen atom without neighbors\n",
      "[17:14:59] WARNING: not removing hydrogen atom without neighbors\n",
      "[17:14:59] WARNING: not removing hydrogen atom without neighbors\n",
      "[17:14:59] WARNING: not removing hydrogen atom without neighbors\n",
      "[17:14:59] WARNING: not removing hydrogen atom without neighbors\n"
     ]
    }
   ],
   "source": [
    "# Calculate Descriptors\n",
    "calc = Calculator(descriptors, ignore_3D=False)\n",
    "mols_sweet = [Chem.MolFromSmiles(smi) for smi in list(df_sweet_valid['Canonical SMILES'])]\n",
    "mols_bitter = [Chem.MolFromSmiles(smi) for smi in list(df_bitter_valid['Canonical SMILES'])]"
   ]
  },
  {
   "cell_type": "code",
   "execution_count": 223,
   "metadata": {
    "executionInfo": {
     "elapsed": 944762,
     "status": "ok",
     "timestamp": 1670641144953,
     "user": {
      "displayName": "Alagar",
      "userId": "18409237732645261754"
     },
     "user_tz": -480
    },
    "id": "YSzi11m-2WhI"
   },
   "outputs": [
    {
     "name": "stdout",
     "output_type": "stream",
     "text": [
      "/Users/kristianespina/opt/anaconda3/lib/python3.9/site-packages/numpy/core/fromnumeric.py:86: RuntimeWarning: overflow encountered in reduce\n",
      "  return ufunc.reduce(obj, axis, dtype, out, **passkwargs)\n",
      "/Users/kristianespina/opt/anaconda3/lib/python3.9/site-packages/numpy/core/fromnumeric.py:86: RuntimeWarning: overflow encountered in reduce\n",
      "  return ufunc.reduce(obj, axis, dtype, out, **passkwargs)\n"
     ]
    },
    {
     "name": "stderr",
     "output_type": "stream",
     "text": [
      "[17:15:39] WARNING: not removing hydrogen atom without neighbors\n",
      "[17:15:39] WARNING: not removing hydrogen atom without neighbors\n",
      "[17:15:39] WARNING: not removing hydrogen atom without neighbors\n",
      "[17:15:40] WARNING: not removing hydrogen atom without neighbors\n",
      "[17:15:40] WARNING: not removing hydrogen atom without neighbors\n",
      "[17:15:40] WARNING: not removing hydrogen atom without neighbors\n",
      "[17:15:40] WARNING: not removing hydrogen atom without neighbors\n",
      "[17:15:40] WARNING: not removing hydrogen atom without neighbors\n",
      "[17:15:40] WARNING: not removing hydrogen atom without neighbors\n"
     ]
    },
    {
     "name": "stdout",
     "output_type": "stream",
     "text": [
      "/Users/kristianespina/opt/anaconda3/lib/python3.9/site-packages/numpy/core/fromnumeric.py:86: RuntimeWarning: overflow encountered in reduce\n",
      "  return ufunc.reduce(obj, axis, dtype, out, **passkwargs)\n",
      "/Users/kristianespina/opt/anaconda3/lib/python3.9/site-packages/numpy/core/fromnumeric.py:86: RuntimeWarning: overflow encountered in reduce\n",
      "  return ufunc.reduce(obj, axis, dtype, out, **passkwargs)\n",
      "/Users/kristianespina/opt/anaconda3/lib/python3.9/site-packages/numpy/core/fromnumeric.py:86: RuntimeWarning: overflow encountered in reduce\n",
      "  return ufunc.reduce(obj, axis, dtype, out, **passkwargs)\n",
      "/Users/kristianespina/opt/anaconda3/lib/python3.9/site-packages/numpy/core/fromnumeric.py:86: RuntimeWarning: overflow encountered in reduce\n",
      "  return ufunc.reduce(obj, axis, dtype, out, **passkwargs)\n",
      "/Users/kristianespina/opt/anaconda3/lib/python3.9/site-packages/numpy/core/fromnumeric.py:86: RuntimeWarning: overflow encountered in reduce\n",
      "  return ufunc.reduce(obj, axis, dtype, out, **passkwargs)\n",
      "/Users/kristianespina/opt/anaconda3/lib/python3.9/site-packages/numpy/core/fromnumeric.py:86: RuntimeWarning: overflow encountered in reduce\n",
      "  return ufunc.reduce(obj, axis, dtype, out, **passkwargs)\n"
     ]
    },
    {
     "name": "stderr",
     "output_type": "stream",
     "text": [
      "[17:17:17] WARNING: not removing hydrogen atom without neighbors\n",
      "[17:17:17] WARNING: not removing hydrogen atom without neighbors\n",
      "[17:17:17] WARNING: not removing hydrogen atom without neighbors\n"
     ]
    },
    {
     "name": "stdout",
     "output_type": "stream",
     "text": [
      "/Users/kristianespina/opt/anaconda3/lib/python3.9/site-packages/numpy/core/fromnumeric.py:86: RuntimeWarning: overflow encountered in reduce\n",
      "  return ufunc.reduce(obj, axis, dtype, out, **passkwargs)\n"
     ]
    },
    {
     "name": "stderr",
     "output_type": "stream",
     "text": [
      "[17:18:26] WARNING: not removing hydrogen atom without neighbors\n",
      "[17:18:26] WARNING: not removing hydrogen atom without neighbors\n",
      "[17:18:26] WARNING: not removing hydrogen atom without neighbors\n",
      "[17:18:27] WARNING: not removing hydrogen atom without neighbors\n",
      "[17:18:27] WARNING: not removing hydrogen atom without neighbors\n",
      "[17:18:27] WARNING: not removing hydrogen atom without neighbors\n",
      "[17:18:28] WARNING: not removing hydrogen atom without neighbors\n",
      "[17:18:28] WARNING: not removing hydrogen atom without neighbors\n",
      "[17:18:28] WARNING: not removing hydrogen atom without neighbors\n"
     ]
    },
    {
     "name": "stdout",
     "output_type": "stream",
     "text": [
      "/Users/kristianespina/opt/anaconda3/lib/python3.9/site-packages/numpy/core/fromnumeric.py:86: RuntimeWarning: overflow encountered in reduce\n",
      "  return ufunc.reduce(obj, axis, dtype, out, **passkwargs)\n",
      "/Users/kristianespina/opt/anaconda3/lib/python3.9/site-packages/numpy/core/fromnumeric.py:86: RuntimeWarning: overflow encountered in reduce\n",
      "  return ufunc.reduce(obj, axis, dtype, out, **passkwargs)\n",
      "/Users/kristianespina/opt/anaconda3/lib/python3.9/site-packages/numpy/core/fromnumeric.py:86: RuntimeWarning: overflow encountered in reduce\n",
      "  return ufunc.reduce(obj, axis, dtype, out, **passkwargs)\n",
      "/Users/kristianespina/opt/anaconda3/lib/python3.9/site-packages/numpy/core/fromnumeric.py:86: RuntimeWarning: overflow encountered in reduce\n",
      "  return ufunc.reduce(obj, axis, dtype, out, **passkwargs)\n",
      "/Users/kristianespina/opt/anaconda3/lib/python3.9/site-packages/numpy/core/fromnumeric.py:86: RuntimeWarning: overflow encountered in reduce\n",
      "  return ufunc.reduce(obj, axis, dtype, out, **passkwargs)\n",
      "/Users/kristianespina/opt/anaconda3/lib/python3.9/site-packages/numpy/core/fromnumeric.py:86: RuntimeWarning: overflow encountered in reduce\n",
      "  return ufunc.reduce(obj, axis, dtype, out, **passkwargs)\n",
      "/Users/kristianespina/opt/anaconda3/lib/python3.9/site-packages/numpy/core/fromnumeric.py:86: RuntimeWarning: overflow encountered in reduce\n",
      "  return ufunc.reduce(obj, axis, dtype, out, **passkwargs)\n"
     ]
    },
    {
     "name": "stderr",
     "output_type": "stream",
     "text": [
      "[17:19:53] WARNING: not removing hydrogen atom without neighbors\n",
      "[17:19:53] WARNING: not removing hydrogen atom without neighbors\n",
      "[17:19:53] WARNING: not removing hydrogen atom without neighbors\n"
     ]
    }
   ],
   "source": [
    "df_sweet_descriptors = calc.pandas(mols_sweet, quiet = True, ipynb = True)\n",
    "df_bitter_descriptors = calc.pandas(mols_bitter, quiet = True, ipynb = True)"
   ]
  },
  {
   "cell_type": "code",
   "execution_count": 224,
   "metadata": {
    "executionInfo": {
     "elapsed": 54784,
     "status": "ok",
     "timestamp": 1670641199706,
     "user": {
      "displayName": "Alagar",
      "userId": "18409237732645261754"
     },
     "user_tz": -480
    },
    "id": "tky4V7ss2XhZ"
   },
   "outputs": [],
   "source": [
    "df_sweet_base = df_sweet_valid[['Name', 'SMILES', 'Canonical SMILES']]\n",
    "df_sweet_with_descriptors = pd.concat([df_sweet_base, df_sweet_descriptors, df_sweet_valid[['Target']]], axis=1)\n",
    "df_bitter_base = df_bitter_valid[['Name', 'SMILES', 'Canonical SMILES']]\n",
    "df_bitter_with_descriptors = pd.concat([df_bitter_base, df_bitter_descriptors, df_bitter_valid[['Target']]], axis=1)"
   ]
  },
  {
   "cell_type": "code",
   "execution_count": 225,
   "metadata": {},
   "outputs": [],
   "source": [
    "df_sweet_with_descriptors.to_csv('mordred/sweet_descriptor.csv', index=False)\n",
    "df_bitter_with_descriptors.to_csv('mordred/bitter_descriptor.csv', index=False)"
   ]
  }
 ],
 "metadata": {
  "colab": {
   "authorship_tag": "ABX9TyM7bNtT95+Tgi10zIEvzjOy",
   "provenance": [],
   "toc_visible": true
  },
  "kernelspec": {
   "display_name": "Python 3 (ipykernel)",
   "language": "python",
   "name": "python3"
  },
  "language_info": {
   "codemirror_mode": {
    "name": "ipython",
    "version": 3
   },
   "file_extension": ".py",
   "mimetype": "text/x-python",
   "name": "python",
   "nbconvert_exporter": "python",
   "pygments_lexer": "ipython3",
   "version": "3.9.13"
  },
  "widgets": {
   "application/vnd.jupyter.widget-state+json": {
    "32b53b90da30457c84e7f8bb29dd04c9": {
     "model_module": "@jupyter-widgets/controls",
     "model_module_version": "1.5.0",
     "model_name": "HTMLModel",
     "state": {
      "_dom_classes": [],
      "_model_module": "@jupyter-widgets/controls",
      "_model_module_version": "1.5.0",
      "_model_name": "HTMLModel",
      "_view_count": null,
      "_view_module": "@jupyter-widgets/controls",
      "_view_module_version": "1.5.0",
      "_view_name": "HTMLView",
      "description": "",
      "description_tooltip": null,
      "layout": "IPY_MODEL_711f9842ea9a47788c8a12e94478997d",
      "placeholder": "​",
      "style": "IPY_MODEL_ba69843cce6148d489fc5035d63d9a38",
      "value": "100%"
     }
    },
    "6b4587a314184c0882c3e31b06c62587": {
     "model_module": "@jupyter-widgets/base",
     "model_module_version": "1.2.0",
     "model_name": "LayoutModel",
     "state": {
      "_model_module": "@jupyter-widgets/base",
      "_model_module_version": "1.2.0",
      "_model_name": "LayoutModel",
      "_view_count": null,
      "_view_module": "@jupyter-widgets/base",
      "_view_module_version": "1.2.0",
      "_view_name": "LayoutView",
      "align_content": null,
      "align_items": null,
      "align_self": null,
      "border": null,
      "bottom": null,
      "display": null,
      "flex": null,
      "flex_flow": null,
      "grid_area": null,
      "grid_auto_columns": null,
      "grid_auto_flow": null,
      "grid_auto_rows": null,
      "grid_column": null,
      "grid_gap": null,
      "grid_row": null,
      "grid_template_areas": null,
      "grid_template_columns": null,
      "grid_template_rows": null,
      "height": null,
      "justify_content": null,
      "justify_items": null,
      "left": null,
      "margin": null,
      "max_height": null,
      "max_width": null,
      "min_height": null,
      "min_width": null,
      "object_fit": null,
      "object_position": null,
      "order": null,
      "overflow": null,
      "overflow_x": null,
      "overflow_y": null,
      "padding": null,
      "right": null,
      "top": null,
      "visibility": null,
      "width": null
     }
    },
    "6d19a5d71f2e4fdd95eecaa70fb021ac": {
     "model_module": "@jupyter-widgets/controls",
     "model_module_version": "1.5.0",
     "model_name": "DescriptionStyleModel",
     "state": {
      "_model_module": "@jupyter-widgets/controls",
      "_model_module_version": "1.5.0",
      "_model_name": "DescriptionStyleModel",
      "_view_count": null,
      "_view_module": "@jupyter-widgets/base",
      "_view_module_version": "1.2.0",
      "_view_name": "StyleView",
      "description_width": ""
     }
    },
    "711f9842ea9a47788c8a12e94478997d": {
     "model_module": "@jupyter-widgets/base",
     "model_module_version": "1.2.0",
     "model_name": "LayoutModel",
     "state": {
      "_model_module": "@jupyter-widgets/base",
      "_model_module_version": "1.2.0",
      "_model_name": "LayoutModel",
      "_view_count": null,
      "_view_module": "@jupyter-widgets/base",
      "_view_module_version": "1.2.0",
      "_view_name": "LayoutView",
      "align_content": null,
      "align_items": null,
      "align_self": null,
      "border": null,
      "bottom": null,
      "display": null,
      "flex": null,
      "flex_flow": null,
      "grid_area": null,
      "grid_auto_columns": null,
      "grid_auto_flow": null,
      "grid_auto_rows": null,
      "grid_column": null,
      "grid_gap": null,
      "grid_row": null,
      "grid_template_areas": null,
      "grid_template_columns": null,
      "grid_template_rows": null,
      "height": null,
      "justify_content": null,
      "justify_items": null,
      "left": null,
      "margin": null,
      "max_height": null,
      "max_width": null,
      "min_height": null,
      "min_width": null,
      "object_fit": null,
      "object_position": null,
      "order": null,
      "overflow": null,
      "overflow_x": null,
      "overflow_y": null,
      "padding": null,
      "right": null,
      "top": null,
      "visibility": null,
      "width": null
     }
    },
    "7c4328d140324987b283ca148773b024": {
     "model_module": "@jupyter-widgets/controls",
     "model_module_version": "1.5.0",
     "model_name": "HTMLModel",
     "state": {
      "_dom_classes": [],
      "_model_module": "@jupyter-widgets/controls",
      "_model_module_version": "1.5.0",
      "_model_name": "HTMLModel",
      "_view_count": null,
      "_view_module": "@jupyter-widgets/controls",
      "_view_module_version": "1.5.0",
      "_view_name": "HTMLView",
      "description": "",
      "description_tooltip": null,
      "layout": "IPY_MODEL_881b7985ef7f4654ab7ac2b28fb43e34",
      "placeholder": "​",
      "style": "IPY_MODEL_6d19a5d71f2e4fdd95eecaa70fb021ac",
      "value": " 50/50 [13:38&lt;00:00, 15.32s/it]"
     }
    },
    "881b7985ef7f4654ab7ac2b28fb43e34": {
     "model_module": "@jupyter-widgets/base",
     "model_module_version": "1.2.0",
     "model_name": "LayoutModel",
     "state": {
      "_model_module": "@jupyter-widgets/base",
      "_model_module_version": "1.2.0",
      "_model_name": "LayoutModel",
      "_view_count": null,
      "_view_module": "@jupyter-widgets/base",
      "_view_module_version": "1.2.0",
      "_view_name": "LayoutView",
      "align_content": null,
      "align_items": null,
      "align_self": null,
      "border": null,
      "bottom": null,
      "display": null,
      "flex": null,
      "flex_flow": null,
      "grid_area": null,
      "grid_auto_columns": null,
      "grid_auto_flow": null,
      "grid_auto_rows": null,
      "grid_column": null,
      "grid_gap": null,
      "grid_row": null,
      "grid_template_areas": null,
      "grid_template_columns": null,
      "grid_template_rows": null,
      "height": null,
      "justify_content": null,
      "justify_items": null,
      "left": null,
      "margin": null,
      "max_height": null,
      "max_width": null,
      "min_height": null,
      "min_width": null,
      "object_fit": null,
      "object_position": null,
      "order": null,
      "overflow": null,
      "overflow_x": null,
      "overflow_y": null,
      "padding": null,
      "right": null,
      "top": null,
      "visibility": null,
      "width": null
     }
    },
    "8936103a1a1c4672aca496eb65f174da": {
     "model_module": "@jupyter-widgets/controls",
     "model_module_version": "1.5.0",
     "model_name": "FloatProgressModel",
     "state": {
      "_dom_classes": [],
      "_model_module": "@jupyter-widgets/controls",
      "_model_module_version": "1.5.0",
      "_model_name": "FloatProgressModel",
      "_view_count": null,
      "_view_module": "@jupyter-widgets/controls",
      "_view_module_version": "1.5.0",
      "_view_name": "ProgressView",
      "bar_style": "success",
      "description": "",
      "description_tooltip": null,
      "layout": "IPY_MODEL_6b4587a314184c0882c3e31b06c62587",
      "max": 50,
      "min": 0,
      "orientation": "horizontal",
      "style": "IPY_MODEL_bf9c94d7869f48c4a3acaeeea2072801",
      "value": 50
     }
    },
    "a484fb67a4174c1aa57b0b0f9ec03f9d": {
     "model_module": "@jupyter-widgets/base",
     "model_module_version": "1.2.0",
     "model_name": "LayoutModel",
     "state": {
      "_model_module": "@jupyter-widgets/base",
      "_model_module_version": "1.2.0",
      "_model_name": "LayoutModel",
      "_view_count": null,
      "_view_module": "@jupyter-widgets/base",
      "_view_module_version": "1.2.0",
      "_view_name": "LayoutView",
      "align_content": null,
      "align_items": null,
      "align_self": null,
      "border": null,
      "bottom": null,
      "display": null,
      "flex": null,
      "flex_flow": null,
      "grid_area": null,
      "grid_auto_columns": null,
      "grid_auto_flow": null,
      "grid_auto_rows": null,
      "grid_column": null,
      "grid_gap": null,
      "grid_row": null,
      "grid_template_areas": null,
      "grid_template_columns": null,
      "grid_template_rows": null,
      "height": null,
      "justify_content": null,
      "justify_items": null,
      "left": null,
      "margin": null,
      "max_height": null,
      "max_width": null,
      "min_height": null,
      "min_width": null,
      "object_fit": null,
      "object_position": null,
      "order": null,
      "overflow": null,
      "overflow_x": null,
      "overflow_y": null,
      "padding": null,
      "right": null,
      "top": null,
      "visibility": null,
      "width": null
     }
    },
    "ba69843cce6148d489fc5035d63d9a38": {
     "model_module": "@jupyter-widgets/controls",
     "model_module_version": "1.5.0",
     "model_name": "DescriptionStyleModel",
     "state": {
      "_model_module": "@jupyter-widgets/controls",
      "_model_module_version": "1.5.0",
      "_model_name": "DescriptionStyleModel",
      "_view_count": null,
      "_view_module": "@jupyter-widgets/base",
      "_view_module_version": "1.2.0",
      "_view_name": "StyleView",
      "description_width": ""
     }
    },
    "bf9c94d7869f48c4a3acaeeea2072801": {
     "model_module": "@jupyter-widgets/controls",
     "model_module_version": "1.5.0",
     "model_name": "ProgressStyleModel",
     "state": {
      "_model_module": "@jupyter-widgets/controls",
      "_model_module_version": "1.5.0",
      "_model_name": "ProgressStyleModel",
      "_view_count": null,
      "_view_module": "@jupyter-widgets/base",
      "_view_module_version": "1.2.0",
      "_view_name": "StyleView",
      "bar_color": null,
      "description_width": ""
     }
    },
    "e7eca50bff4a4c6c9883e03bb7850fb6": {
     "model_module": "@jupyter-widgets/controls",
     "model_module_version": "1.5.0",
     "model_name": "HBoxModel",
     "state": {
      "_dom_classes": [],
      "_model_module": "@jupyter-widgets/controls",
      "_model_module_version": "1.5.0",
      "_model_name": "HBoxModel",
      "_view_count": null,
      "_view_module": "@jupyter-widgets/controls",
      "_view_module_version": "1.5.0",
      "_view_name": "HBoxView",
      "box_style": "",
      "children": [
       "IPY_MODEL_32b53b90da30457c84e7f8bb29dd04c9",
       "IPY_MODEL_8936103a1a1c4672aca496eb65f174da",
       "IPY_MODEL_7c4328d140324987b283ca148773b024"
      ],
      "layout": "IPY_MODEL_a484fb67a4174c1aa57b0b0f9ec03f9d"
     }
    }
   }
  }
 },
 "nbformat": 4,
 "nbformat_minor": 4
}
