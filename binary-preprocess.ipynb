{
 "cells": [
  {
   "cell_type": "code",
   "execution_count": 1,
   "metadata": {
    "colab": {
     "base_uri": "https://localhost:8080/"
    },
    "executionInfo": {
     "elapsed": 18136,
     "status": "ok",
     "timestamp": 1670638659707,
     "user": {
      "displayName": "Alagar",
      "userId": "18409237732645261754"
     },
     "user_tz": -480
    },
    "id": "Lc0_7UbrzruK",
    "outputId": "b31f64df-9f88-4b60-acba-3da70d43b496"
   },
   "outputs": [
    {
     "name": "stdout",
     "output_type": "stream",
     "text": [
      "Requirement already satisfied: rdkit in /Users/kristianespina/opt/anaconda3/lib/python3.9/site-packages (2022.9.3)\n",
      "Requirement already satisfied: mordred in /Users/kristianespina/opt/anaconda3/lib/python3.9/site-packages (1.2.0)\n",
      "Requirement already satisfied: Pillow in /Users/kristianespina/opt/anaconda3/lib/python3.9/site-packages (from rdkit) (9.2.0)\n",
      "Requirement already satisfied: numpy in /Users/kristianespina/opt/anaconda3/lib/python3.9/site-packages (from rdkit) (1.21.5)\n",
      "Requirement already satisfied: six==1.* in /Users/kristianespina/opt/anaconda3/lib/python3.9/site-packages (from mordred) (1.16.0)\n",
      "Requirement already satisfied: networkx==2.* in /Users/kristianespina/opt/anaconda3/lib/python3.9/site-packages (from mordred) (2.8.4)\n"
     ]
    }
   ],
   "source": [
    "!pip install rdkit mordred"
   ]
  },
  {
   "cell_type": "code",
   "execution_count": 66,
   "metadata": {
    "executionInfo": {
     "elapsed": 1006,
     "status": "ok",
     "timestamp": 1670638670764,
     "user": {
      "displayName": "Alagar",
      "userId": "18409237732645261754"
     },
     "user_tz": -480
    },
    "id": "VILL9P9LzmJu"
   },
   "outputs": [],
   "source": [
    "import pandas as pd\n",
    "import numpy as np\n",
    "from rdkit import Chem\n",
    "from mordred import Calculator, descriptors\n",
    "import warnings\n",
    "warnings.filterwarnings('ignore') # To suppress runtime and deprication warnings. \n"
   ]
  },
  {
   "cell_type": "markdown",
   "metadata": {
    "id": "YJutgi417gZe"
   },
   "source": [
    "# Feature Calculation"
   ]
  },
  {
   "cell_type": "markdown",
   "metadata": {
    "id": "26x1UpaP1Sbc"
   },
   "source": [
    "from https://github.com/rohitfarmer/bittersweet/blob/master/notebooks/feature-calculation-mordred.ipynb"
   ]
  },
  {
   "cell_type": "code",
   "execution_count": 67,
   "metadata": {
    "executionInfo": {
     "elapsed": 426,
     "status": "ok",
     "timestamp": 1670638936076,
     "user": {
      "displayName": "Alagar",
      "userId": "18409237732645261754"
     },
     "user_tz": -480
    },
    "id": "RgxIo8T70wGz"
   },
   "outputs": [],
   "source": [
    "sweet_train = pd.read_csv('data/sweet-train.tsv', sep='\\t')\n",
    "sweet_test = pd.read_csv('data/sweet-test.tsv', sep='\\t')\n",
    "bitter_train = pd.read_csv('data/bitter-train.tsv', sep='\\t')\n",
    "bitter_test = pd.read_csv('data/bitter-test.tsv', sep='\\t')\n",
    "\n",
    "df_sweet = pd.DataFrame()\n",
    "df_bitter = pd.DataFrame()\n",
    "\n",
    "# Concatenate train and test set\n",
    "df_sweet = pd.concat([sweet_train[['Name','SMILES','Sweet']], sweet_test[['Name','SMILES','Sweet']] ])\n",
    "df_bitter = pd.concat([bitter_train[['Name','SMILES','Bitter']], bitter_test[['Name','SMILES','Bitter']] ])\n",
    "\n",
    "\n",
    "# Rename taste column as Target.\n",
    "df_sweet.rename(columns={'Sweet':'Target'}, inplace=True)\n",
    "df_bitter.rename(columns={'Bitter':'Target'}, inplace=True)"
   ]
  },
  {
   "cell_type": "code",
   "execution_count": 68,
   "metadata": {
    "colab": {
     "base_uri": "https://localhost:8080/",
     "height": 119
    },
    "executionInfo": {
     "elapsed": 414,
     "status": "ok",
     "timestamp": 1670638939392,
     "user": {
      "displayName": "Alagar",
      "userId": "18409237732645261754"
     },
     "user_tz": -480
    },
    "id": "SrhEYcnw0uk7",
    "outputId": "16c58225-4158-453b-cc8d-99b7c49b04e7"
   },
   "outputs": [
    {
     "name": "stdout",
     "output_type": "stream",
     "text": [
      "Name      2266\n",
      "SMILES    2366\n",
      "Target    2366\n",
      "dtype: int64\n"
     ]
    },
    {
     "data": {
      "text/html": [
       "<div>\n",
       "<style scoped>\n",
       "    .dataframe tbody tr th:only-of-type {\n",
       "        vertical-align: middle;\n",
       "    }\n",
       "\n",
       "    .dataframe tbody tr th {\n",
       "        vertical-align: top;\n",
       "    }\n",
       "\n",
       "    .dataframe thead th {\n",
       "        text-align: right;\n",
       "    }\n",
       "</style>\n",
       "<table border=\"1\" class=\"dataframe\">\n",
       "  <thead>\n",
       "    <tr style=\"text-align: right;\">\n",
       "      <th></th>\n",
       "      <th>Name</th>\n",
       "      <th>SMILES</th>\n",
       "      <th>Target</th>\n",
       "    </tr>\n",
       "  </thead>\n",
       "  <tbody>\n",
       "  </tbody>\n",
       "</table>\n",
       "</div>"
      ],
      "text/plain": [
       "Empty DataFrame\n",
       "Columns: [Name, SMILES, Target]\n",
       "Index: []"
      ]
     },
     "execution_count": 68,
     "metadata": {},
     "output_type": "execute_result"
    }
   ],
   "source": [
    "print(df_sweet.count())\n",
    "df_sweet[df_sweet['SMILES'].isna()] # check if any of the SMILES is a NaN."
   ]
  },
  {
   "cell_type": "code",
   "execution_count": 70,
   "metadata": {},
   "outputs": [
    {
     "name": "stdout",
     "output_type": "stream",
     "text": [
      "Name      2291\n",
      "SMILES    2428\n",
      "Target    2428\n",
      "dtype: int64\n"
     ]
    },
    {
     "data": {
      "text/html": [
       "<div>\n",
       "<style scoped>\n",
       "    .dataframe tbody tr th:only-of-type {\n",
       "        vertical-align: middle;\n",
       "    }\n",
       "\n",
       "    .dataframe tbody tr th {\n",
       "        vertical-align: top;\n",
       "    }\n",
       "\n",
       "    .dataframe thead th {\n",
       "        text-align: right;\n",
       "    }\n",
       "</style>\n",
       "<table border=\"1\" class=\"dataframe\">\n",
       "  <thead>\n",
       "    <tr style=\"text-align: right;\">\n",
       "      <th></th>\n",
       "      <th>Name</th>\n",
       "      <th>SMILES</th>\n",
       "      <th>Target</th>\n",
       "    </tr>\n",
       "  </thead>\n",
       "  <tbody>\n",
       "  </tbody>\n",
       "</table>\n",
       "</div>"
      ],
      "text/plain": [
       "Empty DataFrame\n",
       "Columns: [Name, SMILES, Target]\n",
       "Index: []"
      ]
     },
     "execution_count": 70,
     "metadata": {},
     "output_type": "execute_result"
    }
   ],
   "source": [
    "print(df_bitter.count())\n",
    "df_bitter[df_bitter['SMILES'].isna()] # check if any of the SMILES is a NaN."
   ]
  },
  {
   "cell_type": "code",
   "execution_count": 196,
   "metadata": {},
   "outputs": [],
   "source": [
    "df_sweet['Target'] = df_sweet['Target'].astype(int) # Convert to numeric"
   ]
  },
  {
   "cell_type": "code",
   "execution_count": 197,
   "metadata": {},
   "outputs": [],
   "source": [
    "df_bitter['Target'] = df_bitter['Target'].astype(int) # Convert to numeric"
   ]
  },
  {
   "cell_type": "code",
   "execution_count": 200,
   "metadata": {
    "executionInfo": {
     "elapsed": 2965,
     "status": "ok",
     "timestamp": 1670639122594,
     "user": {
      "displayName": "Alagar",
      "userId": "18409237732645261754"
     },
     "user_tz": -480
    },
    "id": "sB1IDs09zwZB"
   },
   "outputs": [],
   "source": [
    "# Convert SMILES into Canonical SMILES using RDKit.\n",
    "def convert_to_canonical_smiles(df):\n",
    "#     length = df.shape[0]\n",
    "#     exceptions = 0\n",
    "#     valid = []\n",
    "#     for i in range(length):\n",
    "#         try:\n",
    "#             c = Chem.CanonSmiles(str(df.iloc[i]['SMILES']))\n",
    "#             row = df.iloc[i]\n",
    "#             valid.append({'name': str(row['Name']), 'smiles': str(row['SMILES']), 'Canonical SMILES': c, 'target': 1 if row['Target'] == True else 0})\n",
    "#         except:\n",
    "#             exceptions += 1\n",
    "#             continue\n",
    "            \n",
    "#     return valid     \n",
    "    length = df.shape[0]\n",
    "\n",
    "    name = []\n",
    "    smiles = []\n",
    "    canon_smiles = []\n",
    "    target = []\n",
    "    exceptions = 0\n",
    "    failed_smiles = []\n",
    "    failed_name = []\n",
    "    failed_target = []\n",
    "    for i in range(length):\n",
    "        try:\n",
    "            c = Chem.CanonSmiles(str(df.iloc[i]['SMILES']))\n",
    "            canon_smiles.append(c)\n",
    "            smiles.append(str(df.iloc[i]['SMILES']))\n",
    "            target.append(str(df.iloc[i]['Target']))\n",
    "            name.append(str(df.iloc[i]['Name']))\n",
    "        except:\n",
    "            exceptions += 1\n",
    "            failed_smiles.append(str(df.iloc[i]['SMILES']))\n",
    "            failed_name.append(str(df.iloc[i]['Target']))\n",
    "            failed_target.append(str(df.iloc[i]['Name']))\n",
    "            continue\n",
    "            \n",
    "    return {'Name':name, 'SMILES':smiles, 'Canonical SMILES':canon_smiles, 'Target':target}"
   ]
  },
  {
   "cell_type": "code",
   "execution_count": 216,
   "metadata": {
    "colab": {
     "base_uri": "https://localhost:8080/"
    },
    "executionInfo": {
     "elapsed": 510,
     "status": "ok",
     "timestamp": 1670639130900,
     "user": {
      "displayName": "Alagar",
      "userId": "18409237732645261754"
     },
     "user_tz": -480
    },
    "id": "mjrj2YT815SV",
    "outputId": "ae85cdad-7c84-4fb8-9ef8-e1f800cd1e4d"
   },
   "outputs": [
    {
     "name": "stderr",
     "output_type": "stream",
     "text": [
      "[17:14:57] Explicit valence for atom # 2 N, 4, is greater than permitted\n",
      "[17:14:57] Explicit valence for atom # 2 N, 4, is greater than permitted\n",
      "[17:14:57] Explicit valence for atom # 5 N, 4, is greater than permitted\n",
      "[17:14:57] Explicit valence for atom # 6 N, 4, is greater than permitted\n",
      "[17:14:57] Explicit valence for atom # 7 N, 4, is greater than permitted\n",
      "[17:14:57] Explicit valence for atom # 9 N, 4, is greater than permitted\n",
      "[17:14:57] Explicit valence for atom # 11 N, 4, is greater than permitted\n",
      "[17:14:57] Explicit valence for atom # 3 N, 4, is greater than permitted\n",
      "[17:14:57] Explicit valence for atom # 3 N, 4, is greater than permitted\n",
      "[17:14:57] Explicit valence for atom # 3 N, 4, is greater than permitted\n",
      "[17:14:57] Explicit valence for atom # 2 N, 4, is greater than permitted\n",
      "[17:14:57] SMILES Parse Error: unclosed ring for input: '[NaH].[NaH].O1[C@@H](OC2CC[C@]3([C@H]4[C@@](CC[C@H]3C2(C)C)(C)[C@@]2(CC[C@@]3([C@@H](C2=CC4=O)C[C@@](CC3)(C(O)=O)C)C)C)C)C(O[C@@H]2OC(C(O)=O)C(O)C(O)C2O)C(O)'\n",
      "[17:14:57] SMILES Parse Error: extra open parentheses for input: 'O1C(CO)C(O)C(O)C(O[C@H]2OC(CO)C(O)C(O)C2O)C1OC(C(O)(C)C)CCC(C)[C@@H]1CC[C@@]2([C@@H]3CC=C4[C@@H](CCC(O[C@@H]5OC(COC6OC(CO)C(O)C(O)C6O)C(O)C(O)C5O)C4(C)C)[C@]'\n",
      "[17:14:57] SMILES Parse Error: syntax error while parsing: O1C(COC2OC(CO)C(O)C(O)C2O)C(O)C(O)C(O[C@@H]2OC(CO)C(O)C(O)C2O)C1OC(C(O)(C)C)CCC(C)[C@@H]1CC[C@]2([C@@H]3CC=C4[C@H](CCC(O[C@H]5OC(COC6OC(CO)C(O)C(O)C6O)C(O)C(\n",
      "[17:14:57] SMILES Parse Error: Failed parsing SMILES 'O1C(COC2OC(CO)C(O)C(O)C2O)C(O)C(O)C(O[C@@H]2OC(CO)C(O)C(O)C2O)C1OC(C(O)(C)C)CCC(C)[C@@H]1CC[C@]2([C@@H]3CC=C4[C@H](CCC(O[C@H]5OC(COC6OC(CO)C(O)C(O)C6O)C(O)C(' for input: 'O1C(COC2OC(CO)C(O)C(O)C2O)C(O)C(O)C(O[C@@H]2OC(CO)C(O)C(O)C2O)C1OC(C(O)(C)C)CCC(C)[C@@H]1CC[C@]2([C@@H]3CC=C4[C@H](CCC(O[C@H]5OC(COC6OC(CO)C(O)C(O)C6O)C(O)C('\n",
      "[17:14:57] SMILES Parse Error: extra open parentheses for input: 'O1C(COC2OC(CO)C(O)C(O)C2O)C(O)C(O)C(O[C@H]2OC(CO)C(O)C(O)C2O)C1OC(C(O)(C)C)CCC(C)[C@@H]1CC[C@@]2([C@@H]3CC=C4[C@@H](CCC(O[C@H]5OC(CO)C(O)C(O)C5O)C4(C)C)[C@]3'\n",
      "[17:14:57] SMILES Parse Error: unclosed ring for input: 'O1[C@@H](OC2C(O[C@H](OC3C(O[C@@H](OC4CC[C@@]5([C@H](C4)CC[C@H]4[C@@H]5CC(OC(=O)C)[C@@]5(C)[C@@](O)(CC[C@]45O)C(OC(=O)C(CC)C)C)C)CC3OC)C)CC2OC)C)C(O)C(OC)C(O)'\n",
      "[17:14:57] WARNING: not removing hydrogen atom without neighbors\n",
      "[17:14:57] WARNING: not removing hydrogen atom without neighbors\n",
      "[17:14:57] WARNING: not removing hydrogen atom without neighbors\n",
      "[17:14:57] SMILES Parse Error: syntax error while parsing: CN[C@H](CC(C)C)C(=O)N[C@@H]1[C@H](O)c2ccc(Oc3cc4cc(Oc5ccc(cc5Cl)[C@@H](O)[C@@H]6NC(=O)[C@H](NC(=O)[C@@H]4NC(=O)[C@H](CC(=O)N)NC1=O)c7ccc(O)c(c7)c8c(O)cc(O)cc8[C@H](NC6=O)C(=O)O)c3O[C@@H]9O[C@H](CO)[C@@H](O)[C@H](O)[C@H]9O[C@H]%10C[C@](C)(N)[C@H](O)[C\n",
      "[17:14:57] SMILES Parse Error: Failed parsing SMILES 'CN[C@H](CC(C)C)C(=O)N[C@@H]1[C@H](O)c2ccc(Oc3cc4cc(Oc5ccc(cc5Cl)[C@@H](O)[C@@H]6NC(=O)[C@H](NC(=O)[C@@H]4NC(=O)[C@H](CC(=O)N)NC1=O)c7ccc(O)c(c7)c8c(O)cc(O)cc8[C@H](NC6=O)C(=O)O)c3O[C@@H]9O[C@H](CO)[C@@H](O)[C@H](O)[C@H]9O[C@H]%10C[C@](C)(N)[C@H](O)[C' for input: 'CN[C@H](CC(C)C)C(=O)N[C@@H]1[C@H](O)c2ccc(Oc3cc4cc(Oc5ccc(cc5Cl)[C@@H](O)[C@@H]6NC(=O)[C@H](NC(=O)[C@@H]4NC(=O)[C@H](CC(=O)N)NC1=O)c7ccc(O)c(c7)c8c(O)cc(O)cc8[C@H](NC6=O)C(=O)O)c3O[C@@H]9O[C@H](CO)[C@@H](O)[C@H](O)[C@H]9O[C@H]%10C[C@](C)(N)[C@H](O)[C'\n",
      "[17:14:57] Explicit valence for atom # 11 O, 3, is greater than permitted\n",
      "[17:14:57] Explicit valence for atom # 1 Si, 8, is greater than permitted\n",
      "[17:14:57] WARNING: not removing hydrogen atom without neighbors\n",
      "[17:14:57] Explicit valence for atom # 3 N, 4, is greater than permitted\n",
      "[17:14:57] Explicit valence for atom # 4 N, 4, is greater than permitted\n",
      "[17:14:57] Explicit valence for atom # 8 N, 4, is greater than permitted\n",
      "[17:14:57] SMILES Parse Error: extra open parentheses for input: '[KH].O1[C@H](OC2CC[C@@]3([C@H]4[C@@](CC[C@H]3C2(C)C)(C)[C@@]2(CC[C@@]3([C@H](C2=CC4=O)C[C@@](CC3)(C(O)=O)C)C)C)C)C(O[C@H]2OC(C(O)=O)C(O)C(O)C2O)C(O)C(O)C1C(O'\n",
      "[17:14:57] SMILES Parse Error: extra open parentheses for input: '[KH].[KH].[KH].O1[C@@H](OC2CC[C@@]3([C@H]4[C@@](CC[C@@H]3C2(C)C)(C)[C@@]2(CC[C@@]3([C@@H](C2=CC4=O)C[C@@](CC3)(C(O)=O)C)C)C)C)C(O[C@@H]2OC(C(O)=O)C(O)C(O)C2O'\n",
      "[17:14:58] Explicit valence for atom # 2 N, 4, is greater than permitted\n",
      "[17:14:58] Explicit valence for atom # 2 N, 4, is greater than permitted\n",
      "[17:14:58] Explicit valence for atom # 3 N, 4, is greater than permitted\n",
      "[17:14:58] Explicit valence for atom # 5 N, 4, is greater than permitted\n",
      "[17:14:58] Explicit valence for atom # 6 N, 4, is greater than permitted\n",
      "[17:14:58] Explicit valence for atom # 7 N, 4, is greater than permitted\n",
      "[17:14:58] Explicit valence for atom # 9 N, 4, is greater than permitted\n",
      "[17:14:58] Explicit valence for atom # 11 N, 4, is greater than permitted\n",
      "[17:14:58] Explicit valence for atom # 3 N, 4, is greater than permitted\n",
      "[17:14:58] Explicit valence for atom # 3 N, 4, is greater than permitted\n",
      "[17:14:58] Explicit valence for atom # 3 N, 4, is greater than permitted\n",
      "[17:14:58] Explicit valence for atom # 2 N, 4, is greater than permitted\n",
      "[17:14:58] Explicit valence for atom # 4 N, 4, is greater than permitted\n",
      "[17:14:58] Explicit valence for atom # 8 N, 4, is greater than permitted\n",
      "[17:14:58] SMILES Parse Error: unclosed ring for input: '[NaH].[NaH].O1[C@@H](OC2CC[C@]3([C@H]4[C@@](CC[C@H]3C2(C)C)(C)[C@@]2(CC[C@@]3([C@@H](C2=CC4=O)C[C@@](CC3)(C(O)=O)C)C)C)C)C(O[C@@H]2OC(C(O)=O)C(O)C(O)C2O)C(O)'\n",
      "[17:14:58] SMILES Parse Error: extra open parentheses for input: 'O1C(CO)C(O)C(O)C(O[C@H]2OC(CO)C(O)C(O)C2O)C1OC(C(O)(C)C)CCC(C)[C@@H]1CC[C@@]2([C@@H]3CC=C4[C@@H](CCC(O[C@@H]5OC(COC6OC(CO)C(O)C(O)C6O)C(O)C(O)C5O)C4(C)C)[C@]'\n",
      "[17:14:58] SMILES Parse Error: syntax error while parsing: O1C(COC2OC(CO)C(O)C(O)C2O)C(O)C(O)C(O[C@@H]2OC(CO)C(O)C(O)C2O)C1OC(C(O)(C)C)CCC(C)[C@@H]1CC[C@]2([C@@H]3CC=C4[C@H](CCC(O[C@H]5OC(COC6OC(CO)C(O)C(O)C6O)C(O)C(\n",
      "[17:14:58] SMILES Parse Error: Failed parsing SMILES 'O1C(COC2OC(CO)C(O)C(O)C2O)C(O)C(O)C(O[C@@H]2OC(CO)C(O)C(O)C2O)C1OC(C(O)(C)C)CCC(C)[C@@H]1CC[C@]2([C@@H]3CC=C4[C@H](CCC(O[C@H]5OC(COC6OC(CO)C(O)C(O)C6O)C(O)C(' for input: 'O1C(COC2OC(CO)C(O)C(O)C2O)C(O)C(O)C(O[C@@H]2OC(CO)C(O)C(O)C2O)C1OC(C(O)(C)C)CCC(C)[C@@H]1CC[C@]2([C@@H]3CC=C4[C@H](CCC(O[C@H]5OC(COC6OC(CO)C(O)C(O)C6O)C(O)C('\n",
      "[17:14:58] SMILES Parse Error: extra open parentheses for input: '[KH].O1[C@H](OC2CC[C@@]3([C@H]4[C@@](CC[C@H]3C2(C)C)(C)[C@@]2(CC[C@@]3([C@H](C2=CC4=O)C[C@@](CC3)(C(O)=O)C)C)C)C)C(O[C@H]2OC(C(O)=O)C(O)C(O)C2O)C(O)C(O)C1C(O'\n",
      "[17:14:58] SMILES Parse Error: extra open parentheses for input: 'O1C(COC2OC(CO)C(O)C(O)C2O)C(O)C(O)C(O[C@H]2OC(CO)C(O)C(O)C2O)C1OC(C(O)(C)C)CCC(C)[C@@H]1CC[C@@]2([C@@H]3CC=C4[C@@H](CCC(O[C@H]5OC(CO)C(O)C(O)C5O)C4(C)C)[C@]3'\n",
      "[17:14:58] SMILES Parse Error: unclosed ring for input: 'O1[C@@H](OC2C(O[C@H](OC3C(O[C@@H](OC4CC[C@@]5([C@H](C4)CC[C@H]4[C@@H]5CC(OC(=O)C)[C@@]5(C)[C@@](O)(CC[C@]45O)C(OC(=O)C(CC)C)C)C)CC3OC)C)CC2OC)C)C(O)C(OC)C(O)'\n",
      "[17:14:58] SMILES Parse Error: extra open parentheses for input: '[KH].[KH].[KH].O1[C@@H](OC2CC[C@@]3([C@H]4[C@@](CC[C@@H]3C2(C)C)(C)[C@@]2(CC[C@@]3([C@@H](C2=CC4=O)C[C@@](CC3)(C(O)=O)C)C)C)C)C(O[C@@H]2OC(C(O)=O)C(O)C(O)C2O'\n",
      "[17:14:58] WARNING: not removing hydrogen atom without neighbors\n",
      "[17:14:58] WARNING: not removing hydrogen atom without neighbors\n",
      "[17:14:58] WARNING: not removing hydrogen atom without neighbors\n",
      "[17:14:58] SMILES Parse Error: syntax error while parsing: CN[C@H](CC(C)C)C(=O)N[C@@H]1[C@H](O)c2ccc(Oc3cc4cc(Oc5ccc(cc5Cl)[C@@H](O)[C@@H]6NC(=O)[C@H](NC(=O)[C@@H]4NC(=O)[C@H](CC(=O)N)NC1=O)c7ccc(O)c(c7)c8c(O)cc(O)cc8[C@H](NC6=O)C(=O)O)c3O[C@@H]9O[C@H](CO)[C@@H](O)[C@H](O)[C@H]9O[C@H]%10C[C@](C)(N)[C@H](O)[C\n",
      "[17:14:58] SMILES Parse Error: Failed parsing SMILES 'CN[C@H](CC(C)C)C(=O)N[C@@H]1[C@H](O)c2ccc(Oc3cc4cc(Oc5ccc(cc5Cl)[C@@H](O)[C@@H]6NC(=O)[C@H](NC(=O)[C@@H]4NC(=O)[C@H](CC(=O)N)NC1=O)c7ccc(O)c(c7)c8c(O)cc(O)cc8[C@H](NC6=O)C(=O)O)c3O[C@@H]9O[C@H](CO)[C@@H](O)[C@H](O)[C@H]9O[C@H]%10C[C@](C)(N)[C@H](O)[C' for input: 'CN[C@H](CC(C)C)C(=O)N[C@@H]1[C@H](O)c2ccc(Oc3cc4cc(Oc5ccc(cc5Cl)[C@@H](O)[C@@H]6NC(=O)[C@H](NC(=O)[C@@H]4NC(=O)[C@H](CC(=O)N)NC1=O)c7ccc(O)c(c7)c8c(O)cc(O)cc8[C@H](NC6=O)C(=O)O)c3O[C@@H]9O[C@H](CO)[C@@H](O)[C@H](O)[C@H]9O[C@H]%10C[C@](C)(N)[C@H](O)[C'\n",
      "[17:14:58] Explicit valence for atom # 11 O, 3, is greater than permitted\n",
      "[17:14:58] Explicit valence for atom # 1 Si, 8, is greater than permitted\n",
      "[17:14:58] WARNING: not removing hydrogen atom without neighbors\n"
     ]
    }
   ],
   "source": [
    "valid_sweet = convert_to_canonical_smiles(df_sweet)\n",
    "valid_bitter = convert_to_canonical_smiles(df_bitter)\n",
    "df_sweet_valid = pd.DataFrame(valid_sweet)\n",
    "df_bitter_valid = pd.DataFrame(valid_bitter)"
   ]
  },
  {
   "cell_type": "code",
   "execution_count": 217,
   "metadata": {
    "colab": {
     "base_uri": "https://localhost:8080/"
    },
    "executionInfo": {
     "elapsed": 541,
     "status": "ok",
     "timestamp": 1670639138921,
     "user": {
      "displayName": "Alagar",
      "userId": "18409237732645261754"
     },
     "user_tz": -480
    },
    "id": "hsOhWLGN19sG",
    "outputId": "91b3e938-c0ed-4d17-980c-c7be6d183e15"
   },
   "outputs": [
    {
     "data": {
      "text/html": [
       "<div>\n",
       "<style scoped>\n",
       "    .dataframe tbody tr th:only-of-type {\n",
       "        vertical-align: middle;\n",
       "    }\n",
       "\n",
       "    .dataframe tbody tr th {\n",
       "        vertical-align: top;\n",
       "    }\n",
       "\n",
       "    .dataframe thead th {\n",
       "        text-align: right;\n",
       "    }\n",
       "</style>\n",
       "<table border=\"1\" class=\"dataframe\">\n",
       "  <thead>\n",
       "    <tr style=\"text-align: right;\">\n",
       "      <th></th>\n",
       "      <th>Name</th>\n",
       "      <th>SMILES</th>\n",
       "      <th>Canonical SMILES</th>\n",
       "      <th>Target</th>\n",
       "    </tr>\n",
       "  </thead>\n",
       "  <tbody>\n",
       "    <tr>\n",
       "      <th>count</th>\n",
       "      <td>2342</td>\n",
       "      <td>2342</td>\n",
       "      <td>2342</td>\n",
       "      <td>2342</td>\n",
       "    </tr>\n",
       "    <tr>\n",
       "      <th>unique</th>\n",
       "      <td>2185</td>\n",
       "      <td>2342</td>\n",
       "      <td>2338</td>\n",
       "      <td>2</td>\n",
       "    </tr>\n",
       "    <tr>\n",
       "      <th>top</th>\n",
       "      <td>nan</td>\n",
       "      <td>OCC1OC(C(C1O)O)(CO)OC1OC(CO)C(C(C1O)O)O</td>\n",
       "      <td>O=C1NS(=O)(=O)c2cc([N+](=O)[O-])ccc21</td>\n",
       "      <td>1</td>\n",
       "    </tr>\n",
       "    <tr>\n",
       "      <th>freq</th>\n",
       "      <td>100</td>\n",
       "      <td>1</td>\n",
       "      <td>2</td>\n",
       "      <td>1240</td>\n",
       "    </tr>\n",
       "  </tbody>\n",
       "</table>\n",
       "</div>"
      ],
      "text/plain": [
       "        Name                                   SMILES  \\\n",
       "count   2342                                     2342   \n",
       "unique  2185                                     2342   \n",
       "top      nan  OCC1OC(C(C1O)O)(CO)OC1OC(CO)C(C(C1O)O)O   \n",
       "freq     100                                        1   \n",
       "\n",
       "                             Canonical SMILES Target  \n",
       "count                                    2342   2342  \n",
       "unique                                   2338      2  \n",
       "top     O=C1NS(=O)(=O)c2cc([N+](=O)[O-])ccc21      1  \n",
       "freq                                        2   1240  "
      ]
     },
     "execution_count": 217,
     "metadata": {},
     "output_type": "execute_result"
    }
   ],
   "source": [
    "df_sweet_valid.describe()"
   ]
  },
  {
   "cell_type": "code",
   "execution_count": 218,
   "metadata": {},
   "outputs": [
    {
     "data": {
      "text/html": [
       "<div>\n",
       "<style scoped>\n",
       "    .dataframe tbody tr th:only-of-type {\n",
       "        vertical-align: middle;\n",
       "    }\n",
       "\n",
       "    .dataframe tbody tr th {\n",
       "        vertical-align: top;\n",
       "    }\n",
       "\n",
       "    .dataframe thead th {\n",
       "        text-align: right;\n",
       "    }\n",
       "</style>\n",
       "<table border=\"1\" class=\"dataframe\">\n",
       "  <thead>\n",
       "    <tr style=\"text-align: right;\">\n",
       "      <th></th>\n",
       "      <th>Name</th>\n",
       "      <th>SMILES</th>\n",
       "      <th>Canonical SMILES</th>\n",
       "      <th>Target</th>\n",
       "    </tr>\n",
       "  </thead>\n",
       "  <tbody>\n",
       "    <tr>\n",
       "      <th>count</th>\n",
       "      <td>2404</td>\n",
       "      <td>2404</td>\n",
       "      <td>2404</td>\n",
       "      <td>2404</td>\n",
       "    </tr>\n",
       "    <tr>\n",
       "      <th>unique</th>\n",
       "      <td>2202</td>\n",
       "      <td>2397</td>\n",
       "      <td>2393</td>\n",
       "      <td>2</td>\n",
       "    </tr>\n",
       "    <tr>\n",
       "      <th>top</th>\n",
       "      <td>nan</td>\n",
       "      <td>c1coc(c12)c(OC)c3c(c2)ccc(=O)o3</td>\n",
       "      <td>O=C1NS(=O)(=O)c2c1cccc2[N+](=O)[O-]</td>\n",
       "      <td>0</td>\n",
       "    </tr>\n",
       "    <tr>\n",
       "      <th>freq</th>\n",
       "      <td>137</td>\n",
       "      <td>2</td>\n",
       "      <td>2</td>\n",
       "      <td>1502</td>\n",
       "    </tr>\n",
       "  </tbody>\n",
       "</table>\n",
       "</div>"
      ],
      "text/plain": [
       "        Name                           SMILES  \\\n",
       "count   2404                             2404   \n",
       "unique  2202                             2397   \n",
       "top      nan  c1coc(c12)c(OC)c3c(c2)ccc(=O)o3   \n",
       "freq     137                                2   \n",
       "\n",
       "                           Canonical SMILES Target  \n",
       "count                                  2404   2404  \n",
       "unique                                 2393      2  \n",
       "top     O=C1NS(=O)(=O)c2c1cccc2[N+](=O)[O-]      0  \n",
       "freq                                      2   1502  "
      ]
     },
     "execution_count": 218,
     "metadata": {},
     "output_type": "execute_result"
    }
   ],
   "source": [
    "df_bitter_valid.describe()"
   ]
  },
  {
   "cell_type": "code",
   "execution_count": 219,
   "metadata": {
    "colab": {
     "base_uri": "https://localhost:8080/",
     "height": 49
    },
    "executionInfo": {
     "elapsed": 475,
     "status": "ok",
     "timestamp": 1670639150813,
     "user": {
      "displayName": "Alagar",
      "userId": "18409237732645261754"
     },
     "user_tz": -480
    },
    "id": "xkcpw_l31_1Z",
    "outputId": "d23a5ac5-8a62-41f7-8c60-49148eb53964"
   },
   "outputs": [
    {
     "data": {
      "text/html": [
       "<div>\n",
       "<style scoped>\n",
       "    .dataframe tbody tr th:only-of-type {\n",
       "        vertical-align: middle;\n",
       "    }\n",
       "\n",
       "    .dataframe tbody tr th {\n",
       "        vertical-align: top;\n",
       "    }\n",
       "\n",
       "    .dataframe thead th {\n",
       "        text-align: right;\n",
       "    }\n",
       "</style>\n",
       "<table border=\"1\" class=\"dataframe\">\n",
       "  <thead>\n",
       "    <tr style=\"text-align: right;\">\n",
       "      <th></th>\n",
       "      <th>Name</th>\n",
       "      <th>SMILES</th>\n",
       "      <th>Canonical SMILES</th>\n",
       "      <th>Target</th>\n",
       "    </tr>\n",
       "  </thead>\n",
       "  <tbody>\n",
       "  </tbody>\n",
       "</table>\n",
       "</div>"
      ],
      "text/plain": [
       "Empty DataFrame\n",
       "Columns: [Name, SMILES, Canonical SMILES, Target]\n",
       "Index: []"
      ]
     },
     "execution_count": 219,
     "metadata": {},
     "output_type": "execute_result"
    }
   ],
   "source": [
    "df_sweet_valid[df_sweet_valid['Canonical SMILES'].isna()]"
   ]
  },
  {
   "cell_type": "code",
   "execution_count": 220,
   "metadata": {},
   "outputs": [
    {
     "data": {
      "text/html": [
       "<div>\n",
       "<style scoped>\n",
       "    .dataframe tbody tr th:only-of-type {\n",
       "        vertical-align: middle;\n",
       "    }\n",
       "\n",
       "    .dataframe tbody tr th {\n",
       "        vertical-align: top;\n",
       "    }\n",
       "\n",
       "    .dataframe thead th {\n",
       "        text-align: right;\n",
       "    }\n",
       "</style>\n",
       "<table border=\"1\" class=\"dataframe\">\n",
       "  <thead>\n",
       "    <tr style=\"text-align: right;\">\n",
       "      <th></th>\n",
       "      <th>Name</th>\n",
       "      <th>SMILES</th>\n",
       "      <th>Canonical SMILES</th>\n",
       "      <th>Target</th>\n",
       "    </tr>\n",
       "  </thead>\n",
       "  <tbody>\n",
       "  </tbody>\n",
       "</table>\n",
       "</div>"
      ],
      "text/plain": [
       "Empty DataFrame\n",
       "Columns: [Name, SMILES, Canonical SMILES, Target]\n",
       "Index: []"
      ]
     },
     "execution_count": 220,
     "metadata": {},
     "output_type": "execute_result"
    }
   ],
   "source": [
    "df_bitter_valid[df_bitter_valid['Canonical SMILES'].isna()]"
   ]
  },
  {
   "cell_type": "code",
   "execution_count": 221,
   "metadata": {},
   "outputs": [],
   "source": [
    "# Remove duplicates\n",
    "df_sweet_valid.drop_duplicates(subset=\"Canonical SMILES\", inplace=True)\n",
    "df_bitter_valid.drop_duplicates(subset=\"Canonical SMILES\", inplace=True)\n",
    "\n",
    "# Reset index\n",
    "df_sweet_valid.reset_index(drop=True, inplace = True)\n",
    "df_bitter_valid.reset_index(drop=True, inplace = True)"
   ]
  },
  {
   "cell_type": "code",
   "execution_count": 222,
   "metadata": {},
   "outputs": [
    {
     "name": "stderr",
     "output_type": "stream",
     "text": [
      "[17:14:59] WARNING: not removing hydrogen atom without neighbors\n",
      "[17:14:59] WARNING: not removing hydrogen atom without neighbors\n",
      "[17:14:59] WARNING: not removing hydrogen atom without neighbors\n",
      "[17:14:59] WARNING: not removing hydrogen atom without neighbors\n",
      "[17:14:59] WARNING: not removing hydrogen atom without neighbors\n",
      "[17:14:59] WARNING: not removing hydrogen atom without neighbors\n",
      "[17:14:59] WARNING: not removing hydrogen atom without neighbors\n",
      "[17:14:59] WARNING: not removing hydrogen atom without neighbors\n"
     ]
    }
   ],
   "source": [
    "# Calculate Descriptors\n",
    "calc = Calculator(descriptors, ignore_3D=False)\n",
    "mols_sweet = [Chem.MolFromSmiles(smi) for smi in list(df_sweet_valid['Canonical SMILES'])]\n",
    "mols_bitter = [Chem.MolFromSmiles(smi) for smi in list(df_bitter_valid['Canonical SMILES'])]"
   ]
  },
  {
   "cell_type": "code",
   "execution_count": 223,
   "metadata": {
    "executionInfo": {
     "elapsed": 944762,
     "status": "ok",
     "timestamp": 1670641144953,
     "user": {
      "displayName": "Alagar",
      "userId": "18409237732645261754"
     },
     "user_tz": -480
    },
    "id": "YSzi11m-2WhI"
   },
   "outputs": [
    {
     "name": "stdout",
     "output_type": "stream",
     "text": [
      "/Users/kristianespina/opt/anaconda3/lib/python3.9/site-packages/numpy/core/fromnumeric.py:86: RuntimeWarning: overflow encountered in reduce\n",
      "  return ufunc.reduce(obj, axis, dtype, out, **passkwargs)\n",
      "/Users/kristianespina/opt/anaconda3/lib/python3.9/site-packages/numpy/core/fromnumeric.py:86: RuntimeWarning: overflow encountered in reduce\n",
      "  return ufunc.reduce(obj, axis, dtype, out, **passkwargs)\n"
     ]
    },
    {
     "name": "stderr",
     "output_type": "stream",
     "text": [
      "[17:15:39] WARNING: not removing hydrogen atom without neighbors\n",
      "[17:15:39] WARNING: not removing hydrogen atom without neighbors\n",
      "[17:15:39] WARNING: not removing hydrogen atom without neighbors\n",
      "[17:15:40] WARNING: not removing hydrogen atom without neighbors\n",
      "[17:15:40] WARNING: not removing hydrogen atom without neighbors\n",
      "[17:15:40] WARNING: not removing hydrogen atom without neighbors\n",
      "[17:15:40] WARNING: not removing hydrogen atom without neighbors\n",
      "[17:15:40] WARNING: not removing hydrogen atom without neighbors\n",
      "[17:15:40] WARNING: not removing hydrogen atom without neighbors\n"
     ]
    },
    {
     "name": "stdout",
     "output_type": "stream",
     "text": [
      "/Users/kristianespina/opt/anaconda3/lib/python3.9/site-packages/numpy/core/fromnumeric.py:86: RuntimeWarning: overflow encountered in reduce\n",
      "  return ufunc.reduce(obj, axis, dtype, out, **passkwargs)\n",
      "/Users/kristianespina/opt/anaconda3/lib/python3.9/site-packages/numpy/core/fromnumeric.py:86: RuntimeWarning: overflow encountered in reduce\n",
      "  return ufunc.reduce(obj, axis, dtype, out, **passkwargs)\n",
      "/Users/kristianespina/opt/anaconda3/lib/python3.9/site-packages/numpy/core/fromnumeric.py:86: RuntimeWarning: overflow encountered in reduce\n",
      "  return ufunc.reduce(obj, axis, dtype, out, **passkwargs)\n",
      "/Users/kristianespina/opt/anaconda3/lib/python3.9/site-packages/numpy/core/fromnumeric.py:86: RuntimeWarning: overflow encountered in reduce\n",
      "  return ufunc.reduce(obj, axis, dtype, out, **passkwargs)\n",
      "/Users/kristianespina/opt/anaconda3/lib/python3.9/site-packages/numpy/core/fromnumeric.py:86: RuntimeWarning: overflow encountered in reduce\n",
      "  return ufunc.reduce(obj, axis, dtype, out, **passkwargs)\n",
      "/Users/kristianespina/opt/anaconda3/lib/python3.9/site-packages/numpy/core/fromnumeric.py:86: RuntimeWarning: overflow encountered in reduce\n",
      "  return ufunc.reduce(obj, axis, dtype, out, **passkwargs)\n"
     ]
    },
    {
     "name": "stderr",
     "output_type": "stream",
     "text": [
      "[17:17:17] WARNING: not removing hydrogen atom without neighbors\n",
      "[17:17:17] WARNING: not removing hydrogen atom without neighbors\n",
      "[17:17:17] WARNING: not removing hydrogen atom without neighbors\n"
     ]
    },
    {
     "name": "stdout",
     "output_type": "stream",
     "text": [
      "/Users/kristianespina/opt/anaconda3/lib/python3.9/site-packages/numpy/core/fromnumeric.py:86: RuntimeWarning: overflow encountered in reduce\n",
      "  return ufunc.reduce(obj, axis, dtype, out, **passkwargs)\n"
     ]
    },
    {
     "name": "stderr",
     "output_type": "stream",
     "text": [
      "[17:18:26] WARNING: not removing hydrogen atom without neighbors\n",
      "[17:18:26] WARNING: not removing hydrogen atom without neighbors\n",
      "[17:18:26] WARNING: not removing hydrogen atom without neighbors\n",
      "[17:18:27] WARNING: not removing hydrogen atom without neighbors\n",
      "[17:18:27] WARNING: not removing hydrogen atom without neighbors\n",
      "[17:18:27] WARNING: not removing hydrogen atom without neighbors\n",
      "[17:18:28] WARNING: not removing hydrogen atom without neighbors\n",
      "[17:18:28] WARNING: not removing hydrogen atom without neighbors\n",
      "[17:18:28] WARNING: not removing hydrogen atom without neighbors\n"
     ]
    },
    {
     "name": "stdout",
     "output_type": "stream",
     "text": [
      "/Users/kristianespina/opt/anaconda3/lib/python3.9/site-packages/numpy/core/fromnumeric.py:86: RuntimeWarning: overflow encountered in reduce\n",
      "  return ufunc.reduce(obj, axis, dtype, out, **passkwargs)\n",
      "/Users/kristianespina/opt/anaconda3/lib/python3.9/site-packages/numpy/core/fromnumeric.py:86: RuntimeWarning: overflow encountered in reduce\n",
      "  return ufunc.reduce(obj, axis, dtype, out, **passkwargs)\n",
      "/Users/kristianespina/opt/anaconda3/lib/python3.9/site-packages/numpy/core/fromnumeric.py:86: RuntimeWarning: overflow encountered in reduce\n",
      "  return ufunc.reduce(obj, axis, dtype, out, **passkwargs)\n",
      "/Users/kristianespina/opt/anaconda3/lib/python3.9/site-packages/numpy/core/fromnumeric.py:86: RuntimeWarning: overflow encountered in reduce\n",
      "  return ufunc.reduce(obj, axis, dtype, out, **passkwargs)\n",
      "/Users/kristianespina/opt/anaconda3/lib/python3.9/site-packages/numpy/core/fromnumeric.py:86: RuntimeWarning: overflow encountered in reduce\n",
      "  return ufunc.reduce(obj, axis, dtype, out, **passkwargs)\n",
      "/Users/kristianespina/opt/anaconda3/lib/python3.9/site-packages/numpy/core/fromnumeric.py:86: RuntimeWarning: overflow encountered in reduce\n",
      "  return ufunc.reduce(obj, axis, dtype, out, **passkwargs)\n",
      "/Users/kristianespina/opt/anaconda3/lib/python3.9/site-packages/numpy/core/fromnumeric.py:86: RuntimeWarning: overflow encountered in reduce\n",
      "  return ufunc.reduce(obj, axis, dtype, out, **passkwargs)\n"
     ]
    },
    {
     "name": "stderr",
     "output_type": "stream",
     "text": [
      "[17:19:53] WARNING: not removing hydrogen atom without neighbors\n",
      "[17:19:53] WARNING: not removing hydrogen atom without neighbors\n",
      "[17:19:53] WARNING: not removing hydrogen atom without neighbors\n"
     ]
    }
   ],
   "source": [
    "df_sweet_descriptors = calc.pandas(mols_sweet, quiet = True, ipynb = True)\n",
    "df_bitter_descriptors = calc.pandas(mols_bitter, quiet = True, ipynb = True)"
   ]
  },
  {
   "cell_type": "code",
   "execution_count": 224,
   "metadata": {
    "executionInfo": {
     "elapsed": 54784,
     "status": "ok",
     "timestamp": 1670641199706,
     "user": {
      "displayName": "Alagar",
      "userId": "18409237732645261754"
     },
     "user_tz": -480
    },
    "id": "tky4V7ss2XhZ"
   },
   "outputs": [],
   "source": [
    "df_sweet_base = df_sweet_valid[['Name', 'SMILES', 'Canonical SMILES']]\n",
    "df_sweet_with_descriptors = pd.concat([df_sweet_base, df_sweet_descriptors, df_sweet_valid[['Target']]], axis=1)\n",
    "df_bitter_base = df_bitter_valid[['Name', 'SMILES', 'Canonical SMILES']]\n",
    "df_bitter_with_descriptors = pd.concat([df_bitter_base, df_bitter_descriptors, df_bitter_valid[['Target']]], axis=1)"
   ]
  },
  {
   "cell_type": "code",
   "execution_count": 225,
   "metadata": {},
   "outputs": [],
   "source": [
    "df_sweet_with_descriptors.to_csv('mordred/sweet_descriptor.csv', index=False)\n",
    "df_bitter_with_descriptors.to_csv('mordred/bitter_descriptor.csv', index=False)"
   ]
  },
  {
   "cell_type": "markdown",
   "metadata": {
    "id": "VgqB5Hj37k7x"
   },
   "source": [
    "# Load Data"
   ]
  },
  {
   "cell_type": "code",
   "execution_count": 20,
   "metadata": {
    "executionInfo": {
     "elapsed": 1368,
     "status": "ok",
     "timestamp": 1670641243996,
     "user": {
      "displayName": "Alagar",
      "userId": "18409237732645261754"
     },
     "user_tz": -480
    },
    "id": "uElULa-a88AO"
   },
   "outputs": [],
   "source": [
    "# Python 2 script.\n",
    "from __future__ import division\n",
    "\n",
    "# External library.\n",
    "import pandas as pd\n",
    "import numpy as np\n",
    "from sklearn.feature_selection import VarianceThreshold\n",
    "from sklearn.feature_selection import SelectKBest\n",
    "from sklearn.feature_selection import chi2, f_classif\n",
    "from sklearn.preprocessing import MinMaxScaler\n",
    "\n",
    "\n"
   ]
  },
  {
   "cell_type": "code",
   "execution_count": 21,
   "metadata": {
    "executionInfo": {
     "elapsed": 4,
     "status": "ok",
     "timestamp": 1670641245741,
     "user": {
      "displayName": "Alagar",
      "userId": "18409237732645261754"
     },
     "user_tz": -480
    },
    "id": "dC0g7zJ8889T"
   },
   "outputs": [],
   "source": [
    "def nan_filter(data, thresh=80, value='zero'):\n",
    "    \"\"\"\n",
    "    Purpose\n",
    "    -------\n",
    "    1. Drop columns with all the values as NaNs.\n",
    "    2. Drop columns with NaNs over a certian limit.\n",
    "    3. Replace NaNs with a value.\n",
    "    \n",
    "    Arguments\n",
    "    ---------\n",
    "    data: Dataframe.\n",
    "    thresh: Threshold for non-NaN values; default is 80%.\n",
    "    value: Value to replace NaN with; default is zero.\n",
    "           Options: 'zero', 'mean', 'median'\n",
    "    \n",
    "    Returns\n",
    "    -------\n",
    "    A modified Pandas dataframe.\n",
    "    \"\"\"\n",
    "    \n",
    "    data = data.dropna(axis='columns', how='all')\n",
    "    threshold = int((data.shape[0] * thresh) / 100)\n",
    "    data = data.dropna(axis='columns', thresh=thresh)\n",
    "    if value == 'zero':\n",
    "        data = data.apply(lambda x: x.fillna(0)) \n",
    "    elif value == 'mean':\n",
    "        data = data.apply(lambda x: x.fillna(x.mean()))\n",
    "    elif value == 'median':\n",
    "        data = data.apply(lambda x: x.fillna(x.median()))\n",
    "  \n",
    "    return data\n",
    "\n",
    "\n"
   ]
  },
  {
   "cell_type": "code",
   "execution_count": 22,
   "metadata": {
    "executionInfo": {
     "elapsed": 535,
     "status": "ok",
     "timestamp": 1670641248144,
     "user": {
      "displayName": "Alagar",
      "userId": "18409237732645261754"
     },
     "user_tz": -480
    },
    "id": "mJxwUPzj9Bst"
   },
   "outputs": [],
   "source": [
    "def variance_thresh(data, thresh=0.0):\n",
    "    \"\"\"\n",
    "    Purpose\n",
    "    -------\n",
    "    1. Select columns with variace greater than a specified threshold.\n",
    "    \n",
    "    Arguments\n",
    "    ---------\n",
    "    data: Dataframe with column values in float64 and devoid of missing values.\n",
    "    thresh: Variace threshold. Default is 0.0 (float)\n",
    "    \n",
    "    Returns\n",
    "    -------\n",
    "    A modified Pandas dataframe.\n",
    "    \"\"\"\n",
    "    \n",
    "    selector = VarianceThreshold(threshold=thresh)\n",
    "    selector.fit(data)\n",
    "    idx = np.where(selector.variances_ > thresh)[0]\n",
    "    cols = data.columns[idx]\n",
    "    df = data[cols]\n",
    "    \n",
    "    return df"
   ]
  },
  {
   "cell_type": "code",
   "execution_count": 23,
   "metadata": {
    "executionInfo": {
     "elapsed": 4,
     "status": "ok",
     "timestamp": 1670641248634,
     "user": {
      "displayName": "Alagar",
      "userId": "18409237732645261754"
     },
     "user_tz": -480
    },
    "id": "Xngg80ey9IYN"
   },
   "outputs": [],
   "source": [
    "def normalize_mm(data, feat_range=(0,1)):\n",
    "    \"\"\"\n",
    "    Purpose\n",
    "    -------\n",
    "    Transforms features by scaling each feature to a given range using  Scikit-learn MinMaxScaler.\n",
    "    \n",
    "    Arguments\n",
    "    ---------\n",
    "    data: Pandas dataframe.\n",
    "    feat_range: Scale range in a tuple. Default is (0,1)\n",
    "    \n",
    "    Returns\n",
    "    -------\n",
    "    Transformed Pandas dataframe.\n",
    "    \n",
    "    \"\"\"\n",
    "    cols = list(data.columns)\n",
    "    ind = list(data.index)\n",
    "    scaler = MinMaxScaler(feature_range=feat_range)\n",
    "    scaler.fit(data)\n",
    "    df = pd.DataFrame(data=scaler.transform(data), index=ind, columns=cols)\n",
    "    \n",
    "    return df\n",
    "\n"
   ]
  },
  {
   "cell_type": "code",
   "execution_count": 24,
   "metadata": {
    "executionInfo": {
     "elapsed": 18,
     "status": "ok",
     "timestamp": 1670641249830,
     "user": {
      "displayName": "Alagar",
      "userId": "18409237732645261754"
     },
     "user_tz": -480
    },
    "id": "bJnNgpnN9LQJ"
   },
   "outputs": [],
   "source": [
    "def select_k_chi2(X, y, k=1):\n",
    "    \"\"\"\n",
    "    Purpose\n",
    "    -------\n",
    "    Select K best features using Chi squared test.\n",
    "    \n",
    "    Arguments\n",
    "    ---------\n",
    "    X: Features in a Pandas dataframe.\n",
    "    y: Targets in a Pandas dataframe.\n",
    "    k: Value for k-best feature estimation.\n",
    "    \n",
    "    Returns\n",
    "    -------\n",
    "    A Pandas dataframe with the k-best features.\n",
    "    \"\"\"\n",
    "    \n",
    "    selector = SelectKBest(chi2, k=k).fit(X, y)\n",
    "    mask = selector.get_support()\n",
    "    new_features = X.columns[mask]\n",
    "    \n",
    "    return X[new_features]"
   ]
  },
  {
   "cell_type": "markdown",
   "metadata": {
    "id": "g3jUuu6e9MsQ"
   },
   "source": [
    "Load Data"
   ]
  },
  {
   "cell_type": "code",
   "execution_count": 25,
   "metadata": {
    "executionInfo": {
     "elapsed": 3517,
     "status": "ok",
     "timestamp": 1670641258768,
     "user": {
      "displayName": "Alagar",
      "userId": "18409237732645261754"
     },
     "user_tz": -480
    },
    "id": "RUfiWniu9MBH"
   },
   "outputs": [],
   "source": [
    "# Load the original dataset with all the features calculated in feature-calculation-mordred notebook.\n",
    "df = pd.read_csv('output/bitter_sweet_2d_plus_3d_descriptors.tsv.gz', compression='gzip', sep=\"\\t\", index_col=0, dtype='str')\n",
    "\n"
   ]
  },
  {
   "cell_type": "code",
   "execution_count": 26,
   "metadata": {
    "colab": {
     "base_uri": "https://localhost:8080/",
     "height": 679
    },
    "executionInfo": {
     "elapsed": 693,
     "status": "ok",
     "timestamp": 1670641269330,
     "user": {
      "displayName": "Alagar",
      "userId": "18409237732645261754"
     },
     "user_tz": -480
    },
    "id": "E_cPcJhg-q19",
    "outputId": "2ef6f1c0-bf00-4030-f776-4fe219bf5a32"
   },
   "outputs": [
    {
     "data": {
      "text/html": [
       "<div>\n",
       "<style scoped>\n",
       "    .dataframe tbody tr th:only-of-type {\n",
       "        vertical-align: middle;\n",
       "    }\n",
       "\n",
       "    .dataframe tbody tr th {\n",
       "        vertical-align: top;\n",
       "    }\n",
       "\n",
       "    .dataframe thead th {\n",
       "        text-align: right;\n",
       "    }\n",
       "</style>\n",
       "<table border=\"1\" class=\"dataframe\">\n",
       "  <thead>\n",
       "    <tr style=\"text-align: right;\">\n",
       "      <th></th>\n",
       "      <th>Name</th>\n",
       "      <th>SMILES</th>\n",
       "      <th>Canonical SMILES</th>\n",
       "      <th>ABC</th>\n",
       "      <th>ABCGG</th>\n",
       "      <th>nAcid</th>\n",
       "      <th>nBase</th>\n",
       "      <th>SpAbs_A</th>\n",
       "      <th>SpMax_A</th>\n",
       "      <th>SpDiam_A</th>\n",
       "      <th>...</th>\n",
       "      <th>TSRW10</th>\n",
       "      <th>MW</th>\n",
       "      <th>AMW</th>\n",
       "      <th>WPath</th>\n",
       "      <th>WPol</th>\n",
       "      <th>Zagreb1</th>\n",
       "      <th>Zagreb2</th>\n",
       "      <th>mZagreb1</th>\n",
       "      <th>mZagreb2</th>\n",
       "      <th>Target</th>\n",
       "    </tr>\n",
       "  </thead>\n",
       "  <tbody>\n",
       "    <tr>\n",
       "      <th>0</th>\n",
       "      <td>Sucrose</td>\n",
       "      <td>OCC1OC(C(C1O)O)(CO)OC1OC(CO)C(C(C1O)O)O</td>\n",
       "      <td>OCC1OC(OC2(CO)OC(CO)C(O)C2O)C(O)C(O)C1O</td>\n",
       "      <td>17.213261503245107</td>\n",
       "      <td>16.059815204624506</td>\n",
       "      <td>0</td>\n",
       "      <td>0</td>\n",
       "      <td>28.7667348566669</td>\n",
       "      <td>2.5224203882661214</td>\n",
       "      <td>4.958230025475284</td>\n",
       "      <td>...</td>\n",
       "      <td>72.3178208023914</td>\n",
       "      <td>342.11621152400056</td>\n",
       "      <td>7.602582478311124</td>\n",
       "      <td>1110</td>\n",
       "      <td>43</td>\n",
       "      <td>120.0</td>\n",
       "      <td>147.0</td>\n",
       "      <td>10.451388888888888</td>\n",
       "      <td>5.291666666666664</td>\n",
       "      <td>Sweet</td>\n",
       "    </tr>\n",
       "    <tr>\n",
       "      <th>1</th>\n",
       "      <td>Sucralose / 4,1',6'-Trichloro-galactosucrose</td>\n",
       "      <td>ClCC1OC(C(C1O)O)(CCl)OC1OC(CO)C(C(C1O)O)Cl</td>\n",
       "      <td>OCC1OC(OC2(CCl)OC(CCl)C(O)C2O)C(O)C(O)C1Cl</td>\n",
       "      <td>17.213261503245107</td>\n",
       "      <td>16.059815204624506</td>\n",
       "      <td>0</td>\n",
       "      <td>0</td>\n",
       "      <td>28.7667348566669</td>\n",
       "      <td>2.5224203882661214</td>\n",
       "      <td>4.958230025475284</td>\n",
       "      <td>...</td>\n",
       "      <td>72.3178208023914</td>\n",
       "      <td>396.0145506080005</td>\n",
       "      <td>9.42891787161906</td>\n",
       "      <td>1110</td>\n",
       "      <td>43</td>\n",
       "      <td>120.0</td>\n",
       "      <td>147.0</td>\n",
       "      <td>10.451388888888888</td>\n",
       "      <td>5.291666666666664</td>\n",
       "      <td>Sweet</td>\n",
       "    </tr>\n",
       "    <tr>\n",
       "      <th>2</th>\n",
       "      <td>Aspartame/Aspartyl-phenylalanine methylester</td>\n",
       "      <td>COC(=O)C(NC(=O)C(CC(=O)O)N)Cc1ccccc1</td>\n",
       "      <td>COC(=O)C(Cc1ccccc1)NC(=O)C(N)CC(=O)O</td>\n",
       "      <td>15.315311174583632</td>\n",
       "      <td>13.970681088761472</td>\n",
       "      <td>1</td>\n",
       "      <td>1</td>\n",
       "      <td>25.367666563930996</td>\n",
       "      <td>2.2875334901511377</td>\n",
       "      <td>4.5750669803022745</td>\n",
       "      <td>...</td>\n",
       "      <td>53.670480147148865</td>\n",
       "      <td>294.1215716760005</td>\n",
       "      <td>7.541578760923089</td>\n",
       "      <td>1000</td>\n",
       "      <td>27</td>\n",
       "      <td>96.0</td>\n",
       "      <td>105.0</td>\n",
       "      <td>8.916666666666666</td>\n",
       "      <td>4.888888888888889</td>\n",
       "      <td>Sweet</td>\n",
       "    </tr>\n",
       "    <tr>\n",
       "      <th>3</th>\n",
       "      <td>Tagatose</td>\n",
       "      <td>OCC1(O)OCC(C(C1O)O)O</td>\n",
       "      <td>OCC1(O)OCC(O)C(O)C1O</td>\n",
       "      <td>8.82987961020159</td>\n",
       "      <td>8.71559123720356</td>\n",
       "      <td>0</td>\n",
       "      <td>0</td>\n",
       "      <td>14.640474984817839</td>\n",
       "      <td>2.4182893140510573</td>\n",
       "      <td>4.836578628102114</td>\n",
       "      <td>...</td>\n",
       "      <td>43.370989242179924</td>\n",
       "      <td>180.063388104</td>\n",
       "      <td>7.5026411710000005</td>\n",
       "      <td>178</td>\n",
       "      <td>20</td>\n",
       "      <td>60.0</td>\n",
       "      <td>71.0</td>\n",
       "      <td>6.145833333333333</td>\n",
       "      <td>2.7222222222222228</td>\n",
       "      <td>Sweet</td>\n",
       "    </tr>\n",
       "    <tr>\n",
       "      <th>4</th>\n",
       "      <td>Isomaltulose/Palatinose</td>\n",
       "      <td>OCC1OC(OCC2OC(C(C2O)O)(O)CO)C(C(C1O)O)O</td>\n",
       "      <td>OCC1OC(OCC2OC(O)(CO)C(O)C2O)C(O)C(O)C1O</td>\n",
       "      <td>17.372180125842995</td>\n",
       "      <td>15.638061370199232</td>\n",
       "      <td>0</td>\n",
       "      <td>0</td>\n",
       "      <td>28.65007669208163</td>\n",
       "      <td>2.4784040495346007</td>\n",
       "      <td>4.876166945512816</td>\n",
       "      <td>...</td>\n",
       "      <td>72.20412904244861</td>\n",
       "      <td>342.11621152400056</td>\n",
       "      <td>7.602582478311124</td>\n",
       "      <td>1220</td>\n",
       "      <td>41</td>\n",
       "      <td>120.0</td>\n",
       "      <td>145.0</td>\n",
       "      <td>10.451388888888888</td>\n",
       "      <td>5.166666666666665</td>\n",
       "      <td>Sweet</td>\n",
       "    </tr>\n",
       "    <tr>\n",
       "      <th>...</th>\n",
       "      <td>...</td>\n",
       "      <td>...</td>\n",
       "      <td>...</td>\n",
       "      <td>...</td>\n",
       "      <td>...</td>\n",
       "      <td>...</td>\n",
       "      <td>...</td>\n",
       "      <td>...</td>\n",
       "      <td>...</td>\n",
       "      <td>...</td>\n",
       "      <td>...</td>\n",
       "      <td>...</td>\n",
       "      <td>...</td>\n",
       "      <td>...</td>\n",
       "      <td>...</td>\n",
       "      <td>...</td>\n",
       "      <td>...</td>\n",
       "      <td>...</td>\n",
       "      <td>...</td>\n",
       "      <td>...</td>\n",
       "      <td>...</td>\n",
       "    </tr>\n",
       "    <tr>\n",
       "      <th>2333</th>\n",
       "      <td>Isovanillic 24</td>\n",
       "      <td>O1c2cc(O)c(O)cc2C2c3c(OC[C@@]12O)c(O)c(O)cc3</td>\n",
       "      <td>Oc1cc2c(cc1O)C1c3ccc(O)c(O)c3OC[C@@]1(O)O2</td>\n",
       "      <td>17.929456992768486</td>\n",
       "      <td>14.412750313580602</td>\n",
       "      <td>0</td>\n",
       "      <td>0</td>\n",
       "      <td>28.33692603461081</td>\n",
       "      <td>2.6128329480551606</td>\n",
       "      <td>5.116646258260108</td>\n",
       "      <td>...</td>\n",
       "      <td>72.02179076900988</td>\n",
       "      <td>304.0583027240003</td>\n",
       "      <td>8.942891256588245</td>\n",
       "      <td>912</td>\n",
       "      <td>44</td>\n",
       "      <td>130.0</td>\n",
       "      <td>163.0</td>\n",
       "      <td>7.8125</td>\n",
       "      <td>4.527777777777777</td>\n",
       "      <td>Sweet</td>\n",
       "    </tr>\n",
       "    <tr>\n",
       "      <th>2334</th>\n",
       "      <td>Naringin DHC</td>\n",
       "      <td>O1C(CO)C(O)C(O)C(OC2OC(C)C(O)C(O)C2O)C1Oc1cc(O...</td>\n",
       "      <td>CC1OC(OC2C(Oc3cc(O)c(C(=O)CCc4ccc(O)cc4)c(O)c3...</td>\n",
       "      <td>31.76175510990119</td>\n",
       "      <td>24.298458975082983</td>\n",
       "      <td>0</td>\n",
       "      <td>0</td>\n",
       "      <td>51.640551016072976</td>\n",
       "      <td>2.4682759468781197</td>\n",
       "      <td>4.93655189375624</td>\n",
       "      <td>...</td>\n",
       "      <td>78.4593390300359</td>\n",
       "      <td>582.1948557680008</td>\n",
       "      <td>7.762598076906678</td>\n",
       "      <td>6188</td>\n",
       "      <td>73</td>\n",
       "      <td>216.0</td>\n",
       "      <td>257.0</td>\n",
       "      <td>16.13888888888889</td>\n",
       "      <td>8.972222222222218</td>\n",
       "      <td>Sweet</td>\n",
       "    </tr>\n",
       "    <tr>\n",
       "      <th>2335</th>\n",
       "      <td>Polypodoside A</td>\n",
       "      <td>O1[C@H](OC2CC[C@]3([C@H](C2)C(=O)C=C2[C@H]4CC[...</td>\n",
       "      <td>CC1CC[C@H](C(C)[C@H]2CC[C@@H]3C4=CC(=O)[C@H]5C...</td>\n",
       "      <td>49.55591225507042</td>\n",
       "      <td>34.56215687064316</td>\n",
       "      <td>0</td>\n",
       "      <td>0</td>\n",
       "      <td>79.85826001512984</td>\n",
       "      <td>2.6367337389312957</td>\n",
       "      <td>5.234851429657418</td>\n",
       "      <td>...</td>\n",
       "      <td>116.63981199885743</td>\n",
       "      <td>884.476950844002</td>\n",
       "      <td>6.600574260029865</td>\n",
       "      <td>19191</td>\n",
       "      <td>130</td>\n",
       "      <td>354.0</td>\n",
       "      <td>441.0</td>\n",
       "      <td>23.51388888888889</td>\n",
       "      <td>13.083333333333327</td>\n",
       "      <td>Sweet</td>\n",
       "    </tr>\n",
       "    <tr>\n",
       "      <th>2336</th>\n",
       "      <td>Potassium saccharin</td>\n",
       "      <td>[KH].S1(=O)(=O)NC(=O)c2c1cccc2</td>\n",
       "      <td>O=C1NS(=O)(=O)c2ccccc21.[KH]</td>\n",
       "      <td>9.477125414503671</td>\n",
       "      <td>8.806332736972081</td>\n",
       "      <td>0</td>\n",
       "      <td>0</td>\n",
       "      <td>multiple fragments (SpAbs_A/SpAbs)</td>\n",
       "      <td>multiple fragments (SpMax_A/SpMax)</td>\n",
       "      <td>multiple fragments (SpDiam_A/SpDiam)</td>\n",
       "      <td>...</td>\n",
       "      <td>59.31084525600276</td>\n",
       "      <td>222.970545732</td>\n",
       "      <td>11.735291880631578</td>\n",
       "      <td>1200000170</td>\n",
       "      <td>18</td>\n",
       "      <td>66.0</td>\n",
       "      <td>79.0</td>\n",
       "      <td>divide by zero encountered in power (mZagreb1)</td>\n",
       "      <td>2.513888888888889</td>\n",
       "      <td>Sweet</td>\n",
       "    </tr>\n",
       "    <tr>\n",
       "      <th>2337</th>\n",
       "      <td>Pterocaryoside B</td>\n",
       "      <td>O1CC(O)C(O)C(O)[C@@H]1OC1[C@@H]2[C@@](CC[C@@H]...</td>\n",
       "      <td>C=C(C)C1CC[C@]2(C)[C@@H](CC(O[C@@H]3OCC(O)C(O)...</td>\n",
       "      <td>34.62567347803583</td>\n",
       "      <td>28.37217838962738</td>\n",
       "      <td>1</td>\n",
       "      <td>0</td>\n",
       "      <td>52.56274247843422</td>\n",
       "      <td>2.7027574154525023</td>\n",
       "      <td>5.36054832352334</td>\n",
       "      <td>...</td>\n",
       "      <td>96.98628144037501</td>\n",
       "      <td>622.4080834360016</td>\n",
       "      <td>6.10204003368629</td>\n",
       "      <td>6130</td>\n",
       "      <td>88</td>\n",
       "      <td>246.0</td>\n",
       "      <td>301.0</td>\n",
       "      <td>19.78472222222222</td>\n",
       "      <td>9.104166666666668</td>\n",
       "      <td>Sweet</td>\n",
       "    </tr>\n",
       "  </tbody>\n",
       "</table>\n",
       "<p>2338 rows × 1830 columns</p>\n",
       "</div>"
      ],
      "text/plain": [
       "                                              Name  \\\n",
       "0                                          Sucrose   \n",
       "1     Sucralose / 4,1',6'-Trichloro-galactosucrose   \n",
       "2     Aspartame/Aspartyl-phenylalanine methylester   \n",
       "3                                         Tagatose   \n",
       "4                          Isomaltulose/Palatinose   \n",
       "...                                            ...   \n",
       "2333                                Isovanillic 24   \n",
       "2334                                  Naringin DHC   \n",
       "2335                                Polypodoside A   \n",
       "2336                           Potassium saccharin   \n",
       "2337                              Pterocaryoside B   \n",
       "\n",
       "                                                 SMILES  \\\n",
       "0               OCC1OC(C(C1O)O)(CO)OC1OC(CO)C(C(C1O)O)O   \n",
       "1            ClCC1OC(C(C1O)O)(CCl)OC1OC(CO)C(C(C1O)O)Cl   \n",
       "2                  COC(=O)C(NC(=O)C(CC(=O)O)N)Cc1ccccc1   \n",
       "3                                  OCC1(O)OCC(C(C1O)O)O   \n",
       "4               OCC1OC(OCC2OC(C(C2O)O)(O)CO)C(C(C1O)O)O   \n",
       "...                                                 ...   \n",
       "2333       O1c2cc(O)c(O)cc2C2c3c(OC[C@@]12O)c(O)c(O)cc3   \n",
       "2334  O1C(CO)C(O)C(O)C(OC2OC(C)C(O)C(O)C2O)C1Oc1cc(O...   \n",
       "2335  O1[C@H](OC2CC[C@]3([C@H](C2)C(=O)C=C2[C@H]4CC[...   \n",
       "2336                     [KH].S1(=O)(=O)NC(=O)c2c1cccc2   \n",
       "2337  O1CC(O)C(O)C(O)[C@@H]1OC1[C@@H]2[C@@](CC[C@@H]...   \n",
       "\n",
       "                                       Canonical SMILES                 ABC  \\\n",
       "0               OCC1OC(OC2(CO)OC(CO)C(O)C2O)C(O)C(O)C1O  17.213261503245107   \n",
       "1            OCC1OC(OC2(CCl)OC(CCl)C(O)C2O)C(O)C(O)C1Cl  17.213261503245107   \n",
       "2                  COC(=O)C(Cc1ccccc1)NC(=O)C(N)CC(=O)O  15.315311174583632   \n",
       "3                                  OCC1(O)OCC(O)C(O)C1O    8.82987961020159   \n",
       "4               OCC1OC(OCC2OC(O)(CO)C(O)C2O)C(O)C(O)C1O  17.372180125842995   \n",
       "...                                                 ...                 ...   \n",
       "2333         Oc1cc2c(cc1O)C1c3ccc(O)c(O)c3OC[C@@]1(O)O2  17.929456992768486   \n",
       "2334  CC1OC(OC2C(Oc3cc(O)c(C(=O)CCc4ccc(O)cc4)c(O)c3...   31.76175510990119   \n",
       "2335  CC1CC[C@H](C(C)[C@H]2CC[C@@H]3C4=CC(=O)[C@H]5C...   49.55591225507042   \n",
       "2336                       O=C1NS(=O)(=O)c2ccccc21.[KH]   9.477125414503671   \n",
       "2337  C=C(C)C1CC[C@]2(C)[C@@H](CC(O[C@@H]3OCC(O)C(O)...   34.62567347803583   \n",
       "\n",
       "                   ABCGG nAcid nBase                             SpAbs_A  \\\n",
       "0     16.059815204624506     0     0                    28.7667348566669   \n",
       "1     16.059815204624506     0     0                    28.7667348566669   \n",
       "2     13.970681088761472     1     1                  25.367666563930996   \n",
       "3       8.71559123720356     0     0                  14.640474984817839   \n",
       "4     15.638061370199232     0     0                   28.65007669208163   \n",
       "...                  ...   ...   ...                                 ...   \n",
       "2333  14.412750313580602     0     0                   28.33692603461081   \n",
       "2334  24.298458975082983     0     0                  51.640551016072976   \n",
       "2335   34.56215687064316     0     0                   79.85826001512984   \n",
       "2336   8.806332736972081     0     0  multiple fragments (SpAbs_A/SpAbs)   \n",
       "2337   28.37217838962738     1     0                   52.56274247843422   \n",
       "\n",
       "                                 SpMax_A  \\\n",
       "0                     2.5224203882661214   \n",
       "1                     2.5224203882661214   \n",
       "2                     2.2875334901511377   \n",
       "3                     2.4182893140510573   \n",
       "4                     2.4784040495346007   \n",
       "...                                  ...   \n",
       "2333                  2.6128329480551606   \n",
       "2334                  2.4682759468781197   \n",
       "2335                  2.6367337389312957   \n",
       "2336  multiple fragments (SpMax_A/SpMax)   \n",
       "2337                  2.7027574154525023   \n",
       "\n",
       "                                  SpDiam_A  ...              TSRW10  \\\n",
       "0                        4.958230025475284  ...    72.3178208023914   \n",
       "1                        4.958230025475284  ...    72.3178208023914   \n",
       "2                       4.5750669803022745  ...  53.670480147148865   \n",
       "3                        4.836578628102114  ...  43.370989242179924   \n",
       "4                        4.876166945512816  ...   72.20412904244861   \n",
       "...                                    ...  ...                 ...   \n",
       "2333                     5.116646258260108  ...   72.02179076900988   \n",
       "2334                      4.93655189375624  ...    78.4593390300359   \n",
       "2335                     5.234851429657418  ...  116.63981199885743   \n",
       "2336  multiple fragments (SpDiam_A/SpDiam)  ...   59.31084525600276   \n",
       "2337                      5.36054832352334  ...   96.98628144037501   \n",
       "\n",
       "                      MW                 AMW       WPath WPol Zagreb1 Zagreb2  \\\n",
       "0     342.11621152400056   7.602582478311124        1110   43   120.0   147.0   \n",
       "1      396.0145506080005    9.42891787161906        1110   43   120.0   147.0   \n",
       "2      294.1215716760005   7.541578760923089        1000   27    96.0   105.0   \n",
       "3          180.063388104  7.5026411710000005         178   20    60.0    71.0   \n",
       "4     342.11621152400056   7.602582478311124        1220   41   120.0   145.0   \n",
       "...                  ...                 ...         ...  ...     ...     ...   \n",
       "2333   304.0583027240003   8.942891256588245         912   44   130.0   163.0   \n",
       "2334   582.1948557680008   7.762598076906678        6188   73   216.0   257.0   \n",
       "2335    884.476950844002   6.600574260029865       19191  130   354.0   441.0   \n",
       "2336       222.970545732  11.735291880631578  1200000170   18    66.0    79.0   \n",
       "2337   622.4080834360016    6.10204003368629        6130   88   246.0   301.0   \n",
       "\n",
       "                                            mZagreb1            mZagreb2  \\\n",
       "0                                 10.451388888888888   5.291666666666664   \n",
       "1                                 10.451388888888888   5.291666666666664   \n",
       "2                                  8.916666666666666   4.888888888888889   \n",
       "3                                  6.145833333333333  2.7222222222222228   \n",
       "4                                 10.451388888888888   5.166666666666665   \n",
       "...                                              ...                 ...   \n",
       "2333                                          7.8125   4.527777777777777   \n",
       "2334                               16.13888888888889   8.972222222222218   \n",
       "2335                               23.51388888888889  13.083333333333327   \n",
       "2336  divide by zero encountered in power (mZagreb1)   2.513888888888889   \n",
       "2337                               19.78472222222222   9.104166666666668   \n",
       "\n",
       "     Target  \n",
       "0     Sweet  \n",
       "1     Sweet  \n",
       "2     Sweet  \n",
       "3     Sweet  \n",
       "4     Sweet  \n",
       "...     ...  \n",
       "2333  Sweet  \n",
       "2334  Sweet  \n",
       "2335  Sweet  \n",
       "2336  Sweet  \n",
       "2337  Sweet  \n",
       "\n",
       "[2338 rows x 1830 columns]"
      ]
     },
     "execution_count": 26,
     "metadata": {},
     "output_type": "execute_result"
    }
   ],
   "source": [
    "df"
   ]
  },
  {
   "cell_type": "code",
   "execution_count": 27,
   "metadata": {
    "executionInfo": {
     "elapsed": 494,
     "status": "ok",
     "timestamp": 1670641261263,
     "user": {
      "displayName": "Alagar",
      "userId": "18409237732645261754"
     },
     "user_tz": -480
    },
    "id": "_bzQWeRD9aV4"
   },
   "outputs": [],
   "source": [
    "columns = df.columns"
   ]
  },
  {
   "cell_type": "code",
   "execution_count": 28,
   "metadata": {
    "executionInfo": {
     "elapsed": 2808,
     "status": "ok",
     "timestamp": 1670641357968,
     "user": {
      "displayName": "Alagar",
      "userId": "18409237732645261754"
     },
     "user_tz": -480
    },
    "id": "9AAW9AVV9dAS"
   },
   "outputs": [],
   "source": [
    "# Separate data into feature and target dataframes.\n",
    "X = df[columns[3:-1]]\n",
    "X = X.apply(pd.to_numeric, errors='coerce') # Change numbers as strings to numeric \n",
    "                                            # and relpace strings with NaNs.\n",
    "#X = X.astype(dtype='float64') # Convert dtypes to float64.\n"
   ]
  },
  {
   "cell_type": "code",
   "execution_count": 29,
   "metadata": {
    "colab": {
     "base_uri": "https://localhost:8080/"
    },
    "executionInfo": {
     "elapsed": 39,
     "status": "ok",
     "timestamp": 1670641357972,
     "user": {
      "displayName": "Alagar",
      "userId": "18409237732645261754"
     },
     "user_tz": -480
    },
    "id": "3v1o9mQg9fhR",
    "outputId": "d7d1311d-7da8-4b58-80f0-bedfe93a52c9"
   },
   "outputs": [
    {
     "data": {
      "text/plain": [
       "dtype('int64')"
      ]
     },
     "execution_count": 29,
     "metadata": {},
     "output_type": "execute_result"
    }
   ],
   "source": [
    "X['nAcid'].dtype\n"
   ]
  },
  {
   "cell_type": "code",
   "execution_count": 30,
   "metadata": {
    "executionInfo": {
     "elapsed": 33,
     "status": "ok",
     "timestamp": 1670641357976,
     "user": {
      "displayName": "Alagar",
      "userId": "18409237732645261754"
     },
     "user_tz": -480
    },
    "id": "NGaYuaXr9iQ7"
   },
   "outputs": [],
   "source": [
    "\n",
    "X['SMR_VSA2'] = X['SMR_VSA2'].astype(dtype='int64')"
   ]
  },
  {
   "cell_type": "code",
   "execution_count": 31,
   "metadata": {
    "executionInfo": {
     "elapsed": 7,
     "status": "ok",
     "timestamp": 1670641360139,
     "user": {
      "displayName": "Alagar",
      "userId": "18409237732645261754"
     },
     "user_tz": -480
    },
    "id": "HR5w-ZZW9pOE"
   },
   "outputs": [],
   "source": [
    "y = df.loc[:,columns[-1:]]"
   ]
  },
  {
   "cell_type": "code",
   "execution_count": 32,
   "metadata": {
    "executionInfo": {
     "elapsed": 538,
     "status": "ok",
     "timestamp": 1670641362988,
     "user": {
      "displayName": "Alagar",
      "userId": "18409237732645261754"
     },
     "user_tz": -480
    },
    "id": "ah4Lb-PU9ka6"
   },
   "outputs": [],
   "source": [
    "y = df.loc[:,columns[-1:]]\n",
    "y.Target.replace(to_replace='Sweet', value=1, inplace=True) # Replace 'Sweet' label with 1.\n",
    "y.Target.replace(to_replace='Bitter', value=0, inplace=True) # Replace 'Bitter' label with 0.\n"
   ]
  },
  {
   "cell_type": "code",
   "execution_count": 33,
   "metadata": {
    "colab": {
     "base_uri": "https://localhost:8080/"
    },
    "executionInfo": {
     "elapsed": 415,
     "status": "ok",
     "timestamp": 1670641365781,
     "user": {
      "displayName": "Alagar",
      "userId": "18409237732645261754"
     },
     "user_tz": -480
    },
    "id": "52Atm-J_9vsA",
    "outputId": "bcb8cb6b-000f-4424-f805-548450463666"
   },
   "outputs": [
    {
     "name": "stdout",
     "output_type": "stream",
     "text": [
      "Total number of features: 1826\n",
      "Total number of samples: 2338\n",
      "To check if there are any null values in the features and how many:  True 995554\n",
      "To check if there are any null values in the target and how many: False 0\n",
      "The total number of Sweet targets: 1239\n",
      "The total number of Bitter targets: 0\n"
     ]
    }
   ],
   "source": [
    "# Print some metrics about the data.\n",
    "print (\"Total number of features: \" + str(X.shape[1]))\n",
    "print (\"Total number of samples: \"+ str(X.shape[0]))\n",
    "print (\"To check if there are any null values in the features and how many: \", \\\n",
    "       X.isnull().values.any(), X.isnull().sum().sum())\n",
    "print (\"To check if there are any null values in the target and how many:\", \\\n",
    "       y.isnull().values.any(), y.isnull().sum().sum()) \n",
    "print (\"The total number of Sweet targets: \" + str(y[y.Target == 1].count()[0]))\n",
    "print (\"The total number of Bitter targets: \" + str(y[y.Target == 0].count()[0]))\n"
   ]
  },
  {
   "cell_type": "code",
   "execution_count": 34,
   "metadata": {
    "executionInfo": {
     "elapsed": 1020,
     "status": "ok",
     "timestamp": 1670641388418,
     "user": {
      "displayName": "Alagar",
      "userId": "18409237732645261754"
     },
     "user_tz": -480
    },
    "id": "walI3x0k9ybH"
   },
   "outputs": [],
   "source": [
    "\n",
    "# Replace NaNs with the column mean. Keep columns with atleast 80% non NaNs. \n",
    "# Remove columns with only NaN values.\n",
    "X_no_nan = nan_filter(data=X, thresh=80, value='mean')\n",
    "\n"
   ]
  },
  {
   "cell_type": "code",
   "execution_count": 35,
   "metadata": {
    "colab": {
     "base_uri": "https://localhost:8080/"
    },
    "executionInfo": {
     "elapsed": 519,
     "status": "ok",
     "timestamp": 1670641410858,
     "user": {
      "displayName": "Alagar",
      "userId": "18409237732645261754"
     },
     "user_tz": -480
    },
    "id": "w7w4pzZt91Tg",
    "outputId": "c948cac4-29a9-4c61-82a2-8d5929152932"
   },
   "outputs": [
    {
     "name": "stdout",
     "output_type": "stream",
     "text": [
      "To check if there are any null values in the features after fixing nans and how many:  False 0\n",
      "Total number of features left after fixing NaNs:  1477\n"
     ]
    }
   ],
   "source": [
    "\n",
    "print (\"To check if there are any null values in the features after fixing nans and how many: \", X_no_nan.isnull().values.any(), X_no_nan.isnull().sum().sum() )\n",
    "print (\"Total number of features left after fixing NaNs: \", X_no_nan.shape[1]) "
   ]
  },
  {
   "cell_type": "code",
   "execution_count": 36,
   "metadata": {
    "colab": {
     "base_uri": "https://localhost:8080/",
     "height": 174
    },
    "executionInfo": {
     "elapsed": 489,
     "status": "ok",
     "timestamp": 1670641550595,
     "user": {
      "displayName": "Alagar",
      "userId": "18409237732645261754"
     },
     "user_tz": -480
    },
    "id": "pUpLZYXo93bt",
    "outputId": "94a61171-dd1c-41fe-b897-7a71ad82edc2"
   },
   "outputs": [
    {
     "data": {
      "text/html": [
       "<div>\n",
       "<style scoped>\n",
       "    .dataframe tbody tr th:only-of-type {\n",
       "        vertical-align: middle;\n",
       "    }\n",
       "\n",
       "    .dataframe tbody tr th {\n",
       "        vertical-align: top;\n",
       "    }\n",
       "\n",
       "    .dataframe thead th {\n",
       "        text-align: right;\n",
       "    }\n",
       "</style>\n",
       "<table border=\"1\" class=\"dataframe\">\n",
       "  <thead>\n",
       "    <tr style=\"text-align: right;\">\n",
       "      <th></th>\n",
       "      <th>ABC</th>\n",
       "      <th>ABCGG</th>\n",
       "      <th>nAcid</th>\n",
       "      <th>nBase</th>\n",
       "      <th>SpAbs_A</th>\n",
       "      <th>SpMax_A</th>\n",
       "      <th>SpDiam_A</th>\n",
       "      <th>SpAD_A</th>\n",
       "      <th>SpMAD_A</th>\n",
       "      <th>LogEE_A</th>\n",
       "      <th>...</th>\n",
       "      <th>SRW10</th>\n",
       "      <th>TSRW10</th>\n",
       "      <th>MW</th>\n",
       "      <th>AMW</th>\n",
       "      <th>WPath</th>\n",
       "      <th>WPol</th>\n",
       "      <th>Zagreb1</th>\n",
       "      <th>Zagreb2</th>\n",
       "      <th>mZagreb1</th>\n",
       "      <th>mZagreb2</th>\n",
       "    </tr>\n",
       "  </thead>\n",
       "  <tbody>\n",
       "    <tr>\n",
       "      <th>0</th>\n",
       "      <td>17.213262</td>\n",
       "      <td>16.059815</td>\n",
       "      <td>0</td>\n",
       "      <td>0</td>\n",
       "      <td>28.766735</td>\n",
       "      <td>2.52242</td>\n",
       "      <td>4.95823</td>\n",
       "      <td>28.766735</td>\n",
       "      <td>1.250728</td>\n",
       "      <td>4.052767</td>\n",
       "      <td>...</td>\n",
       "      <td>10.247042</td>\n",
       "      <td>72.317821</td>\n",
       "      <td>342.116212</td>\n",
       "      <td>7.602582</td>\n",
       "      <td>1110</td>\n",
       "      <td>43</td>\n",
       "      <td>120.0</td>\n",
       "      <td>147.0</td>\n",
       "      <td>10.451389</td>\n",
       "      <td>5.291667</td>\n",
       "    </tr>\n",
       "  </tbody>\n",
       "</table>\n",
       "<p>1 rows × 1477 columns</p>\n",
       "</div>"
      ],
      "text/plain": [
       "         ABC      ABCGG  nAcid  nBase    SpAbs_A  SpMax_A  SpDiam_A  \\\n",
       "0  17.213262  16.059815      0      0  28.766735  2.52242   4.95823   \n",
       "\n",
       "      SpAD_A   SpMAD_A   LogEE_A  ...      SRW10     TSRW10          MW  \\\n",
       "0  28.766735  1.250728  4.052767  ...  10.247042  72.317821  342.116212   \n",
       "\n",
       "        AMW  WPath  WPol  Zagreb1  Zagreb2   mZagreb1  mZagreb2  \n",
       "0  7.602582   1110    43    120.0    147.0  10.451389  5.291667  \n",
       "\n",
       "[1 rows x 1477 columns]"
      ]
     },
     "execution_count": 36,
     "metadata": {},
     "output_type": "execute_result"
    }
   ],
   "source": [
    "X_no_nan.head(1)\n",
    "\n"
   ]
  },
  {
   "cell_type": "code",
   "execution_count": 37,
   "metadata": {
    "executionInfo": {
     "elapsed": 450,
     "status": "ok",
     "timestamp": 1670641952888,
     "user": {
      "displayName": "Alagar",
      "userId": "18409237732645261754"
     },
     "user_tz": -480
    },
    "id": "cQ7uA_xKBRyt"
   },
   "outputs": [],
   "source": [
    "X_no_nan_norm = normalize_mm(X_no_nan)"
   ]
  },
  {
   "cell_type": "code",
   "execution_count": 38,
   "metadata": {
    "id": "OkaoWpQE96r_"
   },
   "outputs": [],
   "source": [
    "\n",
    "X_ =  pd.concat([X_no_nan_norm,y], axis=1)\n",
    "X_.to_pickle('output/X_all.pkl', compression='gzip')\n"
   ]
  },
  {
   "cell_type": "markdown",
   "metadata": {
    "id": "XTtH1VoL_4He"
   },
   "source": [
    "Split train test "
   ]
  },
  {
   "cell_type": "code",
   "execution_count": 60,
   "metadata": {
    "executionInfo": {
     "elapsed": 562,
     "status": "ok",
     "timestamp": 1670641767727,
     "user": {
      "displayName": "Alagar",
      "userId": "18409237732645261754"
     },
     "user_tz": -480
    },
    "id": "iVVA6L78_6Dk"
   },
   "outputs": [],
   "source": [
    "from sklearn.model_selection import train_test_split\n",
    "from xgboost import XGBClassifier\n",
    "from sklearn.metrics import accuracy_score, precision_score\n",
    "\n"
   ]
  },
  {
   "cell_type": "code",
   "execution_count": 48,
   "metadata": {
    "executionInfo": {
     "elapsed": 602,
     "status": "ok",
     "timestamp": 1670642644145,
     "user": {
      "displayName": "Alagar",
      "userId": "18409237732645261754"
     },
     "user_tz": -480
    },
    "id": "JLv8ib7DALd8"
   },
   "outputs": [],
   "source": [
    "X_train, X_test, y_train, y_test = train_test_split(X_no_nan_norm, y, test_size=0.33, random_state=42)"
   ]
  },
  {
   "cell_type": "code",
   "execution_count": 50,
   "metadata": {
    "colab": {
     "base_uri": "https://localhost:8080/"
    },
    "executionInfo": {
     "elapsed": 626,
     "status": "ok",
     "timestamp": 1670642617453,
     "user": {
      "displayName": "Alagar",
      "userId": "18409237732645261754"
     },
     "user_tz": -480
    },
    "id": "-Gb9VOZDDvUi",
    "outputId": "ddaeca8c-d2e9-48fc-f776-abc38fa521bc"
   },
   "outputs": [
    {
     "data": {
      "text/plain": [
       "dtype('float64')"
      ]
     },
     "execution_count": 50,
     "metadata": {},
     "output_type": "execute_result"
    }
   ],
   "source": [
    "X_train.iloc[0,0].dtype"
   ]
  },
  {
   "cell_type": "code",
   "execution_count": null,
   "metadata": {},
   "outputs": [],
   "source": []
  },
  {
   "cell_type": "code",
   "execution_count": 55,
   "metadata": {
    "executionInfo": {
     "elapsed": 490,
     "status": "ok",
     "timestamp": 1670644491929,
     "user": {
      "displayName": "Alagar",
      "userId": "18409237732645261754"
     },
     "user_tz": -480
    },
    "id": "JwYlMfw2IKQ7"
   },
   "outputs": [],
   "source": [
    "y_train=y_train.replace('Non_Sweet',0)\n",
    "y_train= y_train.astype('int')"
   ]
  },
  {
   "cell_type": "code",
   "execution_count": 56,
   "metadata": {
    "executionInfo": {
     "elapsed": 513,
     "status": "ok",
     "timestamp": 1670644599088,
     "user": {
      "displayName": "Alagar",
      "userId": "18409237732645261754"
     },
     "user_tz": -480
    },
    "id": "rrTr-BNGLOBI"
   },
   "outputs": [],
   "source": [
    "y_test=y_test.replace('Non_Sweet',0)\n",
    "y_test= y_test.astype('int')"
   ]
  },
  {
   "cell_type": "markdown",
   "metadata": {
    "id": "uGR2wXGuR0vL"
   },
   "source": [
    "# XGBClassifier"
   ]
  },
  {
   "cell_type": "code",
   "execution_count": 57,
   "metadata": {
    "executionInfo": {
     "elapsed": 432,
     "status": "ok",
     "timestamp": 1670644494785,
     "user": {
      "displayName": "Alagar",
      "userId": "18409237732645261754"
     },
     "user_tz": -480
    },
    "id": "CzGLu8eRB07c"
   },
   "outputs": [],
   "source": [
    "model = XGBClassifier()"
   ]
  },
  {
   "cell_type": "code",
   "execution_count": 58,
   "metadata": {
    "colab": {
     "base_uri": "https://localhost:8080/"
    },
    "executionInfo": {
     "elapsed": 37634,
     "status": "ok",
     "timestamp": 1670644534545,
     "user": {
      "displayName": "Alagar",
      "userId": "18409237732645261754"
     },
     "user_tz": -480
    },
    "id": "FWOdvSc5Agpl",
    "outputId": "3c57d6f1-57c3-46d9-f3a9-dd29bc173f5f"
   },
   "outputs": [
    {
     "data": {
      "text/plain": [
       "XGBClassifier(base_score=0.5, booster='gbtree', callbacks=None,\n",
       "              colsample_bylevel=1, colsample_bynode=1, colsample_bytree=1,\n",
       "              early_stopping_rounds=None, enable_categorical=False,\n",
       "              eval_metric=None, feature_types=None, gamma=0, gpu_id=-1,\n",
       "              grow_policy='depthwise', importance_type=None,\n",
       "              interaction_constraints='', learning_rate=0.300000012,\n",
       "              max_bin=256, max_cat_threshold=64, max_cat_to_onehot=4,\n",
       "              max_delta_step=0, max_depth=6, max_leaves=0, min_child_weight=1,\n",
       "              missing=nan, monotone_constraints='()', n_estimators=100,\n",
       "              n_jobs=0, num_parallel_tree=1, predictor='auto', random_state=0, ...)"
      ]
     },
     "execution_count": 58,
     "metadata": {},
     "output_type": "execute_result"
    }
   ],
   "source": [
    "model.fit(X_train, y_train)"
   ]
  },
  {
   "cell_type": "code",
   "execution_count": 61,
   "metadata": {
    "colab": {
     "base_uri": "https://localhost:8080/"
    },
    "executionInfo": {
     "elapsed": 404,
     "status": "ok",
     "timestamp": 1670644609976,
     "user": {
      "displayName": "Alagar",
      "userId": "18409237732645261754"
     },
     "user_tz": -480
    },
    "id": "mz_smHSSAjLm",
    "outputId": "b6e1629b-a5a9-47d9-e0be-2aa32f12936c"
   },
   "outputs": [
    {
     "name": "stdout",
     "output_type": "stream",
     "text": [
      "Accuracy of Model:: 0.8601036269430051\n",
      "Precision of Model:: 0.859122401847575\n"
     ]
    }
   ],
   "source": [
    "y_pred = model.predict(X_test)\n",
    "\n",
    "print(\"Accuracy of Model::\",accuracy_score(y_test,y_pred))\n",
    "print(\"Precision of Model::\",precision_score(y_test,y_pred))"
   ]
  },
  {
   "cell_type": "code",
   "execution_count": 46,
   "metadata": {
    "id": "1F7kSLeaR_Gg"
   },
   "outputs": [
    {
     "name": "stdout",
     "output_type": "stream",
     "text": [
      "Collecting xgboost\n",
      "  Downloading xgboost-1.7.2-py3-none-macosx_10_15_x86_64.macosx_11_0_x86_64.macosx_12_0_x86_64.whl (1.8 MB)\n",
      "\u001b[2K     \u001b[90m━━━━━━━━━━━━━━━━━━━━━━━━━━━━━━━━━━━━━━━━\u001b[0m \u001b[32m1.8/1.8 MB\u001b[0m \u001b[31m2.9 MB/s\u001b[0m eta \u001b[36m0:00:00\u001b[0m00:01\u001b[0m00:01\u001b[0m\n",
      "\u001b[?25hRequirement already satisfied: scipy in /Users/kristianespina/opt/anaconda3/lib/python3.9/site-packages (from xgboost) (1.9.1)\n",
      "Requirement already satisfied: numpy in /Users/kristianespina/opt/anaconda3/lib/python3.9/site-packages (from xgboost) (1.21.5)\n",
      "Installing collected packages: xgboost\n",
      "Successfully installed xgboost-1.7.2\n"
     ]
    }
   ],
   "source": [
    "!pip install xgboost"
   ]
  },
  {
   "cell_type": "markdown",
   "metadata": {
    "id": "dNCsvtj7SwUh"
   },
   "source": [
    "# CatBoost"
   ]
  },
  {
   "cell_type": "code",
   "execution_count": 45,
   "metadata": {
    "colab": {
     "base_uri": "https://localhost:8080/"
    },
    "executionInfo": {
     "elapsed": 12525,
     "status": "ok",
     "timestamp": 1670646661975,
     "user": {
      "displayName": "Alagar",
      "userId": "18409237732645261754"
     },
     "user_tz": -480
    },
    "id": "M1Vl0WVeTA0c",
    "outputId": "6f9fdb75-334f-4b96-aa3d-8ad03b3ae12f"
   },
   "outputs": [
    {
     "name": "stdout",
     "output_type": "stream",
     "text": [
      "Collecting catboost\n",
      "  Downloading catboost-1.1.1-cp39-none-macosx_10_6_universal2.whl (22.0 MB)\n",
      "\u001b[2K     \u001b[90m━━━━━━━━━━━━━━━━━━━━━━━━━━━━━━━━━━━━━━━━\u001b[0m \u001b[32m22.0/22.0 MB\u001b[0m \u001b[31m2.2 MB/s\u001b[0m eta \u001b[36m0:00:00\u001b[0m00:01\u001b[0m00:01\u001b[0m\n",
      "\u001b[?25hRequirement already satisfied: plotly in /Users/kristianespina/opt/anaconda3/lib/python3.9/site-packages (from catboost) (5.9.0)\n",
      "Requirement already satisfied: pandas>=0.24.0 in /Users/kristianespina/opt/anaconda3/lib/python3.9/site-packages (from catboost) (1.4.4)\n",
      "Requirement already satisfied: six in /Users/kristianespina/opt/anaconda3/lib/python3.9/site-packages (from catboost) (1.16.0)\n",
      "Requirement already satisfied: matplotlib in /Users/kristianespina/opt/anaconda3/lib/python3.9/site-packages (from catboost) (3.5.2)\n",
      "Requirement already satisfied: scipy in /Users/kristianespina/opt/anaconda3/lib/python3.9/site-packages (from catboost) (1.9.1)\n",
      "Requirement already satisfied: numpy>=1.16.0 in /Users/kristianespina/opt/anaconda3/lib/python3.9/site-packages (from catboost) (1.21.5)\n",
      "Collecting graphviz\n",
      "  Downloading graphviz-0.20.1-py3-none-any.whl (47 kB)\n",
      "\u001b[2K     \u001b[90m━━━━━━━━━━━━━━━━━━━━━━━━━━━━━━━━━━━━━━━━\u001b[0m \u001b[32m47.0/47.0 kB\u001b[0m \u001b[31m4.2 MB/s\u001b[0m eta \u001b[36m0:00:00\u001b[0m\n",
      "\u001b[?25hRequirement already satisfied: python-dateutil>=2.8.1 in /Users/kristianespina/opt/anaconda3/lib/python3.9/site-packages (from pandas>=0.24.0->catboost) (2.8.2)\n",
      "Requirement already satisfied: pytz>=2020.1 in /Users/kristianespina/opt/anaconda3/lib/python3.9/site-packages (from pandas>=0.24.0->catboost) (2022.1)\n",
      "Requirement already satisfied: cycler>=0.10 in /Users/kristianespina/opt/anaconda3/lib/python3.9/site-packages (from matplotlib->catboost) (0.11.0)\n",
      "Requirement already satisfied: pyparsing>=2.2.1 in /Users/kristianespina/opt/anaconda3/lib/python3.9/site-packages (from matplotlib->catboost) (3.0.9)\n",
      "Requirement already satisfied: pillow>=6.2.0 in /Users/kristianespina/opt/anaconda3/lib/python3.9/site-packages (from matplotlib->catboost) (9.2.0)\n",
      "Requirement already satisfied: packaging>=20.0 in /Users/kristianespina/opt/anaconda3/lib/python3.9/site-packages (from matplotlib->catboost) (21.3)\n",
      "Requirement already satisfied: fonttools>=4.22.0 in /Users/kristianespina/opt/anaconda3/lib/python3.9/site-packages (from matplotlib->catboost) (4.25.0)\n",
      "Requirement already satisfied: kiwisolver>=1.0.1 in /Users/kristianespina/opt/anaconda3/lib/python3.9/site-packages (from matplotlib->catboost) (1.4.2)\n",
      "Requirement already satisfied: tenacity>=6.2.0 in /Users/kristianespina/opt/anaconda3/lib/python3.9/site-packages (from plotly->catboost) (8.0.1)\n",
      "Installing collected packages: graphviz, catboost\n",
      "Successfully installed catboost-1.1.1 graphviz-0.20.1\n"
     ]
    }
   ],
   "source": [
    "!pip install catboost"
   ]
  },
  {
   "cell_type": "code",
   "execution_count": 62,
   "metadata": {
    "colab": {
     "base_uri": "https://localhost:8080/"
    },
    "executionInfo": {
     "elapsed": 73646,
     "status": "ok",
     "timestamp": 1670647280421,
     "user": {
      "displayName": "Alagar",
      "userId": "18409237732645261754"
     },
     "user_tz": -480
    },
    "id": "snng7qOGTSCR",
    "outputId": "2e901de6-7d37-4ac1-d5a2-266895dccc62"
   },
   "outputs": [
    {
     "name": "stdout",
     "output_type": "stream",
     "text": [
      "0:\tlearn: 0.5853672\ttotal: 129ms\tremaining: 12.8s\n",
      "1:\tlearn: 0.5199621\ttotal: 168ms\tremaining: 8.24s\n",
      "2:\tlearn: 0.4743307\ttotal: 209ms\tremaining: 6.77s\n",
      "3:\tlearn: 0.4361234\ttotal: 252ms\tremaining: 6.06s\n",
      "4:\tlearn: 0.4090514\ttotal: 296ms\tremaining: 5.63s\n",
      "5:\tlearn: 0.3807889\ttotal: 343ms\tremaining: 5.38s\n",
      "6:\tlearn: 0.3638205\ttotal: 399ms\tremaining: 5.3s\n",
      "7:\tlearn: 0.3446217\ttotal: 441ms\tremaining: 5.07s\n",
      "8:\tlearn: 0.3300920\ttotal: 482ms\tremaining: 4.87s\n",
      "9:\tlearn: 0.3170042\ttotal: 523ms\tremaining: 4.71s\n",
      "10:\tlearn: 0.3076142\ttotal: 568ms\tremaining: 4.59s\n",
      "11:\tlearn: 0.3006758\ttotal: 612ms\tremaining: 4.49s\n",
      "12:\tlearn: 0.2915792\ttotal: 653ms\tremaining: 4.37s\n",
      "13:\tlearn: 0.2848231\ttotal: 694ms\tremaining: 4.26s\n",
      "14:\tlearn: 0.2800151\ttotal: 735ms\tremaining: 4.17s\n",
      "15:\tlearn: 0.2730961\ttotal: 777ms\tremaining: 4.08s\n",
      "16:\tlearn: 0.2664502\ttotal: 819ms\tremaining: 4s\n",
      "17:\tlearn: 0.2615833\ttotal: 859ms\tremaining: 3.91s\n",
      "18:\tlearn: 0.2536868\ttotal: 905ms\tremaining: 3.86s\n",
      "19:\tlearn: 0.2509545\ttotal: 946ms\tremaining: 3.78s\n",
      "20:\tlearn: 0.2445490\ttotal: 991ms\tremaining: 3.73s\n",
      "21:\tlearn: 0.2408677\ttotal: 1.03s\tremaining: 3.66s\n",
      "22:\tlearn: 0.2364616\ttotal: 1.07s\tremaining: 3.57s\n",
      "23:\tlearn: 0.2300703\ttotal: 1.1s\tremaining: 3.5s\n",
      "24:\tlearn: 0.2238564\ttotal: 1.14s\tremaining: 3.42s\n",
      "25:\tlearn: 0.2201234\ttotal: 1.18s\tremaining: 3.36s\n",
      "26:\tlearn: 0.2154692\ttotal: 1.22s\tremaining: 3.31s\n",
      "27:\tlearn: 0.2102305\ttotal: 1.28s\tremaining: 3.29s\n",
      "28:\tlearn: 0.2068756\ttotal: 1.32s\tremaining: 3.24s\n",
      "29:\tlearn: 0.2026778\ttotal: 1.36s\tremaining: 3.18s\n",
      "30:\tlearn: 0.1986502\ttotal: 1.4s\tremaining: 3.12s\n",
      "31:\tlearn: 0.1934763\ttotal: 1.44s\tremaining: 3.07s\n",
      "32:\tlearn: 0.1897318\ttotal: 1.48s\tremaining: 3.01s\n",
      "33:\tlearn: 0.1859754\ttotal: 1.52s\tremaining: 2.95s\n",
      "34:\tlearn: 0.1814975\ttotal: 1.55s\tremaining: 2.89s\n",
      "35:\tlearn: 0.1761625\ttotal: 1.59s\tremaining: 2.84s\n",
      "36:\tlearn: 0.1711620\ttotal: 1.63s\tremaining: 2.78s\n",
      "37:\tlearn: 0.1703847\ttotal: 1.67s\tremaining: 2.73s\n",
      "38:\tlearn: 0.1674292\ttotal: 1.71s\tremaining: 2.67s\n",
      "39:\tlearn: 0.1618724\ttotal: 1.75s\tremaining: 2.62s\n",
      "40:\tlearn: 0.1607576\ttotal: 1.78s\tremaining: 2.57s\n",
      "41:\tlearn: 0.1575494\ttotal: 1.82s\tremaining: 2.52s\n",
      "42:\tlearn: 0.1538307\ttotal: 1.88s\tremaining: 2.49s\n",
      "43:\tlearn: 0.1533200\ttotal: 1.93s\tremaining: 2.45s\n",
      "44:\tlearn: 0.1520369\ttotal: 1.97s\tremaining: 2.41s\n",
      "45:\tlearn: 0.1469897\ttotal: 2.01s\tremaining: 2.36s\n",
      "46:\tlearn: 0.1435017\ttotal: 2.05s\tremaining: 2.31s\n",
      "47:\tlearn: 0.1375740\ttotal: 2.1s\tremaining: 2.27s\n",
      "48:\tlearn: 0.1372564\ttotal: 2.14s\tremaining: 2.23s\n",
      "49:\tlearn: 0.1320427\ttotal: 2.18s\tremaining: 2.18s\n",
      "50:\tlearn: 0.1297736\ttotal: 2.22s\tremaining: 2.13s\n",
      "51:\tlearn: 0.1265364\ttotal: 2.26s\tremaining: 2.08s\n",
      "52:\tlearn: 0.1262416\ttotal: 2.29s\tremaining: 2.03s\n",
      "53:\tlearn: 0.1208173\ttotal: 2.33s\tremaining: 1.99s\n",
      "54:\tlearn: 0.1174197\ttotal: 2.38s\tremaining: 1.95s\n",
      "55:\tlearn: 0.1165124\ttotal: 2.42s\tremaining: 1.9s\n",
      "56:\tlearn: 0.1148470\ttotal: 2.46s\tremaining: 1.85s\n",
      "57:\tlearn: 0.1145823\ttotal: 2.49s\tremaining: 1.81s\n",
      "58:\tlearn: 0.1115422\ttotal: 2.53s\tremaining: 1.76s\n",
      "59:\tlearn: 0.1096256\ttotal: 2.57s\tremaining: 1.72s\n",
      "60:\tlearn: 0.1060048\ttotal: 2.61s\tremaining: 1.67s\n",
      "61:\tlearn: 0.1031913\ttotal: 2.65s\tremaining: 1.63s\n",
      "62:\tlearn: 0.1002870\ttotal: 2.69s\tremaining: 1.58s\n",
      "63:\tlearn: 0.0971742\ttotal: 2.73s\tremaining: 1.54s\n",
      "64:\tlearn: 0.0950743\ttotal: 2.78s\tremaining: 1.5s\n",
      "65:\tlearn: 0.0936363\ttotal: 2.82s\tremaining: 1.45s\n",
      "66:\tlearn: 0.0932908\ttotal: 2.85s\tremaining: 1.41s\n",
      "67:\tlearn: 0.0916996\ttotal: 2.89s\tremaining: 1.36s\n",
      "68:\tlearn: 0.0881661\ttotal: 2.94s\tremaining: 1.32s\n",
      "69:\tlearn: 0.0852580\ttotal: 2.98s\tremaining: 1.27s\n",
      "70:\tlearn: 0.0838774\ttotal: 3.01s\tremaining: 1.23s\n",
      "71:\tlearn: 0.0818311\ttotal: 3.05s\tremaining: 1.19s\n",
      "72:\tlearn: 0.0809735\ttotal: 3.09s\tremaining: 1.14s\n",
      "73:\tlearn: 0.0796734\ttotal: 3.13s\tremaining: 1.1s\n",
      "74:\tlearn: 0.0783180\ttotal: 3.17s\tremaining: 1.06s\n",
      "75:\tlearn: 0.0780705\ttotal: 3.21s\tremaining: 1.01s\n",
      "76:\tlearn: 0.0773515\ttotal: 3.26s\tremaining: 974ms\n",
      "77:\tlearn: 0.0755034\ttotal: 3.31s\tremaining: 935ms\n",
      "78:\tlearn: 0.0746242\ttotal: 3.35s\tremaining: 892ms\n",
      "79:\tlearn: 0.0733919\ttotal: 3.39s\tremaining: 848ms\n",
      "80:\tlearn: 0.0718295\ttotal: 3.44s\tremaining: 806ms\n",
      "81:\tlearn: 0.0692821\ttotal: 3.48s\tremaining: 764ms\n",
      "82:\tlearn: 0.0675183\ttotal: 3.52s\tremaining: 721ms\n",
      "83:\tlearn: 0.0656781\ttotal: 3.56s\tremaining: 678ms\n",
      "84:\tlearn: 0.0655089\ttotal: 3.59s\tremaining: 634ms\n",
      "85:\tlearn: 0.0641431\ttotal: 3.63s\tremaining: 591ms\n",
      "86:\tlearn: 0.0625931\ttotal: 3.67s\tremaining: 549ms\n",
      "87:\tlearn: 0.0609515\ttotal: 3.71s\tremaining: 506ms\n",
      "88:\tlearn: 0.0602612\ttotal: 3.75s\tremaining: 463ms\n",
      "89:\tlearn: 0.0592784\ttotal: 3.78s\tremaining: 420ms\n",
      "90:\tlearn: 0.0590526\ttotal: 3.82s\tremaining: 378ms\n",
      "91:\tlearn: 0.0576917\ttotal: 3.86s\tremaining: 336ms\n",
      "92:\tlearn: 0.0574118\ttotal: 3.92s\tremaining: 295ms\n",
      "93:\tlearn: 0.0572495\ttotal: 3.97s\tremaining: 253ms\n",
      "94:\tlearn: 0.0562083\ttotal: 4.01s\tremaining: 211ms\n",
      "95:\tlearn: 0.0556529\ttotal: 4.06s\tremaining: 169ms\n",
      "96:\tlearn: 0.0554734\ttotal: 4.15s\tremaining: 128ms\n",
      "97:\tlearn: 0.0544178\ttotal: 4.2s\tremaining: 85.8ms\n",
      "98:\tlearn: 0.0529951\ttotal: 4.25s\tremaining: 42.9ms\n",
      "99:\tlearn: 0.0520937\ttotal: 4.29s\tremaining: 0us\n",
      "CatBoost model is fitted: True\n",
      "CatBoost model parameters:\n",
      "{'iterations': 100, 'learning_rate': 0.2}\n"
     ]
    }
   ],
   "source": [
    "from catboost import CatBoostClassifier\n",
    "\n",
    "clf = CatBoostClassifier(\n",
    "    iterations=100, \n",
    "    learning_rate=0.2, \n",
    "    #loss_function='CrossEntropy'\n",
    ")\n",
    "\n",
    "clf.fit(X_train, y_train)\n",
    "\n",
    "print('CatBoost model is fitted: ' + str(clf.is_fitted()))\n",
    "print('CatBoost model parameters:')\n",
    "print(clf.get_params())\n",
    "\n"
   ]
  },
  {
   "cell_type": "code",
   "execution_count": 65,
   "metadata": {
    "colab": {
     "base_uri": "https://localhost:8080/"
    },
    "executionInfo": {
     "elapsed": 370,
     "status": "ok",
     "timestamp": 1670647283829,
     "user": {
      "displayName": "Alagar",
      "userId": "18409237732645261754"
     },
     "user_tz": -480
    },
    "id": "9dokdLFcThXd",
    "outputId": "2836a2c2-16be-46d0-e952-23f9883fab3e"
   },
   "outputs": [
    {
     "name": "stdout",
     "output_type": "stream",
     "text": [
      "Accuracy of Model:: 0.8652849740932642\n",
      "Precision of Model:: 0.8654292343387471\n"
     ]
    }
   ],
   "source": [
    "y_pred = clf.predict(X_test)\n",
    "\n",
    "print(\"Accuracy of Model::\",accuracy_score(y_test,y_pred))\n",
    "print(\"Precision of Model::\",precision_score(y_test,y_pred))"
   ]
  },
  {
   "cell_type": "code",
   "execution_count": null,
   "metadata": {
    "id": "xTJTZxe-T2sM"
   },
   "outputs": [],
   "source": []
  },
  {
   "cell_type": "markdown",
   "metadata": {
    "id": "Brkm7xKlUKEh"
   },
   "source": [
    "# Boruta Shap"
   ]
  },
  {
   "cell_type": "code",
   "execution_count": 121,
   "metadata": {
    "colab": {
     "base_uri": "https://localhost:8080/"
    },
    "executionInfo": {
     "elapsed": 4517,
     "status": "ok",
     "timestamp": 1670647297029,
     "user": {
      "displayName": "Alagar",
      "userId": "18409237732645261754"
     },
     "user_tz": -480
    },
    "id": "FW__h-p-VGe7",
    "outputId": "462a7493-be85-4c70-a2e1-1b1d5ea687b3"
   },
   "outputs": [
    {
     "name": "stdout",
     "output_type": "stream",
     "text": [
      "Looking in indexes: https://pypi.org/simple, https://us-python.pkg.dev/colab-wheels/public/simple/\n",
      "Collecting BorutaShap\n",
      "  Downloading BorutaShap-1.0.16-py3-none-any.whl (13 kB)\n",
      "Requirement already satisfied: numpy in /usr/local/lib/python3.8/dist-packages (from BorutaShap) (1.21.6)\n",
      "Collecting shap>=0.34.0\n",
      "  Downloading shap-0.41.0-cp38-cp38-manylinux_2_12_x86_64.manylinux2010_x86_64.whl (575 kB)\n",
      "\u001b[K     |████████████████████████████████| 575 kB 28.4 MB/s \n",
      "\u001b[?25hRequirement already satisfied: statsmodels in /usr/local/lib/python3.8/dist-packages (from BorutaShap) (0.12.2)\n",
      "Requirement already satisfied: pandas in /usr/local/lib/python3.8/dist-packages (from BorutaShap) (1.3.5)\n",
      "Requirement already satisfied: scipy in /usr/local/lib/python3.8/dist-packages (from BorutaShap) (1.7.3)\n",
      "Requirement already satisfied: matplotlib in /usr/local/lib/python3.8/dist-packages (from BorutaShap) (3.2.2)\n",
      "Requirement already satisfied: tqdm in /usr/local/lib/python3.8/dist-packages (from BorutaShap) (4.64.1)\n",
      "Requirement already satisfied: seaborn in /usr/local/lib/python3.8/dist-packages (from BorutaShap) (0.11.2)\n",
      "Requirement already satisfied: scikit-learn in /usr/local/lib/python3.8/dist-packages (from BorutaShap) (1.0.2)\n",
      "Requirement already satisfied: numba in /usr/local/lib/python3.8/dist-packages (from shap>=0.34.0->BorutaShap) (0.56.4)\n",
      "Requirement already satisfied: packaging>20.9 in /usr/local/lib/python3.8/dist-packages (from shap>=0.34.0->BorutaShap) (21.3)\n",
      "Collecting slicer==0.0.7\n",
      "  Downloading slicer-0.0.7-py3-none-any.whl (14 kB)\n",
      "Requirement already satisfied: cloudpickle in /usr/local/lib/python3.8/dist-packages (from shap>=0.34.0->BorutaShap) (1.5.0)\n",
      "Requirement already satisfied: pyparsing!=3.0.5,>=2.0.2 in /usr/local/lib/python3.8/dist-packages (from packaging>20.9->shap>=0.34.0->BorutaShap) (3.0.9)\n",
      "Requirement already satisfied: kiwisolver>=1.0.1 in /usr/local/lib/python3.8/dist-packages (from matplotlib->BorutaShap) (1.4.4)\n",
      "Requirement already satisfied: cycler>=0.10 in /usr/local/lib/python3.8/dist-packages (from matplotlib->BorutaShap) (0.11.0)\n",
      "Requirement already satisfied: python-dateutil>=2.1 in /usr/local/lib/python3.8/dist-packages (from matplotlib->BorutaShap) (2.8.2)\n",
      "Requirement already satisfied: six>=1.5 in /usr/local/lib/python3.8/dist-packages (from python-dateutil>=2.1->matplotlib->BorutaShap) (1.15.0)\n",
      "Requirement already satisfied: importlib-metadata in /usr/local/lib/python3.8/dist-packages (from numba->shap>=0.34.0->BorutaShap) (4.13.0)\n",
      "Requirement already satisfied: llvmlite<0.40,>=0.39.0dev0 in /usr/local/lib/python3.8/dist-packages (from numba->shap>=0.34.0->BorutaShap) (0.39.1)\n",
      "Requirement already satisfied: setuptools in /usr/local/lib/python3.8/dist-packages (from numba->shap>=0.34.0->BorutaShap) (57.4.0)\n",
      "Requirement already satisfied: zipp>=0.5 in /usr/local/lib/python3.8/dist-packages (from importlib-metadata->numba->shap>=0.34.0->BorutaShap) (3.11.0)\n",
      "Requirement already satisfied: pytz>=2017.3 in /usr/local/lib/python3.8/dist-packages (from pandas->BorutaShap) (2022.6)\n",
      "Requirement already satisfied: joblib>=0.11 in /usr/local/lib/python3.8/dist-packages (from scikit-learn->BorutaShap) (1.2.0)\n",
      "Requirement already satisfied: threadpoolctl>=2.0.0 in /usr/local/lib/python3.8/dist-packages (from scikit-learn->BorutaShap) (3.1.0)\n",
      "Requirement already satisfied: patsy>=0.5 in /usr/local/lib/python3.8/dist-packages (from statsmodels->BorutaShap) (0.5.3)\n",
      "Installing collected packages: slicer, shap, BorutaShap\n",
      "Successfully installed BorutaShap-1.0.16 shap-0.41.0 slicer-0.0.7\n"
     ]
    }
   ],
   "source": [
    "!pip install BorutaShap"
   ]
  },
  {
   "cell_type": "code",
   "execution_count": 126,
   "metadata": {
    "colab": {
     "base_uri": "https://localhost:8080/"
    },
    "executionInfo": {
     "elapsed": 434,
     "status": "ok",
     "timestamp": 1670647403257,
     "user": {
      "displayName": "Alagar",
      "userId": "18409237732645261754"
     },
     "user_tz": -480
    },
    "id": "9ECWmKeCVynU",
    "outputId": "53416de2-10b3-416f-bdcc-679b79dcb806"
   },
   "outputs": [
    {
     "data": {
      "text/plain": [
       "1161    1\n",
       "2196    0\n",
       "1911    0\n",
       "2121    1\n",
       "1273    1\n",
       "       ..\n",
       "1638    0\n",
       "1095    1\n",
       "1130    1\n",
       "1294    1\n",
       "860     1\n",
       "Name: Target, Length: 1603, dtype: int64"
      ]
     },
     "execution_count": 126,
     "metadata": {},
     "output_type": "execute_result"
    }
   ],
   "source": [
    "y_train = pd.DataFrame(y_train)\n",
    "y_train['Target']"
   ]
  },
  {
   "cell_type": "code",
   "execution_count": 128,
   "metadata": {
    "colab": {
     "base_uri": "https://localhost:8080/",
     "height": 121,
     "referenced_widgets": [
      "e7eca50bff4a4c6c9883e03bb7850fb6",
      "32b53b90da30457c84e7f8bb29dd04c9",
      "8936103a1a1c4672aca496eb65f174da",
      "7c4328d140324987b283ca148773b024",
      "a484fb67a4174c1aa57b0b0f9ec03f9d",
      "711f9842ea9a47788c8a12e94478997d",
      "ba69843cce6148d489fc5035d63d9a38",
      "6b4587a314184c0882c3e31b06c62587",
      "bf9c94d7869f48c4a3acaeeea2072801",
      "881b7985ef7f4654ab7ac2b28fb43e34",
      "6d19a5d71f2e4fdd95eecaa70fb021ac"
     ]
    },
    "executionInfo": {
     "elapsed": 819060,
     "status": "ok",
     "timestamp": 1670648389450,
     "user": {
      "displayName": "Alagar",
      "userId": "18409237732645261754"
     },
     "user_tz": -480
    },
    "id": "76lmSXjeVEJA",
    "outputId": "8476f609-8b72-4589-e183-7ff919ed447a"
   },
   "outputs": [
    {
     "data": {
      "application/vnd.jupyter.widget-view+json": {
       "model_id": "e7eca50bff4a4c6c9883e03bb7850fb6",
       "version_major": 2,
       "version_minor": 0
      },
      "text/plain": [
       "  0%|          | 0/50 [00:00<?, ?it/s]"
      ]
     },
     "metadata": {},
     "output_type": "display_data"
    },
    {
     "name": "stdout",
     "output_type": "stream",
     "text": [
      "110 attributes confirmed important: ['MATS4m', 'SMR_VSA5', 'BCUTv-1h', 'ETA_dBeta', 'MATS4Z', 'AATS0p', 'BCUTZ-1l', 'MWC05', 'Xpc-6dv', 'AXp-4d', 'BCUTd-1h', 'GATS4dv', 'AATSC4c', 'AETA_dBeta', 'TpiPC10', 'BCUTv-1l', 'Xp-7dv', 'MWC06', 'AATS4i', 'GATS1v', 'SRW10', 'BCUTpe-1h', 'SpMax_A', 'MWC09', 'piPC2', 'ETA_beta_ns', 'BCUTi-1l', 'BCUTdv-1l', 'FCSP3', 'AMID', 'Xpc-6d', 'GATS2v', 'AXp-5d', 'ATSC2i', 'MATS6v', 'GATS2se', 'piPC9', 'HybRatio', 'piPC7', 'BertzCT', 'BCUTp-1l', 'AATSC0i', 'AATS4p', 'BCUTse-1h', 'AATS2v', 'piPC10', 'piPC4', 'MID_C', 'BCUTp-1h', 'BCUTare-1h', 'ATSC1d', 'BCUTi-1h', 'fMF', 'piPC5', 'AXp-3d', 'MDEO-12', 'GATS2c', 'ATS5p', 'BalabanJ', 'ETA_epsilon_3', 'AETA_beta_ns', 'AATS1v', 'AETA_beta', 'AMID_N', 'BCUTse-1l', 'VSA_EState1', 'NssO', 'PEOE_VSA8', 'ETA_beta', 'BCUTdv-1h', 'AATSC6v', 'AATS7i', 'AATS0v', 'BCUTare-1l', 'AATSC4dv', 'MINdO', 'ATSC4dv', 'AATS2p', 'AATS3v', 'GATS2are', 'MPC6', 'Xp-6d', 'GATS1d', 'AATS3d', 'AETA_eta_L', 'SssO', 'AATSC4m', 'Mp', 'AATS3p', 'MWC10', 'ETA_epsilon_5', 'AETA_eta', 'piPC6', 'AATS4v', 'Mv', 'AATSC4Z', 'piPC8', 'BCUTpe-1l', 'AXp-1d', 'MATS4dv', 'ETA_dEpsilon_B', 'ATSC2d', 'AATS3i', 'MAXssO', 'BCUTc-1l', 'MATS4c', 'AXp-0d', 'MATS1c', 'piPC3', 'ETA_eta_FL']\n",
      "1097 attributes confirmed unimportant: ['VE3_Dzp', 'MDEC-11', 'n8HRing', 'NsOH', 'VR3_D', 'AATS2se', 'SaasC', 'n5FARing', 'MINaasC', 'SssSiH2', 'C3SP3', 'MATS7c', 'ATSC7s', 'ATSC2Z', 'ATSC4s', 'MINssS', 'NsssP', 'NsBr', 'MIC5', 'n11Ring', 'AATSC2pe', 'NddssS', 'AMID_C', 'MAXsssCH', 'GATS7s', 'SpMAD_Dzse', 'SsssGeH', 'C1SP1', 'SlogP_VSA11', 'GATS8se', 'JGI5', 'ATSC7c', 'ATS6d', 'VR3_Dzpe', 'n6Ring', 'GATS5pe', 'ATSC8v', 'n6FAHRing', 'AATSC5se', 'NsSiH3', 'NdS', 'n10Ring', 'NsssCH', 'AATSC0v', 'NsI', 'MDEC-14', 'n6FaRing', 'NsLi', 'C1SP3', 'n3AHRing', 'AATSC4d', 'LogEE_Dzv', 'ATS2d', 'naHRing', 'MINssssC', 'AATSC2Z', 'AXp-7dv', 'SssssB', 'ATS8i', 'ATS8Z', 'VE2_Dzm', 'MATS4d', 'GATS7dv', 'SssNH', 'ATS2v', 'SsPH2', 'SssAsH', 'VE2_Dzpe', 'ATSC7are', 'AATSC8se', 'GATS1dv', 'n8aRing', 'BIC1', 'AATSC7i', 'MATS2are', 'nFaRing', 'Xch-5d', 'nG12ARing', 'VE3_A', 'n9Ring', 'PEOE_VSA5', 'ETA_dAlpha_B', 'GGI4', 'SRW02', 'MATS5c', 'nI', 'n4FaHRing', 'SssssC', 'MATS8pe', 'nBondsD', 'VE2_D', 'NaaNH', 'ATS5d', 'n4Ring', 'AATS3se', 'ATS2pe', 'n6FRing', 'MATS7dv', 'ECIndex', 'NddsN', 'AATS8p', 'AATS7d', 'SsPbH3', 'AATS4dv', 'MAXssssC', 'SsssPbH', 'MATS6d', 'SsAsH2', 'GATS5c', 'ATSC8c', 'n3aHRing', 'MATS3Z', 'MATS6se', 'VE1_DzZ', 'SddC', 'MATS7Z', 'n8FHRing', 'SpAD_D', 'LogEE_D', 'NssssPb', 'n9ARing', 'Sm', 'CIC1', 'ATS1p', 'TopoPSA(NO)', 'ATS6dv', 'NdssS', 'ATS1d', 'nAHRing', 'nG12AHRing', 'ATSC5p', 'n10aRing', 'AATSC0c', 'Xch-4dv', 'NssSnH2', 'VE3_D', 'GATS4v', 'MATS5i', 'n6AHRing', 'ATS1Z', 'SsGeH3', 'nG12FaHRing', 'SaaS', 'VE3_Dzse', 'VSA_EState5', 'MATS5se', 'AATS5Z', 'C2SP3', 'SpMax_Dzi', 'SssssSn', 'AATSC7Z', 'SaasN', 'MAXsNH2', 'n7HRing', 'n4FaRing', 'VE1_Dzv', 'ATSC4d', 'SpMax_Dzm', 'NsssPbH', 'n3aRing', 'n8Ring', 'ATSC7d', 'AATS7s', 'AATSC3p', 'GATS3d', 'MATS6are', 'Si', 'SdCH2', 'GATS1m', 'MWC02', 'NssPbH2', 'AATSC3s', 'MAXdsCH', 'ATSC0s', 'AATSC3dv', 'GATS8c', 'AATS7se', 'n5FHRing', 'NaaO', 'ETA_eta_F', 'MPC10', 'SddssS', 'TIC1', 'SdsssP', 'MIC1', 'GATS7i', 'AATSC1p', 'IC1', 'ATSC6c', 'n11HRing', 'ATS0are', 'LogEE_DzZ', 'SsSnH3', 'MDEC-44', 'n5ARing', 'MAXssS', 'Spe', 'SdO', 'VE1_Dzse', 'AATSC8c', 'SMR_VSA4', 'SaaSe', 'Xp-1dv', 'MATS5pe', 'n5FRing', 'VSA_EState9', 'AATS1s', 'VE2_A', 'AATSC8pe', 'n7FARing', 'PEOE_VSA4', 'SMR_VSA8', 'NsGeH3', 'GATS4p', 'VR3_Dzv', 'SpMax_Dzpe', 'NssNH2', 'nBondsT', 'n3HRing', 'SssssGe', 'ATSC8i', 'AATS8dv', 'MATS8v', 'MATS8Z', 'AATS2are', 'MAXddssS', 'EState_VSA9', 'NssPH', 'Xc-3dv', 'nAromBond', 'SlogP_VSA8', 'AATS4s', 'AATSC6s', 'Xp-0dv', 'NaasC', 'nG12aHRing', 'VR3_Dzm', 'n8FAHRing', 'SLogP', 'AXp-1dv', 'nO', 'ATS7s', 'ATSC6s', 'ATS4d', 'ATS8m', 'n5FaHRing', 'MATS7v', 'NsssssP', 'MAXaasC', 'ATSC7i', 'AATS2i', 'ATSC1c', 'SsSH', 'AATS4m', 'ETA_dEpsilon_C', 'n11FRing', 'GATS3s', 'AATS7dv', 'nBondsA', 'VMcGowan', 'ATSC2s', 'n5FAHRing', 'MAXssCH2', 'Xch-3d', 'n12AHRing', 'SlogP_VSA7', 'ETA_epsilon_4', 'n5AHRing', 'MATS1dv', 'nS', 'MATS8p', 'nG12aRing', 'SpDiam_Dzi', 'GATS5se', 'ATSC4v', 'AATSC8s', 'AATS4pe', 'ATSC3dv', 'GATS3are', 'NsssGeH', 'SpDiam_Dzv', 'NtCH', 'NssBe', 'ATSC0are', 'AATSC1are', 'n11aHRing', 'SdSe', 'AATSC7se', 'IC0', 'Xch-4d', 'AATSC6c', 'n10FHRing', 'ATSC2pe', 'n5HRing', 'TIC4', 'AATS4Z', 'n8FRing', 'Vabc', 'GATS6Z', 'AATS6p', 'ATSC2dv', 'SssBH', 'AATSC4v', 'Xp-3dv', 'n7ARing', 'MDEN-33', 'ATS0d', 'AATS0m', 'NssNH', 'naRing', 'MATS3v', 'AETA_alpha', 'GATS8p', 'AATSC7m', 'AATSC0dv', 'MINddsN', 'n12HRing', 'AATS6m', 'GATS7m', 'n9FaRing', 'VR1_DzZ', 'MATS5are', 'PEOE_VSA13', 'nHBDon', 'MATS2m', 'ATS1s', 'GATS8dv', 'ATS7d', 'nARing', 'ETA_dEpsilon_D', 'AATSC7v', 'SdssS', 'AATSC6pe', 'MATS2pe', 'MATS8m', 'ATS7pe', 'AATSC8dv', 'ATSC1m', 'n9FAHRing', 'ATS5Z', 'MATS3dv', 'n12FRing', 'AATSC7s', 'AETA_eta_F', 'n9aHRing', 'ETA_dPsi_B', 'n9HRing', 'PEOE_VSA12', 'MAXssNH', 'AATS0Z', 'BIC4', 'SRW07', 'AMID_h', 'NaaaC', 'MATS1are', 'ATSC0dv', 'n4aHRing', 'ATSC1are', 'nFAHRing', 'SpAbs_Dzpe', 'ATSC7p', 'NaasN', 'JGI6', 'VE3_Dzpe', 'SsF', 'AATSC2p', 'ABCGG', 'AATS1pe', 'n10HRing', 'Xp-0d', 'NtN', 'AATS0se', 'SIC0', 'BIC3', 'Xc-6dv', 'VR3_A', 'AATSC2are', 'ATSC0se', 'SpAbs_D', 'SpAbs_Dzp', 'StsC', 'ETA_dEpsilon_A', 'n7FaHRing', 'MIC4', 'Sse', 'TIC2', 'SddssSe', 'MATS3m', 'ETA_eta_B', 'AATS8are', 'SsNH2', 'NsssB', 'BCUTc-1h', 'nHBAcc', 'GATS6m', 'ATSC8Z', 'ETA_psi_1', 'ATSC7pe', 'SsssAs', 'AATS5pe', 'MATS7i', 'SsNH3', 'AATS2pe', 'n9AHRing', 'ATS7i', 'MATS7se', 'nAromAtom', 'MAXaaO', 'nBonds', 'NssCH2', 'ATSC7dv', 'SM1_Dzv', 'NsPbH3', 'n10ARing', 'Xch-6dv', 'n4FARing', 'VE1_Dzm', 'MINaaN', 'SsssssAs', 'ATSC6p', 'AATS8d', 'NtsC', 'AATS6se', 'GATS6v', 'ATS1m', 'nBr', 'ATS3are', 'NdO', 'SsssB', 'VE1_Dzare', 'Xch-7d', 'Xc-4d', 'SssssBe', 'n12FHRing', 'NssssSi', 'NssssBe', 'AATS1d', 'n10FRing', 'AATSC1pe', 'C1SP2', 'GATS3p', 'NdsssP', 'ATS6m', 'nFARing', 'VE2_Dzv', 'n9FARing', 'SaaN', 'GATS6are', 'MAXaaaC', 'VE3_Dzv', 'AXp-4dv', 'SssssSi', 'AATS4are', 'NaaS', 'n12ARing', 'ATS7dv', 'n12FAHRing', 'AATSC3pe', 'NdSe', 'C2SP1', 'ATS0dv', 'n12aHRing', 'Xch-7dv', 'n5FaRing', 'MATS1v', 'AATSC3m', 'n4FAHRing', 'SpAD_Dzm', 'AATSC1s', 'AATSC1v', 'SssCH2', 'MINdssC', 'ATSC8dv', 'ATSC8d', 'Xp-2dv', 'GATS3v', 'SsI', 'MAXsOH', 'AATSC1m', 'AATS0s', 'ATSC2are', 'Xp-4dv', 'ATS2Z', 'SpMax_Dzse', 'VE3_Dzm', 'n11FARing', 'SpMax_DzZ', 'MATS7p', 'GATS8m', 'NddssSe', 'AATSC8p', 'NsPH2', 'SRW09', 'NsssssAs', 'ATSC1Z', 'n10FAHRing', 'EState_VSA2', 'ATS8pe', 'AATS1se', 'NssssSn', 'MAXdCH2', 'GGI2', 'VR1_Dzv', 'AATS7m', 'MINdCH2', 'AATSC0d', 'AATSC5i', 'SpDiam_DzZ', 'MDEC-33', 'GGI1', 'ATS8are', 'ATSC8p', 'NssssN', 'MATS7pe', 'n12FaHRing', 'GATS6i', 'nP', 'nHetero', 'SIC1', 'Sare', 'MATS6c', 'AATS8v', 'AATS7pe', 'MATS7are', 'TIC5', 'BIC2', 'MDEN-12', 'SsSiH3', 'NssSiH2', 'MIC0', 'TSRW10', 'JGI4', 'VR1_Dzm', 'ABC', 'Xp-2d', 'n11aRing', 'nB', 'nBondsKS', 'ATSC3s', 'ATSC7m', 'PEOE_VSA11', 'SsssSiH', 'NssGeH2', 'MATS3p', 'ATSC5v', 'n12Ring', 'GATS7v', 'TMWC10', 'ATSC4m', 'MDEC-34', 'SpAbs_Dzse', 'n12FARing', 'ATSC5m', 'SpAbs_DzZ', 'AATSC4i', 'n11FaHRing', 'StCH', 'ATS2are', 'MINssNH', 'AXp-6dv', 'ATSC8pe', 'MINsssN', 'GATS7Z', 'ATSC5i', 'NssssGe', 'n7Ring', 'n5Ring', 'AATSC7p', 'ATSC4i', 'AATSC5c', 'AATSC0m', 'ATS6v', 'SpAbs_Dzi', 'PEOE_VSA1', 'MAXddsN', 'nCl', 'ATS7Z', 'SpMax_D', 'MDEC-24', 'ATS8p', 'MATS2dv', 'nBase', 'AATS1are', 'SdsN', 'AATSC5p', 'ATSC0c', 'VAdjMat', 'AATS1m', 'AATS5p', 'ETA_dAlpha_A', 'GATS1se', 'GATS4i', 'SM1_Dzp', 'SsssP', 'SssGeH2', 'n4FRing', 'n6ARing', 'ETA_eta_RL', 'GATS5are', 'GGI5', 'AATSC7dv', 'AATSC0pe', 'NdssC', 'n7FAHRing', 'ATS7m', 'VE1_Dzi', 'AATSC1Z', 'GGI9', 'n8FARing', 'AATSC8d', 'SM1_DzZ', 'NdsN', 'ATSC6pe', 'GATS7d', 'AATSC1c', 'n8FaRing', 'n9FHRing', 'SpAD_Dzv', 'AATSC3v', 'MINsNH2', 'ETA_shape_y', 'GATS3i', 'RotRatio', 'n7AHRing', 'NdssSe', 'AATS0are', 'AATS8pe', 'SpDiam_D', 'AATSC4p', 'VE1_D', 'ATSC4pe', 'VR3_Dzse', 'ATS0s', 'ATS1i', 'MATS1p', 'AATS6i', 'NsNH3', 'ATSC3Z', 'n10FaHRing', 'SpMAD_D', 'MATS1s', 'AATS6are', 'SlogP_VSA5', 'Mpe', 'PEOE_VSA3', 'MINaaCH', 'apol', 'ATS0v', 'n4FHRing', 'Xch-3dv', 'ATSC5pe', 'SpMax_Dzp', 'ATS1are', 'MDEO-22', 'AMID_X', 'ATSC5dv', 'IC5', 'LogEE_Dzi', 'AATSC8v', 'nSpiro', 'SsLi', 'ATSC8m', 'SM1_Dzare', 'BCUTs-1l', 'NsF', 'MAXdssC', 'ATSC8are', 'SZ', 'AATSC6se', 'GATS7c', 'CIC0', 'AATSC0se', 'AATS1Z', 'NdCH2', 'ATSC1pe', 'ATS8dv', 'AATS3dv', 'n4HRing', 'SpDiam_Dzare', 'ATS1pe', 'nG12FRing', 'VE3_DzZ', 'SssBe', 'SRW04', 'ATS8se', 'LogEE_Dzm', 'NsssAs', 'GATS5d', 'n7FHRing', 'ETA_beta_s', 'n6FaHRing', 'ATSC6se', 'NsCl', 'AATS3s', 'SpAD_Dzare', 'AATS3are', 'GATS5s', 'nAcid', 'ATSC5c', 'SsssssP', 'SaaaC', 'AATS5se', 'NssssB', 'WPath', 'n4aRing', 'ATS3pe', 'n10FaRing', 'AATSC2s', 'NsSH', 'MWC01', 'AXp-0dv', 'n7aHRing', 'Kier1', 'SpMAD_Dzm', 'GATS2d', 'SpMAD_Dzpe', 'MATS3i', 'GATS5p', 'AATS5are', 'SssS', 'ATSC6are', 'SsSeH', 'NaaSe', 'GATS7are', 'ATSC5s', 'AATSC4s', 'MATS4s', 'AATS7are', 'n4ARing', 'AATSC5dv', 'AATS2s', 'SlogP_VSA10', 'MATS3are', 'NsssSiH', 'n11FHRing', 'SRW05', 'nAtom', 'ATSC8se', 'GATS6pe', 'IC4', 'GATS6p', 'AATSC7c', 'SssSe', 'AATS3pe', 'MINaaaC', 'NssSe', 'ETA_eta_L', 'ATSC2c', 'ATS7are', 'n6aHRing', 'SlogP_VSA4', 'SlogP_VSA9', 'SssSnH2', 'GATS3se', 'AATSC2m', 'MID', 'MAXsssN', 'MATS1se', 'LogEE_Dzp', 'n11AHRing', 'ATSC0Z', 'nHeavyAtom', 'SaaNH', 'AATSC7are', 'AATSC3d', 'MATS6s', 'nG12Ring', 'LabuteASA', 'NssssC', 'MATS2v', 'Sv', 'AATSC6p', 'AATSC3Z', 'GATS8pe', 'n8aHRing', 'SpAbs_Dzm', 'n3ARing', 'ATS0se', 'TopoPSA', 'AATSC8Z', 'SsssdAs', 'NsNH2', 'n11FaRing', 'MIC3', 'n5aRing', 'SM1_Dzse', 'AATSC2v', 'VE1_Dzpe', 'VE2_DzZ', 'ATSC7v', 'TIC3', 'Kier2', 'VE2_Dzp', 'SIC2', 'n4AHRing', 'AATS2dv', 'GATS5v', 'AATSC3are', 'GATS6se', 'SaaO', 'ATSC3d', 'ETA_alpha', 'NaaN', 'GATS6c', 'EState_VSA4', 'AATS2Z', 'ATSC2m', 'VE3_Dzare', 'GGI10', 'AATSC2dv', 'n7aRing', 'VE2_Dzse', 'NsSnH3', 'Kier3', 'AATSC8i', 'SM1_Dzm', 'GATS8Z', 'RNCG', 'ETA_beta_ns_d', 'MATS7s', 'AATS8Z', 'SpAD_Dzse', 'EState_VSA3', 'VR1_Dzse', 'LogEE_A', 'nF', 'n12aRing', 'LogEE_Dzse', 'C3SP2', 'SdS', 'VE3_Dzi', 'n9aRing', 'SpMax_Dzare', 'SsssSnH', 'nBridgehead', 'GATS3m', 'ATS7p', 'SpDiam_Dzpe', 'MATS2Z', 'SsBr', 'GGI7', 'SpAD_Dzpe', 'MATS8se', 'mZagreb2', 'n10aHRing', 'JGT10', 'Radius', 'AATSC0s', 'AATSC7pe', 'AATS8m', 'AATS8s', 'SdssC', 'EState_VSA5', 'n5aHRing', 'FilterItLogS', 'AATS0dv', 'nHRing', 'MATS3c', 'MATS4v', 'n6FHRing', 'VE1_Dzp', 'C4SP3', 'n12FaRing', 'SRW03', 'MATS2s', 'SsssN', 'AXp-2dv', 'ATS8s', 'n7FRing', 'SpMax_Dzv', 'JGI10', 'AATS7Z', 'GATS3c', 'AATSC8m', 'SpDiam_Dzm', 'JGI7', 'GATS7se', 'ATSC1p', 'PEOE_VSA2', 'AATS1dv', 'AATSC1se', 'MATS3pe', 'ATS5dv', 'NsssNH', 'SssPH', 'GATS4d', 'NsssSnH', 'nG12FHRing', 'MATS8d', 'VE2_Dzare', 'MATS3se', 'n9FRing', 'AATS4se', 'n11FAHRing', 'SpMAD_Dzp', 'AATSC5are', 'ETA_shape_x', 'MPC2', 'n9FaHRing', 'JGI1', 'MDEN-22', 'Xc-4dv', 'VR3_Dzi', 'IC3', 'SsssCH', 'IC2', 'SM1_Dzpe', 'GATS8s', 'MINaaO', 'AATSC3i', 'ATSC7Z', 'ATS0m', 'n6FARing', 'GATS7pe', 'ATSC0pe', 'SpMAD_Dzv', 'SpMAD_DzZ', 'VR1_Dzi', 'MATS5v', 'MDEN-23', 'JGI8', 'AATS5dv', 'EState_VSA8', 'MIC2', 'ATSC3i', 'AATS3Z', 'ATSC5are', 'NssBH', 'AATS0pe', 'SdssSe', 'ETA_epsilon_1', 'GGI8', 'NsSeH', 'MATS6pe', 'MINddssS', 'MID_X', 'VR1_Dzare', 'n7FaRing', 'MATS1pe', 'AATSC0are', 'AATSC6are', 'MATS8i', 'GATS7p', 'ATS2dv', 'AATSC8are', 'ETA_epsilon_2', 'AATS6Z', 'Zagreb1', 'AATS5i', 'AATSC3se', 'ATS1dv', 'MATS4i', 'BIC0', 'NddC', 'AATS6pe', 'MATS7d', 'MATS8s', 'ZMIC2', 'Mare', 'GATS4s', 'nG12FARing', 'MATS2c', 'Xch-5dv', 'SsssNH', 'ZMIC0', 'GATS3Z', 'SssssPb', 'PEOE_VSA6', 'JGI9', 'SpAD_A', 'SssssN', 'AATSC5s', 'SdsCH', 'nBondsO', 'ATS7se', 'AATS6d', 'GATS8i', 'MAXaaN', 'ETA_dPsi_A', 'StN', 'SMR_VSA2', 'NdNH', 'nX', 'ATSC0m', 'ZMIC1', 'SddsN', 'VR1_D', 'MAXaaCH', 'MATS8c', 'AATS8se', 'ATSC5se', 'ATSC3v', 'ATS6Z', 'AATS3m', 'MATS5p', 'SMR_VSA9', 'ATS1v', 'NsssN', 'Mse', 'SsCH3', 'GGI6', 'n3Ring', 'NsAsH2', 'SpDiam_Dzse', 'AXp-3dv', 'ATSC1v', 'VR3_Dzp', 'ATSC3p', 'SdNH', 'SssNH2', 'GATS5dv', 'ATS0Z', 'VE2_Dzi', 'n11ARing', 'EState_VSA6', 'MDEC-22', 'ATSC8s', 'AATSC5v', 'ATSC4Z', 'ATS8d', 'nRot', 'VR3_DzZ', 'SMR_VSA6', 'EState_VSA10', 'ATSC1se', 'MINdsCH', 'AATSC5Z', 'n6aRing', 'GATS3pe', 'GATS6d', 'SpAD_DzZ', 'ATSC2se', 'SMR_VSA7', 'GATS5i', 'n8ARing', 'AXp-5dv', 'Xc-3d', 'GATS8are', 'MATS8are', 'NsssdAs', 'NssAsH', 'NdsCH', 'n6HRing', 'n8FaHRing', 'ATS7v', 'MW', 'AATS8i', 'ATSC2v', 'NaaCH', 'LogEE_Dzare', 'SsCl', 'n8AHRing', 'SpAbs_A', 'ATS0pe', 'ATS4pe', 'Diameter', 'AATS5s', 'SpAbs_Dzare', 'n10AHRing', 'AATS5m', 'n10FARing', 'SpAD_Dzp', 'NssS', 'MATS8dv', 'AATSC0Z', 'EState_VSA1', 'SpAbs_Dzv', 'ATSC7se', 'SlogP_VSA1', 'AATS5v', 'SlogP_VSA3', 'SssPbH2', 'ATS3s', 'AATSC6d', 'GATS8v', 'EState_VSA7', 'MATS5dv', 'ATSC3m', 'MATS5s', 'SpDiam_Dzp', 'nG12FaRing', 'nG12FAHRing', 'AATS6dv', 'nG12HRing', 'NsCH3', 'GATS3dv', 'AATSC5pe', 'ATS1se', 'LogEE_Dzpe', 'AATSC7d', 'ATS8v', 'CIC2', 'TIC0', 'MATS1Z', 'MATS7m', 'nFaHRing', 'GATS8d']\n",
      "272 tentative attributes remains: ['BCUTs-1h', 'MID_N', 'ATS3v', 'GATS6dv', 'SpMAD_A', 'ATSC1s', 'ATSC3pe', 'ATSC6dv', 'MATS1m', 'nRing', 'ATSC2p', 'ATS4s', 'MDEC-23', 'VR2_Dzm', 'BIC5', 'MPC5', 'AATSC2c', 'AATSC6m', 'SIC3', 'Xpc-4d', 'SlogP_VSA6', 'ATSC6d', 'GATS4m', 'ATS3p', 'CIC3', 'MWC04', 'VR2_Dzpe', 'GATS1pe', 'MATS6dv', 'VR2_Dzp', 'ATS6s', 'ZMIC5', 'AETA_eta_RL', 'VR2_A', 'ATSC6Z', 'AATSC4are', 'TMPC10', 'Sp', 'ZMIC3', 'ATS4se', 'VSA_EState2', 'AATSC0p', 'ATS0i', 'JGI2', 'nFHRing', 'MATS1d', 'ATSC4p', 'nBondsM', 'Xpc-5dv', 'WPol', 'GATS2p', 'MWC03', 'AATS0d', 'ATS4v', 'SlogP_VSA2', 'MATS5m', 'MINsCH3', 'GATS1are', 'ATS5i', 'AATS1i', 'GATS2dv', 'Xc-5dv', 'ETA_shape_p', 'MPC4', 'ATS2se', 'GATS6s', 'ETA_eta', 'AATSC1d', 'Xp-3d', 'GGI3', 'nH', 'VR2_Dzare', 'AATSC1dv', 'MPC3', 'ATS5are', 'ATS3i', 'ATS2p', 'MDEC-13', 'SIC5', 'ATSC4c', 'AETA_eta_FL', 'MATS4p', 'MATS6p', 'GATS1p', 'GATS4c', 'AATS2d', 'nC', 'MPC7', 'GATS2pe', 'PetitjeanIndex', 'ZMIC4', 'GATS1Z', 'ATS4are', 'AETA_eta_BR', 'BCUTm-1h', 'MATS3d', 'Xc-5d', 'piPC1', 'ATSC6i', 'ATSC0d', 'MATS5Z', 'ATS4Z', 'MATS6i', 'GATS2i', 'AATSC4se', 'GATS1s', 'MZ', 'ATSC1i', 'MATS4are', 'Xp-4d', 'MATS3s', 'VR2_DzZ', 'VSA_EState4', 'MATS2p', 'AATS7v', 'AATSC2se', 'MDEO-11', 'mZagreb1', 'ATS6are', 'VR2_Dzse', 'VSA_EState3', 'PEOE_VSA7', 'GATS2s', 'ATSC0v', 'fragCpx', 'MWC07', 'AXp-6d', 'ATS5v', 'ATS4p', 'AATSC2d', 'MATS4se', 'SaaCH', 'GATS5Z', 'MINssCH2', 'AETA_eta_B', 'MAXsCH3', 'SpMAD_Dzare', 'AATSC5m', 'AETA_eta_R', 'AATS1p', 'ATS0p', 'GATS2m', 'ATSC5d', 'Xpc-4dv', 'SRW06', 'PEOE_VSA10', 'ATSC3c', 'ATS5se', 'SpMAD_Dzi', 'VR2_Dzv', 'ATS3m', 'Mm', 'ATSC3are', 'ATS6pe', 'GATS2Z', 'AETA_beta_s', 'bpol', 'BCUTZ-1h', 'ATS3d', 'SMR_VSA1', 'MDEC-12', 'Xp-5dv', 'MINsssCH', 'CIC4', 'ATSC0i', 'MATS4pe', 'MPC8', 'AATSC2i', 'AATSC5d', 'nBondsKD', 'SpDiam_A', 'ATSC5Z', 'ATS6i', 'VR3_Dzare', 'ATS4dv', 'GATS4are', 'Xp-5d', 'AATS6v', 'AATSC6i', 'GATS1i', 'VSA_EState7', 'VR2_Dzi', 'ATS3dv', 'MID_h', 'Xp-6dv', 'VSA_EState8', 'SsOH', 'ATS6se', 'GATS4se', 'MAXdO', 'ATS4i', 'AATSC3c', 'Zagreb2', 'ATSC1dv', 'RPCG', 'AATSC6dv', 'Xp-7d', 'AATS5d', 'ATS4m', 'AXp-2d', 'GATS1c', 'ATS2i', 'Xc-6d', 'Xp-1d', 'ATSC6v', 'JGI3', 'ATSC6m', 'ATS5pe', 'nBondsS', 'ATSC4are', 'MATS2i', 'Xpc-5d', 'VR2_D', 'ATSC4se', 'ETA_eta_R', 'nN', 'MATS5d', 'ATS5m', 'AETA_beta_ns_d', 'SRW08', 'AATS2m', 'ATS3Z', 'AATSC6Z', 'VR1_Dzpe', 'AATS0i', 'AMID_O', 'PEOE_VSA9', 'AATS7p', 'ETA_eta_BR', 'VR1_Dzp', 'SMR', 'MINssO', 'MATS2d', 'AMW', 'CIC5', 'BCUTm-1l', 'AATS4d', 'SIC4', 'ATSC0p', 'ATS2s', 'ATS3se', 'TopoShapeIndex', 'ATS2m', 'GATS4Z', 'MATS6m', 'C2SP2', 'ATSC3se', 'MATS2se', 'ATS5s', 'GATS5m', 'GATS4pe', 'MWC08', 'Mi', 'AATSC4pe', 'VR1_A', 'BCUTd-1l', 'VSA_EState6', 'Xch-6d', 'MATS1i', 'AXp-7d', 'MPC9', 'ATS6p', 'MATS6Z', 'MID_O', 'nFRing', 'VE1_A', 'AATS6s', 'MINsOH', 'SpAD_Dzi', 'SM1_Dzi', 'AATSC1i', 'SMR_VSA3']\n"
     ]
    }
   ],
   "source": [
    "from BorutaShap import BorutaShap\n",
    "\n",
    "# If no model is selected default is the Random Forest\n",
    "# If classification is True it is a classification problem\n",
    "Feature_Selector = BorutaShap(importance_measure='shap', classification=True)\n",
    "\n",
    "Feature_Selector.fit(X=X_train, y=y_train['Target'], n_trials=50, random_state=0)"
   ]
  },
  {
   "cell_type": "code",
   "execution_count": 129,
   "metadata": {
    "colab": {
     "base_uri": "https://localhost:8080/",
     "height": 786
    },
    "executionInfo": {
     "elapsed": 40635,
     "status": "ok",
     "timestamp": 1670648448385,
     "user": {
      "displayName": "Alagar",
      "userId": "18409237732645261754"
     },
     "user_tz": -480
    },
    "id": "GEnDEmIoVR_f",
    "outputId": "462befa1-927b-4034-ee01-59193d468b8f"
   },
   "outputs": [
    {
     "data": {
      "image/png": "[encoded data removed]",
      "text/plain": [
       "<Figure size 1152x864 with 1 Axes>"
      ]
     },
     "metadata": {
      "needs_background": "light"
     },
     "output_type": "display_data"
    }
   ],
   "source": [
    "Feature_Selector.plot(which_features='all', figsize=(16,12))"
   ]
  },
  {
   "cell_type": "code",
   "execution_count": 130,
   "metadata": {
    "executionInfo": {
     "elapsed": 433,
     "status": "ok",
     "timestamp": 1670648653548,
     "user": {
      "displayName": "Alagar",
      "userId": "18409237732645261754"
     },
     "user_tz": -480
    },
    "id": "HajlC7LxaOCd"
   },
   "outputs": [],
   "source": [
    "subset = Feature_Selector.Subset()"
   ]
  },
  {
   "cell_type": "code",
   "execution_count": 133,
   "metadata": {
    "colab": {
     "base_uri": "https://localhost:8080/"
    },
    "executionInfo": {
     "elapsed": 441,
     "status": "ok",
     "timestamp": 1670648691507,
     "user": {
      "displayName": "Alagar",
      "userId": "18409237732645261754"
     },
     "user_tz": -480
    },
    "id": "pQPqlNDIWVUo",
    "outputId": "734f20a6-72e5-44d9-b40f-f8f2ed0659ab"
   },
   "outputs": [
    {
     "data": {
      "text/plain": [
       "Index(['MATS4m', 'SMR_VSA5', 'BCUTv-1h', 'ETA_dBeta', 'MATS4Z', 'AATS0p',\n",
       "       'BCUTZ-1l', 'MWC05', 'Xpc-6dv', 'AXp-4d',\n",
       "       ...\n",
       "       'ETA_dEpsilon_B', 'ATSC2d', 'AATS3i', 'MAXssO', 'BCUTc-1l', 'MATS4c',\n",
       "       'AXp-0d', 'MATS1c', 'piPC3', 'ETA_eta_FL'],\n",
       "      dtype='object', length=110)"
      ]
     },
     "execution_count": 133,
     "metadata": {},
     "output_type": "execute_result"
    }
   ],
   "source": [
    "subset_cols = subset.columns\n",
    "subset_cols"
   ]
  },
  {
   "cell_type": "code",
   "execution_count": 134,
   "metadata": {
    "executionInfo": {
     "elapsed": 526,
     "status": "ok",
     "timestamp": 1670648725495,
     "user": {
      "displayName": "Alagar",
      "userId": "18409237732645261754"
     },
     "user_tz": -480
    },
    "id": "VBVrarKha8Ke"
   },
   "outputs": [],
   "source": [
    "X_test_subset = X_test[subset_cols]"
   ]
  },
  {
   "cell_type": "markdown",
   "metadata": {
    "id": "52sPftUVbOfo"
   },
   "source": [
    "# XGBClassifier"
   ]
  },
  {
   "cell_type": "code",
   "execution_count": 135,
   "metadata": {
    "executionInfo": {
     "elapsed": 761,
     "status": "ok",
     "timestamp": 1670648769230,
     "user": {
      "displayName": "Alagar",
      "userId": "18409237732645261754"
     },
     "user_tz": -480
    },
    "id": "Em92iQNAbOfu"
   },
   "outputs": [],
   "source": [
    "model = XGBClassifier()"
   ]
  },
  {
   "cell_type": "code",
   "execution_count": 136,
   "metadata": {
    "colab": {
     "base_uri": "https://localhost:8080/"
    },
    "executionInfo": {
     "elapsed": 4898,
     "status": "ok",
     "timestamp": 1670648775673,
     "user": {
      "displayName": "Alagar",
      "userId": "18409237732645261754"
     },
     "user_tz": -480
    },
    "id": "TNDZwk3LbOf0",
    "outputId": "278ecd03-52c8-4610-ad35-0974a46727eb"
   },
   "outputs": [
    {
     "data": {
      "text/plain": [
       "XGBClassifier(objective='multi:softprob')"
      ]
     },
     "execution_count": 136,
     "metadata": {},
     "output_type": "execute_result"
    }
   ],
   "source": [
    "model.fit(subset, y_train)"
   ]
  },
  {
   "cell_type": "code",
   "execution_count": 137,
   "metadata": {
    "colab": {
     "base_uri": "https://localhost:8080/"
    },
    "executionInfo": {
     "elapsed": 16,
     "status": "ok",
     "timestamp": 1670648777447,
     "user": {
      "displayName": "Alagar",
      "userId": "18409237732645261754"
     },
     "user_tz": -480
    },
    "id": "sBzg67m3bOf7",
    "outputId": "63ed5453-9208-4479-bac1-89afe5af4288"
   },
   "outputs": [
    {
     "name": "stdout",
     "output_type": "stream",
     "text": [
      "Accuracy of Model:: 0.7645569620253164\n"
     ]
    }
   ],
   "source": [
    "y_pred = model.predict(X_test_subset)\n",
    "\n",
    "print(\"Accuracy of Model::\",accuracy_score(y_test,y_pred))"
   ]
  },
  {
   "cell_type": "markdown",
   "metadata": {
    "id": "ArBN8Vl5bcXB"
   },
   "source": [
    "# CatBoost"
   ]
  },
  {
   "cell_type": "code",
   "execution_count": 140,
   "metadata": {
    "colab": {
     "base_uri": "https://localhost:8080/"
    },
    "executionInfo": {
     "elapsed": 38030,
     "status": "ok",
     "timestamp": 1670649055595,
     "user": {
      "displayName": "Alagar",
      "userId": "18409237732645261754"
     },
     "user_tz": -480
    },
    "id": "rBTong1ubcXH",
    "outputId": "95f48ebc-d1e7-4fc7-bcf5-86fe9c0eedd2"
   },
   "outputs": [
    {
     "name": "stdout",
     "output_type": "stream",
     "text": [
      "0:\tlearn: 0.9978542\ttotal: 123ms\tremaining: 1m 1s\n",
      "1:\tlearn: 0.9216229\ttotal: 217ms\tremaining: 53.9s\n",
      "2:\tlearn: 0.8655781\ttotal: 393ms\tremaining: 1m 5s\n",
      "3:\tlearn: 0.8194731\ttotal: 521ms\tremaining: 1m 4s\n",
      "4:\tlearn: 0.7804043\ttotal: 683ms\tremaining: 1m 7s\n",
      "5:\tlearn: 0.7492254\ttotal: 823ms\tremaining: 1m 7s\n",
      "6:\tlearn: 0.7215562\ttotal: 959ms\tremaining: 1m 7s\n",
      "7:\tlearn: 0.6992280\ttotal: 1.09s\tremaining: 1m 6s\n",
      "8:\tlearn: 0.6820362\ttotal: 1.23s\tremaining: 1m 6s\n",
      "9:\tlearn: 0.6640083\ttotal: 1.35s\tremaining: 1m 6s\n",
      "10:\tlearn: 0.6465847\ttotal: 1.49s\tremaining: 1m 6s\n",
      "11:\tlearn: 0.6314404\ttotal: 1.65s\tremaining: 1m 7s\n",
      "12:\tlearn: 0.6157924\ttotal: 1.77s\tremaining: 1m 6s\n",
      "13:\tlearn: 0.6029463\ttotal: 1.86s\tremaining: 1m 4s\n",
      "14:\tlearn: 0.5940458\ttotal: 1.96s\tremaining: 1m 3s\n",
      "15:\tlearn: 0.5806964\ttotal: 2.09s\tremaining: 1m 3s\n",
      "16:\tlearn: 0.5721175\ttotal: 2.22s\tremaining: 1m 2s\n",
      "17:\tlearn: 0.5652276\ttotal: 2.35s\tremaining: 1m 2s\n",
      "18:\tlearn: 0.5598814\ttotal: 2.47s\tremaining: 1m 2s\n",
      "19:\tlearn: 0.5495410\ttotal: 2.54s\tremaining: 1m 1s\n",
      "20:\tlearn: 0.5442911\ttotal: 2.61s\tremaining: 59.6s\n",
      "21:\tlearn: 0.5374963\ttotal: 2.68s\tremaining: 58.2s\n",
      "22:\tlearn: 0.5320475\ttotal: 2.75s\tremaining: 56.9s\n",
      "23:\tlearn: 0.5262932\ttotal: 2.81s\tremaining: 55.8s\n",
      "24:\tlearn: 0.5198771\ttotal: 2.89s\tremaining: 54.9s\n",
      "25:\tlearn: 0.5146957\ttotal: 2.96s\tremaining: 53.9s\n",
      "26:\tlearn: 0.5078709\ttotal: 3.02s\tremaining: 52.9s\n",
      "27:\tlearn: 0.5019346\ttotal: 3.1s\tremaining: 52.3s\n",
      "28:\tlearn: 0.4975416\ttotal: 3.17s\tremaining: 51.5s\n",
      "29:\tlearn: 0.4941904\ttotal: 3.23s\tremaining: 50.7s\n",
      "30:\tlearn: 0.4898931\ttotal: 3.3s\tremaining: 49.9s\n",
      "31:\tlearn: 0.4841598\ttotal: 3.37s\tremaining: 49.2s\n",
      "32:\tlearn: 0.4820430\ttotal: 3.43s\tremaining: 48.5s\n",
      "33:\tlearn: 0.4777195\ttotal: 3.5s\tremaining: 48s\n",
      "34:\tlearn: 0.4729385\ttotal: 3.58s\tremaining: 47.6s\n",
      "35:\tlearn: 0.4697039\ttotal: 3.64s\tremaining: 47s\n",
      "36:\tlearn: 0.4658345\ttotal: 3.72s\tremaining: 46.5s\n",
      "37:\tlearn: 0.4591942\ttotal: 3.79s\tremaining: 46s\n",
      "38:\tlearn: 0.4563868\ttotal: 3.86s\tremaining: 45.6s\n",
      "39:\tlearn: 0.4544164\ttotal: 3.92s\tremaining: 45.1s\n",
      "40:\tlearn: 0.4518464\ttotal: 3.99s\tremaining: 44.7s\n",
      "41:\tlearn: 0.4477402\ttotal: 4.06s\tremaining: 44.3s\n",
      "42:\tlearn: 0.4452715\ttotal: 4.13s\tremaining: 44s\n",
      "43:\tlearn: 0.4427769\ttotal: 4.2s\tremaining: 43.6s\n",
      "44:\tlearn: 0.4412463\ttotal: 4.27s\tremaining: 43.2s\n",
      "45:\tlearn: 0.4394297\ttotal: 4.33s\tremaining: 42.8s\n",
      "46:\tlearn: 0.4354251\ttotal: 4.4s\tremaining: 42.4s\n",
      "47:\tlearn: 0.4334622\ttotal: 4.47s\tremaining: 42.1s\n",
      "48:\tlearn: 0.4312363\ttotal: 4.53s\tremaining: 41.7s\n",
      "49:\tlearn: 0.4282950\ttotal: 4.61s\tremaining: 41.4s\n",
      "50:\tlearn: 0.4258903\ttotal: 4.68s\tremaining: 41.2s\n",
      "51:\tlearn: 0.4242575\ttotal: 4.75s\tremaining: 40.9s\n",
      "52:\tlearn: 0.4212307\ttotal: 4.81s\tremaining: 40.6s\n",
      "53:\tlearn: 0.4192717\ttotal: 4.88s\tremaining: 40.3s\n",
      "54:\tlearn: 0.4169244\ttotal: 4.95s\tremaining: 40.1s\n",
      "55:\tlearn: 0.4127842\ttotal: 5.02s\tremaining: 39.8s\n",
      "56:\tlearn: 0.4082815\ttotal: 5.09s\tremaining: 39.5s\n",
      "57:\tlearn: 0.4046091\ttotal: 5.16s\tremaining: 39.3s\n",
      "58:\tlearn: 0.4023402\ttotal: 5.22s\tremaining: 39.1s\n",
      "59:\tlearn: 0.3999530\ttotal: 5.29s\tremaining: 38.8s\n",
      "60:\tlearn: 0.3970680\ttotal: 5.35s\tremaining: 38.5s\n",
      "61:\tlearn: 0.3954109\ttotal: 5.42s\tremaining: 38.3s\n",
      "62:\tlearn: 0.3919790\ttotal: 5.49s\tremaining: 38.1s\n",
      "63:\tlearn: 0.3896395\ttotal: 5.56s\tremaining: 37.9s\n",
      "64:\tlearn: 0.3867959\ttotal: 5.63s\tremaining: 37.7s\n",
      "65:\tlearn: 0.3830333\ttotal: 5.7s\tremaining: 37.5s\n",
      "66:\tlearn: 0.3798980\ttotal: 5.76s\tremaining: 37.3s\n",
      "67:\tlearn: 0.3772225\ttotal: 5.83s\tremaining: 37.1s\n",
      "68:\tlearn: 0.3740183\ttotal: 5.9s\tremaining: 36.9s\n",
      "69:\tlearn: 0.3714055\ttotal: 5.97s\tremaining: 36.7s\n",
      "70:\tlearn: 0.3692011\ttotal: 6.05s\tremaining: 36.5s\n",
      "71:\tlearn: 0.3672248\ttotal: 6.11s\tremaining: 36.3s\n",
      "72:\tlearn: 0.3638971\ttotal: 6.18s\tremaining: 36.1s\n",
      "73:\tlearn: 0.3615830\ttotal: 6.24s\tremaining: 35.9s\n",
      "74:\tlearn: 0.3597576\ttotal: 6.31s\tremaining: 35.7s\n",
      "75:\tlearn: 0.3585012\ttotal: 6.37s\tremaining: 35.5s\n",
      "76:\tlearn: 0.3568122\ttotal: 6.44s\tremaining: 35.4s\n",
      "77:\tlearn: 0.3540039\ttotal: 6.5s\tremaining: 35.2s\n",
      "78:\tlearn: 0.3518397\ttotal: 6.58s\tremaining: 35.1s\n",
      "79:\tlearn: 0.3491392\ttotal: 6.65s\tremaining: 34.9s\n",
      "80:\tlearn: 0.3474615\ttotal: 6.72s\tremaining: 34.8s\n",
      "81:\tlearn: 0.3441102\ttotal: 6.79s\tremaining: 34.6s\n",
      "82:\tlearn: 0.3424292\ttotal: 6.86s\tremaining: 34.5s\n",
      "83:\tlearn: 0.3404904\ttotal: 6.92s\tremaining: 34.3s\n",
      "84:\tlearn: 0.3389838\ttotal: 6.99s\tremaining: 34.1s\n",
      "85:\tlearn: 0.3367740\ttotal: 7.06s\tremaining: 34s\n",
      "86:\tlearn: 0.3356318\ttotal: 7.13s\tremaining: 33.8s\n",
      "87:\tlearn: 0.3331671\ttotal: 7.2s\tremaining: 33.7s\n",
      "88:\tlearn: 0.3317465\ttotal: 7.27s\tremaining: 33.6s\n",
      "89:\tlearn: 0.3298393\ttotal: 7.35s\tremaining: 33.5s\n",
      "90:\tlearn: 0.3287040\ttotal: 7.41s\tremaining: 33.3s\n",
      "91:\tlearn: 0.3275090\ttotal: 7.48s\tremaining: 33.2s\n",
      "92:\tlearn: 0.3263109\ttotal: 7.55s\tremaining: 33.1s\n",
      "93:\tlearn: 0.3232016\ttotal: 7.63s\tremaining: 33s\n",
      "94:\tlearn: 0.3210279\ttotal: 7.71s\tremaining: 32.9s\n",
      "95:\tlearn: 0.3194224\ttotal: 7.78s\tremaining: 32.7s\n",
      "96:\tlearn: 0.3180744\ttotal: 7.84s\tremaining: 32.6s\n",
      "97:\tlearn: 0.3161732\ttotal: 7.91s\tremaining: 32.4s\n",
      "98:\tlearn: 0.3146349\ttotal: 7.97s\tremaining: 32.3s\n",
      "99:\tlearn: 0.3127155\ttotal: 8.05s\tremaining: 32.2s\n",
      "100:\tlearn: 0.3116756\ttotal: 8.11s\tremaining: 32s\n",
      "101:\tlearn: 0.3102676\ttotal: 8.18s\tremaining: 31.9s\n",
      "102:\tlearn: 0.3086165\ttotal: 8.24s\tremaining: 31.8s\n",
      "103:\tlearn: 0.3066592\ttotal: 8.31s\tremaining: 31.6s\n",
      "104:\tlearn: 0.3046415\ttotal: 8.37s\tremaining: 31.5s\n",
      "105:\tlearn: 0.3035572\ttotal: 8.44s\tremaining: 31.4s\n",
      "106:\tlearn: 0.3009963\ttotal: 8.51s\tremaining: 31.3s\n",
      "107:\tlearn: 0.3000611\ttotal: 8.59s\tremaining: 31.2s\n",
      "108:\tlearn: 0.2993473\ttotal: 8.65s\tremaining: 31s\n",
      "109:\tlearn: 0.2980114\ttotal: 8.72s\tremaining: 30.9s\n",
      "110:\tlearn: 0.2962039\ttotal: 8.79s\tremaining: 30.8s\n",
      "111:\tlearn: 0.2947435\ttotal: 8.86s\tremaining: 30.7s\n",
      "112:\tlearn: 0.2928825\ttotal: 8.92s\tremaining: 30.6s\n",
      "113:\tlearn: 0.2923126\ttotal: 8.99s\tremaining: 30.4s\n",
      "114:\tlearn: 0.2917769\ttotal: 9.05s\tremaining: 30.3s\n",
      "115:\tlearn: 0.2907031\ttotal: 9.12s\tremaining: 30.2s\n",
      "116:\tlearn: 0.2890136\ttotal: 9.19s\tremaining: 30.1s\n",
      "117:\tlearn: 0.2867333\ttotal: 9.25s\tremaining: 29.9s\n",
      "118:\tlearn: 0.2852477\ttotal: 9.33s\tremaining: 29.9s\n",
      "119:\tlearn: 0.2841771\ttotal: 9.39s\tremaining: 29.8s\n",
      "120:\tlearn: 0.2826253\ttotal: 9.46s\tremaining: 29.6s\n",
      "121:\tlearn: 0.2816132\ttotal: 9.53s\tremaining: 29.5s\n",
      "122:\tlearn: 0.2806238\ttotal: 9.61s\tremaining: 29.4s\n",
      "123:\tlearn: 0.2786319\ttotal: 9.68s\tremaining: 29.3s\n",
      "124:\tlearn: 0.2767119\ttotal: 9.74s\tremaining: 29.2s\n",
      "125:\tlearn: 0.2752346\ttotal: 9.81s\tremaining: 29.1s\n",
      "126:\tlearn: 0.2733380\ttotal: 9.88s\tremaining: 29s\n",
      "127:\tlearn: 0.2727228\ttotal: 9.94s\tremaining: 28.9s\n",
      "128:\tlearn: 0.2713876\ttotal: 10s\tremaining: 28.8s\n",
      "129:\tlearn: 0.2695116\ttotal: 10.1s\tremaining: 28.7s\n",
      "130:\tlearn: 0.2687209\ttotal: 10.2s\tremaining: 28.6s\n",
      "131:\tlearn: 0.2676973\ttotal: 10.2s\tremaining: 28.5s\n",
      "132:\tlearn: 0.2668302\ttotal: 10.3s\tremaining: 28.4s\n",
      "133:\tlearn: 0.2659677\ttotal: 10.3s\tremaining: 28.3s\n",
      "134:\tlearn: 0.2648452\ttotal: 10.4s\tremaining: 28.2s\n",
      "135:\tlearn: 0.2635822\ttotal: 10.5s\tremaining: 28s\n",
      "136:\tlearn: 0.2623885\ttotal: 10.6s\tremaining: 28s\n",
      "137:\tlearn: 0.2612304\ttotal: 10.6s\tremaining: 27.9s\n",
      "138:\tlearn: 0.2593664\ttotal: 10.7s\tremaining: 27.8s\n",
      "139:\tlearn: 0.2585571\ttotal: 10.8s\tremaining: 27.7s\n",
      "140:\tlearn: 0.2577479\ttotal: 10.8s\tremaining: 27.6s\n",
      "141:\tlearn: 0.2560206\ttotal: 10.9s\tremaining: 27.5s\n",
      "142:\tlearn: 0.2543384\ttotal: 11s\tremaining: 27.4s\n",
      "143:\tlearn: 0.2530184\ttotal: 11s\tremaining: 27.3s\n",
      "144:\tlearn: 0.2519188\ttotal: 11.1s\tremaining: 27.2s\n",
      "145:\tlearn: 0.2497290\ttotal: 11.2s\tremaining: 27.1s\n",
      "146:\tlearn: 0.2486832\ttotal: 11.2s\tremaining: 27s\n",
      "147:\tlearn: 0.2476133\ttotal: 11.3s\tremaining: 26.9s\n",
      "148:\tlearn: 0.2467245\ttotal: 11.4s\tremaining: 26.8s\n",
      "149:\tlearn: 0.2448393\ttotal: 11.5s\tremaining: 26.7s\n",
      "150:\tlearn: 0.2445412\ttotal: 11.5s\tremaining: 26.6s\n",
      "151:\tlearn: 0.2430571\ttotal: 11.6s\tremaining: 26.5s\n",
      "152:\tlearn: 0.2416797\ttotal: 11.7s\tremaining: 26.5s\n",
      "153:\tlearn: 0.2411235\ttotal: 11.7s\tremaining: 26.4s\n",
      "154:\tlearn: 0.2400941\ttotal: 11.8s\tremaining: 26.3s\n",
      "155:\tlearn: 0.2393272\ttotal: 11.9s\tremaining: 26.2s\n",
      "156:\tlearn: 0.2380925\ttotal: 11.9s\tremaining: 26.1s\n",
      "157:\tlearn: 0.2375568\ttotal: 12s\tremaining: 26s\n",
      "158:\tlearn: 0.2360906\ttotal: 12.1s\tremaining: 25.9s\n",
      "159:\tlearn: 0.2349746\ttotal: 12.1s\tremaining: 25.8s\n",
      "160:\tlearn: 0.2345517\ttotal: 12.2s\tremaining: 25.7s\n",
      "161:\tlearn: 0.2334336\ttotal: 12.3s\tremaining: 25.6s\n",
      "162:\tlearn: 0.2327131\ttotal: 12.3s\tremaining: 25.5s\n",
      "163:\tlearn: 0.2315205\ttotal: 12.5s\tremaining: 25.6s\n",
      "164:\tlearn: 0.2306014\ttotal: 12.7s\tremaining: 25.9s\n",
      "165:\tlearn: 0.2297815\ttotal: 13s\tremaining: 26.1s\n",
      "166:\tlearn: 0.2295229\ttotal: 13.2s\tremaining: 26.3s\n",
      "167:\tlearn: 0.2287262\ttotal: 13.4s\tremaining: 26.5s\n",
      "168:\tlearn: 0.2279669\ttotal: 13.6s\tremaining: 26.5s\n",
      "169:\tlearn: 0.2272234\ttotal: 13.7s\tremaining: 26.6s\n",
      "170:\tlearn: 0.2267973\ttotal: 13.7s\tremaining: 26.4s\n",
      "171:\tlearn: 0.2258801\ttotal: 13.8s\tremaining: 26.3s\n",
      "172:\tlearn: 0.2244676\ttotal: 13.9s\tremaining: 26.2s\n",
      "173:\tlearn: 0.2232855\ttotal: 13.9s\tremaining: 26.1s\n",
      "174:\tlearn: 0.2223575\ttotal: 14s\tremaining: 26.1s\n",
      "175:\tlearn: 0.2219222\ttotal: 14.3s\tremaining: 26.3s\n",
      "176:\tlearn: 0.2207918\ttotal: 14.5s\tremaining: 26.5s\n",
      "177:\tlearn: 0.2204355\ttotal: 14.8s\tremaining: 26.7s\n",
      "178:\tlearn: 0.2192393\ttotal: 15s\tremaining: 26.8s\n",
      "179:\tlearn: 0.2180431\ttotal: 15.2s\tremaining: 26.9s\n",
      "180:\tlearn: 0.2172209\ttotal: 15.2s\tremaining: 26.9s\n",
      "181:\tlearn: 0.2163528\ttotal: 15.3s\tremaining: 26.8s\n",
      "182:\tlearn: 0.2157272\ttotal: 15.4s\tremaining: 26.7s\n",
      "183:\tlearn: 0.2153379\ttotal: 15.5s\tremaining: 26.5s\n",
      "184:\tlearn: 0.2151468\ttotal: 15.5s\tremaining: 26.4s\n",
      "185:\tlearn: 0.2148835\ttotal: 15.6s\tremaining: 26.3s\n",
      "186:\tlearn: 0.2137081\ttotal: 15.7s\tremaining: 26.2s\n",
      "187:\tlearn: 0.2132991\ttotal: 15.7s\tremaining: 26.1s\n",
      "188:\tlearn: 0.2126882\ttotal: 15.8s\tremaining: 26s\n",
      "189:\tlearn: 0.2122804\ttotal: 15.9s\tremaining: 25.9s\n",
      "190:\tlearn: 0.2116061\ttotal: 15.9s\tremaining: 25.8s\n",
      "191:\tlearn: 0.2111336\ttotal: 16s\tremaining: 25.6s\n",
      "192:\tlearn: 0.2106069\ttotal: 16.1s\tremaining: 25.5s\n",
      "193:\tlearn: 0.2097164\ttotal: 16.1s\tremaining: 25.4s\n",
      "194:\tlearn: 0.2089063\ttotal: 16.2s\tremaining: 25.3s\n",
      "195:\tlearn: 0.2076422\ttotal: 16.3s\tremaining: 25.2s\n",
      "196:\tlearn: 0.2069637\ttotal: 16.3s\tremaining: 25.1s\n",
      "197:\tlearn: 0.2059818\ttotal: 16.4s\tremaining: 25s\n",
      "198:\tlearn: 0.2052796\ttotal: 16.5s\tremaining: 24.9s\n",
      "199:\tlearn: 0.2044455\ttotal: 16.5s\tremaining: 24.8s\n",
      "200:\tlearn: 0.2040891\ttotal: 16.6s\tremaining: 24.7s\n",
      "201:\tlearn: 0.2034751\ttotal: 16.7s\tremaining: 24.6s\n",
      "202:\tlearn: 0.2027682\ttotal: 16.7s\tremaining: 24.5s\n",
      "203:\tlearn: 0.2021434\ttotal: 16.8s\tremaining: 24.4s\n",
      "204:\tlearn: 0.2017339\ttotal: 16.9s\tremaining: 24.3s\n",
      "205:\tlearn: 0.2008860\ttotal: 16.9s\tremaining: 24.2s\n",
      "206:\tlearn: 0.1998287\ttotal: 17s\tremaining: 24.1s\n",
      "207:\tlearn: 0.1993047\ttotal: 17.1s\tremaining: 24s\n",
      "208:\tlearn: 0.1988742\ttotal: 17.1s\tremaining: 23.9s\n",
      "209:\tlearn: 0.1984038\ttotal: 17.2s\tremaining: 23.7s\n",
      "210:\tlearn: 0.1980179\ttotal: 17.3s\tremaining: 23.6s\n",
      "211:\tlearn: 0.1975297\ttotal: 17.3s\tremaining: 23.5s\n",
      "212:\tlearn: 0.1972954\ttotal: 17.4s\tremaining: 23.5s\n",
      "213:\tlearn: 0.1964898\ttotal: 17.5s\tremaining: 23.4s\n",
      "214:\tlearn: 0.1959062\ttotal: 17.5s\tremaining: 23.3s\n",
      "215:\tlearn: 0.1952429\ttotal: 17.6s\tremaining: 23.2s\n",
      "216:\tlearn: 0.1945930\ttotal: 17.7s\tremaining: 23.1s\n",
      "217:\tlearn: 0.1943469\ttotal: 17.8s\tremaining: 23s\n",
      "218:\tlearn: 0.1934119\ttotal: 17.8s\tremaining: 22.9s\n",
      "219:\tlearn: 0.1926223\ttotal: 17.9s\tremaining: 22.8s\n",
      "220:\tlearn: 0.1918759\ttotal: 17.9s\tremaining: 22.7s\n",
      "221:\tlearn: 0.1911040\ttotal: 18s\tremaining: 22.6s\n",
      "222:\tlearn: 0.1899732\ttotal: 18.1s\tremaining: 22.5s\n",
      "223:\tlearn: 0.1896054\ttotal: 18.1s\tremaining: 22.4s\n",
      "224:\tlearn: 0.1884701\ttotal: 18.2s\tremaining: 22.3s\n",
      "225:\tlearn: 0.1880298\ttotal: 18.3s\tremaining: 22.2s\n",
      "226:\tlearn: 0.1873670\ttotal: 18.3s\tremaining: 22.1s\n",
      "227:\tlearn: 0.1866266\ttotal: 18.4s\tremaining: 22s\n",
      "228:\tlearn: 0.1859706\ttotal: 18.5s\tremaining: 21.9s\n",
      "229:\tlearn: 0.1854375\ttotal: 18.5s\tremaining: 21.8s\n",
      "230:\tlearn: 0.1850948\ttotal: 18.6s\tremaining: 21.7s\n",
      "231:\tlearn: 0.1843455\ttotal: 18.7s\tremaining: 21.6s\n",
      "232:\tlearn: 0.1839130\ttotal: 18.8s\tremaining: 21.5s\n",
      "233:\tlearn: 0.1835858\ttotal: 18.8s\tremaining: 21.4s\n",
      "234:\tlearn: 0.1830282\ttotal: 18.9s\tremaining: 21.3s\n",
      "235:\tlearn: 0.1825308\ttotal: 19s\tremaining: 21.2s\n",
      "236:\tlearn: 0.1817077\ttotal: 19s\tremaining: 21.1s\n",
      "237:\tlearn: 0.1812461\ttotal: 19.1s\tremaining: 21s\n",
      "238:\tlearn: 0.1806213\ttotal: 19.1s\tremaining: 20.9s\n",
      "239:\tlearn: 0.1802131\ttotal: 19.2s\tremaining: 20.8s\n",
      "240:\tlearn: 0.1797768\ttotal: 19.3s\tremaining: 20.7s\n",
      "241:\tlearn: 0.1791641\ttotal: 19.3s\tremaining: 20.6s\n",
      "242:\tlearn: 0.1785742\ttotal: 19.4s\tremaining: 20.5s\n",
      "243:\tlearn: 0.1782562\ttotal: 19.5s\tremaining: 20.4s\n",
      "244:\tlearn: 0.1777602\ttotal: 19.6s\tremaining: 20.3s\n",
      "245:\tlearn: 0.1772725\ttotal: 19.6s\tremaining: 20.3s\n",
      "246:\tlearn: 0.1767508\ttotal: 19.7s\tremaining: 20.2s\n",
      "247:\tlearn: 0.1761356\ttotal: 19.8s\tremaining: 20.1s\n",
      "248:\tlearn: 0.1756046\ttotal: 19.8s\tremaining: 20s\n",
      "249:\tlearn: 0.1752176\ttotal: 19.9s\tremaining: 19.9s\n",
      "250:\tlearn: 0.1748881\ttotal: 20s\tremaining: 19.8s\n",
      "251:\tlearn: 0.1744551\ttotal: 20s\tremaining: 19.7s\n",
      "252:\tlearn: 0.1741197\ttotal: 20.1s\tremaining: 19.6s\n",
      "253:\tlearn: 0.1735703\ttotal: 20.2s\tremaining: 19.5s\n",
      "254:\tlearn: 0.1731081\ttotal: 20.2s\tremaining: 19.4s\n",
      "255:\tlearn: 0.1728886\ttotal: 20.3s\tremaining: 19.4s\n",
      "256:\tlearn: 0.1719205\ttotal: 20.4s\tremaining: 19.3s\n",
      "257:\tlearn: 0.1711320\ttotal: 20.4s\tremaining: 19.2s\n",
      "258:\tlearn: 0.1706537\ttotal: 20.5s\tremaining: 19.1s\n",
      "259:\tlearn: 0.1702074\ttotal: 20.6s\tremaining: 19s\n",
      "260:\tlearn: 0.1695126\ttotal: 20.6s\tremaining: 18.9s\n",
      "261:\tlearn: 0.1687284\ttotal: 20.7s\tremaining: 18.8s\n",
      "262:\tlearn: 0.1684997\ttotal: 20.8s\tremaining: 18.7s\n",
      "263:\tlearn: 0.1681944\ttotal: 20.9s\tremaining: 18.6s\n",
      "264:\tlearn: 0.1679886\ttotal: 20.9s\tremaining: 18.6s\n",
      "265:\tlearn: 0.1677689\ttotal: 21s\tremaining: 18.5s\n",
      "266:\tlearn: 0.1674781\ttotal: 21.1s\tremaining: 18.4s\n",
      "267:\tlearn: 0.1670959\ttotal: 21.1s\tremaining: 18.3s\n",
      "268:\tlearn: 0.1665849\ttotal: 21.2s\tremaining: 18.2s\n",
      "269:\tlearn: 0.1657629\ttotal: 21.3s\tremaining: 18.1s\n",
      "270:\tlearn: 0.1649289\ttotal: 21.3s\tremaining: 18s\n",
      "271:\tlearn: 0.1647045\ttotal: 21.4s\tremaining: 17.9s\n",
      "272:\tlearn: 0.1638010\ttotal: 21.5s\tremaining: 17.8s\n",
      "273:\tlearn: 0.1635663\ttotal: 21.5s\tremaining: 17.8s\n",
      "274:\tlearn: 0.1629946\ttotal: 21.6s\tremaining: 17.7s\n",
      "275:\tlearn: 0.1622710\ttotal: 21.7s\tremaining: 17.6s\n",
      "276:\tlearn: 0.1615531\ttotal: 21.7s\tremaining: 17.5s\n",
      "277:\tlearn: 0.1611046\ttotal: 21.8s\tremaining: 17.4s\n",
      "278:\tlearn: 0.1603689\ttotal: 21.9s\tremaining: 17.3s\n",
      "279:\tlearn: 0.1599291\ttotal: 21.9s\tremaining: 17.2s\n",
      "280:\tlearn: 0.1594038\ttotal: 22s\tremaining: 17.2s\n",
      "281:\tlearn: 0.1585179\ttotal: 22.1s\tremaining: 17.1s\n",
      "282:\tlearn: 0.1577137\ttotal: 22.1s\tremaining: 17s\n",
      "283:\tlearn: 0.1570593\ttotal: 22.2s\tremaining: 16.9s\n",
      "284:\tlearn: 0.1566695\ttotal: 22.3s\tremaining: 16.8s\n",
      "285:\tlearn: 0.1560124\ttotal: 22.4s\tremaining: 16.7s\n",
      "286:\tlearn: 0.1556601\ttotal: 22.4s\tremaining: 16.6s\n",
      "287:\tlearn: 0.1553994\ttotal: 22.5s\tremaining: 16.6s\n",
      "288:\tlearn: 0.1549897\ttotal: 22.6s\tremaining: 16.5s\n",
      "289:\tlearn: 0.1547202\ttotal: 22.6s\tremaining: 16.4s\n",
      "290:\tlearn: 0.1541574\ttotal: 22.7s\tremaining: 16.3s\n",
      "291:\tlearn: 0.1534623\ttotal: 22.8s\tremaining: 16.2s\n",
      "292:\tlearn: 0.1533134\ttotal: 22.8s\tremaining: 16.1s\n",
      "293:\tlearn: 0.1530331\ttotal: 22.9s\tremaining: 16s\n",
      "294:\tlearn: 0.1527525\ttotal: 23s\tremaining: 16s\n",
      "295:\tlearn: 0.1525769\ttotal: 23s\tremaining: 15.9s\n",
      "296:\tlearn: 0.1520744\ttotal: 23.1s\tremaining: 15.8s\n",
      "297:\tlearn: 0.1517449\ttotal: 23.2s\tremaining: 15.7s\n",
      "298:\tlearn: 0.1513871\ttotal: 23.2s\tremaining: 15.6s\n",
      "299:\tlearn: 0.1507895\ttotal: 23.3s\tremaining: 15.5s\n",
      "300:\tlearn: 0.1499242\ttotal: 23.4s\tremaining: 15.5s\n",
      "301:\tlearn: 0.1496191\ttotal: 23.4s\tremaining: 15.4s\n",
      "302:\tlearn: 0.1493635\ttotal: 23.5s\tremaining: 15.3s\n",
      "303:\tlearn: 0.1491223\ttotal: 23.6s\tremaining: 15.2s\n",
      "304:\tlearn: 0.1487653\ttotal: 23.7s\tremaining: 15.1s\n",
      "305:\tlearn: 0.1483901\ttotal: 23.7s\tremaining: 15s\n",
      "306:\tlearn: 0.1480583\ttotal: 23.8s\tremaining: 15s\n",
      "307:\tlearn: 0.1471092\ttotal: 23.9s\tremaining: 14.9s\n",
      "308:\tlearn: 0.1465006\ttotal: 23.9s\tremaining: 14.8s\n",
      "309:\tlearn: 0.1460397\ttotal: 24s\tremaining: 14.7s\n",
      "310:\tlearn: 0.1456577\ttotal: 24.1s\tremaining: 14.6s\n",
      "311:\tlearn: 0.1451071\ttotal: 24.1s\tremaining: 14.5s\n",
      "312:\tlearn: 0.1448872\ttotal: 24.2s\tremaining: 14.5s\n",
      "313:\tlearn: 0.1444903\ttotal: 24.3s\tremaining: 14.4s\n",
      "314:\tlearn: 0.1441685\ttotal: 24.3s\tremaining: 14.3s\n",
      "315:\tlearn: 0.1439506\ttotal: 24.4s\tremaining: 14.2s\n",
      "316:\tlearn: 0.1437844\ttotal: 24.5s\tremaining: 14.1s\n",
      "317:\tlearn: 0.1435229\ttotal: 24.5s\tremaining: 14s\n",
      "318:\tlearn: 0.1431081\ttotal: 24.6s\tremaining: 14s\n",
      "319:\tlearn: 0.1428135\ttotal: 24.7s\tremaining: 13.9s\n",
      "320:\tlearn: 0.1425384\ttotal: 24.7s\tremaining: 13.8s\n",
      "321:\tlearn: 0.1422033\ttotal: 24.8s\tremaining: 13.7s\n",
      "322:\tlearn: 0.1417848\ttotal: 24.9s\tremaining: 13.6s\n",
      "323:\tlearn: 0.1415885\ttotal: 25s\tremaining: 13.6s\n",
      "324:\tlearn: 0.1412484\ttotal: 25s\tremaining: 13.5s\n",
      "325:\tlearn: 0.1406784\ttotal: 25.1s\tremaining: 13.4s\n",
      "326:\tlearn: 0.1403722\ttotal: 25.2s\tremaining: 13.3s\n",
      "327:\tlearn: 0.1401396\ttotal: 25.2s\tremaining: 13.2s\n",
      "328:\tlearn: 0.1398432\ttotal: 25.3s\tremaining: 13.1s\n",
      "329:\tlearn: 0.1395511\ttotal: 25.4s\tremaining: 13.1s\n",
      "330:\tlearn: 0.1390696\ttotal: 25.4s\tremaining: 13s\n",
      "331:\tlearn: 0.1387974\ttotal: 25.5s\tremaining: 12.9s\n",
      "332:\tlearn: 0.1382063\ttotal: 25.6s\tremaining: 12.8s\n",
      "333:\tlearn: 0.1379758\ttotal: 25.6s\tremaining: 12.7s\n",
      "334:\tlearn: 0.1375412\ttotal: 25.7s\tremaining: 12.7s\n",
      "335:\tlearn: 0.1374052\ttotal: 25.8s\tremaining: 12.6s\n",
      "336:\tlearn: 0.1369038\ttotal: 25.9s\tremaining: 12.5s\n",
      "337:\tlearn: 0.1363945\ttotal: 25.9s\tremaining: 12.4s\n",
      "338:\tlearn: 0.1360390\ttotal: 26s\tremaining: 12.3s\n",
      "339:\tlearn: 0.1358983\ttotal: 26.1s\tremaining: 12.3s\n",
      "340:\tlearn: 0.1354394\ttotal: 26.1s\tremaining: 12.2s\n",
      "341:\tlearn: 0.1351160\ttotal: 26.2s\tremaining: 12.1s\n",
      "342:\tlearn: 0.1347121\ttotal: 26.3s\tremaining: 12s\n",
      "343:\tlearn: 0.1342514\ttotal: 26.3s\tremaining: 11.9s\n",
      "344:\tlearn: 0.1340068\ttotal: 26.4s\tremaining: 11.9s\n",
      "345:\tlearn: 0.1338320\ttotal: 26.5s\tremaining: 11.8s\n",
      "346:\tlearn: 0.1336169\ttotal: 26.5s\tremaining: 11.7s\n",
      "347:\tlearn: 0.1333514\ttotal: 26.6s\tremaining: 11.6s\n",
      "348:\tlearn: 0.1332880\ttotal: 26.7s\tremaining: 11.5s\n",
      "349:\tlearn: 0.1328991\ttotal: 26.7s\tremaining: 11.5s\n",
      "350:\tlearn: 0.1325272\ttotal: 26.8s\tremaining: 11.4s\n",
      "351:\tlearn: 0.1322249\ttotal: 26.9s\tremaining: 11.3s\n",
      "352:\tlearn: 0.1317243\ttotal: 26.9s\tremaining: 11.2s\n",
      "353:\tlearn: 0.1315841\ttotal: 27s\tremaining: 11.1s\n",
      "354:\tlearn: 0.1313393\ttotal: 27.1s\tremaining: 11.1s\n",
      "355:\tlearn: 0.1311598\ttotal: 27.1s\tremaining: 11s\n",
      "356:\tlearn: 0.1309166\ttotal: 27.2s\tremaining: 10.9s\n",
      "357:\tlearn: 0.1307487\ttotal: 27.3s\tremaining: 10.8s\n",
      "358:\tlearn: 0.1304917\ttotal: 27.3s\tremaining: 10.7s\n",
      "359:\tlearn: 0.1302345\ttotal: 27.4s\tremaining: 10.7s\n",
      "360:\tlearn: 0.1299869\ttotal: 27.5s\tremaining: 10.6s\n",
      "361:\tlearn: 0.1298279\ttotal: 27.6s\tremaining: 10.5s\n",
      "362:\tlearn: 0.1295099\ttotal: 27.6s\tremaining: 10.4s\n",
      "363:\tlearn: 0.1292041\ttotal: 27.7s\tremaining: 10.3s\n",
      "364:\tlearn: 0.1290195\ttotal: 27.8s\tremaining: 10.3s\n",
      "365:\tlearn: 0.1288484\ttotal: 27.8s\tremaining: 10.2s\n",
      "366:\tlearn: 0.1287714\ttotal: 27.9s\tremaining: 10.1s\n",
      "367:\tlearn: 0.1286014\ttotal: 28s\tremaining: 10s\n",
      "368:\tlearn: 0.1282502\ttotal: 28s\tremaining: 9.95s\n",
      "369:\tlearn: 0.1278156\ttotal: 28.1s\tremaining: 9.87s\n",
      "370:\tlearn: 0.1276353\ttotal: 28.2s\tremaining: 9.79s\n",
      "371:\tlearn: 0.1271296\ttotal: 28.2s\tremaining: 9.71s\n",
      "372:\tlearn: 0.1269364\ttotal: 28.3s\tremaining: 9.63s\n",
      "373:\tlearn: 0.1265876\ttotal: 28.4s\tremaining: 9.56s\n",
      "374:\tlearn: 0.1264538\ttotal: 28.4s\tremaining: 9.48s\n",
      "375:\tlearn: 0.1262617\ttotal: 28.5s\tremaining: 9.4s\n",
      "376:\tlearn: 0.1260865\ttotal: 28.6s\tremaining: 9.32s\n",
      "377:\tlearn: 0.1257421\ttotal: 28.6s\tremaining: 9.24s\n",
      "378:\tlearn: 0.1255291\ttotal: 28.7s\tremaining: 9.17s\n",
      "379:\tlearn: 0.1254506\ttotal: 28.8s\tremaining: 9.09s\n",
      "380:\tlearn: 0.1252428\ttotal: 28.9s\tremaining: 9.01s\n",
      "381:\tlearn: 0.1250043\ttotal: 28.9s\tremaining: 8.94s\n",
      "382:\tlearn: 0.1248403\ttotal: 29s\tremaining: 8.86s\n",
      "383:\tlearn: 0.1247622\ttotal: 29.1s\tremaining: 8.78s\n",
      "384:\tlearn: 0.1246982\ttotal: 29.1s\tremaining: 8.7s\n",
      "385:\tlearn: 0.1245374\ttotal: 29.2s\tremaining: 8.62s\n",
      "386:\tlearn: 0.1242523\ttotal: 29.3s\tremaining: 8.55s\n",
      "387:\tlearn: 0.1240010\ttotal: 29.3s\tremaining: 8.47s\n",
      "388:\tlearn: 0.1235953\ttotal: 29.4s\tremaining: 8.39s\n",
      "389:\tlearn: 0.1232109\ttotal: 29.5s\tremaining: 8.31s\n",
      "390:\tlearn: 0.1229226\ttotal: 29.5s\tremaining: 8.23s\n",
      "391:\tlearn: 0.1226863\ttotal: 29.6s\tremaining: 8.15s\n",
      "392:\tlearn: 0.1225089\ttotal: 29.7s\tremaining: 8.08s\n",
      "393:\tlearn: 0.1224169\ttotal: 29.7s\tremaining: 8s\n",
      "394:\tlearn: 0.1221322\ttotal: 29.8s\tremaining: 7.92s\n",
      "395:\tlearn: 0.1220336\ttotal: 29.9s\tremaining: 7.84s\n",
      "396:\tlearn: 0.1218683\ttotal: 29.9s\tremaining: 7.77s\n",
      "397:\tlearn: 0.1217741\ttotal: 30s\tremaining: 7.69s\n",
      "398:\tlearn: 0.1216397\ttotal: 30.1s\tremaining: 7.61s\n",
      "399:\tlearn: 0.1213735\ttotal: 30.1s\tremaining: 7.54s\n",
      "400:\tlearn: 0.1211089\ttotal: 30.2s\tremaining: 7.46s\n",
      "401:\tlearn: 0.1207683\ttotal: 30.3s\tremaining: 7.38s\n",
      "402:\tlearn: 0.1205076\ttotal: 30.4s\tremaining: 7.31s\n",
      "403:\tlearn: 0.1201896\ttotal: 30.4s\tremaining: 7.23s\n",
      "404:\tlearn: 0.1198839\ttotal: 30.5s\tremaining: 7.15s\n",
      "405:\tlearn: 0.1197879\ttotal: 30.6s\tremaining: 7.08s\n",
      "406:\tlearn: 0.1194234\ttotal: 30.6s\tremaining: 7s\n",
      "407:\tlearn: 0.1193335\ttotal: 30.7s\tremaining: 6.92s\n",
      "408:\tlearn: 0.1190574\ttotal: 30.8s\tremaining: 6.84s\n",
      "409:\tlearn: 0.1188975\ttotal: 30.8s\tremaining: 6.77s\n",
      "410:\tlearn: 0.1187427\ttotal: 30.9s\tremaining: 6.69s\n",
      "411:\tlearn: 0.1186203\ttotal: 31s\tremaining: 6.61s\n",
      "412:\tlearn: 0.1183990\ttotal: 31s\tremaining: 6.54s\n",
      "413:\tlearn: 0.1181435\ttotal: 31.1s\tremaining: 6.46s\n",
      "414:\tlearn: 0.1179438\ttotal: 31.2s\tremaining: 6.38s\n",
      "415:\tlearn: 0.1173754\ttotal: 31.2s\tremaining: 6.31s\n",
      "416:\tlearn: 0.1172750\ttotal: 31.3s\tremaining: 6.23s\n",
      "417:\tlearn: 0.1168793\ttotal: 31.4s\tremaining: 6.16s\n",
      "418:\tlearn: 0.1166494\ttotal: 31.4s\tremaining: 6.08s\n",
      "419:\tlearn: 0.1164805\ttotal: 31.5s\tremaining: 6s\n",
      "420:\tlearn: 0.1162301\ttotal: 31.6s\tremaining: 5.92s\n",
      "421:\tlearn: 0.1160117\ttotal: 31.6s\tremaining: 5.85s\n",
      "422:\tlearn: 0.1158311\ttotal: 31.7s\tremaining: 5.77s\n",
      "423:\tlearn: 0.1156000\ttotal: 31.8s\tremaining: 5.7s\n",
      "424:\tlearn: 0.1154624\ttotal: 31.8s\tremaining: 5.62s\n",
      "425:\tlearn: 0.1153498\ttotal: 31.9s\tremaining: 5.54s\n",
      "426:\tlearn: 0.1151706\ttotal: 32s\tremaining: 5.47s\n",
      "427:\tlearn: 0.1149364\ttotal: 32s\tremaining: 5.39s\n",
      "428:\tlearn: 0.1147738\ttotal: 32.1s\tremaining: 5.31s\n",
      "429:\tlearn: 0.1147012\ttotal: 32.2s\tremaining: 5.24s\n",
      "430:\tlearn: 0.1144852\ttotal: 32.2s\tremaining: 5.16s\n",
      "431:\tlearn: 0.1143792\ttotal: 32.3s\tremaining: 5.09s\n",
      "432:\tlearn: 0.1141540\ttotal: 32.4s\tremaining: 5.01s\n",
      "433:\tlearn: 0.1139900\ttotal: 32.5s\tremaining: 4.93s\n",
      "434:\tlearn: 0.1138196\ttotal: 32.5s\tremaining: 4.86s\n",
      "435:\tlearn: 0.1136720\ttotal: 32.6s\tremaining: 4.78s\n",
      "436:\tlearn: 0.1135055\ttotal: 32.7s\tremaining: 4.71s\n",
      "437:\tlearn: 0.1134198\ttotal: 32.7s\tremaining: 4.63s\n",
      "438:\tlearn: 0.1133429\ttotal: 32.8s\tremaining: 4.56s\n",
      "439:\tlearn: 0.1129293\ttotal: 32.9s\tremaining: 4.48s\n",
      "440:\tlearn: 0.1126092\ttotal: 32.9s\tremaining: 4.41s\n",
      "441:\tlearn: 0.1125342\ttotal: 33s\tremaining: 4.33s\n",
      "442:\tlearn: 0.1122683\ttotal: 33.1s\tremaining: 4.25s\n",
      "443:\tlearn: 0.1120728\ttotal: 33.1s\tremaining: 4.18s\n",
      "444:\tlearn: 0.1119767\ttotal: 33.2s\tremaining: 4.1s\n",
      "445:\tlearn: 0.1118484\ttotal: 33.3s\tremaining: 4.03s\n",
      "446:\tlearn: 0.1115987\ttotal: 33.3s\tremaining: 3.95s\n",
      "447:\tlearn: 0.1114363\ttotal: 33.4s\tremaining: 3.88s\n",
      "448:\tlearn: 0.1113621\ttotal: 33.5s\tremaining: 3.8s\n",
      "449:\tlearn: 0.1112319\ttotal: 33.5s\tremaining: 3.73s\n",
      "450:\tlearn: 0.1111619\ttotal: 33.6s\tremaining: 3.65s\n",
      "451:\tlearn: 0.1108954\ttotal: 33.7s\tremaining: 3.58s\n",
      "452:\tlearn: 0.1107018\ttotal: 33.7s\tremaining: 3.5s\n",
      "453:\tlearn: 0.1105083\ttotal: 33.8s\tremaining: 3.42s\n",
      "454:\tlearn: 0.1102824\ttotal: 33.9s\tremaining: 3.35s\n",
      "455:\tlearn: 0.1101200\ttotal: 33.9s\tremaining: 3.27s\n",
      "456:\tlearn: 0.1099902\ttotal: 34s\tremaining: 3.2s\n",
      "457:\tlearn: 0.1099166\ttotal: 34.1s\tremaining: 3.13s\n",
      "458:\tlearn: 0.1098281\ttotal: 34.1s\tremaining: 3.05s\n",
      "459:\tlearn: 0.1096075\ttotal: 34.2s\tremaining: 2.97s\n",
      "460:\tlearn: 0.1095072\ttotal: 34.3s\tremaining: 2.9s\n",
      "461:\tlearn: 0.1093877\ttotal: 34.3s\tremaining: 2.82s\n",
      "462:\tlearn: 0.1091182\ttotal: 34.4s\tremaining: 2.75s\n",
      "463:\tlearn: 0.1090400\ttotal: 34.5s\tremaining: 2.67s\n",
      "464:\tlearn: 0.1087059\ttotal: 34.5s\tremaining: 2.6s\n",
      "465:\tlearn: 0.1084954\ttotal: 34.6s\tremaining: 2.52s\n",
      "466:\tlearn: 0.1082434\ttotal: 34.7s\tremaining: 2.45s\n",
      "467:\tlearn: 0.1080962\ttotal: 34.7s\tremaining: 2.38s\n",
      "468:\tlearn: 0.1078926\ttotal: 34.8s\tremaining: 2.3s\n",
      "469:\tlearn: 0.1077826\ttotal: 34.9s\tremaining: 2.23s\n",
      "470:\tlearn: 0.1076933\ttotal: 35s\tremaining: 2.15s\n",
      "471:\tlearn: 0.1075728\ttotal: 35s\tremaining: 2.08s\n",
      "472:\tlearn: 0.1074421\ttotal: 35.1s\tremaining: 2s\n",
      "473:\tlearn: 0.1073458\ttotal: 35.2s\tremaining: 1.93s\n",
      "474:\tlearn: 0.1072077\ttotal: 35.2s\tremaining: 1.85s\n",
      "475:\tlearn: 0.1069762\ttotal: 35.3s\tremaining: 1.78s\n",
      "476:\tlearn: 0.1068177\ttotal: 35.4s\tremaining: 1.7s\n",
      "477:\tlearn: 0.1066412\ttotal: 35.4s\tremaining: 1.63s\n",
      "478:\tlearn: 0.1064023\ttotal: 35.5s\tremaining: 1.55s\n",
      "479:\tlearn: 0.1063778\ttotal: 35.6s\tremaining: 1.48s\n",
      "480:\tlearn: 0.1061488\ttotal: 35.6s\tremaining: 1.41s\n",
      "481:\tlearn: 0.1060677\ttotal: 35.7s\tremaining: 1.33s\n",
      "482:\tlearn: 0.1059346\ttotal: 35.8s\tremaining: 1.26s\n",
      "483:\tlearn: 0.1056316\ttotal: 35.8s\tremaining: 1.18s\n",
      "484:\tlearn: 0.1055385\ttotal: 35.9s\tremaining: 1.11s\n",
      "485:\tlearn: 0.1053872\ttotal: 36s\tremaining: 1.03s\n",
      "486:\tlearn: 0.1052427\ttotal: 36s\tremaining: 962ms\n",
      "487:\tlearn: 0.1051295\ttotal: 36.1s\tremaining: 888ms\n",
      "488:\tlearn: 0.1049736\ttotal: 36.2s\tremaining: 814ms\n",
      "489:\tlearn: 0.1048065\ttotal: 36.2s\tremaining: 739ms\n",
      "490:\tlearn: 0.1046350\ttotal: 36.3s\tremaining: 665ms\n",
      "491:\tlearn: 0.1044840\ttotal: 36.4s\tremaining: 591ms\n",
      "492:\tlearn: 0.1041914\ttotal: 36.4s\tremaining: 517ms\n",
      "493:\tlearn: 0.1041162\ttotal: 36.5s\tremaining: 443ms\n",
      "494:\tlearn: 0.1039959\ttotal: 36.6s\tremaining: 369ms\n",
      "495:\tlearn: 0.1039033\ttotal: 36.6s\tremaining: 296ms\n",
      "496:\tlearn: 0.1037665\ttotal: 36.7s\tremaining: 222ms\n",
      "497:\tlearn: 0.1036048\ttotal: 36.8s\tremaining: 148ms\n",
      "498:\tlearn: 0.1034048\ttotal: 36.9s\tremaining: 73.9ms\n",
      "499:\tlearn: 0.1033594\ttotal: 36.9s\tremaining: 0us\n",
      "CatBoost model is fitted: True\n",
      "CatBoost model parameters:\n",
      "{'iterations': 500, 'learning_rate': 0.15}\n"
     ]
    }
   ],
   "source": [
    "from catboost import CatBoostClassifier\n",
    "\n",
    "clf = CatBoostClassifier(\n",
    "    iterations=500, \n",
    "    learning_rate=0.15, \n",
    "    #loss_function='CrossEntropy'\n",
    ")\n",
    "\n",
    "clf.fit(subset, y_train)\n",
    "\n",
    "print('CatBoost model is fitted: ' + str(clf.is_fitted()))\n",
    "print('CatBoost model parameters:')\n",
    "print(clf.get_params())\n",
    "\n"
   ]
  },
  {
   "cell_type": "code",
   "execution_count": 141,
   "metadata": {
    "colab": {
     "base_uri": "https://localhost:8080/"
    },
    "executionInfo": {
     "elapsed": 385,
     "status": "ok",
     "timestamp": 1670649199104,
     "user": {
      "displayName": "Alagar",
      "userId": "18409237732645261754"
     },
     "user_tz": -480
    },
    "id": "1VKG1ac0bcXK",
    "outputId": "54309416-ade3-40ef-d5a8-7e906f7e131b"
   },
   "outputs": [
    {
     "name": "stdout",
     "output_type": "stream",
     "text": [
      "Accuracy of Model:: 0.779746835443038\n"
     ]
    }
   ],
   "source": [
    "y_pred = clf.predict(X_test_subset)\n",
    "\n",
    "print(\"Accuracy of Model::\",accuracy_score(y_test,y_pred))\n"
   ]
  },
  {
   "cell_type": "code",
   "execution_count": null,
   "metadata": {
    "id": "5lz10T6vbcXM"
   },
   "outputs": [],
   "source": []
  },
  {
   "cell_type": "code",
   "execution_count": null,
   "metadata": {
    "id": "JD6zzMufbOgA"
   },
   "outputs": [],
   "source": []
  }
 ],
 "metadata": {
  "colab": {
   "authorship_tag": "ABX9TyM7bNtT95+Tgi10zIEvzjOy",
   "provenance": [],
   "toc_visible": true
  },
  "kernelspec": {
   "display_name": "Python 3 (ipykernel)",
   "language": "python",
   "name": "python3"
  },
  "language_info": {
   "codemirror_mode": {
    "name": "ipython",
    "version": 3
   },
   "file_extension": ".py",
   "mimetype": "text/x-python",
   "name": "python",
   "nbconvert_exporter": "python",
   "pygments_lexer": "ipython3",
   "version": "3.9.13"
  },
  "widgets": {
   "application/vnd.jupyter.widget-state+json": {
    "32b53b90da30457c84e7f8bb29dd04c9": {
     "model_module": "@jupyter-widgets/controls",
     "model_module_version": "1.5.0",
     "model_name": "HTMLModel",
     "state": {
      "_dom_classes": [],
      "_model_module": "@jupyter-widgets/controls",
      "_model_module_version": "1.5.0",
      "_model_name": "HTMLModel",
      "_view_count": null,
      "_view_module": "@jupyter-widgets/controls",
      "_view_module_version": "1.5.0",
      "_view_name": "HTMLView",
      "description": "",
      "description_tooltip": null,
      "layout": "IPY_MODEL_711f9842ea9a47788c8a12e94478997d",
      "placeholder": "​",
      "style": "IPY_MODEL_ba69843cce6148d489fc5035d63d9a38",
      "value": "100%"
     }
    },
    "6b4587a314184c0882c3e31b06c62587": {
     "model_module": "@jupyter-widgets/base",
     "model_module_version": "1.2.0",
     "model_name": "LayoutModel",
     "state": {
      "_model_module": "@jupyter-widgets/base",
      "_model_module_version": "1.2.0",
      "_model_name": "LayoutModel",
      "_view_count": null,
      "_view_module": "@jupyter-widgets/base",
      "_view_module_version": "1.2.0",
      "_view_name": "LayoutView",
      "align_content": null,
      "align_items": null,
      "align_self": null,
      "border": null,
      "bottom": null,
      "display": null,
      "flex": null,
      "flex_flow": null,
      "grid_area": null,
      "grid_auto_columns": null,
      "grid_auto_flow": null,
      "grid_auto_rows": null,
      "grid_column": null,
      "grid_gap": null,
      "grid_row": null,
      "grid_template_areas": null,
      "grid_template_columns": null,
      "grid_template_rows": null,
      "height": null,
      "justify_content": null,
      "justify_items": null,
      "left": null,
      "margin": null,
      "max_height": null,
      "max_width": null,
      "min_height": null,
      "min_width": null,
      "object_fit": null,
      "object_position": null,
      "order": null,
      "overflow": null,
      "overflow_x": null,
      "overflow_y": null,
      "padding": null,
      "right": null,
      "top": null,
      "visibility": null,
      "width": null
     }
    },
    "6d19a5d71f2e4fdd95eecaa70fb021ac": {
     "model_module": "@jupyter-widgets/controls",
     "model_module_version": "1.5.0",
     "model_name": "DescriptionStyleModel",
     "state": {
      "_model_module": "@jupyter-widgets/controls",
      "_model_module_version": "1.5.0",
      "_model_name": "DescriptionStyleModel",
      "_view_count": null,
      "_view_module": "@jupyter-widgets/base",
      "_view_module_version": "1.2.0",
      "_view_name": "StyleView",
      "description_width": ""
     }
    },
    "711f9842ea9a47788c8a12e94478997d": {
     "model_module": "@jupyter-widgets/base",
     "model_module_version": "1.2.0",
     "model_name": "LayoutModel",
     "state": {
      "_model_module": "@jupyter-widgets/base",
      "_model_module_version": "1.2.0",
      "_model_name": "LayoutModel",
      "_view_count": null,
      "_view_module": "@jupyter-widgets/base",
      "_view_module_version": "1.2.0",
      "_view_name": "LayoutView",
      "align_content": null,
      "align_items": null,
      "align_self": null,
      "border": null,
      "bottom": null,
      "display": null,
      "flex": null,
      "flex_flow": null,
      "grid_area": null,
      "grid_auto_columns": null,
      "grid_auto_flow": null,
      "grid_auto_rows": null,
      "grid_column": null,
      "grid_gap": null,
      "grid_row": null,
      "grid_template_areas": null,
      "grid_template_columns": null,
      "grid_template_rows": null,
      "height": null,
      "justify_content": null,
      "justify_items": null,
      "left": null,
      "margin": null,
      "max_height": null,
      "max_width": null,
      "min_height": null,
      "min_width": null,
      "object_fit": null,
      "object_position": null,
      "order": null,
      "overflow": null,
      "overflow_x": null,
      "overflow_y": null,
      "padding": null,
      "right": null,
      "top": null,
      "visibility": null,
      "width": null
     }
    },
    "7c4328d140324987b283ca148773b024": {
     "model_module": "@jupyter-widgets/controls",
     "model_module_version": "1.5.0",
     "model_name": "HTMLModel",
     "state": {
      "_dom_classes": [],
      "_model_module": "@jupyter-widgets/controls",
      "_model_module_version": "1.5.0",
      "_model_name": "HTMLModel",
      "_view_count": null,
      "_view_module": "@jupyter-widgets/controls",
      "_view_module_version": "1.5.0",
      "_view_name": "HTMLView",
      "description": "",
      "description_tooltip": null,
      "layout": "IPY_MODEL_881b7985ef7f4654ab7ac2b28fb43e34",
      "placeholder": "​",
      "style": "IPY_MODEL_6d19a5d71f2e4fdd95eecaa70fb021ac",
      "value": " 50/50 [13:38&lt;00:00, 15.32s/it]"
     }
    },
    "881b7985ef7f4654ab7ac2b28fb43e34": {
     "model_module": "@jupyter-widgets/base",
     "model_module_version": "1.2.0",
     "model_name": "LayoutModel",
     "state": {
      "_model_module": "@jupyter-widgets/base",
      "_model_module_version": "1.2.0",
      "_model_name": "LayoutModel",
      "_view_count": null,
      "_view_module": "@jupyter-widgets/base",
      "_view_module_version": "1.2.0",
      "_view_name": "LayoutView",
      "align_content": null,
      "align_items": null,
      "align_self": null,
      "border": null,
      "bottom": null,
      "display": null,
      "flex": null,
      "flex_flow": null,
      "grid_area": null,
      "grid_auto_columns": null,
      "grid_auto_flow": null,
      "grid_auto_rows": null,
      "grid_column": null,
      "grid_gap": null,
      "grid_row": null,
      "grid_template_areas": null,
      "grid_template_columns": null,
      "grid_template_rows": null,
      "height": null,
      "justify_content": null,
      "justify_items": null,
      "left": null,
      "margin": null,
      "max_height": null,
      "max_width": null,
      "min_height": null,
      "min_width": null,
      "object_fit": null,
      "object_position": null,
      "order": null,
      "overflow": null,
      "overflow_x": null,
      "overflow_y": null,
      "padding": null,
      "right": null,
      "top": null,
      "visibility": null,
      "width": null
     }
    },
    "8936103a1a1c4672aca496eb65f174da": {
     "model_module": "@jupyter-widgets/controls",
     "model_module_version": "1.5.0",
     "model_name": "FloatProgressModel",
     "state": {
      "_dom_classes": [],
      "_model_module": "@jupyter-widgets/controls",
      "_model_module_version": "1.5.0",
      "_model_name": "FloatProgressModel",
      "_view_count": null,
      "_view_module": "@jupyter-widgets/controls",
      "_view_module_version": "1.5.0",
      "_view_name": "ProgressView",
      "bar_style": "success",
      "description": "",
      "description_tooltip": null,
      "layout": "IPY_MODEL_6b4587a314184c0882c3e31b06c62587",
      "max": 50,
      "min": 0,
      "orientation": "horizontal",
      "style": "IPY_MODEL_bf9c94d7869f48c4a3acaeeea2072801",
      "value": 50
     }
    },
    "a484fb67a4174c1aa57b0b0f9ec03f9d": {
     "model_module": "@jupyter-widgets/base",
     "model_module_version": "1.2.0",
     "model_name": "LayoutModel",
     "state": {
      "_model_module": "@jupyter-widgets/base",
      "_model_module_version": "1.2.0",
      "_model_name": "LayoutModel",
      "_view_count": null,
      "_view_module": "@jupyter-widgets/base",
      "_view_module_version": "1.2.0",
      "_view_name": "LayoutView",
      "align_content": null,
      "align_items": null,
      "align_self": null,
      "border": null,
      "bottom": null,
      "display": null,
      "flex": null,
      "flex_flow": null,
      "grid_area": null,
      "grid_auto_columns": null,
      "grid_auto_flow": null,
      "grid_auto_rows": null,
      "grid_column": null,
      "grid_gap": null,
      "grid_row": null,
      "grid_template_areas": null,
      "grid_template_columns": null,
      "grid_template_rows": null,
      "height": null,
      "justify_content": null,
      "justify_items": null,
      "left": null,
      "margin": null,
      "max_height": null,
      "max_width": null,
      "min_height": null,
      "min_width": null,
      "object_fit": null,
      "object_position": null,
      "order": null,
      "overflow": null,
      "overflow_x": null,
      "overflow_y": null,
      "padding": null,
      "right": null,
      "top": null,
      "visibility": null,
      "width": null
     }
    },
    "ba69843cce6148d489fc5035d63d9a38": {
     "model_module": "@jupyter-widgets/controls",
     "model_module_version": "1.5.0",
     "model_name": "DescriptionStyleModel",
     "state": {
      "_model_module": "@jupyter-widgets/controls",
      "_model_module_version": "1.5.0",
      "_model_name": "DescriptionStyleModel",
      "_view_count": null,
      "_view_module": "@jupyter-widgets/base",
      "_view_module_version": "1.2.0",
      "_view_name": "StyleView",
      "description_width": ""
     }
    },
    "bf9c94d7869f48c4a3acaeeea2072801": {
     "model_module": "@jupyter-widgets/controls",
     "model_module_version": "1.5.0",
     "model_name": "ProgressStyleModel",
     "state": {
      "_model_module": "@jupyter-widgets/controls",
      "_model_module_version": "1.5.0",
      "_model_name": "ProgressStyleModel",
      "_view_count": null,
      "_view_module": "@jupyter-widgets/base",
      "_view_module_version": "1.2.0",
      "_view_name": "StyleView",
      "bar_color": null,
      "description_width": ""
     }
    },
    "e7eca50bff4a4c6c9883e03bb7850fb6": {
     "model_module": "@jupyter-widgets/controls",
     "model_module_version": "1.5.0",
     "model_name": "HBoxModel",
     "state": {
      "_dom_classes": [],
      "_model_module": "@jupyter-widgets/controls",
      "_model_module_version": "1.5.0",
      "_model_name": "HBoxModel",
      "_view_count": null,
      "_view_module": "@jupyter-widgets/controls",
      "_view_module_version": "1.5.0",
      "_view_name": "HBoxView",
      "box_style": "",
      "children": [
       "IPY_MODEL_32b53b90da30457c84e7f8bb29dd04c9",
       "IPY_MODEL_8936103a1a1c4672aca496eb65f174da",
       "IPY_MODEL_7c4328d140324987b283ca148773b024"
      ],
      "layout": "IPY_MODEL_a484fb67a4174c1aa57b0b0f9ec03f9d"
     }
    }
   }
  }
 },
 "nbformat": 4,
 "nbformat_minor": 4
}
