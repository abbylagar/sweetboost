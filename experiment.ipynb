{
 "cells": [
  {
   "cell_type": "code",
   "execution_count": 1,
   "id": "0446e960-d62b-4695-9911-18c1f321588b",
   "metadata": {},
   "outputs": [],
   "source": [
    "import pandas as pd"
   ]
  },
  {
   "cell_type": "code",
   "execution_count": 6,
   "id": "dd12e6ab-5499-4e3c-b145-5eb6541ab3d6",
   "metadata": {},
   "outputs": [],
   "source": [
    "df = pd.read_csv('data/bitter-train.tsv', sep='\\t')[['Name','Canonical SMILES','Bitter']]"
   ]
  },
  {
   "cell_type": "code",
   "execution_count": 8,
   "id": "20e03597-5f45-4f82-9cf3-2f0e5f619cfd",
   "metadata": {},
   "outputs": [],
   "source": [
    "# Create Fingerprint"
   ]
  },
  {
   "cell_type": "code",
   "execution_count": null,
   "id": "b34c7dc5-bf7a-4d43-9a4a-62fd3d780217",
   "metadata": {},
   "outputs": [],
   "source": []
  }
 ],
 "metadata": {
  "kernelspec": {
   "display_name": "Python 3 (ipykernel)",
   "language": "python",
   "name": "python3"
  },
  "language_info": {
   "codemirror_mode": {
    "name": "ipython",
    "version": 3
   },
   "file_extension": ".py",
   "mimetype": "text/x-python",
   "name": "python",
   "nbconvert_exporter": "python",
   "pygments_lexer": "ipython3",
   "version": "3.9.13"
  }
 },
 "nbformat": 4,
 "nbformat_minor": 5
}
